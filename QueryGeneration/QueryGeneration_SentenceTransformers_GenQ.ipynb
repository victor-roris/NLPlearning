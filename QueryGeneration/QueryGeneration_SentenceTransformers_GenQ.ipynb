{
  "nbformat": 4,
  "nbformat_minor": 0,
  "metadata": {
    "colab": {
      "name": "QueryGeneration - SentenceTransformers GenQ.ipynb",
      "provenance": [],
      "authorship_tag": "ABX9TyOKHpKw4iivWJntO12pVYuP",
      "include_colab_link": true
    },
    "kernelspec": {
      "name": "python3",
      "display_name": "Python 3"
    },
    "language_info": {
      "name": "python"
    }
  },
  "cells": [
    {
      "cell_type": "markdown",
      "metadata": {
        "id": "view-in-github",
        "colab_type": "text"
      },
      "source": [
        "<a href=\"https://colab.research.google.com/github/victor-roris/NLPlearning/blob/master/QueryGeneration/QueryGeneration_SentenceTransformers_GenQ.ipynb\" target=\"_parent\"><img src=\"https://colab.research.google.com/assets/colab-badge.svg\" alt=\"Open In Colab\"/></a>"
      ]
    },
    {
      "cell_type": "markdown",
      "metadata": {
        "id": "zO1YgqKeJHQA"
      },
      "source": [
        "# Query Generation - SentenceTransformers GenQ\n",
        "\n",
        "This model is the t5-base model from docTTTTTquery.\n",
        "\n",
        "The T5-base model was trained on the MS MARCO Passage Dataset, which consists of about 500k real search queries from Bing together with the relevant passage.\n",
        "\n",
        "The model can be used for query generation to learn semantic search models without requiring annotated training data: [Synthetic Query Generation](https://github.com/UKPLab/sentence-transformers/tree/master/examples/unsupervised_learning/query_generation).\n",
        "\n",
        "The pretrained models are available in the transformers models hub with the keyword: `BeIR/query-gen-msmarco-t5-large-v1` and `BeIR/query-gen-msmarco-t5-base-v1`\n",
        "\n",
        "Documentation: https://github.com/UKPLab/sentence-transformers/tree/master/examples/unsupervised_learning/query_generation\n"
      ]
    },
    {
      "cell_type": "markdown",
      "metadata": {
        "id": "sI41591RZl7F"
      },
      "source": [
        "## Install \n",
        "\n",
        "Sentence Transformers"
      ]
    },
    {
      "cell_type": "code",
      "metadata": {
        "id": "GLBcRmbA134W"
      },
      "source": [
        "!pip install -U sentence-transformers"
      ],
      "execution_count": null,
      "outputs": []
    },
    {
      "cell_type": "markdown",
      "metadata": {
        "id": "JmSXaevqZpwP"
      },
      "source": [
        "## Query generation"
      ]
    },
    {
      "cell_type": "code",
      "metadata": {
        "colab": {
          "base_uri": "https://localhost:8080/"
        },
        "id": "kFrFp_620m-5",
        "outputId": "80e9152b-6509-40a6-aa17-cdfc8da3c5fd"
      },
      "source": [
        "from transformers import T5Tokenizer, T5ForConditionalGeneration\n",
        "import torch\n",
        "\n",
        "tokenizer = T5Tokenizer.from_pretrained('BeIR/query-gen-msmarco-t5-large-v1')\n",
        "model = T5ForConditionalGeneration.from_pretrained('BeIR/query-gen-msmarco-t5-large-v1')\n",
        "model.eval()\n",
        "\n",
        "# para = \"Python is an interpreted, high-level and general-purpose programming language. Python's design philosophy emphasizes code readability with its notable use of significant whitespace. Its language constructs and object-oriented approach aim to help programmers write clear, logical code for small and large-scale projects.\"\n",
        "para = \"Galicia is located in Atlantic Europe. It is bordered by Portugal to the south, the Spanish autonomous communities of Castile and León and Asturias to the east, the Atlantic Ocean to the west, and the Cantabrian Sea to the north. It had a population of 2,701,743 in 2018[4] and a total area of 29,574 km2 (11,419 sq mi). Galicia has over 1,660 km (1,030 mi) of coastline,[5] including its offshore islands and islets, among them Cíes Islands, Ons, Sálvora, Cortegada Island, and the largest and most populated, A Illa de Arousa.\"\n",
        "\n",
        "input_ids = tokenizer.encode(para, return_tensors='pt')\n",
        "with torch.no_grad():\n",
        "    outputs = model.generate(\n",
        "        input_ids=input_ids,\n",
        "        max_length=64,\n",
        "        do_sample=True,\n",
        "        top_p=0.95,\n",
        "        num_return_sequences=3)\n",
        "\n",
        "print(\"Paragraph:\")\n",
        "print(para)\n",
        "\n",
        "print(\"\\nGenerated Queries:\")\n",
        "for i in range(len(outputs)):\n",
        "    query = tokenizer.decode(outputs[i], skip_special_tokens=True)\n",
        "    print(f'{i + 1}: {query}')"
      ],
      "execution_count": null,
      "outputs": [
        {
          "output_type": "stream",
          "text": [
            "Paragraph:\n",
            "Galicia is located in Atlantic Europe. It is bordered by Portugal to the south, the Spanish autonomous communities of Castile and León and Asturias to the east, the Atlantic Ocean to the west, and the Cantabrian Sea to the north. It had a population of 2,701,743 in 2018[4] and a total area of 29,574 km2 (11,419 sq mi). Galicia has over 1,660 km (1,030 mi) of coastline,[5] including its offshore islands and islets, among them Cíes Islands, Ons, Sálvora, Cortegada Island, and the largest and most populated, A Illa de Arousa.\n",
            "\n",
            "Generated Queries:\n",
            "1: where is galicia spain\n",
            "2: where is galicia located\n",
            "3: where is galicia\n"
          ],
          "name": "stdout"
        }
      ]
    },
    {
      "cell_type": "code",
      "metadata": {
        "id": "02Ia4TRV1XA4"
      },
      "source": [
        ""
      ],
      "execution_count": null,
      "outputs": []
    }
  ]
}