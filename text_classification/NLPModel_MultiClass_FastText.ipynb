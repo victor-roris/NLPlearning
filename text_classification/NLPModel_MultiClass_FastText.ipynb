{
  "nbformat": 4,
  "nbformat_minor": 0,
  "metadata": {
    "colab": {
      "name": "NLPModel_MultiClass_FastText.ipynb",
      "provenance": [],
      "include_colab_link": true
    },
    "kernelspec": {
      "name": "python3",
      "display_name": "Python 3"
    }
  },
  "cells": [
    {
      "cell_type": "markdown",
      "metadata": {
        "id": "view-in-github",
        "colab_type": "text"
      },
      "source": [
        "<a href=\"https://colab.research.google.com/github/victor-roris/mediumseries/blob/master/NLP/NLPModel_MultiClass_FastText.ipynb\" target=\"_parent\"><img src=\"https://colab.research.google.com/assets/colab-badge.svg\" alt=\"Open In Colab\"/></a>"
      ]
    },
    {
      "cell_type": "markdown",
      "metadata": {
        "id": "tyutmhY-cZ7T",
        "colab_type": "text"
      },
      "source": [
        "# NLP Model with FastText\n",
        "\n",
        "In this notebook, we are going to use fasttext to predict categories of text.\n",
        "\n",
        "FastText: https://github.com/facebookresearch/fastText/blob/master/python/README.md\n",
        "\n",
        "Notebook adapted from: https://github.com/mpuig/textclassification/blob/master/notebook.ipynb"
      ]
    },
    {
      "cell_type": "markdown",
      "metadata": {
        "id": "UqWcGkoDclfu",
        "colab_type": "text"
      },
      "source": [
        "## Installation"
      ]
    },
    {
      "cell_type": "code",
      "metadata": {
        "id": "wTOPkQEZbw4O",
        "colab_type": "code",
        "colab": {
          "base_uri": "https://localhost:8080/",
          "height": 89
        },
        "outputId": "2ee98f66-894b-40e9-aa61-0daa1cc1b418"
      },
      "source": [
        "! pip install fasttext"
      ],
      "execution_count": 1,
      "outputs": [
        {
          "output_type": "stream",
          "text": [
            "Requirement already satisfied: fasttext in /usr/local/lib/python3.6/dist-packages (0.9.1)\n",
            "Requirement already satisfied: setuptools>=0.7.0 in /usr/local/lib/python3.6/dist-packages (from fasttext) (42.0.2)\n",
            "Requirement already satisfied: numpy in /usr/local/lib/python3.6/dist-packages (from fasttext) (1.17.4)\n",
            "Requirement already satisfied: pybind11>=2.2 in /usr/local/lib/python3.6/dist-packages (from fasttext) (2.4.3)\n"
          ],
          "name": "stdout"
        }
      ]
    },
    {
      "cell_type": "markdown",
      "metadata": {
        "id": "_MogYKj2cvvN",
        "colab_type": "text"
      },
      "source": [
        "## Imports"
      ]
    },
    {
      "cell_type": "code",
      "metadata": {
        "id": "1RE6XiRwhgBa",
        "colab_type": "code",
        "colab": {}
      },
      "source": [
        "import logging\n",
        "import pandas as pd\n",
        "import numpy as np\n",
        "from numpy import random\n",
        "import gensim\n",
        "import nltk\n",
        "from sklearn.model_selection import train_test_split\n",
        "from sklearn.feature_extraction.text import CountVectorizer, TfidfVectorizer\n",
        "from sklearn.metrics import accuracy_score, confusion_matrix\n",
        "import matplotlib.pyplot as plt\n",
        "from nltk.corpus import stopwords\n",
        "import re\n",
        "from bs4 import BeautifulSoup\n",
        "%matplotlib inline"
      ],
      "execution_count": 0,
      "outputs": []
    },
    {
      "cell_type": "code",
      "metadata": {
        "id": "f4TsDxwH6PdT",
        "colab_type": "code",
        "colab": {}
      },
      "source": [
        "import warnings\n",
        "warnings.filterwarnings('ignore')"
      ],
      "execution_count": 0,
      "outputs": []
    },
    {
      "cell_type": "markdown",
      "metadata": {
        "id": "o5MyShKjZfxw",
        "colab_type": "text"
      },
      "source": [
        "## Data"
      ]
    },
    {
      "cell_type": "markdown",
      "metadata": {
        "id": "njxPblU9UH3f",
        "colab_type": "text"
      },
      "source": [
        "### Fetch data\n",
        "\n",
        "We are using a relatively large data set of Stack Overflow questions and tags."
      ]
    },
    {
      "cell_type": "code",
      "metadata": {
        "id": "zxhJ4yEKUF0j",
        "colab_type": "code",
        "outputId": "cadc0a4f-4374-4ae2-8476-feccc5e1de44",
        "colab": {
          "base_uri": "https://localhost:8080/",
          "height": 359
        }
      },
      "source": [
        "df = pd.read_csv('https://storage.googleapis.com/tensorflow-workshop-examples/stack-overflow-data.csv')\n",
        "df = df[pd.notnull(df['tags'])]\n",
        "categories = df[\"tags\"].unique()\n",
        "\n",
        "print(f'Number of examples : {len(df)}')\n",
        "print(f'Number of words in the data: {df[\"post\"].apply(lambda x: len(x.split(\" \"))).sum()}')\n",
        "print(f'Number of categorie : {len(categories)}')\n",
        "print()\n",
        "print(df.head(10))\n",
        "print()\n",
        "print(f'Categories: {categories}')\n"
      ],
      "execution_count": 4,
      "outputs": [
        {
          "output_type": "stream",
          "text": [
            "Number of examples : 40000\n",
            "Number of words in the data: 10286120\n",
            "Number of categorie : 20\n",
            "\n",
            "                                                post           tags\n",
            "0  what is causing this behavior  in our c# datet...             c#\n",
            "1  have dynamic html load as if it was in an ifra...        asp.net\n",
            "2  how to convert a float value in to min:sec  i ...    objective-c\n",
            "3  .net framework 4 redistributable  just wonderi...           .net\n",
            "4  trying to calculate and print the mean and its...         python\n",
            "5  how to give alias name for my website  i have ...        asp.net\n",
            "6  window.open() returns null in angularjs  it wo...      angularjs\n",
            "7  identifying server timeout quickly in iphone  ...         iphone\n",
            "8  unknown method key  error in rails 2.3.8 unit ...  ruby-on-rails\n",
            "9  from the include  how to show and hide the con...      angularjs\n",
            "\n",
            "Categories: ['c#' 'asp.net' 'objective-c' '.net' 'python' 'angularjs' 'iphone'\n",
            " 'ruby-on-rails' 'ios' 'c' 'sql' 'java' 'jquery' 'css' 'c++' 'php'\n",
            " 'android' 'mysql' 'javascript' 'html']\n"
          ],
          "name": "stdout"
        }
      ]
    },
    {
      "cell_type": "markdown",
      "metadata": {
        "id": "BnYUb5ipUXol",
        "colab_type": "text"
      },
      "source": [
        "Visualize data"
      ]
    },
    {
      "cell_type": "code",
      "metadata": {
        "id": "e2JE3hdsUOdt",
        "colab_type": "code",
        "outputId": "3ac0808a-0a8a-4fe1-b7c1-9047d4cf087f",
        "colab": {
          "base_uri": "https://localhost:8080/",
          "height": 319
        }
      },
      "source": [
        "plt.figure(figsize=(10,4))\n",
        "df.tags.value_counts().plot(kind='bar');"
      ],
      "execution_count": 5,
      "outputs": [
        {
          "output_type": "display_data",
          "data": {
            "image/png": "[encoded data removed]",
            "text/plain": [
              "<Figure size 720x288 with 1 Axes>"
            ]
          },
          "metadata": {
            "tags": []
          }
        }
      ]
    },
    {
      "cell_type": "markdown",
      "metadata": {
        "id": "PlD5wfiTXKYn",
        "colab_type": "text"
      },
      "source": [
        "The classes are very well balanced."
      ]
    },
    {
      "cell_type": "markdown",
      "metadata": {
        "id": "vuoO7-dMXgbx",
        "colab_type": "text"
      },
      "source": [
        "### Text pre-processing\n",
        "\n",
        "Our text cleaning step includes HTML decoding, remove stop words, change text to lower case, remove punctuation, remove bad characters, and so on."
      ]
    },
    {
      "cell_type": "code",
      "metadata": {
        "id": "2Ah_0UP4YJ_q",
        "colab_type": "code",
        "outputId": "512a47e9-1f32-4c98-feaf-ad15559e9b71",
        "colab": {
          "base_uri": "https://localhost:8080/",
          "height": 71
        }
      },
      "source": [
        " nltk.download('stopwords')"
      ],
      "execution_count": 6,
      "outputs": [
        {
          "output_type": "stream",
          "text": [
            "[nltk_data] Downloading package stopwords to /root/nltk_data...\n",
            "[nltk_data]   Package stopwords is already up-to-date!\n"
          ],
          "name": "stdout"
        },
        {
          "output_type": "execute_result",
          "data": {
            "text/plain": [
              "True"
            ]
          },
          "metadata": {
            "tags": []
          },
          "execution_count": 6
        }
      ]
    },
    {
      "cell_type": "code",
      "metadata": {
        "id": "XfukbGVgVFri",
        "colab_type": "code",
        "outputId": "48c2021c-7519-405d-c044-7ccaabfe8ef3",
        "colab": {
          "base_uri": "https://localhost:8080/",
          "height": 73
        }
      },
      "source": [
        "REPLACE_BY_SPACE_RE = re.compile('[/(){}\\[\\]\\|@,;]')\n",
        "BAD_SYMBOLS_RE = re.compile('[^0-9a-z #+_]')\n",
        "STOPWORDS = set(stopwords.words('english'))\n",
        "\n",
        "def clean_text(text):\n",
        "    \"\"\"\n",
        "        text: a string\n",
        "        \n",
        "        return: modified initial string\n",
        "    \"\"\"\n",
        "    text = BeautifulSoup(text, \"lxml\").text # HTML decoding\n",
        "    text = text.lower() # lowercase text\n",
        "    text = REPLACE_BY_SPACE_RE.sub(' ', text) # replace REPLACE_BY_SPACE_RE symbols by space in text\n",
        "    text = BAD_SYMBOLS_RE.sub('', text) # delete symbols which are in BAD_SYMBOLS_RE from text\n",
        "    text = ' '.join(word for word in text.split() if word not in STOPWORDS) # delete stopwors from text\n",
        "    return text\n",
        "    \n",
        "\n",
        "print(f'Example text previous cleaning : {df[\"post\"].values[10]}')\n",
        "\n",
        "df['post'] = df['post'].apply(clean_text)\n",
        "\n",
        "print(f'Example text previous cleaning : {df[\"post\"].values[10]}')"
      ],
      "execution_count": 7,
      "outputs": [
        {
          "output_type": "stream",
          "text": [
            "Example text previous cleaning : when we need interface c# <blockquote>    <strong>possible duplicate:</strong><br>   <a href= https://stackoverflow.com/questions/240152/why-would-i-want-to-use-interfaces >why would i want to use interfaces </a>   <a href= https://stackoverflow.com/questions/9451868/why-i-need-interface >why i need interface </a>    </blockquote>     i want to know where and when to use it     for example    <pre><code>interface idemo {  // function prototype  public void show(); }  // first class using the interface class myclass1 : idemo {  public void show()  {   // function body comes here   response.write( i m in myclass );  }  }  // second class using the interface class myclass2 : idemo {  public void show()   {   // function body comes here   response.write( i m in myclass2 );   response.write( so  what  );  } </code></pre>   these two classes has the same function name with different body. this can be even achieved without interface. then why we need an interface where and when to use it\n",
            "Example text previous cleaning : need interface c# possible duplicate would want use interfaces need interface want know use example interface idemo function prototype public void show first class using interface class myclass1 idemo public void show function body comes responsewrite myclass second class using interface class myclass2 idemo public void show function body comes responsewrite myclass2 responsewrite two classes function name different body even achieved without interface need interface use\n"
          ],
          "name": "stdout"
        }
      ]
    },
    {
      "cell_type": "code",
      "metadata": {
        "id": "ecM21JV9XQX6",
        "colab_type": "code",
        "outputId": "ac2a338b-8617-4865-ebe1-a2257cd3ba71",
        "colab": {
          "base_uri": "https://localhost:8080/",
          "height": 35
        }
      },
      "source": [
        "print(f'Number of words in the cleaning data: {df[\"post\"].apply(lambda x: len(x.split(\" \"))).sum()}')"
      ],
      "execution_count": 8,
      "outputs": [
        {
          "output_type": "stream",
          "text": [
            "Number of words in the cleaning data: 3424297\n"
          ],
          "name": "stdout"
        }
      ]
    },
    {
      "cell_type": "code",
      "metadata": {
        "id": "cSL3XwgQQ_j2",
        "colab_type": "code",
        "colab": {}
      },
      "source": [
        "train, test = train_test_split(df, test_size=0.3, random_state = 42)"
      ],
      "execution_count": 0,
      "outputs": []
    },
    {
      "cell_type": "code",
      "metadata": {
        "id": "XijcSfKMJmMj",
        "colab_type": "code",
        "colab": {
          "base_uri": "https://localhost:8080/",
          "height": 222
        },
        "outputId": "c20ef218-dd13-409a-e21c-c3478b769424"
      },
      "source": [
        "print(f'Number of training examples : {len(train)}')\n",
        "train.head()"
      ],
      "execution_count": 31,
      "outputs": [
        {
          "output_type": "stream",
          "text": [
            "Number of training examples : 28000\n"
          ],
          "name": "stdout"
        },
        {
          "output_type": "execute_result",
          "data": {
            "text/html": [
              "<div>\n",
              "<style scoped>\n",
              "    .dataframe tbody tr th:only-of-type {\n",
              "        vertical-align: middle;\n",
              "    }\n",
              "\n",
              "    .dataframe tbody tr th {\n",
              "        vertical-align: top;\n",
              "    }\n",
              "\n",
              "    .dataframe thead th {\n",
              "        text-align: right;\n",
              "    }\n",
              "</style>\n",
              "<table border=\"1\" class=\"dataframe\">\n",
              "  <thead>\n",
              "    <tr style=\"text-align: right;\">\n",
              "      <th></th>\n",
              "      <th>post</th>\n",
              "      <th>tags</th>\n",
              "    </tr>\n",
              "  </thead>\n",
              "  <tbody>\n",
              "    <tr>\n",
              "      <th>38015</th>\n",
              "      <td>getting server tag well formed error th style ...</td>\n",
              "      <td>asp.net</td>\n",
              "    </tr>\n",
              "    <tr>\n",
              "      <th>2281</th>\n",
              "      <td>difference lineheight15 lineheight150 css anyo...</td>\n",
              "      <td>css</td>\n",
              "    </tr>\n",
              "    <tr>\n",
              "      <th>36629</th>\n",
              "      <td>need simpler way test many sql mysql query lik...</td>\n",
              "      <td>mysql</td>\n",
              "    </tr>\n",
              "    <tr>\n",
              "      <th>6087</th>\n",
              "      <td>check 10 minutes passed angularjs question pos...</td>\n",
              "      <td>angularjs</td>\n",
              "    </tr>\n",
              "    <tr>\n",
              "      <th>11792</th>\n",
              "      <td>looking bindinglistabouttoremove event item ad...</td>\n",
              "      <td>.net</td>\n",
              "    </tr>\n",
              "  </tbody>\n",
              "</table>\n",
              "</div>"
            ],
            "text/plain": [
              "                                                    post       tags\n",
              "38015  getting server tag well formed error th style ...    asp.net\n",
              "2281   difference lineheight15 lineheight150 css anyo...        css\n",
              "36629  need simpler way test many sql mysql query lik...      mysql\n",
              "6087   check 10 minutes passed angularjs question pos...  angularjs\n",
              "11792  looking bindinglistabouttoremove event item ad...       .net"
            ]
          },
          "metadata": {
            "tags": []
          },
          "execution_count": 31
        }
      ]
    },
    {
      "cell_type": "code",
      "metadata": {
        "id": "92YsIzKrVTof",
        "colab_type": "code",
        "colab": {
          "base_uri": "https://localhost:8080/",
          "height": 222
        },
        "outputId": "9bb32154-f27b-4bcf-91c1-6a79b8a8437b"
      },
      "source": [
        "print(f'Number of test examples : {len(test)}')\n",
        "test.head()"
      ],
      "execution_count": 46,
      "outputs": [
        {
          "output_type": "stream",
          "text": [
            "Number of test examples : 12000\n"
          ],
          "name": "stdout"
        },
        {
          "output_type": "execute_result",
          "data": {
            "text/html": [
              "<div>\n",
              "<style scoped>\n",
              "    .dataframe tbody tr th:only-of-type {\n",
              "        vertical-align: middle;\n",
              "    }\n",
              "\n",
              "    .dataframe tbody tr th {\n",
              "        vertical-align: top;\n",
              "    }\n",
              "\n",
              "    .dataframe thead th {\n",
              "        text-align: right;\n",
              "    }\n",
              "</style>\n",
              "<table border=\"1\" class=\"dataframe\">\n",
              "  <thead>\n",
              "    <tr style=\"text-align: right;\">\n",
              "      <th></th>\n",
              "      <th>post</th>\n",
              "      <th>tags</th>\n",
              "    </tr>\n",
              "  </thead>\n",
              "  <tbody>\n",
              "    <tr>\n",
              "      <th>32823</th>\n",
              "      <td>template object property class implemented wor...</td>\n",
              "      <td>c++</td>\n",
              "    </tr>\n",
              "    <tr>\n",
              "      <th>16298</th>\n",
              "      <td>copy lines file two patterns store array php c...</td>\n",
              "      <td>php</td>\n",
              "    </tr>\n",
              "    <tr>\n",
              "      <th>28505</th>\n",
              "      <td>function used instead event ng model option sa...</td>\n",
              "      <td>angularjs</td>\n",
              "    </tr>\n",
              "    <tr>\n",
              "      <th>6689</th>\n",
              "      <td>executing string command c++ string char strin...</td>\n",
              "      <td>c++</td>\n",
              "    </tr>\n",
              "    <tr>\n",
              "      <th>26893</th>\n",
              "      <td>asp integrate net 40 possible duplicate classi...</td>\n",
              "      <td>asp.net</td>\n",
              "    </tr>\n",
              "  </tbody>\n",
              "</table>\n",
              "</div>"
            ],
            "text/plain": [
              "                                                    post       tags\n",
              "32823  template object property class implemented wor...        c++\n",
              "16298  copy lines file two patterns store array php c...        php\n",
              "28505  function used instead event ng model option sa...  angularjs\n",
              "6689   executing string command c++ string char strin...        c++\n",
              "26893  asp integrate net 40 possible duplicate classi...    asp.net"
            ]
          },
          "metadata": {
            "tags": []
          },
          "execution_count": 46
        }
      ]
    },
    {
      "cell_type": "code",
      "metadata": {
        "id": "5RZlKnprV_Si",
        "colab_type": "code",
        "colab": {}
      },
      "source": [
        "def write_fasttext_datafile(filename, df):\n",
        "  file=open(filename, 'w+')\n",
        "  for index, row in df.iterrows():\n",
        "    line = '__label__'+str(row['tags']) + \" \" + str(row['post'])\n",
        "    #print(line)\n",
        "    file.write( str(line) + '\\n')\n",
        "  file.close()\n",
        "\n",
        "write_fasttext_datafile('fasttext_train.txt', train)\n",
        "write_fasttext_datafile('fasttext_test.txt', test)"
      ],
      "execution_count": 0,
      "outputs": []
    },
    {
      "cell_type": "code",
      "metadata": {
        "id": "MqrdfJ-MaSsA",
        "colab_type": "code",
        "colab": {
          "base_uri": "https://localhost:8080/",
          "height": 35
        },
        "outputId": "f89b2eaa-f6e5-4d48-8c5c-7a68225ab5af"
      },
      "source": [
        "! ls"
      ],
      "execution_count": 60,
      "outputs": [
        {
          "output_type": "stream",
          "text": [
            "fasttext_test.txt  fasttext_train.txt  sample_data\n"
          ],
          "name": "stdout"
        }
      ]
    },
    {
      "cell_type": "code",
      "metadata": {
        "id": "5D7kbVKbcjMB",
        "colab_type": "code",
        "colab": {
          "base_uri": "https://localhost:8080/",
          "height": 217
        },
        "outputId": "8c5522cf-bc5e-4346-9f7a-d7e2eb5582d0"
      },
      "source": [
        "! tail fasttext_train.txt"
      ],
      "execution_count": 68,
      "outputs": [
        {
          "output_type": "stream",
          "text": [
            "__label__javascript javascript content manipulation example got got random html code html body h1javascript h1 pbla bla p script src sample1js script body html sample1js code var 1234 var b 02 consolelog simple script consolelog b would like know possibility find integers floats sample1js executed reexecute content random generated int float values sum would sample1html file refresh sample1js contain random values b\n",
            "__label__asp.net best practice synchronous longrunning process working monitoring project monitor different targets including switch router pc specific interval mostly 60 seconds via snmp depending number elements going monitored monitoring processes take long time maybe 30 seconds problem appear number targets 2000 majority monitoring operations take long time occasion monitoring operations overlapit apparently available thread allocate cpu four coresi tried options found gap monitor come queue really start performin fact startmonitoringoperation startmonitoring big interval big interavel could 2 minute want know best practice synchronous longrunning process decrease gap mentioned int 0 monitorsqueuecount i++ var startmonitoring datetimenow 1threadpoolqueueuserworkitem new systemthreadingwaitcallback domonitor monitorobject 2var task new task domonitor monitorobject takecreationoptionslongruning 3 var task new task domonitor monitorobject private void domonitor method take long occasions var startmonitoringoperation datetimenow monintoring operation\n",
            "__label__angularjs angularjs several scope values parameter function problem since days would like cross several scope values parameter function possible separate one impossible find make tried everything code controller pour afficher les groupes de la champions league controller championsleaguectrl function scope footballdatafactory stateparams ionicloading var groupe abcdefgh ionicloadingshow template ionspinner icon bubbles ionspinner div class chargement chargement div footballdatafactorygetleaguetablebyseason id stateparamsdivision apikey apikey function response ionicloadinghide scopeteams response groupe script src https ajaxgoogleapiscom ajax libs angularjs 1223 angularminjs script ionview viewtitle foothub ioncontent class teams div id teams ngrepeat n constructor 8 track index ngcontroller homectrl ngclick search teamsgroupe index teamsresponsedatastandings teamsgroupe index 0 teamid teamsresponsedatastandings teamsgroupe index 1 teamid p class groupe groupe teamsgroupe index p p teamsresponsedatastandings teamsgroupe index 0 teamid teamsresponsedatastandings teamsgroupe index 1 teamid p div ioncontent ionview first parameter works second necessary know many values parameters first one char others int wish separate one help please thanks lot\n",
            "__label__javascript swapping objects reference looking swap two objects using swap function reference typical usecase would like function swap b var id 1 id 2 swap 0 0 consolelog id 2 id 1 var one id 1 var two id 2 swap one two consolelog one id 2 consolelog two id 1 added use cases swap dependent array functionalities possible know javascript functions copyreference source essentially swap b b copy 0 1 seems like swap around without actually copying fields fields b vice versa seems impractical edit timolawl pointed es6 destructuring seem work use case let id 1 id 2 let one 0 let two 1 consolelog 0 consolelog 1 one two two one consolelog 0 consolelog 1 jsfiddle\n",
            "__label__jquery jquery mousemove body avoid menu element possibility use mousemove body avoid time element dom like div menu idea show prev next arrow background hide enter menu element tried body #menu bind mousemove function e work\n",
            "__label__python python cannot find files getenv appdata trying locate edit file within appdata ospathisfile getenv appdata + file print found file going open file conn sqlite3connect getenv appdata + file however creates temp file called roamingfile eventhough file appdata directory played around permissions luck also access go straight path eg cusersuserappdata hit brick wall really trying solve look answers hours thanks\n",
            "__label__php send variables page url iframe found answer french forums yes french glad someone could help fix issue website users login login website authentication made external website add website using iframe actually code works fine except ie8 authentication work code form form action loginphp method post input name username type text input name password type text input type submit value ok name validation form loginphp page php username _post username password _post password iframe src http myurlcom verifyphp username php echo username password php echo password name login width 1024 height 768 frameborder 0\n",
            "__label__python uninitialized value python uninitialized value python compare something initialized like val val undefined edit added pseudo keyword edit2 think make clear say val already nothing assigned duplicate declaring variable python\n",
            "__label__ruby-on-rails create 3 table join migration ruby rails 3 tables students messages coaches want create join migration table message_id coach_id student_id please help create migration query help highly appreciated getting error tried code 20150924072052 associationtable migrating create_table associations rake aborted standarderror error occurred later migrations canceled mysql2error key column student_id exist table alter table associations add constraint fk_rails_122f0db022 foreign key student_id references student id\n",
            "__label__android could find comandroidsupportappcompatv72420 today updated new sdk project caused problem blow already downloaded android support repository still work errora problem occurred configuring project app could resolve dependencies configuration app_debugcompile could find comandroidsupportappcompatv72420 searched following locations file c program files android android studio gradle m2repository com android support appcompatv7 2420 appcompatv72420pom file c program files android android studio gradle m2repository com android support appcompatv7 2420 appcompatv72420jar https jcenterbintraycom com android support appcompatv7 2420 appcompatv72420pom https jcenterbintraycom com android support appcompatv7 2420 appcompatv72420jar file c users ownerkfw39238 appdata local android sdk extras android m2repository com android support appcompatv7 2420 appcompatv72420pom file c users ownerkfw39238 appdata local android sdk extras android m2repository com android support appcompatv7 2420 appcompatv72420jar file c users ownerkfw39238 appdata local android sdk extras google m2repository com android support appcompatv7 2420 appcompatv72420pom file c users ownerkfw39238 appdata local android sdk extras google m2repository com android support appcompatv7 2420 appcompatv72420jar required invoiceappunspecified\n"
          ],
          "name": "stdout"
        }
      ]
    },
    {
      "cell_type": "markdown",
      "metadata": {
        "id": "MCojigo3ZjuY",
        "colab_type": "text"
      },
      "source": [
        "## Model training"
      ]
    },
    {
      "cell_type": "code",
      "metadata": {
        "id": "DCcSD0Uvbyz0",
        "colab_type": "code",
        "colab": {}
      },
      "source": [
        "import fasttext \n",
        "\n",
        "model = fasttext.train_supervised('fasttext_train.txt')"
      ],
      "execution_count": 0,
      "outputs": []
    },
    {
      "cell_type": "code",
      "metadata": {
        "id": "ZB9cTMFPRkec",
        "colab_type": "code",
        "colab": {
          "base_uri": "https://localhost:8080/",
          "height": 35
        },
        "outputId": "7dc391f9-c47b-49a1-dfcc-84fc47100010"
      },
      "source": [
        "sms = \"\"\" content manipulation example got got random html code html body h1javascript h1 pbla bla p script src sample1js script body html sample1js code var 1234 var b 02 consolelog simple script consolelog b would like know possibility find integers floats sample1js executed reexecute content random generated int float values sum would sample1html file refresh sample1js contain random values b\"\"\"\n",
        "\n",
        "model.predict(sms)"
      ],
      "execution_count": 71,
      "outputs": [
        {
          "output_type": "execute_result",
          "data": {
            "text/plain": [
              "(('__label__javascript',), array([0.79159403]))"
            ]
          },
          "metadata": {
            "tags": []
          },
          "execution_count": 71
        }
      ]
    },
    {
      "cell_type": "code",
      "metadata": {
        "id": "N-IbSqV2V-V-",
        "colab_type": "code",
        "colab": {
          "base_uri": "https://localhost:8080/",
          "height": 53
        },
        "outputId": "0b3e6317-580a-49f2-860f-9a28e48687f1"
      },
      "source": [
        "sms = \"\"\"cannot find files getenv appdata trying locate edit file within appdata ospathisfile getenv appdata + file print found file going open file conn sqlite3connect getenv appdata + file however creates temp file called roamingfile eventhough file appdata directory played around permissions luck also access go straight path eg cusersuserappdata hit brick wall really trying solve look answers hours thanks\"\"\"\n",
        "\n",
        "model.predict(sms, k=3)"
      ],
      "execution_count": 70,
      "outputs": [
        {
          "output_type": "execute_result",
          "data": {
            "text/plain": [
              "(('__label__python', '__label__java', '__label__c#'),\n",
              " array([0.34460059, 0.13957433, 0.11433596]))"
            ]
          },
          "metadata": {
            "tags": []
          },
          "execution_count": 70
        }
      ]
    },
    {
      "cell_type": "code",
      "metadata": {
        "id": "Yma9qWR4dVZs",
        "colab_type": "code",
        "colab": {}
      },
      "source": [
        "model.save_model(\"model_fasttext.bin\")"
      ],
      "execution_count": 0,
      "outputs": []
    },
    {
      "cell_type": "markdown",
      "metadata": {
        "id": "4rVZc0gsdJWN",
        "colab_type": "text"
      },
      "source": [
        "## Model evaluation"
      ]
    },
    {
      "cell_type": "code",
      "metadata": {
        "id": "oW2dhudXdZth",
        "colab_type": "code",
        "colab": {
          "base_uri": "https://localhost:8080/",
          "height": 35
        },
        "outputId": "493a7a83-7c05-4663-c3e5-ffbe1511630a"
      },
      "source": [
        "model = fasttext.load_model(\"model_fasttext.bin\")"
      ],
      "execution_count": 73,
      "outputs": [
        {
          "output_type": "stream",
          "text": [
            "\n"
          ],
          "name": "stderr"
        }
      ]
    },
    {
      "cell_type": "code",
      "metadata": {
        "id": "QjEJwy0_b4o6",
        "colab_type": "code",
        "colab": {
          "base_uri": "https://localhost:8080/",
          "height": 71
        },
        "outputId": "03fe2ebe-639a-4597-967e-e21fdb715e2a"
      },
      "source": [
        "def print_results(N, p, r):\n",
        "    print(\"N. examples : \\t\" + str(N))\n",
        "    print(\"Precision@{}\\t{:.3f}\".format(1, p))\n",
        "    print(\"Recall@{}\\t{:.3f}\".format(1, r))\n",
        "\n",
        "print_results(*model.test('fasttext_test.txt'))"
      ],
      "execution_count": 75,
      "outputs": [
        {
          "output_type": "stream",
          "text": [
            "N. examples : \t12000\n",
            "Precision@1\t0.794\n",
            "Recall@1\t0.794\n"
          ],
          "name": "stdout"
        }
      ]
    },
    {
      "cell_type": "code",
      "metadata": {
        "id": "6pqgU6FuRtit",
        "colab_type": "code",
        "colab": {}
      },
      "source": [
        ""
      ],
      "execution_count": 0,
      "outputs": []
    }
  ]
}
