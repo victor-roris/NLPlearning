{
  "nbformat": 4,
  "nbformat_minor": 0,
  "metadata": {
    "colab": {
      "name": "CloseDomainQA-cdQA.ipynb",
      "provenance": [],
      "authorship_tag": "ABX9TyPqrA/DY4o1hfOXVEohBpHT",
      "include_colab_link": true
    },
    "kernelspec": {
      "name": "python3",
      "display_name": "Python 3"
    },
    "language_info": {
      "name": "python"
    }
  },
  "cells": [
    {
      "cell_type": "markdown",
      "metadata": {
        "id": "view-in-github",
        "colab_type": "text"
      },
      "source": [
        "<a href=\"https://colab.research.google.com/github/victor-roris/NLPlearning/blob/master/QuestionAnswering/CloseDomainQA-cdQA.ipynb\" target=\"_parent\"><img src=\"https://colab.research.google.com/assets/colab-badge.svg\" alt=\"Open In Colab\"/></a>"
      ]
    },
    {
      "cell_type": "markdown",
      "metadata": {
        "id": "uoO8ODCQEgPH"
      },
      "source": [
        "# CDQA - Close Domain Question Answering\n",
        "\n",
        "- This notebook was adapted from: [link](https://towardsdatascience.com/how-to-create-your-own-question-answering-system-easily-with-python-2ef8abc8eb5)\n",
        "\n",
        "Closed-domain systems deal with questions under a specific domain (for example, medicine or automotive maintenance), and can exploit domain-specific knowledge by using a model that is fitted to a unique-domain database. The cdQA-suite was built to enable anyone who wants to build a closed-domain QA system easily.\n",
        "\n",
        "In this notebook, we are going to use cdQA-Suite. The cdQA-suite is comprised of three blocks:\n",
        "1. cdQA: an easy-to-use python package to implement a QA pipeline\n",
        "2. cdQA-annotator: a tool built to facilitate the annotation of question-answering datasets for model evaluation and fine-tuning\n",
        "3. cdQA-ui: a user-interface that can be coupled to any website and can be connected to the back-end system.\n",
        "\n",
        "## cdQA\n",
        "\n",
        "The cdQA architecture is based on two main components: the Retriever and the Reader. You can see below a schema of the system mechanism.\n",
        "\n",
        "![cdQA](https://miro.medium.com/max/431/1*v7s0WvOj-Z-ZwVzWFuzR7Q.png)\n",
        "\n",
        "When a question is sent to the system, the Retriever selects a list of documents in the database that are the most likely to contain the answer. It is based on the same retriever of DrQA, which creates TF-IDF features based on uni-grams and bi-grams and compute the cosine similarity between the question sentence and each document of the database.\n",
        "\n",
        "After selecting the most probable documents, the system divides each document into paragraphs and send them with the question to the Reader, which is basically a pre-trained Deep Learning model. The model used was the Pytorch version of the well known NLP model BERT, which was made available by HuggingFace. Then, the Reader outputs the most probable answer it can find in each paragraph. After the Reader, there is a final layer in the system that compares the answers by using an internal score function and outputs the most likely one according to the scores."
      ]
    },
    {
      "cell_type": "code",
      "metadata": {
        "id": "eUQXUNXnEfiv"
      },
      "source": [
        "# Installing cdQA package with pip\n",
        "!pip install cdqa"
      ],
      "execution_count": null,
      "outputs": []
    },
    {
      "cell_type": "markdown",
      "metadata": {
        "id": "_zQE460QLhj3"
      },
      "source": [
        "## Use cdQA"
      ]
    },
    {
      "cell_type": "code",
      "metadata": {
        "id": "Jl_hkLhZEgVw"
      },
      "source": [
        "import pandas as pd\n",
        "from ast import literal_eval\n",
        "\n",
        "from cdqa.utils.filters import filter_paragraphs\n",
        "from cdqa.utils.download import download_model, download_bnpp_data\n",
        "from cdqa.pipeline.cdqa_sklearn import QAPipeline"
      ],
      "execution_count": 5,
      "outputs": []
    },
    {
      "cell_type": "markdown",
      "metadata": {
        "id": "fAS3kvVML0wj"
      },
      "source": [
        "### Dataset\n",
        "\n",
        "CDQA has functionality to download and use some test dataset from BNP Paribas documentation.  "
      ]
    },
    {
      "cell_type": "code",
      "metadata": {
        "colab": {
          "base_uri": "https://localhost:8080/"
        },
        "id": "dfgNvdemEgY1",
        "outputId": "28d9e06f-51e4-4776-b6e8-197834e26af3"
      },
      "source": [
        "# Download data and models\n",
        "download_bnpp_data(dir='./data/bnpp_newsroom_v1.1/')\n",
        "download_model(model='bert-squad_1.1', dir='./models')"
      ],
      "execution_count": 6,
      "outputs": [
        {
          "output_type": "stream",
          "text": [
            "\n",
            "Downloading BNP data...\n",
            "bnpp_newsroom-v1.1.csv already downloaded\n",
            "\n",
            "Downloading trained model...\n",
            "bert_qa.joblib already downloaded\n"
          ],
          "name": "stdout"
        }
      ]
    },
    {
      "cell_type": "code",
      "metadata": {
        "colab": {
          "base_uri": "https://localhost:8080/",
          "height": 194
        },
        "id": "UZ6KYEnXLpwQ",
        "outputId": "7ddfe3c0-e8ab-4886-f449-a7d064e28ae2"
      },
      "source": [
        "# Loading data and filtering / preprocessing the documents\n",
        "df = pd.read_csv('data/bnpp_newsroom_v1.1/bnpp_newsroom-v1.1.csv', converters={'paragraphs': literal_eval})\n",
        "df = filter_paragraphs(df)\n",
        "\n",
        "df.head()"
      ],
      "execution_count": 8,
      "outputs": [
        {
          "output_type": "execute_result",
          "data": {
            "text/html": [
              "<div>\n",
              "<style scoped>\n",
              "    .dataframe tbody tr th:only-of-type {\n",
              "        vertical-align: middle;\n",
              "    }\n",
              "\n",
              "    .dataframe tbody tr th {\n",
              "        vertical-align: top;\n",
              "    }\n",
              "\n",
              "    .dataframe thead th {\n",
              "        text-align: right;\n",
              "    }\n",
              "</style>\n",
              "<table border=\"1\" class=\"dataframe\">\n",
              "  <thead>\n",
              "    <tr style=\"text-align: right;\">\n",
              "      <th></th>\n",
              "      <th>date</th>\n",
              "      <th>title</th>\n",
              "      <th>category</th>\n",
              "      <th>link</th>\n",
              "      <th>abstract</th>\n",
              "      <th>paragraphs</th>\n",
              "    </tr>\n",
              "  </thead>\n",
              "  <tbody>\n",
              "    <tr>\n",
              "      <th>0</th>\n",
              "      <td>13.05.2019</td>\n",
              "      <td>The banking jobs : Assistant Vice President – ...</td>\n",
              "      <td>Careers</td>\n",
              "      <td>https://group.bnpparibas/en/news/banking-jobs-...</td>\n",
              "      <td>Within the Group’s Corporate and Institutional...</td>\n",
              "      <td>[I manage a team in charge of designing and im...</td>\n",
              "    </tr>\n",
              "    <tr>\n",
              "      <th>1</th>\n",
              "      <td>13.05.2019</td>\n",
              "      <td>BNP Paribas at #VivaTech : discover the progra...</td>\n",
              "      <td>Innovation</td>\n",
              "      <td>https://group.bnpparibas/en/news/bnp-paribas-v...</td>\n",
              "      <td>From Thursday 16 to Saturday 18 May 2019, join...</td>\n",
              "      <td>[With François Hollande, Chairman of French fo...</td>\n",
              "    </tr>\n",
              "    <tr>\n",
              "      <th>2</th>\n",
              "      <td>13.05.2019</td>\n",
              "      <td>\"The bank with an IT budget of more than EUR6 ...</td>\n",
              "      <td>Group</td>\n",
              "      <td>https://group.bnpparibas/en/news/the-bank-budg...</td>\n",
              "      <td>Interview with Jean-Laurent Bonnafé, Director ...</td>\n",
              "      <td>[We did the groundwork between 2012 and 2016, ...</td>\n",
              "    </tr>\n",
              "    <tr>\n",
              "      <th>3</th>\n",
              "      <td>10.05.2019</td>\n",
              "      <td>BNP Paribas at #VivaTech : discover the progra...</td>\n",
              "      <td>Innovation</td>\n",
              "      <td>https://group.bnpparibas/en/news/bnp-paribas-v...</td>\n",
              "      <td>From Thursday 16 to Saturday 18 May 2019, join...</td>\n",
              "      <td>[As part of the ‘United Tech of Europe’ theme,...</td>\n",
              "    </tr>\n",
              "    <tr>\n",
              "      <th>4</th>\n",
              "      <td>10.05.2019</td>\n",
              "      <td>When Artificial Intelligence participates in r...</td>\n",
              "      <td>Careers</td>\n",
              "      <td>https://group.bnpparibas/en/news/artificial-in...</td>\n",
              "      <td>As the competition to attract talent intensifi...</td>\n",
              "      <td>[Online recruitment is already the norm. Accor...</td>\n",
              "    </tr>\n",
              "  </tbody>\n",
              "</table>\n",
              "</div>"
            ],
            "text/plain": [
              "         date  ...                                         paragraphs\n",
              "0  13.05.2019  ...  [I manage a team in charge of designing and im...\n",
              "1  13.05.2019  ...  [With François Hollande, Chairman of French fo...\n",
              "2  13.05.2019  ...  [We did the groundwork between 2012 and 2016, ...\n",
              "3  10.05.2019  ...  [As part of the ‘United Tech of Europe’ theme,...\n",
              "4  10.05.2019  ...  [Online recruitment is already the norm. Accor...\n",
              "\n",
              "[5 rows x 6 columns]"
            ]
          },
          "metadata": {
            "tags": []
          },
          "execution_count": 8
        }
      ]
    },
    {
      "cell_type": "markdown",
      "metadata": {
        "id": "OscuESP-MijP"
      },
      "source": [
        "In the snippet above, the preprocessing / filtering steps were needed to transform the BNP Paribas dataframe to the following structure:\n",
        "\n",
        "![structure](https://miro.medium.com/max/434/1*fyMjrb6c7VhIE5ui2yYBBA.png)\n",
        "\n",
        "If you use your own dataset, please be sure that your dataframe has such structure (at least, the fields title and paragraph)."
      ]
    },
    {
      "cell_type": "markdown",
      "metadata": {
        "id": "i81YcFa6M3mV"
      },
      "source": [
        "### Load pretrainer models\n",
        "\n",
        "cdQA has available pretrained models to Question Answering. In this case, we use the BERT model version. \n",
        "\n",
        "There are more available in: https://github.com/cdqa-suite/cdQA/releases"
      ]
    },
    {
      "cell_type": "code",
      "metadata": {
        "id": "UKI3L7DrLpyy"
      },
      "source": [
        "# Loading QAPipeline of BERT Reader pretrained on SQuAD 1.1\n",
        "cdqa_pipeline = QAPipeline(reader='models/bert_qa.joblib')"
      ],
      "execution_count": 9,
      "outputs": []
    },
    {
      "cell_type": "markdown",
      "metadata": {
        "id": "bu9YLpDtNhiC"
      },
      "source": [
        "Fitting the retriever object to the documents we have in our dataset"
      ]
    },
    {
      "cell_type": "code",
      "metadata": {
        "colab": {
          "base_uri": "https://localhost:8080/"
        },
        "id": "4Ze0EuNULp1X",
        "outputId": "68b75645-05b5-4346-e288-de2c8c907e62"
      },
      "source": [
        "# Fitting the retriever to the list of documents in the dataframe\n",
        "cdqa_pipeline.fit_retriever(df)"
      ],
      "execution_count": 10,
      "outputs": [
        {
          "output_type": "execute_result",
          "data": {
            "text/plain": [
              "QAPipeline(reader=BertQA(adam_epsilon=1e-08, bert_model='bert-base-uncased',\n",
              "                         do_lower_case=True, fp16=False,\n",
              "                         gradient_accumulation_steps=1, learning_rate=5e-05,\n",
              "                         local_rank=-1, loss_scale=0, max_answer_length=30,\n",
              "                         n_best_size=20, no_cuda=False,\n",
              "                         null_score_diff_threshold=0.0, num_train_epochs=3.0,\n",
              "                         output_dir=None, predict_batch_size=8, seed=42,\n",
              "                         server_ip='', server_po...size=8,\n",
              "                         verbose_logging=False, version_2_with_negative=False,\n",
              "                         warmup_proportion=0.1, warmup_steps=0),\n",
              "           retrieve_by_doc=False,\n",
              "           retriever=BM25Retriever(b=0.75, floor=None, k1=2.0, lowercase=True,\n",
              "                                   max_df=0.85, min_df=2, ngram_range=(1, 2),\n",
              "                                   preprocessor=None, stop_words='english',\n",
              "                                   token_pattern='(?u)\\\\b\\\\w\\\\w+\\\\b',\n",
              "                                   tokenizer=None, top_n=20, verbose=False,\n",
              "                                   vocabulary=None))"
            ]
          },
          "metadata": {
            "tags": []
          },
          "execution_count": 10
        }
      ]
    },
    {
      "cell_type": "markdown",
      "metadata": {
        "id": "Wp-W4_mZNg2G"
      },
      "source": [
        "### Questioning"
      ]
    },
    {
      "cell_type": "code",
      "metadata": {
        "colab": {
          "base_uri": "https://localhost:8080/"
        },
        "id": "Tsv8jYMWLxDq",
        "outputId": "5098f92e-5054-4651-9404-dbd025fadfd2"
      },
      "source": [
        "# Sending a question to the pipeline and getting prediction\n",
        "query = 'Since when does the Excellence Program of BNP Paribas exist?'\n",
        "prediction = cdqa_pipeline.predict(query)\n",
        "\n",
        "print('query: {}\\n'.format(query))\n",
        "print('answer: {}\\n'.format(prediction[0]))\n",
        "print('title: {}\\n'.format(prediction[1]))\n",
        "print('paragraph: {}\\n'.format(prediction[2]))"
      ],
      "execution_count": 11,
      "outputs": [
        {
          "output_type": "stream",
          "text": [
            "query: Since when does the Excellence Program of BNP Paribas exist?\n",
            "\n",
            "answer: January 2016\n",
            "\n",
            "title: BNP Paribas’ commitment to universities and schools\n",
            "\n",
            "paragraph: Since January 2016, BNP Paribas has offered an Excellence Program targeting new Master’s level graduates (BAC+5) who show high potential. The aid program lasts 18 months and comprises three assignments of six months each. It serves as a strong career accelerator that enables participants to access high-level management positions at a faster rate. The program allows participants to discover the BNP Paribas Group and its various entities in France and abroad, build an internal and external network by working on different assignments and receive personalized assistance from a mentor and coaching firm at every step along the way.\n",
            "\n"
          ],
          "name": "stdout"
        }
      ]
    },
    {
      "cell_type": "markdown",
      "metadata": {
        "id": "ZeSKJWapO2o9"
      },
      "source": [
        "## Training / Fine-tuning the reader\n",
        "\n",
        "You can also improve the performance of the pre-trained Reader, which was pre-trained on SQuAD 1.1 dataset. If you have an annotated dataset (that can be generated by the help of the cdQA-annotator) in the same format as SQuAD dataset you can fine-tune the reader on it:\n",
        "\n",
        "```python\n",
        "# Put the path to your json file in SQuAD format here\n",
        "path_to_data = './data/SQuAD_1.1/train-v1.1.json'\n",
        "cdqa_pipeline.fit_reader(path_to_data)\n",
        "```\n",
        "\n",
        "You can also check out other ways to do the same steps on the official tutorials: https://github.com/cdqa-suite/cdQA/tree/master/examples"
      ]
    },
    {
      "cell_type": "code",
      "metadata": {
        "id": "RGY8VZD0PA8_"
      },
      "source": [
        ""
      ],
      "execution_count": null,
      "outputs": []
    }
  ]
}