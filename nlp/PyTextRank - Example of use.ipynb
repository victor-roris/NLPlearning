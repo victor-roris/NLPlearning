{
  "nbformat": 4,
  "nbformat_minor": 0,
  "metadata": {
    "colab": {
      "name": "Untitled4.ipynb",
      "provenance": [],
      "collapsed_sections": [],
      "include_colab_link": true
    },
    "kernelspec": {
      "name": "python3",
      "display_name": "Python 3"
    }
  },
  "cells": [
    {
      "cell_type": "markdown",
      "metadata": {
        "id": "view-in-github",
        "colab_type": "text"
      },
      "source": [
        "<a href=\"https://colab.research.google.com/github/victor-roris/mediumseries/blob/master/nlp/PyTextRank%20-%20Example%20of%20use.ipynb\" target=\"_parent\"><img src=\"https://colab.research.google.com/assets/colab-badge.svg\" alt=\"Open In Colab\"/></a>"
      ]
    },
    {
      "cell_type": "markdown",
      "metadata": {
        "id": "81UmwfNIxNad",
        "colab_type": "text"
      },
      "source": [
        "# PyTextRank\n",
        "\n",
        "Python tool developed by Paco Nathan.\n",
        "\n",
        "PyTextRank is a Python implementation of TextRank as a spaCy extension, used to:\n",
        "\n",
        " - extract the top-ranked phrases from text documents\n",
        " - infer links from unstructured text into structured data\n",
        " - run extractive summarization of text documents\n",
        "\n",
        "To more information, visit official github: https://github.com/DerwenAI/pytextrank"
      ]
    },
    {
      "cell_type": "markdown",
      "metadata": {
        "id": "IcROLRScxxOL",
        "colab_type": "text"
      },
      "source": [
        "## Installation"
      ]
    },
    {
      "cell_type": "code",
      "metadata": {
        "id": "iSz9CMccg26c",
        "colab_type": "code",
        "colab": {
          "base_uri": "https://localhost:8080/",
          "height": 719
        },
        "outputId": "231730f8-6b0b-411c-efe0-64a61fd58e9f"
      },
      "source": [
        "! pip install pytextrank\n",
        "! pip install 'graphviz>=0.13'\n",
        "! pip install 'networkx >= 2.0'\n",
        "! pip install 'spacy >= 2.0'"
      ],
      "execution_count": 20,
      "outputs": [
        {
          "output_type": "stream",
          "text": [
            "Requirement already satisfied: pytextrank in /usr/local/lib/python3.6/dist-packages (2.0.0)\n",
            "Requirement already satisfied: spacy in /usr/local/lib/python3.6/dist-packages (from pytextrank) (2.1.9)\n",
            "Requirement already satisfied: networkx in /usr/local/lib/python3.6/dist-packages (from pytextrank) (2.4)\n",
            "Requirement already satisfied: graphviz in /usr/local/lib/python3.6/dist-packages (from pytextrank) (0.13.2)\n",
            "Requirement already satisfied: blis<0.3.0,>=0.2.2 in /usr/local/lib/python3.6/dist-packages (from spacy->pytextrank) (0.2.4)\n",
            "Requirement already satisfied: requests<3.0.0,>=2.13.0 in /usr/local/lib/python3.6/dist-packages (from spacy->pytextrank) (2.21.0)\n",
            "Requirement already satisfied: srsly<1.1.0,>=0.0.6 in /usr/local/lib/python3.6/dist-packages (from spacy->pytextrank) (0.2.0)\n",
            "Requirement already satisfied: preshed<2.1.0,>=2.0.1 in /usr/local/lib/python3.6/dist-packages (from spacy->pytextrank) (2.0.1)\n",
            "Requirement already satisfied: wasabi<1.1.0,>=0.2.0 in /usr/local/lib/python3.6/dist-packages (from spacy->pytextrank) (0.4.0)\n",
            "Requirement already satisfied: cymem<2.1.0,>=2.0.2 in /usr/local/lib/python3.6/dist-packages (from spacy->pytextrank) (2.0.3)\n",
            "Requirement already satisfied: numpy>=1.15.0 in /usr/local/lib/python3.6/dist-packages (from spacy->pytextrank) (1.17.4)\n",
            "Requirement already satisfied: murmurhash<1.1.0,>=0.28.0 in /usr/local/lib/python3.6/dist-packages (from spacy->pytextrank) (1.0.2)\n",
            "Requirement already satisfied: plac<1.0.0,>=0.9.6 in /usr/local/lib/python3.6/dist-packages (from spacy->pytextrank) (0.9.6)\n",
            "Requirement already satisfied: thinc<7.1.0,>=7.0.8 in /usr/local/lib/python3.6/dist-packages (from spacy->pytextrank) (7.0.8)\n",
            "Requirement already satisfied: decorator>=4.3.0 in /usr/local/lib/python3.6/dist-packages (from networkx->pytextrank) (4.4.1)\n",
            "Requirement already satisfied: idna<2.9,>=2.5 in /usr/local/lib/python3.6/dist-packages (from requests<3.0.0,>=2.13.0->spacy->pytextrank) (2.8)\n",
            "Requirement already satisfied: certifi>=2017.4.17 in /usr/local/lib/python3.6/dist-packages (from requests<3.0.0,>=2.13.0->spacy->pytextrank) (2019.9.11)\n",
            "Requirement already satisfied: urllib3<1.25,>=1.21.1 in /usr/local/lib/python3.6/dist-packages (from requests<3.0.0,>=2.13.0->spacy->pytextrank) (1.24.3)\n",
            "Requirement already satisfied: chardet<3.1.0,>=3.0.2 in /usr/local/lib/python3.6/dist-packages (from requests<3.0.0,>=2.13.0->spacy->pytextrank) (3.0.4)\n",
            "Requirement already satisfied: tqdm<5.0.0,>=4.10.0 in /usr/local/lib/python3.6/dist-packages (from thinc<7.1.0,>=7.0.8->spacy->pytextrank) (4.28.1)\n",
            "Requirement already satisfied: graphviz>=0.13 in /usr/local/lib/python3.6/dist-packages (0.13.2)\n",
            "Requirement already satisfied: networkx>=2.0 in /usr/local/lib/python3.6/dist-packages (2.4)\n",
            "Requirement already satisfied: decorator>=4.3.0 in /usr/local/lib/python3.6/dist-packages (from networkx>=2.0) (4.4.1)\n",
            "Requirement already satisfied: spacy>=2.0 in /usr/local/lib/python3.6/dist-packages (2.1.9)\n",
            "Requirement already satisfied: wasabi<1.1.0,>=0.2.0 in /usr/local/lib/python3.6/dist-packages (from spacy>=2.0) (0.4.0)\n",
            "Requirement already satisfied: thinc<7.1.0,>=7.0.8 in /usr/local/lib/python3.6/dist-packages (from spacy>=2.0) (7.0.8)\n",
            "Requirement already satisfied: plac<1.0.0,>=0.9.6 in /usr/local/lib/python3.6/dist-packages (from spacy>=2.0) (0.9.6)\n",
            "Requirement already satisfied: requests<3.0.0,>=2.13.0 in /usr/local/lib/python3.6/dist-packages (from spacy>=2.0) (2.21.0)\n",
            "Requirement already satisfied: preshed<2.1.0,>=2.0.1 in /usr/local/lib/python3.6/dist-packages (from spacy>=2.0) (2.0.1)\n",
            "Requirement already satisfied: murmurhash<1.1.0,>=0.28.0 in /usr/local/lib/python3.6/dist-packages (from spacy>=2.0) (1.0.2)\n",
            "Requirement already satisfied: srsly<1.1.0,>=0.0.6 in /usr/local/lib/python3.6/dist-packages (from spacy>=2.0) (0.2.0)\n",
            "Requirement already satisfied: cymem<2.1.0,>=2.0.2 in /usr/local/lib/python3.6/dist-packages (from spacy>=2.0) (2.0.3)\n",
            "Requirement already satisfied: blis<0.3.0,>=0.2.2 in /usr/local/lib/python3.6/dist-packages (from spacy>=2.0) (0.2.4)\n",
            "Requirement already satisfied: numpy>=1.15.0 in /usr/local/lib/python3.6/dist-packages (from spacy>=2.0) (1.17.4)\n",
            "Requirement already satisfied: tqdm<5.0.0,>=4.10.0 in /usr/local/lib/python3.6/dist-packages (from thinc<7.1.0,>=7.0.8->spacy>=2.0) (4.28.1)\n",
            "Requirement already satisfied: urllib3<1.25,>=1.21.1 in /usr/local/lib/python3.6/dist-packages (from requests<3.0.0,>=2.13.0->spacy>=2.0) (1.24.3)\n",
            "Requirement already satisfied: idna<2.9,>=2.5 in /usr/local/lib/python3.6/dist-packages (from requests<3.0.0,>=2.13.0->spacy>=2.0) (2.8)\n",
            "Requirement already satisfied: chardet<3.1.0,>=3.0.2 in /usr/local/lib/python3.6/dist-packages (from requests<3.0.0,>=2.13.0->spacy>=2.0) (3.0.4)\n",
            "Requirement already satisfied: certifi>=2017.4.17 in /usr/local/lib/python3.6/dist-packages (from requests<3.0.0,>=2.13.0->spacy>=2.0) (2019.9.11)\n"
          ],
          "name": "stdout"
        }
      ]
    },
    {
      "cell_type": "markdown",
      "metadata": {
        "id": "a30PBFu_x5Lv",
        "colab_type": "text"
      },
      "source": [
        "## Basic Usage Example\n"
      ]
    },
    {
      "cell_type": "markdown",
      "metadata": {
        "id": "Enbl0m-Byarh",
        "colab_type": "text"
      },
      "source": [
        "1. Import the packages"
      ]
    },
    {
      "cell_type": "code",
      "metadata": {
        "id": "-_DXvNodydXp",
        "colab_type": "code",
        "colab": {}
      },
      "source": [
        "import spacy\n",
        "import pytextrank"
      ],
      "execution_count": 0,
      "outputs": []
    },
    {
      "cell_type": "markdown",
      "metadata": {
        "id": "2bNZGm_EyfEz",
        "colab_type": "text"
      },
      "source": [
        "2. Load the spacy model"
      ]
    },
    {
      "cell_type": "code",
      "metadata": {
        "id": "Ml6yKNKWyjKC",
        "colab_type": "code",
        "colab": {}
      },
      "source": [
        "# load a spaCy model, depending on language, scale, etc.\n",
        "nlp = spacy.load(\"en_core_web_sm\")"
      ],
      "execution_count": 0,
      "outputs": []
    },
    {
      "cell_type": "markdown",
      "metadata": {
        "id": "aeFFGOgGyle9",
        "colab_type": "text"
      },
      "source": [
        "3. Add the PyTextRank to the spaCy pipeline\n",
        "\n",
        "https://explosion.ai/blog/spacy-v2-pipelines-extensions "
      ]
    },
    {
      "cell_type": "code",
      "metadata": {
        "id": "io4Djw9uyr_b",
        "colab_type": "code",
        "colab": {}
      },
      "source": [
        "# add PyTextRank to the spaCy pipeline\n",
        "tr = pytextrank.TextRank()\n",
        "nlp.add_pipe(tr.PipelineComponent, name=\"textrank\", last=True)"
      ],
      "execution_count": 0,
      "outputs": []
    },
    {
      "cell_type": "markdown",
      "metadata": {
        "id": "hyYwR9m7yuWl",
        "colab_type": "text"
      },
      "source": [
        "4. Tokenize the text"
      ]
    },
    {
      "cell_type": "code",
      "metadata": {
        "id": "Di-IMRRiy1Qa",
        "colab_type": "code",
        "colab": {}
      },
      "source": [
        "# example text\n",
        "text = \"Compatibility of systems of linear constraints over the set of natural numbers. Criteria of compatibility of a system of linear Diophantine equations, strict inequations, and nonstrict inequations are considered. Upper bounds for components of a minimal set of solutions and algorithms of construction of minimal generating sets of solutions for all types of systems are given. These criteria and the corresponding algorithms for constructing a minimal supporting set of solutions can be used in solving all the considered types systems and systems of mixed types.\"\n",
        "\n",
        "doc = nlp(text)"
      ],
      "execution_count": 0,
      "outputs": []
    },
    {
      "cell_type": "markdown",
      "metadata": {
        "id": "_t4iOvkDy6EO",
        "colab_type": "text"
      },
      "source": [
        "5. Access to the pytextrank analysis"
      ]
    },
    {
      "cell_type": "code",
      "metadata": {
        "id": "ZYxNQGa9g58_",
        "colab_type": "code",
        "colab": {
          "base_uri": "https://localhost:8080/",
          "height": 413
        },
        "outputId": "202e17a5-8ff8-490f-8c09-a20bbfc20511"
      },
      "source": [
        "# examine the top-ranked phrases in the document\n",
        "for p in doc._.phrases:\n",
        "    print(\"TextRank : {:.4f} - Count : {:5d} - Text :  {} - Chunk : {}\".format(p.rank, p.count, p.text, p.chunks))"
      ],
      "execution_count": 5,
      "outputs": [
        {
          "output_type": "stream",
          "text": [
            "TextRank : 0.1567 - Count :     1 - Text :  minimal generating sets - Chunk : [minimal generating sets]\n",
            "TextRank : 0.1371 - Count :     4 - Text :  systems - Chunk : [systems, systems, systems, a system]\n",
            "TextRank : 0.1178 - Count :     3 - Text :  solutions - Chunk : [solutions, solutions, solutions]\n",
            "TextRank : 0.1164 - Count :     1 - Text :  linear diophantine equations - Chunk : [linear Diophantine equations]\n",
            "TextRank : 0.1077 - Count :     1 - Text :  nonstrict inequations - Chunk : [nonstrict inequations]\n",
            "TextRank : 0.1050 - Count :     1 - Text :  mixed types - Chunk : [mixed types]\n",
            "TextRank : 0.1044 - Count :     1 - Text :  strict inequations - Chunk : [strict inequations]\n",
            "TextRank : 0.1000 - Count :     1 - Text :  a minimal supporting set - Chunk : [a minimal supporting set]\n",
            "TextRank : 0.0979 - Count :     1 - Text :  linear constraints - Chunk : [linear constraints]\n",
            "TextRank : 0.0919 - Count :     1 - Text :  upper bounds - Chunk : [Upper bounds]\n",
            "TextRank : 0.0913 - Count :     1 - Text :  a minimal set - Chunk : [a minimal set]\n",
            "TextRank : 0.0804 - Count :     1 - Text :  components - Chunk : [components]\n",
            "TextRank : 0.0797 - Count :     1 - Text :  natural numbers - Chunk : [natural numbers]\n",
            "TextRank : 0.0797 - Count :     1 - Text :  algorithms - Chunk : [algorithms]\n",
            "TextRank : 0.0782 - Count :     1 - Text :  all the considered types systems - Chunk : [all the considered types systems]\n",
            "TextRank : 0.0768 - Count :     1 - Text :  diophantine - Chunk : [Diophantine]\n",
            "TextRank : 0.0697 - Count :     2 - Text :  compatibility - Chunk : [Compatibility, compatibility]\n",
            "TextRank : 0.0693 - Count :     1 - Text :  construction - Chunk : [construction]\n",
            "TextRank : 0.0668 - Count :     1 - Text :  the set - Chunk : [the set]\n",
            "TextRank : 0.0629 - Count :     2 - Text :  criteria - Chunk : [Criteria, These criteria]\n",
            "TextRank : 0.0588 - Count :     1 - Text :  the corresponding algorithms - Chunk : [the corresponding algorithms]\n",
            "TextRank : 0.0528 - Count :     1 - Text :  all types - Chunk : [all types]\n"
          ],
          "name": "stdout"
        }
      ]
    },
    {
      "cell_type": "markdown",
      "metadata": {
        "id": "1MIByg05z21x",
        "colab_type": "text"
      },
      "source": [
        "## Example\n",
        "\n",
        "https://github.com/DerwenAI/pytextrank/blob/master/example.py"
      ]
    },
    {
      "cell_type": "code",
      "metadata": {
        "id": "ISMBqVp-rad7",
        "colab_type": "code",
        "colab": {}
      },
      "source": [
        "#!/usr/bin/env python\n",
        "# encoding: utf-8\n",
        "\n",
        "import logging\n",
        "import pytextrank\n",
        "import spacy\n",
        "import sys\n",
        "\n",
        "######################################################################\n",
        "## sample usage\n",
        "######################################################################\n",
        "\n",
        "# load a spaCy model, depending on language, scale, etc.\n",
        "\n",
        "nlp = spacy.load(\"en_core_web_sm\")\n",
        "\n",
        "# logging is optional: to debug, set the `logger` parameter\n",
        "# when initializing the TextRank object\n",
        "\n",
        "logging.basicConfig(stream=sys.stdout, level=logging.DEBUG)\n",
        "logger = logging.getLogger(\"PyTR\")\n",
        "\n",
        "# add PyTextRank into the spaCy pipeline\n",
        "\n",
        "tr = pytextrank.TextRank(logger=None)\n",
        "nlp.add_pipe(tr.PipelineComponent, name=\"textrank\", last=True)\n"
      ],
      "execution_count": 0,
      "outputs": []
    },
    {
      "cell_type": "markdown",
      "metadata": {
        "id": "bgCPjHjrTaFR",
        "colab_type": "text"
      },
      "source": [
        "**Text Rank in a short text**"
      ]
    },
    {
      "cell_type": "code",
      "metadata": {
        "id": "fC4QQdiVTZSq",
        "colab_type": "code",
        "colab": {
          "base_uri": "https://localhost:8080/",
          "height": 53
        },
        "outputId": "f414cd96-c2e6-4e37-9af3-e7ca8c24ed60"
      },
      "source": [
        "\n",
        "# parse the document\n",
        "local = False\n",
        "\n",
        "if local :\n",
        "  with open(\"dat/mih.txt\", \"r\") as f:\n",
        "      text = f.read()\n",
        "else: \n",
        "  from urllib.request import urlopen\n",
        "  url = 'https://raw.githubusercontent.com/DerwenAI/pytextrank/master/dat/mih.txt'\n",
        "  data = urlopen(url).read().decode(\"utf-8\") \n",
        "\n",
        "doc = nlp(text)\n",
        "\n",
        "print(\"pipeline\", nlp.pipe_names)\n",
        "print(\"elapsed time: {} ms\".format(tr.elapsed_time))"
      ],
      "execution_count": 7,
      "outputs": [
        {
          "output_type": "stream",
          "text": [
            "pipeline ['tagger', 'parser', 'ner', 'textrank']\n",
            "elapsed time: 8.878231048583984 ms\n"
          ],
          "name": "stdout"
        }
      ]
    },
    {
      "cell_type": "markdown",
      "metadata": {
        "id": "MLSiZGecT3KZ",
        "colab_type": "text"
      },
      "source": [
        "Top-ranked phrases"
      ]
    },
    {
      "cell_type": "code",
      "metadata": {
        "id": "rErjsb5wSz72",
        "colab_type": "code",
        "colab": {
          "base_uri": "https://localhost:8080/",
          "height": 449
        },
        "outputId": "8d66f228-ca14-473e-f545-8a8589b88690"
      },
      "source": [
        "# examine the top-ranked phrases in the document\n",
        "print('Top-ranked phrases: ')\n",
        "print('RANK - COUNT - TEXT [chunks] ')\n",
        "for phrase in doc._.phrases:\n",
        "    print(\"{:.4f} {:5d}  {} - {}\".format(phrase.rank, phrase.count, phrase.text, phrase.chunks))"
      ],
      "execution_count": 8,
      "outputs": [
        {
          "output_type": "stream",
          "text": [
            "Top-ranked phrases: \n",
            "RANK - COUNT - TEXT [chunks] \n",
            "0.1567     1  minimal generating sets - [minimal generating sets]\n",
            "0.1371     4  systems - [systems, systems, systems, a system]\n",
            "0.1178     3  solutions - [solutions, solutions, solutions]\n",
            "0.1164     1  linear diophantine equations - [linear Diophantine equations]\n",
            "0.1077     1  nonstrict inequations - [nonstrict inequations]\n",
            "0.1050     1  mixed types - [mixed types]\n",
            "0.1044     1  strict inequations - [strict inequations]\n",
            "0.1000     1  a minimal supporting set - [a minimal supporting set]\n",
            "0.0979     1  linear constraints - [linear constraints]\n",
            "0.0919     1  upper bounds - [Upper bounds]\n",
            "0.0913     1  a minimal set - [a minimal set]\n",
            "0.0804     1  components - [components]\n",
            "0.0797     1  natural numbers - [natural numbers]\n",
            "0.0797     1  algorithms - [algorithms]\n",
            "0.0782     1  all the considered types systems - [all the considered types systems]\n",
            "0.0768     1  diophantine - [Diophantine]\n",
            "0.0697     2  compatibility - [Compatibility, compatibility]\n",
            "0.0693     1  construction - [construction]\n",
            "0.0668     1  the set - [the set]\n",
            "0.0629     2  criteria - [Criteria, These criteria]\n",
            "0.0588     1  the corresponding algorithms - [the corresponding algorithms]\n",
            "0.0528     1  all types - [all types]\n"
          ],
          "name": "stdout"
        }
      ]
    },
    {
      "cell_type": "markdown",
      "metadata": {
        "id": "ikZkVl2KUUkd",
        "colab_type": "text"
      },
      "source": [
        "Document to visualize graph"
      ]
    },
    {
      "cell_type": "code",
      "metadata": {
        "id": "xUPAL425UUu1",
        "colab_type": "code",
        "colab": {}
      },
      "source": [
        "# generate a GraphViz doc to visualize the lemma graph\n",
        "tr.write_dot(path=\"lemma_graph.dot\")"
      ],
      "execution_count": 0,
      "outputs": []
    },
    {
      "cell_type": "markdown",
      "metadata": {
        "id": "ePglRYG4Uhdz",
        "colab_type": "text"
      },
      "source": [
        "**Text Rank in a long text**"
      ]
    },
    {
      "cell_type": "code",
      "metadata": {
        "id": "uwbZ_qfYSsmL",
        "colab_type": "code",
        "colab": {}
      },
      "source": [
        "# switch to a longer text document...\n",
        "\n",
        "if local :\n",
        "  with open(\"dat/lee.txt\", \"r\") as f:\n",
        "      text = f.read()\n",
        "else: \n",
        "  from urllib.request import urlopen\n",
        "  url = 'https://raw.githubusercontent.com/DerwenAI/pytextrank/master/dat/lee.txt'\n",
        "  data = urlopen(url).read().decode(\"utf-8\") \n",
        "\n",
        "doc = nlp(text)"
      ],
      "execution_count": 0,
      "outputs": []
    },
    {
      "cell_type": "markdown",
      "metadata": {
        "id": "Ondp4oGAUsOO",
        "colab_type": "text"
      },
      "source": [
        "Top-ranked phrases"
      ]
    },
    {
      "cell_type": "code",
      "metadata": {
        "id": "2BGusgGvUsYF",
        "colab_type": "code",
        "colab": {
          "base_uri": "https://localhost:8080/",
          "height": 377
        },
        "outputId": "cde3233f-5c03-4811-cb31-a01f7bd275de"
      },
      "source": [
        "for phrase in doc._.phrases[:20]:\n",
        "    print(phrase)"
      ],
      "execution_count": 11,
      "outputs": [
        {
          "output_type": "stream",
          "text": [
            "minimal generating sets\n",
            "systems\n",
            "solutions\n",
            "linear diophantine equations\n",
            "nonstrict inequations\n",
            "mixed types\n",
            "strict inequations\n",
            "a minimal supporting set\n",
            "linear constraints\n",
            "upper bounds\n",
            "a minimal set\n",
            "components\n",
            "natural numbers\n",
            "algorithms\n",
            "all the considered types systems\n",
            "diophantine\n",
            "compatibility\n",
            "construction\n",
            "the set\n",
            "criteria\n"
          ],
          "name": "stdout"
        }
      ]
    },
    {
      "cell_type": "markdown",
      "metadata": {
        "id": "OgGH0-xnU5gh",
        "colab_type": "text"
      },
      "source": [
        "Summarize"
      ]
    },
    {
      "cell_type": "code",
      "metadata": {
        "id": "ekDqFAitUocv",
        "colab_type": "code",
        "colab": {
          "base_uri": "https://localhost:8080/",
          "height": 89
        },
        "outputId": "8b1385ea-90ce-4980-b75b-06625a16029d"
      },
      "source": [
        "# summarize the document based on the top 15 phrases, \n",
        "# yielding the top 5 sentences...\n",
        "\n",
        "for sent in doc._.textrank.summary(limit_phrases=15, limit_sentences=5):\n",
        "    print(sent)\n"
      ],
      "execution_count": 12,
      "outputs": [
        {
          "output_type": "stream",
          "text": [
            "Upper bounds for components of a minimal set of solutions and algorithms of construction of minimal generating sets of solutions for all types of systems are given.\n",
            "Criteria of compatibility of a system of linear Diophantine equations, strict inequations, and nonstrict inequations are considered.\n",
            "These criteria and the corresponding algorithms for constructing a minimal supporting set of solutions can be used in solving all the considered types systems and systems of mixed types.\n",
            "Compatibility of systems of linear constraints over the set of natural numbers.\n"
          ],
          "name": "stdout"
        }
      ]
    },
    {
      "cell_type": "markdown",
      "metadata": {
        "id": "HAv_uas2Vz-u",
        "colab_type": "text"
      },
      "source": [
        "**Stopwords**"
      ]
    },
    {
      "cell_type": "code",
      "metadata": {
        "id": "QTovURbgUoqZ",
        "colab_type": "code",
        "colab": {
          "base_uri": "https://localhost:8080/",
          "height": 215
        },
        "outputId": "10856fde-4b4a-44f0-a6c0-bc4d58387c96"
      },
      "source": [
        "\n",
        "# to show use of stopwords, first we output a baseline...\n",
        "\n",
        "if local :\n",
        "  with open(\"dat/gen.txt\", \"r\") as f:\n",
        "      text = f.read()\n",
        "else: \n",
        "  from urllib.request import urlopen\n",
        "  url = 'https://raw.githubusercontent.com/DerwenAI/pytextrank/master/dat/gen.txt'\n",
        "  data = urlopen(url).read().decode(\"utf-8\") \n",
        "\n",
        "doc = nlp(text)\n",
        "\n",
        "print(f'Top ranked phrases with stopwords : ')\n",
        "for phrase in doc._.phrases[:10]:\n",
        "    print(f'\\t - {phrase}')\n"
      ],
      "execution_count": 13,
      "outputs": [
        {
          "output_type": "stream",
          "text": [
            "Top ranked phrases with stopwords : \n",
            "\t - minimal generating sets\n",
            "\t - systems\n",
            "\t - solutions\n",
            "\t - linear diophantine equations\n",
            "\t - nonstrict inequations\n",
            "\t - mixed types\n",
            "\t - strict inequations\n",
            "\t - a minimal supporting set\n",
            "\t - linear constraints\n",
            "\t - upper bounds\n"
          ],
          "name": "stdout"
        }
      ]
    },
    {
      "cell_type": "markdown",
      "metadata": {
        "id": "p-P5gHeoV8Qa",
        "colab_type": "text"
      },
      "source": [
        "Load stopwords"
      ]
    },
    {
      "cell_type": "code",
      "metadata": {
        "id": "3pd6966uUot5",
        "colab_type": "code",
        "colab": {
          "base_uri": "https://localhost:8080/",
          "height": 215
        },
        "outputId": "93478c85-c1d5-43cf-a58c-bd087ed65fb1"
      },
      "source": [
        "\n",
        "# now add `(\"gensim\", \"PROPN\")` to the stop words list\n",
        "# then see how the top-ranked phrases differ...\n",
        "\n",
        "if not local :\n",
        "  url = 'https://raw.githubusercontent.com/DerwenAI/pytextrank/master/stop.json'\n",
        "  data = urlopen(url).read().decode(\"utf-8\") \n",
        "  with open('stop.json', 'w') as localfile:\n",
        "      localfile.write(data)\n",
        "\n",
        "tr.load_stopwords(path=\"stop.json\")\n",
        "\n",
        "doc = nlp(text)\n",
        "\n",
        "print(f'Top ranked phrases without stopwords :')\n",
        "for phrase in doc._.phrases[:10]:\n",
        "    print(f'\\t - {phrase}')"
      ],
      "execution_count": 14,
      "outputs": [
        {
          "output_type": "stream",
          "text": [
            "Top ranked phrases without stopwords :\n",
            "\t - minimal generating sets\n",
            "\t - systems\n",
            "\t - solutions\n",
            "\t - linear diophantine equations\n",
            "\t - nonstrict inequations\n",
            "\t - mixed types\n",
            "\t - strict inequations\n",
            "\t - a minimal supporting set\n",
            "\t - linear constraints\n",
            "\t - upper bounds\n"
          ],
          "name": "stdout"
        }
      ]
    },
    {
      "cell_type": "code",
      "metadata": {
        "id": "_u-9kGyDUoxz",
        "colab_type": "code",
        "colab": {}
      },
      "source": [
        ""
      ],
      "execution_count": 0,
      "outputs": []
    },
    {
      "cell_type": "code",
      "metadata": {
        "id": "3NL1Uz0WxHFc",
        "colab_type": "code",
        "colab": {}
      },
      "source": [
        ""
      ],
      "execution_count": 0,
      "outputs": []
    }
  ]
}