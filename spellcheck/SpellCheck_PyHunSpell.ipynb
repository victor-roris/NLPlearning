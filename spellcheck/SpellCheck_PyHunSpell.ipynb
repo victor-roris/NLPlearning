{
  "nbformat": 4,
  "nbformat_minor": 0,
  "metadata": {
    "colab": {
      "name": "SpellCheck-PyHunSpell.ipynb",
      "provenance": [],
      "include_colab_link": true
    },
    "kernelspec": {
      "name": "python3",
      "display_name": "Python 3"
    }
  },
  "cells": [
    {
      "cell_type": "markdown",
      "metadata": {
        "id": "view-in-github",
        "colab_type": "text"
      },
      "source": [
        "<a href=\"https://colab.research.google.com/github/victor-roris/mediumseries/blob/master/NLP/SpellCheck_PyHunSpell.ipynb\" target=\"_parent\"><img src=\"https://colab.research.google.com/assets/colab-badge.svg\" alt=\"Open In Colab\"/></a>"
      ]
    },
    {
      "cell_type": "markdown",
      "metadata": {
        "id": "GXg7dGNdzlDF",
        "colab_type": "text"
      },
      "source": [
        "# PyHunSpell\n",
        "\n",
        "PyHunSpell is a set of Python bindings for the Hunspell spellchecker engine. It lets developers load Hunspell dictionaries, check words, get suggestions, add new words, etc. It also provides some basic morphological analysis related methods.\n",
        "\n",
        "GITHUB: https://github.com/blatinier/pyhunspell"
      ]
    },
    {
      "cell_type": "markdown",
      "metadata": {
        "id": "mw0nrYIq3gGQ",
        "colab_type": "text"
      },
      "source": [
        "## Installation"
      ]
    },
    {
      "cell_type": "code",
      "metadata": {
        "id": "nhOcXAdAy0pI",
        "colab_type": "code",
        "colab": {}
      },
      "source": [
        "!apt-get install -y  python-dev libhunspell-dev"
      ],
      "execution_count": 0,
      "outputs": []
    },
    {
      "cell_type": "code",
      "metadata": {
        "id": "-ynSJCjJywuq",
        "colab_type": "code",
        "colab": {}
      },
      "source": [
        "!pip install hunspell"
      ],
      "execution_count": 0,
      "outputs": []
    },
    {
      "cell_type": "code",
      "metadata": {
        "id": "UGFKVeIey5ex",
        "colab_type": "code",
        "colab": {}
      },
      "source": [
        "!python -m spacy download en_core_web_md"
      ],
      "execution_count": 0,
      "outputs": []
    },
    {
      "cell_type": "markdown",
      "metadata": {
        "id": "gXUu9oPd3iSM",
        "colab_type": "text"
      },
      "source": [
        "## Example of use"
      ]
    },
    {
      "cell_type": "markdown",
      "metadata": {
        "id": "fXLEs8oo55Do",
        "colab_type": "text"
      },
      "source": [
        "Load Hunspell dictionaries (by default, when you install hunspell them are stored in `/usr/share/hunspell/` path)"
      ]
    },
    {
      "cell_type": "code",
      "metadata": {
        "id": "ytTFqXTG2OmB",
        "colab_type": "code",
        "colab": {}
      },
      "source": [
        "import hunspell\n",
        "hobj = hunspell.HunSpell('/usr/share/hunspell/en_US.dic', '/usr/share/hunspell/en_US.aff')"
      ],
      "execution_count": 0,
      "outputs": []
    },
    {
      "cell_type": "markdown",
      "metadata": {
        "id": "xugM_QLo6cjT",
        "colab_type": "text"
      },
      "source": [
        "Check spelling of a word"
      ]
    },
    {
      "cell_type": "code",
      "metadata": {
        "id": "JgZM1tcz3rRP",
        "colab_type": "code",
        "colab": {
          "base_uri": "https://localhost:8080/",
          "height": 35
        },
        "outputId": "a1922164-06d6-41f9-baf7-5e15306623fe"
      },
      "source": [
        "hobj.spell('spookie')"
      ],
      "execution_count": 2,
      "outputs": [
        {
          "output_type": "execute_result",
          "data": {
            "text/plain": [
              "False"
            ]
          },
          "metadata": {
            "tags": []
          },
          "execution_count": 2
        }
      ]
    },
    {
      "cell_type": "code",
      "metadata": {
        "id": "Yrc04B9A3vpU",
        "colab_type": "code",
        "colab": {
          "base_uri": "https://localhost:8080/",
          "height": 35
        },
        "outputId": "6afcdf65-61bf-40a0-b7fa-9310a1f17252"
      },
      "source": [
        "hobj.spell('spooky')"
      ],
      "execution_count": 4,
      "outputs": [
        {
          "output_type": "execute_result",
          "data": {
            "text/plain": [
              "True"
            ]
          },
          "metadata": {
            "tags": []
          },
          "execution_count": 4
        }
      ]
    },
    {
      "cell_type": "markdown",
      "metadata": {
        "id": "C_VG4U8O6lMd",
        "colab_type": "text"
      },
      "source": [
        "Get a correction suggestion for a word"
      ]
    },
    {
      "cell_type": "code",
      "metadata": {
        "id": "2hIQCLse3tP2",
        "colab_type": "code",
        "colab": {
          "base_uri": "https://localhost:8080/",
          "height": 35
        },
        "outputId": "6ecfd30f-347a-4c9d-d5e5-a4d0e683030f"
      },
      "source": [
        "hobj.suggest('spookie')"
      ],
      "execution_count": 3,
      "outputs": [
        {
          "output_type": "execute_result",
          "data": {
            "text/plain": [
              "['spookier', 'spook']"
            ]
          },
          "metadata": {
            "tags": []
          },
          "execution_count": 3
        }
      ]
    },
    {
      "cell_type": "markdown",
      "metadata": {
        "id": "_zzvIa067A4i",
        "colab_type": "text"
      },
      "source": [
        "No only gives suggestion to misspelling words."
      ]
    },
    {
      "cell_type": "code",
      "metadata": {
        "id": "RGgGNKGx6501",
        "colab_type": "code",
        "colab": {
          "base_uri": "https://localhost:8080/",
          "height": 35
        },
        "outputId": "c1f85e4d-47f2-41f4-f867-f791124d9742"
      },
      "source": [
        "hobj.suggest('peace')"
      ],
      "execution_count": 7,
      "outputs": [
        {
          "output_type": "execute_result",
          "data": {
            "text/plain": [
              "['peace', 'Peace', 'pace', 'peaces', 'pence', 'place', 'peach']"
            ]
          },
          "metadata": {
            "tags": []
          },
          "execution_count": 7
        }
      ]
    },
    {
      "cell_type": "markdown",
      "metadata": {
        "id": "4jweCfAk7Xiq",
        "colab_type": "text"
      },
      "source": [
        "Get morphological analysis"
      ]
    },
    {
      "cell_type": "code",
      "metadata": {
        "id": "KHoOL2si3x7E",
        "colab_type": "code",
        "colab": {
          "base_uri": "https://localhost:8080/",
          "height": 35
        },
        "outputId": "077dfc51-dd0c-4473-d9c7-722615dcdbb2"
      },
      "source": [
        "hobj.analyze('linked')"
      ],
      "execution_count": 5,
      "outputs": [
        {
          "output_type": "execute_result",
          "data": {
            "text/plain": [
              "[b' st:link fl:D']"
            ]
          },
          "metadata": {
            "tags": []
          },
          "execution_count": 5
        }
      ]
    },
    {
      "cell_type": "markdown",
      "metadata": {
        "id": "RjsNV4Nx7qlq",
        "colab_type": "text"
      },
      "source": [
        "Add a new word to the dictionary"
      ]
    },
    {
      "cell_type": "code",
      "metadata": {
        "id": "c-7DrUoN31fR",
        "colab_type": "code",
        "colab": {
          "base_uri": "https://localhost:8080/",
          "height": 35
        },
        "outputId": "3ca37e84-4b78-4f06-9a63-46783c44f072"
      },
      "source": [
        "hobj.spell('DataSpartan')"
      ],
      "execution_count": 9,
      "outputs": [
        {
          "output_type": "execute_result",
          "data": {
            "text/plain": [
              "False"
            ]
          },
          "metadata": {
            "tags": []
          },
          "execution_count": 9
        }
      ]
    },
    {
      "cell_type": "code",
      "metadata": {
        "id": "eNhqbtgo7zsH",
        "colab_type": "code",
        "colab": {
          "base_uri": "https://localhost:8080/",
          "height": 35
        },
        "outputId": "cc23202f-997b-4c1f-aadf-84dc448833a0"
      },
      "source": [
        "hobj.add('DataSpartan')"
      ],
      "execution_count": 10,
      "outputs": [
        {
          "output_type": "execute_result",
          "data": {
            "text/plain": [
              "0"
            ]
          },
          "metadata": {
            "tags": []
          },
          "execution_count": 10
        }
      ]
    },
    {
      "cell_type": "code",
      "metadata": {
        "id": "F2M6pLYv7wSu",
        "colab_type": "code",
        "colab": {
          "base_uri": "https://localhost:8080/",
          "height": 35
        },
        "outputId": "4cd42b25-5979-4cb2-b292-0db3e44e4101"
      },
      "source": [
        "hobj.spell('DataSpartan')"
      ],
      "execution_count": 11,
      "outputs": [
        {
          "output_type": "execute_result",
          "data": {
            "text/plain": [
              "True"
            ]
          },
          "metadata": {
            "tags": []
          },
          "execution_count": 11
        }
      ]
    },
    {
      "cell_type": "code",
      "metadata": {
        "id": "RXLF6PyW74pu",
        "colab_type": "code",
        "colab": {}
      },
      "source": [
        ""
      ],
      "execution_count": 0,
      "outputs": []
    }
  ]
}