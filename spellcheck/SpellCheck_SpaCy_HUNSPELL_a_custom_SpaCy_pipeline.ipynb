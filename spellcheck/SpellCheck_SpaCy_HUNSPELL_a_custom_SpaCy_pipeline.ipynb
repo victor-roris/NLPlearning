{
  "nbformat": 4,
  "nbformat_minor": 0,
  "metadata": {
    "colab": {
      "name": "SpellCheck - SpaCy_HUNSPELL a custom SpaCy pipeline.ipynb",
      "provenance": [],
      "include_colab_link": true
    },
    "kernelspec": {
      "name": "python3",
      "display_name": "Python 3"
    }
  },
  "cells": [
    {
      "cell_type": "markdown",
      "metadata": {
        "id": "view-in-github",
        "colab_type": "text"
      },
      "source": [
        "<a href=\"https://colab.research.google.com/github/victor-roris/mediumseries/blob/master/NLP/SpellCheck_SpaCy_HUNSPELL_a_custom_SpaCy_pipeline.ipynb\" target=\"_parent\"><img src=\"https://colab.research.google.com/assets/colab-badge.svg\" alt=\"Open In Colab\"/></a>"
      ]
    },
    {
      "cell_type": "markdown",
      "metadata": {
        "id": "OBSszfg8rY44",
        "colab_type": "text"
      },
      "source": [
        "## SpaCy_HUNSPELL\n",
        "\n",
        "This package was born from a `issue` in the SpaCy github: https://github.com/explosion/spaCy/issues/315\n",
        "\n",
        "In it, `Ines` proposes make a custom pipeline to includes a `spell check` process in Spacy. The user `tokestermw` decides to use the package `PyHunSpell` to create his custom package and publishes this package with the name: `spacy_hunspell`\n",
        "\n",
        "PyHunSpell Github: https://github.com/blatinier/pyhunspell\n",
        "\n",
        "Spacy_hunspell Github: https://github.com/tokestermw/spacy_hunspell"
      ]
    },
    {
      "cell_type": "markdown",
      "metadata": {
        "id": "kubqjXtutMmg",
        "colab_type": "text"
      },
      "source": [
        "## Installation"
      ]
    },
    {
      "cell_type": "code",
      "metadata": {
        "id": "otb53bxS2u6f",
        "colab_type": "code",
        "colab": {}
      },
      "source": [
        "! apt-get install -y  python-dev libhunspell-dev"
      ],
      "execution_count": 0,
      "outputs": []
    },
    {
      "cell_type": "code",
      "metadata": {
        "id": "NDh_FqV3pyE5",
        "colab_type": "code",
        "colab": {}
      },
      "source": [
        "! pip install spacy_hunspell"
      ],
      "execution_count": 0,
      "outputs": []
    },
    {
      "cell_type": "code",
      "metadata": {
        "id": "UbIhRCT8qOmB",
        "colab_type": "code",
        "colab": {}
      },
      "source": [
        "## If you have some problem - Install directly in linux\n",
        "# ! sudo apt-get install libhunspell-dev\n",
        "\n",
        "## Requirements.txt\n",
        "#! pip install 'hunspell==0.5.0'\n",
        "#! pip install 'spacy>=2.0.0'"
      ],
      "execution_count": 0,
      "outputs": []
    },
    {
      "cell_type": "code",
      "metadata": {
        "id": "iEW0LlrktqPy",
        "colab_type": "code",
        "colab": {}
      },
      "source": [
        "!python -m spacy download en_core_web_md\n",
        "\n",
        "# After donwload the model re-start the environment to ensure the code can use it."
      ],
      "execution_count": 0,
      "outputs": []
    },
    {
      "cell_type": "markdown",
      "metadata": {
        "id": "rJlpG_xFtcaA",
        "colab_type": "text"
      },
      "source": [
        "## Example of use"
      ]
    },
    {
      "cell_type": "code",
      "metadata": {
        "id": "r9GMdjHSqvXF",
        "colab_type": "code",
        "colab": {}
      },
      "source": [
        "import spacy\n",
        "from spacy_hunspell import spaCyHunSpell"
      ],
      "execution_count": 0,
      "outputs": []
    },
    {
      "cell_type": "markdown",
      "metadata": {
        "id": "PauvwDs8tlph",
        "colab_type": "text"
      },
      "source": [
        "Load model"
      ]
    },
    {
      "cell_type": "code",
      "metadata": {
        "id": "d-Qugp9ctnF_",
        "colab_type": "code",
        "colab": {}
      },
      "source": [
        "nlp = spacy.load('en_core_web_sm')"
      ],
      "execution_count": 0,
      "outputs": []
    },
    {
      "cell_type": "markdown",
      "metadata": {
        "id": "BgKn0b0duAM0",
        "colab_type": "text"
      },
      "source": [
        "We customize the spaCy pipeline with the spell check component\n",
        "\n",
        "For this, we include a dictionary. We can use the dictionary of the system or a custom dictionary:\n",
        "\n",
        " * For macs: `hunspell = spaCyHunSpell(nlp, 'mac')`\n",
        " * For linuxs: `hunspell = spaCyHunSpell(nlp, 'linux')`\n",
        " * For custom dictionary: `hunspell = spaCyHunSpell(nlp, ('en_US.dic', 'en_US.aff'))`"
      ]
    },
    {
      "cell_type": "code",
      "metadata": {
        "id": "JXmLdZLjq41Z",
        "colab_type": "code",
        "outputId": "48668150-d53f-464b-c528-a1f333a7e6d0",
        "colab": {
          "base_uri": "https://localhost:8080/",
          "height": 71
        }
      },
      "source": [
        "print(f'Original spaCy pipeline : {nlp.pipe_names}')\n",
        "\n",
        "if 'hunspell' not in nlp.pipe_names:\n",
        "  hunspell = spaCyHunSpell(nlp, 'linux')\n",
        "  nlp.add_pipe(hunspell)\n",
        "\n",
        "print(f'New spaCy pipeline : {nlp.pipe_names}')"
      ],
      "execution_count": 3,
      "outputs": [
        {
          "output_type": "stream",
          "text": [
            "Original spaCy pipeline : ['tagger', 'parser', 'ner']\n",
            "/usr/share/hunspell/en_US.dic /usr/share/hunspell/en_US.aff\n",
            "New spaCy pipeline : ['tagger', 'parser', 'ner', 'hunspell']\n"
          ],
          "name": "stdout"
        }
      ]
    },
    {
      "cell_type": "markdown",
      "metadata": {
        "id": "4Cht84kzvC11",
        "colab_type": "text"
      },
      "source": [
        "Tokenize text"
      ]
    },
    {
      "cell_type": "code",
      "metadata": {
        "id": "2U1q1ynIvoWv",
        "colab_type": "code",
        "colab": {}
      },
      "source": [
        "def correct_sentence(doc): \n",
        "\n",
        "  correct_sentence = \"\"\n",
        "  for token in doc:\n",
        "    if not token._.hunspell_spell:\n",
        "      print(f'Bad spell : {token}')\n",
        "      print(f'Correction proposals : {token._.hunspell_suggest}')\n",
        "\n",
        "      print(token.is_space)\n",
        "\n",
        "      correct_sentence += \" \" + token._.hunspell_suggest[0]\n",
        "    else:\n",
        "      correct_sentence += \" \" + token.text\n",
        "  \n",
        "  return correct_sentence.strip()"
      ],
      "execution_count": 0,
      "outputs": []
    },
    {
      "cell_type": "code",
      "metadata": {
        "id": "VO_mdp8pvFBC",
        "colab_type": "code",
        "outputId": "18140dc3-7a2c-442f-cef6-7de3d106c9a3",
        "colab": {
          "base_uri": "https://localhost:8080/",
          "height": 143
        }
      },
      "source": [
        "doc = nlp('I can haz cheezeburger.')\n",
        "correct_sentence(doc)"
      ],
      "execution_count": 5,
      "outputs": [
        {
          "output_type": "stream",
          "text": [
            "Bad spell : haz\n",
            "Correction proposals : ['ha', 'haze', 'hazy', 'has', 'hat', 'had', 'hag', 'ham', 'hap', 'hay', 'haw', 'ha z']\n",
            "False\n",
            "Bad spell : cheezeburger\n",
            "Correction proposals : ['cheeseburger', 'vegeburger']\n",
            "False\n"
          ],
          "name": "stdout"
        },
        {
          "output_type": "execute_result",
          "data": {
            "text/plain": [
              "'I can ha cheeseburger .'"
            ]
          },
          "metadata": {
            "tags": []
          },
          "execution_count": 5
        }
      ]
    },
    {
      "cell_type": "code",
      "metadata": {
        "id": "QhcxjwecthwF",
        "colab_type": "code",
        "outputId": "962fe8a4-f7e2-4175-f0f4-a9e6c627882a",
        "colab": {
          "base_uri": "https://localhost:8080/",
          "height": 89
        }
      },
      "source": [
        "doc = nlp('This street is peacefull')\n",
        "correct_sentence(doc)"
      ],
      "execution_count": 6,
      "outputs": [
        {
          "output_type": "stream",
          "text": [
            "Bad spell : peacefull\n",
            "Correction proposals : ['peaceful', 'peacefully', 'peace full', 'peace-full', 'peaceful l']\n",
            "False\n"
          ],
          "name": "stdout"
        },
        {
          "output_type": "execute_result",
          "data": {
            "text/plain": [
              "'This street is peaceful'"
            ]
          },
          "metadata": {
            "tags": []
          },
          "execution_count": 6
        }
      ]
    },
    {
      "cell_type": "code",
      "metadata": {
        "id": "WaKEh-PLvg8l",
        "colab_type": "code",
        "colab": {}
      },
      "source": [
        ""
      ],
      "execution_count": 0,
      "outputs": []
    }
  ]
}