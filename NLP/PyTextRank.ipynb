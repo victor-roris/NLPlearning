{
  "nbformat": 4,
  "nbformat_minor": 0,
  "metadata": {
    "colab": {
      "name": "PyTextRank.ipynb",
      "provenance": [],
      "collapsed_sections": [],
      "include_colab_link": true
    },
    "kernelspec": {
      "name": "python3",
      "display_name": "Python 3"
    }
  },
  "cells": [
    {
      "cell_type": "markdown",
      "metadata": {
        "id": "view-in-github",
        "colab_type": "text"
      },
      "source": [
        "<a href=\"https://colab.research.google.com/github/victor-roris/mediumseries/blob/master/NLP/PyTextRank.ipynb\" target=\"_parent\"><img src=\"https://colab.research.google.com/assets/colab-badge.svg\" alt=\"Open In Colab\"/></a>"
      ]
    },
    {
      "cell_type": "markdown",
      "metadata": {
        "id": "81UmwfNIxNad",
        "colab_type": "text"
      },
      "source": [
        "# PyTextRank\n",
        "\n",
        "Python tool developed by Paco Nathan.\n",
        "\n",
        "PyTextRank is a Python implementation of TextRank as a spaCy extension, used to:\n",
        "\n",
        " - extract the top-ranked phrases from text documents\n",
        " - infer links from unstructured text into structured data\n",
        " - run extractive summarization of text documents\n",
        "\n",
        "To more information, visit official github: https://github.com/DerwenAI/pytextrank"
      ]
    },
    {
      "cell_type": "markdown",
      "metadata": {
        "id": "IcROLRScxxOL",
        "colab_type": "text"
      },
      "source": [
        "## Installation"
      ]
    },
    {
      "cell_type": "code",
      "metadata": {
        "id": "iSz9CMccg26c",
        "colab_type": "code",
        "outputId": "dab2411f-7496-49ca-bcdf-b290e36157ab",
        "colab": {
          "base_uri": "https://localhost:8080/",
          "height": 881
        }
      },
      "source": [
        "! pip install pytextrank\n",
        "! pip install 'graphviz>=0.13'\n",
        "! pip install 'networkx >= 2.0'\n",
        "! pip install 'spacy >= 2.0'"
      ],
      "execution_count": 0,
      "outputs": [
        {
          "output_type": "stream",
          "text": [
            "Collecting pytextrank\n",
            "  Downloading https://files.pythonhosted.org/packages/1d/bb/b7f864f862e6fbbbe9c935c5fd006e96fc8cc6c63b74d6c1b8adb668d3d1/pytextrank-2.0.0-py3-none-any.whl\n",
            "Requirement already satisfied: spacy in /usr/local/lib/python3.6/dist-packages (from pytextrank) (2.1.9)\n",
            "Requirement already satisfied: graphviz in /usr/local/lib/python3.6/dist-packages (from pytextrank) (0.10.1)\n",
            "Requirement already satisfied: networkx in /usr/local/lib/python3.6/dist-packages (from pytextrank) (2.4)\n",
            "Requirement already satisfied: wasabi<1.1.0,>=0.2.0 in /usr/local/lib/python3.6/dist-packages (from spacy->pytextrank) (0.4.0)\n",
            "Requirement already satisfied: cymem<2.1.0,>=2.0.2 in /usr/local/lib/python3.6/dist-packages (from spacy->pytextrank) (2.0.3)\n",
            "Requirement already satisfied: murmurhash<1.1.0,>=0.28.0 in /usr/local/lib/python3.6/dist-packages (from spacy->pytextrank) (1.0.2)\n",
            "Requirement already satisfied: srsly<1.1.0,>=0.0.6 in /usr/local/lib/python3.6/dist-packages (from spacy->pytextrank) (0.2.0)\n",
            "Requirement already satisfied: numpy>=1.15.0 in /usr/local/lib/python3.6/dist-packages (from spacy->pytextrank) (1.17.4)\n",
            "Requirement already satisfied: preshed<2.1.0,>=2.0.1 in /usr/local/lib/python3.6/dist-packages (from spacy->pytextrank) (2.0.1)\n",
            "Requirement already satisfied: requests<3.0.0,>=2.13.0 in /usr/local/lib/python3.6/dist-packages (from spacy->pytextrank) (2.21.0)\n",
            "Requirement already satisfied: blis<0.3.0,>=0.2.2 in /usr/local/lib/python3.6/dist-packages (from spacy->pytextrank) (0.2.4)\n",
            "Requirement already satisfied: thinc<7.1.0,>=7.0.8 in /usr/local/lib/python3.6/dist-packages (from spacy->pytextrank) (7.0.8)\n",
            "Requirement already satisfied: plac<1.0.0,>=0.9.6 in /usr/local/lib/python3.6/dist-packages (from spacy->pytextrank) (0.9.6)\n",
            "Requirement already satisfied: decorator>=4.3.0 in /usr/local/lib/python3.6/dist-packages (from networkx->pytextrank) (4.4.1)\n",
            "Requirement already satisfied: idna<2.9,>=2.5 in /usr/local/lib/python3.6/dist-packages (from requests<3.0.0,>=2.13.0->spacy->pytextrank) (2.8)\n",
            "Requirement already satisfied: chardet<3.1.0,>=3.0.2 in /usr/local/lib/python3.6/dist-packages (from requests<3.0.0,>=2.13.0->spacy->pytextrank) (3.0.4)\n",
            "Requirement already satisfied: certifi>=2017.4.17 in /usr/local/lib/python3.6/dist-packages (from requests<3.0.0,>=2.13.0->spacy->pytextrank) (2019.9.11)\n",
            "Requirement already satisfied: urllib3<1.25,>=1.21.1 in /usr/local/lib/python3.6/dist-packages (from requests<3.0.0,>=2.13.0->spacy->pytextrank) (1.24.3)\n",
            "Requirement already satisfied: tqdm<5.0.0,>=4.10.0 in /usr/local/lib/python3.6/dist-packages (from thinc<7.1.0,>=7.0.8->spacy->pytextrank) (4.28.1)\n",
            "Installing collected packages: pytextrank\n",
            "Successfully installed pytextrank-2.0.0\n",
            "Collecting graphviz>=0.13\n",
            "  Downloading https://files.pythonhosted.org/packages/f5/74/dbed754c0abd63768d3a7a7b472da35b08ac442cf87d73d5850a6f32391e/graphviz-0.13.2-py2.py3-none-any.whl\n",
            "Installing collected packages: graphviz\n",
            "  Found existing installation: graphviz 0.10.1\n",
            "    Uninstalling graphviz-0.10.1:\n",
            "      Successfully uninstalled graphviz-0.10.1\n",
            "Successfully installed graphviz-0.13.2\n",
            "Requirement already satisfied: networkx>=2.0 in /usr/local/lib/python3.6/dist-packages (2.4)\n",
            "Requirement already satisfied: decorator>=4.3.0 in /usr/local/lib/python3.6/dist-packages (from networkx>=2.0) (4.4.1)\n",
            "Requirement already satisfied: spacy>=2.0 in /usr/local/lib/python3.6/dist-packages (2.1.9)\n",
            "Requirement already satisfied: wasabi<1.1.0,>=0.2.0 in /usr/local/lib/python3.6/dist-packages (from spacy>=2.0) (0.4.0)\n",
            "Requirement already satisfied: murmurhash<1.1.0,>=0.28.0 in /usr/local/lib/python3.6/dist-packages (from spacy>=2.0) (1.0.2)\n",
            "Requirement already satisfied: requests<3.0.0,>=2.13.0 in /usr/local/lib/python3.6/dist-packages (from spacy>=2.0) (2.21.0)\n",
            "Requirement already satisfied: plac<1.0.0,>=0.9.6 in /usr/local/lib/python3.6/dist-packages (from spacy>=2.0) (0.9.6)\n",
            "Requirement already satisfied: blis<0.3.0,>=0.2.2 in /usr/local/lib/python3.6/dist-packages (from spacy>=2.0) (0.2.4)\n",
            "Requirement already satisfied: thinc<7.1.0,>=7.0.8 in /usr/local/lib/python3.6/dist-packages (from spacy>=2.0) (7.0.8)\n",
            "Requirement already satisfied: numpy>=1.15.0 in /usr/local/lib/python3.6/dist-packages (from spacy>=2.0) (1.17.4)\n",
            "Requirement already satisfied: preshed<2.1.0,>=2.0.1 in /usr/local/lib/python3.6/dist-packages (from spacy>=2.0) (2.0.1)\n",
            "Requirement already satisfied: cymem<2.1.0,>=2.0.2 in /usr/local/lib/python3.6/dist-packages (from spacy>=2.0) (2.0.3)\n",
            "Requirement already satisfied: srsly<1.1.0,>=0.0.6 in /usr/local/lib/python3.6/dist-packages (from spacy>=2.0) (0.2.0)\n",
            "Requirement already satisfied: idna<2.9,>=2.5 in /usr/local/lib/python3.6/dist-packages (from requests<3.0.0,>=2.13.0->spacy>=2.0) (2.8)\n",
            "Requirement already satisfied: certifi>=2017.4.17 in /usr/local/lib/python3.6/dist-packages (from requests<3.0.0,>=2.13.0->spacy>=2.0) (2019.9.11)\n",
            "Requirement already satisfied: urllib3<1.25,>=1.21.1 in /usr/local/lib/python3.6/dist-packages (from requests<3.0.0,>=2.13.0->spacy>=2.0) (1.24.3)\n",
            "Requirement already satisfied: chardet<3.1.0,>=3.0.2 in /usr/local/lib/python3.6/dist-packages (from requests<3.0.0,>=2.13.0->spacy>=2.0) (3.0.4)\n",
            "Requirement already satisfied: tqdm<5.0.0,>=4.10.0 in /usr/local/lib/python3.6/dist-packages (from thinc<7.1.0,>=7.0.8->spacy>=2.0) (4.28.1)\n"
          ],
          "name": "stdout"
        }
      ]
    },
    {
      "cell_type": "markdown",
      "metadata": {
        "id": "a30PBFu_x5Lv",
        "colab_type": "text"
      },
      "source": [
        "## Basic Usage Example\n"
      ]
    },
    {
      "cell_type": "markdown",
      "metadata": {
        "id": "Enbl0m-Byarh",
        "colab_type": "text"
      },
      "source": [
        "1. Import the packages"
      ]
    },
    {
      "cell_type": "code",
      "metadata": {
        "id": "-_DXvNodydXp",
        "colab_type": "code",
        "colab": {}
      },
      "source": [
        "import spacy\n",
        "import pytextrank"
      ],
      "execution_count": 0,
      "outputs": []
    },
    {
      "cell_type": "markdown",
      "metadata": {
        "id": "2bNZGm_EyfEz",
        "colab_type": "text"
      },
      "source": [
        "2. Load the spacy model"
      ]
    },
    {
      "cell_type": "code",
      "metadata": {
        "id": "Ml6yKNKWyjKC",
        "colab_type": "code",
        "colab": {}
      },
      "source": [
        "# load a spaCy model, depending on language, scale, etc.\n",
        "nlp = spacy.load(\"en_core_web_sm\")"
      ],
      "execution_count": 0,
      "outputs": []
    },
    {
      "cell_type": "markdown",
      "metadata": {
        "id": "aeFFGOgGyle9",
        "colab_type": "text"
      },
      "source": [
        "3. Add the PyTextRank to the spaCy pipeline\n",
        "\n",
        "https://explosion.ai/blog/spacy-v2-pipelines-extensions "
      ]
    },
    {
      "cell_type": "code",
      "metadata": {
        "id": "io4Djw9uyr_b",
        "colab_type": "code",
        "colab": {}
      },
      "source": [
        "# add PyTextRank to the spaCy pipeline\n",
        "tr = pytextrank.TextRank()\n",
        "nlp.add_pipe(tr.PipelineComponent, name=\"textrank\", last=True)"
      ],
      "execution_count": 0,
      "outputs": []
    },
    {
      "cell_type": "markdown",
      "metadata": {
        "id": "hyYwR9m7yuWl",
        "colab_type": "text"
      },
      "source": [
        "4. Tokenize the text"
      ]
    },
    {
      "cell_type": "code",
      "metadata": {
        "id": "Di-IMRRiy1Qa",
        "colab_type": "code",
        "colab": {}
      },
      "source": [
        "# example text\n",
        "text = \"Compatibility of systems of linear constraints over the set of natural numbers. Criteria of compatibility of a system of linear Diophantine equations, strict inequations, and nonstrict inequations are considered. Upper bounds for components of a minimal set of solutions and algorithms of construction of minimal generating sets of solutions for all types of systems are given. These criteria and the corresponding algorithms for constructing a minimal supporting set of solutions can be used in solving all the considered types systems and systems of mixed types.\"\n",
        "\n",
        "doc = nlp(text)"
      ],
      "execution_count": 0,
      "outputs": []
    },
    {
      "cell_type": "markdown",
      "metadata": {
        "id": "_t4iOvkDy6EO",
        "colab_type": "text"
      },
      "source": [
        "5. Access to the pytextrank analysis"
      ]
    },
    {
      "cell_type": "code",
      "metadata": {
        "id": "ZYxNQGa9g58_",
        "colab_type": "code",
        "outputId": "202e17a5-8ff8-490f-8c09-a20bbfc20511",
        "colab": {
          "base_uri": "https://localhost:8080/",
          "height": 413
        }
      },
      "source": [
        "# examine the top-ranked phrases in the document\n",
        "for p in doc._.phrases:\n",
        "    print(\"TextRank : {:.4f} - Count : {:5d} - Text :  {} - Chunk : {}\".format(p.rank, p.count, p.text, p.chunks))"
      ],
      "execution_count": 0,
      "outputs": [
        {
          "output_type": "stream",
          "text": [
            "TextRank : 0.1567 - Count :     1 - Text :  minimal generating sets - Chunk : [minimal generating sets]\n",
            "TextRank : 0.1371 - Count :     4 - Text :  systems - Chunk : [systems, systems, systems, a system]\n",
            "TextRank : 0.1178 - Count :     3 - Text :  solutions - Chunk : [solutions, solutions, solutions]\n",
            "TextRank : 0.1164 - Count :     1 - Text :  linear diophantine equations - Chunk : [linear Diophantine equations]\n",
            "TextRank : 0.1077 - Count :     1 - Text :  nonstrict inequations - Chunk : [nonstrict inequations]\n",
            "TextRank : 0.1050 - Count :     1 - Text :  mixed types - Chunk : [mixed types]\n",
            "TextRank : 0.1044 - Count :     1 - Text :  strict inequations - Chunk : [strict inequations]\n",
            "TextRank : 0.1000 - Count :     1 - Text :  a minimal supporting set - Chunk : [a minimal supporting set]\n",
            "TextRank : 0.0979 - Count :     1 - Text :  linear constraints - Chunk : [linear constraints]\n",
            "TextRank : 0.0919 - Count :     1 - Text :  upper bounds - Chunk : [Upper bounds]\n",
            "TextRank : 0.0913 - Count :     1 - Text :  a minimal set - Chunk : [a minimal set]\n",
            "TextRank : 0.0804 - Count :     1 - Text :  components - Chunk : [components]\n",
            "TextRank : 0.0797 - Count :     1 - Text :  natural numbers - Chunk : [natural numbers]\n",
            "TextRank : 0.0797 - Count :     1 - Text :  algorithms - Chunk : [algorithms]\n",
            "TextRank : 0.0782 - Count :     1 - Text :  all the considered types systems - Chunk : [all the considered types systems]\n",
            "TextRank : 0.0768 - Count :     1 - Text :  diophantine - Chunk : [Diophantine]\n",
            "TextRank : 0.0697 - Count :     2 - Text :  compatibility - Chunk : [Compatibility, compatibility]\n",
            "TextRank : 0.0693 - Count :     1 - Text :  construction - Chunk : [construction]\n",
            "TextRank : 0.0668 - Count :     1 - Text :  the set - Chunk : [the set]\n",
            "TextRank : 0.0629 - Count :     2 - Text :  criteria - Chunk : [Criteria, These criteria]\n",
            "TextRank : 0.0588 - Count :     1 - Text :  the corresponding algorithms - Chunk : [the corresponding algorithms]\n",
            "TextRank : 0.0528 - Count :     1 - Text :  all types - Chunk : [all types]\n"
          ],
          "name": "stdout"
        }
      ]
    },
    {
      "cell_type": "markdown",
      "metadata": {
        "id": "1MIByg05z21x",
        "colab_type": "text"
      },
      "source": [
        "## Example\n",
        "\n",
        "https://github.com/DerwenAI/pytextrank/blob/master/example.py"
      ]
    },
    {
      "cell_type": "code",
      "metadata": {
        "id": "ISMBqVp-rad7",
        "colab_type": "code",
        "colab": {}
      },
      "source": [
        "#!/usr/bin/env python\n",
        "# encoding: utf-8\n",
        "\n",
        "import logging\n",
        "import pytextrank\n",
        "import spacy\n",
        "import sys\n",
        "\n",
        "######################################################################\n",
        "## sample usage\n",
        "######################################################################\n",
        "\n",
        "# load a spaCy model, depending on language, scale, etc.\n",
        "\n",
        "nlp = spacy.load(\"en_core_web_sm\")\n",
        "\n",
        "# logging is optional: to debug, set the `logger` parameter\n",
        "# when initializing the TextRank object\n",
        "\n",
        "logging.basicConfig(stream=sys.stdout, level=logging.DEBUG)\n",
        "logger = logging.getLogger(\"PyTR\")\n",
        "\n",
        "# add PyTextRank into the spaCy pipeline\n",
        "\n",
        "tr = pytextrank.TextRank(logger=None)\n",
        "nlp.add_pipe(tr.PipelineComponent, name=\"textrank\", last=True)\n"
      ],
      "execution_count": 0,
      "outputs": []
    },
    {
      "cell_type": "markdown",
      "metadata": {
        "id": "bgCPjHjrTaFR",
        "colab_type": "text"
      },
      "source": [
        "**Text Rank in a short text**"
      ]
    },
    {
      "cell_type": "code",
      "metadata": {
        "id": "fC4QQdiVTZSq",
        "colab_type": "code",
        "outputId": "f414cd96-c2e6-4e37-9af3-e7ca8c24ed60",
        "colab": {
          "base_uri": "https://localhost:8080/",
          "height": 53
        }
      },
      "source": [
        "\n",
        "# parse the document\n",
        "local = False\n",
        "\n",
        "if local :\n",
        "  with open(\"dat/mih.txt\", \"r\") as f:\n",
        "      text = f.read()\n",
        "else: \n",
        "  from urllib.request import urlopen\n",
        "  url = 'https://raw.githubusercontent.com/DerwenAI/pytextrank/master/dat/mih.txt'\n",
        "  data = urlopen(url).read().decode(\"utf-8\") \n",
        "\n",
        "doc = nlp(text)\n",
        "\n",
        "print(\"pipeline\", nlp.pipe_names)\n",
        "print(\"elapsed time: {} ms\".format(tr.elapsed_time))"
      ],
      "execution_count": 0,
      "outputs": [
        {
          "output_type": "stream",
          "text": [
            "pipeline ['tagger', 'parser', 'ner', 'textrank']\n",
            "elapsed time: 8.878231048583984 ms\n"
          ],
          "name": "stdout"
        }
      ]
    },
    {
      "cell_type": "markdown",
      "metadata": {
        "id": "MLSiZGecT3KZ",
        "colab_type": "text"
      },
      "source": [
        "Top-ranked phrases"
      ]
    },
    {
      "cell_type": "code",
      "metadata": {
        "id": "rErjsb5wSz72",
        "colab_type": "code",
        "outputId": "8d66f228-ca14-473e-f545-8a8589b88690",
        "colab": {
          "base_uri": "https://localhost:8080/",
          "height": 449
        }
      },
      "source": [
        "# examine the top-ranked phrases in the document\n",
        "print('Top-ranked phrases: ')\n",
        "print('RANK - COUNT - TEXT [chunks] ')\n",
        "for phrase in doc._.phrases:\n",
        "    print(\"{:.4f} {:5d}  {} - {}\".format(phrase.rank, phrase.count, phrase.text, phrase.chunks))"
      ],
      "execution_count": 0,
      "outputs": [
        {
          "output_type": "stream",
          "text": [
            "Top-ranked phrases: \n",
            "RANK - COUNT - TEXT [chunks] \n",
            "0.1567     1  minimal generating sets - [minimal generating sets]\n",
            "0.1371     4  systems - [systems, systems, systems, a system]\n",
            "0.1178     3  solutions - [solutions, solutions, solutions]\n",
            "0.1164     1  linear diophantine equations - [linear Diophantine equations]\n",
            "0.1077     1  nonstrict inequations - [nonstrict inequations]\n",
            "0.1050     1  mixed types - [mixed types]\n",
            "0.1044     1  strict inequations - [strict inequations]\n",
            "0.1000     1  a minimal supporting set - [a minimal supporting set]\n",
            "0.0979     1  linear constraints - [linear constraints]\n",
            "0.0919     1  upper bounds - [Upper bounds]\n",
            "0.0913     1  a minimal set - [a minimal set]\n",
            "0.0804     1  components - [components]\n",
            "0.0797     1  natural numbers - [natural numbers]\n",
            "0.0797     1  algorithms - [algorithms]\n",
            "0.0782     1  all the considered types systems - [all the considered types systems]\n",
            "0.0768     1  diophantine - [Diophantine]\n",
            "0.0697     2  compatibility - [Compatibility, compatibility]\n",
            "0.0693     1  construction - [construction]\n",
            "0.0668     1  the set - [the set]\n",
            "0.0629     2  criteria - [Criteria, These criteria]\n",
            "0.0588     1  the corresponding algorithms - [the corresponding algorithms]\n",
            "0.0528     1  all types - [all types]\n"
          ],
          "name": "stdout"
        }
      ]
    },
    {
      "cell_type": "markdown",
      "metadata": {
        "id": "ikZkVl2KUUkd",
        "colab_type": "text"
      },
      "source": [
        "Document to visualize graph"
      ]
    },
    {
      "cell_type": "code",
      "metadata": {
        "id": "xUPAL425UUu1",
        "colab_type": "code",
        "colab": {}
      },
      "source": [
        "# generate a GraphViz doc to visualize the lemma graph\n",
        "tr.write_dot(path=\"lemma_graph.dot\")"
      ],
      "execution_count": 0,
      "outputs": []
    },
    {
      "cell_type": "markdown",
      "metadata": {
        "id": "ePglRYG4Uhdz",
        "colab_type": "text"
      },
      "source": [
        "**Text Rank in a long text**"
      ]
    },
    {
      "cell_type": "code",
      "metadata": {
        "id": "uwbZ_qfYSsmL",
        "colab_type": "code",
        "colab": {}
      },
      "source": [
        "# switch to a longer text document...\n",
        "\n",
        "if local :\n",
        "  with open(\"dat/lee.txt\", \"r\") as f:\n",
        "      text = f.read()\n",
        "else: \n",
        "  from urllib.request import urlopen\n",
        "  url = 'https://raw.githubusercontent.com/DerwenAI/pytextrank/master/dat/lee.txt'\n",
        "  data = urlopen(url).read().decode(\"utf-8\") \n",
        "\n",
        "doc = nlp(text)"
      ],
      "execution_count": 0,
      "outputs": []
    },
    {
      "cell_type": "markdown",
      "metadata": {
        "id": "Ondp4oGAUsOO",
        "colab_type": "text"
      },
      "source": [
        "Top-ranked phrases"
      ]
    },
    {
      "cell_type": "code",
      "metadata": {
        "id": "2BGusgGvUsYF",
        "colab_type": "code",
        "outputId": "cde3233f-5c03-4811-cb31-a01f7bd275de",
        "colab": {
          "base_uri": "https://localhost:8080/",
          "height": 377
        }
      },
      "source": [
        "for phrase in doc._.phrases[:20]:\n",
        "    print(phrase)"
      ],
      "execution_count": 0,
      "outputs": [
        {
          "output_type": "stream",
          "text": [
            "minimal generating sets\n",
            "systems\n",
            "solutions\n",
            "linear diophantine equations\n",
            "nonstrict inequations\n",
            "mixed types\n",
            "strict inequations\n",
            "a minimal supporting set\n",
            "linear constraints\n",
            "upper bounds\n",
            "a minimal set\n",
            "components\n",
            "natural numbers\n",
            "algorithms\n",
            "all the considered types systems\n",
            "diophantine\n",
            "compatibility\n",
            "construction\n",
            "the set\n",
            "criteria\n"
          ],
          "name": "stdout"
        }
      ]
    },
    {
      "cell_type": "markdown",
      "metadata": {
        "id": "OgGH0-xnU5gh",
        "colab_type": "text"
      },
      "source": [
        "Summarize"
      ]
    },
    {
      "cell_type": "code",
      "metadata": {
        "id": "ekDqFAitUocv",
        "colab_type": "code",
        "outputId": "8b1385ea-90ce-4980-b75b-06625a16029d",
        "colab": {
          "base_uri": "https://localhost:8080/",
          "height": 89
        }
      },
      "source": [
        "# summarize the document based on the top 15 phrases, \n",
        "# yielding the top 5 sentences...\n",
        "\n",
        "for sent in doc._.textrank.summary(limit_phrases=15, limit_sentences=5):\n",
        "    print(sent)\n"
      ],
      "execution_count": 0,
      "outputs": [
        {
          "output_type": "stream",
          "text": [
            "Upper bounds for components of a minimal set of solutions and algorithms of construction of minimal generating sets of solutions for all types of systems are given.\n",
            "Criteria of compatibility of a system of linear Diophantine equations, strict inequations, and nonstrict inequations are considered.\n",
            "These criteria and the corresponding algorithms for constructing a minimal supporting set of solutions can be used in solving all the considered types systems and systems of mixed types.\n",
            "Compatibility of systems of linear constraints over the set of natural numbers.\n"
          ],
          "name": "stdout"
        }
      ]
    },
    {
      "cell_type": "markdown",
      "metadata": {
        "id": "HAv_uas2Vz-u",
        "colab_type": "text"
      },
      "source": [
        "**Stopwords**"
      ]
    },
    {
      "cell_type": "code",
      "metadata": {
        "id": "QTovURbgUoqZ",
        "colab_type": "code",
        "outputId": "10856fde-4b4a-44f0-a6c0-bc4d58387c96",
        "colab": {
          "base_uri": "https://localhost:8080/",
          "height": 215
        }
      },
      "source": [
        "\n",
        "# to show use of stopwords, first we output a baseline...\n",
        "\n",
        "if local :\n",
        "  with open(\"dat/gen.txt\", \"r\") as f:\n",
        "      text = f.read()\n",
        "else: \n",
        "  from urllib.request import urlopen\n",
        "  url = 'https://raw.githubusercontent.com/DerwenAI/pytextrank/master/dat/gen.txt'\n",
        "  data = urlopen(url).read().decode(\"utf-8\") \n",
        "\n",
        "doc = nlp(text)\n",
        "\n",
        "print(f'Top ranked phrases with stopwords : ')\n",
        "for phrase in doc._.phrases[:10]:\n",
        "    print(f'\\t - {phrase}')\n"
      ],
      "execution_count": 0,
      "outputs": [
        {
          "output_type": "stream",
          "text": [
            "Top ranked phrases with stopwords : \n",
            "\t - minimal generating sets\n",
            "\t - systems\n",
            "\t - solutions\n",
            "\t - linear diophantine equations\n",
            "\t - nonstrict inequations\n",
            "\t - mixed types\n",
            "\t - strict inequations\n",
            "\t - a minimal supporting set\n",
            "\t - linear constraints\n",
            "\t - upper bounds\n"
          ],
          "name": "stdout"
        }
      ]
    },
    {
      "cell_type": "markdown",
      "metadata": {
        "id": "p-P5gHeoV8Qa",
        "colab_type": "text"
      },
      "source": [
        "Load stopwords"
      ]
    },
    {
      "cell_type": "code",
      "metadata": {
        "id": "3pd6966uUot5",
        "colab_type": "code",
        "outputId": "93478c85-c1d5-43cf-a58c-bd087ed65fb1",
        "colab": {
          "base_uri": "https://localhost:8080/",
          "height": 215
        }
      },
      "source": [
        "\n",
        "# now add `(\"gensim\", \"PROPN\")` to the stop words list\n",
        "# then see how the top-ranked phrases differ...\n",
        "\n",
        "if not local :\n",
        "  url = 'https://raw.githubusercontent.com/DerwenAI/pytextrank/master/stop.json'\n",
        "  data = urlopen(url).read().decode(\"utf-8\") \n",
        "  with open('stop.json', 'w') as localfile:\n",
        "      localfile.write(data)\n",
        "\n",
        "tr.load_stopwords(path=\"stop.json\")\n",
        "\n",
        "doc = nlp(text)\n",
        "\n",
        "print(f'Top ranked phrases without stopwords :')\n",
        "for phrase in doc._.phrases[:10]:\n",
        "    print(f'\\t - {phrase}')"
      ],
      "execution_count": 0,
      "outputs": [
        {
          "output_type": "stream",
          "text": [
            "Top ranked phrases without stopwords :\n",
            "\t - minimal generating sets\n",
            "\t - systems\n",
            "\t - solutions\n",
            "\t - linear diophantine equations\n",
            "\t - nonstrict inequations\n",
            "\t - mixed types\n",
            "\t - strict inequations\n",
            "\t - a minimal supporting set\n",
            "\t - linear constraints\n",
            "\t - upper bounds\n"
          ],
          "name": "stdout"
        }
      ]
    },
    {
      "cell_type": "markdown",
      "metadata": {
        "id": "2dO9NSJdaf4Z",
        "colab_type": "text"
      },
      "source": [
        "## Example: Spanish text "
      ]
    },
    {
      "cell_type": "code",
      "metadata": {
        "id": "O0_kyN2aaydb",
        "colab_type": "code",
        "outputId": "0347a451-34db-49fd-f3d3-65fda4652c25",
        "colab": {
          "base_uri": "https://localhost:8080/",
          "height": 233
        }
      },
      "source": [
        "! python -m spacy download es_core_news_sm"
      ],
      "execution_count": 0,
      "outputs": [
        {
          "output_type": "stream",
          "text": [
            "Collecting es_core_news_sm==2.1.0\n",
            "\u001b[?25l  Downloading https://github.com/explosion/spacy-models/releases/download/es_core_news_sm-2.1.0/es_core_news_sm-2.1.0.tar.gz (11.1MB)\n",
            "\u001b[K     |████████████████████████████████| 11.1MB 781kB/s \n",
            "\u001b[?25hBuilding wheels for collected packages: es-core-news-sm\n",
            "  Building wheel for es-core-news-sm (setup.py) ... \u001b[?25l\u001b[?25hdone\n",
            "  Created wheel for es-core-news-sm: filename=es_core_news_sm-2.1.0-cp36-none-any.whl size=11111557 sha256=a1d91c5da711883498d09a1b9bc6c07674e80185db21735fb947d75bab754f0a\n",
            "  Stored in directory: /tmp/pip-ephem-wheel-cache-3s232e3b/wheels/cc/ee/c4/68922955901918a9aaa82e828d4f7ee1ccfc861285277e79b7\n",
            "Successfully built es-core-news-sm\n",
            "Installing collected packages: es-core-news-sm\n",
            "Successfully installed es-core-news-sm-2.1.0\n",
            "\u001b[38;5;2m✔ Download and installation successful\u001b[0m\n",
            "You can now load the model via spacy.load('es_core_news_sm')\n"
          ],
          "name": "stdout"
        }
      ]
    },
    {
      "cell_type": "markdown",
      "metadata": {
        "id": "ju2SSppja22U",
        "colab_type": "text"
      },
      "source": [
        "**Note**: after the installation, you should re-initialize the environment."
      ]
    },
    {
      "cell_type": "code",
      "metadata": {
        "id": "_u-9kGyDUoxz",
        "colab_type": "code",
        "colab": {}
      },
      "source": [
        "# load a spaCy model, depending on language, scale, etc.\n",
        "nlp = spacy.load(\"es_core_news_sm\")\n",
        "#nlp = spacy.load(\"en_core_web_sm\")\n",
        "\n",
        "# add PyTextRank into the spaCy pipeline\n",
        "tr = pytextrank.TextRank(logger=None)\n",
        "nlp.add_pipe(tr.PipelineComponent, name=\"textrank\", last=True)"
      ],
      "execution_count": 0,
      "outputs": []
    },
    {
      "cell_type": "code",
      "metadata": {
        "id": "3NL1Uz0WxHFc",
        "colab_type": "code",
        "colab": {}
      },
      "source": [
        "from bs4 import BeautifulSoup\n",
        "import requests\n",
        "import traceback\n",
        "import sys\n",
        "\n",
        "def get_text (url):\n",
        "    buf = []\n",
        "    \n",
        "    try:\n",
        "        soup = BeautifulSoup(requests.get(url).text, \"html.parser\")\n",
        "        \n",
        "        for p in soup.find_all(\"p\"):\n",
        "            buf.append(p.get_text())\n",
        "\n",
        "        return \"\\n\".join(buf)\n",
        "    except:\n",
        "        print(traceback.format_exc())\n",
        "        sys.exit(-1)\n",
        "doc = nlp(get_text(\"https://es.wikipedia.org/wiki/Italia\"))"
      ],
      "execution_count": 0,
      "outputs": []
    },
    {
      "cell_type": "code",
      "metadata": {
        "id": "79abSs49bjne",
        "colab_type": "code",
        "outputId": "ec9184d9-c553-4a99-bf3e-8160a6cd1c24",
        "colab": {
          "base_uri": "https://localhost:8080/",
          "height": 289
        }
      },
      "source": [
        "doc[0:500]"
      ],
      "execution_count": 0,
      "outputs": [
        {
          "output_type": "execute_result",
          "data": {
            "text/plain": [
              "\n",
              "\n",
              "\n",
              "\n",
              "Italia, oficialmente República Italiana (en italiano, Repubblica Italiana), es un país miembro de la Unión Europea, cuya forma de gobierno es la república parlamentaria. Su territorio, con capital en Roma, se divide en veinte regiones formadas estas, a su vez, por 110 provincias.\n",
              "\n",
              "Italia se ubica en el centro del mar Mediterráneo, en Europa meridional. Ocupa la península Itálica, así como la llanura Padana, la islas de Sicilia y Cerdeña y alrededor de ochocientas islas menores entre las que se destacan las islas Tremiti en el mar Adriático, los archipiélagos Campano y Toscano en el mar Tirreno, o las islas Pelagias en África septentrional, entre otras. En el norte, está rodeada por los Alpes y tiene frontera con Francia, Suiza, Austria, y Eslovenia. Los Estados de San Marino y Ciudad del Vaticano son enclaves dentro del territorio italiano. A su vez, Campione d'Italia es un municipio italiano que forma un pequeño enclave en territorio suizo.\n",
              "\n",
              "Ha sido el hogar de muchas culturas europeas como la civilización nurágica, los etruscos, los griegos, los romanos y también fue la cuna del Humanismo y del Renacimiento, que comenzó en la región de Toscana y pronto se extendió por toda Europa. La capital de Italia, Roma, ha sido durante siglos el centro político y cultural de la civilización occidental. Además, es la ciudad santa para la Iglesia católica, siendo el Papa el obispo de Roma y encontrándose dentro de la ciudad el microestado del Vaticano. El significado cultural del país se refleja en todos sus Patrimonios de la Humanidad, ya que tiene 55, el país con mayor número del mundo.[8]​\n",
              "\n",
              "Es el tercer país de la Unión Europea que más turistas recibe por año, siendo Roma la tercera ciudad más visitada.[9]​\n",
              "Otras ciudades importantes son: Milán, centro de finanzas y de industria, y, según el Global Language Monitor, la capital de la Moda;[10]​ Nápoles, importante puerto en el Mediterráneo, capital histórica y ciudad más poblada del Mezzogiorno;[11]​ Turín, centro de industria automovilística y de diseño industrial. Italia es una república democrática, forma parte del G7 o grupo de las siete más grandes naciones avanzadas del mundo y es un país desarrollado con una calidad de vida muy alta, encontrándose en 2005 entre las siete primeras del mundo.[12]​  \n",
              "\n",
              "Es el país número 28 (informe 2017) en materia de alto índice de desarrollo humano[7]​. Es una potencia regional y  mundial[13]​[14]​[15]​[16]​ miembro fundador de la Unión Europea, firmante del Tratado de Roma en 1957. También es miembro fundador de la Organización del Tratado del Atlántico Norte (OTAN) y miembro de la Organización para la Cooperación y el Desarrollo Económico, de"
            ]
          },
          "metadata": {
            "tags": []
          },
          "execution_count": 64
        }
      ]
    },
    {
      "cell_type": "code",
      "metadata": {
        "id": "gTX4zf7yb-mL",
        "colab_type": "code",
        "outputId": "03dff460-4c83-4ec6-9cf7-5b967639b52b",
        "colab": {
          "base_uri": "https://localhost:8080/",
          "height": 215
        }
      },
      "source": [
        "print(f'Top ranked phrases without stopwords :')\n",
        "for phrase in doc._.phrases[:10]:\n",
        "    print(f'\\t - {phrase}')"
      ],
      "execution_count": 0,
      "outputs": [
        {
          "output_type": "stream",
          "text": [
            "Top ranked phrases without stopwords :\n",
            "\t - italia\n",
            "\t - imperio italiano\n",
            "\t - estado italiano\n",
            "\t - neorrealismo italiano\n",
            "\t - siglos\n",
            "\t - país\n",
            "\t - siglo xvi\n",
            "\t - siglo xviii\n",
            "\t - siglo xvii\n",
            "\t - siglo xx\n"
          ],
          "name": "stdout"
        }
      ]
    },
    {
      "cell_type": "code",
      "metadata": {
        "id": "mDDVaxyzcptc",
        "colab_type": "code",
        "outputId": "83144574-ad6d-43d7-c6fb-00c99b9b5bc9",
        "colab": {
          "base_uri": "https://localhost:8080/",
          "height": 145
        }
      },
      "source": [
        "print(f'Sumarization :')\n",
        "for sent in doc._.textrank.summary(limit_phrases=15, limit_sentences=5):\n",
        "  sent_ = sent.text.replace('\\n','')\n",
        "  print(f'\\t - {sent_}')"
      ],
      "execution_count": 0,
      "outputs": [
        {
          "output_type": "stream",
          "text": [
            "Sumarization :\n",
            "\t - Hacia el 400 a. C., Etruria (nombre del país de los etruscos, entre la Toscana y la Lombardía) fue absorbida por los romanos y, antes o después, lo fueron el resto de pueblos itálicos.[21]​Como Antigua Roma se designa a una sociedad agrícola surgida a mediados del siglo VIII a. C. en el Latium Vetus (actual Lacio), que se expandió desde la ciudad de Roma a toda la península itálica, unificándola bajo el nombre de Italia, y que creció durante siglos hasta convertirse en un imperio, que en su época de apogeo, llegó a abarcar desde la península ibérica a Anatolia y desde las islas británicas hasta Egipto, provocando un importante florecimiento cultural en cada lugar en el que gobernó.\n",
            "\t - La explicación para este nombre es el hecho de ser un país rico en ganado bovino.[19]​ En el siglo I a. C., el toro, símbolo del pueblo samnita sublevado contra Roma, fue representado en las monedas emitidas por los insurrectos abatiendo a una loba, símbolo de Roma: la leyenda del vitéliu (de los ítalos) confirma que vinculaban el nombre de Italia con el ternero-toro.[19]​ Por otra parte, también es posible que los ítalos tomaran su nombre de un animal-tótem, el ternero, que, en una lejana primavera sagrada, los había guiado hasta los lugares en los que se asentaron definitivamente.\n",
            "\t - En primer lugar, por efecto de su considerable extensión en latitud: medias anuales en Milán de 25,0 °C en julio y 1,4 °C en enero, mientras que en Palermo, dichas medias son de 29.3 y 13 °C, respectivamente.[82]​ El lugar con más precipitaciones del país es la provincia de Udine, en el nordeste, con 1530 mm, y por el contrario, el lugar con menores precipitaciones está en el sur de la región de Apulia, en la provincia de Foggia y en la parte sur de Sicilia, las regiones áridas con aproximadamente 460 mm.[83]​ Se puede diferenciar el país en tres regiones climáticas: el clima mediterráneo en el sur de Italia (bajo Roma), con veranos calurosos superando los 30 °C, los llanos del río Po, donde el invierno es muy frío como en los países del norte y los Alpes, y los Apeninos (Liguria), con clima suave en inviernos y calor en verano y precipitaciones fuertes.[83]​La mayor parte de Italia corresponde al bioma de bosque mediterráneo,[84]​ aunque también están presentes el bosque templado de frondosas, entre el valle del Po y los Apeninos, y el bosque templado de coníferas en los Alpes.[85]​Según el Fondo Mundial para la Naturaleza, el territorio de Italia se divide en ocho ecorregiones diferentes:[86]​La actividad industrial ha sido el motor del desarrollo italiano, y el actual eje de su economía.\n",
            "\t - En general, el siglo XV es de iniciación y los siglos XVI y XVII lo son de apogeo para la pintura del renacimiento clásico.[169]​ Algunos de sus pintores más conocidos son: Sandro Botticelli, Leonardo da Vinci, Miguel Ángel,Donatello, Marco Palmezzano, Andrea Mantegna, Cariani o Rafael Sanzio.[169]​ En Italia, una fase de decadencia a finales del siglo XVI, lleva a los grandes maestros italianos de Renacimiento en otra fase y al desarrollo del arte Barroco.\n",
            "\t - La capital de Italia, Roma, ha sido durante siglos el centro político y cultural de la civilización occidental.\n"
          ],
          "name": "stdout"
        }
      ]
    },
    {
      "cell_type": "code",
      "metadata": {
        "id": "Zjo1cecbcvGP",
        "colab_type": "code",
        "colab": {}
      },
      "source": [
        ""
      ],
      "execution_count": 0,
      "outputs": []
    }
  ]
}