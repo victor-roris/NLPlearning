{
  "nbformat": 4,
  "nbformat_minor": 0,
  "metadata": {
    "colab": {
      "name": "Transformers - Text generation.ipynb",
      "provenance": [],
      "authorship_tag": "ABX9TyNXLrpiRMi6Om2AQrJzlsE3",
      "include_colab_link": true
    },
    "kernelspec": {
      "name": "python3",
      "display_name": "Python 3"
    },
    "widgets": {
      "application/vnd.jupyter.widget-state+json": {
        "a01e5758543447588a7aeedce5c4004c": {
          "model_module": "@jupyter-widgets/controls",
          "model_name": "HBoxModel",
          "state": {
            "_view_name": "HBoxView",
            "_dom_classes": [],
            "_model_name": "HBoxModel",
            "_view_module": "@jupyter-widgets/controls",
            "_model_module_version": "1.5.0",
            "_view_count": null,
            "_view_module_version": "1.5.0",
            "box_style": "",
            "layout": "IPY_MODEL_0921ab0952a84370991c3ff257f9bcb9",
            "_model_module": "@jupyter-widgets/controls",
            "children": [
              "IPY_MODEL_9a426198f5fc4d91b14cd03747288912",
              "IPY_MODEL_31e612f2010c41cdafa7afefb9838929"
            ]
          }
        },
        "0921ab0952a84370991c3ff257f9bcb9": {
          "model_module": "@jupyter-widgets/base",
          "model_name": "LayoutModel",
          "state": {
            "_view_name": "LayoutView",
            "grid_template_rows": null,
            "right": null,
            "justify_content": null,
            "_view_module": "@jupyter-widgets/base",
            "overflow": null,
            "_model_module_version": "1.2.0",
            "_view_count": null,
            "flex_flow": null,
            "width": null,
            "min_width": null,
            "border": null,
            "align_items": null,
            "bottom": null,
            "_model_module": "@jupyter-widgets/base",
            "top": null,
            "grid_column": null,
            "overflow_y": null,
            "overflow_x": null,
            "grid_auto_flow": null,
            "grid_area": null,
            "grid_template_columns": null,
            "flex": null,
            "_model_name": "LayoutModel",
            "justify_items": null,
            "grid_row": null,
            "max_height": null,
            "align_content": null,
            "visibility": null,
            "align_self": null,
            "height": null,
            "min_height": null,
            "padding": null,
            "grid_auto_rows": null,
            "grid_gap": null,
            "max_width": null,
            "order": null,
            "_view_module_version": "1.2.0",
            "grid_template_areas": null,
            "object_position": null,
            "object_fit": null,
            "grid_auto_columns": null,
            "margin": null,
            "display": null,
            "left": null
          }
        },
        "9a426198f5fc4d91b14cd03747288912": {
          "model_module": "@jupyter-widgets/controls",
          "model_name": "IntProgressModel",
          "state": {
            "_view_name": "ProgressView",
            "style": "IPY_MODEL_6efc0631f2934bbaad2008371383b226",
            "_dom_classes": [],
            "description": "Downloading",
            "_model_name": "IntProgressModel",
            "bar_style": "success",
            "max": 798011,
            "_view_module": "@jupyter-widgets/controls",
            "_model_module_version": "1.5.0",
            "value": 798011,
            "_view_count": null,
            "_view_module_version": "1.5.0",
            "orientation": "horizontal",
            "min": 0,
            "description_tooltip": null,
            "_model_module": "@jupyter-widgets/controls",
            "layout": "IPY_MODEL_17c2747ee3aa4769bdae87f257ed3e93"
          }
        },
        "31e612f2010c41cdafa7afefb9838929": {
          "model_module": "@jupyter-widgets/controls",
          "model_name": "HTMLModel",
          "state": {
            "_view_name": "HTMLView",
            "style": "IPY_MODEL_f518ed06c0fd448990078002793cce6d",
            "_dom_classes": [],
            "description": "",
            "_model_name": "HTMLModel",
            "placeholder": "​",
            "_view_module": "@jupyter-widgets/controls",
            "_model_module_version": "1.5.0",
            "value": "100% 798k/798k [00:00&lt;00:00, 2.12MB/s]",
            "_view_count": null,
            "_view_module_version": "1.5.0",
            "description_tooltip": null,
            "_model_module": "@jupyter-widgets/controls",
            "layout": "IPY_MODEL_3c55e1fdd8e24342b1971c667182ea47"
          }
        },
        "6efc0631f2934bbaad2008371383b226": {
          "model_module": "@jupyter-widgets/controls",
          "model_name": "ProgressStyleModel",
          "state": {
            "_view_name": "StyleView",
            "_model_name": "ProgressStyleModel",
            "description_width": "initial",
            "_view_module": "@jupyter-widgets/base",
            "_model_module_version": "1.5.0",
            "_view_count": null,
            "_view_module_version": "1.2.0",
            "bar_color": null,
            "_model_module": "@jupyter-widgets/controls"
          }
        },
        "17c2747ee3aa4769bdae87f257ed3e93": {
          "model_module": "@jupyter-widgets/base",
          "model_name": "LayoutModel",
          "state": {
            "_view_name": "LayoutView",
            "grid_template_rows": null,
            "right": null,
            "justify_content": null,
            "_view_module": "@jupyter-widgets/base",
            "overflow": null,
            "_model_module_version": "1.2.0",
            "_view_count": null,
            "flex_flow": null,
            "width": null,
            "min_width": null,
            "border": null,
            "align_items": null,
            "bottom": null,
            "_model_module": "@jupyter-widgets/base",
            "top": null,
            "grid_column": null,
            "overflow_y": null,
            "overflow_x": null,
            "grid_auto_flow": null,
            "grid_area": null,
            "grid_template_columns": null,
            "flex": null,
            "_model_name": "LayoutModel",
            "justify_items": null,
            "grid_row": null,
            "max_height": null,
            "align_content": null,
            "visibility": null,
            "align_self": null,
            "height": null,
            "min_height": null,
            "padding": null,
            "grid_auto_rows": null,
            "grid_gap": null,
            "max_width": null,
            "order": null,
            "_view_module_version": "1.2.0",
            "grid_template_areas": null,
            "object_position": null,
            "object_fit": null,
            "grid_auto_columns": null,
            "margin": null,
            "display": null,
            "left": null
          }
        },
        "f518ed06c0fd448990078002793cce6d": {
          "model_module": "@jupyter-widgets/controls",
          "model_name": "DescriptionStyleModel",
          "state": {
            "_view_name": "StyleView",
            "_model_name": "DescriptionStyleModel",
            "description_width": "",
            "_view_module": "@jupyter-widgets/base",
            "_model_module_version": "1.5.0",
            "_view_count": null,
            "_view_module_version": "1.2.0",
            "_model_module": "@jupyter-widgets/controls"
          }
        },
        "3c55e1fdd8e24342b1971c667182ea47": {
          "model_module": "@jupyter-widgets/base",
          "model_name": "LayoutModel",
          "state": {
            "_view_name": "LayoutView",
            "grid_template_rows": null,
            "right": null,
            "justify_content": null,
            "_view_module": "@jupyter-widgets/base",
            "overflow": null,
            "_model_module_version": "1.2.0",
            "_view_count": null,
            "flex_flow": null,
            "width": null,
            "min_width": null,
            "border": null,
            "align_items": null,
            "bottom": null,
            "_model_module": "@jupyter-widgets/base",
            "top": null,
            "grid_column": null,
            "overflow_y": null,
            "overflow_x": null,
            "grid_auto_flow": null,
            "grid_area": null,
            "grid_template_columns": null,
            "flex": null,
            "_model_name": "LayoutModel",
            "justify_items": null,
            "grid_row": null,
            "max_height": null,
            "align_content": null,
            "visibility": null,
            "align_self": null,
            "height": null,
            "min_height": null,
            "padding": null,
            "grid_auto_rows": null,
            "grid_gap": null,
            "max_width": null,
            "order": null,
            "_view_module_version": "1.2.0",
            "grid_template_areas": null,
            "object_position": null,
            "object_fit": null,
            "grid_auto_columns": null,
            "margin": null,
            "display": null,
            "left": null
          }
        },
        "ac417a3538e74b9e9e78a06ac600e44b": {
          "model_module": "@jupyter-widgets/controls",
          "model_name": "HBoxModel",
          "state": {
            "_view_name": "HBoxView",
            "_dom_classes": [],
            "_model_name": "HBoxModel",
            "_view_module": "@jupyter-widgets/controls",
            "_model_module_version": "1.5.0",
            "_view_count": null,
            "_view_module_version": "1.5.0",
            "box_style": "",
            "layout": "IPY_MODEL_34a05e78e11340db9052bf839221fe13",
            "_model_module": "@jupyter-widgets/controls",
            "children": [
              "IPY_MODEL_e276bcea923c479687a2f8efa5050bf6",
              "IPY_MODEL_3a116ca8f7ea41fbaf3d67f894c58d92"
            ]
          }
        },
        "34a05e78e11340db9052bf839221fe13": {
          "model_module": "@jupyter-widgets/base",
          "model_name": "LayoutModel",
          "state": {
            "_view_name": "LayoutView",
            "grid_template_rows": null,
            "right": null,
            "justify_content": null,
            "_view_module": "@jupyter-widgets/base",
            "overflow": null,
            "_model_module_version": "1.2.0",
            "_view_count": null,
            "flex_flow": null,
            "width": null,
            "min_width": null,
            "border": null,
            "align_items": null,
            "bottom": null,
            "_model_module": "@jupyter-widgets/base",
            "top": null,
            "grid_column": null,
            "overflow_y": null,
            "overflow_x": null,
            "grid_auto_flow": null,
            "grid_area": null,
            "grid_template_columns": null,
            "flex": null,
            "_model_name": "LayoutModel",
            "justify_items": null,
            "grid_row": null,
            "max_height": null,
            "align_content": null,
            "visibility": null,
            "align_self": null,
            "height": null,
            "min_height": null,
            "padding": null,
            "grid_auto_rows": null,
            "grid_gap": null,
            "max_width": null,
            "order": null,
            "_view_module_version": "1.2.0",
            "grid_template_areas": null,
            "object_position": null,
            "object_fit": null,
            "grid_auto_columns": null,
            "margin": null,
            "display": null,
            "left": null
          }
        },
        "e276bcea923c479687a2f8efa5050bf6": {
          "model_module": "@jupyter-widgets/controls",
          "model_name": "IntProgressModel",
          "state": {
            "_view_name": "ProgressView",
            "style": "IPY_MODEL_3e7b5c1874384be8905123690b358a5c",
            "_dom_classes": [],
            "description": "Downloading",
            "_model_name": "IntProgressModel",
            "bar_style": "success",
            "max": 641,
            "_view_module": "@jupyter-widgets/controls",
            "_model_module_version": "1.5.0",
            "value": 641,
            "_view_count": null,
            "_view_module_version": "1.5.0",
            "orientation": "horizontal",
            "min": 0,
            "description_tooltip": null,
            "_model_module": "@jupyter-widgets/controls",
            "layout": "IPY_MODEL_a4c138f078ab42ce91d26902fefd86cf"
          }
        },
        "3a116ca8f7ea41fbaf3d67f894c58d92": {
          "model_module": "@jupyter-widgets/controls",
          "model_name": "HTMLModel",
          "state": {
            "_view_name": "HTMLView",
            "style": "IPY_MODEL_c064cf46fc3345b8a8e1d70fc2b0254f",
            "_dom_classes": [],
            "description": "",
            "_model_name": "HTMLModel",
            "placeholder": "​",
            "_view_module": "@jupyter-widgets/controls",
            "_model_module_version": "1.5.0",
            "value": "100% 641/641 [00:00&lt;00:00, 20.6kB/s]",
            "_view_count": null,
            "_view_module_version": "1.5.0",
            "description_tooltip": null,
            "_model_module": "@jupyter-widgets/controls",
            "layout": "IPY_MODEL_5f300163b152442ea15e0d0ff2d21676"
          }
        },
        "3e7b5c1874384be8905123690b358a5c": {
          "model_module": "@jupyter-widgets/controls",
          "model_name": "ProgressStyleModel",
          "state": {
            "_view_name": "StyleView",
            "_model_name": "ProgressStyleModel",
            "description_width": "initial",
            "_view_module": "@jupyter-widgets/base",
            "_model_module_version": "1.5.0",
            "_view_count": null,
            "_view_module_version": "1.2.0",
            "bar_color": null,
            "_model_module": "@jupyter-widgets/controls"
          }
        },
        "a4c138f078ab42ce91d26902fefd86cf": {
          "model_module": "@jupyter-widgets/base",
          "model_name": "LayoutModel",
          "state": {
            "_view_name": "LayoutView",
            "grid_template_rows": null,
            "right": null,
            "justify_content": null,
            "_view_module": "@jupyter-widgets/base",
            "overflow": null,
            "_model_module_version": "1.2.0",
            "_view_count": null,
            "flex_flow": null,
            "width": null,
            "min_width": null,
            "border": null,
            "align_items": null,
            "bottom": null,
            "_model_module": "@jupyter-widgets/base",
            "top": null,
            "grid_column": null,
            "overflow_y": null,
            "overflow_x": null,
            "grid_auto_flow": null,
            "grid_area": null,
            "grid_template_columns": null,
            "flex": null,
            "_model_name": "LayoutModel",
            "justify_items": null,
            "grid_row": null,
            "max_height": null,
            "align_content": null,
            "visibility": null,
            "align_self": null,
            "height": null,
            "min_height": null,
            "padding": null,
            "grid_auto_rows": null,
            "grid_gap": null,
            "max_width": null,
            "order": null,
            "_view_module_version": "1.2.0",
            "grid_template_areas": null,
            "object_position": null,
            "object_fit": null,
            "grid_auto_columns": null,
            "margin": null,
            "display": null,
            "left": null
          }
        },
        "c064cf46fc3345b8a8e1d70fc2b0254f": {
          "model_module": "@jupyter-widgets/controls",
          "model_name": "DescriptionStyleModel",
          "state": {
            "_view_name": "StyleView",
            "_model_name": "DescriptionStyleModel",
            "description_width": "",
            "_view_module": "@jupyter-widgets/base",
            "_model_module_version": "1.5.0",
            "_view_count": null,
            "_view_module_version": "1.2.0",
            "_model_module": "@jupyter-widgets/controls"
          }
        },
        "5f300163b152442ea15e0d0ff2d21676": {
          "model_module": "@jupyter-widgets/base",
          "model_name": "LayoutModel",
          "state": {
            "_view_name": "LayoutView",
            "grid_template_rows": null,
            "right": null,
            "justify_content": null,
            "_view_module": "@jupyter-widgets/base",
            "overflow": null,
            "_model_module_version": "1.2.0",
            "_view_count": null,
            "flex_flow": null,
            "width": null,
            "min_width": null,
            "border": null,
            "align_items": null,
            "bottom": null,
            "_model_module": "@jupyter-widgets/base",
            "top": null,
            "grid_column": null,
            "overflow_y": null,
            "overflow_x": null,
            "grid_auto_flow": null,
            "grid_area": null,
            "grid_template_columns": null,
            "flex": null,
            "_model_name": "LayoutModel",
            "justify_items": null,
            "grid_row": null,
            "max_height": null,
            "align_content": null,
            "visibility": null,
            "align_self": null,
            "height": null,
            "min_height": null,
            "padding": null,
            "grid_auto_rows": null,
            "grid_gap": null,
            "max_width": null,
            "order": null,
            "_view_module_version": "1.2.0",
            "grid_template_areas": null,
            "object_position": null,
            "object_fit": null,
            "grid_auto_columns": null,
            "margin": null,
            "display": null,
            "left": null
          }
        },
        "e3aa356e3d0f4019bd7ed03136b56cbc": {
          "model_module": "@jupyter-widgets/controls",
          "model_name": "HBoxModel",
          "state": {
            "_view_name": "HBoxView",
            "_dom_classes": [],
            "_model_name": "HBoxModel",
            "_view_module": "@jupyter-widgets/controls",
            "_model_module_version": "1.5.0",
            "_view_count": null,
            "_view_module_version": "1.5.0",
            "box_style": "",
            "layout": "IPY_MODEL_a76b51d5162748c582cbc5ae948ec45e",
            "_model_module": "@jupyter-widgets/controls",
            "children": [
              "IPY_MODEL_e168fb02ee7d49d383aee7152e5fd6f5",
              "IPY_MODEL_c4fb0de629a845d19a1f02cf2f51d5cb"
            ]
          }
        },
        "a76b51d5162748c582cbc5ae948ec45e": {
          "model_module": "@jupyter-widgets/base",
          "model_name": "LayoutModel",
          "state": {
            "_view_name": "LayoutView",
            "grid_template_rows": null,
            "right": null,
            "justify_content": null,
            "_view_module": "@jupyter-widgets/base",
            "overflow": null,
            "_model_module_version": "1.2.0",
            "_view_count": null,
            "flex_flow": null,
            "width": null,
            "min_width": null,
            "border": null,
            "align_items": null,
            "bottom": null,
            "_model_module": "@jupyter-widgets/base",
            "top": null,
            "grid_column": null,
            "overflow_y": null,
            "overflow_x": null,
            "grid_auto_flow": null,
            "grid_area": null,
            "grid_template_columns": null,
            "flex": null,
            "_model_name": "LayoutModel",
            "justify_items": null,
            "grid_row": null,
            "max_height": null,
            "align_content": null,
            "visibility": null,
            "align_self": null,
            "height": null,
            "min_height": null,
            "padding": null,
            "grid_auto_rows": null,
            "grid_gap": null,
            "max_width": null,
            "order": null,
            "_view_module_version": "1.2.0",
            "grid_template_areas": null,
            "object_position": null,
            "object_fit": null,
            "grid_auto_columns": null,
            "margin": null,
            "display": null,
            "left": null
          }
        },
        "e168fb02ee7d49d383aee7152e5fd6f5": {
          "model_module": "@jupyter-widgets/controls",
          "model_name": "IntProgressModel",
          "state": {
            "_view_name": "ProgressView",
            "style": "IPY_MODEL_c3bfd3362bc947ab84e65f2a9f83fb4a",
            "_dom_classes": [],
            "description": "Downloading",
            "_model_name": "IntProgressModel",
            "bar_style": "success",
            "max": 467042463,
            "_view_module": "@jupyter-widgets/controls",
            "_model_module_version": "1.5.0",
            "value": 467042463,
            "_view_count": null,
            "_view_module_version": "1.5.0",
            "orientation": "horizontal",
            "min": 0,
            "description_tooltip": null,
            "_model_module": "@jupyter-widgets/controls",
            "layout": "IPY_MODEL_4eacde9c1f094913831d6901937140fe"
          }
        },
        "c4fb0de629a845d19a1f02cf2f51d5cb": {
          "model_module": "@jupyter-widgets/controls",
          "model_name": "HTMLModel",
          "state": {
            "_view_name": "HTMLView",
            "style": "IPY_MODEL_e0e326bc24ee4dff8c822801a1157b2a",
            "_dom_classes": [],
            "description": "",
            "_model_name": "HTMLModel",
            "placeholder": "​",
            "_view_module": "@jupyter-widgets/controls",
            "_model_module_version": "1.5.0",
            "value": "100% 467M/467M [00:11&lt;00:00, 40.2MB/s]",
            "_view_count": null,
            "_view_module_version": "1.5.0",
            "description_tooltip": null,
            "_model_module": "@jupyter-widgets/controls",
            "layout": "IPY_MODEL_9a9228e82a2e43d0bc9e8102ccd13f27"
          }
        },
        "c3bfd3362bc947ab84e65f2a9f83fb4a": {
          "model_module": "@jupyter-widgets/controls",
          "model_name": "ProgressStyleModel",
          "state": {
            "_view_name": "StyleView",
            "_model_name": "ProgressStyleModel",
            "description_width": "initial",
            "_view_module": "@jupyter-widgets/base",
            "_model_module_version": "1.5.0",
            "_view_count": null,
            "_view_module_version": "1.2.0",
            "bar_color": null,
            "_model_module": "@jupyter-widgets/controls"
          }
        },
        "4eacde9c1f094913831d6901937140fe": {
          "model_module": "@jupyter-widgets/base",
          "model_name": "LayoutModel",
          "state": {
            "_view_name": "LayoutView",
            "grid_template_rows": null,
            "right": null,
            "justify_content": null,
            "_view_module": "@jupyter-widgets/base",
            "overflow": null,
            "_model_module_version": "1.2.0",
            "_view_count": null,
            "flex_flow": null,
            "width": null,
            "min_width": null,
            "border": null,
            "align_items": null,
            "bottom": null,
            "_model_module": "@jupyter-widgets/base",
            "top": null,
            "grid_column": null,
            "overflow_y": null,
            "overflow_x": null,
            "grid_auto_flow": null,
            "grid_area": null,
            "grid_template_columns": null,
            "flex": null,
            "_model_name": "LayoutModel",
            "justify_items": null,
            "grid_row": null,
            "max_height": null,
            "align_content": null,
            "visibility": null,
            "align_self": null,
            "height": null,
            "min_height": null,
            "padding": null,
            "grid_auto_rows": null,
            "grid_gap": null,
            "max_width": null,
            "order": null,
            "_view_module_version": "1.2.0",
            "grid_template_areas": null,
            "object_position": null,
            "object_fit": null,
            "grid_auto_columns": null,
            "margin": null,
            "display": null,
            "left": null
          }
        },
        "e0e326bc24ee4dff8c822801a1157b2a": {
          "model_module": "@jupyter-widgets/controls",
          "model_name": "DescriptionStyleModel",
          "state": {
            "_view_name": "StyleView",
            "_model_name": "DescriptionStyleModel",
            "description_width": "",
            "_view_module": "@jupyter-widgets/base",
            "_model_module_version": "1.5.0",
            "_view_count": null,
            "_view_module_version": "1.2.0",
            "_model_module": "@jupyter-widgets/controls"
          }
        },
        "9a9228e82a2e43d0bc9e8102ccd13f27": {
          "model_module": "@jupyter-widgets/base",
          "model_name": "LayoutModel",
          "state": {
            "_view_name": "LayoutView",
            "grid_template_rows": null,
            "right": null,
            "justify_content": null,
            "_view_module": "@jupyter-widgets/base",
            "overflow": null,
            "_model_module_version": "1.2.0",
            "_view_count": null,
            "flex_flow": null,
            "width": null,
            "min_width": null,
            "border": null,
            "align_items": null,
            "bottom": null,
            "_model_module": "@jupyter-widgets/base",
            "top": null,
            "grid_column": null,
            "overflow_y": null,
            "overflow_x": null,
            "grid_auto_flow": null,
            "grid_area": null,
            "grid_template_columns": null,
            "flex": null,
            "_model_name": "LayoutModel",
            "justify_items": null,
            "grid_row": null,
            "max_height": null,
            "align_content": null,
            "visibility": null,
            "align_self": null,
            "height": null,
            "min_height": null,
            "padding": null,
            "grid_auto_rows": null,
            "grid_gap": null,
            "max_width": null,
            "order": null,
            "_view_module_version": "1.2.0",
            "grid_template_areas": null,
            "object_position": null,
            "object_fit": null,
            "grid_auto_columns": null,
            "margin": null,
            "display": null,
            "left": null
          }
        }
      }
    }
  },
  "cells": [
    {
      "cell_type": "markdown",
      "metadata": {
        "id": "view-in-github",
        "colab_type": "text"
      },
      "source": [
        "<a href=\"https://colab.research.google.com/github/victor-roris/mediumseries/blob/master/NLP/Transformers_Text_generation.ipynb\" target=\"_parent\"><img src=\"https://colab.research.google.com/assets/colab-badge.svg\" alt=\"Open In Colab\"/></a>"
      ]
    },
    {
      "cell_type": "markdown",
      "metadata": {
        "colab_type": "text",
        "id": "0jxP8lSWmcXi"
      },
      "source": [
        "## Transformers - Natural Language Generation\n",
        "\n",
        "In this notebook we will generate a paragraph of text based on the given input. For this, we can use different models from transformers.\n",
        "\n",
        "This code is a simplification of the transformer example code: [run_generation.py](https://github.com/huggingface/transformers/blob/master/examples/run_generation.py). \n",
        "\n",
        "This code use some implementations that are not available in the (at the moment) newer release of transformers (version X). For this reason, we have to install the newest transformers package directly from the github. \n"
      ]
    },
    {
      "cell_type": "code",
      "metadata": {
        "id": "rT6CZtDIxbKR",
        "colab_type": "code",
        "colab": {}
      },
      "source": [
        "!pip install git+https://github.com/huggingface/transformers.git@master#egg=transformers"
      ],
      "execution_count": 0,
      "outputs": []
    },
    {
      "cell_type": "markdown",
      "metadata": {
        "id": "vCqiN6iF-8Pv",
        "colab_type": "text"
      },
      "source": [
        "* Input "
      ]
    },
    {
      "cell_type": "code",
      "metadata": {
        "id": "yzZ2_bBN7hsA",
        "colab_type": "code",
        "colab": {}
      },
      "source": [
        "text  = \"\"\"\n",
        "In a shocking finding, scientist discovered a herd of unicorns living in a remote, \n",
        "previously unexplored valley, in the Andes Mountains. Even more surprising to \n",
        "the researchers was the fact that the unicorns spoke perfect English.\n",
        "\n",
        "\"\"\""
      ],
      "execution_count": 0,
      "outputs": []
    },
    {
      "cell_type": "code",
      "metadata": {
        "id": "yLc-ht3i7hpT",
        "colab_type": "code",
        "colab": {}
      },
      "source": [
        "model_type = \"xlnet\" #\"gpt2\"\n",
        "model_name_or_path = \"xlnet-base-cased\" #\"gpt2\"\n",
        "length = 300"
      ],
      "execution_count": 0,
      "outputs": []
    },
    {
      "cell_type": "markdown",
      "metadata": {
        "id": "vLKXO4CXqqPF",
        "colab_type": "text"
      },
      "source": [
        "* Definition of the possible models"
      ]
    },
    {
      "cell_type": "code",
      "metadata": {
        "id": "a_uR_BP_qxPf",
        "colab_type": "code",
        "colab": {
          "base_uri": "https://localhost:8080/",
          "height": 64
        },
        "outputId": "b8d86773-2adb-4ebd-a1c9-8e2574a621ed"
      },
      "source": [
        "import numpy as np\n",
        "import torch\n",
        "\n",
        "from transformers import (\n",
        "    CTRLLMHeadModel,\n",
        "    CTRLTokenizer,\n",
        "    GPT2LMHeadModel,\n",
        "    GPT2Tokenizer,\n",
        "    OpenAIGPTLMHeadModel,\n",
        "    OpenAIGPTTokenizer,\n",
        "    TransfoXLLMHeadModel,\n",
        "    TransfoXLTokenizer,\n",
        "    XLMTokenizer,\n",
        "    XLMWithLMHeadModel,\n",
        "    XLNetLMHeadModel,\n",
        "    XLNetTokenizer,\n",
        ")\n",
        "\n",
        "MODEL_CLASSES = {\n",
        "    \"gpt2\": (GPT2LMHeadModel, GPT2Tokenizer),\n",
        "    \"ctrl\": (CTRLLMHeadModel, CTRLTokenizer),\n",
        "    \"openai-gpt\": (OpenAIGPTLMHeadModel, OpenAIGPTTokenizer),\n",
        "    \"xlnet\": (XLNetLMHeadModel, XLNetTokenizer),\n",
        "    \"transfo-xl\": (TransfoXLLMHeadModel, TransfoXLTokenizer),\n",
        "    \"xlm\": (XLMWithLMHeadModel, XLMTokenizer),\n",
        "}"
      ],
      "execution_count": 4,
      "outputs": [
        {
          "output_type": "display_data",
          "data": {
            "text/html": [
              "<p style=\"color: red;\">\n",
              "The default version of TensorFlow in Colab will soon switch to TensorFlow 2.x.<br>\n",
              "We recommend you <a href=\"https://www.tensorflow.org/guide/migrate\" target=\"_blank\">upgrade</a> now \n",
              "or ensure your notebook will continue to use TensorFlow 1.x via the <code>%tensorflow_version 1.x</code> magic:\n",
              "<a href=\"https://colab.research.google.com/notebooks/tensorflow_version.ipynb\" target=\"_blank\">more info</a>.</p>\n"
            ],
            "text/plain": [
              "<IPython.core.display.HTML object>"
            ]
          },
          "metadata": {
            "tags": []
          }
        }
      ]
    },
    {
      "cell_type": "markdown",
      "metadata": {
        "id": "-7mPCu5Uqz2T",
        "colab_type": "text"
      },
      "source": [
        "* Model and tokenizer instation"
      ]
    },
    {
      "cell_type": "code",
      "metadata": {
        "id": "wCA4H3Lpq_r0",
        "colab_type": "code",
        "outputId": "06372fce-dc0b-4b0f-adfd-b4ba48e6b97f",
        "colab": {
          "base_uri": "https://localhost:8080/",
          "height": 185,
          "referenced_widgets": [
            "a01e5758543447588a7aeedce5c4004c",
            "0921ab0952a84370991c3ff257f9bcb9",
            "9a426198f5fc4d91b14cd03747288912",
            "31e612f2010c41cdafa7afefb9838929",
            "6efc0631f2934bbaad2008371383b226",
            "17c2747ee3aa4769bdae87f257ed3e93",
            "f518ed06c0fd448990078002793cce6d",
            "3c55e1fdd8e24342b1971c667182ea47",
            "ac417a3538e74b9e9e78a06ac600e44b",
            "34a05e78e11340db9052bf839221fe13",
            "e276bcea923c479687a2f8efa5050bf6",
            "3a116ca8f7ea41fbaf3d67f894c58d92",
            "3e7b5c1874384be8905123690b358a5c",
            "a4c138f078ab42ce91d26902fefd86cf",
            "c064cf46fc3345b8a8e1d70fc2b0254f",
            "5f300163b152442ea15e0d0ff2d21676",
            "e3aa356e3d0f4019bd7ed03136b56cbc",
            "a76b51d5162748c582cbc5ae948ec45e",
            "e168fb02ee7d49d383aee7152e5fd6f5",
            "c4fb0de629a845d19a1f02cf2f51d5cb",
            "c3bfd3362bc947ab84e65f2a9f83fb4a",
            "4eacde9c1f094913831d6901937140fe",
            "e0e326bc24ee4dff8c822801a1157b2a",
            "9a9228e82a2e43d0bc9e8102ccd13f27"
          ]
        }
      },
      "source": [
        "model_class, tokenizer_class = MODEL_CLASSES[model_type]\n",
        "\n",
        "tokenizer = tokenizer_class.from_pretrained(model_name_or_path)\n",
        "model = model_class.from_pretrained(model_name_or_path)\n",
        "\n",
        "device = torch.device(\"cuda\" if torch.cuda.is_available() else \"cpu\")\n",
        "model.to(device) # Move the model object to the cuda if it is available\n",
        "\n",
        "print(f'The execution will be in the device : {device}')"
      ],
      "execution_count": 5,
      "outputs": [
        {
          "output_type": "display_data",
          "data": {
            "application/vnd.jupyter.widget-view+json": {
              "model_id": "a01e5758543447588a7aeedce5c4004c",
              "version_minor": 0,
              "version_major": 2
            },
            "text/plain": [
              "HBox(children=(IntProgress(value=0, description='Downloading', max=798011, style=ProgressStyle(description_wid…"
            ]
          },
          "metadata": {
            "tags": []
          }
        },
        {
          "output_type": "stream",
          "text": [
            "\n"
          ],
          "name": "stdout"
        },
        {
          "output_type": "display_data",
          "data": {
            "application/vnd.jupyter.widget-view+json": {
              "model_id": "ac417a3538e74b9e9e78a06ac600e44b",
              "version_minor": 0,
              "version_major": 2
            },
            "text/plain": [
              "HBox(children=(IntProgress(value=0, description='Downloading', max=641, style=ProgressStyle(description_width=…"
            ]
          },
          "metadata": {
            "tags": []
          }
        },
        {
          "output_type": "stream",
          "text": [
            "\n"
          ],
          "name": "stdout"
        },
        {
          "output_type": "display_data",
          "data": {
            "application/vnd.jupyter.widget-view+json": {
              "model_id": "e3aa356e3d0f4019bd7ed03136b56cbc",
              "version_minor": 0,
              "version_major": 2
            },
            "text/plain": [
              "HBox(children=(IntProgress(value=0, description='Downloading', max=467042463, style=ProgressStyle(description_…"
            ]
          },
          "metadata": {
            "tags": []
          }
        },
        {
          "output_type": "stream",
          "text": [
            "\n",
            "The execution will be in the device : cpu\n"
          ],
          "name": "stdout"
        }
      ]
    },
    {
      "cell_type": "markdown",
      "metadata": {
        "id": "-RX7vWzUrDK5",
        "colab_type": "text"
      },
      "source": [
        "* Length of the text\n",
        "\n",
        "Limit the user request length by the maximum length for the model"
      ]
    },
    {
      "cell_type": "code",
      "metadata": {
        "id": "oH_TR9YBrS5F",
        "colab_type": "code",
        "outputId": "6e9cded0-6675-4f2d-d5ca-d6b279b80f25",
        "colab": {
          "base_uri": "https://localhost:8080/",
          "height": 35
        }
      },
      "source": [
        "def adjust_length_to_model(length, max_sequence_length):\n",
        "    if length < 0 and max_sequence_length > 0:\n",
        "        length = max_sequence_length\n",
        "    elif 0 < max_sequence_length < length:\n",
        "        length = max_sequence_length  # No generation bigger than model size\n",
        "    elif length < 0:\n",
        "        length = MAX_LENGTH  # avoid infinite loop\n",
        "    return length\n",
        "\n",
        "length = adjust_length_to_model(length, max_sequence_length=model.config.max_position_embeddings)\n",
        "print(f\"Model will generate a text of length : {length} \")"
      ],
      "execution_count": 6,
      "outputs": [
        {
          "output_type": "stream",
          "text": [
            "Model will generate a text of length : 300 \n"
          ],
          "name": "stdout"
        }
      ]
    },
    {
      "cell_type": "markdown",
      "metadata": {
        "id": "dChpc2_2r1MD",
        "colab_type": "text"
      },
      "source": [
        "* Preprocess the input text\n",
        "\n",
        "Different models need different input formatting and/or extra arguments"
      ]
    },
    {
      "cell_type": "code",
      "metadata": {
        "id": "h_xydAuwr-da",
        "colab_type": "code",
        "colab": {}
      },
      "source": [
        "def prepare_ctrl_input( _, tokenizer, prompt_text):\n",
        "    encoded_prompt = tokenizer.encode(prompt_text, add_special_tokens=False)\n",
        "    if not any(encoded_prompt[0] == x for x in tokenizer.control_codes.values()):\n",
        "        logger.info(\"WARNING! You are not starting your generation from a control code so you won't get good results\")\n",
        "    return prompt_text\n",
        "\n",
        "\n",
        "def prepare_xlm_input(model, tokenizer, prompt_text):\n",
        "    # kwargs = {\"language\": None, \"mask_token_id\": None}\n",
        "\n",
        "    # Set the language\n",
        "    use_lang_emb = hasattr(model.config, \"use_lang_emb\") and model.config.use_lang_emb\n",
        "    if hasattr(model.config, \"lang2id\") and use_lang_emb:\n",
        "        available_languages = model.config.lang2id.keys()\n",
        "        language = None\n",
        "        while language not in available_languages:\n",
        "            language = input(\"Using XLM. Select language in \" + str(list(available_languages)) + \" >>> \")\n",
        "        # kwargs[\"language\"] = tokenizer.lang2id[language]\n",
        "\n",
        "    # TODO fix mask_token_id setup when configurations will be synchronized between models and tokenizers\n",
        "    # XLM masked-language modeling (MLM) models need masked token\n",
        "    # is_xlm_mlm = \"mlm\" in args.model_name_or_path\n",
        "    # if is_xlm_mlm:\n",
        "    #     kwargs[\"mask_token_id\"] = tokenizer.mask_token_id\n",
        "\n",
        "    return prompt_text\n",
        "\n",
        "PADDING_TEXT = \"\"\" In 1991, the remains of Russian Tsar Nicholas II and his family\n",
        "(except for Alexei and Maria) are discovered.\n",
        "The voice of Nicholas's young son, Tsarevich Alexei Nikolaevich, narrates the\n",
        "remainder of the story. 1883 Western Siberia,\n",
        "a young Grigori Rasputin is asked by his father and a group of men to perform magic.\n",
        "Rasputin has a vision and denounces one of the men as a horse thief. Although his\n",
        "father initially slaps him for making such an accusation, Rasputin watches as the\n",
        "man is chased outside and beaten. Twenty years later, Rasputin sees a vision of\n",
        "the Virgin Mary, prompting him to become a priest. Rasputin quickly becomes famous,\n",
        "with people, even a bishop, begging for his blessing. <eod> </s> <eos>\"\"\"\n",
        "\n",
        "def prepare_xlnet_input( _, tokenizer, prompt_text):\n",
        "    prompt_text = PADDING_TEXT + prompt_text\n",
        "    # return prompt_text, {}\n",
        "    return prompt_text\n",
        "\n",
        "\n",
        "def prepare_transfoxl_input(_, tokenizer, prompt_text):\n",
        "    prompt_text = PADDING_TEXT + prompt_text\n",
        "    return prompt_text, {}"
      ],
      "execution_count": 0,
      "outputs": []
    },
    {
      "cell_type": "code",
      "metadata": {
        "id": "nvGRZ-62sCmQ",
        "colab_type": "code",
        "colab": {}
      },
      "source": [
        "PREPROCESSING_FUNCTIONS = {\n",
        "    \"ctrl\": prepare_ctrl_input,\n",
        "    \"xlm\": prepare_xlm_input,\n",
        "    \"xlnet\": prepare_xlnet_input,\n",
        "    \"transfo-xl\": prepare_transfoxl_input,\n",
        "}\n",
        "\n",
        "# Different models need different input formatting and/or extra arguments\n",
        "prompt_text = text\n",
        "requires_preprocessing = model_type in PREPROCESSING_FUNCTIONS.keys()\n",
        "if requires_preprocessing:\n",
        "    prepare_input = PREPROCESSING_FUNCTIONS.get(model_type)\n",
        "    prompt_text = prepare_input(model, tokenizer, prompt_text)"
      ],
      "execution_count": 0,
      "outputs": []
    },
    {
      "cell_type": "markdown",
      "metadata": {
        "id": "puJ9wpaEtSu1",
        "colab_type": "text"
      },
      "source": [
        "* Tokenize input text"
      ]
    },
    {
      "cell_type": "code",
      "metadata": {
        "id": "nYvj_71StVj_",
        "colab_type": "code",
        "outputId": "50bc63a8-679d-47b5-b211-4df71f7195c8",
        "colab": {
          "base_uri": "https://localhost:8080/",
          "height": 35
        }
      },
      "source": [
        "encoded_prompt = tokenizer.encode(prompt_text, add_special_tokens=False, return_tensors=\"pt\")\n",
        "encoded_prompt = encoded_prompt.to(device) # Move the tensor data to the cuda if it is available\n",
        "\n",
        "print(f'The input tensor from the input text has the shape: {encoded_prompt.shape}')"
      ],
      "execution_count": 9,
      "outputs": [
        {
          "output_type": "stream",
          "text": [
            "The input tensor from the input text has the shape: torch.Size([1, 217])\n"
          ],
          "name": "stdout"
        }
      ]
    },
    {
      "cell_type": "markdown",
      "metadata": {
        "id": "zWAYTWJYuZ7X",
        "colab_type": "text"
      },
      "source": [
        "* Run model"
      ]
    },
    {
      "cell_type": "code",
      "metadata": {
        "id": "j_ckxflw7hmq",
        "colab_type": "code",
        "colab": {}
      },
      "source": [
        "output_sequences = model.generate(\n",
        "    input_ids=encoded_prompt,\n",
        "    max_length=length,\n",
        "    temperature=1,\n",
        "    top_k=0,\n",
        "    top_p=0.9,\n",
        "    repetition_penalty=1.2,\n",
        ")"
      ],
      "execution_count": 0,
      "outputs": []
    },
    {
      "cell_type": "markdown",
      "metadata": {
        "id": "UhXES_jhu1RH",
        "colab_type": "text"
      },
      "source": [
        "* Generate the text from the prediction\n",
        "\n",
        "\n"
      ]
    },
    {
      "cell_type": "code",
      "metadata": {
        "id": "pGHcCdCX7hkP",
        "colab_type": "code",
        "colab": {}
      },
      "source": [
        "# Batch size == 1. to add more examples please use num_return_sequences > 1\n",
        "generated_sequence = output_sequences[0].tolist()\n",
        "text = tokenizer.decode(generated_sequence, clean_up_tokenization_spaces=True)\n",
        "text = text[: None]"
      ],
      "execution_count": 0,
      "outputs": []
    },
    {
      "cell_type": "code",
      "metadata": {
        "id": "ZyhtehZc7hd9",
        "colab_type": "code",
        "outputId": "cd7263b8-570c-4cca-fdae-1786801c9c10",
        "colab": {
          "base_uri": "https://localhost:8080/",
          "height": 55
        }
      },
      "source": [
        "print(text)"
      ],
      "execution_count": 12,
      "outputs": [
        {
          "output_type": "stream",
          "text": [
            "In 1991, the remains of Russian Tsar Nicholas II and his family (except for Alexei and Maria) are discovered. The voice of Nicholas's young son, Tsarevich Alexei Nikolaevich, narrates the remainder of the story. 1883 Western Siberia, a young Grigori Rasputin is asked by his father and a group of men to perform magic. Rasputin has a vision and denounces one of the men as a horse thief. Although his father initially slaps him for making such an accusation, Rasputin watches as the man is chased outside and beaten. Twenty years later, Rasputin sees a vision of the Virgin Mary, prompting him to become a priest. Rasputin quickly becomes famous, with people, even a bishop, begging for his blessing.<eod></s> <eos> In a shocking finding, scientist discovered a herd of unicorns living in a remote, previously unexplored valley, in the Andes Mountains. Even more surprising to the researchers was the fact that the unicorns spoke perfect English. They were also able to communicate with other animals, including birds, mammals, fish, insects, and plants.<eop> The unicorns were found in a small cave in the Andes Mountains, near the base of the mountain range. The cave was located in a forest, surrounded by mountains. The unicorns were able to speak in many languages, including Spanish, French, German, Italian,<unk>\n"
          ],
          "name": "stdout"
        }
      ]
    },
    {
      "cell_type": "code",
      "metadata": {
        "id": "jkJzofCb_UYf",
        "colab_type": "code",
        "colab": {}
      },
      "source": [
        ""
      ],
      "execution_count": 0,
      "outputs": []
    }
  ]
}