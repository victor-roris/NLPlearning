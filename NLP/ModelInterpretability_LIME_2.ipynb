{
  "nbformat": 4,
  "nbformat_minor": 0,
  "metadata": {
    "colab": {
      "name": "ModelInterpretability_SHAP",
      "provenance": [],
      "include_colab_link": true
    },
    "kernelspec": {
      "name": "python3",
      "display_name": "Python 3"
    }
  },
  "cells": [
    {
      "cell_type": "markdown",
      "metadata": {
        "id": "view-in-github",
        "colab_type": "text"
      },
      "source": [
        "<a href=\"https://colab.research.google.com/github/victor-roris/mediumseries/blob/master/NLP/ModelInterpretability_LIME_2.ipynb\" target=\"_parent\"><img src=\"https://colab.research.google.com/assets/colab-badge.svg\" alt=\"Open In Colab\"/></a>"
      ]
    },
    {
      "cell_type": "markdown",
      "metadata": {
        "id": "fEsKEQ8vARdx",
        "colab_type": "text"
      },
      "source": [
        "# LIME\n",
        "\n",
        "Lime is a general framework that aims to make the predictions of ‘any’ machine learning model more interpretable.\n",
        "\n",
        "LIME provides local model interpretability. LIME modifies a single data sample by tweaking the feature values and observes the resulting impact on the output. Often, this is also related to what humans are interested in when observing the output of a model. The most common question is probably: why was this prediction made or which variables caused the prediction?\n",
        "\n",
        "GITHUB: https://github.com/marcotcr/lime\n",
        "\n",
        "ADAPTED FROM: https://towardsdatascience.com/explain-nlp-models-with-lime-shap-5c5a9f84d59b"
      ]
    },
    {
      "cell_type": "markdown",
      "metadata": {
        "id": "dQWt3zhdAbU-",
        "colab_type": "text"
      },
      "source": [
        "## INSTALLATION"
      ]
    },
    {
      "cell_type": "code",
      "metadata": {
        "id": "zLxUDVslAZ4W",
        "colab_type": "code",
        "colab": {}
      },
      "source": [
        "pip install lime"
      ],
      "execution_count": 0,
      "outputs": []
    },
    {
      "cell_type": "markdown",
      "metadata": {
        "id": "VICrIqJuAexH",
        "colab_type": "text"
      },
      "source": [
        "## EXAMPLE OF USAGE"
      ]
    },
    {
      "cell_type": "markdown",
      "metadata": {
        "id": "gQSHReVDBW0c",
        "colab_type": "text"
      },
      "source": [
        "### GENERATE MODEL"
      ]
    },
    {
      "cell_type": "code",
      "metadata": {
        "id": "APj0TJ9JBvMt",
        "colab_type": "code",
        "colab": {}
      },
      "source": [
        "import pandas as pd\n",
        "import numpy as np\n",
        "import sklearn\n",
        "import sklearn.ensemble\n",
        "import sklearn.metrics\n",
        "from sklearn.utils import shuffle\n",
        "from __future__ import print_function\n",
        "from io import StringIO\n",
        "import re\n",
        "from bs4 import BeautifulSoup\n",
        "from nltk.corpus import stopwords\n",
        "from sklearn.model_selection import train_test_split\n",
        "from sklearn.feature_extraction.text import CountVectorizer\n",
        "from sklearn.linear_model import LogisticRegression\n",
        "from sklearn.metrics import accuracy_score, f1_score, precision_score, recall_score\n",
        "import lime\n",
        "from lime import lime_text\n",
        "from lime.lime_text import LimeTextExplainer\n",
        "from sklearn.pipeline import make_pipeline"
      ],
      "execution_count": 0,
      "outputs": []
    },
    {
      "cell_type": "markdown",
      "metadata": {
        "id": "sJW0qZ6nC2eF",
        "colab_type": "text"
      },
      "source": [
        "* **Fetch data**"
      ]
    },
    {
      "cell_type": "code",
      "metadata": {
        "id": "XqfnMrJwBv4q",
        "colab_type": "code",
        "outputId": "8c12af53-d0c1-4da0-dbfd-fa1ec00b086b",
        "colab": {
          "base_uri": "https://localhost:8080/",
          "height": 204
        }
      },
      "source": [
        "df = pd.read_csv('https://storage.googleapis.com/tensorflow-workshop-examples/stack-overflow-data.csv')\n",
        "df.head()"
      ],
      "execution_count": 0,
      "outputs": [
        {
          "output_type": "execute_result",
          "data": {
            "text/html": [
              "<div>\n",
              "<style scoped>\n",
              "    .dataframe tbody tr th:only-of-type {\n",
              "        vertical-align: middle;\n",
              "    }\n",
              "\n",
              "    .dataframe tbody tr th {\n",
              "        vertical-align: top;\n",
              "    }\n",
              "\n",
              "    .dataframe thead th {\n",
              "        text-align: right;\n",
              "    }\n",
              "</style>\n",
              "<table border=\"1\" class=\"dataframe\">\n",
              "  <thead>\n",
              "    <tr style=\"text-align: right;\">\n",
              "      <th></th>\n",
              "      <th>post</th>\n",
              "      <th>tags</th>\n",
              "    </tr>\n",
              "  </thead>\n",
              "  <tbody>\n",
              "    <tr>\n",
              "      <th>0</th>\n",
              "      <td>what is causing this behavior  in our c# datet...</td>\n",
              "      <td>c#</td>\n",
              "    </tr>\n",
              "    <tr>\n",
              "      <th>1</th>\n",
              "      <td>have dynamic html load as if it was in an ifra...</td>\n",
              "      <td>asp.net</td>\n",
              "    </tr>\n",
              "    <tr>\n",
              "      <th>2</th>\n",
              "      <td>how to convert a float value in to min:sec  i ...</td>\n",
              "      <td>objective-c</td>\n",
              "    </tr>\n",
              "    <tr>\n",
              "      <th>3</th>\n",
              "      <td>.net framework 4 redistributable  just wonderi...</td>\n",
              "      <td>.net</td>\n",
              "    </tr>\n",
              "    <tr>\n",
              "      <th>4</th>\n",
              "      <td>trying to calculate and print the mean and its...</td>\n",
              "      <td>python</td>\n",
              "    </tr>\n",
              "  </tbody>\n",
              "</table>\n",
              "</div>"
            ],
            "text/plain": [
              "                                                post         tags\n",
              "0  what is causing this behavior  in our c# datet...           c#\n",
              "1  have dynamic html load as if it was in an ifra...      asp.net\n",
              "2  how to convert a float value in to min:sec  i ...  objective-c\n",
              "3  .net framework 4 redistributable  just wonderi...         .net\n",
              "4  trying to calculate and print the mean and its...       python"
            ]
          },
          "metadata": {
            "tags": []
          },
          "execution_count": 53
        }
      ]
    },
    {
      "cell_type": "markdown",
      "metadata": {
        "id": "lZXs69pTDst4",
        "colab_type": "text"
      },
      "source": [
        "Clean the data"
      ]
    },
    {
      "cell_type": "code",
      "metadata": {
        "id": "SCgBV9bqC1SX",
        "colab_type": "code",
        "outputId": "b68c6060-663d-4e75-dd3e-2422ac7954b6",
        "colab": {
          "base_uri": "https://localhost:8080/",
          "height": 222
        }
      },
      "source": [
        "# Remove entries with null tags \n",
        "df = df[pd.notnull(df['tags'])]\n",
        "\n",
        "# Get a fraction of the entries\n",
        "df = df.sample(frac=0.5, random_state=99).reset_index(drop=True)\n",
        "\n",
        "# Randomize the values\n",
        "df = shuffle(df, random_state=22)\n",
        "df = df.reset_index(drop=True)\n",
        "\n",
        "# Create a label column from the tags column\n",
        "df['class_label'] = df['tags'].factorize()[0]\n",
        "\n",
        "print(f'Number of labelled examples : {len(df)}')\n",
        "df.head()"
      ],
      "execution_count": 0,
      "outputs": [
        {
          "output_type": "stream",
          "text": [
            "Number of labelled examples : 20000\n"
          ],
          "name": "stdout"
        },
        {
          "output_type": "execute_result",
          "data": {
            "text/html": [
              "<div>\n",
              "<style scoped>\n",
              "    .dataframe tbody tr th:only-of-type {\n",
              "        vertical-align: middle;\n",
              "    }\n",
              "\n",
              "    .dataframe tbody tr th {\n",
              "        vertical-align: top;\n",
              "    }\n",
              "\n",
              "    .dataframe thead th {\n",
              "        text-align: right;\n",
              "    }\n",
              "</style>\n",
              "<table border=\"1\" class=\"dataframe\">\n",
              "  <thead>\n",
              "    <tr style=\"text-align: right;\">\n",
              "      <th></th>\n",
              "      <th>post</th>\n",
              "      <th>tags</th>\n",
              "      <th>class_label</th>\n",
              "    </tr>\n",
              "  </thead>\n",
              "  <tbody>\n",
              "    <tr>\n",
              "      <th>0</th>\n",
              "      <td>how do i move something in rails   i m a progr...</td>\n",
              "      <td>ruby-on-rails</td>\n",
              "      <td>0</td>\n",
              "    </tr>\n",
              "    <tr>\n",
              "      <th>1</th>\n",
              "      <td>c#   how to output specific array searches   t...</td>\n",
              "      <td>c#</td>\n",
              "      <td>1</td>\n",
              "    </tr>\n",
              "    <tr>\n",
              "      <th>2</th>\n",
              "      <td>integer.parseint and string format with decima...</td>\n",
              "      <td>java</td>\n",
              "      <td>2</td>\n",
              "    </tr>\n",
              "    <tr>\n",
              "      <th>3</th>\n",
              "      <td>compilation problem while upgrading a website ...</td>\n",
              "      <td>.net</td>\n",
              "      <td>3</td>\n",
              "    </tr>\n",
              "    <tr>\n",
              "      <th>4</th>\n",
              "      <td>query to list out the records by comparing max...</td>\n",
              "      <td>sql</td>\n",
              "      <td>4</td>\n",
              "    </tr>\n",
              "  </tbody>\n",
              "</table>\n",
              "</div>"
            ],
            "text/plain": [
              "                                                post  ... class_label\n",
              "0  how do i move something in rails   i m a progr...  ...           0\n",
              "1  c#   how to output specific array searches   t...  ...           1\n",
              "2  integer.parseint and string format with decima...  ...           2\n",
              "3  compilation problem while upgrading a website ...  ...           3\n",
              "4  query to list out the records by comparing max...  ...           4\n",
              "\n",
              "[5 rows x 3 columns]"
            ]
          },
          "metadata": {
            "tags": []
          },
          "execution_count": 54
        }
      ]
    },
    {
      "cell_type": "markdown",
      "metadata": {
        "id": "01kKDtJbDvG-",
        "colab_type": "text"
      },
      "source": [
        "Get labels"
      ]
    },
    {
      "cell_type": "code",
      "metadata": {
        "id": "yg8UTlDHDRme",
        "colab_type": "code",
        "outputId": "80494ebd-45e2-4ddd-884c-4b4c2347ecee",
        "colab": {
          "base_uri": "https://localhost:8080/",
          "height": 395
        }
      },
      "source": [
        "class_label_df = df[['tags', 'class_label']].drop_duplicates().sort_values('class_label')\n",
        "label_to_id = dict(class_label_df.values)\n",
        "id_to_label = dict(class_label_df[['class_label', 'tags']].values)\n",
        "\n",
        "print('LABEL-CATEGORY List')\n",
        "id_to_label"
      ],
      "execution_count": 0,
      "outputs": [
        {
          "output_type": "stream",
          "text": [
            "LABEL-CATEGORY List\n"
          ],
          "name": "stdout"
        },
        {
          "output_type": "execute_result",
          "data": {
            "text/plain": [
              "{0: 'ruby-on-rails',\n",
              " 1: 'c#',\n",
              " 2: 'java',\n",
              " 3: '.net',\n",
              " 4: 'sql',\n",
              " 5: 'objective-c',\n",
              " 6: 'angularjs',\n",
              " 7: 'asp.net',\n",
              " 8: 'python',\n",
              " 9: 'javascript',\n",
              " 10: 'iphone',\n",
              " 11: 'c',\n",
              " 12: 'android',\n",
              " 13: 'css',\n",
              " 14: 'php',\n",
              " 15: 'html',\n",
              " 16: 'jquery',\n",
              " 17: 'mysql',\n",
              " 18: 'ios',\n",
              " 19: 'c++'}"
            ]
          },
          "metadata": {
            "tags": []
          },
          "execution_count": 55
        }
      ]
    },
    {
      "cell_type": "markdown",
      "metadata": {
        "id": "8_BVe_AdE5GW",
        "colab_type": "text"
      },
      "source": [
        "Clean text"
      ]
    },
    {
      "cell_type": "code",
      "metadata": {
        "id": "7FnD42x5Dzq2",
        "colab_type": "code",
        "outputId": "48edfd14-0e1b-4844-d5c4-557d7b484fbc",
        "colab": {
          "base_uri": "https://localhost:8080/",
          "height": 73
        }
      },
      "source": [
        "REPLACE_BY_SPACE_RE = re.compile('[/(){}\\[\\]\\|@,;]')\n",
        "BAD_SYMBOLS_RE = re.compile('[^0-9a-z #+_]')\n",
        "# STOPWORDS = set(stopwords.words('english'))\n",
        "\n",
        "def clean_text(text):\n",
        "    \"\"\"\n",
        "        text: a string\n",
        "        \n",
        "        return: modified initial string\n",
        "    \"\"\"\n",
        "    text = BeautifulSoup(text, \"lxml\").text # HTML decoding. BeautifulSoup's text attribute will return a string stripped of any HTML tags and metadata.\n",
        "    text = text.lower() # lowercase text\n",
        "    text = REPLACE_BY_SPACE_RE.sub(' ', text) # replace REPLACE_BY_SPACE_RE symbols by space in text. substitute the matched string in REPLACE_BY_SPACE_RE with space.\n",
        "    text = BAD_SYMBOLS_RE.sub('', text) # remove symbols which are in BAD_SYMBOLS_RE from text. substitute the matched string in BAD_SYMBOLS_RE with nothing. \n",
        "#    text = ' '.join(word for word in text.split() if word not in STOPWORDS) # remove stopwors from text\n",
        "    return text\n",
        "\n",
        "df['post'] = df['post'].apply(clean_text)\n",
        "print('Example of clean text :')\n",
        "df['post'][0]"
      ],
      "execution_count": 0,
      "outputs": [
        {
          "output_type": "stream",
          "text": [
            "Example of clean text :\n"
          ],
          "name": "stdout"
        },
        {
          "output_type": "execute_result",
          "data": {
            "text/plain": [
              "'how do i move something in rails   i m a programming noob  and learning rails i m making a gtd webapp for fun  and i d like  to make a  done  section in other words  i have a link that says  done  and i want that to move the current task into a done page  instead of indexhtmlerb all i know about rails is what was in the official beginner tutorial'"
            ]
          },
          "metadata": {
            "tags": []
          },
          "execution_count": 56
        }
      ]
    },
    {
      "cell_type": "markdown",
      "metadata": {
        "id": "PCNKV9zHFE3t",
        "colab_type": "text"
      },
      "source": [
        "Final dataset"
      ]
    },
    {
      "cell_type": "code",
      "metadata": {
        "id": "kVR5lf6dFADl",
        "colab_type": "code",
        "outputId": "edfd555a-b830-4a26-a444-e421087248a5",
        "colab": {
          "base_uri": "https://localhost:8080/",
          "height": 109
        }
      },
      "source": [
        "list_corpus = df[\"post\"].tolist()\n",
        "list_labels = df[\"class_label\"].tolist()\n",
        "\n",
        "assert len(list_corpus) == len(list_labels)\n",
        "\n",
        "print(f'The length of the final list of examples is : {len(list_corpus)}')\n",
        "print(f'Example :')\n",
        "print(f'\\t - LABEL : {list_labels[-1]}')\n",
        "print(f'\\t - TEXT : {list_corpus[-1]}')"
      ],
      "execution_count": 0,
      "outputs": [
        {
          "output_type": "stream",
          "text": [
            "The length of the final list of examples is : 20000\n",
            "Example :\n",
            "\t - LABEL : 17\n",
            "\t - TEXT : database separation  mysql  i have a main mysql db set up  and a class to handle the queries to it it runs real nice i am building a custom advertising system on my site and i m wondering if there is any benefit to creating a separate database all together to handle that system     is there any pitfalls to doing it either way     option #1  one db for main website function  one db for advertising system    option #2  one db for both main website function and advertising system\n"
          ],
          "name": "stdout"
        }
      ]
    },
    {
      "cell_type": "markdown",
      "metadata": {
        "id": "o1fgAaqvFsvx",
        "colab_type": "text"
      },
      "source": [
        "* **Train model**"
      ]
    },
    {
      "cell_type": "markdown",
      "metadata": {
        "id": "vUP1N6mQGGrS",
        "colab_type": "text"
      },
      "source": [
        "Split the dataset in training and evaluation data"
      ]
    },
    {
      "cell_type": "code",
      "metadata": {
        "id": "OXB_DeEwF0Gp",
        "colab_type": "code",
        "outputId": "6672f51a-6622-4fd9-deee-5d822520ee0d",
        "colab": {
          "base_uri": "https://localhost:8080/",
          "height": 53
        }
      },
      "source": [
        "X_train, X_test, y_train, y_test = train_test_split(list_corpus, list_labels, test_size=0.2, random_state=40)\n",
        "\n",
        "print(f'Number of training examples : {len(X_train)}')\n",
        "print(f'Number of evaluation examples : {len(X_test)}')"
      ],
      "execution_count": 0,
      "outputs": [
        {
          "output_type": "stream",
          "text": [
            "Number of training examples : 16000\n",
            "Number of evaluation examples : 4000\n"
          ],
          "name": "stdout"
        }
      ]
    },
    {
      "cell_type": "markdown",
      "metadata": {
        "id": "UxNK-6hbGFnm",
        "colab_type": "text"
      },
      "source": [
        "Text vectorization"
      ]
    },
    {
      "cell_type": "code",
      "metadata": {
        "id": "2ynFTaXvGRJD",
        "colab_type": "code",
        "colab": {}
      },
      "source": [
        "vectorizer = CountVectorizer(analyzer='word',token_pattern=r'\\w{1,}', ngram_range=(1, 3), stop_words = 'english', binary=True)\n",
        "train_vectors = vectorizer.fit_transform(X_train)\n",
        "test_vectors = vectorizer.transform(X_test)"
      ],
      "execution_count": 0,
      "outputs": []
    },
    {
      "cell_type": "markdown",
      "metadata": {
        "id": "UxhJqwQOGZTN",
        "colab_type": "text"
      },
      "source": [
        "Train a Logistic Regression model"
      ]
    },
    {
      "cell_type": "code",
      "metadata": {
        "id": "uTtgLNlQBZoq",
        "colab_type": "code",
        "outputId": "77d69c28-0ccb-4099-d6e0-673a9c2908f5",
        "colab": {
          "base_uri": "https://localhost:8080/",
          "height": 179
        }
      },
      "source": [
        "logreg = LogisticRegression(n_jobs=1, C=1e5)\n",
        "logreg.fit(train_vectors, y_train)"
      ],
      "execution_count": 0,
      "outputs": [
        {
          "output_type": "stream",
          "text": [
            "/usr/local/lib/python3.6/dist-packages/sklearn/linear_model/logistic.py:432: FutureWarning: Default solver will be changed to 'lbfgs' in 0.22. Specify a solver to silence this warning.\n",
            "  FutureWarning)\n",
            "/usr/local/lib/python3.6/dist-packages/sklearn/linear_model/logistic.py:469: FutureWarning: Default multi_class will be changed to 'auto' in 0.22. Specify the multi_class option to silence this warning.\n",
            "  \"this warning.\", FutureWarning)\n"
          ],
          "name": "stderr"
        },
        {
          "output_type": "execute_result",
          "data": {
            "text/plain": [
              "LogisticRegression(C=100000.0, class_weight=None, dual=False,\n",
              "                   fit_intercept=True, intercept_scaling=1, l1_ratio=None,\n",
              "                   max_iter=100, multi_class='warn', n_jobs=1, penalty='l2',\n",
              "                   random_state=None, solver='warn', tol=0.0001, verbose=0,\n",
              "                   warm_start=False)"
            ]
          },
          "metadata": {
            "tags": []
          },
          "execution_count": 60
        }
      ]
    },
    {
      "cell_type": "markdown",
      "metadata": {
        "id": "maQLm697Gk0M",
        "colab_type": "text"
      },
      "source": [
        "Evaluate the trained model"
      ]
    },
    {
      "cell_type": "code",
      "metadata": {
        "id": "4fJNvELyGetl",
        "colab_type": "code",
        "outputId": "ed9f7255-5115-41ec-fee3-b35d743b6664",
        "colab": {
          "base_uri": "https://localhost:8080/",
          "height": 35
        }
      },
      "source": [
        "pred = logreg.predict(test_vectors)\n",
        "accuracy = accuracy_score(y_test, pred)\n",
        "precision = precision_score(y_test, pred, average='weighted')\n",
        "recall = recall_score(y_test, pred, average='weighted')\n",
        "f1 = f1_score(y_test, pred, average='weighted')\n",
        "print(\"accuracy = %.3f, precision = %.3f, recall = %.3f, f1 = %.3f\" % (accuracy, precision, recall, f1))"
      ],
      "execution_count": 0,
      "outputs": [
        {
          "output_type": "stream",
          "text": [
            "accuracy = 0.798, precision = 0.801, recall = 0.798, f1 = 0.799\n"
          ],
          "name": "stdout"
        }
      ]
    },
    {
      "cell_type": "markdown",
      "metadata": {
        "id": "vTSBfSxlLKXK",
        "colab_type": "text"
      },
      "source": [
        "### EXPLAINING PREDICTIONS USING SHAP"
      ]
    },
    {
      "cell_type": "code",
      "metadata": {
        "id": "Wg_8PD9vKc9s",
        "colab_type": "code",
        "colab": {}
      },
      "source": [
        "attrib_data = X_train[:200]\n",
        "explainer = shap.DeepExplainer(model, attrib_data)\n",
        "num_explanations = 20\n",
        "shap_vals = explainer.shap_values(X_test[:num_explanations])\n",
        "words = processor._tokenizer.word_index\n",
        "word_lookup = list()\n",
        "for i in words.keys():\n",
        "  word_lookup.append(i)\n",
        "word_lookup = [''] + word_lookup\n",
        "shap.summary_plot(shap_vals, feature_names=word_lookup, class_names=tag_encoder.classes_)"
      ],
      "execution_count": 0,
      "outputs": []
    },
    {
      "cell_type": "code",
      "metadata": {
        "id": "uxvEAKicLODE",
        "colab_type": "code",
        "colab": {}
      },
      "source": [
        "attrib_data = X_train[:200]\n",
        "num_explanations = 20"
      ],
      "execution_count": 0,
      "outputs": []
    },
    {
      "cell_type": "code",
      "metadata": {
        "id": "MAu7SM03LS9j",
        "colab_type": "code",
        "outputId": "0ac7c8ce-5ff2-442d-87d5-c60dfb09a401",
        "colab": {
          "base_uri": "https://localhost:8080/",
          "height": 322
        }
      },
      "source": [
        "explainer = shap.DeepExplainer(logreg, attrib_data)"
      ],
      "execution_count": 0,
      "outputs": [
        {
          "output_type": "error",
          "ename": "AssertionError",
          "evalue": "ignored",
          "traceback": [
            "\u001b[0;31m---------------------------------------------------------------------------\u001b[0m",
            "\u001b[0;31mAssertionError\u001b[0m                            Traceback (most recent call last)",
            "\u001b[0;32m<ipython-input-63-09a1320e727e>\u001b[0m in \u001b[0;36m<module>\u001b[0;34m()\u001b[0m\n\u001b[0;32m----> 1\u001b[0;31m \u001b[0mexplainer\u001b[0m \u001b[0;34m=\u001b[0m \u001b[0mshap\u001b[0m\u001b[0;34m.\u001b[0m\u001b[0mDeepExplainer\u001b[0m\u001b[0;34m(\u001b[0m\u001b[0mlogreg\u001b[0m\u001b[0;34m,\u001b[0m \u001b[0mattrib_data\u001b[0m\u001b[0;34m)\u001b[0m\u001b[0;34m\u001b[0m\u001b[0;34m\u001b[0m\u001b[0m\n\u001b[0m",
            "\u001b[0;32m/usr/local/lib/python3.6/dist-packages/shap/explainers/deep/__init__.py\u001b[0m in \u001b[0;36m__init__\u001b[0;34m(self, model, data, session, learning_phase_flags)\u001b[0m\n\u001b[1;32m     78\u001b[0m \u001b[0;34m\u001b[0m\u001b[0m\n\u001b[1;32m     79\u001b[0m         \u001b[0;32mif\u001b[0m \u001b[0mframework\u001b[0m \u001b[0;34m==\u001b[0m \u001b[0;34m'tensorflow'\u001b[0m\u001b[0;34m:\u001b[0m\u001b[0;34m\u001b[0m\u001b[0;34m\u001b[0m\u001b[0m\n\u001b[0;32m---> 80\u001b[0;31m             \u001b[0mself\u001b[0m\u001b[0;34m.\u001b[0m\u001b[0mexplainer\u001b[0m \u001b[0;34m=\u001b[0m \u001b[0mTFDeepExplainer\u001b[0m\u001b[0;34m(\u001b[0m\u001b[0mmodel\u001b[0m\u001b[0;34m,\u001b[0m \u001b[0mdata\u001b[0m\u001b[0;34m,\u001b[0m \u001b[0msession\u001b[0m\u001b[0;34m,\u001b[0m \u001b[0mlearning_phase_flags\u001b[0m\u001b[0;34m)\u001b[0m\u001b[0;34m\u001b[0m\u001b[0;34m\u001b[0m\u001b[0m\n\u001b[0m\u001b[1;32m     81\u001b[0m         \u001b[0;32melif\u001b[0m \u001b[0mframework\u001b[0m \u001b[0;34m==\u001b[0m \u001b[0;34m'pytorch'\u001b[0m\u001b[0;34m:\u001b[0m\u001b[0;34m\u001b[0m\u001b[0;34m\u001b[0m\u001b[0m\n\u001b[1;32m     82\u001b[0m             \u001b[0mself\u001b[0m\u001b[0;34m.\u001b[0m\u001b[0mexplainer\u001b[0m \u001b[0;34m=\u001b[0m \u001b[0mPyTorchDeepExplainer\u001b[0m\u001b[0;34m(\u001b[0m\u001b[0mmodel\u001b[0m\u001b[0;34m,\u001b[0m \u001b[0mdata\u001b[0m\u001b[0;34m)\u001b[0m\u001b[0;34m\u001b[0m\u001b[0;34m\u001b[0m\u001b[0m\n",
            "\u001b[0;32m/usr/local/lib/python3.6/dist-packages/shap/explainers/deep/deep_tf.py\u001b[0m in \u001b[0;36m__init__\u001b[0;34m(self, model, data, session, learning_phase_flags)\u001b[0m\n\u001b[1;32m     90\u001b[0m             \u001b[0mself\u001b[0m\u001b[0;34m.\u001b[0m\u001b[0mmodel_output\u001b[0m \u001b[0;34m=\u001b[0m \u001b[0mmodel\u001b[0m\u001b[0;34m[\u001b[0m\u001b[0;36m1\u001b[0m\u001b[0;34m]\u001b[0m\u001b[0;34m\u001b[0m\u001b[0;34m\u001b[0m\u001b[0m\n\u001b[1;32m     91\u001b[0m         \u001b[0;32melse\u001b[0m\u001b[0;34m:\u001b[0m\u001b[0;34m\u001b[0m\u001b[0;34m\u001b[0m\u001b[0m\n\u001b[0;32m---> 92\u001b[0;31m             \u001b[0;32massert\u001b[0m \u001b[0;32mFalse\u001b[0m\u001b[0;34m,\u001b[0m \u001b[0mstr\u001b[0m\u001b[0;34m(\u001b[0m\u001b[0mtype\u001b[0m\u001b[0;34m(\u001b[0m\u001b[0mmodel\u001b[0m\u001b[0;34m)\u001b[0m\u001b[0;34m)\u001b[0m \u001b[0;34m+\u001b[0m \u001b[0;34m\" is not currently a supported model type!\"\u001b[0m\u001b[0;34m\u001b[0m\u001b[0;34m\u001b[0m\u001b[0m\n\u001b[0m\u001b[1;32m     93\u001b[0m         \u001b[0;32massert\u001b[0m \u001b[0mtype\u001b[0m\u001b[0;34m(\u001b[0m\u001b[0mself\u001b[0m\u001b[0;34m.\u001b[0m\u001b[0mmodel_output\u001b[0m\u001b[0;34m)\u001b[0m \u001b[0;34m!=\u001b[0m \u001b[0mlist\u001b[0m\u001b[0;34m,\u001b[0m \u001b[0;34m\"The model output to be explained must be a single tensor!\"\u001b[0m\u001b[0;34m\u001b[0m\u001b[0;34m\u001b[0m\u001b[0m\n\u001b[1;32m     94\u001b[0m         \u001b[0;32massert\u001b[0m \u001b[0mlen\u001b[0m\u001b[0;34m(\u001b[0m\u001b[0mself\u001b[0m\u001b[0;34m.\u001b[0m\u001b[0mmodel_output\u001b[0m\u001b[0;34m.\u001b[0m\u001b[0mshape\u001b[0m\u001b[0;34m)\u001b[0m \u001b[0;34m<\u001b[0m \u001b[0;36m3\u001b[0m\u001b[0;34m,\u001b[0m \u001b[0;34m\"The model output must be a vector or a single value!\"\u001b[0m\u001b[0;34m\u001b[0m\u001b[0;34m\u001b[0m\u001b[0m\n",
            "\u001b[0;31mAssertionError\u001b[0m: <class 'sklearn.linear_model.logistic.LogisticRegression'> is not currently a supported model type!"
          ]
        }
      ]
    },
    {
      "cell_type": "markdown",
      "metadata": {
        "id": "wdF00Od3GrsY",
        "colab_type": "text"
      },
      "source": [
        "### EXPLAINING PREDICTIONS USING SHAP"
      ]
    },
    {
      "cell_type": "code",
      "metadata": {
        "id": "NVokbu8G5eCe",
        "colab_type": "code",
        "colab": {}
      },
      "source": [
        "import pandas as pd\n",
        "import numpy as np\n",
        "from sklearn.utils import shuffle\n",
        "from sklearn.preprocessing import MultiLabelBinarizer\n",
        "import tensorflow as tf\n",
        "from tensorflow.keras.preprocessing import text\n",
        "import keras.backend.tensorflow_backend as K\n",
        "K.set_session\n",
        "import shap"
      ],
      "execution_count": 0,
      "outputs": []
    },
    {
      "cell_type": "markdown",
      "metadata": {
        "id": "i-uSG1GCSFYA",
        "colab_type": "text"
      },
      "source": [
        "### GENERATE MODEL"
      ]
    },
    {
      "cell_type": "markdown",
      "metadata": {
        "colab_type": "text",
        "id": "UKr2602XMTyk"
      },
      "source": [
        "* **Fetch data**"
      ]
    },
    {
      "cell_type": "code",
      "metadata": {
        "colab_type": "code",
        "outputId": "5c1977e5-a3ea-446a-bc7f-716102e0b724",
        "id": "Jkg4ykFQMTyo",
        "colab": {
          "base_uri": "https://localhost:8080/",
          "height": 204
        }
      },
      "source": [
        "df = pd.read_csv('https://storage.googleapis.com/tensorflow-workshop-examples/stack-overflow-data.csv')\n",
        "df.head()"
      ],
      "execution_count": 0,
      "outputs": [
        {
          "output_type": "execute_result",
          "data": {
            "text/html": [
              "<div>\n",
              "<style scoped>\n",
              "    .dataframe tbody tr th:only-of-type {\n",
              "        vertical-align: middle;\n",
              "    }\n",
              "\n",
              "    .dataframe tbody tr th {\n",
              "        vertical-align: top;\n",
              "    }\n",
              "\n",
              "    .dataframe thead th {\n",
              "        text-align: right;\n",
              "    }\n",
              "</style>\n",
              "<table border=\"1\" class=\"dataframe\">\n",
              "  <thead>\n",
              "    <tr style=\"text-align: right;\">\n",
              "      <th></th>\n",
              "      <th>post</th>\n",
              "      <th>tags</th>\n",
              "    </tr>\n",
              "  </thead>\n",
              "  <tbody>\n",
              "    <tr>\n",
              "      <th>0</th>\n",
              "      <td>what is causing this behavior  in our c# datet...</td>\n",
              "      <td>c#</td>\n",
              "    </tr>\n",
              "    <tr>\n",
              "      <th>1</th>\n",
              "      <td>have dynamic html load as if it was in an ifra...</td>\n",
              "      <td>asp.net</td>\n",
              "    </tr>\n",
              "    <tr>\n",
              "      <th>2</th>\n",
              "      <td>how to convert a float value in to min:sec  i ...</td>\n",
              "      <td>objective-c</td>\n",
              "    </tr>\n",
              "    <tr>\n",
              "      <th>3</th>\n",
              "      <td>.net framework 4 redistributable  just wonderi...</td>\n",
              "      <td>.net</td>\n",
              "    </tr>\n",
              "    <tr>\n",
              "      <th>4</th>\n",
              "      <td>trying to calculate and print the mean and its...</td>\n",
              "      <td>python</td>\n",
              "    </tr>\n",
              "  </tbody>\n",
              "</table>\n",
              "</div>"
            ],
            "text/plain": [
              "                                                post         tags\n",
              "0  what is causing this behavior  in our c# datet...           c#\n",
              "1  have dynamic html load as if it was in an ifra...      asp.net\n",
              "2  how to convert a float value in to min:sec  i ...  objective-c\n",
              "3  .net framework 4 redistributable  just wonderi...         .net\n",
              "4  trying to calculate and print the mean and its...       python"
            ]
          },
          "metadata": {
            "tags": []
          },
          "execution_count": 3
        }
      ]
    },
    {
      "cell_type": "markdown",
      "metadata": {
        "colab_type": "text",
        "id": "VI4F6WEmMTyu"
      },
      "source": [
        "Clean the data"
      ]
    },
    {
      "cell_type": "code",
      "metadata": {
        "colab_type": "code",
        "outputId": "23e4237e-2fd0-45fa-9f7a-b2e4898d0216",
        "id": "3Ywkk4QiMTyv",
        "colab": {
          "base_uri": "https://localhost:8080/",
          "height": 222
        }
      },
      "source": [
        "# Remove entries with null tags \n",
        "df = df[pd.notnull(df['tags'])]\n",
        "\n",
        "# Get a fraction of the entries\n",
        "df = df.sample(frac=0.5, random_state=99).reset_index(drop=True)\n",
        "\n",
        "# Randomize the values\n",
        "df = shuffle(df, random_state=22)\n",
        "df = df.reset_index(drop=True)\n",
        "\n",
        "# Create a label column from the tags column\n",
        "df['class_label'] = df['tags'].factorize()[0]\n",
        "\n",
        "print(f'Number of labelled examples : {len(df)}')\n",
        "df.head()"
      ],
      "execution_count": 0,
      "outputs": [
        {
          "output_type": "stream",
          "text": [
            "Number of labelled examples : 20000\n"
          ],
          "name": "stdout"
        },
        {
          "output_type": "execute_result",
          "data": {
            "text/html": [
              "<div>\n",
              "<style scoped>\n",
              "    .dataframe tbody tr th:only-of-type {\n",
              "        vertical-align: middle;\n",
              "    }\n",
              "\n",
              "    .dataframe tbody tr th {\n",
              "        vertical-align: top;\n",
              "    }\n",
              "\n",
              "    .dataframe thead th {\n",
              "        text-align: right;\n",
              "    }\n",
              "</style>\n",
              "<table border=\"1\" class=\"dataframe\">\n",
              "  <thead>\n",
              "    <tr style=\"text-align: right;\">\n",
              "      <th></th>\n",
              "      <th>post</th>\n",
              "      <th>tags</th>\n",
              "      <th>class_label</th>\n",
              "    </tr>\n",
              "  </thead>\n",
              "  <tbody>\n",
              "    <tr>\n",
              "      <th>0</th>\n",
              "      <td>how do i move something in rails   i m a progr...</td>\n",
              "      <td>ruby-on-rails</td>\n",
              "      <td>0</td>\n",
              "    </tr>\n",
              "    <tr>\n",
              "      <th>1</th>\n",
              "      <td>c#   how to output specific array searches   t...</td>\n",
              "      <td>c#</td>\n",
              "      <td>1</td>\n",
              "    </tr>\n",
              "    <tr>\n",
              "      <th>2</th>\n",
              "      <td>integer.parseint and string format with decima...</td>\n",
              "      <td>java</td>\n",
              "      <td>2</td>\n",
              "    </tr>\n",
              "    <tr>\n",
              "      <th>3</th>\n",
              "      <td>compilation problem while upgrading a website ...</td>\n",
              "      <td>.net</td>\n",
              "      <td>3</td>\n",
              "    </tr>\n",
              "    <tr>\n",
              "      <th>4</th>\n",
              "      <td>query to list out the records by comparing max...</td>\n",
              "      <td>sql</td>\n",
              "      <td>4</td>\n",
              "    </tr>\n",
              "  </tbody>\n",
              "</table>\n",
              "</div>"
            ],
            "text/plain": [
              "                                                post  ... class_label\n",
              "0  how do i move something in rails   i m a progr...  ...           0\n",
              "1  c#   how to output specific array searches   t...  ...           1\n",
              "2  integer.parseint and string format with decima...  ...           2\n",
              "3  compilation problem while upgrading a website ...  ...           3\n",
              "4  query to list out the records by comparing max...  ...           4\n",
              "\n",
              "[5 rows x 3 columns]"
            ]
          },
          "metadata": {
            "tags": []
          },
          "execution_count": 4
        }
      ]
    },
    {
      "cell_type": "markdown",
      "metadata": {
        "id": "KVX5IzPGWAE5",
        "colab_type": "text"
      },
      "source": [
        "* **Prepare data**"
      ]
    },
    {
      "cell_type": "markdown",
      "metadata": {
        "id": "-YQS4gJSb3f5",
        "colab_type": "text"
      },
      "source": [
        "  - *Labels*"
      ]
    },
    {
      "cell_type": "markdown",
      "metadata": {
        "id": "7H4nyOVoHO_O",
        "colab_type": "text"
      },
      "source": [
        "Binarize the labels"
      ]
    },
    {
      "cell_type": "code",
      "metadata": {
        "id": "GIR_lhn77Mra",
        "colab_type": "code",
        "outputId": "2d1d22d0-f770-4c9e-9d03-afbd20db7665",
        "colab": {
          "base_uri": "https://localhost:8080/",
          "height": 161
        }
      },
      "source": [
        "tags_split = [tags.split(',') for tags in df['tags'].values]\n",
        "tag_encoder = MultiLabelBinarizer()\n",
        "tags_encoded = tag_encoder.fit_transform(tags_split)\n",
        "\n",
        "print(f'Labels by entry in a binary matrix of = ({tags_encoded.shape[0]} examples) X ({tags_encoded.shape[1]} labels)')\n",
        "tags_encoded"
      ],
      "execution_count": 0,
      "outputs": [
        {
          "output_type": "stream",
          "text": [
            "Labels by entry in a binary matrix of = (20000 examples) X (20 labels)\n"
          ],
          "name": "stdout"
        },
        {
          "output_type": "execute_result",
          "data": {
            "text/plain": [
              "array([[0, 0, 0, ..., 0, 1, 0],\n",
              "       [0, 0, 0, ..., 0, 0, 0],\n",
              "       [0, 0, 0, ..., 0, 0, 0],\n",
              "       ...,\n",
              "       [1, 0, 0, ..., 0, 0, 0],\n",
              "       [0, 0, 0, ..., 0, 0, 0],\n",
              "       [0, 0, 0, ..., 0, 0, 0]])"
            ]
          },
          "metadata": {
            "tags": []
          },
          "execution_count": 5
        }
      ]
    },
    {
      "cell_type": "code",
      "metadata": {
        "id": "EXF2vzCDqh0m",
        "colab_type": "code",
        "outputId": "0f19d4b1-62e0-44a4-a599-1e87bbb76935",
        "colab": {
          "base_uri": "https://localhost:8080/",
          "height": 71
        }
      },
      "source": [
        "print(f'Classe labels: {tag_encoder.classes_}')"
      ],
      "execution_count": 0,
      "outputs": [
        {
          "output_type": "stream",
          "text": [
            "Classe labels: ['.net' 'android' 'angularjs' 'asp.net' 'c' 'c#' 'c++' 'css' 'html' 'ios'\n",
            " 'iphone' 'java' 'javascript' 'jquery' 'mysql' 'objective-c' 'php'\n",
            " 'python' 'ruby-on-rails' 'sql']\n"
          ],
          "name": "stdout"
        }
      ]
    },
    {
      "cell_type": "markdown",
      "metadata": {
        "id": "kJ3IKthaIuba",
        "colab_type": "text"
      },
      "source": [
        "Get the binary labels matrix for the training and evaluation datasets"
      ]
    },
    {
      "cell_type": "code",
      "metadata": {
        "id": "mFncODU5BOCr",
        "colab_type": "code",
        "outputId": "a73fcf45-47d4-43e2-fe12-81673c7893d3",
        "colab": {
          "base_uri": "https://localhost:8080/",
          "height": 53
        }
      },
      "source": [
        "num_tags = len(tags_encoded[0])\n",
        "train_size = int(len(df)*0.8)\n",
        "\n",
        "print(f'Number of labels : {num_tags}')\n",
        "print(f'Number of examples in the training dataset : {train_size}')"
      ],
      "execution_count": 0,
      "outputs": [
        {
          "output_type": "stream",
          "text": [
            "Number of labels : 20\n",
            "Number of examples in the training dataset : 16000\n"
          ],
          "name": "stdout"
        }
      ]
    },
    {
      "cell_type": "code",
      "metadata": {
        "id": "qK7zCFSJHqfl",
        "colab_type": "code",
        "outputId": "d83cace0-3250-4651-c66c-5a31e045c841",
        "colab": {
          "base_uri": "https://localhost:8080/",
          "height": 53
        }
      },
      "source": [
        "y_train = tags_encoded[: train_size]\n",
        "y_test = tags_encoded[train_size:]\n",
        "\n",
        "print(f'Binarize Label for each training example - binary matrix of = ({y_train.shape[0]} training examples) X ({y_train.shape[1]} labels)')\n",
        "print(f'Binarize Label for each evaluation example - binary matrix of = ({y_test.shape[0]} training examples) X ({y_test.shape[1]} labels)')"
      ],
      "execution_count": 0,
      "outputs": [
        {
          "output_type": "stream",
          "text": [
            "Binarize Label for each training example - binary matrix of = (16000 training examples) X (20 labels)\n",
            "Binarize Label for each evaluation example - binary matrix of = (4000 training examples) X (20 labels)\n"
          ],
          "name": "stdout"
        }
      ]
    },
    {
      "cell_type": "markdown",
      "metadata": {
        "id": "hel2m75HcDk6",
        "colab_type": "text"
      },
      "source": [
        " - *Text*"
      ]
    },
    {
      "cell_type": "code",
      "metadata": {
        "id": "jqfAan_ZdHDT",
        "colab_type": "code",
        "outputId": "3c563643-8490-43a2-ede7-803a71fc146f",
        "colab": {
          "base_uri": "https://localhost:8080/",
          "height": 53
        }
      },
      "source": [
        "train_post = df['post'].values[:train_size]\n",
        "test_post = df['post'].values[train_size:]\n",
        "\n",
        "print(f'Number of training texts : {len(train_post)}')\n",
        "print(f'Number of evaluation texts : {len(test_post)}')"
      ],
      "execution_count": 0,
      "outputs": [
        {
          "output_type": "stream",
          "text": [
            "Number of training texts : 16000\n",
            "Number of evaluation texts : 4000\n"
          ],
          "name": "stdout"
        }
      ]
    },
    {
      "cell_type": "markdown",
      "metadata": {
        "id": "poWUaGHyJb2K",
        "colab_type": "text"
      },
      "source": [
        "Tokenize the texts"
      ]
    },
    {
      "cell_type": "code",
      "metadata": {
        "id": "tg8HqNVfIXvy",
        "colab_type": "code",
        "colab": {}
      },
      "source": [
        "class TextPreprocessor(object):\n",
        "    # Class to contain text processor functionalities\n",
        "    def __init__(self, vocab_size):\n",
        "        self._vocab_size = vocab_size\n",
        "        self._tokenizer = None\n",
        "    def create_tokenizer(self, text_list):\n",
        "        tokenizer = text.Tokenizer(num_words = self._vocab_size)\n",
        "        tokenizer.fit_on_texts(text_list)\n",
        "        self._tokenizer = tokenizer\n",
        "    def transform_text(self, text_list):\n",
        "        text_matrix = self._tokenizer.texts_to_matrix(text_list)\n",
        "        return text_matrix"
      ],
      "execution_count": 0,
      "outputs": []
    },
    {
      "cell_type": "code",
      "metadata": {
        "id": "bEHgshBeJbBr",
        "colab_type": "code",
        "colab": {}
      },
      "source": [
        "# Instiate the Text Processor\n",
        "VOCAB_SIZE = 500\n",
        "processor = TextPreprocessor(VOCAB_SIZE)\n",
        "processor.create_tokenizer(train_post)"
      ],
      "execution_count": 0,
      "outputs": []
    },
    {
      "cell_type": "code",
      "metadata": {
        "id": "GAEP9yvzdcY3",
        "colab_type": "code",
        "colab": {}
      },
      "source": [
        "# Get the tokenized version of the training and evaluation texts \n",
        "X_train = processor.transform_text(train_post)\n",
        "X_test = processor.transform_text(test_post)"
      ],
      "execution_count": 0,
      "outputs": []
    },
    {
      "cell_type": "code",
      "metadata": {
        "id": "bXsB2YhNdfha",
        "colab_type": "code",
        "outputId": "ffb31be1-665a-4957-8f60-d7a106e2cf3d",
        "colab": {
          "base_uri": "https://localhost:8080/",
          "height": 161
        }
      },
      "source": [
        "print(f'Training data expresed in a matrix of tokens of: ({X_train.shape[0]} examples) x ({X_train.shape[1]} tokens) ')\n",
        "X_train"
      ],
      "execution_count": 0,
      "outputs": [
        {
          "output_type": "stream",
          "text": [
            "Training data expresed in a matrix of tokens of: (16000 examples) x (500 tokens) \n"
          ],
          "name": "stdout"
        },
        {
          "output_type": "execute_result",
          "data": {
            "text/plain": [
              "array([[0., 1., 1., ..., 0., 0., 0.],\n",
              "       [0., 1., 1., ..., 0., 0., 0.],\n",
              "       [0., 1., 1., ..., 0., 0., 0.],\n",
              "       ...,\n",
              "       [0., 1., 1., ..., 0., 0., 1.],\n",
              "       [0., 1., 1., ..., 0., 0., 0.],\n",
              "       [0., 1., 1., ..., 0., 0., 0.]])"
            ]
          },
          "metadata": {
            "tags": []
          },
          "execution_count": 19
        }
      ]
    },
    {
      "cell_type": "code",
      "metadata": {
        "id": "BumnbIYLd4W0",
        "colab_type": "code",
        "outputId": "328e9cd1-0164-4de5-adf1-c8f26f22137e",
        "colab": {
          "base_uri": "https://localhost:8080/",
          "height": 161
        }
      },
      "source": [
        "print(f'Training data expresed in a matrix of tokens of: ({X_test.shape[0]} examples) x ({X_test.shape[1]} tokens) ')\n",
        "X_test"
      ],
      "execution_count": 0,
      "outputs": [
        {
          "output_type": "stream",
          "text": [
            "Training data expresed in a matrix of tokens of: (4000 examples) x (500 tokens) \n"
          ],
          "name": "stdout"
        },
        {
          "output_type": "execute_result",
          "data": {
            "text/plain": [
              "array([[0., 1., 1., ..., 0., 0., 0.],\n",
              "       [0., 0., 1., ..., 0., 0., 0.],\n",
              "       [0., 1., 1., ..., 0., 0., 0.],\n",
              "       ...,\n",
              "       [0., 0., 1., ..., 0., 0., 0.],\n",
              "       [0., 1., 1., ..., 0., 0., 0.],\n",
              "       [0., 1., 1., ..., 0., 0., 0.]])"
            ]
          },
          "metadata": {
            "tags": []
          },
          "execution_count": 20
        }
      ]
    },
    {
      "cell_type": "markdown",
      "metadata": {
        "id": "XGoYCuFVXIaa",
        "colab_type": "text"
      },
      "source": [
        "* **Train model**"
      ]
    },
    {
      "cell_type": "code",
      "metadata": {
        "id": "6_SU13fEeXnw",
        "colab_type": "code",
        "outputId": "d799b48e-e4d3-4c41-826f-a66e789dd238",
        "colab": {
          "base_uri": "https://localhost:8080/",
          "height": 145
        }
      },
      "source": [
        "def create_model(vocab_size, num_tags):\n",
        "    # Create a keras sequential model\n",
        "\n",
        "    model = tf.keras.models.Sequential()\n",
        "    model.add(tf.keras.layers.Dense(50, input_shape = (vocab_size,), activation='relu'))\n",
        "    model.add(tf.keras.layers.Dense(25, activation='relu'))\n",
        "    model.add(tf.keras.layers.Dense(num_tags, activation='sigmoid'))\n",
        "    model.compile(loss = 'binary_crossentropy', optimizer='adam', metrics = ['accuracy'])\n",
        "    return model\n",
        "    \n",
        "# Create model\n",
        "model = create_model(VOCAB_SIZE, num_tags)"
      ],
      "execution_count": 0,
      "outputs": [
        {
          "output_type": "stream",
          "text": [
            "WARNING:tensorflow:From /usr/local/lib/python3.6/dist-packages/tensorflow_core/python/ops/resource_variable_ops.py:1630: calling BaseResourceVariable.__init__ (from tensorflow.python.ops.resource_variable_ops) with constraint is deprecated and will be removed in a future version.\n",
            "Instructions for updating:\n",
            "If using Keras pass *_constraint arguments to layers.\n",
            "WARNING:tensorflow:From /usr/local/lib/python3.6/dist-packages/tensorflow_core/python/ops/nn_impl.py:183: where (from tensorflow.python.ops.array_ops) is deprecated and will be removed in a future version.\n",
            "Instructions for updating:\n",
            "Use tf.where in 2.0, which has the same broadcast rule as np.where\n"
          ],
          "name": "stdout"
        }
      ]
    },
    {
      "cell_type": "code",
      "metadata": {
        "id": "k-E370AdJlY2",
        "colab_type": "code",
        "outputId": "84a774e4-1227-486f-f8ca-dfc6720bb89a",
        "colab": {
          "base_uri": "https://localhost:8080/",
          "height": 143
        }
      },
      "source": [
        "# Train model\n",
        "model.fit(X_train, y_train, epochs = 2, batch_size=128, validation_split=0.1)\n",
        "print('Eval loss/accuracy:{}'.format(model.evaluate(X_test, y_test, batch_size = 128)))"
      ],
      "execution_count": 0,
      "outputs": [
        {
          "output_type": "stream",
          "text": [
            "Train on 14400 samples, validate on 1600 samples\n",
            "Epoch 1/2\n",
            "14400/14400 [==============================] - 1s 39us/sample - loss: 0.3245 - acc: 0.8894 - val_loss: 0.1985 - val_acc: 0.9500\n",
            "Epoch 2/2\n",
            "14400/14400 [==============================] - 0s 27us/sample - loss: 0.1637 - acc: 0.9517 - val_loss: 0.1391 - val_acc: 0.9553\n",
            "4000/4000 [==============================] - 0s 13us/sample - loss: 0.1367 - acc: 0.9561\n",
            "Eval loss/accuracy:[0.13668314325809477, 0.9560876]\n"
          ],
          "name": "stdout"
        }
      ]
    },
    {
      "cell_type": "markdown",
      "metadata": {
        "id": "OVbJFVIZY_9P",
        "colab_type": "text"
      },
      "source": [
        "### EXPLAINING PREDICTIONS USING SHAP"
      ]
    },
    {
      "cell_type": "markdown",
      "metadata": {
        "id": "TFhFU-1_iNdq",
        "colab_type": "text"
      },
      "source": [
        "We use the first X training documents as our background data set to integrate over, and to create a SHAP explainer object."
      ]
    },
    {
      "cell_type": "code",
      "metadata": {
        "id": "peAejiAIZCA2",
        "colab_type": "code",
        "colab": {}
      },
      "source": [
        "attrib_data = X_train[:400]\n",
        "explainer = shap.DeepExplainer(model, attrib_data)"
      ],
      "execution_count": 0,
      "outputs": []
    },
    {
      "cell_type": "markdown",
      "metadata": {
        "id": "BeVRA6lmi4yE",
        "colab_type": "text"
      },
      "source": [
        "We get the attribution values for individual predictions on a subset of the test set."
      ]
    },
    {
      "cell_type": "code",
      "metadata": {
        "id": "2SreqKggZbUo",
        "colab_type": "code",
        "colab": {}
      },
      "source": [
        "eval_data = X_test[:40]\n",
        "shap_vals = explainer.shap_values(eval_data)"
      ],
      "execution_count": 0,
      "outputs": []
    },
    {
      "cell_type": "markdown",
      "metadata": {
        "id": "tv27sCeVpps1",
        "colab_type": "text"
      },
      "source": [
        "We get the feature names. In the NLP model the features are the words in the vocabulary. "
      ]
    },
    {
      "cell_type": "code",
      "metadata": {
        "id": "I2AKe9JNZ_WD",
        "colab_type": "code",
        "outputId": "b24ad32d-68af-4242-c3fb-f34c75c602b3",
        "colab": {
          "base_uri": "https://localhost:8080/",
          "height": 53
        }
      },
      "source": [
        "words = processor._tokenizer.word_index\n",
        "word_lookup = list()\n",
        "for i in words.keys():\n",
        "  word_lookup.append(i)\n",
        "word_lookup = [''] + word_lookup\n",
        "\n",
        "print(f'Features size : {len(word_lookup)}')\n",
        "print(f'List of words in the vocabulary: {word_lookup[0:20]} ...')"
      ],
      "execution_count": 0,
      "outputs": [
        {
          "output_type": "stream",
          "text": [
            "Features size : 79055\n",
            "List of words in the vocabulary: ['', 'the', 'i', 'code', 'lt', 'gt', 'to', 'a', 'pre', 'in', 'is', 'and', 'this', 'of', '0', 'it', '1', 'for', 'if', 'id'] ...\n"
          ],
          "name": "stdout"
        }
      ]
    },
    {
      "cell_type": "markdown",
      "metadata": {
        "id": "fDv-zrQKp5VX",
        "colab_type": "text"
      },
      "source": [
        "Use SHAP’s `summary_plot` method to show the top features impacting model predictions."
      ]
    },
    {
      "cell_type": "code",
      "metadata": {
        "id": "BwmYj2VgKFiv",
        "colab_type": "code",
        "outputId": "8b84167a-30d2-4cb1-d520-a9f861775b15",
        "colab": {
          "base_uri": "https://localhost:8080/",
          "height": 581
        }
      },
      "source": [
        "shap.summary_plot(\n",
        "    # Explicability values\n",
        "    shap_vals, \n",
        "    \n",
        "    #Names for each feature\n",
        "    feature_names=word_lookup, \n",
        "\n",
        "    #Names of the label classes\n",
        "    class_names=tag_encoder.classes_)"
      ],
      "execution_count": 0,
      "outputs": [
        {
          "output_type": "display_data",
          "data": {
            "image/png": "[encoded data removed]",
            "text/plain": [
              "<Figure size 576x684 with 1 Axes>"
            ]
          },
          "metadata": {
            "tags": []
          }
        }
      ]
    },
    {
      "cell_type": "markdown",
      "metadata": {
        "id": "lm99B9N2s7_c",
        "colab_type": "text"
      },
      "source": [
        "* Each row is a signal word that contribute in the model.\n",
        "* Longest rows are biggest signals used by the model. In the plot the signal words are represented in order of importance in the model. The first signal word in the plot (in this case 'in') is the biggest signal word used by the model. The second is the second, third ...\n",
        "* Each color represent the contribution of the signal word to a specific category. In this case, the color in the word 'in' is bigger in `javascript` than in `python`. In this case, 'in' contribute more to `javascript` than to `python` predictions. "
      ]
    },
    {
      "cell_type": "code",
      "metadata": {
        "id": "YmTy1_b5qQOb",
        "colab_type": "code",
        "colab": {}
      },
      "source": [
        ""
      ],
      "execution_count": 0,
      "outputs": []
    }
  ]
}