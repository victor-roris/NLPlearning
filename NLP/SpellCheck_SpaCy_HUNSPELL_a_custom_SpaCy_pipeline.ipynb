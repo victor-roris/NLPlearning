{
  "nbformat": 4,
  "nbformat_minor": 0,
  "metadata": {
    "colab": {
      "name": "SpellCheck - SpaCy_HUNSPELL a custom SpaCy pipeline.ipynb",
      "provenance": [],
      "include_colab_link": true
    },
    "kernelspec": {
      "name": "python3",
      "display_name": "Python 3"
    }
  },
  "cells": [
    {
      "cell_type": "markdown",
      "metadata": {
        "id": "view-in-github",
        "colab_type": "text"
      },
      "source": [
        "<a href=\"https://colab.research.google.com/github/victor-roris/mediumseries/blob/master/NLP/SpellCheck_SpaCy_HUNSPELL_a_custom_SpaCy_pipeline.ipynb\" target=\"_parent\"><img src=\"https://colab.research.google.com/assets/colab-badge.svg\" alt=\"Open In Colab\"/></a>"
      ]
    },
    {
      "cell_type": "markdown",
      "metadata": {
        "id": "OBSszfg8rY44",
        "colab_type": "text"
      },
      "source": [
        "## SpaCy_HUNSPELL\n",
        "\n",
        "This package was born from a `issue` in the SpaCy github: https://github.com/explosion/spaCy/issues/315\n",
        "\n",
        "In it, `Ines` proposes make a custom pipeline to includes a `spell check` process in Spacy. The user `tokestermw` decides to use the package `PyHunSpell` to create his custom package and publishes this package with the name: `spacy_hunspell`\n",
        "\n",
        "PyHunSpell Github: https://github.com/blatinier/pyhunspell\n",
        "\n",
        "Spacy_hunspell Github: https://github.com/tokestermw/spacy_hunspell"
      ]
    },
    {
      "cell_type": "markdown",
      "metadata": {
        "id": "kubqjXtutMmg",
        "colab_type": "text"
      },
      "source": [
        "## Installation"
      ]
    },
    {
      "cell_type": "code",
      "metadata": {
        "id": "otb53bxS2u6f",
        "colab_type": "code",
        "colab": {}
      },
      "source": [
        "! apt-get install -y  python-dev libhunspell-dev"
      ],
      "execution_count": 0,
      "outputs": []
    },
    {
      "cell_type": "code",
      "metadata": {
        "id": "NDh_FqV3pyE5",
        "colab_type": "code",
        "outputId": "9b87b081-be71-4283-aadf-06dd263a5ebd",
        "colab": {
          "base_uri": "https://localhost:8080/",
          "height": 613
        }
      },
      "source": [
        "! pip install spacy_hunspell"
      ],
      "execution_count": 1,
      "outputs": [
        {
          "output_type": "stream",
          "text": [
            "Collecting spacy_hunspell\n",
            "  Downloading https://files.pythonhosted.org/packages/d9/6a/d977f74eff8354a5fdd6b5c0d8b4f8caa8d676970e18ff961694d978e7f7/spacy_hunspell-0.1.0.tar.gz\n",
            "Requirement already satisfied: spacy>=2.0.0 in /usr/local/lib/python3.6/dist-packages (from spacy_hunspell) (2.1.9)\n",
            "Collecting hunspell==0.5.0\n",
            "  Downloading https://files.pythonhosted.org/packages/2d/77/8c68d28afca3b07d3b89d3c60af56e1a3e5f381ddd1bc01f31e97233a03c/hunspell-0.5.0.tar.gz\n",
            "Requirement already satisfied: murmurhash<1.1.0,>=0.28.0 in /usr/local/lib/python3.6/dist-packages (from spacy>=2.0.0->spacy_hunspell) (1.0.2)\n",
            "Requirement already satisfied: thinc<7.1.0,>=7.0.8 in /usr/local/lib/python3.6/dist-packages (from spacy>=2.0.0->spacy_hunspell) (7.0.8)\n",
            "Requirement already satisfied: numpy>=1.15.0 in /usr/local/lib/python3.6/dist-packages (from spacy>=2.0.0->spacy_hunspell) (1.17.4)\n",
            "Requirement already satisfied: wasabi<1.1.0,>=0.2.0 in /usr/local/lib/python3.6/dist-packages (from spacy>=2.0.0->spacy_hunspell) (0.4.0)\n",
            "Requirement already satisfied: cymem<2.1.0,>=2.0.2 in /usr/local/lib/python3.6/dist-packages (from spacy>=2.0.0->spacy_hunspell) (2.0.3)\n",
            "Requirement already satisfied: srsly<1.1.0,>=0.0.6 in /usr/local/lib/python3.6/dist-packages (from spacy>=2.0.0->spacy_hunspell) (0.2.0)\n",
            "Requirement already satisfied: plac<1.0.0,>=0.9.6 in /usr/local/lib/python3.6/dist-packages (from spacy>=2.0.0->spacy_hunspell) (0.9.6)\n",
            "Requirement already satisfied: blis<0.3.0,>=0.2.2 in /usr/local/lib/python3.6/dist-packages (from spacy>=2.0.0->spacy_hunspell) (0.2.4)\n",
            "Requirement already satisfied: requests<3.0.0,>=2.13.0 in /usr/local/lib/python3.6/dist-packages (from spacy>=2.0.0->spacy_hunspell) (2.21.0)\n",
            "Requirement already satisfied: preshed<2.1.0,>=2.0.1 in /usr/local/lib/python3.6/dist-packages (from spacy>=2.0.0->spacy_hunspell) (2.0.1)\n",
            "Requirement already satisfied: tqdm<5.0.0,>=4.10.0 in /usr/local/lib/python3.6/dist-packages (from thinc<7.1.0,>=7.0.8->spacy>=2.0.0->spacy_hunspell) (4.28.1)\n",
            "Requirement already satisfied: certifi>=2017.4.17 in /usr/local/lib/python3.6/dist-packages (from requests<3.0.0,>=2.13.0->spacy>=2.0.0->spacy_hunspell) (2019.9.11)\n",
            "Requirement already satisfied: urllib3<1.25,>=1.21.1 in /usr/local/lib/python3.6/dist-packages (from requests<3.0.0,>=2.13.0->spacy>=2.0.0->spacy_hunspell) (1.24.3)\n",
            "Requirement already satisfied: chardet<3.1.0,>=3.0.2 in /usr/local/lib/python3.6/dist-packages (from requests<3.0.0,>=2.13.0->spacy>=2.0.0->spacy_hunspell) (3.0.4)\n",
            "Requirement already satisfied: idna<2.9,>=2.5 in /usr/local/lib/python3.6/dist-packages (from requests<3.0.0,>=2.13.0->spacy>=2.0.0->spacy_hunspell) (2.8)\n",
            "Building wheels for collected packages: spacy-hunspell, hunspell\n",
            "  Building wheel for spacy-hunspell (setup.py) ... \u001b[?25l\u001b[?25hdone\n",
            "  Created wheel for spacy-hunspell: filename=spacy_hunspell-0.1.0-cp36-none-any.whl size=3056 sha256=aeaa603a7ac749f8f3da01b04adaa1274368226d1cf974b10e1e18e3db720712\n",
            "  Stored in directory: /root/.cache/pip/wheels/07/b2/18/b5aa882df45e376e0f52ca7306c450f548ca150168338c0468\n",
            "  Building wheel for hunspell (setup.py) ... \u001b[?25lerror\n",
            "\u001b[31m  ERROR: Failed building wheel for hunspell\u001b[0m\n",
            "\u001b[?25h  Running setup.py clean for hunspell\n",
            "Successfully built spacy-hunspell\n",
            "Failed to build hunspell\n",
            "Installing collected packages: hunspell, spacy-hunspell\n",
            "    Running setup.py install for hunspell ... \u001b[?25l\u001b[?25herror\n",
            "\u001b[31mERROR: Command errored out with exit status 1: /usr/bin/python3 -u -c 'import sys, setuptools, tokenize; sys.argv[0] = '\"'\"'/tmp/pip-install-y17hvyb9/hunspell/setup.py'\"'\"'; __file__='\"'\"'/tmp/pip-install-y17hvyb9/hunspell/setup.py'\"'\"';f=getattr(tokenize, '\"'\"'open'\"'\"', open)(__file__);code=f.read().replace('\"'\"'\\r\\n'\"'\"', '\"'\"'\\n'\"'\"');f.close();exec(compile(code, __file__, '\"'\"'exec'\"'\"'))' install --record /tmp/pip-record-4mbs0dj5/install-record.txt --single-version-externally-managed --compile Check the logs for full command output.\u001b[0m\n"
          ],
          "name": "stdout"
        }
      ]
    },
    {
      "cell_type": "code",
      "metadata": {
        "id": "UbIhRCT8qOmB",
        "colab_type": "code",
        "colab": {}
      },
      "source": [
        "## If you have some problem - Install directly in linux\n",
        "# ! sudo apt-get install libhunspell-dev\n",
        "\n",
        "## Requirements.txt\n",
        "#! pip install 'hunspell==0.5.0'\n",
        "#! pip install 'spacy>=2.0.0'"
      ],
      "execution_count": 0,
      "outputs": []
    },
    {
      "cell_type": "code",
      "metadata": {
        "id": "iEW0LlrktqPy",
        "colab_type": "code",
        "colab": {}
      },
      "source": [
        "!python -m spacy download en_core_web_md\n",
        "\n",
        "# After donwload the model re-start the environment to ensure the code can use it."
      ],
      "execution_count": 0,
      "outputs": []
    },
    {
      "cell_type": "markdown",
      "metadata": {
        "id": "rJlpG_xFtcaA",
        "colab_type": "text"
      },
      "source": [
        "## Example of use"
      ]
    },
    {
      "cell_type": "code",
      "metadata": {
        "id": "r9GMdjHSqvXF",
        "colab_type": "code",
        "colab": {}
      },
      "source": [
        "import spacy\n",
        "from spacy_hunspell import spaCyHunSpell"
      ],
      "execution_count": 0,
      "outputs": []
    },
    {
      "cell_type": "markdown",
      "metadata": {
        "id": "PauvwDs8tlph",
        "colab_type": "text"
      },
      "source": [
        "Load model"
      ]
    },
    {
      "cell_type": "code",
      "metadata": {
        "id": "d-Qugp9ctnF_",
        "colab_type": "code",
        "colab": {}
      },
      "source": [
        "nlp = spacy.load('en_core_web_sm')"
      ],
      "execution_count": 0,
      "outputs": []
    },
    {
      "cell_type": "markdown",
      "metadata": {
        "id": "BgKn0b0duAM0",
        "colab_type": "text"
      },
      "source": [
        "We customize the spaCy pipeline with the spell check component\n",
        "\n",
        "For this, we include a dictionary. We can use the dictionary of the system or a custom dictionary:\n",
        "\n",
        " * For macs: `hunspell = spaCyHunSpell(nlp, 'mac')`\n",
        " * For linuxs: `hunspell = spaCyHunSpell(nlp, 'linux')`\n",
        " * For custom dictionary: `hunspell = spaCyHunSpell(nlp, ('en_US.dic', 'en_US.aff'))`"
      ]
    },
    {
      "cell_type": "code",
      "metadata": {
        "id": "JXmLdZLjq41Z",
        "colab_type": "code",
        "outputId": "51d3e108-b03b-40bc-e22e-c0c70a2b7842",
        "colab": {
          "base_uri": "https://localhost:8080/",
          "height": 71
        }
      },
      "source": [
        "print(f'Original spaCy pipeline : {nlp.pipe_names}')\n",
        "\n",
        "if 'hunspell' not in nlp.pipe_names:\n",
        "  hunspell = spaCyHunSpell(nlp, 'linux')\n",
        "  nlp.add_pipe(hunspell)\n",
        "\n",
        "print(f'New spaCy pipeline : {nlp.pipe_names}')"
      ],
      "execution_count": 0,
      "outputs": [
        {
          "output_type": "stream",
          "text": [
            "Original spaCy pipeline : ['tagger', 'parser', 'ner']\n",
            "/usr/share/hunspell/en_US.dic /usr/share/hunspell/en_US.aff\n",
            "New spaCy pipeline : ['tagger', 'parser', 'ner', 'hunspell']\n"
          ],
          "name": "stdout"
        }
      ]
    },
    {
      "cell_type": "markdown",
      "metadata": {
        "id": "4Cht84kzvC11",
        "colab_type": "text"
      },
      "source": [
        "Tokenize text"
      ]
    },
    {
      "cell_type": "code",
      "metadata": {
        "id": "2U1q1ynIvoWv",
        "colab_type": "code",
        "colab": {}
      },
      "source": [
        "def correct_sentence(doc): \n",
        "\n",
        "  correct_sentence = \"\"\n",
        "  for token in doc:\n",
        "    if not token._.hunspell_spell:\n",
        "      print(f'Bad spell : {token}')\n",
        "      print(f'Correction proposals : {token._.hunspell_suggest}')\n",
        "\n",
        "      print(token.is_space)\n",
        "\n",
        "      correct_sentence += \" \" + token._.hunspell_suggest[0]\n",
        "    else:\n",
        "      correct_sentence += \" \" + token.text\n",
        "  \n",
        "  return correct_sentence.strip()"
      ],
      "execution_count": 0,
      "outputs": []
    },
    {
      "cell_type": "code",
      "metadata": {
        "id": "VO_mdp8pvFBC",
        "colab_type": "code",
        "outputId": "070d9abb-9c94-4f6d-a44f-b8ebdbb655bd",
        "colab": {
          "base_uri": "https://localhost:8080/",
          "height": 143
        }
      },
      "source": [
        "doc = nlp('I can haz cheezeburger.')\n",
        "correct_sentence(doc)"
      ],
      "execution_count": 0,
      "outputs": [
        {
          "output_type": "stream",
          "text": [
            "Bad spell : haz\n",
            "Correction proposals : ['ha', 'haze', 'hazy', 'has', 'hat', 'had', 'hag', 'ham', 'hap', 'hay', 'haw', 'ha z']\n",
            "False\n",
            "Bad spell : cheezeburger\n",
            "Correction proposals : ['cheeseburger', 'vegeburger']\n",
            "False\n"
          ],
          "name": "stdout"
        },
        {
          "output_type": "execute_result",
          "data": {
            "text/plain": [
              "'I can ha cheeseburger .'"
            ]
          },
          "metadata": {
            "tags": []
          },
          "execution_count": 32
        }
      ]
    },
    {
      "cell_type": "code",
      "metadata": {
        "id": "QhcxjwecthwF",
        "colab_type": "code",
        "outputId": "622e223c-2953-40b7-d1d2-5e423cc1c03d",
        "colab": {
          "base_uri": "https://localhost:8080/",
          "height": 89
        }
      },
      "source": [
        "doc = nlp('This street is peacefull')\n",
        "correct_sentence(doc)"
      ],
      "execution_count": 0,
      "outputs": [
        {
          "output_type": "stream",
          "text": [
            "Bad spell : peacefull\n",
            "Correction proposals : ['peaceful', 'peacefully', 'peace full', 'peace-full', 'peaceful l']\n",
            "False\n"
          ],
          "name": "stdout"
        },
        {
          "output_type": "execute_result",
          "data": {
            "text/plain": [
              "'This street is peaceful'"
            ]
          },
          "metadata": {
            "tags": []
          },
          "execution_count": 33
        }
      ]
    },
    {
      "cell_type": "code",
      "metadata": {
        "id": "WaKEh-PLvg8l",
        "colab_type": "code",
        "colab": {}
      },
      "source": [
        ""
      ],
      "execution_count": 0,
      "outputs": []
    }
  ]
}