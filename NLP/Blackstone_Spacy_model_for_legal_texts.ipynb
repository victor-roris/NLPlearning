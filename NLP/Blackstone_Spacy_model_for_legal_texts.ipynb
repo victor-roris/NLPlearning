{
  "nbformat": 4,
  "nbformat_minor": 0,
  "metadata": {
    "kernelspec": {
      "display_name": "myerp",
      "language": "python",
      "name": "myerp"
    },
    "language_info": {
      "codemirror_mode": {
        "name": "ipython",
        "version": 3
      },
      "file_extension": ".py",
      "mimetype": "text/x-python",
      "name": "python",
      "nbconvert_exporter": "python",
      "pygments_lexer": "ipython3",
      "version": "3.7.3"
    },
    "colab": {
      "name": "Blackstone - Spacy model for legal texts.ipynb",
      "provenance": [],
      "include_colab_link": true
    }
  },
  "cells": [
    {
      "cell_type": "markdown",
      "metadata": {
        "id": "view-in-github",
        "colab_type": "text"
      },
      "source": [
        "<a href=\"https://colab.research.google.com/github/victor-roris/mediumseries/blob/master/NLP/Blackstone_Spacy_model_for_legal_texts.ipynb\" target=\"_parent\"><img src=\"https://colab.research.google.com/assets/colab-badge.svg\" alt=\"Open In Colab\"/></a>"
      ]
    },
    {
      "cell_type": "markdown",
      "metadata": {
        "id": "wVpIyCT2_6fA",
        "colab_type": "text"
      },
      "source": [
        "# Blackstone\n",
        "\n",
        "Blackstone is a spaCy model and library for processing long-form, unstructured legal text. \n",
        "\n",
        "Web: https://research.iclr.co.uk/blackstone -\n",
        "GitHub: https://github.com/ICLRandD/Blackstone\n",
        "\n",
        "* *Named-Entity Recogniser (NER)*\n",
        "\n",
        " - CASENAME: Case names\n",
        " - CITATION: Citations (unique identifiers for reported and unreported cases)\n",
        " - INSTRUMENT: Written legal instruments\n",
        " - PROVISION: Unit within a written legal instrument\n",
        " - COURT: Court or tribunal\n",
        " - JUDGE: References to judges\n",
        " \n",
        " \n",
        " * *Text Categoriser*: the text categoriser classifies longer spans of text, such as sentences.\n",
        " \n",
        "  - AXIOM: The text appears to postulate a well-established principle\n",
        "  - CONCLUSION: The text appears to make a finding, holding, determination or conclusion\n",
        "  - ISSUE: The text appears to discuss an issue or question\n",
        "  - LEGAL_TEST: The test appears to discuss a legal test\n",
        "  - UNCAT: The text does not fall into one of the four categories above"
      ]
    },
    {
      "cell_type": "markdown",
      "metadata": {
        "id": "BuE_OEiB_6fD",
        "colab_type": "text"
      },
      "source": [
        "## Installation"
      ]
    },
    {
      "cell_type": "markdown",
      "metadata": {
        "id": "rB-lF0uk_6fG",
        "colab_type": "text"
      },
      "source": [
        "Install the library"
      ]
    },
    {
      "cell_type": "code",
      "metadata": {
        "id": "SUgSQYPH_6fH",
        "colab_type": "code",
        "colab": {}
      },
      "source": [
        "! pip install 'spacy==2.1.4'"
      ],
      "execution_count": 0,
      "outputs": []
    },
    {
      "cell_type": "code",
      "metadata": {
        "id": "GeTXEsX1_6fO",
        "colab_type": "code",
        "colab": {
          "base_uri": "https://localhost:8080/",
          "height": 503
        },
        "outputId": "fd082ff5-40b4-4a97-bcf9-dac4822c00f0"
      },
      "source": [
        "! pip install blackstone"
      ],
      "execution_count": 1,
      "outputs": [
        {
          "output_type": "stream",
          "text": [
            "Collecting blackstone\n",
            "\u001b[?25l  Downloading https://files.pythonhosted.org/packages/ee/c7/302e2b1ccb8414b9d360fe5d8ea8257f781c6ddc0763e128a302bf6f629a/blackstone-0.1.13-py3-none-any.whl (108kB)\n",
            "\r\u001b[K     |███                             | 10kB 15.8MB/s eta 0:00:01\r\u001b[K     |██████                          | 20kB 1.8MB/s eta 0:00:01\r\u001b[K     |█████████                       | 30kB 2.6MB/s eta 0:00:01\r\u001b[K     |████████████                    | 40kB 1.7MB/s eta 0:00:01\r\u001b[K     |███████████████▏                | 51kB 2.1MB/s eta 0:00:01\r\u001b[K     |██████████████████▏             | 61kB 2.5MB/s eta 0:00:01\r\u001b[K     |█████████████████████▏          | 71kB 2.9MB/s eta 0:00:01\r\u001b[K     |████████████████████████▏       | 81kB 3.3MB/s eta 0:00:01\r\u001b[K     |███████████████████████████▎    | 92kB 3.7MB/s eta 0:00:01\r\u001b[K     |██████████████████████████████▎ | 102kB 2.8MB/s eta 0:00:01\r\u001b[K     |████████████████████████████████| 112kB 2.8MB/s \n",
            "\u001b[?25hRequirement already satisfied: numpy in /usr/local/lib/python3.6/dist-packages (from blackstone) (1.17.4)\n",
            "Requirement already satisfied: requests in /usr/local/lib/python3.6/dist-packages (from blackstone) (2.21.0)\n",
            "Requirement already satisfied: spacy>=2.1.4 in /usr/local/lib/python3.6/dist-packages (from blackstone) (2.1.9)\n",
            "Collecting conllu\n",
            "  Downloading https://files.pythonhosted.org/packages/cf/39/869a01c157b135832ce95a60a7ee75062a80e32941e00fc3d3b79331eb50/conllu-2.2-py2.py3-none-any.whl\n",
            "Requirement already satisfied: pandas in /usr/local/lib/python3.6/dist-packages (from blackstone) (0.25.3)\n",
            "Requirement already satisfied: urllib3<1.25,>=1.21.1 in /usr/local/lib/python3.6/dist-packages (from requests->blackstone) (1.24.3)\n",
            "Requirement already satisfied: idna<2.9,>=2.5 in /usr/local/lib/python3.6/dist-packages (from requests->blackstone) (2.8)\n",
            "Requirement already satisfied: certifi>=2017.4.17 in /usr/local/lib/python3.6/dist-packages (from requests->blackstone) (2019.9.11)\n",
            "Requirement already satisfied: chardet<3.1.0,>=3.0.2 in /usr/local/lib/python3.6/dist-packages (from requests->blackstone) (3.0.4)\n",
            "Requirement already satisfied: plac<1.0.0,>=0.9.6 in /usr/local/lib/python3.6/dist-packages (from spacy>=2.1.4->blackstone) (0.9.6)\n",
            "Requirement already satisfied: srsly<1.1.0,>=0.0.6 in /usr/local/lib/python3.6/dist-packages (from spacy>=2.1.4->blackstone) (0.2.0)\n",
            "Requirement already satisfied: blis<0.3.0,>=0.2.2 in /usr/local/lib/python3.6/dist-packages (from spacy>=2.1.4->blackstone) (0.2.4)\n",
            "Requirement already satisfied: preshed<2.1.0,>=2.0.1 in /usr/local/lib/python3.6/dist-packages (from spacy>=2.1.4->blackstone) (2.0.1)\n",
            "Requirement already satisfied: wasabi<1.1.0,>=0.2.0 in /usr/local/lib/python3.6/dist-packages (from spacy>=2.1.4->blackstone) (0.4.0)\n",
            "Requirement already satisfied: cymem<2.1.0,>=2.0.2 in /usr/local/lib/python3.6/dist-packages (from spacy>=2.1.4->blackstone) (2.0.3)\n",
            "Requirement already satisfied: thinc<7.1.0,>=7.0.8 in /usr/local/lib/python3.6/dist-packages (from spacy>=2.1.4->blackstone) (7.0.8)\n",
            "Requirement already satisfied: murmurhash<1.1.0,>=0.28.0 in /usr/local/lib/python3.6/dist-packages (from spacy>=2.1.4->blackstone) (1.0.2)\n",
            "Requirement already satisfied: pytz>=2017.2 in /usr/local/lib/python3.6/dist-packages (from pandas->blackstone) (2018.9)\n",
            "Requirement already satisfied: python-dateutil>=2.6.1 in /usr/local/lib/python3.6/dist-packages (from pandas->blackstone) (2.6.1)\n",
            "Requirement already satisfied: tqdm<5.0.0,>=4.10.0 in /usr/local/lib/python3.6/dist-packages (from thinc<7.1.0,>=7.0.8->spacy>=2.1.4->blackstone) (4.28.1)\n",
            "Requirement already satisfied: six>=1.5 in /usr/local/lib/python3.6/dist-packages (from python-dateutil>=2.6.1->pandas->blackstone) (1.12.0)\n",
            "Installing collected packages: conllu, blackstone\n",
            "Successfully installed blackstone-0.1.13 conllu-2.2\n"
          ],
          "name": "stdout"
        }
      ]
    },
    {
      "cell_type": "markdown",
      "metadata": {
        "id": "JWsTeJ6G_6fT",
        "colab_type": "text"
      },
      "source": [
        "Install the Blackstone model"
      ]
    },
    {
      "cell_type": "code",
      "metadata": {
        "id": "mMKRsQ3W_6fU",
        "colab_type": "code",
        "colab": {
          "base_uri": "https://localhost:8080/",
          "height": 485
        },
        "outputId": "a726aaa1-e0b6-4233-9649-3985ba212522"
      },
      "source": [
        "!pip install https://blackstone-model.s3-eu-west-1.amazonaws.com/en_blackstone_proto-0.0.1.tar.gz"
      ],
      "execution_count": 2,
      "outputs": [
        {
          "output_type": "stream",
          "text": [
            "Collecting https://blackstone-model.s3-eu-west-1.amazonaws.com/en_blackstone_proto-0.0.1.tar.gz\n",
            "\u001b[?25l  Downloading https://blackstone-model.s3-eu-west-1.amazonaws.com/en_blackstone_proto-0.0.1.tar.gz (243.3MB)\n",
            "\u001b[K     |████████████████████████████████| 243.3MB 60kB/s \n",
            "\u001b[?25hRequirement already satisfied: spacy>=2.1.6 in /usr/local/lib/python3.6/dist-packages (from en-blackstone-proto==0.0.1) (2.1.9)\n",
            "Requirement already satisfied: wasabi<1.1.0,>=0.2.0 in /usr/local/lib/python3.6/dist-packages (from spacy>=2.1.6->en-blackstone-proto==0.0.1) (0.4.0)\n",
            "Requirement already satisfied: blis<0.3.0,>=0.2.2 in /usr/local/lib/python3.6/dist-packages (from spacy>=2.1.6->en-blackstone-proto==0.0.1) (0.2.4)\n",
            "Requirement already satisfied: srsly<1.1.0,>=0.0.6 in /usr/local/lib/python3.6/dist-packages (from spacy>=2.1.6->en-blackstone-proto==0.0.1) (0.2.0)\n",
            "Requirement already satisfied: cymem<2.1.0,>=2.0.2 in /usr/local/lib/python3.6/dist-packages (from spacy>=2.1.6->en-blackstone-proto==0.0.1) (2.0.3)\n",
            "Requirement already satisfied: plac<1.0.0,>=0.9.6 in /usr/local/lib/python3.6/dist-packages (from spacy>=2.1.6->en-blackstone-proto==0.0.1) (0.9.6)\n",
            "Requirement already satisfied: thinc<7.1.0,>=7.0.8 in /usr/local/lib/python3.6/dist-packages (from spacy>=2.1.6->en-blackstone-proto==0.0.1) (7.0.8)\n",
            "Requirement already satisfied: requests<3.0.0,>=2.13.0 in /usr/local/lib/python3.6/dist-packages (from spacy>=2.1.6->en-blackstone-proto==0.0.1) (2.21.0)\n",
            "Requirement already satisfied: murmurhash<1.1.0,>=0.28.0 in /usr/local/lib/python3.6/dist-packages (from spacy>=2.1.6->en-blackstone-proto==0.0.1) (1.0.2)\n",
            "Requirement already satisfied: preshed<2.1.0,>=2.0.1 in /usr/local/lib/python3.6/dist-packages (from spacy>=2.1.6->en-blackstone-proto==0.0.1) (2.0.1)\n",
            "Requirement already satisfied: numpy>=1.15.0 in /usr/local/lib/python3.6/dist-packages (from spacy>=2.1.6->en-blackstone-proto==0.0.1) (1.17.4)\n",
            "Requirement already satisfied: tqdm<5.0.0,>=4.10.0 in /usr/local/lib/python3.6/dist-packages (from thinc<7.1.0,>=7.0.8->spacy>=2.1.6->en-blackstone-proto==0.0.1) (4.28.1)\n",
            "Requirement already satisfied: chardet<3.1.0,>=3.0.2 in /usr/local/lib/python3.6/dist-packages (from requests<3.0.0,>=2.13.0->spacy>=2.1.6->en-blackstone-proto==0.0.1) (3.0.4)\n",
            "Requirement already satisfied: idna<2.9,>=2.5 in /usr/local/lib/python3.6/dist-packages (from requests<3.0.0,>=2.13.0->spacy>=2.1.6->en-blackstone-proto==0.0.1) (2.8)\n",
            "Requirement already satisfied: urllib3<1.25,>=1.21.1 in /usr/local/lib/python3.6/dist-packages (from requests<3.0.0,>=2.13.0->spacy>=2.1.6->en-blackstone-proto==0.0.1) (1.24.3)\n",
            "Requirement already satisfied: certifi>=2017.4.17 in /usr/local/lib/python3.6/dist-packages (from requests<3.0.0,>=2.13.0->spacy>=2.1.6->en-blackstone-proto==0.0.1) (2019.9.11)\n",
            "Building wheels for collected packages: en-blackstone-proto\n",
            "  Building wheel for en-blackstone-proto (setup.py) ... \u001b[?25l\u001b[?25hdone\n",
            "  Created wheel for en-blackstone-proto: filename=en_blackstone_proto-0.0.1-cp36-none-any.whl size=243759405 sha256=4cdc2b65bd354a739fc195625d29128c6401d34b6c8aa7295e5a4dbf4d00d5dc\n",
            "  Stored in directory: /root/.cache/pip/wheels/a2/81/dd/09c3b4ef7899e7d9cf92ed3152d29a08b5fd80f7a8bf66df4d\n",
            "Successfully built en-blackstone-proto\n",
            "Installing collected packages: en-blackstone-proto\n",
            "Successfully installed en-blackstone-proto-0.0.1\n"
          ],
          "name": "stdout"
        }
      ]
    },
    {
      "cell_type": "markdown",
      "metadata": {
        "id": "LUeJ002s_6fZ",
        "colab_type": "text"
      },
      "source": [
        "Import Blackstone model"
      ]
    },
    {
      "cell_type": "code",
      "metadata": {
        "id": "iMdkfLCT_6fb",
        "colab_type": "code",
        "colab": {}
      },
      "source": [
        "import spacy\n",
        "nlp = spacy.load(\"en_blackstone_proto\")"
      ],
      "execution_count": 0,
      "outputs": []
    },
    {
      "cell_type": "code",
      "metadata": {
        "id": "wDp1xNL__6fg",
        "colab_type": "code",
        "colab": {
          "base_uri": "https://localhost:8080/",
          "height": 172
        },
        "outputId": "739ac082-ce80-4f1d-bedf-d0a38df50663"
      },
      "source": [
        "assert spacy.__version__ == '2.1.4', 'The blackstone can fail by the spacy version'"
      ],
      "execution_count": 2,
      "outputs": [
        {
          "output_type": "error",
          "ename": "AssertionError",
          "evalue": "ignored",
          "traceback": [
            "\u001b[0;31m---------------------------------------------------------------------------\u001b[0m",
            "\u001b[0;31mAssertionError\u001b[0m                            Traceback (most recent call last)",
            "\u001b[0;32m<ipython-input-2-a4a3797f9c11>\u001b[0m in \u001b[0;36m<module>\u001b[0;34m()\u001b[0m\n\u001b[0;32m----> 1\u001b[0;31m \u001b[0;32massert\u001b[0m \u001b[0mspacy\u001b[0m\u001b[0;34m.\u001b[0m\u001b[0m__version__\u001b[0m \u001b[0;34m==\u001b[0m \u001b[0;34m'2.1.4'\u001b[0m\u001b[0;34m,\u001b[0m \u001b[0;34m'The blackstone can fail by the spacy version'\u001b[0m\u001b[0;34m\u001b[0m\u001b[0;34m\u001b[0m\u001b[0m\n\u001b[0m",
            "\u001b[0;31mAssertionError\u001b[0m: The blackstone can fail by the spacy version"
          ]
        }
      ]
    },
    {
      "cell_type": "code",
      "metadata": {
        "id": "BtM2qI52_6fl",
        "colab_type": "code",
        "colab": {},
        "outputId": "1cac9728-2994-41cf-b96b-60e35c8f82f2"
      },
      "source": [
        "nlp.pipe_names"
      ],
      "execution_count": 0,
      "outputs": [
        {
          "output_type": "execute_result",
          "data": {
            "text/plain": [
              "['sentencizer', 'tagger', 'parser', 'ner', 'textcat']"
            ]
          },
          "metadata": {
            "tags": []
          },
          "execution_count": 5
        }
      ]
    },
    {
      "cell_type": "markdown",
      "metadata": {
        "id": "HJpu0Om6_6fs",
        "colab_type": "text"
      },
      "source": [
        "## Applying the NER model"
      ]
    },
    {
      "cell_type": "code",
      "metadata": {
        "id": "_PEJT_vA_6ft",
        "colab_type": "code",
        "colab": {
          "base_uri": "https://localhost:8080/",
          "height": 161
        },
        "outputId": "bed6d946-3113-4fe8-df36-4f5471fe58fe"
      },
      "source": [
        "text = \"\"\" 31 As we shall explain in more detail in examining the submission of the Secretary of State (see paras 77 and following), it is the Secretary of State’s case that nothing has been done by Parliament in the European Communities Act 1972 or any other statute to remove the prerogative power of the Crown, in the conduct of the international relations of the UK, to take steps to remove the UK from the EU by giving notice under article 50EU for the UK to withdraw from the EU Treaty and other relevant EU Treaties. The Secretary of State relies in particular on Attorney General v De Keyser’s Royal Hotel Ltd [1920] AC 508 and R v Secretary of State for Foreign and Commonwealth Affairs, Ex p Rees-Mogg [1994] QB 552; he contends that the Crown’s prerogative power to cause the UK to withdraw from the EU by giving notice under article 50EU could only have been removed by primary legislation using express words to that effect, alternatively by legislation which has that effect by necessary implication. The Secretary of State contends that neither the ECA 1972 nor any of the other Acts of Parliament referred to have abrogated this aspect of the Crown’s prerogative, either by express words or by necessary implication.\"\"\"\n",
        "\n",
        "# Apply the model to the text\n",
        "doc = nlp(text)\n",
        "\n",
        "# Iterate through the entities identified by the model\n",
        "for ent in doc.ents:\n",
        "    print(ent.text, ent.label_)"
      ],
      "execution_count": 3,
      "outputs": [
        {
          "output_type": "stream",
          "text": [
            "European Communities Act 1972 INSTRUMENT\n",
            "article 50EU PROVISION\n",
            "EU Treaty INSTRUMENT\n",
            "Attorney General v De Keyser’s Royal Hotel Ltd CASENAME\n",
            "[1920] AC 508 CITATION\n",
            "R v Secretary of State for Foreign and Commonwealth Affairs, Ex p Rees-Mogg CASENAME\n",
            "[1994] QB 552 CITATION\n",
            "article 50EU PROVISION\n"
          ],
          "name": "stdout"
        }
      ]
    },
    {
      "cell_type": "code",
      "metadata": {
        "id": "RCPpgSrb_6fy",
        "colab_type": "code",
        "colab": {
          "base_uri": "https://localhost:8080/",
          "height": 107
        },
        "outputId": "2fcafd4b-fd6d-4b2a-e41e-e0b286f1b5a6"
      },
      "source": [
        "\"\"\"\n",
        "Visualise entities using spaCy's displacy visualiser. \n",
        "\n",
        "Blackstone has a custom colour palette: `from blackstone.displacy_palette import ner_displacy options`\n",
        "\"\"\"\n",
        "\n",
        "import spacy\n",
        "from spacy import displacy\n",
        "from blackstone.displacy_palette import ner_displacy_options\n",
        "\n",
        "nlp = spacy.load(\"en_blackstone_proto\")\n",
        "\n",
        "text = \"\"\"\n",
        "The applicant must satisfy a high standard. This is a case where the action is to be tried by a judge with a jury. The standard is set out in Jameel v Wall Street Journal Europe Sprl [2004] EMLR 89, para 14:\n",
        "“But every time a meaning is shut out (including any holding that the words complained of either are, or are not, capable of bearing a defamatory meaning) it must be remembered that the judge is taking it upon himself to rule in effect that any jury would be perverse to take a different view on the question. It is a high threshold of exclusion. Ever since Fox’s Act 1792 (32 Geo 3, c 60) the meaning of words in civil as well as criminal libel proceedings has been constitutionally a matter for the jury. The judge’s function is no more and no less than to pre-empt perversity. That being clearly the position with regard to whether or not words are capable of being understood as defamatory or, as the case may be, non-defamatory, I see no basis on which it could sensibly be otherwise with regard to differing levels of defamatory meaning. Often the question whether words are defamatory at all and, if so, what level of defamatory meaning they bear will overlap.”\n",
        "18 In Berezovsky v Forbes Inc [2001] EMLR 1030, para 16 Sedley LJ had stated the test this way:\n",
        "“The real question in the present case is how the courts ought to go about ascertaining the range of legitimate meanings. Eady J regarded it as a matter of impression. That is all right, it seems to us, provided that the impression is not of what the words mean but of what a jury could sensibly think they meant. Such an exercise is an exercise in generosity, not in parsimony.”\n",
        "\"\"\"\n",
        "\n",
        "doc = nlp(text)\n",
        "\n",
        "# Call displacy and pass `ner_displacy_options` into the option parameter`\n",
        "displacy.serve(doc, style=\"ent\", options=ner_displacy_options)"
      ],
      "execution_count": 4,
      "outputs": [
        {
          "output_type": "stream",
          "text": [
            "\n",
            "Using the 'ent' visualizer\n",
            "Serving on http://0.0.0.0:5000 ...\n",
            "\n",
            "Shutting down server on port 5000.\n"
          ],
          "name": "stdout"
        }
      ]
    },
    {
      "cell_type": "markdown",
      "metadata": {
        "id": "RsGfAcn__6f3",
        "colab_type": "text"
      },
      "source": [
        "## Applying the text categoriser model"
      ]
    },
    {
      "cell_type": "code",
      "metadata": {
        "id": "kfjqUHy2_6f5",
        "colab_type": "code",
        "colab": {
          "base_uri": "https://localhost:8080/",
          "height": 217
        },
        "outputId": "1cc07229-ff91-47a2-9dcc-44d61d547f73"
      },
      "source": [
        "def get_top_cat(doc):\n",
        "    \"\"\"\n",
        "    Function to identify the highest scoring category\n",
        "    prediction generated by the text categoriser. \n",
        "    \"\"\"\n",
        "    cats = doc.cats\n",
        "    max_score = max(cats.values()) \n",
        "    max_cats = [k for k, v in cats.items() if v == max_score]\n",
        "    max_cat = max_cats[0]\n",
        "    return (max_cat, max_score)\n",
        "\n",
        "text = \"\"\"\n",
        "It is a well-established principle of law that the transactions of independent states between each other are governed by other laws than those which municipal courts administer. \\\n",
        "It is, however, in my judgment, insufficient to react to the danger of over-formalisation and “judicialisation” simply by emphasising flexibility and context-sensitivity. \\\n",
        "The question is whether on the facts found by the judge, the (or a) proximate cause of the loss of the rig was “inherent vice or nature of the subject matter insured” within the meaning of clause 4.4 of the Institute Cargo Clauses (A).\n",
        "\"\"\"\n",
        "\n",
        "# Apply the model to the text\n",
        "doc = nlp(text)\n",
        "\n",
        "# Get the sentences in the passage of text\n",
        "sentences = [sent.text for sent in doc.sents]\n",
        "\n",
        "# Print the sentence and the corresponding predicted category.\n",
        "for sentence in sentences:\n",
        "    doc = nlp(sentence)\n",
        "    top_category = get_top_cat(doc)\n",
        "    print (f\"\\\"{sentence}\\\" {top_category}\\n\")"
      ],
      "execution_count": 5,
      "outputs": [
        {
          "output_type": "stream",
          "text": [
            "\"\n",
            "It is a well-established principle of law that the transactions of independent states between each other are governed by other laws than those which municipal courts administer.\" ('AXIOM', 0.9461941123008728)\n",
            "\n",
            "\"It is, however, in my judgment, insufficient to react to the danger of over-formalisation and “judicialisation” simply by emphasising flexibility and context-sensitivity.\" ('CONCLUSION', 0.9293838143348694)\n",
            "\n",
            "\"The question is whether on the facts found by the judge, the (or a) proximate cause of the loss of the rig was “inherent vice or nature of the subject matter insured” within the meaning of clause 4.4 of the Institute Cargo Clauses (A).\" ('ISSUE', 0.5091703534126282)\n",
            "\n",
            "\"\n",
            "\" ('UNCAT', 1.0)\n",
            "\n"
          ],
          "name": "stdout"
        }
      ]
    },
    {
      "cell_type": "markdown",
      "metadata": {
        "id": "lg7TlAZi_6f9",
        "colab_type": "text"
      },
      "source": [
        "## Custom pipeline extensions\n",
        "\n",
        "### Abbreviation detection and long-form definition resolution\n",
        "\n",
        "It is not uncommon for authors of legal documents to abbreviate long-winded terms that will be used instead of the long-form througout the rest of the document. For example,\n",
        "\n",
        "  > The European Court of Human Rights (\"ECtHR\") is the court ultimately responsible for applying the European Convention on Human Rights (\"ECHR\").\n",
        "\n",
        "This is heavily based on the AbbreviationDetector() component in [scispacy]"
      ]
    },
    {
      "cell_type": "code",
      "metadata": {
        "id": "IQE3OCRW_6f_",
        "colab_type": "code",
        "colab": {
          "base_uri": "https://localhost:8080/",
          "height": 71
        },
        "outputId": "1d65cb4e-dcbb-4028-9d4d-87ee1d5f2b2a"
      },
      "source": [
        "from blackstone.pipeline.abbreviations import AbbreviationDetector\n",
        "\n",
        "# Add the abbreviation pipe to the spacy pipeline.\n",
        "abbreviation_pipe = AbbreviationDetector(nlp)\n",
        "nlp.add_pipe(abbreviation_pipe)\n",
        "\n",
        "doc = nlp('The European Court of Human Rights (\"ECtHR\") is the court ultimately responsible for applying the European Convention on Human Rights (\"ECHR\").')\n",
        "\n",
        "print(\"Abbreviation\", \"\\t\", \"Definition\")\n",
        "for abrv in doc._.abbreviations:\n",
        "\tprint(f\"{abrv} \\t ({abrv.start}, {abrv.end}) {abrv._.long_form}\")"
      ],
      "execution_count": 6,
      "outputs": [
        {
          "output_type": "stream",
          "text": [
            "Abbreviation \t Definition\n",
            "\"ECtHR\" \t (7, 10) European Court of Human Rights\n",
            "\"ECHR\" \t (25, 28) European Convention on Human Rights\n"
          ],
          "name": "stdout"
        }
      ]
    },
    {
      "cell_type": "markdown",
      "metadata": {
        "id": "q77KXLe7_6gD",
        "colab_type": "text"
      },
      "source": [
        "## Application to the NDA agreements"
      ]
    },
    {
      "cell_type": "code",
      "metadata": {
        "id": "jMHj-cGB_6gF",
        "colab_type": "code",
        "colab": {}
      },
      "source": [
        "nda_headers = [\n",
        "    \"\"\"THIS AGREEMENT (the \"Agreement”) is entered into on this 12th day of June 2019 by and between MindData SA, located at 235 Rua Priego, San Fernando, Madrid ( the” Disclosing Party”), and DataSpartan Ltd. with an address at 788 98 Meeting Point, Moorgate, London (the “Receiving Party”).\"\"\",\n",
        "    \"\"\"This non disclosure agreement is entered into on 8th day of December 2021 between Omar Akhur Mohamed (Owner) and Veronica Escobar Montoya (Recipient).\"\"\",\n",
        "    \"\"\"THIS AGREEMENT is made on 2019/08/08. between 1 INTEGRATED HEALTH INFORMATION SYSTEMS PTE LTD (ACRA No. 200814464H), a company incorporated in Singapore and having its office at 6 Serangoon North Ave 5 #01-01/02 Singapore 554910 (hereinafter referred to as “IHIS”); and 2 REBORN TEAM CORP (ACRA No. 576190239U), a company incorporated in United Kingdom and having its office at 51 Jupyter Bridge, Golden Town, Cambridge (hereinafter referred to as “the Company”).\"\"\",\n",
        "    \"\"\"Non Disclosure Agreement Higrid T. Harrison having an address of 98B Walmart Road, McDon, RedBrooks, Kunilan (hereinafter referred to as \"Recipient\"), and  Bussiness Risk Invest. LTD, having an address of YL 32 Orange Serv Build, Silonia, Parrow, (hereinafter referred to as \"Owner\"), hereby agree that:\"\"\",\n",
        "    \"\"\"This Non-Disclosure Agreement (the \"Agreement\"), effective as of the date last entered below (the \"Effective Date\"), is entered into by and between Ramen Skashi Int. Ltd (the \"Disclosing Party\") and the Recipient named below (the \"Recipient\", and together with the Disclosing Party, the \"Parties\", and each, a \"Party\").\"\"\",\n",
        "    \"\"\"THIS CONFIDENTIALITY AND NON-DISCLOSURE AGREEMENT (this “Agreement”) is made and entered into as of the 20/11/2017 of Agreement set forth above by and between [Naamloze Vennootschap N.V.] and [Dotdash publishing].\"\"\"\n",
        "]"
      ],
      "execution_count": 0,
      "outputs": []
    },
    {
      "cell_type": "markdown",
      "metadata": {
        "id": "ycyaEqi8_6gK",
        "colab_type": "text"
      },
      "source": [
        "* **NER**"
      ]
    },
    {
      "cell_type": "code",
      "metadata": {
        "id": "iTzl8_je_6gM",
        "colab_type": "code",
        "colab": {
          "base_uri": "https://localhost:8080/",
          "height": 251
        },
        "outputId": "bfedc4a8-4d95-4a2e-8413-382ea840edf0"
      },
      "source": [
        "for index, nda_header in enumerate(nda_headers):\n",
        "    \n",
        "    print(f\"-- Text : {index}\")\n",
        "    \n",
        "    # Apply the model to the text\n",
        "    doc = nlp(nda_header)\n",
        "\n",
        "    # Iterate through the entities identified by the model\n",
        "    for ent in doc.ents:\n",
        "        print(f\"\\t {ent.text} -> {ent.label_}\")"
      ],
      "execution_count": 8,
      "outputs": [
        {
          "output_type": "stream",
          "text": [
            "-- Text : 0\n",
            "-- Text : 1\n",
            "\t Omar Akhur Mohamed (Owner) and Veronica Escobar Montoya (Recipient) -> CASENAME\n",
            "-- Text : 2\n",
            "\t INTEGRATED HEALTH INFORMATION SYSTEMS -> JUDGE\n",
            "\t 5 #01 -> CASENAME\n",
            "-- Text : 3\n",
            "\t YL 32 -> PROVISION\n",
            "-- Text : 4\n",
            "\t \"Effective -> COURT\n",
            "\t Ramen Skashi Int. -> CASENAME\n",
            "-- Text : 5\n",
            "\t THIS CONFIDENTIALITY -> JUDGE\n"
          ],
          "name": "stdout"
        }
      ]
    },
    {
      "cell_type": "markdown",
      "metadata": {
        "id": "MSsHUgW__6gR",
        "colab_type": "text"
      },
      "source": [
        "* **Text classifier**"
      ]
    },
    {
      "cell_type": "code",
      "metadata": {
        "id": "TCBoL9Cr_6gS",
        "colab_type": "code",
        "colab": {
          "base_uri": "https://localhost:8080/",
          "height": 343
        },
        "outputId": "ca135389-735c-4af4-adcf-66b80b3eaa80"
      },
      "source": [
        "def get_top_cat(doc):\n",
        "    \"\"\"\n",
        "    Function to identify the highest scoring category\n",
        "    prediction generated by the text categoriser. \n",
        "    \"\"\"\n",
        "    cats = doc.cats\n",
        "    max_score = max(cats.values()) \n",
        "    max_cats = [k for k, v in cats.items() if v == max_score]\n",
        "    max_cat = max_cats[0]\n",
        "    return (max_cat, max_score)\n",
        "\n",
        "for index, nda_header in enumerate(nda_headers):\n",
        "    \n",
        "    print(f\"-- Text : {index}\")\n",
        "    \n",
        "    # Apply the model to the text\n",
        "    doc = nlp(nda_header)\n",
        "    \n",
        "    # Get the sentences in the passage of text\n",
        "    sentences = [sent.text for sent in doc.sents]\n",
        "\n",
        "    # Print the sentence and the corresponding predicted category.\n",
        "    for sentence in sentences:\n",
        "        doc = nlp(sentence)\n",
        "        top_category = get_top_cat(doc)\n",
        "        print(f\"\\t \\\"{sentence}\\\" {top_category}\")"
      ],
      "execution_count": 9,
      "outputs": [
        {
          "output_type": "stream",
          "text": [
            "-- Text : 0\n",
            "\t \"THIS AGREEMENT (the \"Agreement”) is entered into on this 12th day of June 2019 by and between MindData SA, located at 235 Rua Priego, San Fernando, Madrid ( the” Disclosing Party”), and DataSpartan Ltd. with an address at 788 98 Meeting Point, Moorgate, London (the “Receiving Party”).\" ('UNCAT', 0.9713473320007324)\n",
            "-- Text : 1\n",
            "\t \"This non disclosure agreement is entered into on 8th day of December 2021 between Omar Akhur Mohamed (Owner) and Veronica Escobar Montoya (Recipient).\" ('UNCAT', 0.9999927282333374)\n",
            "-- Text : 2\n",
            "\t \"THIS AGREEMENT is made on 2019/08/08.\" ('UNCAT', 0.9999996423721313)\n",
            "\t \"between 1 INTEGRATED HEALTH INFORMATION SYSTEMS PTE LTD (ACRA No.\" ('ISSUE', 0.9057997465133667)\n",
            "\t \"200814464H), a company incorporated in Singapore and having its office at 6 Serangoon North Ave 5 #01-01/02 Singapore 554910 (hereinafter referred to as “IHIS”); and 2 REBORN TEAM CORP (ACRA No.\" ('UNCAT', 0.996208906173706)\n",
            "\t \"576190239U), a company incorporated in United Kingdom and having its office at 51 Jupyter Bridge, Golden Town, Cambridge (hereinafter referred to as “the Company”).\" ('CONCLUSION', 0.8959798812866211)\n",
            "-- Text : 3\n",
            "\t \"Non Disclosure Agreement Higrid T. Harrison having an address of 98B Walmart Road, McDon, RedBrooks, Kunilan (hereinafter referred to as \"Recipient\"), and  Bussiness Risk Invest.\" ('UNCAT', 0.9696993231773376)\n",
            "\t \"LTD, having an address of YL 32 Orange Serv Build, Silonia, Parrow, (hereinafter referred to as \"Owner\"), hereby agree that:\" ('CONCLUSION', 0.9830033183097839)\n",
            "-- Text : 4\n",
            "\t \"This Non-Disclosure Agreement (the \"Agreement\"), effective as of the date last entered below (the \"Effective Date\"), is entered into by and between Ramen Skashi Int.\" ('UNCAT', 0.9988866448402405)\n",
            "\t \"Ltd (the \"Disclosing Party\") and the Recipient named below (the \"Recipient\", and together with the Disclosing Party, the \"Parties\", and each, a \"Party\").\" ('UNCAT', 0.6295406818389893)\n",
            "-- Text : 5\n",
            "\t \"THIS CONFIDENTIALITY AND NON-DISCLOSURE AGREEMENT (this “Agreement”) is made and entered into as of the 20/11/2017 of Agreement set forth above by and between [Naamloze Vennootschap N.V.] and [Dotdash publishing].\" ('CONCLUSION', 0.7646313905715942)\n"
          ],
          "name": "stdout"
        }
      ]
    },
    {
      "cell_type": "markdown",
      "metadata": {
        "id": "4y9Gmgp7_6gX",
        "colab_type": "text"
      },
      "source": [
        "* **Abbreviation detection and long-form definition resolution**"
      ]
    },
    {
      "cell_type": "code",
      "metadata": {
        "id": "69m_VJh4_6gY",
        "colab_type": "code",
        "colab": {
          "base_uri": "https://localhost:8080/",
          "height": 233
        },
        "outputId": "32abc0cd-c13a-4a99-b1e2-b76a91aaa29b"
      },
      "source": [
        "from blackstone.pipeline.abbreviations import AbbreviationDetector\n",
        "\n",
        "# Add the abbreviation pipe to the spacy pipeline.\n",
        "abbreviation_pipe = AbbreviationDetector(nlp)\n",
        "if not nlp.has_pipe('AbbreviationDetector'):\n",
        "    nlp.add_pipe(abbreviation_pipe)\n",
        "\n",
        "for index, nda_header in enumerate(nda_headers):\n",
        "    \n",
        "    print(f\"-- Text : {index}\")\n",
        "    \n",
        "    # Apply the model to the text\n",
        "    doc = nlp(nda_header)\n",
        "    \n",
        "    print(\"Abbreviation\", \"\\t\", \"Definition\")\n",
        "    for abrv in doc._.abbreviations:\n",
        "        print(f\"\\t {abrv} \\t ({abrv.start}, {abrv.end}) {abrv._.long_form}\")"
      ],
      "execution_count": 10,
      "outputs": [
        {
          "output_type": "stream",
          "text": [
            "-- Text : 0\n",
            "Abbreviation \t Definition\n",
            "-- Text : 1\n",
            "Abbreviation \t Definition\n",
            "-- Text : 2\n",
            "Abbreviation \t Definition\n",
            "-- Text : 3\n",
            "Abbreviation \t Definition\n",
            "-- Text : 4\n",
            "Abbreviation \t Definition\n",
            "-- Text : 5\n",
            "Abbreviation \t Definition\n"
          ],
          "name": "stdout"
        }
      ]
    },
    {
      "cell_type": "markdown",
      "metadata": {
        "id": "CYB5v9dj_6gd",
        "colab_type": "text"
      },
      "source": [
        "## Conclusion\n",
        "\n",
        "The blackstone library was trainned to identify texts and entities of the court legal world. It doesn't seem appropriated for agreements analysis. In this case, this isn't interesting for the NDA project."
      ]
    },
    {
      "cell_type": "code",
      "metadata": {
        "id": "byH6m1yk_6ge",
        "colab_type": "code",
        "colab": {}
      },
      "source": [
        ""
      ],
      "execution_count": 0,
      "outputs": []
    }
  ]
}