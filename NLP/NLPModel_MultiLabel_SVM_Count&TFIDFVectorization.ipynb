{
  "nbformat": 4,
  "nbformat_minor": 0,
  "metadata": {
    "colab": {
      "name": "NLPModel_MultiLabel_SVM_Count&TFIDFVectorization.ipynb",
      "provenance": [],
      "include_colab_link": true
    },
    "kernelspec": {
      "name": "python3",
      "display_name": "Python 3"
    }
  },
  "cells": [
    {
      "cell_type": "markdown",
      "metadata": {
        "id": "view-in-github",
        "colab_type": "text"
      },
      "source": [
        "<a href=\"https://colab.research.google.com/github/victor-roris/mediumseries/blob/master/NLP/NLPModel_MultiLabel_SVM_Count%26TFIDFVectorization.ipynb\" target=\"_parent\"><img src=\"https://colab.research.google.com/assets/colab-badge.svg\" alt=\"Open In Colab\"/></a>"
      ]
    },
    {
      "cell_type": "markdown",
      "metadata": {
        "id": "GiNu4vdeja-F",
        "colab_type": "text"
      },
      "source": [
        "# NLP Model with Linear Support Vector Machine \n",
        "\n",
        "In this notebook, we are going to use a Linear Support Vector Machine Model to predict categories of text. Linear Support Vector Machine is widely regarded as one of the best text classification algorithms. To vectorize the text we are going to use the combination of CountVector (multi-hot array) and TFIDF approach.\n",
        "\n",
        "Support Vector Machines: https://scikit-learn.org/stable/modules/svm.html#svm\n",
        "\n",
        "Sklearn CountVectorizer: https://scikit-learn.org/stable/modules/generated/sklearn.feature_extraction.text.CountVectorizer.html\n",
        "\n",
        "Sklearn TFIDF: https://scikit-learn.org/stable/modules/generated/sklearn.feature_extraction.text.TfidfVectorizer.html\n",
        "\n",
        "Notebook adapted from: https://towardsdatascience.com/multi-class-text-classification-model-comparison-and-selection-5eb066197568\n",
        "\n"
      ]
    },
    {
      "cell_type": "code",
      "metadata": {
        "id": "BQ3smAWeT2qA",
        "colab_type": "code",
        "colab": {}
      },
      "source": [
        "import logging\n",
        "import pandas as pd\n",
        "import numpy as np\n",
        "from numpy import random\n",
        "import gensim\n",
        "import nltk\n",
        "from sklearn.model_selection import train_test_split\n",
        "from sklearn.feature_extraction.text import CountVectorizer, TfidfVectorizer\n",
        "from sklearn.metrics import accuracy_score, confusion_matrix\n",
        "import matplotlib.pyplot as plt\n",
        "from nltk.corpus import stopwords\n",
        "import re\n",
        "from bs4 import BeautifulSoup\n",
        "%matplotlib inline"
      ],
      "execution_count": 0,
      "outputs": []
    },
    {
      "cell_type": "markdown",
      "metadata": {
        "id": "o5MyShKjZfxw",
        "colab_type": "text"
      },
      "source": [
        "## Data"
      ]
    },
    {
      "cell_type": "markdown",
      "metadata": {
        "id": "njxPblU9UH3f",
        "colab_type": "text"
      },
      "source": [
        "### Fetch data\n",
        "\n",
        "We are using a relatively large data set of Stack Overflow questions and tags."
      ]
    },
    {
      "cell_type": "code",
      "metadata": {
        "id": "zxhJ4yEKUF0j",
        "colab_type": "code",
        "outputId": "aba89ef1-1e44-478c-800b-20ae56646b8c",
        "colab": {
          "base_uri": "https://localhost:8080/",
          "height": 359
        }
      },
      "source": [
        "df = pd.read_csv('https://storage.googleapis.com/tensorflow-workshop-examples/stack-overflow-data.csv')\n",
        "df = df[pd.notnull(df['tags'])]\n",
        "categories = df[\"tags\"].unique()\n",
        "\n",
        "print(f'Number of examples : {len(df)}')\n",
        "print(f'Number of words in the data: {df[\"post\"].apply(lambda x: len(x.split(\" \"))).sum()}')\n",
        "print(f'Number of categorie : {len(categories)}')\n",
        "print()\n",
        "print(df.head(10))\n",
        "print()\n",
        "print(f'Categories: {categories}')\n"
      ],
      "execution_count": 2,
      "outputs": [
        {
          "output_type": "stream",
          "text": [
            "Number of examples : 40000\n",
            "Number of words in the data: 10286120\n",
            "Number of categorie : 20\n",
            "\n",
            "                                                post           tags\n",
            "0  what is causing this behavior  in our c# datet...             c#\n",
            "1  have dynamic html load as if it was in an ifra...        asp.net\n",
            "2  how to convert a float value in to min:sec  i ...    objective-c\n",
            "3  .net framework 4 redistributable  just wonderi...           .net\n",
            "4  trying to calculate and print the mean and its...         python\n",
            "5  how to give alias name for my website  i have ...        asp.net\n",
            "6  window.open() returns null in angularjs  it wo...      angularjs\n",
            "7  identifying server timeout quickly in iphone  ...         iphone\n",
            "8  unknown method key  error in rails 2.3.8 unit ...  ruby-on-rails\n",
            "9  from the include  how to show and hide the con...      angularjs\n",
            "\n",
            "Categories: ['c#' 'asp.net' 'objective-c' '.net' 'python' 'angularjs' 'iphone'\n",
            " 'ruby-on-rails' 'ios' 'c' 'sql' 'java' 'jquery' 'css' 'c++' 'php'\n",
            " 'android' 'mysql' 'javascript' 'html']\n"
          ],
          "name": "stdout"
        }
      ]
    },
    {
      "cell_type": "markdown",
      "metadata": {
        "id": "BnYUb5ipUXol",
        "colab_type": "text"
      },
      "source": [
        "Visualize data"
      ]
    },
    {
      "cell_type": "code",
      "metadata": {
        "id": "e2JE3hdsUOdt",
        "colab_type": "code",
        "outputId": "d6fc1f95-79a4-4a74-d6ba-bbdedb20b6eb",
        "colab": {
          "base_uri": "https://localhost:8080/",
          "height": 319
        }
      },
      "source": [
        "plt.figure(figsize=(10,4))\n",
        "df.tags.value_counts().plot(kind='bar');"
      ],
      "execution_count": 3,
      "outputs": [
        {
          "output_type": "display_data",
          "data": {
            "image/png": "[encoded data removed]",
            "text/plain": [
              "<Figure size 720x288 with 1 Axes>"
            ]
          },
          "metadata": {
            "tags": []
          }
        }
      ]
    },
    {
      "cell_type": "markdown",
      "metadata": {
        "id": "PlD5wfiTXKYn",
        "colab_type": "text"
      },
      "source": [
        "The classes are very well balanced."
      ]
    },
    {
      "cell_type": "markdown",
      "metadata": {
        "id": "vuoO7-dMXgbx",
        "colab_type": "text"
      },
      "source": [
        "### Text pre-processing\n",
        "\n",
        "Our text cleaning step includes HTML decoding, remove stop words, change text to lower case, remove punctuation, remove bad characters, and so on."
      ]
    },
    {
      "cell_type": "code",
      "metadata": {
        "id": "2Ah_0UP4YJ_q",
        "colab_type": "code",
        "outputId": "f8b645a1-1811-49f4-a54f-0ef3a022f9ae",
        "colab": {
          "base_uri": "https://localhost:8080/",
          "height": 71
        }
      },
      "source": [
        " nltk.download('stopwords')"
      ],
      "execution_count": 4,
      "outputs": [
        {
          "output_type": "stream",
          "text": [
            "[nltk_data] Downloading package stopwords to /root/nltk_data...\n",
            "[nltk_data]   Unzipping corpora/stopwords.zip.\n"
          ],
          "name": "stdout"
        },
        {
          "output_type": "execute_result",
          "data": {
            "text/plain": [
              "True"
            ]
          },
          "metadata": {
            "tags": []
          },
          "execution_count": 4
        }
      ]
    },
    {
      "cell_type": "code",
      "metadata": {
        "id": "XfukbGVgVFri",
        "colab_type": "code",
        "outputId": "85f0e6dc-e9ac-423e-88f2-698914614969",
        "colab": {
          "base_uri": "https://localhost:8080/",
          "height": 73
        }
      },
      "source": [
        "REPLACE_BY_SPACE_RE = re.compile('[/(){}\\[\\]\\|@,;]')\n",
        "BAD_SYMBOLS_RE = re.compile('[^0-9a-z #+_]')\n",
        "STOPWORDS = set(stopwords.words('english'))\n",
        "\n",
        "def clean_text(text):\n",
        "    \"\"\"\n",
        "        text: a string\n",
        "        \n",
        "        return: modified initial string\n",
        "    \"\"\"\n",
        "    text = BeautifulSoup(text, \"lxml\").text # HTML decoding\n",
        "    text = text.lower() # lowercase text\n",
        "    text = REPLACE_BY_SPACE_RE.sub(' ', text) # replace REPLACE_BY_SPACE_RE symbols by space in text\n",
        "    text = BAD_SYMBOLS_RE.sub('', text) # delete symbols which are in BAD_SYMBOLS_RE from text\n",
        "    text = ' '.join(word for word in text.split() if word not in STOPWORDS) # delete stopwors from text\n",
        "    return text\n",
        "    \n",
        "\n",
        "print(f'Example text previous cleaning : {df[\"post\"].values[10]}')\n",
        "\n",
        "df['post'] = df['post'].apply(clean_text)\n",
        "\n",
        "print(f'Example text previous cleaning : {df[\"post\"].values[10]}')"
      ],
      "execution_count": 5,
      "outputs": [
        {
          "output_type": "stream",
          "text": [
            "Example text previous cleaning : when we need interface c# <blockquote>    <strong>possible duplicate:</strong><br>   <a href= https://stackoverflow.com/questions/240152/why-would-i-want-to-use-interfaces >why would i want to use interfaces </a>   <a href= https://stackoverflow.com/questions/9451868/why-i-need-interface >why i need interface </a>    </blockquote>     i want to know where and when to use it     for example    <pre><code>interface idemo {  // function prototype  public void show(); }  // first class using the interface class myclass1 : idemo {  public void show()  {   // function body comes here   response.write( i m in myclass );  }  }  // second class using the interface class myclass2 : idemo {  public void show()   {   // function body comes here   response.write( i m in myclass2 );   response.write( so  what  );  } </code></pre>   these two classes has the same function name with different body. this can be even achieved without interface. then why we need an interface where and when to use it\n",
            "Example text previous cleaning : need interface c# possible duplicate would want use interfaces need interface want know use example interface idemo function prototype public void show first class using interface class myclass1 idemo public void show function body comes responsewrite myclass second class using interface class myclass2 idemo public void show function body comes responsewrite myclass2 responsewrite two classes function name different body even achieved without interface need interface use\n"
          ],
          "name": "stdout"
        }
      ]
    },
    {
      "cell_type": "code",
      "metadata": {
        "id": "ecM21JV9XQX6",
        "colab_type": "code",
        "outputId": "8897904e-0d4e-424c-eaf4-28026e63fd8a",
        "colab": {
          "base_uri": "https://localhost:8080/",
          "height": 35
        }
      },
      "source": [
        "print(f'Number of words in the cleaning data: {df[\"post\"].apply(lambda x: len(x.split(\" \"))).sum()}')"
      ],
      "execution_count": 6,
      "outputs": [
        {
          "output_type": "stream",
          "text": [
            "Number of words in the cleaning data: 3424297\n"
          ],
          "name": "stdout"
        }
      ]
    },
    {
      "cell_type": "markdown",
      "metadata": {
        "id": "k2mgT7Y9ZZUI",
        "colab_type": "text"
      },
      "source": [
        "### Prepare data"
      ]
    },
    {
      "cell_type": "code",
      "metadata": {
        "id": "6s6PyQv8ZRFo",
        "colab_type": "code",
        "colab": {}
      },
      "source": [
        "X = df.post\n",
        "y = df.tags\n",
        "X_train, X_test, y_train, y_test = train_test_split(X, y, test_size=0.3, random_state = 42)"
      ],
      "execution_count": 0,
      "outputs": []
    },
    {
      "cell_type": "markdown",
      "metadata": {
        "id": "MCojigo3ZjuY",
        "colab_type": "text"
      },
      "source": [
        "## Model training\n",
        "\n",
        "To train the model we will convert our text documents to a matrix of token counts (CountVectorizer), then transform the count matrix to a normalized tf-idf representation (tf-idf transformer). "
      ]
    },
    {
      "cell_type": "code",
      "metadata": {
        "id": "2yqBmbiBZiv3",
        "colab_type": "code",
        "colab": {}
      },
      "source": [
        "from sklearn.linear_model import SGDClassifier\n",
        "from sklearn.pipeline import Pipeline\n",
        "from sklearn.feature_extraction.text import TfidfTransformer\n",
        "\n",
        "sgd = Pipeline([('vect', CountVectorizer()),\n",
        "                ('tfidf', TfidfTransformer()),\n",
        "                ('clf', SGDClassifier(loss='hinge', penalty='l2',alpha=1e-3, random_state=42, max_iter=5, tol=None)),\n",
        "               ])"
      ],
      "execution_count": 0,
      "outputs": []
    },
    {
      "cell_type": "markdown",
      "metadata": {
        "id": "aUVEDGuqk2vH",
        "colab_type": "text"
      },
      "source": [
        "We train the vectorizers and model"
      ]
    },
    {
      "cell_type": "code",
      "metadata": {
        "id": "T2VledCAZzQa",
        "colab_type": "code",
        "outputId": "51d89e88-8c26-4b45-ccf2-11561376a9b1",
        "colab": {
          "base_uri": "https://localhost:8080/",
          "height": 431
        }
      },
      "source": [
        "%%time\n",
        "sgd.fit(X_train, y_train)"
      ],
      "execution_count": 9,
      "outputs": [
        {
          "output_type": "stream",
          "text": [
            "CPU times: user 3.54 s, sys: 929 ms, total: 4.46 s\n",
            "Wall time: 3.48 s\n"
          ],
          "name": "stdout"
        },
        {
          "output_type": "execute_result",
          "data": {
            "text/plain": [
              "Pipeline(memory=None,\n",
              "         steps=[('vect',\n",
              "                 CountVectorizer(analyzer='word', binary=False,\n",
              "                                 decode_error='strict',\n",
              "                                 dtype=<class 'numpy.int64'>, encoding='utf-8',\n",
              "                                 input='content', lowercase=True, max_df=1.0,\n",
              "                                 max_features=None, min_df=1,\n",
              "                                 ngram_range=(1, 1), preprocessor=None,\n",
              "                                 stop_words=None, strip_accents=None,\n",
              "                                 token_pattern='(?u)\\\\b\\\\w\\\\w+\\\\b',\n",
              "                                 tokenizer=None, vocabulary=Non...\n",
              "                ('clf',\n",
              "                 SGDClassifier(alpha=0.001, average=False, class_weight=None,\n",
              "                               early_stopping=False, epsilon=0.1, eta0=0.0,\n",
              "                               fit_intercept=True, l1_ratio=0.15,\n",
              "                               learning_rate='optimal', loss='hinge',\n",
              "                               max_iter=5, n_iter_no_change=5, n_jobs=None,\n",
              "                               penalty='l2', power_t=0.5, random_state=42,\n",
              "                               shuffle=True, tol=None, validation_fraction=0.1,\n",
              "                               verbose=0, warm_start=False))],\n",
              "         verbose=False)"
            ]
          },
          "metadata": {
            "tags": []
          },
          "execution_count": 9
        }
      ]
    },
    {
      "cell_type": "markdown",
      "metadata": {
        "id": "2c0-o_U0k8Ox",
        "colab_type": "text"
      },
      "source": [
        "## Model evaluation"
      ]
    },
    {
      "cell_type": "code",
      "metadata": {
        "id": "Pc6wcIBZZuMm",
        "colab_type": "code",
        "outputId": "ac487f11-9d66-4e18-9936-12516a11a763",
        "colab": {
          "base_uri": "https://localhost:8080/",
          "height": 557
        }
      },
      "source": [
        "%%time\n",
        "from sklearn.metrics import classification_report\n",
        "y_pred = sgd.predict(X_test)\n",
        "\n",
        "print('accuracy %s' % accuracy_score(y_pred, y_test))\n",
        "print(classification_report(y_test, y_pred,target_names=categories))"
      ],
      "execution_count": 10,
      "outputs": [
        {
          "output_type": "stream",
          "text": [
            "accuracy 0.7895833333333333\n",
            "               precision    recall  f1-score   support\n",
            "\n",
            "           c#       0.73      0.67      0.70       613\n",
            "      asp.net       0.84      0.94      0.89       620\n",
            "  objective-c       0.88      0.95      0.92       587\n",
            "         .net       0.81      0.80      0.80       586\n",
            "       python       0.73      0.89      0.80       599\n",
            "    angularjs       0.77      0.39      0.52       589\n",
            "       iphone       0.81      0.69      0.74       594\n",
            "ruby-on-rails       0.71      0.95      0.81       610\n",
            "          ios       0.83      0.57      0.67       617\n",
            "            c       0.72      0.58      0.64       587\n",
            "          sql       0.71      0.65      0.68       611\n",
            "         java       0.79      0.88      0.83       594\n",
            "       jquery       0.77      0.79      0.78       619\n",
            "          css       0.84      0.86      0.85       574\n",
            "          c++       0.82      0.81      0.81       584\n",
            "          php       0.70      0.68      0.69       578\n",
            "      android       0.81      0.90      0.85       591\n",
            "        mysql       0.84      0.96      0.90       608\n",
            "   javascript       0.87      0.96      0.91       638\n",
            "         html       0.78      0.88      0.83       601\n",
            "\n",
            "     accuracy                           0.79     12000\n",
            "    macro avg       0.79      0.79      0.78     12000\n",
            " weighted avg       0.79      0.79      0.78     12000\n",
            "\n",
            "CPU times: user 1.06 s, sys: 49.7 ms, total: 1.11 s\n",
            "Wall time: 1.07 s\n"
          ],
          "name": "stdout"
        }
      ]
    }
  ]
}