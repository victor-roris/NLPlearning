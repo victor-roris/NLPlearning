{
  "nbformat": 4,
  "nbformat_minor": 0,
  "metadata": {
    "colab": {
      "name": "ModelInterpretability_SHAP",
      "provenance": [],
      "include_colab_link": true
    },
    "kernelspec": {
      "name": "python3",
      "display_name": "Python 3"
    }
  },
  "cells": [
    {
      "cell_type": "markdown",
      "metadata": {
        "id": "view-in-github",
        "colab_type": "text"
      },
      "source": [
        "<a href=\"https://colab.research.google.com/github/victor-roris/mediumseries/blob/master/NLP/ModelInterpretability_SHAP.ipynb\" target=\"_parent\"><img src=\"https://colab.research.google.com/assets/colab-badge.svg\" alt=\"Open In Colab\"/></a>"
      ]
    },
    {
      "cell_type": "markdown",
      "metadata": {
        "id": "fEsKEQ8vARdx",
        "colab_type": "text"
      },
      "source": [
        "# SHAP\n",
        "\n",
        "SHAP (SHapley Additive exPlanations) is a unified approach to explain the output of any machine learning model. SHAP connects game theory with local explanations, uniting several previous methods and representing the only possible consistent and locally accurate additive feature attribution method based on expectations \n",
        "\n",
        "XGBoost, LightGBM, CatBoost, Pyspark and most tree-based scikit-learn models are supported.\n",
        "\n",
        "GITHUB: https://github.com/slundberg/shap\n",
        "\n",
        "DOCUMENTATION: https://shap.readthedocs.io/en/latest/\n",
        "\n",
        "ADAPTED FROM: https://towardsdatascience.com/explain-nlp-models-with-lime-shap-5c5a9f84d59b"
      ]
    },
    {
      "cell_type": "markdown",
      "metadata": {
        "id": "dQWt3zhdAbU-",
        "colab_type": "text"
      },
      "source": [
        "## INSTALLATION"
      ]
    },
    {
      "cell_type": "code",
      "metadata": {
        "id": "zLxUDVslAZ4W",
        "colab_type": "code",
        "colab": {}
      },
      "source": [
        "pip install shap"
      ],
      "execution_count": 0,
      "outputs": []
    },
    {
      "cell_type": "markdown",
      "metadata": {
        "id": "VICrIqJuAexH",
        "colab_type": "text"
      },
      "source": [
        "## EXAMPLE OF USAGE"
      ]
    },
    {
      "cell_type": "code",
      "metadata": {
        "id": "NVokbu8G5eCe",
        "colab_type": "code",
        "colab": {}
      },
      "source": [
        "import pandas as pd\n",
        "import numpy as np\n",
        "from sklearn.utils import shuffle\n",
        "from sklearn.preprocessing import MultiLabelBinarizer\n",
        "import tensorflow as tf\n",
        "from tensorflow.keras.preprocessing import text\n",
        "import keras.backend.tensorflow_backend as K\n",
        "K.set_session\n",
        "import shap"
      ],
      "execution_count": 0,
      "outputs": []
    },
    {
      "cell_type": "markdown",
      "metadata": {
        "id": "i-uSG1GCSFYA",
        "colab_type": "text"
      },
      "source": [
        "### GENERATE MODEL"
      ]
    },
    {
      "cell_type": "markdown",
      "metadata": {
        "colab_type": "text",
        "id": "UKr2602XMTyk"
      },
      "source": [
        "* **Fetch data**"
      ]
    },
    {
      "cell_type": "code",
      "metadata": {
        "colab_type": "code",
        "outputId": "f823dcc5-2540-4461-9f6e-080f70d14003",
        "id": "Jkg4ykFQMTyo",
        "colab": {
          "base_uri": "https://localhost:8080/",
          "height": 204
        }
      },
      "source": [
        "df = pd.read_csv('https://storage.googleapis.com/tensorflow-workshop-examples/stack-overflow-data.csv')\n",
        "df.head()"
      ],
      "execution_count": 4,
      "outputs": [
        {
          "output_type": "execute_result",
          "data": {
            "text/html": [
              "<div>\n",
              "<style scoped>\n",
              "    .dataframe tbody tr th:only-of-type {\n",
              "        vertical-align: middle;\n",
              "    }\n",
              "\n",
              "    .dataframe tbody tr th {\n",
              "        vertical-align: top;\n",
              "    }\n",
              "\n",
              "    .dataframe thead th {\n",
              "        text-align: right;\n",
              "    }\n",
              "</style>\n",
              "<table border=\"1\" class=\"dataframe\">\n",
              "  <thead>\n",
              "    <tr style=\"text-align: right;\">\n",
              "      <th></th>\n",
              "      <th>post</th>\n",
              "      <th>tags</th>\n",
              "    </tr>\n",
              "  </thead>\n",
              "  <tbody>\n",
              "    <tr>\n",
              "      <th>0</th>\n",
              "      <td>what is causing this behavior  in our c# datet...</td>\n",
              "      <td>c#</td>\n",
              "    </tr>\n",
              "    <tr>\n",
              "      <th>1</th>\n",
              "      <td>have dynamic html load as if it was in an ifra...</td>\n",
              "      <td>asp.net</td>\n",
              "    </tr>\n",
              "    <tr>\n",
              "      <th>2</th>\n",
              "      <td>how to convert a float value in to min:sec  i ...</td>\n",
              "      <td>objective-c</td>\n",
              "    </tr>\n",
              "    <tr>\n",
              "      <th>3</th>\n",
              "      <td>.net framework 4 redistributable  just wonderi...</td>\n",
              "      <td>.net</td>\n",
              "    </tr>\n",
              "    <tr>\n",
              "      <th>4</th>\n",
              "      <td>trying to calculate and print the mean and its...</td>\n",
              "      <td>python</td>\n",
              "    </tr>\n",
              "  </tbody>\n",
              "</table>\n",
              "</div>"
            ],
            "text/plain": [
              "                                                post         tags\n",
              "0  what is causing this behavior  in our c# datet...           c#\n",
              "1  have dynamic html load as if it was in an ifra...      asp.net\n",
              "2  how to convert a float value in to min:sec  i ...  objective-c\n",
              "3  .net framework 4 redistributable  just wonderi...         .net\n",
              "4  trying to calculate and print the mean and its...       python"
            ]
          },
          "metadata": {
            "tags": []
          },
          "execution_count": 4
        }
      ]
    },
    {
      "cell_type": "markdown",
      "metadata": {
        "colab_type": "text",
        "id": "VI4F6WEmMTyu"
      },
      "source": [
        "Clean the data"
      ]
    },
    {
      "cell_type": "code",
      "metadata": {
        "colab_type": "code",
        "outputId": "7eebfddb-b02d-4de2-9fec-8d1d6e6e00d5",
        "id": "3Ywkk4QiMTyv",
        "colab": {
          "base_uri": "https://localhost:8080/",
          "height": 222
        }
      },
      "source": [
        "# Remove entries with null tags \n",
        "df = df[pd.notnull(df['tags'])]\n",
        "\n",
        "# Get a fraction of the entries\n",
        "df = df.sample(frac=0.5, random_state=99).reset_index(drop=True)\n",
        "\n",
        "# Randomize the values\n",
        "df = shuffle(df, random_state=22)\n",
        "df = df.reset_index(drop=True)\n",
        "\n",
        "# Create a label column from the tags column\n",
        "df['class_label'] = df['tags'].factorize()[0]\n",
        "\n",
        "print(f'Number of labelled examples : {len(df)}')\n",
        "df.head()"
      ],
      "execution_count": 5,
      "outputs": [
        {
          "output_type": "stream",
          "text": [
            "Number of labelled examples : 20000\n"
          ],
          "name": "stdout"
        },
        {
          "output_type": "execute_result",
          "data": {
            "text/html": [
              "<div>\n",
              "<style scoped>\n",
              "    .dataframe tbody tr th:only-of-type {\n",
              "        vertical-align: middle;\n",
              "    }\n",
              "\n",
              "    .dataframe tbody tr th {\n",
              "        vertical-align: top;\n",
              "    }\n",
              "\n",
              "    .dataframe thead th {\n",
              "        text-align: right;\n",
              "    }\n",
              "</style>\n",
              "<table border=\"1\" class=\"dataframe\">\n",
              "  <thead>\n",
              "    <tr style=\"text-align: right;\">\n",
              "      <th></th>\n",
              "      <th>post</th>\n",
              "      <th>tags</th>\n",
              "      <th>class_label</th>\n",
              "    </tr>\n",
              "  </thead>\n",
              "  <tbody>\n",
              "    <tr>\n",
              "      <th>0</th>\n",
              "      <td>how do i move something in rails   i m a progr...</td>\n",
              "      <td>ruby-on-rails</td>\n",
              "      <td>0</td>\n",
              "    </tr>\n",
              "    <tr>\n",
              "      <th>1</th>\n",
              "      <td>c#   how to output specific array searches   t...</td>\n",
              "      <td>c#</td>\n",
              "      <td>1</td>\n",
              "    </tr>\n",
              "    <tr>\n",
              "      <th>2</th>\n",
              "      <td>integer.parseint and string format with decima...</td>\n",
              "      <td>java</td>\n",
              "      <td>2</td>\n",
              "    </tr>\n",
              "    <tr>\n",
              "      <th>3</th>\n",
              "      <td>compilation problem while upgrading a website ...</td>\n",
              "      <td>.net</td>\n",
              "      <td>3</td>\n",
              "    </tr>\n",
              "    <tr>\n",
              "      <th>4</th>\n",
              "      <td>query to list out the records by comparing max...</td>\n",
              "      <td>sql</td>\n",
              "      <td>4</td>\n",
              "    </tr>\n",
              "  </tbody>\n",
              "</table>\n",
              "</div>"
            ],
            "text/plain": [
              "                                                post  ... class_label\n",
              "0  how do i move something in rails   i m a progr...  ...           0\n",
              "1  c#   how to output specific array searches   t...  ...           1\n",
              "2  integer.parseint and string format with decima...  ...           2\n",
              "3  compilation problem while upgrading a website ...  ...           3\n",
              "4  query to list out the records by comparing max...  ...           4\n",
              "\n",
              "[5 rows x 3 columns]"
            ]
          },
          "metadata": {
            "tags": []
          },
          "execution_count": 5
        }
      ]
    },
    {
      "cell_type": "markdown",
      "metadata": {
        "id": "KVX5IzPGWAE5",
        "colab_type": "text"
      },
      "source": [
        "* **Prepare data**"
      ]
    },
    {
      "cell_type": "markdown",
      "metadata": {
        "id": "-YQS4gJSb3f5",
        "colab_type": "text"
      },
      "source": [
        "  - *Labels*"
      ]
    },
    {
      "cell_type": "markdown",
      "metadata": {
        "id": "7H4nyOVoHO_O",
        "colab_type": "text"
      },
      "source": [
        "Binarize the labels"
      ]
    },
    {
      "cell_type": "code",
      "metadata": {
        "id": "GIR_lhn77Mra",
        "colab_type": "code",
        "colab": {
          "base_uri": "https://localhost:8080/",
          "height": 161
        },
        "outputId": "144a1450-cc09-4b88-afee-106b0b417d68"
      },
      "source": [
        "tags_split = [tags.split(',') for tags in df['tags'].values]\n",
        "tag_encoder = MultiLabelBinarizer()\n",
        "tags_encoded = tag_encoder.fit_transform(tags_split)\n",
        "\n",
        "print(f'Labels by entry in a binary matrix of = ({tags_encoded.shape[0]} examples) X ({tags_encoded.shape[1]} labels)')\n",
        "tags_encoded"
      ],
      "execution_count": 6,
      "outputs": [
        {
          "output_type": "stream",
          "text": [
            "Labels by entry in a binary matrix of = (20000 examples) X (20 labels)\n"
          ],
          "name": "stdout"
        },
        {
          "output_type": "execute_result",
          "data": {
            "text/plain": [
              "array([[0, 0, 0, ..., 0, 1, 0],\n",
              "       [0, 0, 0, ..., 0, 0, 0],\n",
              "       [0, 0, 0, ..., 0, 0, 0],\n",
              "       ...,\n",
              "       [1, 0, 0, ..., 0, 0, 0],\n",
              "       [0, 0, 0, ..., 0, 0, 0],\n",
              "       [0, 0, 0, ..., 0, 0, 0]])"
            ]
          },
          "metadata": {
            "tags": []
          },
          "execution_count": 6
        }
      ]
    },
    {
      "cell_type": "code",
      "metadata": {
        "id": "EXF2vzCDqh0m",
        "colab_type": "code",
        "colab": {
          "base_uri": "https://localhost:8080/",
          "height": 71
        },
        "outputId": "41b456b1-823f-45cd-cc31-21e1f22f5940"
      },
      "source": [
        "print(f'Classe labels: {tag_encoder.classes_}')"
      ],
      "execution_count": 7,
      "outputs": [
        {
          "output_type": "stream",
          "text": [
            "Classe labels: ['.net' 'android' 'angularjs' 'asp.net' 'c' 'c#' 'c++' 'css' 'html' 'ios'\n",
            " 'iphone' 'java' 'javascript' 'jquery' 'mysql' 'objective-c' 'php'\n",
            " 'python' 'ruby-on-rails' 'sql']\n"
          ],
          "name": "stdout"
        }
      ]
    },
    {
      "cell_type": "markdown",
      "metadata": {
        "id": "kJ3IKthaIuba",
        "colab_type": "text"
      },
      "source": [
        "Get the binary labels matrix for the training and evaluation datasets"
      ]
    },
    {
      "cell_type": "code",
      "metadata": {
        "id": "mFncODU5BOCr",
        "colab_type": "code",
        "colab": {
          "base_uri": "https://localhost:8080/",
          "height": 53
        },
        "outputId": "eb6162a2-840c-4730-a02b-d9d95b34230d"
      },
      "source": [
        "num_tags = len(tags_encoded[0])\n",
        "train_size = int(len(df)*0.8)\n",
        "\n",
        "print(f'Number of labels : {num_tags}')\n",
        "print(f'Number of examples in the training dataset : {train_size}')"
      ],
      "execution_count": 8,
      "outputs": [
        {
          "output_type": "stream",
          "text": [
            "Number of labels : 20\n",
            "Number of examples in the training dataset : 16000\n"
          ],
          "name": "stdout"
        }
      ]
    },
    {
      "cell_type": "code",
      "metadata": {
        "id": "qK7zCFSJHqfl",
        "colab_type": "code",
        "colab": {
          "base_uri": "https://localhost:8080/",
          "height": 53
        },
        "outputId": "2824ab07-ef61-44b5-f15f-d0af2f6591c9"
      },
      "source": [
        "y_train = tags_encoded[: train_size]\n",
        "y_test = tags_encoded[train_size:]\n",
        "\n",
        "print(f'Binarize Label for each training example - binary matrix of = ({y_train.shape[0]} training examples) X ({y_train.shape[1]} labels)')\n",
        "print(f'Binarize Label for each evaluation example - binary matrix of = ({y_test.shape[0]} training examples) X ({y_test.shape[1]} labels)')"
      ],
      "execution_count": 9,
      "outputs": [
        {
          "output_type": "stream",
          "text": [
            "Binarize Label for each training example - binary matrix of = (16000 training examples) X (20 labels)\n",
            "Binarize Label for each evaluation example - binary matrix of = (4000 training examples) X (20 labels)\n"
          ],
          "name": "stdout"
        }
      ]
    },
    {
      "cell_type": "markdown",
      "metadata": {
        "id": "hel2m75HcDk6",
        "colab_type": "text"
      },
      "source": [
        " - *Text*"
      ]
    },
    {
      "cell_type": "code",
      "metadata": {
        "id": "jqfAan_ZdHDT",
        "colab_type": "code",
        "colab": {
          "base_uri": "https://localhost:8080/",
          "height": 53
        },
        "outputId": "1d369a40-bcda-438f-d2a9-2eb2a6fe5d8d"
      },
      "source": [
        "train_post = df['post'].values[:train_size]\n",
        "test_post = df['post'].values[train_size:]\n",
        "\n",
        "print(f'Number of training texts : {len(train_post)}')\n",
        "print(f'Number of evaluation texts : {len(test_post)}')"
      ],
      "execution_count": 10,
      "outputs": [
        {
          "output_type": "stream",
          "text": [
            "Number of training texts : 16000\n",
            "Number of evaluation texts : 4000\n"
          ],
          "name": "stdout"
        }
      ]
    },
    {
      "cell_type": "markdown",
      "metadata": {
        "id": "poWUaGHyJb2K",
        "colab_type": "text"
      },
      "source": [
        "Tokenize the texts"
      ]
    },
    {
      "cell_type": "code",
      "metadata": {
        "id": "tg8HqNVfIXvy",
        "colab_type": "code",
        "colab": {}
      },
      "source": [
        "class TextPreprocessor(object):\n",
        "    # Class to contain text processor functionalities\n",
        "    def __init__(self, vocab_size):\n",
        "        self._vocab_size = vocab_size\n",
        "        self._tokenizer = None\n",
        "    def create_tokenizer(self, text_list):\n",
        "        tokenizer = text.Tokenizer(num_words = self._vocab_size)\n",
        "        tokenizer.fit_on_texts(text_list)\n",
        "        self._tokenizer = tokenizer\n",
        "    def transform_text(self, text_list):\n",
        "        text_matrix = self._tokenizer.texts_to_matrix(text_list)\n",
        "        return text_matrix"
      ],
      "execution_count": 0,
      "outputs": []
    },
    {
      "cell_type": "code",
      "metadata": {
        "id": "bEHgshBeJbBr",
        "colab_type": "code",
        "colab": {}
      },
      "source": [
        "# Instiate the Text Processor\n",
        "VOCAB_SIZE = 500\n",
        "processor = TextPreprocessor(VOCAB_SIZE)\n",
        "processor.create_tokenizer(train_post)"
      ],
      "execution_count": 0,
      "outputs": []
    },
    {
      "cell_type": "code",
      "metadata": {
        "id": "GAEP9yvzdcY3",
        "colab_type": "code",
        "colab": {}
      },
      "source": [
        "# Get the tokenized version of the training and evaluation texts \n",
        "X_train = processor.transform_text(train_post)\n",
        "X_test = processor.transform_text(test_post)"
      ],
      "execution_count": 0,
      "outputs": []
    },
    {
      "cell_type": "code",
      "metadata": {
        "id": "bXsB2YhNdfha",
        "colab_type": "code",
        "colab": {
          "base_uri": "https://localhost:8080/",
          "height": 161
        },
        "outputId": "f6ad80ce-cb15-43d8-f293-48f49aa98c5a"
      },
      "source": [
        "print(f'Training data expresed in a matrix of tokens of: ({X_train.shape[0]} examples) x ({X_train.shape[1]} tokens) ')\n",
        "X_train"
      ],
      "execution_count": 14,
      "outputs": [
        {
          "output_type": "stream",
          "text": [
            "Training data expresed in a matrix of tokens of: (16000 examples) x (500 tokens) \n"
          ],
          "name": "stdout"
        },
        {
          "output_type": "execute_result",
          "data": {
            "text/plain": [
              "array([[0., 1., 1., ..., 0., 0., 0.],\n",
              "       [0., 1., 1., ..., 0., 0., 0.],\n",
              "       [0., 1., 1., ..., 0., 0., 0.],\n",
              "       ...,\n",
              "       [0., 1., 1., ..., 0., 0., 1.],\n",
              "       [0., 1., 1., ..., 0., 0., 0.],\n",
              "       [0., 1., 1., ..., 0., 0., 0.]])"
            ]
          },
          "metadata": {
            "tags": []
          },
          "execution_count": 14
        }
      ]
    },
    {
      "cell_type": "code",
      "metadata": {
        "id": "BumnbIYLd4W0",
        "colab_type": "code",
        "colab": {
          "base_uri": "https://localhost:8080/",
          "height": 161
        },
        "outputId": "da051710-b0e8-4a55-d9c4-0555f5fdaefb"
      },
      "source": [
        "print(f'Training data expresed in a matrix of tokens of: ({X_test.shape[0]} examples) x ({X_test.shape[1]} tokens) ')\n",
        "X_test"
      ],
      "execution_count": 15,
      "outputs": [
        {
          "output_type": "stream",
          "text": [
            "Training data expresed in a matrix of tokens of: (4000 examples) x (500 tokens) \n"
          ],
          "name": "stdout"
        },
        {
          "output_type": "execute_result",
          "data": {
            "text/plain": [
              "array([[0., 1., 1., ..., 0., 0., 0.],\n",
              "       [0., 0., 1., ..., 0., 0., 0.],\n",
              "       [0., 1., 1., ..., 0., 0., 0.],\n",
              "       ...,\n",
              "       [0., 0., 1., ..., 0., 0., 0.],\n",
              "       [0., 1., 1., ..., 0., 0., 0.],\n",
              "       [0., 1., 1., ..., 0., 0., 0.]])"
            ]
          },
          "metadata": {
            "tags": []
          },
          "execution_count": 15
        }
      ]
    },
    {
      "cell_type": "markdown",
      "metadata": {
        "id": "XGoYCuFVXIaa",
        "colab_type": "text"
      },
      "source": [
        "* **Train model**"
      ]
    },
    {
      "cell_type": "code",
      "metadata": {
        "id": "6_SU13fEeXnw",
        "colab_type": "code",
        "colab": {
          "base_uri": "https://localhost:8080/",
          "height": 145
        },
        "outputId": "3534ec7b-b9b7-42b8-c00f-1a0d81b2a0fd"
      },
      "source": [
        "def create_model(vocab_size, num_tags):\n",
        "    # Create a keras sequential model\n",
        "\n",
        "    model = tf.keras.models.Sequential()\n",
        "    model.add(tf.keras.layers.Dense(50, input_shape = (vocab_size,), activation='relu'))\n",
        "    model.add(tf.keras.layers.Dense(25, activation='relu'))\n",
        "    model.add(tf.keras.layers.Dense(num_tags, activation='sigmoid'))\n",
        "    model.compile(loss = 'binary_crossentropy', optimizer='adam', metrics = ['accuracy'])\n",
        "    return model\n",
        "    \n",
        "# Create model\n",
        "model = create_model(VOCAB_SIZE, num_tags)"
      ],
      "execution_count": 16,
      "outputs": [
        {
          "output_type": "stream",
          "text": [
            "WARNING:tensorflow:From /usr/local/lib/python3.6/dist-packages/tensorflow_core/python/ops/resource_variable_ops.py:1630: calling BaseResourceVariable.__init__ (from tensorflow.python.ops.resource_variable_ops) with constraint is deprecated and will be removed in a future version.\n",
            "Instructions for updating:\n",
            "If using Keras pass *_constraint arguments to layers.\n",
            "WARNING:tensorflow:From /usr/local/lib/python3.6/dist-packages/tensorflow_core/python/ops/nn_impl.py:183: where (from tensorflow.python.ops.array_ops) is deprecated and will be removed in a future version.\n",
            "Instructions for updating:\n",
            "Use tf.where in 2.0, which has the same broadcast rule as np.where\n"
          ],
          "name": "stdout"
        }
      ]
    },
    {
      "cell_type": "code",
      "metadata": {
        "id": "k-E370AdJlY2",
        "colab_type": "code",
        "colab": {
          "base_uri": "https://localhost:8080/",
          "height": 143
        },
        "outputId": "49478700-89a9-45ab-84d7-82134759aa7c"
      },
      "source": [
        "# Train model\n",
        "model.fit(X_train, y_train, epochs = 2, batch_size=128, validation_split=0.1)\n",
        "print('Eval loss/accuracy:{}'.format(model.evaluate(X_test, y_test, batch_size = 128)))"
      ],
      "execution_count": 17,
      "outputs": [
        {
          "output_type": "stream",
          "text": [
            "Train on 14400 samples, validate on 1600 samples\n",
            "Epoch 1/2\n",
            "14400/14400 [==============================] - 1s 35us/sample - loss: 0.2792 - acc: 0.9165 - val_loss: 0.1864 - val_acc: 0.9501\n",
            "Epoch 2/2\n",
            "14400/14400 [==============================] - 0s 24us/sample - loss: 0.1550 - acc: 0.9527 - val_loss: 0.1336 - val_acc: 0.9557\n",
            "4000/4000 [==============================] - 0s 11us/sample - loss: 0.1325 - acc: 0.9564\n",
            "Eval loss/accuracy:[0.1324819493293762, 0.95644987]\n"
          ],
          "name": "stdout"
        }
      ]
    },
    {
      "cell_type": "markdown",
      "metadata": {
        "id": "OVbJFVIZY_9P",
        "colab_type": "text"
      },
      "source": [
        "### EXPLAINING PREDICTIONS USING SHAP"
      ]
    },
    {
      "cell_type": "markdown",
      "metadata": {
        "id": "TFhFU-1_iNdq",
        "colab_type": "text"
      },
      "source": [
        "We use the first X training documents as our background data set to integrate over, and to create a SHAP explainer object."
      ]
    },
    {
      "cell_type": "code",
      "metadata": {
        "id": "peAejiAIZCA2",
        "colab_type": "code",
        "colab": {
          "base_uri": "https://localhost:8080/",
          "height": 73
        },
        "outputId": "99346664-c26d-4df9-9d36-0d778aae5709"
      },
      "source": [
        "attrib_data = X_train[:400]\n",
        "explainer = shap.DeepExplainer(model, attrib_data)"
      ],
      "execution_count": 18,
      "outputs": [
        {
          "output_type": "stream",
          "text": [
            "WARNING:tensorflow:From /usr/local/lib/python3.6/dist-packages/shap/explainers/deep/deep_tf.py:124: The name tf.keras.backend.get_session is deprecated. Please use tf.compat.v1.keras.backend.get_session instead.\n",
            "\n"
          ],
          "name": "stdout"
        }
      ]
    },
    {
      "cell_type": "markdown",
      "metadata": {
        "id": "BeVRA6lmi4yE",
        "colab_type": "text"
      },
      "source": [
        "We get the attribution values for individual predictions on a subset of the test set."
      ]
    },
    {
      "cell_type": "code",
      "metadata": {
        "id": "2SreqKggZbUo",
        "colab_type": "code",
        "colab": {}
      },
      "source": [
        "eval_data = X_test[:40]\n",
        "shap_vals = explainer.shap_values(eval_data)"
      ],
      "execution_count": 0,
      "outputs": []
    },
    {
      "cell_type": "markdown",
      "metadata": {
        "id": "tv27sCeVpps1",
        "colab_type": "text"
      },
      "source": [
        "We get the feature names. In the NLP model the features are the words in the vocabulary. "
      ]
    },
    {
      "cell_type": "code",
      "metadata": {
        "id": "I2AKe9JNZ_WD",
        "colab_type": "code",
        "colab": {
          "base_uri": "https://localhost:8080/",
          "height": 53
        },
        "outputId": "0238b4de-266c-45bd-d9e0-30faa5fc7720"
      },
      "source": [
        "words = processor._tokenizer.word_index\n",
        "word_lookup = list()\n",
        "for i in words.keys():\n",
        "  word_lookup.append(i)\n",
        "word_lookup = [''] + word_lookup\n",
        "\n",
        "print(f'Features size : {len(word_lookup)}')\n",
        "print(f'List of words in the vocabulary: {word_lookup[0:20]} ...')"
      ],
      "execution_count": 20,
      "outputs": [
        {
          "output_type": "stream",
          "text": [
            "Features size : 79055\n",
            "List of words in the vocabulary: ['', 'the', 'i', 'code', 'lt', 'gt', 'to', 'a', 'pre', 'in', 'is', 'and', 'this', 'of', '0', 'it', '1', 'for', 'if', 'id'] ...\n"
          ],
          "name": "stdout"
        }
      ]
    },
    {
      "cell_type": "markdown",
      "metadata": {
        "id": "fDv-zrQKp5VX",
        "colab_type": "text"
      },
      "source": [
        "Use SHAP’s `summary_plot` method to show the top features impacting model predictions."
      ]
    },
    {
      "cell_type": "code",
      "metadata": {
        "id": "BwmYj2VgKFiv",
        "colab_type": "code",
        "colab": {
          "base_uri": "https://localhost:8080/",
          "height": 581
        },
        "outputId": "816a7155-f7e3-458f-af2b-84550c3c6beb"
      },
      "source": [
        "shap.summary_plot(\n",
        "    # Explicability values\n",
        "    shap_vals, \n",
        "    \n",
        "    #Names for each feature\n",
        "    feature_names=word_lookup, \n",
        "\n",
        "    #Names of the label classes\n",
        "    class_names=tag_encoder.classes_)"
      ],
      "execution_count": 21,
      "outputs": [
        {
          "output_type": "display_data",
          "data": {
            "image/png": "[encoded data removed]",
            "text/plain": [
              "<Figure size 576x684 with 1 Axes>"
            ]
          },
          "metadata": {
            "tags": []
          }
        }
      ]
    },
    {
      "cell_type": "markdown",
      "metadata": {
        "id": "lm99B9N2s7_c",
        "colab_type": "text"
      },
      "source": [
        "* Each row is a signal word that contribute in the model.\n",
        "* Longest rows are biggest signals used by the model. In the plot the signal words are represented in order of importance in the model. The first signal word in the plot (in this case 'how') is the biggest signal word used by the model. The second is the second, third ...\n",
        "* Each color represent the contribution of the signal word to a specific category. In this case, the color in the word 'in' is bigger in `javascript` than in `python`. In this case, 'in' contribute more to `javascript` than to `python` predictions. "
      ]
    },
    {
      "cell_type": "code",
      "metadata": {
        "id": "YmTy1_b5qQOb",
        "colab_type": "code",
        "colab": {}
      },
      "source": [
        ""
      ],
      "execution_count": 0,
      "outputs": []
    }
  ]
}