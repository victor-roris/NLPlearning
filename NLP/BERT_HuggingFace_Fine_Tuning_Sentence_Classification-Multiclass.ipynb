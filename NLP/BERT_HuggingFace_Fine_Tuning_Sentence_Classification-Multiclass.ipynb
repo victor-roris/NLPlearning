{
  "nbformat": 4,
  "nbformat_minor": 0,
  "metadata": {
    "accelerator": "GPU",
    "colab": {
      "name": "BERT-HuggingFace - Fine-Tuning Sentence Classification.ipynb",
      "provenance": [],
      "collapsed_sections": [],
      "include_colab_link": true
    },
    "kernelspec": {
      "display_name": "Python 3",
      "language": "python",
      "name": "python3"
    },
    "language_info": {
      "codemirror_mode": {
        "name": "ipython",
        "version": 3
      },
      "file_extension": ".py",
      "mimetype": "text/x-python",
      "name": "python",
      "nbconvert_exporter": "python",
      "pygments_lexer": "ipython3",
      "version": "3.7.3"
    }
  },
  "cells": [
    {
      "cell_type": "markdown",
      "metadata": {
        "id": "view-in-github",
        "colab_type": "text"
      },
      "source": [
        "<a href=\"https://colab.research.google.com/github/victor-roris/mediumseries/blob/master/NLP/BERT_HuggingFace_Fine_Tuning_Sentence_Classification-Multiclass.ipynb\" target=\"_parent\"><img src=\"https://colab.research.google.com/assets/colab-badge.svg\" alt=\"Open In Colab\"/></a>"
      ]
    },
    {
      "cell_type": "markdown",
      "metadata": {
        "id": "1y6EO2OSfFCu",
        "colab_type": "text"
      },
      "source": [
        "Adapted from: https://mccormickml.com/2019/07/22/BERT-fine-tuning/"
      ]
    },
    {
      "cell_type": "markdown",
      "metadata": {
        "colab_type": "text",
        "id": "view-in-github"
      },
      "source": [
        "<a href=\"https://colab.research.google.com/github/DerwenAI/spaCy_tuTorial/blob/master/BERT_Fine_Tuning.ipynb\" target=\"_parent\"><img src=\"https://colab.research.google.com/assets/colab-badge.svg\" alt=\"Open In Colab\"/></a>"
      ]
    },
    {
      "cell_type": "markdown",
      "metadata": {
        "colab_type": "text",
        "id": "jNKaJz5j_ylj"
      },
      "source": [
        "# Notes"
      ]
    },
    {
      "cell_type": "markdown",
      "metadata": {
        "colab_type": "text",
        "id": "BJR6t_gCQe_x"
      },
      "source": [
        "## Introduction\n",
        "\n",
        "### History\n",
        "\n",
        "2018 was a breakthrough year in NLP. Transfer learning, particularly models like Allen AI's ELMO, OpenAI's Open-GPT, and Google's BERT allowed researchers to smash multiple benchmarks with minimal task-specific fine-tuning and provided the rest of the NLP community with pretrained models that could easily (with less data and less compute time) be fine-tuned and implemented to produce state of the art results. Unfortunately, for many starting out in NLP and even for some experienced practicioners, the theory and practical application of these powerful models is still not well understood.\n",
        "\n",
        "### What is BERT?\n",
        "\n",
        "BERT (Bidirectional Encoder Representations from Transformers), released in late 2018, is the model we will use in this tutorial to provide readers with a better understanding of and practical guidance for using transfer learning models in NLP. BERT is a method of pretraining language representations that was used to create models that NLP practicioners can then download and use for free. You can either use these models to extract high quality language features from your text data, or you can fine-tune these models on a specific task (classification, entity recognition, question answering, etc.) with your own data to produce state of the art predictions.\n",
        "\n",
        "### What Can BERT Do For Me?\n",
        "\n",
        "This post will explain how you can modify and fine-tune BERT to create a powerful NLP model that quickly gives you state of the art results. \n",
        "\n",
        "### Why Fine-Tuning Rather Than Building My Own Model ?\n",
        "\n",
        "In this tutorial, we will use BERT to train a text classifier. Specifically, we will take the pre-trained BERT model, add an untrained layer of neurons on the end, and train the new model for our classification task. Why do this rather than train a train a specific deep learning model (a CNN, BiLSTM, etc.) that is well suited for the specific NLP task you need? \n",
        "\n",
        "#### Easy Training\n",
        "\n",
        "First, the pre-trained BERT model weights already encode a lot of information about our language. As a result, it takes much less time to train our fine-tuned model - it is as if we have already trained the bottom layers of our network extensively and only need to gently tune them while using their output as features for our classification task. In fact, the authors recommend only 2-4 epochs of training for fine-tuning BERT on a specific NLP task (compared to the hundreds of GPU hours needed to train the original BERT model or a LSTM from scratch!). \n",
        "\n",
        "#### Less Data\n",
        "\n",
        "In addition and perhaps just as important, because of the pre-trained weights this method allows us to fine-tune our task on a much smaller dataset than would be required in a model that is built from scratch. A major drawback of NLP models built from scratch is that we often need a prohibitively large dataset in order to train our network to reasonable accuracy, meaning a lot of time and energy had to be put into dataset creation. By fine-tuning BERT, we are now able to get away with training a model to good performance on a much smaller amount of training data.\n",
        "\n",
        "#### Good Results\n",
        "\n",
        "Second, this simple fine-tuning procedure (typically adding one fully-connected layer on top of BERT and training for a few epochs) was shown to achieve state of the art results with minimal task-specific adjustments for a wide variety of tasks: classification, language inference, semantic similarity, question answering, etc. Rather than implementing custom and sometimes-obscure architetures shown to work well on a specific task, simply fine-tuning BERT is shown to be a better (or at least equal) alternative.\n",
        "\n",
        "#### A Shift in NLP\n",
        "\n",
        "This shift to transfer learning parallels the same shift that took place in computer vision a few years ago. Creating a good deep learning network for computer vision tasks can take millions of parameters and be very expensive to train. Researchers discovered that deep networks learn hierarchical feature representations (simple features like edges at the lowest layers with gradually more complex features at higher layers). Rather than training a new network from scratch each time, the lower layers of a trained network with generalized image features could be copied and transfered for use in another network with a different task. It soon became common practice to download a pre-trained deep network and quickly retrain it for the new task or add additional layers on top - vastly preferable to the expensive process of training a network from scratch. For many, the introduction of deep pre-trained language models in 2018 (ELMO, BERT, ULMFIT, Open-GPT, etc.) signals the same shift to transfer learning in NLP that computer vision saw.\n",
        "\n",
        "Let's get started!"
      ]
    },
    {
      "cell_type": "markdown",
      "metadata": {
        "colab_type": "text",
        "id": "RX_ZDhicpHkV"
      },
      "source": [
        "## Install and Import"
      ]
    },
    {
      "cell_type": "markdown",
      "metadata": {
        "colab_type": "text",
        "id": "nSU7yERLP_66"
      },
      "source": [
        "Google Colab offers free GPUs and TPUs! Since we'll be training a large neural network it's best to take advantage of this (in this case we'll attach a GPU), otherwise training will take a very long time.\n",
        "\n",
        "A GPU can be added by going to the menu and selecting:\n",
        "\n",
        "Edit -> Notebook Settings -> Add accelerator (GPU)\n",
        "\n",
        "Then run the following cell to confirm that the GPU is detected."
      ]
    },
    {
      "cell_type": "code",
      "metadata": {
        "colab_type": "code",
        "id": "DEfSbAA4QHas",
        "outputId": "e09ccd97-5b87-4fe7-8ba2-04c5aa72c651",
        "colab": {
          "base_uri": "https://localhost:8080/"
        }
      },
      "source": [
        "import tensorflow as tf\n",
        "\n",
        "device_name = tf.test.gpu_device_name()\n",
        "if device_name != '/device:GPU:0':\n",
        "  raise SystemError('GPU device not found')\n",
        "print('Found GPU at: {}'.format(device_name))"
      ],
      "execution_count": 1,
      "outputs": [
        {
          "output_type": "display_data",
          "data": {
            "text/html": [
              "<p style=\"color: red;\">\n",
              "The default version of TensorFlow in Colab will soon switch to TensorFlow 2.x.<br>\n",
              "We recommend you <a href=\"https://www.tensorflow.org/guide/migrate\" target=\"_blank\">upgrade</a> now \n",
              "or ensure your notebook will continue to use TensorFlow 1.x via the <code>%tensorflow_version 1.x</code> magic:\n",
              "<a href=\"https://colab.research.google.com/notebooks/tensorflow_version.ipynb\" target=\"_blank\">more info</a>.</p>\n"
            ],
            "text/plain": [
              "<IPython.core.display.HTML object>"
            ]
          },
          "metadata": {
            "tags": []
          }
        },
        {
          "output_type": "stream",
          "text": [
            "Found GPU at: /device:GPU:0\n"
          ],
          "name": "stdout"
        }
      ]
    },
    {
      "cell_type": "markdown",
      "metadata": {
        "colab_type": "text",
        "id": "2ElsnSNUridI"
      },
      "source": [
        "Next, let's install the pytorch interface for BERT by Hugging Face. (This library contains interfaces for other pretrained language models like OpenAI's GPT and GPT-2.) We've selected the pytorch interface because it strikes a nice balance between the high-level APIs (which are easy to use but don't provide insight into how things work) and tensorflow code (which contains lots of details but often sidetracks us into lessons about tensorflow, when the purpose here is BERT!).\n",
        "\n",
        "At the moment, the Hugging Face library seems to be the most widely accepted and powerful pytorch interface for working with BERT. In addition to supporting a variety of different pre-trained language models (and future models to come - BERT will not be state of the art forever), the library also includes pre-built modifications of BERT suited to your specific task. For example, in this tutorial we will use BertForSequenceClassification, but the library also includes BERT modifications designed for token classification, question answering, next sentence prediciton, etc. Using these pre-built classes simplifies the process of modifying BERT for your purposes.\n",
        "\n",
        "**Note**: as of July 2019, the pytorch library called \"pytorch-pretrained-bert pytorch-nlp\" has been updated and renamed as \"pytorch-transformers.\" Though the old name still works, there is a short summary [here](https://github.com/huggingface/pytorch-transformers#Migrating-from-pytorch-pretrained-bert-to-pytorch-transformers) about migrating to the new library. (This mostly involves a few name changes.)"
      ]
    },
    {
      "cell_type": "code",
      "metadata": {
        "colab_type": "code",
        "id": "0NmMdkZO8R6q",
        "outputId": "73edd4c1-80e0-41bb-a7f4-7918e75d7a54",
        "colab": {
          "base_uri": "https://localhost:8080/"
        }
      },
      "source": [
        "!pip install pytorch-pretrained-bert pytorch-nlp"
      ],
      "execution_count": 2,
      "outputs": [
        {
          "output_type": "stream",
          "text": [
            "Requirement already satisfied: pytorch-pretrained-bert in /usr/local/lib/python3.6/dist-packages (0.6.2)\n",
            "Requirement already satisfied: pytorch-nlp in /usr/local/lib/python3.6/dist-packages (0.5.0)\n",
            "Requirement already satisfied: tqdm in /usr/local/lib/python3.6/dist-packages (from pytorch-pretrained-bert) (4.28.1)\n",
            "Requirement already satisfied: torch>=0.4.1 in /usr/local/lib/python3.6/dist-packages (from pytorch-pretrained-bert) (1.3.1)\n",
            "Requirement already satisfied: boto3 in /usr/local/lib/python3.6/dist-packages (from pytorch-pretrained-bert) (1.10.47)\n",
            "Requirement already satisfied: numpy in /usr/local/lib/python3.6/dist-packages (from pytorch-pretrained-bert) (1.17.5)\n",
            "Requirement already satisfied: regex in /usr/local/lib/python3.6/dist-packages (from pytorch-pretrained-bert) (2019.12.20)\n",
            "Requirement already satisfied: requests in /usr/local/lib/python3.6/dist-packages (from pytorch-pretrained-bert) (2.21.0)\n",
            "Requirement already satisfied: s3transfer<0.3.0,>=0.2.0 in /usr/local/lib/python3.6/dist-packages (from boto3->pytorch-pretrained-bert) (0.2.1)\n",
            "Requirement already satisfied: jmespath<1.0.0,>=0.7.1 in /usr/local/lib/python3.6/dist-packages (from boto3->pytorch-pretrained-bert) (0.9.4)\n",
            "Requirement already satisfied: botocore<1.14.0,>=1.13.47 in /usr/local/lib/python3.6/dist-packages (from boto3->pytorch-pretrained-bert) (1.13.47)\n",
            "Requirement already satisfied: certifi>=2017.4.17 in /usr/local/lib/python3.6/dist-packages (from requests->pytorch-pretrained-bert) (2019.11.28)\n",
            "Requirement already satisfied: idna<2.9,>=2.5 in /usr/local/lib/python3.6/dist-packages (from requests->pytorch-pretrained-bert) (2.8)\n",
            "Requirement already satisfied: urllib3<1.25,>=1.21.1 in /usr/local/lib/python3.6/dist-packages (from requests->pytorch-pretrained-bert) (1.24.3)\n",
            "Requirement already satisfied: chardet<3.1.0,>=3.0.2 in /usr/local/lib/python3.6/dist-packages (from requests->pytorch-pretrained-bert) (3.0.4)\n",
            "Requirement already satisfied: python-dateutil<3.0.0,>=2.1; python_version >= \"2.7\" in /usr/local/lib/python3.6/dist-packages (from botocore<1.14.0,>=1.13.47->boto3->pytorch-pretrained-bert) (2.6.1)\n",
            "Requirement already satisfied: docutils<0.16,>=0.10 in /usr/local/lib/python3.6/dist-packages (from botocore<1.14.0,>=1.13.47->boto3->pytorch-pretrained-bert) (0.15.2)\n",
            "Requirement already satisfied: six>=1.5 in /usr/local/lib/python3.6/dist-packages (from python-dateutil<3.0.0,>=2.1; python_version >= \"2.7\"->botocore<1.14.0,>=1.13.47->boto3->pytorch-pretrained-bert) (1.12.0)\n"
          ],
          "name": "stdout"
        }
      ]
    },
    {
      "cell_type": "code",
      "metadata": {
        "colab_type": "code",
        "id": "Ok002ceNB8E7",
        "outputId": "913e8974-fdf6-4473-999c-cc23e2c328a1",
        "colab": {
          "base_uri": "https://localhost:8080/"
        }
      },
      "source": [
        "import torch\n",
        "from torch.utils.data import TensorDataset, DataLoader, RandomSampler, SequentialSampler\n",
        "from keras.preprocessing.sequence import pad_sequences\n",
        "from sklearn.model_selection import train_test_split\n",
        "from pytorch_pretrained_bert import BertTokenizer, BertConfig\n",
        "from pytorch_pretrained_bert import BertAdam, BertForSequenceClassification\n",
        "from tqdm import tqdm, trange\n",
        "import pandas as pd\n",
        "import io\n",
        "import numpy as np\n",
        "import matplotlib.pyplot as plt\n",
        "% matplotlib inline"
      ],
      "execution_count": 3,
      "outputs": [
        {
          "output_type": "stream",
          "text": [
            "Using TensorFlow backend.\n"
          ],
          "name": "stderr"
        }
      ]
    },
    {
      "cell_type": "markdown",
      "metadata": {
        "colab_type": "text",
        "id": "cqG7FzRVFEIv"
      },
      "source": [
        "In order for torch to use the GPU, we need to identify and specify the GPU as the device. Later, in our training loop, we will load data onto the device. "
      ]
    },
    {
      "cell_type": "code",
      "metadata": {
        "colab_type": "code",
        "id": "oYsV4H8fCpZ-",
        "outputId": "dfc92e0d-e94c-4564-f4cf-a86cd203b594",
        "colab": {
          "base_uri": "https://localhost:8080/",
          "height": 35
        }
      },
      "source": [
        "device = torch.device(\"cuda\" if torch.cuda.is_available() else \"cpu\")\n",
        "n_gpu = torch.cuda.device_count()\n",
        "torch.cuda.get_device_name(0)"
      ],
      "execution_count": 4,
      "outputs": [
        {
          "output_type": "execute_result",
          "data": {
            "text/plain": [
              "'Tesla P100-PCIE-16GB'"
            ]
          },
          "metadata": {
            "tags": []
          },
          "execution_count": 4
        }
      ]
    },
    {
      "cell_type": "markdown",
      "metadata": {
        "colab_type": "text",
        "id": "guw6ZNtaswKc"
      },
      "source": [
        "## Load Dataset\n"
      ]
    },
    {
      "cell_type": "markdown",
      "metadata": {
        "id": "IbgL4XjcATnN",
        "colab_type": "text"
      },
      "source": [
        "We are using a relatively large data set of Stack Overflow questions and tags."
      ]
    },
    {
      "cell_type": "code",
      "metadata": {
        "id": "ctc3dDyjAPZJ",
        "colab_type": "code",
        "outputId": "c6dc3320-75ae-4703-8bc9-02eb204bc91f",
        "colab": {
          "base_uri": "https://localhost:8080/",
          "height": 359
        }
      },
      "source": [
        "df = pd.read_csv('https://storage.googleapis.com/tensorflow-workshop-examples/stack-overflow-data.csv')\n",
        "df = df[pd.notnull(df['tags'])]\n",
        "categories = df[\"tags\"].unique()\n",
        "\n",
        "print(f'Number of examples : {len(df)}')\n",
        "print(f'Number of words in the data: {df[\"post\"].apply(lambda x: len(x.split(\" \"))).sum()}')\n",
        "print(f'Number of categorie : {len(categories)}')\n",
        "print()\n",
        "print(df.head(10))\n",
        "print()\n",
        "print(f'Categories: {categories}')\n"
      ],
      "execution_count": 5,
      "outputs": [
        {
          "output_type": "stream",
          "text": [
            "Number of examples : 40000\n",
            "Number of words in the data: 10286120\n",
            "Number of categorie : 20\n",
            "\n",
            "                                                post           tags\n",
            "0  what is causing this behavior  in our c# datet...             c#\n",
            "1  have dynamic html load as if it was in an ifra...        asp.net\n",
            "2  how to convert a float value in to min:sec  i ...    objective-c\n",
            "3  .net framework 4 redistributable  just wonderi...           .net\n",
            "4  trying to calculate and print the mean and its...         python\n",
            "5  how to give alias name for my website  i have ...        asp.net\n",
            "6  window.open() returns null in angularjs  it wo...      angularjs\n",
            "7  identifying server timeout quickly in iphone  ...         iphone\n",
            "8  unknown method key  error in rails 2.3.8 unit ...  ruby-on-rails\n",
            "9  from the include  how to show and hide the con...      angularjs\n",
            "\n",
            "Categories: ['c#' 'asp.net' 'objective-c' '.net' 'python' 'angularjs' 'iphone'\n",
            " 'ruby-on-rails' 'ios' 'c' 'sql' 'java' 'jquery' 'css' 'c++' 'php'\n",
            " 'android' 'mysql' 'javascript' 'html']\n"
          ],
          "name": "stdout"
        }
      ]
    },
    {
      "cell_type": "markdown",
      "metadata": {
        "id": "RI33fZMdAjXs",
        "colab_type": "text"
      },
      "source": [
        "Visualize data"
      ]
    },
    {
      "cell_type": "code",
      "metadata": {
        "id": "6-nQcK3lAjhl",
        "colab_type": "code",
        "outputId": "f34a00c9-2b51-4943-c860-b46b4f0d5977",
        "colab": {
          "base_uri": "https://localhost:8080/",
          "height": 319
        }
      },
      "source": [
        "plt.figure(figsize=(10,4))\n",
        "df.tags.value_counts().plot(kind='bar');"
      ],
      "execution_count": 6,
      "outputs": [
        {
          "output_type": "display_data",
          "data": {
            "image/png": "[encoded data removed]",
            "text/plain": [
              "<Figure size 720x288 with 1 Axes>"
            ]
          },
          "metadata": {
            "tags": []
          }
        }
      ]
    },
    {
      "cell_type": "markdown",
      "metadata": {
        "colab_type": "text",
        "id": "NTU8Awqv4Eln"
      },
      "source": [
        "### Text pre-processing\n",
        "\n",
        "Our text cleaning step includes HTML decoding, remove stop words, change text to lower case, remove punctuation, remove bad characters, and so on."
      ]
    },
    {
      "cell_type": "code",
      "metadata": {
        "colab_type": "code",
        "id": "DOpikSXbsvn-",
        "outputId": "db2a0fe1-50b4-4ccd-9318-b74f9399ff47",
        "colab": {
          "base_uri": "https://localhost:8080/",
          "height": 71
        }
      },
      "source": [
        "import nltk\n",
        "from nltk.corpus import stopwords\n",
        "\n",
        "nltk.download('stopwords')"
      ],
      "execution_count": 7,
      "outputs": [
        {
          "output_type": "stream",
          "text": [
            "[nltk_data] Downloading package stopwords to /root/nltk_data...\n",
            "[nltk_data]   Package stopwords is already up-to-date!\n"
          ],
          "name": "stdout"
        },
        {
          "output_type": "execute_result",
          "data": {
            "text/plain": [
              "True"
            ]
          },
          "metadata": {
            "tags": []
          },
          "execution_count": 7
        }
      ]
    },
    {
      "cell_type": "code",
      "metadata": {
        "id": "DvS7HqJGBEWA",
        "colab_type": "code",
        "outputId": "23dae094-3bf0-417d-b83a-675425c4363e",
        "colab": {
          "base_uri": "https://localhost:8080/",
          "height": 73
        }
      },
      "source": [
        "import re\n",
        "from bs4 import BeautifulSoup\n",
        "\n",
        "REPLACE_BY_SPACE_RE = re.compile('[/(){}\\[\\]\\|@,;]')\n",
        "BAD_SYMBOLS_RE = re.compile('[^0-9a-z #+_]')\n",
        "STOPWORDS = set(stopwords.words('english'))\n",
        "\n",
        "def clean_text(text):\n",
        "    \"\"\"\n",
        "        text: a string\n",
        "        \n",
        "        return: modified initial string\n",
        "    \"\"\"\n",
        "    text = BeautifulSoup(text, \"lxml\").text # HTML decoding\n",
        "    text = text.lower() # lowercase text\n",
        "    text = REPLACE_BY_SPACE_RE.sub(' ', text) # replace REPLACE_BY_SPACE_RE symbols by space in text\n",
        "    text = BAD_SYMBOLS_RE.sub('', text) # delete symbols which are in BAD_SYMBOLS_RE from text\n",
        "    text = ' '.join(word for word in text.split() if word not in STOPWORDS) # delete stopwors from text\n",
        "    return text\n",
        "    \n",
        "\n",
        "print(f'Example text previous cleaning : {df[\"post\"].values[10]}')\n",
        "\n",
        "df['post'] = df['post'].apply(clean_text)\n",
        "\n",
        "print(f'Example text previous cleaning : {df[\"post\"].values[10]}')"
      ],
      "execution_count": 8,
      "outputs": [
        {
          "output_type": "stream",
          "text": [
            "Example text previous cleaning : when we need interface c# <blockquote>    <strong>possible duplicate:</strong><br>   <a href= https://stackoverflow.com/questions/240152/why-would-i-want-to-use-interfaces >why would i want to use interfaces </a>   <a href= https://stackoverflow.com/questions/9451868/why-i-need-interface >why i need interface </a>    </blockquote>     i want to know where and when to use it     for example    <pre><code>interface idemo {  // function prototype  public void show(); }  // first class using the interface class myclass1 : idemo {  public void show()  {   // function body comes here   response.write( i m in myclass );  }  }  // second class using the interface class myclass2 : idemo {  public void show()   {   // function body comes here   response.write( i m in myclass2 );   response.write( so  what  );  } </code></pre>   these two classes has the same function name with different body. this can be even achieved without interface. then why we need an interface where and when to use it\n",
            "Example text previous cleaning : need interface c# possible duplicate would want use interfaces need interface want know use example interface idemo function prototype public void show first class using interface class myclass1 idemo public void show function body comes responsewrite myclass second class using interface class myclass2 idemo public void show function body comes responsewrite myclass2 responsewrite two classes function name different body even achieved without interface need interface use\n"
          ],
          "name": "stdout"
        }
      ]
    },
    {
      "cell_type": "code",
      "metadata": {
        "id": "OWSt6daKBGkL",
        "colab_type": "code",
        "outputId": "a8a243df-9e73-4981-e1d7-acc2b880cabc",
        "colab": {
          "base_uri": "https://localhost:8080/",
          "height": 35
        }
      },
      "source": [
        "print(f'Number of words in the cleaning data: {df[\"post\"].apply(lambda x: len(x.split(\" \"))).sum()}')"
      ],
      "execution_count": 9,
      "outputs": [
        {
          "output_type": "stream",
          "text": [
            "Number of words in the cleaning data: 3424297\n"
          ],
          "name": "stdout"
        }
      ]
    },
    {
      "cell_type": "code",
      "metadata": {
        "id": "_vGpRmUPDJAZ",
        "colab_type": "code",
        "outputId": "7ebf21d9-1424-4946-bc87-4e709f57da85",
        "colab": {
          "base_uri": "https://localhost:8080/",
          "height": 204
        }
      },
      "source": [
        "df.head()"
      ],
      "execution_count": 10,
      "outputs": [
        {
          "output_type": "execute_result",
          "data": {
            "text/html": [
              "<div>\n",
              "<style scoped>\n",
              "    .dataframe tbody tr th:only-of-type {\n",
              "        vertical-align: middle;\n",
              "    }\n",
              "\n",
              "    .dataframe tbody tr th {\n",
              "        vertical-align: top;\n",
              "    }\n",
              "\n",
              "    .dataframe thead th {\n",
              "        text-align: right;\n",
              "    }\n",
              "</style>\n",
              "<table border=\"1\" class=\"dataframe\">\n",
              "  <thead>\n",
              "    <tr style=\"text-align: right;\">\n",
              "      <th></th>\n",
              "      <th>post</th>\n",
              "      <th>tags</th>\n",
              "    </tr>\n",
              "  </thead>\n",
              "  <tbody>\n",
              "    <tr>\n",
              "      <th>0</th>\n",
              "      <td>causing behavior c# datetime type test public ...</td>\n",
              "      <td>c#</td>\n",
              "    </tr>\n",
              "    <tr>\n",
              "      <th>1</th>\n",
              "      <td>dynamic html load iframe aspnet 40 site users ...</td>\n",
              "      <td>asp.net</td>\n",
              "    </tr>\n",
              "    <tr>\n",
              "      <th>2</th>\n",
              "      <td>convert float value minsec trying convert seco...</td>\n",
              "      <td>objective-c</td>\n",
              "    </tr>\n",
              "    <tr>\n",
              "      <th>3</th>\n",
              "      <td>net framework 4 redistributable wondering get ...</td>\n",
              "      <td>.net</td>\n",
              "    </tr>\n",
              "    <tr>\n",
              "      <th>4</th>\n",
              "      <td>trying calculate print mean returning rather n...</td>\n",
              "      <td>python</td>\n",
              "    </tr>\n",
              "  </tbody>\n",
              "</table>\n",
              "</div>"
            ],
            "text/plain": [
              "                                                post         tags\n",
              "0  causing behavior c# datetime type test public ...           c#\n",
              "1  dynamic html load iframe aspnet 40 site users ...      asp.net\n",
              "2  convert float value minsec trying convert seco...  objective-c\n",
              "3  net framework 4 redistributable wondering get ...         .net\n",
              "4  trying calculate print mean returning rather n...       python"
            ]
          },
          "metadata": {
            "tags": []
          },
          "execution_count": 10
        }
      ]
    },
    {
      "cell_type": "code",
      "metadata": {
        "colab_type": "code",
        "id": "GuE5BqICAne2",
        "colab": {
          "base_uri": "https://localhost:8080/",
          "height": 35
        },
        "outputId": "26acdc83-1974-43b6-8263-8d10ef81a061"
      },
      "source": [
        "# Create sentence and label lists\n",
        "sentences = df.post.values\n",
        "print(f'Number of sentences : {len(sentences)}')"
      ],
      "execution_count": 29,
      "outputs": [
        {
          "output_type": "stream",
          "text": [
            "Number of sentences : 40000\n"
          ],
          "name": "stdout"
        }
      ]
    },
    {
      "cell_type": "code",
      "metadata": {
        "colab_type": "code",
        "id": "Cp9BPRd1tMIo",
        "colab": {}
      },
      "source": [
        "# Set the maximum sequence length. The longest sequence in our training set is 47, but we'll leave room on the end anyway. \n",
        "# In the original paper, the authors used a length of 512.\n",
        "MAX_LEN = 512"
      ],
      "execution_count": 0,
      "outputs": []
    },
    {
      "cell_type": "code",
      "metadata": {
        "id": "mjX88bjqgjf5",
        "colab_type": "code",
        "colab": {
          "base_uri": "https://localhost:8080/"
        },
        "outputId": "c0c586a3-4792-437f-b71c-23781ec0ae35"
      },
      "source": [
        "# Truncate string\n",
        "truncate_sentences = []\n",
        "for sentence in sentences:\n",
        "  truncate_sentence = \"\"\n",
        "  word_index = 0\n",
        "  for word in sentence.split():\n",
        "    truncate_sentence += word\n",
        "    if word_index >= MAX_LEN:\n",
        "      break\n",
        "    word_index += 1\n",
        "    truncate_sentence += \" \"\n",
        "  truncate_sentences.append(truncate_sentence)\n",
        "print(f'{len(sentences)}')\n",
        "print(f'{len(truncate_sentences)}')\n",
        "\n",
        "sentence_lengths = [len(sentence) for sentence in truncate_sentences]\n",
        "print(sentence_lengths)"
      ],
      "execution_count": 47,
      "outputs": [
        {
          "output_type": "stream",
          "text": [
            "40000\n",
            "40000\n",
            "[518, 494, 517, 224, 734, 179, 342, 296, 1397, 615, 488, 250, 216, 659, 233, 141, 42, 1922, 222, 589, 1653, 254, 1137, 294, 343, 1350, 448, 438, 308, 736, 260, 166, 184, 498, 509, 132, 244, 210, 589, 550, 1177, 452, 535, 770, 1025, 579, 1078, 395, 469, 349, 782, 1033, 733, 254, 787, 549, 238, 276, 555, 560, 356, 876, 327, 140, 602, 374, 394, 854, 3567, 975, 286, 666, 2215, 836, 1703, 278, 252, 1345, 330, 288, 650, 315, 252, 101, 162, 322, 368, 472, 447, 798, 203, 337, 372, 862, 103, 109, 290, 415, 328, 160, 431, 418, 445, 198, 481, 449, 327, 463, 260, 476, 243, 390, 1590, 401, 952, 592, 266, 112, 723, 463, 476, 301, 251, 450, 337, 114, 244, 307, 878, 285, 129, 344, 139, 479, 176, 339, 1370, 321, 501, 177, 193, 270, 302, 1475, 103, 171, 192, 229, 462, 2869, 290, 614, 118, 411, 254, 252, 297, 300, 321, 403, 368, 687, 236, 431, 566, 418, 213, 519, 3985, 330, 401, 297, 541, 353, 618, 955, 178, 617, 380, 305, 213, 294, 1069, 282, 388, 252, 475, 397, 1322, 221, 1258, 333, 457, 375, 841, 1186, 404, 289, 671, 132, 617, 144, 1357, 162, 687, 266, 273, 1544, 1219, 1186, 664, 201, 277, 570, 515, 311, 380, 277, 388, 283, 312, 673, 148, 360, 445, 428, 963, 459, 1151, 145, 264, 388, 409, 738, 206, 373, 223, 304, 384, 679, 490, 1683, 234, 2947, 870, 787, 434, 305, 1079, 187, 3644, 348, 1070, 229, 192, 249, 493, 372, 419, 1153, 222, 700, 1457, 160, 432, 90, 245, 203, 234, 341, 804, 368, 471, 884, 2231, 573, 640, 160, 625, 1750, 946, 488, 1659, 264, 667, 360, 213, 249, 186, 455, 860, 574, 128, 412, 444, 331, 2707, 285, 372, 407, 653, 163, 1504, 143, 515, 1002, 126, 457, 244, 126, 265, 318, 558, 537, 366, 299, 710, 384, 171, 676, 389, 458, 343, 346, 417, 2580, 186, 253, 569, 842, 220, 286, 472, 232, 391, 765, 1087, 404, 390, 920, 195, 246, 266, 348, 108, 1745, 935, 765, 161, 5323, 338, 214, 379, 398, 556, 353, 139, 1121, 428, 357, 992, 771, 483, 593, 714, 322, 4158, 427, 993, 131, 899, 501, 391, 1154, 141, 223, 156, 116, 328, 1088, 226, 599, 311, 1466, 1107, 438, 624, 286, 1056, 410, 704, 1071, 293, 639, 303, 1223, 613, 420, 297, 1004, 186, 377, 359, 344, 384, 478, 528, 63, 466, 402, 3543, 217, 321, 930, 612, 216, 578, 1186, 894, 615, 196, 155, 601, 1287, 1288, 471, 2575, 155, 275, 893, 188, 487, 205, 603, 399, 151, 355, 993, 328, 451, 372, 692, 1333, 1051, 497, 3729, 374, 352, 216, 111, 279, 809, 310, 483, 211, 230, 344, 200, 401, 637, 343, 1012, 420, 840, 177, 1775, 538, 927, 806, 300, 648, 282, 98, 123, 722, 343, 1257, 698, 512, 163, 418, 720, 499, 227, 4075, 170, 274, 309, 117, 511, 852, 191, 186, 234, 1061, 996, 175, 358, 709, 1502, 560, 291, 437, 235, 2856, 405, 192, 185, 291, 3759, 1107, 298, 263, 360, 660, 589, 643, 243, 1454, 583, 4204, 651, 283, 1129, 130, 550, 282, 241, 293, 622, 489, 171, 980, 273, 268, 325, 536, 537, 1042, 1525, 908, 381, 2152, 1581, 303, 174, 477, 650, 105, 749, 257, 198, 706, 856, 517, 1065, 1095, 189, 252, 2216, 198, 658, 799, 543, 323, 130, 301, 319, 306, 200, 482, 230, 333, 915, 221, 169, 183, 931, 231, 186, 265, 243, 448, 1250, 176, 484, 271, 378, 140, 213, 430, 499, 751, 152, 212, 273, 1572, 115, 1447, 502, 151, 1505, 400, 246, 981, 479, 2525, 87, 258, 351, 137, 334, 298, 183, 270, 335, 472, 379, 198, 671, 366, 265, 303, 240, 537, 293, 4707, 438, 894, 499, 501, 537, 1575, 308, 1386, 532, 347, 273, 204, 1123, 201, 525, 538, 472, 179, 1467, 289, 1014, 320, 143, 158, 1439, 310, 235, 179, 304, 199, 387, 184, 369, 983, 165, 1155, 2169, 690, 520, 1257, 787, 306, 796, 184, 160, 2348, 460, 194, 322, 634, 256, 745, 576, 620, 1954, 955, 462, 157, 366, 1108, 795, 397, 1327, 1731, 373, 273, 848, 518, 772, 561, 105, 434, 204, 99, 134, 545, 800, 369, 1170, 545, 3295, 4848, 354, 412, 340, 379, 1448, 325, 1228, 650, 330, 187, 431, 293, 461, 149, 229, 161, 655, 1128, 261, 550, 255, 706, 230, 414, 205, 362, 269, 541, 604, 1187, 139, 301, 895, 612, 167, 857, 1532, 684, 77, 292, 1271, 199, 544, 469, 114, 421, 140, 411, 263, 410, 431, 828, 299, 473, 483, 117, 393, 519, 445, 955, 423, 981, 614, 353, 1158, 164, 108, 229, 133, 149, 1910, 317, 434, 588, 1383, 215, 347, 265, 3177, 250, 379, 190, 1035, 662, 412, 426, 98, 1096, 442, 277, 2589, 583, 322, 266, 192, 254, 1321, 712, 643, 702, 417, 546, 690, 250, 762, 375, 395, 140, 330, 239, 281, 381, 722, 925, 593, 552, 556, 624, 171, 362, 580, 857, 178, 627, 99, 2660, 904, 282, 505, 337, 684, 344, 304, 4411, 367, 630, 769, 400, 212, 788, 1392, 387, 469, 389, 203, 393, 1638, 105, 3322, 454, 369, 523, 2242, 473, 572, 403, 203, 594, 308, 232, 540, 454, 641, 159, 848, 392, 720, 221, 490, 314, 351, 147, 890, 265, 882, 572, 169, 591, 187, 723, 691, 194, 946, 171, 322, 129, 327, 189, 1049, 2004, 142, 397, 180, 385, 303, 532, 165, 252, 2495, 640, 135, 293, 564, 515, 475, 549, 437, 308, 843, 554, 399, 204, 579, 535, 348, 405, 703, 311, 710, 454, 153, 5155, 118, 453, 1426, 333, 348, 768, 674, 385, 229, 304, 262, 1174, 2164, 157, 486, 184, 213, 169, 103, 105, 1253, 251, 985, 549, 516, 237, 264, 756, 1792, 516, 599, 311, 346, 897, 104, 211, 253, 696, 716, 399, 558, 483, 268, 179, 734, 144, 166, 344, 6321, 689, 247, 1787, 385, 577, 273, 1303, 1351, 623, 381, 202, 706, 195, 194, 208, 837, 1077, 713, 797, 123, 1181, 659, 795, 948, 420, 297, 166, 640, 373, 695, 434, 200, 938, 347, 126, 3915, 332, 981, 316, 247, 2762, 918, 279, 1529, 626, 4089, 1446, 305, 557, 446, 547, 1205, 183, 395, 209, 2102, 258, 251, 322, 293, 242, 452, 91, 762, 248, 190, 441, 412, 900, 413, 1031, 1066, 489, 205, 222, 607, 728, 440, 147, 519, 1970, 361, 626, 1339, 534, 155, 243, 519, 485, 2052, 90, 1633, 648, 368, 792, 166, 1246, 379, 141, 700, 738, 1716, 382, 119, 279, 1470, 933, 172, 247, 292, 308, 477, 460, 287, 877, 211, 720, 744, 316, 484, 219, 512, 173, 842, 331, 158, 272, 611, 250, 1737, 416, 184, 931, 5248, 572, 1584, 209, 164, 855, 366, 745, 969, 304, 519, 308, 762, 563, 378, 594, 1996, 1043, 547, 541, 480, 132, 163, 352, 477, 441, 88, 131, 282, 296, 283, 269, 453, 2132, 111, 322, 274, 654, 180, 125, 729, 1035, 993, 394, 391, 656, 912, 242, 548, 1056, 438, 503, 305, 1540, 1004, 238, 1043, 465, 1300, 187, 711, 910, 246, 626, 857, 552, 166, 211, 823, 397, 1455, 202, 442, 769, 1128, 297, 561, 331, 452, 291, 940, 1739, 711, 400, 159, 494, 703, 226, 254, 376, 228, 645, 140, 1007, 417, 372, 308, 623, 129, 361, 469, 659, 361, 1117, 205, 518, 218, 936, 1252, 586, 167, 369, 564, 736, 94, 378, 185, 374, 264, 266, 783, 192, 3734, 367, 391, 378, 1056, 279, 665, 259, 377, 539, 1111, 504, 292, 288, 330, 393, 551, 2178, 937, 667, 233, 276, 994, 988, 279, 905, 144, 893, 463, 271, 345, 632, 257, 175, 1364, 3607, 890, 654, 733, 273, 323, 1434, 453, 411, 193, 527, 291, 420, 377, 152, 2332, 265, 345, 1129, 2222, 1178, 3559, 386, 414, 1286, 243, 261, 1079, 1195, 274, 619, 1071, 322, 302, 335, 428, 490, 183, 345, 386, 4928, 202, 417, 297, 1765, 724, 361, 495, 171, 266, 297, 440, 235, 320, 285, 1171, 193, 473, 151, 165, 483, 456, 288, 208, 305, 2062, 651, 606, 154, 489, 494, 222, 1106, 244, 544, 1539, 6417, 167, 108, 4636, 608, 1321, 258, 1273, 1502, 3475, 981, 269, 162, 286, 1438, 2075, 184, 309, 161, 655, 429, 329, 292, 384, 492, 995, 1012, 1321, 478, 1009, 1212, 595, 259, 346, 327, 444, 173, 199, 213, 545, 401, 632, 645, 465, 267, 485, 964, 169, 1304, 606, 300, 508, 297, 813, 132, 1819, 385, 359, 572, 443, 3737, 78, 354, 593, 3724, 169, 194, 224, 205, 320, 881, 302, 343, 281, 503, 717, 292, 483, 469, 521, 310, 575, 451, 387, 483, 1172, 157, 193, 637, 281, 73, 192, 1004, 2147, 998, 805, 558, 300, 732, 120, 1151, 758, 374, 342, 3455, 1159, 159, 787, 2083, 242, 419, 326, 751, 423, 1383, 239, 530, 1304, 2117, 858, 1127, 55, 2986, 750, 167, 2510, 678, 323, 388, 1872, 753, 175, 261, 1208, 1552, 263, 509, 176, 1057, 695, 286, 687, 627, 513, 166, 1980, 258, 195, 173, 821, 1076, 529, 225, 300, 163, 130, 165, 411, 451, 1418, 306, 4625, 652, 122, 168, 399, 356, 168, 630, 1225, 125, 185, 2307, 876, 329, 647, 292, 574, 333, 149, 935, 4290, 328, 519, 198, 321, 1068, 494, 129, 836, 718, 244, 1522, 3463, 368, 221, 696, 899, 951, 428, 359, 1170, 546, 522, 69, 309, 606, 439, 405, 739, 115, 412, 252, 248, 524, 318, 409, 430, 394, 1021, 501, 830, 778, 344, 1781, 1556, 3943, 316, 875, 203, 322, 631, 228, 993, 569, 389, 885, 446, 294, 791, 259, 677, 390, 970, 218, 893, 441, 418, 1709, 493, 337, 1005, 1473, 567, 379, 666, 361, 356, 415, 328, 2016, 496, 399, 576, 3331, 689, 2146, 288, 331, 278, 2576, 460, 5796, 480, 302, 385, 767, 509, 100, 257, 148, 528, 200, 339, 236, 1464, 769, 615, 224, 106, 162, 804, 513, 202, 312, 207, 312, 361, 729, 146, 1124, 87, 64, 728, 440, 633, 321, 545, 361, 407, 473, 277, 200, 1164, 295, 175, 1795, 260, 620, 314, 1402, 292, 150, 114, 1015, 4361, 283, 147, 923, 404, 254, 651, 168, 758, 183, 591, 276, 132, 1870, 412, 464, 627, 1081, 163, 1317, 175, 230, 706, 1803, 237, 315, 217, 229, 338, 297, 920, 327, 369, 212, 180, 230, 209, 514, 317, 206, 340, 195, 284, 252, 363, 267, 821, 2788, 4481, 397, 679, 456, 118, 1012, 204, 479, 1775, 185, 583, 518, 273, 217, 218, 661, 220, 298, 302, 179, 230, 127, 825, 761, 1312, 863, 204, 1248, 180, 3190, 2545, 210, 245, 151, 286, 910, 317, 1000, 990, 373, 364, 693, 694, 657, 284, 1007, 767, 652, 585, 160, 175, 703, 1980, 505, 2164, 163, 829, 354, 2751, 219, 124, 159, 693, 946, 247, 296, 177, 1727, 718, 344, 469, 312, 323, 342, 263, 538, 183, 553, 411, 167, 3389, 292, 618, 666, 412, 665, 1001, 3004, 322, 316, 308, 1594, 416, 652, 509, 522, 753, 664, 336, 1368, 150, 533, 1388, 533, 301, 126, 198, 401, 442, 214, 1378, 778, 595, 705, 560, 673, 275, 346, 340, 323, 381, 594, 316, 259, 236, 364, 3526, 192, 1580, 1022, 1640, 831, 2967, 355, 212, 110, 283, 499, 362, 545, 1321, 404, 470, 250, 150, 586, 90, 89, 178, 329, 833, 323, 311, 451, 3692, 135, 294, 359, 360, 1293, 175, 565, 140, 273, 335, 2167, 808, 1927, 373, 2280, 134, 418, 319, 318, 559, 239, 105, 187, 219, 1476, 256, 864, 714, 555, 450, 157, 799, 652, 206, 1066, 1272, 138, 849, 214, 288, 133, 307, 1086, 710, 139, 374, 503, 798, 819, 336, 4661, 644, 185, 1979, 462, 178, 596, 154, 729, 238, 190, 724, 538, 239, 147, 568, 246, 156, 229, 677, 196, 122, 2435, 616, 300, 186, 1210, 434, 454, 1160, 1471, 765, 292, 429, 394, 361, 375, 2414, 349, 2492, 152, 488, 657, 220, 450, 109, 3696, 480, 723, 871, 1117, 256, 846, 580, 536, 202, 395, 134, 179, 469, 126, 567, 629, 436, 253, 1187, 644, 3631, 167, 354, 278, 345, 273, 852, 956, 1201, 1813, 708, 526, 380, 167, 282, 634, 757, 425, 244, 4338, 435, 464, 443, 208, 430, 185, 246, 1341, 508, 487, 1058, 315, 1219, 190, 326, 1373, 194, 158, 199, 167, 940, 229, 381, 1167, 247, 126, 1052, 230, 360, 374, 391, 584, 451, 384, 764, 3053, 268, 920, 121, 187, 252, 302, 292, 895, 1056, 1724, 475, 92, 205, 557, 92, 690, 570, 331, 230, 376, 467, 813, 1707, 980, 222, 624, 292, 142, 74, 614, 259, 375, 112, 903, 708, 373, 404, 464, 1917, 732, 1074, 966, 436, 2089, 190, 775, 1298, 212, 157, 210, 241, 865, 702, 790, 798, 1202, 438, 577, 1024, 269, 712, 155, 2536, 1026, 1425, 331, 176, 2185, 103, 246, 1077, 711, 383, 191, 1785, 1160, 546, 72, 1107, 151, 387, 515, 417, 258, 810, 1307, 1566, 635, 1148, 297, 557, 1212, 371, 427, 321, 257, 520, 459, 319, 2847, 343, 1118, 329, 703, 448, 279, 410, 510, 956, 328, 156, 183, 289, 371, 2490, 430, 202, 222, 4721, 623, 438, 511, 997, 195, 191, 245, 316, 666, 537, 663, 396, 658, 650, 154, 1185, 1991, 189, 372, 303, 827, 442, 2205, 937, 300, 603, 302, 237, 227, 246, 985, 158, 395, 284, 2281, 303, 506, 343, 440, 1176, 131, 464, 926, 609, 5283, 649, 407, 636, 288, 646, 144, 766, 994, 167, 134, 269, 1741, 221, 355, 3471, 181, 387, 397, 222, 332, 206, 524, 883, 442, 227, 340, 186, 547, 289, 402, 303, 375, 147, 79, 1016, 175, 377, 469, 185, 1023, 451, 564, 429, 805, 134, 1133, 142, 82, 442, 64, 283, 598, 362, 418, 217, 658, 294, 1028, 584, 236, 1069, 141, 250, 290, 470, 258, 652, 858, 269, 657, 67, 172, 427, 915, 754, 274, 224, 272, 1323, 347, 161, 1114, 351, 623, 474, 489, 254, 194, 272, 390, 409, 467, 1917, 159, 149, 583, 670, 341, 3433, 429, 2231, 801, 308, 154, 1415, 459, 1096, 748, 1077, 82, 154, 1067, 594, 138, 357, 334, 334, 283, 305, 1725, 138, 423, 2161, 5102, 457, 220, 333, 214, 787, 445, 289, 425, 200, 285, 114, 552, 346, 283, 211, 300, 213, 97, 316, 212, 415, 781, 421, 667, 969, 543, 178, 180, 311, 382, 154, 948, 1109, 401, 206, 469, 206, 618, 213, 820, 1289, 185, 3318, 1498, 155, 144, 192, 1323, 1715, 264, 864, 2998, 259, 157, 465, 477, 204, 1013, 230, 500, 141, 312, 253, 820, 284, 328, 453, 714, 1122, 388, 649, 292, 151, 769, 1487, 268, 673, 229, 131, 576, 1082, 216, 270, 1000, 356, 147, 622, 1400, 242, 291, 631, 1125, 531, 399, 913, 170, 243, 905, 229, 409, 178, 425, 709, 281, 167, 1112, 152, 1806, 520, 209, 600, 156, 1657, 148, 333, 702, 243, 1033, 162, 2094, 560, 794, 278, 135, 360, 699, 264, 398, 283, 341, 220, 189, 158, 136, 304, 170, 627, 370, 57, 136, 638, 631, 665, 132, 339, 353, 1009, 719, 77, 212, 1266, 161, 2625, 110, 218, 1088, 716, 1529, 827, 112, 1064, 406, 376, 634, 363, 601, 354, 308, 328, 429, 1706, 313, 289, 421, 245, 363, 481, 273, 838, 353, 454, 542, 813, 1032, 317, 118, 649, 277, 1211, 1023, 539, 544, 356, 507, 1100, 1296, 472, 388, 382, 833, 429, 361, 160, 105, 677, 330, 434, 627, 219, 515, 482, 3738, 421, 660, 844, 600, 218, 781, 187, 228, 2035, 1252, 193, 179, 1416, 685, 286, 1837, 214, 431, 1668, 202, 160, 857, 283, 494, 118, 447, 1683, 166, 304, 452, 642, 288, 856, 296, 258, 197, 953, 220, 789, 1932, 398, 335, 217, 863, 601, 410, 209, 566, 304, 567, 110, 578, 1102, 190, 377, 462, 374, 4010, 1220, 466, 180, 118, 675, 194, 769, 643, 3971, 1275, 115, 381, 457, 2498, 390, 587, 235, 871, 501, 74, 235, 1578, 237, 854, 188, 407, 132, 169, 476, 658, 478, 4209, 946, 931, 421, 183, 1416, 769, 587, 242, 736, 368, 216, 414, 556, 598, 149, 320, 1237, 174, 1575, 554, 200, 1262, 262, 187, 1074, 190, 180, 273, 2359, 1213, 402, 92, 337, 857, 189, 714, 1735, 1259, 809, 2703, 609, 380, 982, 1051, 1178, 1324, 572, 322, 264, 414, 327, 2621, 563, 374, 311, 3147, 154, 325, 408, 633, 2112, 476, 843, 389, 199, 362, 276, 528, 1260, 757, 219, 219, 234, 456, 611, 403, 698, 1042, 243, 891, 229, 230, 1724, 803, 987, 105, 265, 1043, 830, 194, 271, 346, 1484, 1615, 1905, 2329, 378, 328, 1169, 384, 437, 194, 251, 202, 1178, 1662, 568, 88, 405, 149, 649, 227, 1573, 259, 461, 774, 189, 153, 582, 524, 576, 4821, 821, 309, 431, 752, 241, 969, 578, 1229, 293, 208, 223, 806, 206, 637, 669, 475, 1539, 2733, 194, 759, 899, 841, 133, 264, 183, 291, 226, 137, 205, 720, 1235, 530, 374, 442, 605, 178, 510, 564, 290, 301, 118, 310, 528, 880, 162, 443, 138, 464, 648, 208, 119, 161, 337, 1081, 955, 571, 956, 433, 307, 1512, 438, 609, 586, 513, 480, 431, 1358, 2795, 159, 156, 1389, 451, 507, 322, 233, 1650, 451, 536, 362, 515, 357, 1080, 258, 485, 4457, 237, 684, 1059, 226, 1397, 1601, 385, 233, 508, 550, 455, 559, 708, 334, 204, 731, 342, 588, 118, 483, 242, 357, 288, 833, 382, 317, 1674, 219, 212, 212, 675, 399, 383, 424, 1307, 540, 228, 222, 844, 300, 245, 380, 1470, 189, 566, 393, 412, 407, 345, 134, 244, 489, 538, 173, 425, 323, 787, 1031, 226, 1172, 319, 1081, 122, 496, 283, 245, 122, 474, 902, 188, 1185, 1408, 3068, 200, 874, 103, 213, 129, 1273, 663, 769, 309, 194, 335, 671, 261, 386, 364, 878, 197, 395, 631, 570, 1593, 326, 436, 336, 609, 166, 179, 161, 742, 166, 808, 241, 521, 303, 821, 879, 319, 176, 425, 1221, 310, 202, 460, 111, 372, 692, 4240, 478, 176, 605, 167, 241, 177, 155, 657, 366, 762, 1482, 1163, 119, 296, 921, 613, 789, 637, 466, 470, 237, 1073, 1164, 1192, 239, 759, 769, 157, 550, 183, 529, 247, 766, 286, 841, 504, 190, 504, 479, 1092, 125, 726, 1120, 1072, 245, 264, 1000, 649, 510, 326, 147, 351, 166, 244, 236, 837, 1635, 329, 1033, 423, 1512, 261, 3839, 1011, 460, 607, 337, 529, 727, 451, 572, 595, 275, 1238, 487, 357, 315, 2097, 318, 411, 239, 1120, 1670, 340, 227, 1495, 469, 813, 176, 117, 315, 346, 312, 4311, 853, 364, 4065, 908, 213, 1287, 563, 1732, 422, 1381, 1234, 848, 429, 799, 250, 105, 210, 398, 1018, 315, 1587, 779, 347, 1055, 421, 205, 198, 816, 207, 526, 279, 996, 581, 461, 4904, 1197, 634, 454, 568, 344, 220, 193, 153, 91, 349, 2193, 309, 4160, 634, 192, 261, 812, 250, 513, 314, 599, 624, 272, 483, 338, 331, 1336, 151, 338, 313, 430, 1140, 186, 3450, 170, 759, 1630, 304, 371, 413, 236, 282, 235, 142, 230, 183, 212, 366, 1412, 148, 188, 670, 1964, 320, 388, 533, 431, 385, 258, 444, 181, 541, 202, 812, 298, 148, 425, 2280, 502, 158, 415, 238, 1055, 248, 1404, 142, 689, 398, 1140, 192, 147, 917, 518, 382, 158, 385, 763, 416, 487, 525, 1151, 197, 379, 443, 72, 450, 118, 154, 702, 1329, 880, 301, 132, 177, 587, 374, 533, 310, 955, 88, 255, 462, 347, 416, 2117, 1158, 495, 798, 130, 819, 1986, 222, 295, 2379, 344, 287, 1590, 542, 234, 831, 206, 854, 476, 318, 941, 223, 205, 957, 351, 677, 454, 648, 621, 2158, 385, 734, 381, 604, 146, 421, 349, 379, 518, 616, 577, 1138, 615, 535, 951, 207, 876, 95, 422, 1019, 219, 422, 227, 116, 381, 665, 227, 306, 255, 572, 545, 379, 853, 833, 250, 296, 495, 417, 611, 654, 377, 1348, 376, 425, 156, 1418, 139, 286, 265, 260, 714, 1756, 218, 164, 935, 1238, 1285, 532, 68, 1104, 191, 1982, 213, 155, 856, 526, 609, 144, 2594, 461, 1093, 477, 340, 125, 522, 195, 348, 300, 858, 2376, 262, 1021, 534, 3114, 223, 1031, 733, 440, 2726, 204, 387, 256, 276, 170, 65, 498, 428, 190, 126, 1413, 184, 458, 291, 274, 265, 236, 513, 1059, 745, 765, 210, 902, 188, 137, 1189, 659, 147, 214, 182, 1083, 333, 276, 353, 1278, 242, 573, 429, 112, 460, 311, 375, 664, 133, 215, 2177, 418, 398, 201, 1871, 2746, 538, 485, 220, 500, 191, 697, 458, 236, 348, 446, 221, 360, 350, 257, 1702, 254, 158, 218, 568, 300, 99, 534, 205, 243, 287, 1392, 519, 200, 305, 291, 230, 543, 2687, 954, 711, 341, 439, 575, 219, 437, 541, 594, 1557, 877, 2009, 179, 199, 119, 1434, 1933, 439, 657, 1002, 214, 245, 239, 359, 930, 637, 344, 1041, 531, 222, 551, 323, 844, 541, 902, 473, 296, 523, 112, 415, 351, 574, 999, 387, 1899, 181, 335, 311, 1460, 382, 1713, 5317, 413, 334, 561, 1408, 832, 4413, 117, 140, 312, 435, 645, 669, 320, 930, 478, 255, 1241, 80, 628, 297, 1049, 305, 157, 789, 389, 2791, 186, 508, 388, 209, 484, 500, 278, 196, 398, 340, 1031, 1414, 253, 283, 356, 412, 320, 369, 638, 955, 331, 3196, 222, 613, 548, 844, 376, 536, 385, 792, 342, 587, 363, 444, 135, 301, 459, 418, 489, 1707, 347, 495, 573, 136, 326, 612, 187, 119, 401, 353, 803, 317, 965, 764, 299, 625, 3491, 183, 657, 212, 542, 437, 218, 576, 174, 811, 462, 718, 290, 284, 68, 564, 389, 309, 277, 938, 319, 936, 830, 234, 456, 2115, 200, 467, 436, 551, 828, 431, 722, 151, 205, 783, 136, 819, 202, 415, 2126, 493, 2770, 408, 942, 194, 143, 534, 839, 641, 320, 192, 492, 1287, 63, 542, 205, 3581, 474, 279, 358, 153, 122, 464, 165, 287, 1480, 293, 147, 1876, 582, 223, 779, 807, 1712, 167, 518, 356, 694, 202, 711, 596, 435, 144, 362, 430, 390, 188, 230, 333, 714, 141, 522, 257, 489, 636, 439, 182, 2910, 592, 390, 229, 250, 625, 491, 1387, 1775, 1195, 212, 532, 483, 304, 627, 251, 339, 338, 303, 301, 98, 497, 221, 382, 785, 201, 2488, 304, 382, 629, 1197, 132, 806, 224, 290, 209, 378, 239, 501, 227, 1722, 283, 565, 830, 484, 266, 185, 451, 410, 535, 516, 149, 637, 148, 161, 1992, 757, 552, 659, 493, 135, 726, 383, 329, 298, 495, 304, 160, 988, 1239, 368, 257, 369, 229, 112, 150, 143, 573, 797, 1703, 899, 436, 247, 4237, 328, 5194, 388, 221, 449, 344, 628, 523, 191, 922, 1159, 201, 399, 293, 585, 764, 239, 2797, 359, 218, 269, 671, 350, 206, 263, 798, 1461, 570, 181, 289, 594, 637, 220, 1678, 247, 163, 223, 244, 991, 3063, 161, 556, 456, 1944, 948, 190, 1923, 213, 2062, 422, 292, 273, 636, 1061, 782, 184, 165, 1272, 776, 162, 377, 543, 398, 623, 364, 2423, 648, 171, 4092, 375, 404, 288, 529, 548, 413, 950, 441, 268, 565, 268, 707, 650, 537, 666, 198, 350, 767, 696, 421, 199, 229, 169, 188, 240, 307, 531, 962, 679, 343, 296, 567, 557, 213, 236, 1784, 318, 259, 1618, 976, 154, 345, 761, 299, 972, 152, 1180, 725, 509, 1185, 234, 470, 255, 494, 553, 3683, 210, 192, 853, 513, 998, 1230, 442, 358, 306, 389, 1139, 294, 886, 222, 709, 2523, 857, 561, 1258, 103, 519, 321, 714, 260, 508, 219, 123, 191, 1462, 423, 955, 287, 823, 434, 433, 258, 686, 647, 524, 269, 259, 81, 446, 355, 347, 191, 487, 399, 153, 298, 107, 564, 1076, 4749, 1587, 750, 817, 200, 2581, 360, 424, 409, 2265, 284, 305, 472, 255, 385, 1134, 360, 603, 323, 1008, 764, 520, 311, 396, 1257, 152, 140, 685, 629, 905, 856, 428, 209, 124, 479, 355, 574, 725, 527, 895, 706, 184, 599, 833, 6505, 927, 599, 419, 220, 363, 595, 785, 421, 724, 459, 415, 4557, 234, 152, 394, 1403, 154, 747, 1213, 494, 567, 343, 1184, 139, 220, 130, 1678, 601, 166, 166, 56, 1896, 937, 423, 1929, 589, 411, 527, 217, 416, 501, 1267, 376, 6241, 138, 83, 332, 490, 769, 1483, 283, 861, 591, 195, 3367, 1230, 289, 142, 644, 242, 535, 162, 353, 333, 397, 705, 538, 707, 1594, 76, 636, 601, 403, 527, 325, 750, 746, 1540, 1394, 135, 254, 126, 366, 399, 679, 552, 1021, 452, 322, 222, 193, 358, 192, 1307, 349, 379, 858, 825, 121, 194, 3415, 174, 82, 361, 511, 192, 447, 303, 357, 545, 617, 164, 403, 334, 338, 668, 483, 705, 332, 566, 222, 395, 137, 442, 302, 486, 528, 361, 446, 90, 492, 135, 448, 1806, 205, 1701, 706, 906, 447, 256, 256, 361, 466, 463, 278, 385, 270, 709, 101, 648, 315, 186, 255, 355, 592, 2438, 293, 866, 572, 814, 684, 364, 516, 331, 301, 412, 1081, 157, 528, 946, 806, 2514, 250, 447, 507, 781, 234, 145, 221, 259, 211, 367, 1326, 746, 174, 1016, 214, 746, 173, 1519, 306, 563, 210, 183, 1508, 561, 426, 832, 2067, 252, 2439, 213, 1141, 557, 187, 303, 796, 313, 927, 795, 255, 162, 231, 321, 230, 301, 335, 662, 253, 202, 256, 1215, 1176, 478, 220, 677, 153, 160, 431, 901, 1002, 4843, 406, 95, 400, 302, 948, 197, 561, 283, 884, 1310, 163, 398, 302, 802, 287, 179, 552, 333, 753, 170, 257, 1693, 273, 124, 333, 188, 290, 842, 1169, 1919, 785, 300, 347, 652, 268, 331, 170, 287, 256, 246, 275, 357, 457, 351, 1299, 155, 148, 2089, 184, 193, 822, 157, 235, 199, 801, 350, 888, 256, 626, 745, 508, 478, 549, 443, 545, 172, 348, 640, 337, 315, 536, 177, 603, 144, 773, 539, 631, 12, 1127, 452, 1158, 130, 1650, 599, 271, 308, 240, 368, 167, 295, 165, 629, 278, 435, 138, 385, 1852, 104, 1655, 140, 787, 1469, 574, 362, 133, 98, 62, 2321, 235, 553, 82, 516, 241, 546, 209, 197, 757, 703, 237, 332, 699, 4191, 327, 496, 553, 913, 3935, 611, 305, 371, 205, 273, 736, 147, 525, 384, 737, 668, 1539, 124, 276, 351, 636, 126, 2262, 356, 116, 767, 1071, 482, 337, 862, 126, 675, 235, 783, 344, 2852, 345, 288, 451, 543, 240, 160, 307, 133, 61, 280, 159, 127, 357, 124, 186, 373, 744, 639, 280, 262, 1233, 299, 435, 293, 567, 753, 694, 2161, 649, 286, 1730, 203, 308, 383, 126, 158, 207, 371, 508, 493, 1177, 131, 1659, 202, 417, 213, 418, 460, 535, 257, 3397, 534, 327, 602, 733, 283, 165, 196, 611, 182, 150, 539, 644, 374, 437, 356, 404, 389, 229, 257, 323, 372, 4327, 172, 1158, 235, 825, 3844, 487, 371, 519, 476, 240, 1798, 440, 502, 1059, 859, 423, 425, 129, 2079, 156, 199, 817, 180, 970, 360, 332, 416, 440, 340, 217, 258, 236, 388, 948, 255, 126, 566, 493, 2524, 625, 271, 1160, 332, 323, 382, 493, 229, 326, 1045, 243, 943, 1715, 181, 356, 386, 589, 281, 474, 190, 139, 672, 98, 455, 1540, 172, 3851, 359, 331, 1687, 1002, 234, 774, 421, 368, 409, 423, 343, 132, 427, 1214, 343, 486, 259, 897, 480, 232, 336, 933, 1584, 287, 301, 782, 635, 655, 319, 415, 514, 386, 216, 522, 266, 571, 307, 247, 2852, 235, 416, 1586, 1265, 591, 362, 561, 375, 253, 793, 145, 439, 813, 187, 822, 1123, 280, 439, 402, 226, 446, 1671, 458, 209, 183, 530, 359, 103, 256, 332, 445, 1445, 467, 156, 1164, 105, 548, 141, 479, 692, 96, 392, 316, 879, 325, 296, 298, 1009, 297, 188, 128, 685, 398, 322, 348, 311, 305, 885, 262, 277, 5867, 181, 469, 878, 457, 1040, 158, 229, 298, 2166, 302, 897, 253, 356, 1097, 238, 123, 749, 414, 189, 380, 197, 284, 544, 169, 255, 288, 220, 620, 736, 343, 222, 527, 301, 411, 624, 458, 393, 2294, 721, 1217, 1626, 199, 540, 264, 146, 165, 142, 225, 303, 119, 566, 328, 212, 1542, 598, 180, 80, 488, 270, 1041, 394, 136, 629, 640, 3698, 545, 661, 1343, 597, 637, 345, 447, 616, 443, 401, 677, 232, 123, 504, 835, 940, 1312, 745, 374, 936, 325, 781, 174, 580, 281, 465, 288, 498, 219, 396, 205, 825, 219, 350, 499, 268, 792, 263, 470, 330, 390, 4110, 530, 582, 565, 304, 417, 240, 286, 148, 971, 268, 935, 384, 164, 401, 221, 145, 900, 448, 279, 169, 428, 93, 151, 231, 108, 314, 493, 901, 380, 337, 663, 177, 306, 1145, 491, 425, 616, 296, 919, 404, 113, 1499, 679, 220, 220, 129, 808, 154, 905, 1015, 447, 3199, 380, 1369, 76, 377, 526, 438, 2463, 786, 170, 477, 681, 790, 3243, 128, 664, 240, 603, 270, 531, 453, 1436, 1112, 227, 258, 427, 2773, 280, 135, 433, 3054, 799, 196, 365, 137, 2240, 1953, 232, 1474, 247, 169, 481, 144, 823, 436, 549, 1394, 86, 126, 377, 796, 1220, 461, 266, 295, 263, 185, 400, 696, 854, 514, 972, 383, 184, 1045, 376, 820, 459, 261, 113, 164, 490, 566, 1743, 451, 587, 512, 1340, 1668, 233, 513, 387, 221, 249, 734, 816, 545, 1027, 1418, 2021, 808, 683, 344, 1307, 301, 621, 377, 553, 308, 298, 482, 408, 244, 186, 254, 411, 271, 390, 1446, 532, 560, 645, 138, 855, 176, 272, 569, 548, 524, 606, 533, 314, 277, 516, 380, 5242, 2776, 212, 1416, 224, 346, 879, 158, 920, 322, 141, 912, 555, 809, 547, 1964, 120, 353, 829, 551, 259, 1289, 211, 191, 258, 255, 2136, 303, 494, 1199, 2199, 996, 1281, 624, 756, 384, 437, 209, 278, 1807, 251, 158, 1027, 2398, 666, 419, 4341, 316, 522, 1233, 820, 1572, 397, 1335, 145, 267, 276, 250, 176, 520, 1327, 977, 1616, 423, 312, 119, 406, 2324, 481, 356, 322, 252, 314, 640, 414, 589, 331, 764, 455, 310, 170, 373, 3570, 367, 538, 94, 295, 119, 880, 639, 800, 168, 387, 481, 260, 562, 561, 166, 465, 400, 588, 271, 363, 498, 3077, 661, 353, 687, 410, 224, 376, 221, 318, 1110, 2991, 313, 315, 329, 333, 287, 463, 274, 168, 4069, 345, 739, 366, 1659, 257, 142, 520, 296, 535, 722, 247, 959, 509, 374, 1250, 64, 217, 312, 670, 1541, 123, 397, 4359, 622, 706, 401, 287, 2177, 491, 189, 361, 2225, 503, 951, 1257, 540, 113, 149, 733, 469, 1002, 1934, 109, 570, 487, 507, 476, 972, 799, 500, 193, 1501, 440, 418, 356, 432, 138, 843, 2504, 399, 3766, 697, 402, 378, 229, 295, 1094, 280, 463, 759, 302, 221, 474, 118, 159, 282, 341, 199, 795, 732, 368, 634, 158, 283, 255, 260, 354, 505, 1258, 180, 504, 305, 644, 246, 469, 301, 963, 299, 337, 1613, 802, 432, 821, 2984, 293, 396, 256, 153, 365, 337, 753, 193, 516, 839, 315, 1083, 535, 370, 561, 698, 190, 99, 488, 601, 512, 217, 218, 203, 544, 392, 304, 497, 470, 401, 3025, 3418, 400, 1272, 4455, 367, 395, 328, 253, 550, 445, 157, 2095, 289, 143, 399, 1130, 158, 387, 296, 405, 3513, 271, 763, 158, 1633, 195, 510, 202, 332, 271, 454, 956, 303, 378, 265, 124, 687, 4539, 457, 225, 422, 296, 863, 447, 485, 761, 473, 331, 839, 169, 517, 226, 933, 338, 1500, 448, 428, 343, 964, 797, 328, 142, 704, 654, 451, 2004, 2270, 977, 712, 364, 231, 328, 433, 776, 193, 310, 406, 391, 658, 597, 199, 354, 1985, 174, 255, 209, 1320, 593, 814, 416, 782, 2077, 732, 1030, 778, 232, 956, 274, 372, 275, 362, 2077, 756, 827, 361, 232, 410, 169, 956, 1270, 717, 1025, 549, 644, 524, 378, 3028, 1416, 1771, 1217, 375, 245, 1916, 322, 269, 1597, 202, 1309, 921, 415, 437, 121, 1027, 89, 4458, 706, 257, 420, 168, 2642, 133, 762, 200, 139, 243, 386, 775, 2216, 401, 321, 85, 414, 241, 205, 1087, 203, 422, 249, 1026, 1427, 271, 219, 781, 2576, 1060, 918, 120, 220, 941, 798, 1071, 522, 330, 570, 1688, 280, 1760, 467, 1363, 303, 1145, 464, 559, 429, 342, 251, 1327, 1347, 780, 1107, 201, 141, 716, 1583, 259, 319, 1078, 100, 765, 107, 332, 184, 330, 877, 1517, 194, 285, 775, 114, 553, 184, 1982, 198, 458, 4254, 683, 388, 215, 603, 608, 364, 203, 156, 521, 270, 2569, 366, 1448, 1095, 190, 611, 244, 222, 1101, 1009, 320, 561, 490, 238, 616, 776, 193, 446, 413, 247, 744, 427, 2754, 878, 252, 482, 433, 406, 584, 177, 311, 156, 729, 893, 503, 693, 341, 245, 727, 569, 982, 695, 451, 786, 419, 1020, 684, 1082, 318, 426, 560, 576, 598, 632, 240, 614, 754, 394, 287, 120, 136, 237, 198, 1074, 468, 839, 181, 215, 871, 174, 176, 416, 256, 263, 165, 516, 218, 709, 710, 91, 226, 509, 1195, 611, 278, 837, 680, 283, 566, 622, 180, 478, 162, 839, 500, 929, 457, 579, 1162, 196, 421, 181, 866, 136, 420, 521, 330, 1789, 187, 3714, 164, 146, 231, 299, 140, 2106, 430, 322, 378, 489, 884, 3481, 240, 348, 221, 537, 770, 3551, 3690, 258, 281, 229, 381, 180, 396, 335, 640, 239, 211, 212, 126, 344, 301, 809, 541, 183, 344, 1637, 859, 702, 219, 301, 414, 268, 486, 396, 337, 239, 234, 536, 567, 297, 286, 694, 1167, 225, 371, 339, 375, 620, 146, 778, 265, 215, 397, 539, 191, 251, 946, 564, 158, 809, 497, 267, 414, 406, 210, 577, 1930, 415, 303, 1345, 339, 1382, 1284, 417, 228, 1204, 219, 446, 593, 160, 1551, 395, 189, 917, 247, 1317, 241, 479, 670, 370, 247, 952, 148, 276, 804, 273, 432, 114, 397, 591, 603, 209, 60, 337, 95, 369, 241, 518, 1119, 1208, 104, 124, 684, 2846, 473, 1544, 195, 635, 486, 289, 526, 111, 186, 432, 3161, 790, 174, 731, 2480, 191, 305, 795, 596, 914, 1276, 401, 740, 289, 308, 245, 349, 530, 249, 439, 250, 297, 186, 380, 198, 516, 276, 356, 367, 90, 361, 1485, 456, 481, 1921, 160, 1737, 540, 348, 313, 931, 353, 798, 287, 371, 956, 776, 511, 667, 750, 270, 361, 222, 252, 549, 499, 236, 529, 279, 1634, 2420, 1223, 202, 187, 157, 668, 339, 343, 482, 167, 580, 1330, 312, 360, 1028, 891, 192, 485, 335, 403, 683, 132, 228, 573, 275, 461, 233, 431, 667, 687, 190, 596, 224, 368, 267, 60, 3014, 182, 488, 685, 643, 393, 408, 245, 827, 1406, 455, 659, 1886, 353, 212, 214, 216, 341, 200, 320, 545, 549, 1334, 168, 164, 1435, 427, 458, 1185, 434, 161, 289, 721, 545, 1233, 255, 644, 349, 223, 423, 242, 336, 990, 273, 247, 126, 169, 277, 623, 719, 1114, 228, 549, 1200, 228, 166, 281, 1201, 947, 290, 677, 353, 619, 549, 221, 166, 2417, 297, 205, 306, 419, 1070, 212, 284, 1165, 462, 646, 754, 416, 317, 464, 641, 260, 147, 710, 291, 387, 1730, 187, 1049, 1461, 635, 521, 257, 4146, 2561, 589, 394, 459, 236, 657, 600, 933, 356, 319, 345, 207, 1130, 538, 167, 475, 222, 259, 668, 249, 259, 463, 276, 1079, 1272, 142, 218, 302, 1321, 440, 284, 392, 120, 920, 1040, 812, 639, 157, 1251, 312, 277, 598, 722, 732, 221, 923, 372, 243, 728, 1316, 229, 455, 551, 655, 137, 465, 381, 209, 595, 361, 211, 840, 146, 347, 208, 187, 96, 550, 595, 189, 440, 187, 635, 509, 534, 526, 591, 432, 302, 219, 539, 246, 385, 263, 172, 539, 314, 211, 269, 344, 431, 1174, 238, 416, 821, 476, 689, 1357, 4373, 225, 414, 101, 804, 263, 412, 201, 471, 166, 183, 415, 257, 214, 260, 535, 508, 390, 1018, 3492, 240, 142, 390, 2123, 234, 343, 531, 663, 367, 344, 815, 110, 520, 281, 822, 170, 120, 462, 146, 452, 407, 316, 414, 245, 1014, 596, 208, 213, 1040, 656, 969, 174, 376, 487, 933, 322, 1074, 243, 1956, 921, 149, 227, 3027, 307, 132, 385, 177, 134, 490, 277, 224, 1011, 198, 540, 494, 246, 342, 748, 1456, 1350, 528, 221, 238, 279, 1179, 1058, 637, 481, 243, 201, 178, 655, 100, 201, 239, 879, 1170, 364, 259, 773, 883, 766, 1000, 996, 230, 1032, 1883, 254, 316, 2470, 403, 566, 748, 641, 347, 172, 869, 218, 260, 207, 1009, 144, 1539, 92, 235, 281, 387, 176, 393, 2536, 341, 400, 387, 432, 166, 325, 256, 656, 308, 154, 510, 270, 225, 1192, 325, 168, 366, 256, 269, 103, 780, 523, 1110, 123, 283, 465, 704, 505, 722, 267, 125, 356, 341, 333, 904, 757, 397, 465, 708, 979, 832, 951, 565, 188, 214, 117, 122, 881, 244, 655, 1990, 166, 923, 370, 868, 883, 71, 1609, 429, 334, 1404, 356, 1817, 338, 492, 958, 615, 1018, 639, 442, 519, 659, 209, 312, 329, 208, 630, 321, 775, 995, 1084, 725, 145, 815, 795, 186, 246, 567, 246, 755, 741, 413, 544, 121, 217, 147, 633, 383, 521, 2274, 496, 303, 534, 397, 192, 349, 521, 694, 259, 130, 528, 715, 171, 177, 284, 96, 161, 1030, 986, 330, 388, 318, 467, 207, 217, 873, 205, 1750, 244, 969, 1336, 508, 448, 846, 245, 436, 575, 240, 246, 543, 156, 94, 279, 438, 447, 840, 495, 241, 303, 486, 97, 277, 585, 324, 354, 192, 211, 94, 4257, 276, 296, 3220, 191, 590, 178, 183, 371, 976, 156, 744, 1022, 689, 103, 295, 412, 686, 596, 1476, 2086, 929, 490, 623, 407, 494, 747, 544, 236, 677, 264, 513, 931, 170, 388, 412, 254, 3350, 343, 2170, 249, 405, 322, 192, 440, 2288, 4474, 125, 1281, 410, 251, 279, 2188, 177, 768, 192, 149, 273, 445, 292, 485, 322, 2120, 342, 307, 362, 393, 945, 279, 1218, 170, 432, 585, 732, 943, 415, 505, 516, 1167, 361, 1734, 653, 250, 1069, 342, 238, 216, 1015, 167, 1094, 239, 1026, 330, 585, 188, 265, 263, 422, 1404, 864, 785, 370, 378, 183, 1627, 682, 204, 460, 608, 306, 378, 801, 434, 1626, 342, 152, 779, 123, 175, 841, 523, 1368, 137, 420, 279, 908, 221, 356, 291, 438, 744, 309, 1213, 786, 222, 1152, 598, 225, 263, 266, 296, 338, 1112, 1647, 375, 307, 1623, 1211, 375, 899, 330, 121, 555, 441, 735, 443, 698, 326, 424, 3331, 1154, 315, 914, 271, 411, 532, 311, 775, 646, 1577, 1430, 1270, 479, 459, 656, 1133, 344, 318, 1418, 174, 303, 308, 1183, 1243, 588, 252, 491, 384, 1530, 563, 682, 626, 417, 339, 345, 512, 869, 190, 417, 1024, 798, 344, 466, 248, 315, 2217, 140, 607, 790, 1371, 579, 781, 1617, 144, 925, 409, 434, 73, 966, 155, 539, 3220, 367, 399, 477, 4264, 246, 553, 631, 156, 213, 534, 210, 416, 529, 504, 235, 387, 424, 220, 378, 135, 960, 1784, 182, 241, 1395, 359, 605, 580, 120, 157, 1801, 438, 214, 1123, 246, 110, 229, 514, 162, 262, 228, 251, 730, 312, 106, 168, 411, 234, 208, 475, 206, 255, 265, 1735, 1247, 290, 1026, 283, 370, 410, 218, 435, 349, 128, 105, 824, 167, 621, 182, 248, 206, 650, 420, 1399, 258, 488, 177, 96, 372, 516, 514, 336, 365, 215, 602, 413, 368, 354, 353, 327, 1296, 922, 441, 426, 178, 816, 197, 409, 395, 1084, 496, 474, 2026, 578, 455, 855, 1219, 631, 186, 1615, 438, 526, 522, 859, 172, 1190, 473, 191, 515, 1413, 1137, 213, 176, 831, 533, 471, 2211, 775, 189, 3658, 1321, 957, 2443, 607, 417, 284, 237, 537, 290, 415, 488, 501, 167, 888, 570, 227, 330, 754, 656, 362, 267, 3404, 647, 174, 3111, 904, 274, 214, 210, 1210, 426, 501, 663, 674, 658, 291, 1260, 189, 743, 625, 308, 452, 160, 596, 309, 292, 214, 846, 308, 1098, 402, 574, 510, 588, 481, 334, 1245, 559, 243, 471, 257, 582, 330, 1033, 454, 131, 308, 269, 701, 992, 289, 283, 294, 311, 1733, 487, 235, 773, 1284, 230, 1307, 359, 245, 479, 363, 334, 879, 1274, 156, 522, 736, 554, 1048, 1038, 1955, 88, 1105, 280, 409, 193, 373, 298, 284, 930, 216, 333, 1573, 485, 361, 562, 1683, 500, 710, 309, 3338, 423, 313, 515, 361, 534, 469, 597, 242, 262, 506, 569, 339, 608, 474, 930, 301, 204, 354, 164, 812, 2255, 352, 315, 281, 452, 172, 3033, 250, 5201, 241, 1155, 792, 448, 202, 587, 732, 343, 726, 762, 499, 974, 127, 238, 144, 113, 178, 732, 368, 250, 1712, 385, 628, 467, 420, 108, 922, 413, 119, 205, 520, 234, 674, 639, 261, 216, 1003, 389, 526, 250, 756, 256, 925, 749, 201, 355, 218, 769, 749, 376, 153, 950, 4813, 259, 383, 3118, 109, 697, 3985, 345, 327, 1364, 445, 132, 1363, 1352, 370, 225, 393, 148, 655, 192, 1757, 185, 247, 562, 509, 236, 738, 441, 164, 250, 515, 388, 581, 367, 298, 870, 734, 545, 65, 229, 221, 729, 912, 400, 907, 169, 153, 503, 1777, 1434, 1627, 474, 296, 182, 288, 615, 419, 299, 363, 174, 1629, 2607, 78, 168, 362, 167, 290, 482, 213, 148, 464, 698, 149, 315, 381, 2206, 244, 1035, 540, 701, 457, 666, 241, 733, 538, 694, 833, 118, 893, 1950, 984, 316, 280, 545, 134, 632, 114, 328, 671, 446, 195, 435, 123, 345, 385, 199, 537, 1558, 221, 623, 585, 214, 566, 325, 883, 975, 551, 148, 181, 1429, 416, 631, 731, 1780, 615, 510, 2169, 392, 110, 907, 497, 139, 716, 117, 1410, 2247, 512, 352, 308, 271, 112, 274, 768, 1217, 360, 349, 273, 198, 735, 258, 458, 529, 558, 426, 801, 529, 657, 863, 2442, 1197, 629, 714, 253, 527, 125, 186, 281, 266, 355, 1056, 730, 987, 487, 195, 120, 1108, 266, 429, 266, 244, 214, 1671, 121, 1311, 2521, 779, 191, 487, 347, 263, 620, 200, 666, 173, 3659, 343, 325, 230, 390, 347, 2055, 163, 1027, 2640, 481, 205, 284, 785, 1958, 326, 333, 3598, 475, 133, 310, 545, 173, 600, 654, 266, 220, 626, 96, 192, 206, 485, 199, 2594, 477, 323, 389, 1244, 720, 1669, 975, 311, 573, 1872, 929, 1327, 166, 166, 307, 162, 811, 245, 272, 365, 166, 661, 280, 623, 205, 1548, 290, 263, 564, 341, 2523, 853, 328, 162, 277, 561, 262, 229, 255, 489, 295, 1818, 989, 318, 2406, 188, 430, 502, 2704, 1156, 451, 260, 163, 309, 252, 858, 761, 246, 239, 540, 247, 2476, 1241, 570, 1356, 2533, 419, 182, 1326, 195, 186, 669, 390, 760, 786, 265, 845, 423, 223, 308, 438, 510, 2787, 559, 231, 191, 317, 277, 137, 480, 599, 651, 750, 97, 223, 579, 449, 387, 1212, 142, 824, 469, 393, 375, 626, 776, 146, 946, 145, 321, 716, 490, 454, 1856, 1714, 307, 567, 161, 674, 743, 2294, 636, 1265, 777, 70, 361, 247, 233, 454, 761, 438, 333, 226, 217, 378, 192, 385, 332, 636, 1571, 191, 916, 682, 816, 128, 186, 698, 799, 540, 2203, 1744, 601, 182, 334, 800, 462, 655, 284, 714, 816, 287, 412, 833, 250, 1613, 414, 1011, 320, 566, 344, 538, 331, 157, 710, 309, 142, 178, 857, 360, 388, 1389, 238, 240, 196, 113, 406, 1024, 449, 1052, 1022, 194, 1259, 1073, 425, 362, 461, 379, 1843, 274, 318, 361, 832, 1185, 274, 169, 620, 253, 116, 166, 90, 139, 324, 438, 169, 313, 919, 1277, 440, 794, 171, 140, 203, 675, 273, 510, 730, 224, 914, 946, 91, 921, 250, 464, 841, 1021, 557, 476, 742, 535, 109, 679, 257, 495, 307, 408, 1337, 824, 1306, 446, 673, 3193, 651, 215, 715, 240, 365, 420, 2674, 1180, 80, 632, 596, 258, 179, 90, 253, 129, 262, 411, 693, 256, 903, 442, 519, 1225, 247, 588, 207, 2262, 392, 407, 196, 1275, 487, 293, 290, 682, 116, 805, 1212, 256, 968, 502, 293, 126, 653, 347, 462, 217, 248, 356, 860, 377, 400, 180, 351, 829, 118, 965, 310, 431, 309, 113, 388, 701, 484, 240, 1731, 270, 3368, 159, 1616, 671, 1142, 930, 458, 1851, 398, 391, 333, 871, 610, 537, 234, 335, 2585, 104, 542, 499, 704, 243, 500, 277, 199, 714, 526, 1295, 215, 657, 248, 252, 949, 536, 216, 397, 984, 714, 940, 271, 214, 323, 1448, 268, 507, 274, 3470, 860, 4005, 818, 1532, 159, 638, 535, 337, 280, 407, 207, 164, 702, 164, 1773, 290, 251, 376, 191, 327, 649, 247, 129, 1046, 129, 145, 1500, 658, 226, 809, 322, 480, 3279, 1293, 437, 347, 285, 408, 664, 455, 586, 137, 268, 376, 3497, 152, 970, 477, 315, 242, 280, 432, 161, 657, 1071, 234, 334, 2044, 472, 545, 1686, 270, 752, 709, 1309, 700, 1127, 222, 252, 619, 335, 341, 309, 985, 448, 520, 2004, 1351, 1486, 223, 190, 130, 736, 185, 2334, 3406, 229, 189, 293, 360, 210, 277, 572, 1726, 213, 655, 488, 233, 309, 653, 1956, 506, 288, 366, 237, 685, 173, 160, 461, 157, 371, 1265, 576, 495, 861, 246, 526, 8203, 595, 965, 320, 592, 58, 218, 3874, 212, 783, 674, 520, 969, 254, 3783, 736, 293, 442, 912, 100, 201, 252, 979, 679, 128, 198, 322, 288, 252, 539, 672, 1015, 671, 79, 348, 647, 418, 169, 277, 247, 454, 1303, 1035, 581, 1931, 1199, 424, 828, 1237, 264, 150, 658, 450, 119, 695, 425, 558, 217, 372, 184, 2658, 940, 387, 84, 404, 420, 804, 339, 337, 830, 795, 266, 683, 1524, 221, 516, 65, 381, 3839, 194, 128, 291, 805, 449, 608, 139, 197, 692, 598, 456, 337, 172, 541, 295, 170, 305, 373, 354, 746, 473, 876, 232, 350, 851, 593, 673, 313, 312, 100, 86, 194, 553, 357, 472, 296, 435, 1148, 248, 233, 479, 1262, 1039, 1288, 235, 816, 340, 157, 400, 484, 515, 465, 230, 333, 805, 84, 2292, 355, 434, 443, 560, 1677, 426, 515, 660, 2125, 209, 195, 425, 639, 661, 358, 717, 7532, 172, 340, 267, 441, 650, 340, 650, 325, 290, 337, 1982, 374, 389, 224, 867, 2623, 276, 356, 389, 347, 347, 1463, 216, 654, 228, 1002, 510, 282, 541, 252, 498, 425, 460, 132, 118, 1118, 960, 174, 378, 396, 285, 555, 530, 682, 625, 1193, 151, 406, 123, 586, 402, 452, 2219, 927, 130, 365, 699, 2187, 378, 646, 233, 444, 340, 1183, 569, 820, 546, 711, 267, 148, 264, 1111, 235, 2035, 66, 667, 1016, 409, 318, 629, 217, 352, 366, 87, 531, 397, 468, 586, 1805, 2717, 195, 104, 390, 376, 2106, 1298, 707, 769, 356, 413, 247, 655, 116, 96, 554, 346, 548, 573, 265, 306, 591, 217, 251, 777, 348, 348, 624, 95, 1118, 398, 239, 479, 405, 575, 130, 294, 426, 341, 1656, 508, 878, 228, 489, 445, 1172, 320, 556, 619, 604, 206, 382, 574, 249, 284, 263, 548, 333, 244, 499, 359, 413, 637, 272, 539, 475, 2182, 1156, 177, 327, 479, 169, 569, 647, 372, 151, 356, 1062, 310, 588, 327, 236, 659, 381, 1083, 687, 350, 419, 1956, 130, 168, 992, 189, 721, 222, 3759, 172, 445, 1073, 782, 247, 1681, 608, 764, 297, 603, 1123, 1135, 335, 2734, 680, 1275, 715, 528, 175, 481, 849, 702, 363, 311, 296, 351, 577, 163, 173, 3520, 819, 954, 178, 528, 443, 142, 327, 483, 190, 155, 586, 727, 387, 561, 975, 401, 85, 488, 162, 136, 808, 497, 1802, 233, 743, 2203, 1101, 478, 300, 373, 776, 283, 445, 184, 246, 401, 447, 242, 282, 537, 513, 488, 1064, 457, 525, 107, 223, 393, 1305, 278, 515, 225, 731, 367, 483, 799, 402, 1088, 229, 1023, 380, 265, 478, 252, 228, 654, 301, 314, 447, 95, 375, 492, 785, 155, 734, 483, 219, 528, 208, 867, 1144, 114, 664, 218, 1052, 366, 699, 197, 592, 267, 399, 283, 742, 612, 213, 281, 1272, 323, 674, 581, 828, 2391, 1229, 325, 895, 856, 611, 232, 354, 489, 112, 230, 4788, 297, 173, 769, 231, 1655, 527, 1135, 338, 449, 297, 922, 343, 363, 464, 373, 572, 303, 280, 394, 301, 191, 793, 650, 879, 194, 374, 579, 349, 541, 455, 972, 1045, 533, 1935, 174, 710, 97, 397, 1326, 112, 1643, 972, 3060, 1197, 690, 434, 290, 258, 135, 296, 7098, 624, 154, 531, 220, 462, 199, 72, 470, 187, 455, 644, 445, 686, 175, 985, 237, 1253, 141, 207, 393, 172, 784, 548, 663, 984, 257, 193, 937, 1086, 1116, 1021, 210, 254, 232, 2764, 1155, 269, 458, 242, 1565, 1260, 282, 822, 1910, 1296, 1201, 566, 294, 491, 198, 130, 383, 506, 537, 373, 726, 439, 445, 377, 662, 669, 597, 268, 215, 1089, 451, 301, 984, 475, 323, 396, 351, 482, 201, 262, 196, 403, 359, 189, 716, 1113, 183, 379, 3019, 246, 466, 304, 317, 300, 562, 398, 176, 691, 994, 226, 795, 620, 379, 366, 112, 658, 334, 710, 197, 824, 298, 480, 489, 215, 321, 1132, 561, 197, 2413, 781, 138, 858, 807, 132, 352, 157, 221, 527, 1973, 2467, 403, 387, 441, 211, 812, 476, 2673, 224, 349, 172, 541, 584, 1522, 2042, 625, 680, 363, 178, 722, 928, 979, 165, 1360, 424, 254, 197, 1508, 577, 139, 1932, 276, 308, 121, 378, 174, 229, 296, 850, 246, 412, 3513, 233, 372, 256, 224, 491, 500, 302, 1006, 92, 366, 319, 833, 681, 338, 519, 541, 416, 284, 522, 493, 367, 300, 482, 517, 96, 430, 983, 482, 301, 888, 275, 1975, 1529, 294, 533, 776, 216, 341, 316, 224, 3688, 175, 3066, 391, 2372, 185, 268, 556, 3125, 3159, 680, 442, 609, 1423, 478, 635, 395, 903, 1582, 1404, 554, 1736, 631, 184, 318, 541, 2298, 123, 440, 2205, 976, 341, 293, 237, 902, 508, 155, 343, 2030, 119, 557, 358, 145, 343, 1378, 190, 258, 898, 2000, 234, 398, 253, 1559, 656, 760, 1208, 375, 781, 4949, 317, 275, 242, 710, 183, 430, 1086, 938, 302, 121, 168, 749, 1106, 1956, 352, 371, 590, 614, 1143, 281, 357, 135, 1703, 400, 1976, 162, 693, 354, 371, 580, 1070, 570, 823, 274, 4580, 266, 149, 1018, 470, 284, 308, 218, 237, 325, 1349, 559, 407, 679, 341, 1184, 3140, 383, 229, 1217, 330, 245, 507, 2677, 720, 681, 443, 362, 218, 271, 1211, 591, 391, 96, 371, 785, 912, 538, 700, 453, 289, 733, 264, 238, 417, 1826, 350, 2135, 345, 1654, 767, 349, 231, 640, 1664, 109, 1789, 995, 878, 378, 851, 1070, 774, 463, 718, 261, 187, 151, 1137, 323, 335, 918, 246, 3254, 363, 367, 593, 885, 2183, 395, 208, 1733, 359, 355, 763, 504, 444, 454, 6105, 522, 744, 289, 290, 1107, 281, 475, 325, 355, 283, 314, 1602, 1230, 474, 775, 240, 532, 390, 457, 383, 630, 881, 265, 309, 283, 1431, 962, 796, 630, 224, 235, 330, 317, 160, 464, 431, 589, 1380, 204, 3010, 285, 1944, 295, 854, 1090, 826, 461, 1038, 174, 530, 464, 579, 259, 117, 166, 93, 4398, 299, 1064, 146, 367, 244, 148, 777, 442, 195, 121, 426, 524, 2226, 916, 182, 580, 249, 473, 1270, 427, 168, 232, 213, 492, 588, 674, 356, 288, 474, 263, 446, 294, 679, 431, 858, 583, 188, 144, 578, 553, 220, 707, 223, 481, 143, 1432, 271, 203, 320, 213, 274, 984, 310, 238, 824, 437, 239, 1048, 217, 346, 492, 463, 1171, 500, 136, 1136, 563, 266, 615, 76, 1016, 1026, 223, 501, 117, 263, 176, 125, 439, 190, 331, 612, 152, 4283, 229, 305, 443, 2999, 260, 1388, 671, 718, 211, 690, 223, 373, 69, 392, 2611, 584, 441, 252, 94, 240, 1513, 516, 320, 475, 280, 182, 2435, 694, 280, 5235, 598, 456, 2363, 491, 274, 405, 133, 256, 234, 339, 127, 1040, 1163, 261, 1919, 1053, 955, 2473, 351, 408, 273, 833, 205, 555, 3132, 138, 573, 146, 358, 588, 353, 133, 185, 254, 851, 170, 245, 814, 242, 1057, 652, 193, 318, 888, 437, 713, 445, 217, 227, 572, 337, 347, 78, 446, 523, 152, 517, 146, 68, 154, 215, 774, 168, 407, 125, 323, 228, 126, 600, 1020, 314, 411, 218, 764, 945, 168, 1665, 760, 211, 223, 157, 221, 475, 328, 557, 629, 461, 205, 551, 211, 293, 298, 226, 336, 1894, 1602, 1070, 510, 496, 443, 970, 146, 807, 256, 597, 488, 264, 172, 1027, 1165, 1723, 98, 232, 234, 916, 1437, 964, 291, 777, 487, 181, 430, 229, 255, 2807, 280, 998, 257, 1175, 319, 1185, 479, 340, 2392, 162, 270, 451, 547, 916, 298, 100, 185, 715, 360, 188, 151, 200, 473, 357, 225, 221, 1907, 264, 254, 291, 405, 124, 187, 698, 2339, 826, 351, 831, 155, 207, 561, 333, 216, 1546, 178, 296, 196, 202, 368, 358, 105, 478, 252, 148, 791, 780, 2446, 340, 193, 1241, 541, 393, 485, 142, 995, 737, 382, 1436, 315, 3424, 2755, 608, 792, 172, 236, 385, 316, 267, 479, 367, 179, 577, 889, 372, 926, 281, 655, 359, 1914, 166, 239, 546, 1009, 464, 255, 307, 290, 179, 104, 243, 705, 848, 373, 976, 196, 340, 1088, 206, 172, 297, 2758, 239, 452, 318, 1187, 375, 588, 357, 438, 675, 192, 229, 1760, 1259, 255, 521, 1194, 688, 823, 1063, 3434, 134, 1561, 504, 209, 81, 413, 409, 1803, 1423, 610, 539, 786, 1147, 106, 445, 304, 392, 798, 282, 325, 219, 295, 388, 290, 562, 629, 830, 689, 812, 132, 732, 125, 197, 431, 1738, 280, 329, 166, 4738, 141, 2312, 1750, 504, 58, 313, 487, 310, 354, 673, 270, 423, 780, 304, 295, 477, 142, 322, 2062, 597, 116, 706, 382, 426, 473, 242, 293, 914, 289, 840, 772, 599, 199, 199, 434, 508, 321, 313, 370, 501, 324, 514, 1098, 1801, 370, 273, 3031, 162, 238, 276, 127, 389, 192, 490, 152, 1145, 457, 1538, 1105, 306, 289, 372, 515, 155, 442, 517, 84, 211, 118, 496, 503, 434, 404, 135, 449, 397, 1166, 1363, 268, 1302, 525, 161, 508, 366, 179, 179, 2021, 2823, 567, 278, 559, 210, 384, 656, 966, 392, 393, 486, 213, 478, 652, 160, 668, 249, 296, 246, 229, 487, 340, 289, 464, 327, 443, 198, 509, 199, 740, 329, 254, 319, 726, 365, 418, 2666, 405, 465, 148, 1931, 685, 331, 348, 543, 262, 635, 642, 310, 347, 90, 256, 531, 264, 318, 311, 705, 420, 348, 530, 852, 745, 436, 509, 1176, 233, 339, 373, 337, 232, 335, 622, 444, 591, 334, 935, 126, 185, 558, 2662, 585, 365, 203, 170, 405, 791, 538, 112, 784, 177, 509, 367, 279, 508, 1029, 373, 591, 521, 535, 462, 600, 450, 96, 233, 735, 302, 244, 611, 433, 218, 334, 97, 1095, 833, 281, 237, 713, 1158, 412, 294, 942, 669, 1121, 259, 281, 203, 441, 440, 611, 239, 374, 388, 401, 671, 673, 597, 902, 2090, 832, 596, 540, 437, 754, 752, 161, 375, 177, 258, 398, 549, 216, 339, 944, 459, 117, 3047, 576, 2778, 297, 300, 2616, 427, 123, 598, 757, 84, 247, 1347, 855, 1159, 184, 279, 868, 1164, 429, 449, 429, 578, 580, 457, 491, 495, 1860, 192, 734, 452, 847, 127, 320, 428, 341, 527, 371, 392, 475, 545, 444, 94, 523, 2798, 677, 141, 1008, 835, 283, 161, 224, 953, 1200, 1153, 149, 371, 532, 406, 375, 115, 1354, 895, 204, 827, 331, 234, 152, 238, 369, 1266, 357, 257, 320, 599, 567, 1411, 86, 234, 326, 351, 442, 417, 929, 265, 233, 1313, 169, 556, 406, 354, 980, 536, 195, 227, 197, 212, 2056, 847, 322, 427, 1359, 4776, 260, 460, 734, 2446, 211, 1505, 438, 233, 627, 430, 192, 566, 468, 359, 124, 741, 476, 126, 628, 401, 303, 109, 1244, 318, 726, 304, 154, 1751, 152, 2120, 180, 553, 512, 536, 626, 880, 263, 606, 322, 258, 850, 157, 1236, 532, 199, 202, 349, 518, 230, 282, 178, 658, 2539, 527, 1630, 384, 1091, 421, 663, 296, 290, 311, 577, 1624, 173, 148, 529, 1176, 489, 855, 414, 166, 154, 543, 190, 182, 565, 656, 575, 213, 427, 299, 1083, 394, 3402, 306, 429, 1222, 956, 435, 352, 199, 439, 416, 276, 943, 550, 878, 315, 135, 747, 212, 177, 344, 288, 256, 335, 3824, 907, 2687, 482, 331, 306, 211, 1066, 1177, 208, 150, 413, 595, 562, 590, 102, 235, 315, 333, 180, 794, 207, 297, 824, 1354, 389, 379, 259, 1494, 801, 783, 339, 251, 509, 644, 371, 367, 309, 359, 1411, 116, 842, 440, 116, 546, 210, 627, 368, 389, 3333, 492, 184, 327, 296, 342, 198, 563, 625, 329, 204, 210, 173, 881, 334, 264, 496, 935, 728, 1323, 920, 197, 34, 2474, 140, 394, 478, 595, 510, 348, 617, 329, 195, 504, 277, 336, 881, 232, 657, 1800, 153, 1217, 287, 491, 545, 258, 432, 328, 478, 620, 549, 343, 452, 1225, 416, 582, 2090, 1229, 393, 208, 413, 434, 4519, 714, 3433, 1542, 395, 516, 688, 609, 483, 430, 1023, 1169, 354, 3916, 267, 171, 381, 3297, 384, 195, 628, 539, 617, 846, 546, 353, 86, 612, 1433, 1801, 1390, 1204, 477, 535, 80, 237, 350, 330, 199, 468, 168, 310, 377, 1668, 1330, 833, 945, 400, 825, 114, 936, 1967, 1363, 254, 222, 376, 792, 589, 380, 556, 337, 524, 297, 1311, 796, 319, 270, 2715, 1124, 423, 930, 475, 510, 307, 189, 2947, 126, 161, 680, 526, 1834, 888, 213, 592, 519, 196, 313, 158, 351, 2109, 394, 219, 144, 705, 422, 375, 439, 93, 937, 379, 702, 1144, 367, 959, 952, 309, 405, 386, 1127, 1220, 1463, 699, 229, 338, 145, 1121, 363, 593, 2145, 1919, 269, 579, 479, 460, 203, 379, 641, 371, 809, 415, 2591, 255, 772, 290, 4396, 615, 2061, 301, 4991, 254, 738, 825, 354, 116, 184, 153, 477, 611, 175, 2372, 1133, 707, 398, 262, 485, 121, 122, 536, 758, 376, 498, 680, 690, 354, 263, 176, 707, 219, 1128, 379, 309, 938, 3926, 1387, 744, 184, 102, 445, 450, 755, 539, 1628, 285, 865, 859, 231, 462, 257, 854, 282, 276, 425, 277, 523, 874, 317, 588, 924, 389, 536, 575, 533, 525, 200, 448, 324, 417, 171, 247, 405, 420, 229, 959, 231, 301, 389, 4774, 468, 760, 2594, 244, 276, 361, 505, 353, 410, 265, 128, 247, 163, 573, 2183, 870, 345, 615, 866, 1037, 479, 1991, 103, 1139, 375, 258, 913, 1564, 275, 362, 3005, 93, 162, 712, 605, 895, 655, 395, 88, 401, 777, 292, 150, 493, 183, 344, 1187, 176, 2279, 439, 236, 462, 543, 467, 2913, 404, 254, 432, 301, 681, 427, 1006, 137, 106, 483, 761, 473, 275, 1180, 312, 384, 389, 1289, 378, 421, 459, 136, 1119, 262, 788, 289, 533, 411, 170, 579, 832, 648, 1005, 176, 783, 222, 598, 255, 216, 121, 244, 1073, 605, 698, 167, 121, 286, 128, 424, 501, 656, 285, 2265, 800, 338, 146, 1493, 236, 336, 848, 451, 228, 278, 602, 480, 838, 224, 1310, 288, 1210, 161, 773, 573, 566, 759, 314, 418, 103, 1227, 1276, 266, 547, 437, 136, 278, 1966, 409, 293, 1176, 569, 1262, 262, 558, 186, 1916, 212, 521, 332, 491, 994, 180, 486, 324, 221, 1907, 446, 559, 779, 639, 121, 359, 472, 655, 194, 422, 902, 486, 1965, 771, 144, 1648, 236, 109, 445, 148, 95, 765, 645, 524, 459, 1302, 640, 137, 90, 473, 271, 410, 129, 1998, 370, 821, 235, 604, 5620, 525, 285, 311, 213, 322, 619, 216, 1091, 757, 434, 879, 270, 191, 166, 271, 331, 838, 313, 968, 366, 285, 117, 221, 378, 551, 551, 407, 550, 987, 1740, 281, 260, 224, 559, 332, 345, 803, 387, 205, 840, 696, 2557, 597, 425, 1006, 154, 401, 1757, 749, 462, 729, 251, 1153, 505, 442, 379, 401, 1469, 491, 838, 102, 1657, 1016, 1290, 356, 679, 273, 507, 1087, 1139, 254, 456, 176, 606, 548, 192, 1061, 234, 823, 239, 170, 932, 1390, 587, 1012, 107, 174, 200, 146, 547, 526, 201, 363, 117, 282, 314, 282, 793, 392, 337, 219, 501, 489, 623, 306, 993, 179, 797, 574, 193, 1334, 3570, 381, 1555, 301, 650, 646, 326, 389, 524, 155, 410, 1402, 298, 343, 1174, 653, 383, 536, 891, 728, 285, 953, 149, 253, 197, 795, 134, 517, 501, 303, 367, 481, 263, 907, 194, 251, 715, 1292, 1108, 209, 347, 594, 342, 572, 342, 432, 474, 441, 217, 374, 379, 235, 195, 756, 379, 256, 483, 1608, 364, 1633, 447, 800, 194, 670, 2019, 230, 893, 1200, 175, 342, 690, 351, 394, 187, 339, 1124, 1813, 1073, 184, 994, 1067, 3081, 331, 347, 776, 193, 1359, 471, 1725, 198, 307, 3364, 480, 240, 353, 205, 789, 2485, 1193, 328, 284, 267, 527, 263, 435, 251, 363, 258, 206, 866, 201, 737, 1330, 89, 602, 1176, 378, 483, 1246, 1769, 390, 1165, 115, 482, 224, 2609, 352, 893, 963, 398, 201, 182, 473, 119, 1415, 472, 682, 426, 269, 192, 289, 382, 312, 397, 344, 280, 133, 2505, 371, 303, 538, 339, 355, 806, 1011, 268, 386, 2236, 622, 660, 312, 915, 395, 177, 1067, 250, 678, 330, 783, 1756, 420, 136, 458, 552, 217, 272, 1498, 1290, 500, 710, 329, 902, 118, 194, 224, 388, 1110, 277, 118, 416, 141, 348, 204, 1044, 263, 269, 166, 148, 1085, 313, 458, 2079, 276, 505, 505, 687, 628, 266, 452, 393, 4021, 270, 254, 357, 266, 772, 406, 516, 264, 206, 301, 500, 505, 549, 1901, 205, 95, 156, 297, 334, 884, 376, 157, 289, 308, 832, 133, 1424, 957, 320, 1104, 933, 294, 699, 712, 135, 168, 482, 262, 592, 536, 398, 628, 1385, 655, 451, 641, 466, 200, 474, 172, 166, 509, 1486, 1117, 613, 595, 349, 624, 128, 448, 205, 122, 370, 603, 793, 1399, 144, 387, 572, 354, 1365, 647, 1179, 403, 347, 195, 453, 972, 175, 391, 564, 232, 118, 291, 3757, 521, 1123, 1348, 131, 297, 131, 1516, 1009, 617, 324, 316, 212, 715, 217, 761, 902, 755, 1572, 165, 192, 332, 1244, 555, 186, 80, 144, 267, 834, 256, 1061, 579, 139, 392, 474, 216, 202, 209, 174, 1446, 281, 517, 442, 705, 453, 902, 705, 618, 455, 140, 452, 219, 463, 298, 807, 201, 352, 191, 1504, 665, 319, 276, 1439, 807, 294, 415, 933, 109, 291, 1110, 222, 399, 380, 222, 391, 289, 737, 201, 974, 402, 724, 728, 527, 504, 440, 763, 553, 2012, 305, 633, 1447, 136, 411, 266, 316, 1015, 226, 208, 468, 410, 189, 442, 482, 3712, 642, 114, 420, 147, 385, 767, 1786, 1189, 495, 286, 116, 228, 338, 126, 263, 404, 424, 1477, 1852, 529, 1641, 301, 339, 135, 231, 2578, 1839, 204, 469, 622, 251, 865, 413, 889, 148, 1677, 148, 400, 708, 420, 153, 358, 262, 300, 543, 351, 182, 306, 826, 278, 622, 433, 219, 357, 2139, 421, 183, 973, 1797, 271, 299, 296, 165, 604, 2542, 1845, 110, 1663, 356, 3643, 1746, 189, 148, 951, 1130, 541, 656, 7368, 288, 942, 184, 2106, 698, 783, 424, 841, 190, 821, 706, 334, 434, 224, 187, 303, 1367, 809, 240, 1380, 2138, 129, 256, 594, 908, 235, 166, 583, 370, 306, 100, 390, 301, 264, 314, 140, 954, 294, 1216, 285, 257, 369, 556, 203, 724, 337, 1090, 671, 549, 678, 292, 189, 1813, 867, 208, 324, 528, 442, 278, 221, 300, 339, 1195, 136, 359, 231, 1656, 297, 611, 4345, 190, 341, 3019, 253, 261, 1964, 761, 2367, 159, 920, 300, 187, 402, 118, 402, 1550, 1306, 260, 238, 544, 288, 2073, 426, 1202, 252, 3375, 488, 451, 148, 200, 1060, 577, 191, 584, 282, 188, 189, 2941, 394, 497, 313, 546, 493, 633, 338, 434, 1086, 775, 126, 2885, 754, 382, 457, 625, 1214, 82, 460, 320, 276, 1147, 452, 197, 373, 115, 119, 883, 410, 398, 1299, 373, 163, 199, 2623, 243, 933, 157, 250, 481, 229, 1055, 796, 121, 214, 459, 374, 373, 295, 3588, 1399, 2497, 275, 258, 799, 318, 502, 239, 1072, 139, 134, 597, 523, 230, 1618, 541, 1147, 508, 4899, 540, 195, 132, 893, 115, 424, 824, 839, 1284, 145, 3373, 280, 376, 350, 444, 2250, 732, 123, 559, 425, 6495, 135, 160, 1225, 466, 211, 169, 1886, 358, 470, 226, 825, 360, 320, 695, 412, 922, 304, 205, 536, 3269, 395, 563, 599, 228, 167, 380, 1012, 135, 142, 611, 183, 876, 306, 248, 1508, 345, 1044, 223, 211, 378, 140, 313, 555, 232, 412, 316, 196, 1012, 863, 463, 267, 2408, 325, 722, 392, 435, 177, 942, 157, 186, 196, 220, 676, 389, 2167, 252, 699, 985, 179, 643, 108, 386, 393, 555, 398, 327, 754, 141, 458, 2235, 330, 543, 469, 985, 524, 168, 113, 593, 1540, 910, 356, 637, 254, 1531, 354, 746, 344, 763, 554, 1111, 344, 506, 408, 791, 466, 236, 539, 453, 458, 744, 365, 1435, 3149, 917, 848, 525, 1050, 230, 221, 84, 253, 550, 977, 706, 1042, 487, 404, 223, 310, 3072, 300, 594, 215, 100, 182, 256, 621, 514, 807, 103, 354, 208, 183, 144, 3775, 190, 219, 1510, 481, 141, 232, 486, 574, 347, 1144, 441, 413, 530, 1414, 450, 184, 184, 290, 401, 3557, 389, 2758, 378, 269, 676, 201, 881, 293, 303, 185, 717, 214, 110, 97, 677, 254, 369, 142, 425, 876, 144, 802, 435, 882, 290, 1466, 1914, 1676, 513, 1198, 142, 1506, 315, 1039, 794, 147, 83, 444, 195, 174, 789, 602, 510, 150, 203, 331, 283, 207, 1206, 401, 1865, 243, 742, 787, 106, 467, 137, 1282, 1910, 1051, 175, 351, 734, 750, 357, 476, 275, 68, 906, 263, 473, 768, 826, 356, 266, 402, 713, 1715, 267, 170, 4070, 1044, 235, 299, 331, 213, 171, 214, 452, 627, 717, 768, 880, 200, 503, 268, 615, 279, 574, 296, 385, 377, 501, 148, 141, 427, 302, 162, 2408, 309, 767, 309, 836, 227, 320, 189, 526, 1332, 1889, 320, 735, 150, 279, 325, 513, 1371, 705, 1134, 217, 410, 418, 146, 1194, 466, 797, 1388, 490, 211, 742, 237, 1169, 1765, 1413, 285, 110, 150, 97, 180, 308, 608, 339, 245, 692, 464, 939, 3280, 200, 282, 133, 456, 107, 2780, 320, 439, 348, 2039, 272, 2118, 196, 201, 1241, 408, 428, 140, 782, 412, 300, 403, 559, 739, 264, 528, 381, 240, 212, 159, 357, 295, 190, 166, 672, 324, 916, 366, 372, 152, 131, 639, 678, 329, 298, 224, 1083, 247, 288, 291, 148, 1037, 502, 1255, 1141, 330, 3150, 1007, 344, 206, 471, 344, 265, 467, 790, 572, 432, 418, 510, 192, 463, 663, 961, 248, 1737, 548, 285, 484, 386, 712, 478, 1186, 202, 896, 175, 166, 472, 248, 739, 445, 108, 200, 1289, 384, 598, 477, 1031, 481, 1137, 320, 260, 554, 391, 184, 521, 1357, 579, 322, 416, 638, 205, 471, 360, 343, 1640, 4871, 427, 179, 292, 511, 165, 158, 599, 141, 182, 821, 535, 135, 3516, 681, 529, 173, 847, 1181, 340, 125, 503, 266, 530, 472, 524, 546, 428, 1020, 267, 331, 358, 1159, 1331, 322, 387, 1058, 581, 625, 2143, 200, 812, 457, 536, 669, 307, 371, 342, 219, 958, 1009, 184, 435, 451, 371, 660, 200, 558, 481, 1951, 523, 441, 386, 328, 265, 1579, 338, 403, 200, 2927, 171, 311, 83, 429, 156, 614, 987, 2362, 404, 140, 68, 271, 1041, 133, 385, 465, 224, 224, 266, 444, 2163, 405, 3999, 307, 396, 265, 2274, 890, 167, 142, 264, 512, 577, 697, 2045, 194, 366, 631, 488, 199, 690, 563, 193, 344, 400, 1064, 146, 283, 361, 619, 486, 2479, 266, 2964, 1329, 526, 720, 960, 310, 253, 697, 184, 3213, 277, 650, 652, 561, 892, 537, 152, 988, 934, 333, 1527, 900, 503, 490, 473, 521, 387, 443, 730, 353, 179, 551, 172, 370, 400, 282, 1502, 1913, 668, 787, 833, 206, 146, 539, 1265, 383, 142, 246, 1164, 1120, 1061, 224, 1114, 505, 343, 173, 798, 640, 299, 584, 3229, 280, 234, 424, 102, 181, 359, 361, 543, 589, 365, 366, 567, 270, 340, 1125, 665, 736, 426, 372, 552, 325, 247, 479, 572, 166, 366, 258, 417, 197, 194, 659, 340, 407, 1002, 109, 572, 354, 507, 850, 98, 221, 267, 197, 811, 437, 273, 1547, 206, 64, 1245, 404, 371, 1911, 406, 235, 1629, 271, 314, 990, 241, 567, 669, 408, 708, 151, 316, 932, 527, 506, 1911, 114, 922, 482, 272, 253, 618, 459, 271, 208, 982, 290, 1678, 194, 416, 233, 380, 620, 675, 1233, 1140, 152, 1129, 622, 490, 575, 361, 454, 2198, 510, 257, 307, 394, 306, 664, 107, 206, 213, 496, 458, 88, 612, 696, 229, 268, 550, 444, 110, 402, 992, 238, 1051, 207, 905, 525, 630, 572, 467, 252, 104, 450, 481, 1669, 169, 236, 436, 691, 192, 1707, 651, 857, 253, 165, 196, 162, 904, 178, 625, 487, 182, 705, 3527, 213, 1004, 372, 835, 339, 335, 165, 356, 567, 501, 337, 221, 315, 1040, 372, 3349, 691, 455, 412, 263, 713, 295, 291, 1350, 715, 327, 125, 156, 673, 675, 720, 487, 1549, 197, 174, 432, 798, 602, 432, 208, 625, 1972, 221, 251, 131, 3801, 169, 549, 306, 242, 842, 681, 561, 559, 1019, 1200, 481, 261, 1245, 152, 1033, 513, 530, 334, 466, 409, 636, 623, 242, 356, 183, 427, 457, 192, 271, 1189, 284, 1016, 210, 396, 1562, 543, 278, 342, 291, 406, 442, 318, 340, 1487, 794, 2575, 567, 370, 707, 333, 664, 799, 422, 131, 310, 219, 194, 320, 603, 587, 1453, 1257, 544, 343, 294, 173, 452, 1393, 760, 449, 462, 71, 907, 1606, 6470, 484, 328, 1012, 1346, 166, 128, 330, 262, 553, 771, 207, 170, 702, 264, 614, 679, 343, 2120, 341, 1052, 80, 335, 469, 1995, 349, 446, 277, 491, 601, 198, 286, 290, 467, 1851, 730, 659, 239, 317, 812, 112, 144, 330, 835, 475, 202, 1103, 434, 214, 5645, 1208, 452, 389, 100, 156, 177, 311, 363, 576, 862, 156, 188, 4378, 132, 127, 102, 218, 401, 240, 179, 212, 257, 663, 421, 501, 417, 630, 781, 695, 1145, 336, 398, 430, 305, 289, 175, 386, 258, 363, 349, 242, 568, 370, 407, 194, 514, 396, 421, 530, 1601, 2364, 467, 1071, 821, 525, 760, 299, 252, 941, 406, 273, 614, 231, 161, 308, 367, 218, 382, 395, 1173, 1129, 924, 226, 607, 663, 514, 128, 332, 302, 243, 541, 131, 371, 160, 495, 158, 2721, 203, 139, 189, 518, 494, 1444, 349, 228, 928, 468, 70, 687, 346, 714, 501, 209, 1043, 368, 235, 838, 97, 284, 346, 448, 708, 537, 276, 432, 382, 1264, 429, 514, 1080, 304, 182, 840, 490, 450, 515, 471, 671, 344, 371, 1161, 312, 15645, 1295, 83, 294, 184, 349, 226, 428, 885, 536, 1210, 181, 489, 314, 2126, 1611, 324, 360, 446, 542, 152, 227, 197, 357, 2074, 221, 233, 709, 312, 84, 638, 138, 508, 269, 834, 160, 228, 193, 549, 948, 509, 236, 3113, 489, 429, 135, 758, 335, 174, 173, 583, 488, 277, 339, 387, 299, 134, 280, 972, 494, 1176, 830, 704, 260, 360, 3348, 731, 246, 531, 210, 1608, 1873, 526, 658, 1678, 540, 119, 803, 95, 634, 645, 445, 453, 283, 336, 337, 602, 825, 721, 89, 269, 795, 267, 555, 782, 373, 296, 716, 1460, 878, 1166, 742, 1869, 823, 212, 539, 409, 203, 234, 318, 577, 276, 550, 755, 277, 161, 898, 1335, 3542, 417, 280, 249, 577, 213, 352, 232, 2699, 169, 654, 477, 2136, 312, 208, 255, 751, 494, 287, 207, 231, 158, 188, 263, 166, 415, 2002, 1277, 1559, 285, 166, 341, 1149, 179, 590, 358, 452, 204, 515, 1025, 870, 232, 254, 146, 162, 167, 273, 610, 4383, 686, 526, 675, 330, 421, 178, 500, 2382, 314, 1261, 1145, 336, 241, 319, 449, 235, 238, 947, 1129, 4046, 902, 375, 186, 302, 199, 949, 272, 1265, 506, 976, 521, 652, 121, 179, 1149, 137, 455, 579, 490, 284, 353, 831, 186, 324, 259, 415, 275, 143, 318, 785, 591, 181, 419, 150, 829, 566, 294, 3795, 2128, 480, 207, 620, 253, 251, 1023, 188, 630, 935, 57, 377, 1203, 533, 572, 293, 260, 416, 684, 816, 235, 81, 686, 368, 180, 761, 158, 313, 336, 139, 986, 824, 361, 254, 1308, 358, 623, 392, 822, 323, 295, 282, 784, 1006, 415, 474, 591, 222, 242, 146, 450, 453, 296, 547, 122, 229, 378, 332, 493, 635, 761, 295, 243, 243, 944, 765, 119, 248, 863, 319, 741, 853, 808, 387, 1067, 281, 302, 221, 716, 1546, 344, 672, 812, 1219, 2508, 834, 529, 252, 179, 720, 390, 427, 500, 605, 413, 274, 392, 542, 232, 1732, 1577, 278, 837, 170, 305, 1291, 192, 504, 613, 699, 340, 1353, 514, 371, 573, 191, 250, 3500, 1187, 239, 389, 185, 421, 151, 571, 923, 698, 466, 1350, 1337, 76, 863, 808, 166, 299, 298, 265, 144, 785, 366, 1029, 498, 173, 700, 391, 209, 736, 1139, 100, 418, 252, 697, 327, 270, 312, 317, 813, 552, 295, 716, 854, 484, 806, 1251, 555, 303, 351, 1795, 225, 377, 455, 895, 537, 609, 832, 106, 204, 1477, 374, 1314, 432, 1329, 318, 512, 1829, 592, 569, 177, 1606, 294, 629, 217, 209, 227, 295, 704, 786, 718, 936, 543, 810, 482, 281, 514, 735, 1130, 1080, 283, 426, 173, 1021, 122, 193, 157, 219, 940, 215, 4447, 168, 4095, 348, 281, 536, 167, 338, 505, 584, 2280, 908, 309, 148, 1858, 149, 105, 1997, 162, 442, 1355, 154, 310, 1233, 1239, 486, 789, 403, 562, 955, 355, 417, 2054, 192, 386, 160, 321, 194, 399, 1261, 221, 273, 285, 276, 607, 2423, 475, 252, 394, 182, 1211, 457, 450, 327, 141, 442, 438, 244, 224, 391, 303, 391, 239, 1239, 2374, 1093, 273, 520, 1643, 486, 157, 125, 150, 1169, 211, 552, 498, 4491, 146, 718, 702, 471, 133, 1124, 874, 863, 561, 329, 323, 573, 993, 542, 208, 325, 377, 181, 641, 785, 534, 590, 895, 147, 553, 623, 323, 262, 3214, 609, 1404, 1844, 548, 155, 1361, 791, 316, 142, 282, 409, 2193, 1727, 893, 483, 240, 686, 271, 2824, 1785, 322, 1239, 980, 212, 502, 591, 1160, 252, 235, 328, 280, 721, 308, 351, 261, 520, 984, 2120, 286, 670, 236, 403, 570, 395, 469, 262, 199, 330, 1445, 501, 247, 345, 380, 244, 163, 134, 174, 267, 196, 1594, 1217, 235, 3423, 1140, 508, 198, 305, 261, 346, 218, 373, 783, 1442, 196, 258, 105, 1533, 1670, 206, 164, 655, 269, 580, 612, 181, 99, 306, 991, 949, 507, 204, 327, 2056, 308, 83, 135, 225, 273, 530, 107, 158, 996, 557, 612, 436, 213, 691, 3890, 235, 1133, 468, 439, 129, 251, 353, 479, 315, 364, 1130, 581, 3424, 307, 2213, 436, 1376, 393, 632, 227, 463, 822, 848, 385, 263, 248, 2866, 121, 154, 579, 113, 123, 185, 380, 303, 372, 294, 223, 173, 473, 286, 558, 676, 87, 473, 237, 207, 112, 95, 230, 1325, 453, 1395, 471, 2712, 1037, 262, 311, 310, 228, 759, 188, 142, 1850, 479, 284, 264, 618, 523, 780, 550, 422, 299, 151, 234, 826, 1082, 198, 240, 599, 263, 491, 638, 176, 427, 394, 842, 232, 210, 383, 328, 175, 356, 656, 650, 319, 391, 170, 1534, 1863, 1193, 897, 108, 766, 335, 440, 500, 392, 296, 351, 851, 171, 877, 316, 284, 198, 220, 495, 134, 602, 274, 310, 2612, 1775, 244, 450, 386, 374, 895, 204, 362, 413, 218, 213, 617, 276, 637, 227, 116, 137, 530, 930, 744, 229, 127, 81, 281, 391, 828, 221, 139, 125, 179, 354, 359, 1235, 1041, 593, 343, 379, 168, 190, 1054, 272, 345, 623, 171, 3002, 208, 249, 164, 239, 965, 403, 92, 785, 205, 102, 185, 245, 272, 311, 913, 439, 359, 309, 677, 1297, 749, 275, 193, 805, 261, 510, 768, 641, 364, 134, 364, 948, 603, 132, 307, 147, 133, 857, 341, 429, 370, 138, 768, 1125, 1327, 333, 820, 509, 271, 1259, 457, 345, 198, 2032, 1124, 881, 779, 1663, 319, 226, 581, 339, 689, 192, 500, 2033, 343, 143, 632, 454, 519, 385, 355, 357, 155, 154, 190, 557, 490, 259, 880, 212, 634, 149, 630, 217, 421, 774, 405, 1303, 578, 3006, 277, 212, 202, 419, 332, 777, 163, 718, 376, 426, 320, 193, 2057, 638, 285, 155, 175, 216, 224, 658, 938, 2220, 111, 579, 669, 119, 1905, 434, 129, 201, 102, 568, 964, 965, 404, 193, 298, 272, 379, 175, 348, 286, 422, 579, 126, 3013, 343, 485, 676, 1515, 727, 99, 1446, 365, 514, 1441, 599, 176, 233, 207, 1424, 119, 1587, 643, 466, 718, 281, 1138, 521, 513, 643, 571, 712, 311, 408, 777, 700, 570, 457, 4271, 420, 913, 520, 146, 377, 4232, 278, 167, 324, 715, 139, 899, 801, 174, 572, 167, 609, 858, 511, 1003, 191, 460, 451, 259, 1046, 290, 2314, 131, 3807, 451, 809, 682, 446, 1216, 158, 186, 394, 574, 1597, 307, 3042, 446, 388, 885, 1624, 1487, 137, 361, 752, 378, 915, 1393, 653, 246, 367, 603, 1252, 228, 602, 533, 283, 525, 192, 562, 4741, 439, 264, 193, 497, 636, 141, 433, 355, 436, 513, 421, 162, 1331, 227, 161, 142, 596, 4293, 226, 393, 301, 373, 330, 730, 201, 610, 1148, 260, 265, 1041, 554, 506, 327, 2020, 494, 810, 213, 66, 316, 312, 300, 564, 419, 1952, 500, 281, 451, 300, 433, 668, 552, 230, 641, 2247, 204, 407, 202, 438, 1444, 754, 175, 568, 779, 260, 336, 559, 625, 495, 1231, 528, 160, 1648, 266, 1169, 465, 615, 168, 1000, 384, 743, 329, 501, 161, 530, 3721, 505, 201, 278, 603, 136, 275, 92, 264, 385, 139, 3185, 409, 380, 489, 231, 523, 1085, 362, 1318, 272, 284, 2694, 377, 2508, 1506, 155, 407, 139, 716, 419, 480, 745, 326, 208, 399, 220, 2743, 752, 233, 144, 1077, 356, 3805, 235, 193, 393, 1776, 267, 521, 917, 67, 255, 279, 129, 609, 352, 2054, 720, 770, 159, 820, 672, 2182, 293, 270, 507, 300, 280, 3751, 188, 536, 155, 747, 346, 1075, 536, 636, 246, 424, 4076, 806, 668, 536, 906, 332, 809, 422, 633, 1015, 291, 3971, 357, 4015, 508, 350, 1183, 1067, 1676, 841, 162, 820, 478, 263, 258, 544, 392, 547, 1839, 460, 373, 850, 259, 359, 376, 383, 258, 762, 922, 125, 298, 239, 612, 277, 363, 547, 1428, 273, 889, 565, 4732, 509, 303, 131, 134, 415, 783, 346, 271, 93, 903, 229, 181, 355, 825, 636, 460, 233, 313, 179, 725, 307, 449, 174, 118, 1590, 389, 219, 442, 322, 574, 312, 651, 189, 268, 172, 811, 1978, 4198, 482, 137, 344, 784, 210, 190, 260, 236, 173, 230, 523, 254, 357, 354, 88, 369, 700, 192, 340, 1340, 759, 803, 572, 565, 814, 574, 1049, 458, 908, 317, 179, 106, 561, 199, 189, 691, 781, 809, 440, 313, 459, 333, 497, 405, 373, 526, 112, 376, 426, 2165, 317, 216, 260, 70, 172, 300, 493, 194, 415, 162, 896, 2184, 1057, 304, 201, 402, 362, 474, 1174, 274, 315, 2640, 307, 917, 180, 358, 2508, 150, 3457, 87, 142, 1224, 1072, 677, 539, 486, 426, 368, 187, 389, 182, 238, 459, 1195, 188, 282, 240, 2427, 1051, 347, 237, 808, 620, 436, 614, 1637, 3558, 552, 308, 1155, 367, 379, 562, 1038, 233, 1036, 424, 262, 1422, 140, 854, 294, 523, 412, 1862, 326, 252, 275, 566, 288, 173, 1148, 1234, 370, 267, 1332, 352, 423, 378, 204, 553, 2080, 359, 454, 835, 209, 155, 717, 57, 533, 426, 2043, 835, 473, 171, 413, 125, 564, 486, 468, 159, 435, 473, 790, 529, 153, 374, 529, 317, 239, 714, 292, 583, 324, 576, 686, 758, 697, 3635, 528, 298, 325, 593, 1809, 785, 677, 410, 320, 198, 229, 213, 653, 474, 770, 209, 315, 909, 174, 588, 138, 241, 441, 434, 240, 173, 436, 829, 571, 3405, 1021, 215, 1666, 54, 1348, 312, 678, 637, 1705, 816, 438, 951, 982, 205, 312, 492, 696, 731, 618, 308, 937, 320, 347, 2183, 195, 343, 518, 163, 437, 588, 5704, 353, 188, 1039, 425, 820, 364, 322, 656, 600, 461, 399, 602, 428, 398, 713, 321, 1060, 525, 313, 801, 428, 822, 2189, 247, 203, 369, 82, 398, 222, 964, 991, 362, 682, 1032, 524, 317, 542, 261, 374, 298, 429, 1190, 424, 337, 563, 348, 506, 549, 550, 839, 282, 747, 723, 145, 536, 642, 647, 444, 329, 331, 624, 249, 221, 438, 531, 314, 309, 582, 239, 615, 438, 469, 775, 679, 619, 643, 236, 577, 553, 1081, 496, 1131, 356, 613, 700, 658, 588, 491, 189, 2165, 509, 222, 234, 196, 158, 2829, 1607, 186, 456, 233, 299, 252, 405, 1066, 472, 426, 460, 58, 303, 330, 315, 3647, 84, 322, 404, 2881, 984, 745, 437, 444, 217, 617, 3009, 399, 1762, 523, 494, 538, 214, 252, 376, 437, 1642, 247, 405, 2646, 185, 307, 300, 540, 2030, 1539, 126, 983, 396, 452, 232, 507, 3279, 629, 936, 4510, 318, 329, 183, 139, 602, 456, 187, 904, 552, 322, 706, 884, 604, 407, 440, 169, 296, 1220, 821, 474, 335, 155, 253, 468, 206, 292, 460, 402, 189, 293, 1088, 169, 327, 1308, 2157, 163, 236, 479, 204, 396, 1445, 589, 671, 258, 117, 311, 1424, 411, 94, 998, 991, 129, 328, 595, 402, 637, 215, 275, 244, 308, 286, 312, 165, 307, 353, 649, 198, 292, 1782, 202, 640, 237, 524, 217, 581, 210, 896, 444, 703, 208, 314, 832, 288, 572, 636, 898, 112, 640, 371, 1008, 111, 148, 157, 340, 3359, 294, 243, 260, 2079, 163, 434, 270, 173, 175, 670, 276, 782, 258, 234, 430, 1121, 524, 2453, 101, 514, 960, 444, 3331, 240, 229, 193, 292, 844, 245, 226, 280, 708, 335, 171, 350, 272, 518, 250, 196, 378, 615, 168, 591, 2260, 358, 902, 1332, 2755, 274, 614, 834, 205, 281, 365, 452, 412, 1238, 553, 1508, 261, 302, 325, 201, 1788, 326, 233, 484, 404, 169, 306, 232, 514, 334, 141, 614, 174, 411, 483, 208, 124, 351, 4053, 1486, 746, 154, 644, 207, 1364, 243, 208, 887, 308, 150, 975, 247, 676, 721, 445, 567, 1111, 322, 944, 1604, 144, 177, 158, 347, 230, 1796, 758, 146, 699, 197, 249, 351, 123, 594, 1481, 581, 254, 1680, 1015, 261, 125, 344, 678, 2557, 926, 243, 916, 425, 1213, 1519, 110, 647, 559, 163, 390, 360, 82, 358, 824, 277, 156, 818, 276, 1055, 503, 363, 311, 415, 1567, 206, 502, 857, 217, 440, 801, 337, 526, 673, 595, 197, 123, 158, 542, 275, 215, 189, 363, 172, 379, 758, 128, 1181, 179, 698, 505, 342, 90, 519, 168, 213, 128, 188, 317, 844, 202, 108, 573, 818, 1114, 212, 342, 443, 1060, 674, 530, 602, 286, 178, 380, 215, 733, 266, 673, 1263, 148, 1171, 161, 153, 203, 226, 397, 1513, 548, 779, 1407, 464, 479, 222, 150, 526, 180, 3834, 507, 3701, 523, 209, 206, 925, 258, 489, 400, 715, 298, 408, 1354, 399, 812, 432, 2698, 337, 867, 1110, 533, 1403, 370, 358, 344, 755, 326, 332, 683, 210, 448, 420, 435, 804, 374, 214, 310, 912, 606, 1051, 394, 135, 580, 2351, 898, 462, 700, 761, 859, 1015, 491, 339, 235, 2443, 241, 333, 816, 301, 134, 1340, 150, 431, 335, 584, 500, 755, 302, 704, 1061, 745, 529, 224, 757, 260, 366, 1280, 1003, 165, 253, 408, 108, 1436, 653, 1201, 205, 329, 191, 321, 237, 1774, 1109, 322, 655, 453, 360, 3070, 148, 431, 905, 338, 3474, 481, 862, 250, 398, 556, 519, 62, 749, 2294, 2667, 990, 747, 364, 648, 426, 632, 244, 1214, 355, 319, 1412, 664, 245, 384, 1048, 152, 367, 525, 821, 5078, 880, 532, 502, 278, 229, 286, 1522, 536, 324, 632, 491, 856, 311, 864, 222, 523, 1499, 173, 106, 1420, 109, 203, 433, 866, 264, 236, 627, 152, 1101, 1063, 552, 132, 219, 241, 1155, 231, 509, 1049, 660, 162, 819, 1048, 222, 688, 1733, 158, 438, 572, 406, 568, 357, 424, 215, 214, 2218, 5455, 934, 383, 2686, 401, 687, 1614, 569, 161, 761, 474, 449, 959, 1073, 524, 486, 1252, 563, 634, 746, 519, 698, 232, 203, 666, 273, 290, 503, 5465, 203, 366, 234, 439, 661, 598, 277, 353, 292, 144, 132, 615, 169, 461, 269, 532, 404, 164, 776, 449, 702, 334, 1310, 421, 777, 874, 153, 428, 382, 4101, 349, 227, 513, 278, 92, 1197, 244, 812, 440, 505, 330, 188, 342, 417, 771, 135, 448, 145, 696, 498, 203, 363, 200, 217, 356, 735, 184, 932, 260, 488, 193, 2268, 300, 269, 466, 1189, 684, 495, 1011, 937, 237, 4152, 653, 356, 1705, 181, 555, 614, 263, 181, 709, 2098, 467, 178, 412, 898, 443, 124, 805, 141, 357, 331, 603, 144, 138, 1317, 260, 147, 252, 334, 1159, 102, 359, 245, 178, 657, 310, 428, 463, 162, 549, 230, 3450, 250, 532, 308, 656, 240, 578, 464, 1378, 1097, 309, 151, 2170, 599, 439, 610, 286, 190, 554, 242, 173, 387, 293, 684, 277, 381, 232, 260, 855, 344, 576, 1593, 472, 321, 1305, 374, 181, 1158, 788, 530, 242, 320, 497, 688, 409, 578, 327, 606, 1053, 512, 839, 524, 191, 225, 439, 1082, 247, 503, 517, 700, 316, 745, 487, 597, 468, 225, 188, 4570, 729, 1540, 279, 2393, 475, 81, 258, 1240, 91, 253, 359, 384, 289, 450, 836, 391, 382, 2916, 371, 362, 336, 484, 219, 199, 299, 133, 952, 385, 334, 765, 274, 220, 331, 377, 175, 1574, 243, 2499, 437, 1280, 233, 504, 5204, 133, 1241, 138, 386, 316, 133, 2268, 754, 261, 313, 94, 366, 1840, 1381, 178, 1084, 322, 160, 256, 310, 306, 522, 1314, 495, 287, 1711, 459, 259, 209, 524, 200, 1143, 414, 346, 189, 265, 249, 219, 554, 335, 579, 246, 1826, 674, 502, 813, 91, 1726, 421, 420, 580, 291, 571, 611, 591, 413, 363, 688, 716, 583, 433, 839, 440, 278, 116, 930, 357, 216, 231, 496, 1600, 449, 327, 939, 325, 341, 404, 185, 322, 261, 425, 124, 120, 320, 1433, 969, 628, 965, 410, 614, 149, 317, 388, 603, 417, 1037, 143, 460, 185, 301, 861, 186, 571, 274, 841, 267, 451, 319, 315, 307, 949, 142, 439, 236, 748, 301, 627, 2759, 116, 194, 181, 187, 566, 146, 458, 164, 2413, 251, 1314, 153, 378, 392, 1128, 137, 306, 693, 558, 421, 158, 243, 584, 381, 603, 1795, 160, 342, 449, 456, 213, 208, 500, 1466, 544, 431, 755, 214, 503, 520, 466, 177, 171, 189, 824, 492, 319, 426, 171, 224, 675, 284, 505, 1133, 953, 558, 807, 169, 120, 571, 2927, 394, 195, 521, 282, 500, 817, 1074, 701, 345, 1155, 547, 131, 3110, 232, 366, 418, 207, 444, 623, 628, 874, 829, 311, 348, 397, 696, 652, 275, 621, 774, 477, 414, 239, 1619, 130, 129, 215, 262, 255, 479, 222, 243, 532, 448, 389, 529, 210, 910, 253, 1429, 683, 630, 1997, 692, 268, 342, 443, 147, 1885, 923, 409, 115, 322, 274, 315, 1273, 199, 230, 1095, 526, 3161, 279, 153, 289, 393, 460, 2526, 213, 1141, 1337, 512, 742, 847, 254, 326, 1370, 163, 171, 613, 576, 270, 246, 577, 522, 326, 529, 1057, 607, 705, 539, 403, 368, 1277, 171, 221, 152, 437, 488, 507, 163, 979, 4162, 1120, 662, 285, 142, 825, 291, 478, 1869, 438, 353, 465, 673, 986, 1560, 794, 138, 232, 4499, 364, 389, 985, 345, 290, 428, 1014, 390, 184, 224, 991, 497, 333, 254, 386, 1095, 883, 786, 306, 417, 192, 261, 284, 242, 356, 175, 219, 204, 1241, 279, 1245, 499, 204, 1472, 488, 1164, 310, 649, 409, 1861, 144, 152, 793, 896, 1060, 391, 202, 636, 285, 361, 216, 778, 625, 1057, 750, 412, 127, 316, 238, 1004, 486, 144, 2266, 396, 429, 332, 367, 837, 489, 700, 605, 513, 236, 467, 730, 339, 952, 1631, 701, 296, 326, 1067, 384, 214, 498, 311, 475, 688, 174, 265, 2474, 452, 442, 458, 1184, 583, 180, 251, 284, 1006, 312, 393, 364, 953, 309, 733, 551, 692, 807, 114, 365, 205, 1215, 721, 1123, 1023, 316, 289, 254, 699, 413, 1079, 433, 750, 181, 1333, 95, 364, 207, 3877, 267, 289, 434, 386, 940, 277, 617, 167, 1163, 260, 4377, 506, 544, 213, 396, 912, 344, 1007, 739, 5321, 899, 488, 614, 548, 496, 488, 824, 992, 732, 1097, 179, 256, 919, 322, 889, 259, 321, 370, 518, 529, 903, 1792, 254, 704, 128, 416, 255, 193, 219, 104, 168, 262, 258, 437, 294, 972, 292, 361, 768, 2496, 484, 295, 362, 680, 208, 666, 316, 472, 154, 519, 345, 733, 273, 386, 467, 715, 349, 322, 438, 688, 320, 1214, 345, 125, 366, 266, 1646, 382, 462, 252, 186, 142, 277, 1242, 176, 577, 180, 269, 1827, 1055, 263, 1142, 268, 920, 1345, 280, 444, 202, 275, 501, 431, 378, 751, 2069, 3287, 552, 290, 1249, 94, 172, 385, 1074, 355, 548, 758, 1649, 294, 809, 540, 323, 255, 757, 1541, 222, 168, 251, 206, 240, 238, 587, 737, 655, 579, 127, 401, 256, 411, 819, 1304, 1304, 1385, 686, 410, 2015, 436, 424, 300, 160, 155, 363, 330, 302, 461, 244, 301, 271, 221, 628, 671, 598, 923, 768, 646, 472, 454, 196, 511, 305, 152, 567, 320, 1348, 392, 1376, 294, 284, 261, 180, 981, 305, 704, 637, 710, 300, 1742, 556, 765, 704, 560, 135, 1601, 485, 537, 1104, 246, 354, 342, 240, 925, 519, 1181, 193, 357, 491, 3424, 368, 413, 1087, 157, 212, 767, 178, 131, 580, 817, 388, 157, 114, 266, 632, 1370, 559, 170, 990, 483, 193, 790, 874, 255, 604, 237, 376, 1247, 83, 145, 606, 4084, 219, 129, 900, 553, 203, 1734, 213, 1317, 216, 960, 593, 376, 251, 327, 214, 694, 1654, 1266, 353, 410, 297, 521, 330, 395, 401, 310, 441, 431, 198, 213, 303, 151, 1794, 836, 377, 323, 325, 651, 1773, 396, 314, 3155, 487, 421, 540, 470, 922, 507, 560, 694, 389, 206, 731, 2496, 3973, 432, 307, 5563, 799, 513, 189, 950, 2231, 481, 1010, 1952, 173, 658, 565, 701, 206, 145, 589, 118, 436, 2308, 256, 1621, 278, 876, 502, 580, 1311, 674, 1002, 215, 1505, 328, 412, 4447, 1358, 426, 179, 263, 279, 1339, 303, 216, 324, 731, 203, 865, 625, 806, 698, 122, 412, 111, 413, 1308, 522, 359, 552, 4426, 967, 291, 272, 388, 417, 1823, 167, 304, 426, 270, 625, 1092, 809, 378, 1135, 798, 1145, 301, 339, 323, 394, 420, 208, 320, 207, 934, 479, 411, 442, 440, 194, 2105, 486, 533, 207, 703, 552, 732, 180, 604, 1363, 652, 482, 227, 146, 245, 1935, 257, 372, 1033, 342, 315, 1181, 175, 329, 243, 836, 1784, 316, 254, 218, 1765, 825, 177, 200, 684, 688, 323, 387, 388, 1521, 256, 636, 467, 230, 611, 218, 1180, 1131, 332, 958, 651, 1187, 1597, 417, 471, 615, 376, 230, 657, 165, 312, 859, 476, 56, 861, 318, 365, 367, 1039, 588, 582, 276, 1670, 272, 926, 351, 120, 520, 133, 2571, 1068, 469, 104, 1485, 270, 229, 1866, 699, 305, 346, 3156, 1012, 1755, 259, 559, 521, 2012, 600, 170, 522, 691, 418, 732, 216, 438, 606, 478, 196, 312, 1057, 1091, 224, 135, 1748, 640, 1212, 792, 176, 312, 240, 139, 153, 87, 680, 365, 2860, 108, 718, 366, 4114, 634, 750, 443, 212, 269, 839, 769, 423, 893, 232, 254, 397, 982, 5285, 516, 337, 344, 459, 625, 447, 270, 243, 570, 425, 1010, 798, 2956, 623, 229, 205, 221, 347, 358, 361, 368, 462, 1098, 643, 504, 490, 108, 219, 1030, 277, 276, 1508, 139, 236, 824, 319, 848, 665, 807, 421, 178, 284, 395, 273, 153, 547, 633, 731, 719, 677, 695, 529, 996, 732, 478, 145, 346, 257, 229, 390, 1098, 820, 549, 614, 359, 176, 632, 703, 1065, 1398, 362, 916, 523, 995, 271, 556, 900, 269, 263, 302, 268, 956, 254, 423, 676, 156, 1281, 233, 555, 174, 1812, 595, 1147, 527, 182, 454, 131, 1040, 196, 1388, 125, 527, 454, 1615, 305, 88, 523, 399, 1018, 267, 464, 718, 1128, 410, 156, 400, 326, 841, 896, 571, 620, 173, 267, 590, 463, 993, 238, 1090, 611, 539, 342, 364, 4054, 325, 1644, 510, 256, 355, 281, 917, 1099, 1781, 549, 378, 123, 517, 1115, 661, 231, 356, 624, 547, 629, 300, 966, 986, 428, 518, 87, 1673, 715, 794, 336, 158, 374, 398, 386, 1292, 317, 212, 415, 886, 160, 617, 812, 264, 538, 1299, 1012, 256, 115, 103, 1547, 261, 386, 190, 506, 510, 524, 240, 437, 190, 136, 347, 232, 265, 458, 833, 204, 456, 178, 685, 509, 145, 239, 833, 2488, 1107, 186, 255, 418, 277, 68, 628, 587, 226, 541, 537, 453, 431, 410, 244, 298, 987, 389, 325, 413, 170, 486, 269, 332, 1395, 309, 480, 339, 405, 146, 163, 198, 817, 452, 249, 1778, 292, 82, 1135, 345, 390, 302, 223, 349, 418, 1614, 735, 330, 667, 322, 121, 547, 186, 105, 2696, 346, 610, 919, 167, 681, 752, 255, 250, 860, 446, 501, 2945, 500, 205, 879, 572, 596, 831, 202, 195, 276, 919, 170, 148, 568, 944, 586, 994, 750, 105, 502, 340, 207, 824, 823, 246, 1020, 350, 250, 333, 760, 421, 260, 274, 196, 681, 405, 852, 145, 213, 547, 340, 269, 525, 834, 157, 4597, 233, 231, 559, 1066, 703, 1036, 241, 854, 221, 278, 610, 1805, 419, 1034, 271, 738, 441, 295, 217, 237, 255, 2221, 274, 334, 481, 413, 222, 80, 282, 486, 1535, 929, 229, 497, 253, 238, 403, 1131, 596, 245, 1195, 208, 600, 508, 585, 412, 83, 897, 2351, 736, 466, 397, 1187, 661, 267, 2904, 618, 678, 311, 254, 142, 186, 691, 706, 844, 211, 1545, 662, 173, 634, 406, 162, 259, 735, 421, 1051, 3422, 1028, 288, 171, 813, 231, 202, 172, 618, 420, 356, 339, 346, 306, 373, 585, 483, 769, 1029, 443, 474, 251, 613, 568, 333, 3315, 1361, 1489, 126, 270, 132, 140, 101, 160, 431, 320, 220, 786, 226, 528, 209, 1935, 93, 318, 596, 386, 519, 689, 467, 316, 463, 401, 1188, 1428, 184, 1116, 1702, 589, 289, 455, 275, 226, 237, 606, 320, 501, 4033, 742, 303, 811, 100, 428, 666, 151, 236, 679, 634, 827, 116, 405, 1239, 2079, 1054, 467, 695, 340, 224, 696, 153, 694, 534, 385, 229, 411, 396, 653, 492, 560, 768, 147, 3287, 133, 584, 517, 582, 1480, 666, 707, 1713, 324, 2183, 212, 1125, 392, 2246, 378, 455, 339, 729, 373, 1829, 390, 422, 433, 403, 433, 166, 624, 1529, 212, 191, 245, 887, 143, 380, 1773, 318, 220, 380, 1680, 471, 477, 364, 261, 523, 1135, 808, 629, 104, 1588, 2445, 373, 348, 165, 1711, 469, 598, 435, 2533, 473, 247, 128, 216, 516, 228, 289, 1518, 257, 553, 716, 435, 201, 336, 624, 888, 320, 489, 257, 404, 232, 1070, 866, 281, 529, 627, 294, 145, 234, 296, 3606, 431, 952, 548, 521, 804, 1518, 450, 664, 292, 416, 1626, 241, 385, 454, 894, 382, 302, 604, 339, 369, 995, 502, 458, 490, 430, 842, 3033, 355, 367, 320, 426, 1357, 374, 543, 304, 2138, 379, 971, 445, 355, 373, 806, 1014, 654, 528, 69, 471, 603, 325, 228, 1527, 756, 178, 126, 169, 282, 173, 244, 405, 500, 365, 126, 924, 728, 876, 234, 2232, 317, 492, 460, 975, 376, 238, 915, 303, 1239, 545, 292, 122, 387, 638, 483, 541, 1064, 880, 227, 225, 357, 1267, 792, 206, 179, 116, 766, 1662, 330, 966, 1555, 1091, 399, 463, 300, 332, 299, 163, 1410, 844, 425, 147, 639, 3046, 441, 691, 361, 1208, 1636, 695, 639, 1155, 1319, 458, 347, 894, 1236, 373, 318, 2423, 219, 1360, 404, 310, 1809, 601, 546, 498, 1455, 379, 360, 232, 688, 404, 567, 545, 254, 586, 1192, 727, 296, 344, 334, 188, 196, 685, 261, 126, 373, 183, 450, 191, 405, 1097, 371, 423, 716, 682, 533, 340, 1025, 514, 906, 187, 96, 821, 614, 5834, 367, 220, 625, 272, 2096, 591, 517, 317, 826, 5420, 311, 611, 62, 298, 440, 2643, 564, 2622, 487, 225, 256, 159, 1326, 199, 501, 688, 1420, 466, 405, 283, 1904, 697, 384, 233, 205, 2365, 620, 440, 229, 332, 1001, 634, 435, 554, 1262, 1150, 288, 577, 282, 634, 438, 198, 567, 450, 197, 207, 170, 279, 1183, 1883, 1919, 369, 311, 1531, 193, 309, 256, 947, 512, 235, 635, 862, 217, 341, 242, 177, 1656, 1101, 101, 199, 247, 486, 181, 387, 628, 267, 183, 442, 858, 120, 287, 552, 1615, 611, 339, 354, 613, 631, 107, 232, 712, 386, 369, 135, 233, 330, 794, 414, 1072, 307, 339, 1996, 647, 316, 328, 629, 239, 243, 1088, 940, 383, 559, 156, 692, 1896, 343, 561, 614, 309, 117, 80, 288, 253, 168, 1335, 238, 207, 209, 243, 1008, 536, 242, 211, 860, 526, 840, 261, 826, 560, 356, 1212, 246, 493, 413, 420, 2994, 154, 812, 1915, 3092, 108, 1158, 224, 541, 246, 119, 2027, 467, 467, 514, 329, 1148, 1062, 513, 286, 799, 2838, 108, 226, 223, 1493, 471, 136, 400, 692, 318, 352, 377, 503, 306, 128, 507, 1475, 130, 500, 417, 960, 444, 442, 257, 477, 427, 972, 726, 877, 2185, 492, 1190, 297, 93, 495, 1099, 422, 387, 191, 667, 238, 797, 300, 418, 409, 267, 265, 325, 415, 215, 223, 1778, 303, 439, 1237, 257, 257, 459, 358, 88, 363, 558, 209, 283, 135, 372, 633, 342, 484, 801, 438, 147, 160, 205, 475, 255, 325, 562, 230, 204, 460, 1978, 170, 384, 636, 230, 154, 297, 446, 198, 257, 371, 2059, 1486, 563, 711, 133, 537, 596, 295, 603, 569, 1308, 769, 899, 589, 872, 162, 458, 1190, 366, 518, 212, 1308, 330, 585, 657, 941, 478, 265, 1068, 127, 386, 204, 1557, 524, 231, 648, 356, 533, 289, 256, 737, 677, 347, 294, 97, 163, 222, 249, 674, 830, 80, 321, 780, 148, 1520, 1856, 321, 2096, 410, 471, 698, 674, 216, 591, 225, 160, 1699, 742, 411, 221, 234, 88, 160, 2039, 1419, 228, 369, 516, 352, 273, 371, 257, 230, 307, 285, 1225, 2268, 604, 192, 294, 349, 272, 199, 337, 282, 401, 279, 1597, 244, 207, 400, 272, 3789, 285, 1043, 193, 1333, 155, 619, 572, 707, 270, 1225, 895, 499, 698, 202, 494, 239, 298, 527, 83, 325, 522, 981, 1254, 238, 377, 283, 263, 361, 175, 291, 188, 348, 996, 524, 1035, 326, 263, 476, 141, 207, 233, 1096, 1318, 223, 178, 1726, 695, 421, 405, 318, 335, 1574, 409, 109, 1248, 622, 475, 439, 314, 223, 318, 776, 585, 202, 609, 683, 94, 407, 455, 518, 732, 775, 634, 420, 201, 3196, 552, 419, 303, 630, 212, 347, 267, 522, 785, 248, 211, 443, 248, 184, 538, 330, 45, 636, 1387, 388, 705, 1031, 196, 1043, 134, 698, 498, 221, 134, 215, 190, 698, 851, 270, 92, 256, 560, 544, 193, 176, 4483, 1103, 205, 136, 507, 115, 3169, 403, 456, 340, 1243, 328, 3334, 164, 382, 452, 991, 437, 660, 1862, 446, 381, 261, 418, 1124, 232, 1446, 393, 325, 351, 3781, 1250, 495, 281, 166, 118, 409, 146, 304, 571, 245, 196, 2485, 863, 284, 267, 460, 585, 448, 1106, 213, 541, 1244, 689, 165, 200, 96, 556, 529, 472, 878, 967, 178, 638, 158, 706, 184, 743, 244, 148, 1111, 226, 782, 61, 411, 1937, 198, 595, 681, 1155, 597, 298, 894, 574, 260, 233, 283, 197, 407, 326, 474, 201, 239, 439, 201, 173, 146, 294, 118, 1317, 540, 162, 1108, 412, 144, 535, 248, 2568, 668, 265, 4587, 404, 571, 681, 168, 362, 965, 2060, 700, 501, 339, 525, 534, 762, 140, 326, 303, 147, 367, 2067, 301, 234, 344, 1061, 460, 231, 70, 100, 688, 266, 560, 4878, 322, 233, 794, 1341, 177, 970, 1244, 441, 1068, 154, 1677, 377, 587, 260, 878, 164, 2323, 275, 199, 168, 419, 489, 389, 462, 262, 361, 832, 636, 585, 419, 347, 176, 927, 316, 649, 786, 868, 631, 850, 327, 316, 380, 1639, 319, 370, 435, 1099, 213, 434, 259, 325, 273, 401, 601, 171, 152, 991, 210, 351, 165, 248, 1558, 398, 2149, 248, 1429, 1113, 99, 439, 1036, 655, 658, 894, 430, 316, 470, 662, 768, 397, 2227, 520, 306, 221, 450, 653, 244, 515, 528, 241, 302, 1565, 196, 442, 455, 363, 92, 129, 1218, 497, 890, 174, 1127, 305, 316, 614, 965, 226, 320, 425, 314, 1334, 1084, 836, 808, 375, 650, 121, 152, 410, 837, 1354, 929, 319, 384, 1132, 434, 961, 379, 178, 373, 636, 258, 815, 1181, 343, 664, 331, 207, 214, 999, 744, 528, 570, 746, 468, 405, 1138, 223, 1184, 396, 515, 278, 416, 1464, 502, 1015, 325, 983, 253, 599, 767, 187, 687, 465, 1861, 152, 742, 228, 1688, 685, 783, 1895, 806, 293, 208, 2411, 241, 1266, 4421, 320, 557, 448, 115, 273, 168, 156, 662, 228, 608, 620, 377, 512, 1142, 326, 349, 474, 386, 576, 247, 1349, 423, 2423, 183, 151, 690, 229, 798, 484, 253, 731, 583, 806, 1531, 251, 834, 154, 90, 325, 570, 3009, 606, 876, 420, 676, 271, 264, 375, 137, 308, 491, 751, 475, 481, 839, 804, 584, 383, 279, 622, 543, 917, 987, 536, 2076, 567, 251, 307, 1048, 1138, 988, 567, 678, 474, 129, 233, 417, 1820, 310, 348, 2260, 724, 142, 526, 199, 327, 150, 392, 386, 235, 886, 1095, 896, 126, 462, 776, 811, 688, 119, 208, 440, 477, 852, 339, 1121, 217, 508, 361, 912, 456, 211, 969, 403, 117, 660, 176, 332, 407, 347, 1377, 161, 2621, 2657, 137, 621, 313, 217, 1760, 145, 142, 695, 284, 265, 478, 913, 638, 1065, 503, 475, 497, 197, 95, 2064, 569, 673, 118, 661, 246, 301, 349, 351, 316, 178, 623, 374, 164, 2098, 418, 202, 196, 1043, 347, 269, 237, 397, 336, 2251, 919, 256, 686, 390, 1080, 1079, 415, 843, 466, 234, 844, 578, 598, 207, 155, 419, 151, 585, 328, 743, 1273, 417, 1638, 349, 230, 1130, 405, 332, 647, 184, 619, 603, 610, 343, 479, 289, 397, 343, 333, 393, 1561, 445, 295, 448, 399, 411, 1541, 1173, 399, 2347, 362, 1050, 527, 436, 167, 193, 653, 188, 214, 157, 154, 232, 548, 3006, 301, 426, 865, 341, 604, 242, 288, 253, 245, 170, 301, 277, 824, 522, 568, 274, 121, 767, 293, 232, 125, 269, 361, 665, 284, 1305, 551, 372, 160, 966, 194, 320, 273, 3192, 334, 621, 1057, 503, 208, 368, 1084, 161, 560, 213, 1724, 193, 159, 176, 354, 437, 300, 407, 614, 286, 272, 236, 511, 114, 179, 718, 331, 376, 201, 661, 258, 127, 665, 350, 960, 3607, 1808, 126, 1182, 205, 994, 852, 708, 164, 318, 180, 740, 581, 167, 1234, 3160, 2515, 2358, 164, 1049, 524, 434, 328, 247, 746, 472, 762, 250, 605, 622, 741, 880, 549, 194, 65, 455, 198, 892, 599, 658, 1446, 518, 442, 490, 1251, 366, 210, 864, 256, 161, 697, 679, 269, 652, 616, 284, 1951, 234, 673, 475, 473, 875, 346, 1263, 158, 670, 304, 498, 510, 114, 139, 183, 744, 340, 379, 317, 214, 1288, 1240, 236, 453, 379, 366, 1039, 328, 340, 188, 215, 2164, 412, 154, 355, 1141, 392, 1088, 596, 866, 224, 1081, 348, 201, 276, 1081, 555, 232, 316, 509, 383, 527, 250, 402, 428, 590, 1281, 774, 531, 467, 409, 1485, 839, 469, 3529, 295, 131, 4759, 131, 335, 416, 552, 432, 2149, 70, 1551, 851, 319, 168, 316, 2416, 5818, 237, 889, 1857, 372, 3876, 268, 234, 896, 154, 425, 506, 437, 742, 473, 628, 349, 220, 224, 430, 1133, 261, 471, 308, 301, 443, 422, 212, 714, 577, 1264, 246, 428, 983, 730, 2417, 853, 694, 778, 207, 425, 207, 218, 471, 352, 1819, 1380, 235, 1199, 815, 338, 381, 1059, 543, 147, 1038, 331, 265, 917, 272, 751, 743, 4121, 473, 428, 346, 277, 1383, 529, 135, 585, 320, 569, 298, 268, 288, 372, 646, 251, 542, 276, 683, 480, 242, 450, 555, 262, 207, 151, 1145, 961, 222, 228, 3770, 340, 331, 169, 106, 201, 1433, 467, 438, 336, 208, 726, 311, 507, 662, 255, 932, 282, 198, 510, 674, 288, 1170, 223, 215, 167, 210, 206, 695, 532, 1023, 841, 256, 251, 295, 148, 1449, 274, 405, 961, 2743, 2746, 418, 1202, 1064, 380, 5800, 216, 1033, 1020, 165, 750, 69, 258, 331, 311, 300, 445, 919, 895, 541, 213, 633, 1606, 272, 270, 1427, 157, 610, 1006, 160, 602, 520, 235, 170, 111, 457, 656, 352, 132, 835, 113, 1020, 508, 224, 643, 334, 877, 347, 248, 607, 675, 373, 465, 435, 602, 1344, 1038, 507, 3918, 452, 143, 164, 818, 695, 690, 140, 6307, 353, 345, 259, 417, 238, 554, 443, 401, 481, 911, 439, 167, 341, 785, 1664, 125, 213, 2402, 1000, 1011, 362, 77, 293, 370, 573, 917, 299, 181, 594, 511, 823, 202, 1062, 851, 529, 3833, 516, 769, 502, 2900, 1816, 577, 466, 623, 1968, 677, 283, 316, 331, 3336, 283, 519, 298, 431, 203, 514, 174, 234, 1302, 695, 197, 920, 556, 1113, 575, 413, 263, 260, 613, 351, 385, 481, 371, 108, 1423, 705, 665, 402, 162, 614, 237, 169, 1763, 114, 425, 329, 683, 266, 322, 287, 797, 305, 1091, 427, 488, 844, 536, 1118, 166, 544, 451, 190, 777, 734, 1114, 143, 470, 358, 513, 1935, 681, 520, 182, 326, 634, 205, 384, 1600, 425, 1100, 1472, 349, 587, 745, 156, 717, 523, 389, 384, 838, 407, 485, 439, 942, 334, 2916, 142, 248, 1919, 610, 692, 372, 561, 870, 444, 702, 320, 197, 564, 213, 283, 176, 763, 1255, 614, 709, 406, 1984, 191, 259, 729, 985, 745, 377, 347, 403, 944, 558, 452, 344, 1192, 303, 371, 859, 1399, 486, 716, 484, 981, 364, 288, 252, 314, 123, 274, 406, 337, 372, 333, 358, 503, 253, 544, 345, 308, 1678, 743, 92, 1783, 280, 578, 2789, 512, 731, 1169, 178, 870, 301, 1356, 445, 838, 542, 290, 117, 835, 202, 590, 278, 2698, 469, 336, 510, 382, 187, 220, 973, 244, 157, 367, 291, 610, 1050, 668, 592, 151, 260, 804, 1004, 1297, 605, 366, 509, 361, 1480, 878, 710, 325, 2377, 326, 494, 716, 401, 307, 289, 577, 357, 258, 706, 482, 504, 494, 76, 264, 374, 336, 249, 140, 179, 142, 4150, 572, 336, 786, 110, 681, 964, 791, 379, 190, 588, 568, 159, 303, 951, 150, 238, 145, 619, 441, 218, 769, 322, 584, 151, 961, 766, 253, 832, 1775, 655, 353, 140, 551, 529, 994, 1175, 1835, 214, 2192, 200, 126, 236, 151, 438, 904, 1509, 1693, 274, 411, 191, 792, 4362, 566, 174, 164, 264, 903, 1715, 254, 505, 2165, 297, 326, 157, 442, 1874, 374, 251, 819, 472, 479, 457, 307, 211, 415, 900, 337, 319, 193, 191, 177, 209, 886, 503, 205, 556, 624, 140, 974, 498, 381, 666, 1991, 1739, 96, 1180, 301, 3184, 404, 810, 679, 461, 351, 301, 1125, 868, 129, 161, 593, 243, 399, 335, 280, 574, 1171, 367, 1392, 1534, 115, 238, 1537, 845, 141, 352, 193, 1262, 409, 329, 1080, 255, 1506, 358, 600, 446, 350, 333, 1072, 179, 5524, 239, 258, 221, 911, 297, 545, 226, 147, 185, 560, 832, 864, 1908, 1274, 88, 549, 2182, 174, 683, 967, 730, 655, 344, 362, 158, 274, 401, 404, 2938, 404, 889, 394, 780, 398, 294, 275, 516, 384, 256, 527, 301, 1106, 355, 529, 201, 201, 641, 485, 197, 454, 2861, 276, 144, 289, 198, 235, 275, 1986, 463, 1199, 704, 255, 136, 526, 226, 1007, 340, 165, 179, 946, 530, 582, 149, 4583, 142, 182, 165, 200, 672, 881, 177, 990, 279, 578, 1119, 513, 930, 374, 743, 389, 102, 409, 424, 735, 147, 736, 373, 1365, 252, 431, 430, 400, 1245, 969, 176, 693, 415, 4128, 231, 866, 593, 223, 1002, 316, 337, 237, 175, 625, 1403, 402, 372, 98, 196, 1098, 456, 1100, 238, 1641, 164, 218, 170, 404, 298, 105, 275, 306, 1599, 239, 1181, 434, 330, 3071, 912, 652, 1101, 645, 614, 764, 418, 553, 165, 1202, 349, 453, 365, 192, 585, 485, 521, 160, 2443, 328, 584, 143, 179, 361, 679, 742, 339, 213, 481, 1347, 458, 2033, 701, 930, 519, 483, 508, 292, 2089, 822, 1036, 107, 227, 797, 114, 1853, 378, 1292, 1831, 1721, 376, 179, 221, 444, 1018, 628, 458, 387, 756, 427, 667, 3688, 242, 357, 229, 751, 895, 1192, 209, 129, 364, 413, 1801, 1388, 830, 444, 270, 300, 1513, 445, 322, 341, 230, 742, 222, 195, 760, 672, 121, 167, 245, 2110, 168, 204, 121, 130, 1328, 796, 1667, 184, 477, 639, 103, 1111, 177, 247, 1808, 162, 432, 284, 1068, 411, 478, 378, 821, 639, 668, 255, 1285, 280, 430, 921, 749, 283, 238, 116, 1152, 517, 1026, 1292, 174, 191, 129, 271, 272, 852, 691, 365, 439, 110, 3043, 1582, 310, 489, 1251, 485, 421, 738, 429, 585, 191, 185, 237, 116, 1402, 542, 143, 440, 217, 411, 199, 264, 176, 516, 1229, 521, 287, 460, 584, 156, 128, 795, 467, 206, 429, 183, 358, 1000, 392, 396, 327, 154, 295, 458, 283, 704, 325, 399, 291, 210, 2036, 499, 275, 876, 605, 371, 690, 395, 342, 408, 492, 348, 393, 137, 443, 2519, 238, 270, 323, 354, 770, 1137, 811, 271, 342, 2206, 359, 750, 245, 660, 582, 555, 1188, 562, 437, 1037, 532, 364, 154, 262, 594, 755, 390, 95, 373, 1071, 787, 1304, 1169, 375, 556, 280, 435, 684, 93, 142, 152, 253, 348, 187, 1441, 1069, 231, 840, 733, 344, 322, 777, 1822, 471, 1835, 196, 427, 318, 193, 454, 367, 510, 245, 1450, 484, 945, 318, 183, 284, 388, 450, 1103, 152, 624, 148, 478, 256, 256, 1234, 441, 389, 369, 1198, 790, 833, 1356, 162, 235, 440, 331, 301, 723, 1543, 1976, 176, 278, 375, 206, 343, 503, 1153, 645, 464, 80, 483, 160, 189, 3659, 712, 335, 427, 1389, 710, 456, 1506, 438, 277, 463, 183, 498, 605, 213, 568, 215, 246, 374, 324, 688, 327, 779, 837, 188, 273, 1066, 92, 377, 736, 408, 185, 248, 192, 271, 563, 1126, 395, 1949, 400, 475, 2772, 669, 1543, 140, 200, 353, 394, 398, 267, 452, 203, 204, 241, 826, 375, 235, 597, 727, 3924, 1926, 526, 297, 1037, 269, 416, 675, 191, 245, 274, 1487, 306, 596, 746, 410, 311, 333, 157, 729, 455, 510, 427, 868, 405, 107, 253, 241, 776, 126, 240, 266, 208, 419, 349, 879, 287, 806, 146, 745, 142, 1345, 589, 385, 149, 188, 122, 195, 180, 420, 313, 380, 727, 569, 403, 288, 560, 640, 340, 1330, 513, 560, 507, 1574, 212, 882, 145, 772, 2956, 433, 792, 422, 836, 1032, 729, 487, 285, 1168, 383, 169, 532, 467, 223, 220, 197, 349, 320, 261, 2326, 448, 546, 1439, 843, 836, 427, 676, 631, 782, 650, 354, 896, 120, 672, 706, 416, 299, 256, 184, 457, 350, 757, 249, 259, 213, 282, 55, 1311, 136, 340, 238, 474, 2323, 640, 308, 275, 300, 1447, 451, 109, 298, 145, 481, 1499, 349, 240, 371, 779, 331, 4299, 264, 942, 397, 122, 361, 280, 192, 290, 629, 804, 154, 361, 141, 581, 154, 1077, 529, 1192, 527, 309, 272, 400, 1383, 1089, 102, 256, 246, 1490, 356, 457, 998, 1859, 1848, 152, 325, 152, 127, 221, 389, 224, 1267, 1143, 1775, 606, 278, 1051, 985, 1329, 379, 425, 217, 381, 265, 384, 277, 1265, 250, 314, 335, 178, 193, 1008, 515, 401, 514, 603, 407, 160, 430, 738, 372, 285, 1535, 295, 1353, 200, 497, 449, 212, 258, 619, 698, 1066, 243, 2125, 2871, 339, 2433, 443, 315, 644, 756, 3524, 214, 204, 755, 580, 421, 250, 1320, 527, 827, 1091, 281, 224, 445, 465, 388, 2693, 714, 1570, 198, 201, 748, 4205, 697, 1141, 382, 1760, 5730, 787, 256, 623, 507, 207, 530, 985, 1145, 196, 98, 483, 393, 163, 113, 1895, 857, 206, 178, 421, 917, 556, 406, 1506, 222, 449, 445, 523, 183, 672, 487, 766, 482, 1305, 767, 163, 396, 482, 368, 150, 923, 299, 204, 826, 511, 455, 218, 251, 952, 573, 186, 814, 804, 347, 231, 246, 265, 758, 168, 599, 745, 250, 396, 444, 456, 351, 639, 853, 453, 238, 839, 291, 716, 213, 909, 324, 134, 436, 95, 711, 1161, 387, 402, 304, 170, 173, 443, 362, 1528, 2082, 170, 265, 1044, 175, 303, 211, 848, 1248, 303, 187, 494, 349, 259, 238, 849, 368, 258, 431, 521, 177, 314, 335, 1527, 244, 613, 178, 454, 470, 138, 325, 183, 483, 726, 300, 173, 146, 3152, 419, 356, 302, 220, 747, 297, 451, 272, 2229, 335, 2419, 375, 754, 790, 216, 274, 224, 2114, 679, 452, 246, 361, 587, 317, 241, 334, 639, 657, 171, 353, 329, 449, 1574, 253, 206, 315, 524, 492, 292, 812, 508, 433, 425, 292, 317, 1035, 172, 155, 2981, 714, 1344, 1044, 209, 1179, 5508, 342, 206, 2869, 108, 570, 170, 174, 180, 201, 301, 2142, 235, 522, 1142, 352, 234, 261, 491, 262, 495, 143, 337, 501, 954, 449, 1253, 236, 114, 596, 193, 168, 485, 189, 198, 276, 992, 400, 361, 682, 357, 159, 415, 402, 352, 332, 306, 936, 319, 238, 452, 1314, 4354, 465, 143, 548, 671, 626, 617, 419, 567, 165, 490, 305, 261, 585, 609, 817, 1084, 202, 163, 441, 326, 325, 428, 458, 553, 632, 209, 165, 534, 341, 295, 255, 1193, 259, 155, 157, 253, 353, 295, 784, 626, 261, 342, 868, 499, 469, 289, 855, 655, 204, 470, 467, 639, 539, 207, 143, 158, 864, 566, 358, 467, 597, 328, 2879, 343, 1593, 915, 1239, 396, 536, 540, 621, 563, 517, 101, 2655, 361, 159, 132, 218, 603, 658, 384, 361, 191, 1382, 190, 241, 664, 402, 3580, 250, 150, 270, 454, 1391, 281, 225, 87, 195, 395, 166, 285, 544, 577, 521, 297, 756, 315, 768, 378, 760, 354, 727, 279, 201, 928, 1712, 522, 521, 431, 1969, 477, 304, 486, 351, 550, 1045, 176, 729, 933, 1385, 859, 478, 1319, 284, 447, 379, 511, 334, 190, 111, 257, 342, 234, 185, 939, 408, 308, 389, 1149, 386, 191, 213, 665, 758, 485, 658, 829, 2019, 523, 333, 323, 360, 224, 479, 632, 278, 1209, 442, 192, 759, 177, 189, 295, 128, 367, 334, 231, 525, 860, 445, 184, 989, 311, 397, 401, 704, 537, 257, 385, 152, 408, 563, 792, 382, 1116, 479, 299, 774, 635, 208, 355, 482, 560, 141, 5475, 263, 130, 153, 1031, 153, 327, 152, 71, 174, 523, 538, 293, 1415, 364, 1383, 541, 545, 279, 404, 193, 238, 353, 825, 404, 837, 159, 1495, 269, 429, 186, 1970, 118, 198, 306, 801, 330, 576, 371, 191, 644, 841, 452, 342, 579, 604, 442, 920, 442, 401, 679, 804, 1798, 1186, 699, 256, 377, 5079, 518, 230, 1471, 521, 517, 430, 612, 299, 165, 217, 372, 416, 1790, 1814, 104, 600, 695, 794, 2147, 651, 236, 353, 820, 294, 2492, 144, 392, 234, 517, 922, 813, 189, 2282, 523, 407, 273, 144, 1789, 358, 622, 208, 319, 430, 372, 145, 1566, 107, 712, 726, 358, 1007, 755, 345, 500, 161, 222, 367, 629, 231, 269, 348, 482, 534, 865, 598, 264, 1687, 2117, 100, 160, 318, 284, 279, 234, 369, 401, 357, 180, 611, 200, 814, 203, 194, 912, 225, 131, 228, 692, 357, 335, 723, 1762, 176, 812, 175, 1627, 615, 547, 871, 1941, 843, 1000, 422, 281, 314, 755, 587, 1032, 743, 1996, 411, 294, 223, 698, 377, 409, 375, 307, 300, 591, 1234, 497, 4028, 274, 737, 201, 330, 243, 315, 159, 2018, 1274, 463, 519, 456, 178, 207, 83, 186, 5450, 1185, 401, 331, 414, 207, 579, 945, 227, 1862, 77, 201, 130, 584, 668, 180, 323, 2471, 251, 429, 526, 258, 289, 562, 410, 1030, 3694, 426, 864, 255, 100, 310, 239, 1652, 400, 650, 261, 515, 260, 383, 4858, 176, 97, 264, 114, 1057, 755, 652, 1166, 418, 348, 55, 4761, 692, 929, 157, 152, 2216, 122, 424, 1538, 629, 446, 211, 363, 272, 683, 872, 286, 245, 857, 591, 924, 763, 432, 446, 370, 4088, 1101, 905, 225, 506, 511, 164, 269, 2267, 707, 282, 158, 1369, 202, 611, 888, 172, 2292, 215, 421, 147, 526, 902, 724, 282, 484, 294, 372, 216, 216, 554, 349, 264, 935, 685, 175, 339, 252, 677, 162, 60, 302, 613, 522, 505, 899, 1153, 917, 239, 148, 269, 354, 482, 4879, 406, 617, 789, 208, 1247, 665, 321, 240, 317, 823, 375, 380, 1341, 878, 250, 559, 474, 570, 427, 174, 334, 238, 203, 644, 381, 2966, 260, 279, 391, 211, 418, 1245, 295, 545, 539, 62, 439, 115, 430, 236, 261, 1334, 276, 247, 277, 1697, 274, 319, 1435, 569, 348, 164, 176, 1501, 4015, 716, 282, 76, 498, 208, 445, 361, 754, 868, 181, 3449, 208, 454, 427, 435, 841, 981, 706, 328, 555, 217, 2929, 2022, 750, 1030, 2874, 936, 668, 330, 424, 360, 2744, 1116, 309, 265, 739, 1600, 166, 575, 789, 395, 2204, 143, 303, 357, 495, 683, 325, 314, 899, 274, 1104, 985, 289, 561, 238, 170, 700, 1325, 311, 409, 1427, 945, 215, 487, 246, 784, 1251, 1278, 209, 391, 335, 475, 548, 512, 877, 228, 242, 1849, 282, 104, 808, 1506, 1345, 228, 191, 301, 424, 226, 2269, 216, 178, 619, 307, 111, 907, 1161, 275, 805, 1575, 273, 774, 546, 1848, 580, 815, 375, 170, 185, 151, 265, 258, 300, 418, 537, 1328, 292, 460, 686, 396, 1100, 142, 290, 1759, 155, 408, 672, 134, 341, 584, 268, 745, 137, 210, 198, 223, 496, 190, 525, 198, 1424, 249, 517, 731, 342, 1736, 533, 548, 166, 305, 164, 1273, 1541, 301, 452, 3390, 601, 178, 274, 201, 2032, 311, 199, 210, 201, 870, 1095, 776, 351, 308, 429, 257, 243, 4187, 278, 1553, 286, 808, 1757, 522, 318, 226, 661, 527, 791, 279, 517, 166, 486, 831, 289, 712, 77, 86, 687, 1521, 422, 249, 200, 154, 391, 206, 355, 1819, 269, 823, 211, 384, 1126, 4698, 1406, 488, 628, 1461, 248, 52, 481, 331, 208, 583, 311, 707, 3806, 572, 150, 2323, 1034, 997, 2985, 675, 1139, 3234, 2477, 197, 488, 79, 419, 360, 254, 457, 613, 841, 721, 462, 761, 1160, 200, 317, 378, 950, 953, 992, 635, 100, 1303, 367, 1767, 980, 101, 559, 104, 725, 67, 1361, 684, 323, 217, 73, 558, 4196, 207, 415, 438, 265, 121, 5319, 727, 441, 341, 518, 115, 596, 241, 536, 546, 403, 230, 1613, 1074, 654, 255, 434, 820, 146, 277, 192, 673, 480, 1841, 392, 927, 44, 995, 360, 483, 210, 212, 911, 669, 954, 858, 137, 356, 346, 88, 146, 674, 450, 499, 530, 204, 898, 470, 606, 163, 652, 507, 1575, 1236, 981, 494, 738, 540, 1021, 251, 789, 338, 1767, 578, 156, 2086, 475, 312, 498, 514, 462, 90, 684, 700, 257, 370, 140, 186, 1780, 191, 190, 5066, 3361, 216, 260, 1041, 174, 354, 415, 667, 176, 237, 564, 497, 490, 462, 715, 163, 408, 610, 512, 970, 995, 141, 249, 356, 361, 568, 324, 86, 1156, 391, 489, 1457, 382, 385, 343, 133, 1715, 663, 311, 876, 209, 263, 283, 621, 239, 170, 734, 2075, 535, 1286, 829, 143, 752, 452, 136, 754, 227, 1179, 832, 204, 664, 1423, 582, 138, 272, 293, 387, 245, 612, 476, 424, 1423, 1117, 694, 233, 393, 148, 463, 696, 164, 199, 1050, 585, 184, 349, 647, 2684, 405, 263, 289, 1953, 448, 156, 450, 620, 376, 237, 2243, 830, 440, 245, 209, 350, 448, 228, 636, 199, 594, 960, 298, 174, 2450, 237, 295, 127, 533, 409, 305, 1074, 292, 1466, 441, 339, 791, 630, 206, 197, 226, 534, 222, 723, 267, 1112, 2308, 5071, 330, 413, 954, 236, 964, 292, 237, 511, 377, 327, 1313, 472, 655, 254, 898, 316, 1570, 777, 555, 337, 163, 587, 1453, 1027, 245, 703, 842, 712, 660, 1780, 582, 812, 1025, 151, 1583, 219, 391, 269, 435, 702, 377, 499, 191, 152, 1145, 586, 379, 529, 679, 639, 304, 957, 397, 433, 795, 164, 414, 383, 979, 536, 641, 504, 823, 3020, 760, 650, 646, 159, 557, 483, 620, 405, 430, 1819, 398, 1395, 424, 1037, 191, 269, 705, 209, 234, 436, 194, 1558, 789, 396, 298, 397, 335, 468, 272, 314, 2400, 466, 947, 931, 215, 2634, 269, 572, 1787, 263, 1119, 127, 132, 85, 227, 1165, 925, 1588, 386, 780, 1033, 404, 2188, 210, 115, 239, 3153, 421, 181, 617, 400, 1459, 328, 278, 672, 487, 516, 1279, 372, 465, 400, 460, 758, 418, 2860, 240, 232, 622, 527, 525, 199, 851, 454, 1766, 1013, 954, 672, 207, 273, 175, 534, 832, 1078, 318, 402, 905, 363, 1007, 645, 708, 993, 247, 277, 103, 3056, 399, 808, 365, 285, 1435, 1182, 401, 368, 464, 642, 171, 203, 277, 773, 157, 160, 596, 328, 679, 501, 489, 1174, 267, 327, 379, 226, 517, 678, 461, 149, 214, 160, 143, 192, 2189, 221, 671, 963, 189, 928, 715, 475, 366, 779, 572, 333, 1347, 249, 3905, 2891, 399, 1626, 400, 1466, 99, 873, 920, 846, 230, 286, 174, 413, 521, 4120, 614, 355, 1823, 1535, 154, 234, 193, 341, 404, 263, 253, 494, 389, 228, 332, 829, 124, 292, 204, 1218, 237, 614, 294, 468, 229, 2066, 181, 1163, 197, 176, 259, 827, 1914, 513, 314, 1206, 475, 807, 735, 663, 254, 395, 105, 369, 842, 1846, 474, 1263, 713, 1415, 349, 539, 507, 134, 414, 1001, 1188, 242, 826, 412, 155, 1306, 534, 338, 445, 291, 2288, 477, 274, 1217, 377, 1059, 808, 1143, 96, 647, 663, 1919, 420, 261, 1878, 816, 490, 688, 320, 1316, 571, 305, 214, 459, 197, 368, 1324, 357, 596, 1464, 860, 232, 132, 271, 262, 968, 313, 517, 368, 209, 176, 159, 275, 90, 774, 307, 1357, 224, 303, 1555, 320, 478, 1394, 543, 523, 538, 968, 740, 436, 808, 138, 518, 440, 226, 433, 2821, 1027, 254, 153, 839, 188, 1806, 156, 153, 761, 164, 207, 336, 251, 315, 321, 287, 927, 242, 813, 222, 497, 657, 184, 210, 958, 199, 1082, 941, 433, 491, 570, 276, 206, 193, 159, 972, 616, 630, 1902, 258, 229, 510, 343, 361, 168, 161, 1011, 282, 167, 521, 324, 1330, 478, 1606, 315, 641, 704, 1176, 151, 657, 243, 184, 874, 431, 280, 512, 768, 420, 204, 955, 722, 234, 229, 512, 1111, 585, 91, 739, 405, 388, 171, 820, 2018, 432, 398, 715, 314, 182, 509, 579, 511, 287, 530, 402, 342, 218, 391, 805, 2052, 351, 348, 973, 2609, 647, 259, 1040, 676, 419, 282, 256, 403, 819, 1479, 438, 322, 352, 526, 473, 267, 1013, 320, 362, 232, 305, 1184, 998, 502, 636, 1009, 272, 4011, 456, 886, 564, 295, 330, 921, 827, 341, 272, 764, 176, 847, 820, 886, 666, 635, 380, 3733, 230, 503, 484, 285, 90, 799, 278, 599, 270, 652, 1013, 598, 149, 794, 245, 160, 178, 276, 253, 724, 313, 313, 811, 314, 384, 1168, 398, 399, 921, 483, 3002, 133, 467, 230, 1087, 865, 124, 495, 677, 345, 115, 550, 428, 124, 614, 1590, 427, 211, 310, 699, 415, 532, 553, 129, 247, 3505, 404, 530, 1801, 1119, 3627, 363, 452, 799, 282, 842, 443, 184, 453, 387, 919, 413, 589, 277, 486, 165, 443, 440, 583, 210, 96, 316, 406, 207, 2256, 885, 329, 2340, 191, 1265, 373, 585, 243, 1362, 216, 541, 389, 170, 591, 355, 146, 848, 277, 678, 396, 413, 1586, 730, 186, 425, 392, 501, 778, 861, 227, 274, 2781, 444, 81, 886, 801, 675, 2091, 402, 302, 481, 763, 754, 268, 900, 575, 3690, 346, 260, 1373, 153, 417, 271, 222, 2315, 132, 199, 270, 190, 656, 242, 398, 360, 3270, 712, 641, 283, 337, 595, 178, 487, 351, 390, 595, 375, 218, 487, 236, 1032, 137, 886, 662, 239, 153, 380, 366, 178, 161, 1077, 617, 1050, 231, 310, 617, 206, 222, 652, 651, 378, 372, 424, 149, 2973, 344, 262, 390, 482, 1846, 493, 776, 128, 219, 361, 271, 312, 1543, 228, 393, 756, 233, 268, 231, 2569, 293, 523, 726, 544, 842, 123, 623, 1119, 340, 481, 180, 724, 341, 105, 365, 269, 952, 953, 3068, 288, 350, 148, 942, 2232, 868, 275, 417, 340, 591, 729, 887, 122, 469, 738, 1974, 226, 775, 421, 500, 3291, 271, 562, 290, 1576, 659, 647, 391, 186, 507, 245, 313, 149, 256, 304, 870, 1074, 250, 690, 314, 1155, 175, 755, 1116, 185, 1228, 223, 1482, 812, 742, 295, 1314, 791, 405, 471, 162, 144, 307, 134, 812, 153, 480, 686, 1392, 760, 589, 589, 76, 477, 685, 734, 493, 154, 567, 596, 467, 892, 929, 144, 343, 609, 109, 156, 361, 299, 2290, 552, 243, 213, 451, 1829, 234, 387, 170, 161, 125, 618, 296, 523, 371, 774, 1742, 444, 321, 356, 186, 607, 248, 202, 200, 246, 525, 743, 1026, 868, 192, 661, 818, 864, 501, 94, 192, 574, 950, 258, 168, 199, 437, 277, 198, 637, 1616, 364, 334, 791, 706, 694, 398, 418, 330, 475, 233, 419, 337, 539, 820, 1483, 3512, 483, 412, 133, 96, 564, 237, 481, 922, 229, 508, 506, 1177, 695, 270, 624, 179, 299, 577, 873, 397, 1179, 906, 370, 127, 1068, 128, 420, 463, 237, 500, 304, 1274, 2388, 560, 415, 711, 1691, 114, 353, 312, 433, 392, 130, 530, 121, 1342, 221, 141, 300, 333, 101, 520, 157, 226, 799, 216, 162, 485, 156, 484, 151, 347, 167, 192, 560, 270, 424, 1251, 978, 731, 263, 205, 1218, 146, 1772, 375, 271, 228, 1034, 375, 538, 278, 706, 843, 402, 379, 3896, 54, 185, 418, 154, 739, 165, 242, 187, 180, 202, 657, 633, 1791, 154, 306, 453, 428, 419, 249, 325, 691, 975, 345, 1124, 126, 413, 543, 1220, 740, 1501, 596, 558, 385, 271, 375, 120, 271, 637, 540, 235, 154, 473, 196, 265, 233, 226, 253, 490, 774, 255, 1582, 297, 443, 834, 1385, 877, 102, 1559, 300, 540, 181, 295, 560, 786, 757, 515, 857, 942, 343, 867, 334, 388, 474, 158, 232, 101, 844, 102, 714, 1013, 118, 2769, 361, 313, 736, 223, 1852, 963, 217, 301, 1149, 249, 423, 588, 297, 218, 451, 764, 376, 1069, 538, 143, 591, 328, 315, 691, 1076, 99, 1178, 446, 777, 2431, 649, 672, 319, 429, 1318, 123, 239, 306, 785, 1022, 173, 335, 248, 633, 217, 163, 235, 3409, 347, 487, 144, 595, 467, 1307, 353, 204, 305, 1120, 2184, 394, 252, 987, 232, 159, 486, 256, 285, 208, 427, 719, 541, 353, 230, 260, 186, 2375, 485, 389, 291, 473, 531, 387, 116, 3182, 760, 230, 785, 461, 636, 555, 623, 744, 304, 705, 2017, 3676, 297, 716, 640, 523, 875, 402, 183, 2052, 102, 328, 757, 1082, 80, 584, 180, 223, 572, 1356, 277, 391, 512, 415, 516, 394, 711, 1140, 824, 206, 3253, 788, 623, 507, 107, 676, 390, 229, 810, 169, 366, 388, 1487, 404, 887, 387, 363, 149, 1207, 545, 775, 805, 551, 2244, 173, 371, 1505, 255, 286, 515, 178, 1287, 1333, 391, 511, 2251, 562, 172, 695, 304, 1077, 748, 560, 241, 343, 317, 352, 905, 197, 346, 457, 425, 979, 508, 139, 2086, 1138, 221, 335, 193, 2852, 520, 505, 549, 1202, 337, 266, 744, 398, 577, 155, 312, 468, 401, 610, 532, 529, 337, 443, 336, 173, 1961, 437, 308, 300, 2319, 187, 450, 862, 550, 342, 427, 417, 220, 1491, 382, 872, 342, 94, 337, 120, 391, 199, 583, 847, 2099, 478, 465, 966, 491, 152, 192, 793, 2476, 218, 515, 359, 595, 867, 704, 250, 150, 505, 745, 370, 492, 439, 831, 546, 402, 199, 1198, 1071, 342, 186, 763, 545, 148, 375, 320, 704, 422, 449, 636, 1038, 115, 246, 587, 483, 284, 578, 109, 2150, 725, 1521, 127, 139, 408, 491, 955, 380, 978, 261, 401, 1253, 361, 909, 178, 405, 226, 563, 1014, 294, 428, 595, 452, 565, 359, 247, 5428, 216, 1420, 2703, 1099, 3209, 389, 2855, 937, 237, 208, 197, 113, 114, 363, 131, 218, 196, 567, 519, 663, 1794, 651, 368, 1240, 224, 1570, 415, 324, 782, 666, 449, 1042, 549, 363, 520, 256, 308, 1052, 831, 1171, 333, 276, 1072, 557, 167, 829, 1732, 411, 335, 925, 679, 920, 299, 197, 1748, 187, 190, 688, 207, 226, 398, 308, 1620, 274, 408, 181, 132, 486, 849, 425, 119, 994, 515, 1075, 572, 1099, 691, 230, 1213, 624, 137, 216, 345, 347, 232, 2143, 466, 430, 521, 151, 197, 447, 208, 969, 1196, 1107, 384, 772, 1463, 266, 565, 722, 341, 499, 448, 194, 648, 499, 200, 918, 723, 274, 231, 491, 194, 395, 385, 1026, 487, 353, 929, 656, 277, 236, 681, 301, 726, 472, 762, 408, 231, 482, 155, 780, 380, 458, 319, 1448, 177, 667, 176, 224, 139, 218, 776, 499, 596, 280, 134, 256, 1105, 1548, 1424, 252, 208, 295, 2381, 110, 558, 562, 516, 328, 1951, 138, 277, 938, 121, 90, 859, 988, 6185, 1355, 604, 921, 860, 160, 169, 478, 1319, 780, 604, 179, 566, 1982, 514, 127, 149, 234, 1085, 81, 678, 397, 406, 217, 243, 157, 213, 933, 143, 205, 496, 433, 438, 277, 480, 374, 963, 715, 598, 2135, 131, 261, 287, 152, 199, 675, 301, 279, 303, 93, 267, 273, 424, 433, 426, 578, 1106, 310, 777, 528, 3944, 866, 190, 3736, 617, 259, 913, 759, 522, 611, 194, 270, 257, 359, 506, 1371, 199, 740, 290, 655, 332, 380, 199, 189, 2156, 411, 178, 158, 506, 349, 486, 691, 209, 973, 200, 449, 1218, 416, 790, 178, 135, 476, 496, 616, 395, 189, 831, 330, 285, 543, 346, 2077, 457, 1503, 344, 444, 424, 886, 275, 433, 765, 538, 773, 698, 936, 961, 218, 228, 275, 265, 488, 246, 444, 1243, 334, 945, 628, 1390, 440, 300, 303, 150, 453, 284, 197, 1374, 81, 138, 338, 577, 152, 280, 383, 951, 902, 334, 473, 212, 225, 2599, 256, 1544, 498, 219, 799, 476, 318, 304, 956, 671, 856, 156, 405, 321, 227, 271, 1343, 990, 5386, 182, 150, 452, 254, 231, 1048, 178, 484, 206, 351, 225, 2604, 528, 711, 385, 304, 254, 233, 315, 483, 259, 2618, 419, 220, 1748, 1055, 813, 1553, 367, 140, 376, 381, 201, 945, 1852, 284, 273, 850, 586, 74, 628, 83, 153, 537, 617, 282, 370, 229, 475, 492, 235, 428, 380, 5301, 1572, 231, 838, 776, 141, 254, 372, 296, 275, 938, 880, 218, 389, 234, 223, 358, 669, 676, 325, 887, 350, 356, 665, 177, 276, 288, 558, 463, 199, 736, 1359, 345, 320, 365, 375, 618, 295, 694, 684, 856, 878, 297, 451, 162, 3487, 665, 713, 468, 1042, 365, 250, 98, 186, 635, 364, 189, 1078, 2925, 359, 536, 229, 309, 735, 515, 220, 320, 211, 414, 997, 460, 334, 629, 863, 604, 602, 491, 1395, 780, 178, 312, 731, 233, 252, 776, 232, 252, 481, 1212, 5934, 1880, 279, 424, 4598, 1083, 683, 386, 196, 3733, 369, 679, 933, 237, 851, 707, 790, 471, 806, 560, 320, 178, 1092, 157, 792, 315, 336, 505, 309, 244, 1043, 748, 226, 486, 198, 464, 206, 3004, 384, 694, 904, 181, 315, 981, 380, 947, 225, 476, 162, 772, 657, 201, 1053, 238, 165, 3136, 417, 225, 540, 1094, 1082, 285, 290, 585, 257, 719, 1038, 685, 612, 948, 1359, 489, 556, 420, 121, 382, 81, 219, 612, 264, 727, 506, 835, 375, 387, 338, 356, 426, 886, 447, 398, 855, 565, 377, 439, 1389, 2527, 1328, 332, 231, 158, 299, 551, 211, 241, 284, 821, 221, 345, 849, 212, 681, 285, 341, 144, 440, 738, 294, 1030, 1729, 674, 1745, 681, 198, 219, 439, 172, 130, 529, 385, 694, 182, 231, 516, 734, 815, 448, 354, 107, 298, 590, 745, 205, 593, 420, 688, 428, 367, 306, 582, 510, 206, 587, 599, 127, 143, 447, 427, 1297, 477, 189, 958, 247, 637, 165, 610, 2241, 495, 428, 1947, 467, 456, 398, 1143, 309, 496, 71, 1597, 1027, 771, 315, 647, 302, 317, 1178, 2362, 696, 217, 875, 217, 543, 839, 616, 251, 341, 141, 389, 253, 621, 84, 107, 116, 181, 230, 1113, 443, 81, 1255, 474, 805, 821, 449, 2507, 303, 719, 187, 723, 194, 402, 464, 230, 274, 337, 2696, 284, 287, 405, 593, 399, 810, 229, 314, 201, 329, 528, 2069, 213, 637, 422, 391, 394, 338, 568, 406, 237, 368, 531, 196, 460, 469, 673, 295, 113, 2448, 147, 193, 499, 1797, 216, 679, 241, 596, 74, 209, 190, 497, 440, 283, 232, 71, 142, 515, 374, 1280, 172, 183, 1257, 1385, 448, 231, 1745, 597, 393, 931, 695, 831, 494, 361, 2277, 936, 217, 141, 1064, 298, 188, 416, 234, 587, 437, 754, 309, 902, 150, 140, 365, 1200, 659, 474, 658, 1017, 294, 204, 511, 813, 99, 441, 1265, 433, 204, 294, 567, 245, 318, 207, 440, 434, 76, 238, 544, 158, 679, 489, 231, 692, 342, 738, 525, 1138, 2686, 203, 909, 592, 800, 162, 497, 738, 173, 228, 169, 595, 193, 246, 420, 496, 336, 327, 1159, 406, 202, 2693, 314, 256, 924, 176, 627, 685, 347, 394, 103, 132, 922, 495, 1090, 1916, 184, 163, 477, 522, 1019, 224, 506, 826, 576, 668, 159, 280, 561, 1725, 234, 1147, 602, 131, 157, 5131, 313, 924, 542, 182, 1056, 1772, 154, 483, 207, 446, 527, 514, 518, 423, 617, 289, 1302, 216, 348, 343, 356, 296, 288, 495, 301, 209, 162, 180, 355, 1023, 863, 723, 458, 281, 461, 152, 664, 483, 218, 308, 444, 554, 438, 232, 855, 424, 136, 377, 250, 1579, 1870, 412, 187, 399, 2747, 181, 212, 188, 367, 503, 365, 188, 1334, 425, 411, 373, 503, 497, 438, 654, 2202, 148, 594, 315, 172, 373, 227, 252, 250, 776, 1234, 340, 269, 539, 380, 1444, 534, 489, 263, 676, 305, 427, 4034, 3175, 531, 220, 146, 506, 223, 117, 329, 661, 70, 664, 444, 411, 345, 750, 479, 156, 516, 715, 324, 486, 773, 2669, 273, 915, 336, 557, 1077, 424, 316, 156, 2293, 1415, 1406, 202, 775, 751, 206, 829, 198, 481, 345, 568, 408, 633, 476, 817, 548, 683, 289, 326, 1096, 425, 394, 69, 5672, 1149, 3053, 176, 417, 547, 220, 376, 184, 97, 262, 786, 436, 312, 241, 141, 242, 92, 1328, 557, 246, 192, 261, 240, 413, 143, 568, 558, 363, 450, 428, 466, 1479, 214, 257, 3120, 1834, 471, 286, 371, 435, 225, 2054, 320, 301, 1263, 532, 1742, 172, 124, 194, 703, 349, 462, 385, 164, 3540, 298, 332, 398, 275, 453, 1023, 676, 1472, 602, 339, 422, 330, 245, 898, 1250, 580, 218, 1076, 392, 338, 474, 2143, 354, 218, 4635, 664, 481, 759, 1145, 6458, 408, 174, 156, 442, 2752, 2080, 173, 567, 299, 323, 713, 656, 178, 171, 159, 368, 329, 1174, 653, 1686, 534, 389, 362, 132, 148, 245, 371, 357, 660, 339, 370, 145, 168, 456, 781, 349, 237, 175, 179, 339, 381, 291, 447, 193, 383, 1311, 51, 985, 1576, 395, 562, 398, 990, 164, 366, 435, 689, 318, 860, 781, 1136, 202, 373, 417, 475, 416, 1343, 454, 2117, 855, 379, 790, 590, 344, 1959, 1420, 1048, 580, 341, 524, 553, 296, 206, 808, 555, 861, 509, 736, 414, 1424, 379, 990, 1284, 208, 422, 175, 582, 535, 302, 250, 529, 548, 318, 373, 793, 909, 463, 1106, 387, 231, 510, 115, 2020, 676, 1133, 678, 456, 729, 122, 934, 339, 204, 890, 456, 321, 1119, 638, 278, 581, 179, 375, 624, 664, 243, 584, 2987, 889, 3745, 276, 265, 946, 554, 480, 352, 712, 728, 767, 124, 339, 205, 285, 342, 610, 1818, 210, 234, 243, 644, 854, 190, 453, 1991, 365, 331, 302, 837, 1741, 235, 285, 462, 239, 161, 1544, 758, 4724, 1046, 431, 204, 452, 2153, 759, 366, 920, 439, 127, 271, 364, 345, 2688, 406, 80, 196, 221, 3320, 289, 313, 1041, 567, 328, 713, 138, 323, 540, 238, 215, 205, 234, 266, 283, 2453, 539, 506, 1234, 169, 422, 694, 529, 644, 253, 536, 228, 300, 1269, 209, 406, 508, 110, 403, 1304, 706, 1847, 1075, 834, 298, 864, 2031, 235, 990, 103, 456, 1549, 167, 282, 415, 226, 964, 340, 300, 775, 189, 161, 433, 1370, 240, 121, 788, 482, 572, 114, 377, 192, 3290, 238, 141, 583, 195, 47, 774, 542, 257, 275, 256, 1036, 774, 1027, 1434, 143, 638, 1763, 2542, 1105, 1057, 1337, 1007, 573, 934, 2607, 908, 799, 532, 117, 322, 296, 309, 674, 546, 190, 331, 431, 287, 475, 475, 456, 174, 872, 539, 653, 1103, 295, 207, 459, 1949, 754, 352, 385, 223, 129, 1323, 149, 228, 280, 238, 368, 221, 198, 877, 370, 416, 537, 372, 710, 354, 327, 615, 355, 331, 156, 387, 773, 433, 527, 350, 577, 305, 1117, 185, 557, 265, 3551, 344, 648, 2601, 430, 180, 790, 200, 252, 618, 185, 448, 115, 534, 689, 530, 204, 808, 381, 530, 1416, 352, 135, 320, 551, 98, 676, 97, 458, 168, 842, 469, 440, 1101, 237, 257, 201, 174, 149, 1410, 288, 665, 1588, 1291, 891, 490, 797, 543, 372, 463, 280, 360, 414, 419, 266, 742, 699, 1447, 641, 537, 1265, 677, 317, 7716, 455, 597, 474, 543, 328, 665, 571, 3741, 395, 825, 270, 271, 1252, 300, 192, 1127, 626, 950, 463, 484, 905, 200, 147, 987, 544, 243, 180, 850, 274, 256, 974, 571, 364, 1192, 552, 581, 1298, 546, 186, 169, 146, 428, 242, 186, 280, 561, 869, 196, 1327, 146, 750, 298, 282, 753, 831, 322, 680, 623, 305, 334, 105, 1098, 162, 446, 382, 155, 2191, 233, 283, 548, 459, 902, 379, 3417, 443, 136, 259, 1366, 405, 75, 251, 2638, 946, 463, 212, 700, 462, 300, 377, 303, 599, 580, 447, 436, 1463, 266, 429, 206, 542, 729, 2408, 561, 216, 3224, 1289, 1710, 577, 397, 881, 94, 1023, 728, 386, 105, 142, 249, 945, 415, 892, 427, 584, 602, 5808, 799, 667, 369, 404, 248, 406, 1866, 641, 2173, 406, 990, 169, 232, 248, 455, 567, 270, 219, 2001, 290, 998, 463, 205, 439, 505, 307, 324, 1280, 288, 137, 186, 597, 498, 134, 639, 306, 624, 685, 792, 116, 314, 209, 201, 479, 230, 2916, 105, 485, 271, 767, 200, 445, 1063, 1175, 375, 493, 181, 754, 471, 760, 362, 366, 277, 990, 360, 637, 283, 153, 281, 246, 834, 1378, 482, 1971, 273, 432, 531, 196, 1541, 413, 262, 894, 462, 505, 2890, 953, 397, 192, 329, 710, 276, 410, 426, 494, 411, 350, 2081, 895, 750, 601, 513, 399, 1045, 321, 6180, 572, 2071, 158, 148, 1591, 648, 1052, 608, 649, 487, 293, 127, 330, 1217, 1266, 485, 321, 388, 720, 181, 453, 235, 1105, 278, 248, 463, 1144, 677, 257, 343, 618, 471, 293, 498, 418, 246, 120, 278, 507, 641, 264, 483, 398, 1154, 343, 401, 441, 237, 276, 380, 860, 190, 1525, 174, 645, 434, 787, 296, 576, 596, 699, 474, 182, 468, 462, 979, 417, 337, 852, 170, 651, 2784, 623, 380, 226, 435, 340, 164, 224, 664, 482, 339, 324, 772, 413, 384, 621, 186, 335, 466, 184, 514, 1063, 726, 428, 372, 123, 211, 2471, 370, 433, 374, 160, 223, 760, 404, 457, 157, 1765, 2264, 1160, 123, 101, 1140, 158, 686, 439, 347, 916, 195, 538, 198, 386, 2001, 641, 398, 389, 814, 325, 454, 1222, 261, 647, 147, 1824, 484, 505, 823, 122, 312, 414, 409, 369, 319, 916, 1953, 570, 141, 743, 472, 604, 104, 674, 328, 723, 201, 812, 277, 352, 388, 2069, 548, 2256, 489, 939, 190, 164, 337, 159, 728, 231, 196, 282, 157, 3835, 295, 254, 493, 622, 1683, 672, 945, 142, 164, 1807, 1512, 132, 272, 397, 1645, 168, 167, 597, 695, 220, 242, 531, 1441, 504, 153, 1114, 358, 792, 757, 236, 166, 296, 423, 332, 181, 2748, 202, 316, 398, 349, 760, 618, 1973, 785, 2806, 445, 1072, 1242, 707, 1238, 1137, 410, 400, 1607, 1435, 3778, 865, 457, 364, 684, 362, 310, 460, 265, 793, 486, 1314, 226, 528, 260, 459, 1832, 244, 173, 425, 1482, 891, 415, 607, 449, 220, 345, 250, 4871, 1092, 1198, 744, 367, 582, 756, 1202, 185, 273, 98, 1200, 570, 805, 1690, 287, 419, 488, 129, 253, 118, 400, 402, 972, 398, 655, 739, 874, 632, 2111, 269, 337, 1517, 674, 245, 476, 446, 1122, 760, 221, 1099, 703, 620, 442, 233, 1820, 263, 1236, 167, 422, 483, 302, 430, 621, 512, 393, 126, 394, 1195, 552, 208, 136, 506, 165, 4793, 284, 197, 711, 179, 212, 261, 1370, 404, 572, 549, 267, 769, 487, 1815, 212, 1295, 155, 258, 1054, 575, 451, 219, 609, 485, 1180, 1002, 496, 624, 1063, 414, 446, 336, 274, 214, 1952, 1046, 153, 493, 490, 114, 764, 471, 459, 322, 346, 1172, 389, 324, 2037, 139, 183, 766, 220, 309, 2604, 160, 324, 389, 958, 662, 1338, 246, 458, 210, 150, 278, 294, 555, 635, 195, 551, 301, 350, 1955, 218, 1086, 403, 874, 314, 221, 170, 275, 608, 1108, 195, 262, 958, 778, 408, 430, 840, 454, 223, 493, 859, 954, 846, 879, 2303, 432, 1564, 481, 551, 1285, 122, 384, 304, 186, 281, 436, 3499, 518, 520, 553, 155, 378, 876, 133, 266, 929, 531, 730, 193, 538, 598, 361, 556, 570, 283, 1952, 149, 270, 1687, 501, 104, 751, 305, 837, 813, 182, 1170, 576, 1579, 117, 200, 1015, 895, 212, 247, 199, 1006, 397, 3174, 1163, 610, 193, 3557, 768, 1019, 255, 1084, 186, 1584, 172, 872, 516, 356, 433, 154, 141, 339, 1256, 350, 720, 334, 230, 171, 421, 615, 698, 1756, 263, 593, 194, 303, 1286, 2348, 256, 797, 696, 743, 549, 441, 932, 692, 237, 202, 141, 1068, 149, 399, 775, 698, 121, 514, 471, 107, 789, 617, 232, 200, 1119, 242, 2457, 880, 1091, 127, 687, 535, 269, 193, 426, 1609, 353, 100, 3121, 450, 1340, 1077, 494, 331, 252, 251, 300, 864, 190, 364, 608, 377, 474, 581, 1207, 406, 519, 766, 267, 688, 197, 1860, 790, 339, 600, 189, 1861, 590, 339, 522, 634, 713, 66, 256, 1093, 235, 357, 235, 533, 170, 1055, 554, 646, 246, 2026, 218, 778, 169, 83, 241, 379, 194, 354, 76, 199, 7643, 134, 1965, 4469, 226, 228, 191, 2595, 252, 158, 1446, 316, 183, 304, 102, 158, 88, 326, 1584, 291, 3465, 674, 725, 374, 597, 952, 169, 1337, 806, 242, 610, 548, 1567, 649, 229, 1222, 921, 856, 363, 989, 130, 744, 617, 803, 387, 201, 464, 1111, 1260, 239, 524, 138, 301, 343, 237, 168, 3290, 109, 314, 248, 478, 388, 625, 503, 193, 944, 1551, 596, 928, 302, 665, 1844, 1040, 511, 546, 398, 237, 230, 298, 70, 466, 188, 370, 89, 575, 1786, 1911, 958, 296, 690, 1336, 1768, 208, 655, 950, 870, 204, 519, 338, 250, 4124, 1262, 509, 151, 204, 142, 1759, 633, 1264, 193, 172, 2448, 752, 216, 409, 429, 628, 77, 1476, 662, 501, 200, 727, 550, 721, 329, 4391, 204, 299, 415, 710, 998, 429, 748, 328, 910, 592, 208, 222, 427, 436, 332, 935, 385, 1296, 1191, 460, 341, 882, 1352, 248, 563, 336, 228, 519, 334, 675, 358, 668, 438, 444, 394, 286, 419, 126, 355, 205, 196, 270, 258, 182, 188, 209, 601, 646, 268, 203, 607, 472, 246, 280, 90, 612, 651, 423, 204, 362, 422, 738, 339, 700, 322, 167, 1459, 2175, 229, 556, 546, 813, 415, 234, 498, 455, 697, 170, 1272, 269, 344, 819, 604, 360, 354, 1734, 484, 403, 200, 922, 357, 278, 562, 1532, 835, 301, 459, 267, 180, 666, 13623, 280, 575, 276, 481, 403, 2017, 1276, 452, 622, 748, 465, 1362, 1036, 798, 1107, 459, 128, 361, 520, 289, 373, 655, 135, 212, 683, 114, 566, 202, 1799, 887, 920, 842, 136, 355, 699, 405, 389, 498, 374, 107, 315, 515, 420, 328, 666, 227, 897, 704, 680, 1109, 141, 279, 378, 303, 156, 355, 203, 505, 487, 638, 377, 243, 2263, 292, 328, 178, 313, 523, 396, 965, 797, 476, 222, 499, 607, 81, 403, 346, 448, 556, 179, 149, 518, 599, 229, 586, 422, 137, 555, 406, 587, 1352, 391, 460, 310, 400, 134, 637, 235, 668, 93, 1761, 306, 411, 610, 708, 1353, 315, 178, 394, 1239, 610, 373, 349, 257, 158, 222, 1011, 296, 355, 123, 274, 210, 1082, 520, 1387, 425, 370, 175, 602, 569, 640, 403, 1912, 174, 520, 265, 232, 268, 350, 2691, 345, 1268, 466, 747, 331, 849, 367, 441, 160, 518, 298, 342, 185, 220, 392, 377, 359, 1059, 343, 246, 233, 1000, 575, 246, 188, 978, 799, 378, 243, 385, 726, 303, 648, 661, 831, 234, 189, 574, 498, 291, 308, 932, 647, 463, 1880, 364, 487, 329, 528, 373, 691, 134, 599, 944, 650, 388, 142, 285, 800, 576, 120, 431, 135, 422, 187, 623, 326, 447, 143, 197, 392, 703, 260, 403, 1340, 342, 442, 161, 389, 515, 262, 180, 536, 1341, 1062, 407, 1845, 479, 400, 596, 275, 119, 763, 623, 178, 257, 180, 366, 666, 1069, 1627, 607, 588, 677, 991, 585, 148, 1930, 329, 1753, 370, 938, 354, 171, 1013, 361, 449, 220, 195, 457, 1162, 226, 300, 863, 369, 166, 261, 144, 1252, 129, 369, 732, 364, 950, 574, 582, 248, 426, 260, 932, 807, 395, 281, 132, 670, 567, 1428, 114, 153, 187, 655, 201, 675, 793, 780, 532, 911, 718, 377, 429, 207, 246, 209, 229, 644, 364, 146, 841, 332, 1381, 1118, 3740, 250, 1181, 434, 203, 125, 619, 1085, 285, 193, 101, 807, 153, 846, 968, 326, 452, 477, 312, 345, 339, 187, 2025, 268, 358, 181, 257, 1481, 680, 383, 242, 223, 235, 219, 399, 412, 412, 569, 672, 406, 568, 332, 969, 1266, 432, 854, 252, 126, 132, 182, 685, 3258, 587, 342, 361, 1101, 735, 950, 314, 257, 916, 717, 1515, 323, 271, 1406, 684, 440, 119, 364, 885, 366, 405, 545, 152, 334, 573, 296, 669, 388, 412, 155, 289, 248, 1670, 568, 660, 667, 328, 466, 218, 405, 278, 506, 949, 384, 818, 104, 207, 390, 171, 461, 628, 399, 696, 151, 1078, 564, 1028, 515, 117, 1303, 323, 201, 772, 363, 435, 591, 323, 357, 538, 365, 78, 345, 497, 428, 318, 278, 488, 163, 251, 397, 392, 306, 236, 90, 1222, 233, 361, 413, 440, 73, 439, 478, 553, 326, 439, 218, 498, 238, 946, 1211, 354, 1395, 172, 208, 488, 266, 189, 377, 207, 699, 521, 726, 244, 463, 387, 631, 504, 293, 221, 228, 1082, 846, 91, 379, 240, 175, 162, 1470, 548, 467, 583, 1675, 435, 842, 739, 1674, 897, 472, 207, 595, 1321, 237, 482, 445, 884, 668, 453, 977, 337, 140, 274, 516, 277, 332, 880, 396, 396, 1000, 896, 392, 144, 906, 436, 706, 4425, 1172, 3907, 1698, 806, 319, 3555, 639, 451, 453, 425, 308, 385, 435, 212, 2672, 306, 160, 123, 285, 185, 314, 345, 680, 130, 142, 206, 413, 353, 597, 532, 1598, 433, 580, 276, 707, 347, 365, 649, 259, 128, 332, 416, 306, 554, 334, 1179, 1177, 1109, 289, 165, 743, 1057, 1013, 209, 489, 439, 254, 290, 1316, 910, 540, 412, 661, 1976, 160, 2005, 451, 1757, 346, 221, 265, 299, 315, 307, 314, 581, 561, 224, 280, 224, 432, 782, 509, 241, 964, 366, 264, 431, 146, 243, 635, 141, 350, 531, 666, 812, 172, 459, 545, 1165, 3819, 1163, 473, 446, 562, 262, 1525, 217, 248, 122, 235, 311, 966, 694, 370, 370, 929, 474, 195, 225, 837, 773, 528, 2656, 2487, 701, 272, 739, 838, 256, 435, 2746, 246, 1156, 900, 214, 575, 1755, 686, 373, 215, 283, 405, 648, 1509, 602, 494, 161, 188, 354, 1173, 304, 455, 334, 428, 2056, 761, 189, 218, 701, 803, 414, 334, 198, 349, 307, 583, 643, 518, 1313, 390, 341, 570, 537, 797, 741, 1042, 644, 466, 1438, 437, 229, 732, 319, 390, 995, 1528, 145, 189, 1074, 529, 468, 201, 268, 351, 397, 278, 449, 333, 379, 469, 646, 624, 331, 147, 328, 303, 560, 846, 364, 750, 554, 211, 382, 751, 532, 284, 1123, 363, 1351, 400, 1365, 813, 333, 453, 360, 413, 211, 565, 339, 222, 495, 473, 1394, 767, 414, 851, 1094, 319, 484, 281, 890, 609, 405, 1605, 140, 1491, 257, 185, 626, 216, 457, 667, 460, 256, 262, 653, 834, 395, 233, 548, 930, 335, 368, 1554, 265, 677, 2122, 380, 487, 794, 201, 312, 276, 634, 333, 256, 597, 1146, 440, 1050, 348, 244, 387, 391, 101, 893, 897, 186, 1168, 987, 163, 597, 1932, 1099, 732, 1456, 3747, 437, 298, 398, 1955, 2009, 345, 336, 926, 327, 786, 481, 168, 736, 1486, 280, 791, 478, 751, 396, 425, 335, 454, 497, 205, 1213, 137, 438, 2597, 727, 531, 336, 1051, 156, 1050, 273, 2487, 170, 414, 411, 481, 1980, 650, 395, 495, 1129, 732, 420, 257, 150, 392, 3453, 149, 809, 449, 238, 3780, 634, 449, 466, 759, 435, 238, 574, 233, 506, 223, 618, 258, 149, 94, 908, 1604, 357, 263, 504, 317, 290, 703, 418, 589, 499, 319, 233, 310, 267, 1209, 1835, 246, 4614, 1254, 1869, 174, 613, 226, 348, 666, 806, 323, 482, 1168, 1239, 163, 393, 1758, 190, 134, 632, 633, 3654, 241, 174, 168, 359, 138, 421, 253, 243, 192, 195, 407, 262, 940, 151, 879, 195, 1956, 326, 637, 480, 736, 299, 1447, 1621, 372, 614, 72, 175, 1470, 2438, 903, 4943, 426, 289, 187, 108, 1406, 567, 540, 225, 84, 939, 265, 332, 254, 969, 181, 562, 401, 573, 331, 1086, 846, 138, 1357, 454, 643, 211, 136, 322, 953, 1383, 698, 274, 646, 580, 929, 234, 713, 341, 184, 279, 769, 515, 974, 120, 1853, 954, 371, 292, 397, 466, 1759, 313, 109, 565, 271, 429, 713, 145, 1767, 285, 445, 260, 1849, 643, 303, 563, 3595, 937, 425, 390, 262, 188, 367, 1499, 172, 650, 234, 301, 1073, 81, 446, 415, 376, 362, 100, 1198, 356, 504, 456, 280, 1215, 237, 267, 483, 1301, 1257, 2503, 256, 1442, 2235, 174, 561, 748, 267, 789, 692, 695, 540, 793, 353, 2671, 512, 192, 639, 207, 810, 215, 2626, 161, 165, 226, 444, 182, 452, 260, 532, 197, 391, 1041, 427, 753, 262, 398, 5998, 521, 162, 188, 335, 205, 215, 461, 178, 359, 256, 382, 416, 317, 530, 514, 818, 379, 302, 845, 263, 785, 401, 578, 215, 1531, 481, 940, 264, 494, 476, 1106, 541, 678, 788, 403, 875, 1397, 645, 303, 401, 437, 1689, 193, 473, 324, 141, 731, 1091, 460, 372, 168, 357, 1013, 529, 678, 357, 378, 123, 563, 209, 1501, 594, 796, 284, 477, 307, 766, 287, 1003, 388, 204, 54, 124, 434, 524, 362, 1432, 332, 379, 1703, 365, 370, 738, 201, 693, 420, 578, 709, 707, 333, 293, 405, 335, 742, 294, 2873, 328, 1007, 625, 718, 863, 747, 1951, 364, 235, 239, 320, 234, 478, 439, 651, 164, 603, 596, 517, 1504, 503, 1122, 460, 351, 1569, 135, 285, 328, 251, 236, 641, 125, 310, 382, 1688, 269, 83, 151, 324, 391, 562, 529, 399, 108, 719, 219, 143, 197, 2075, 365, 709, 4894, 2714, 778, 573, 157, 487, 267, 173, 310, 332, 617, 878, 345, 503, 132, 2182, 305, 91, 413, 262, 567, 1769, 389, 365, 435, 579, 156, 278, 191, 779, 1326, 595, 165, 182, 146, 531, 580, 316, 237, 228, 650, 523, 577, 579, 370, 216, 1095, 367, 614, 886, 291, 427, 211, 244, 363, 1559, 2625, 1062, 396, 355, 191, 1159, 343, 1036, 1569, 1019, 832, 168, 294, 492, 472, 684, 526, 1321, 235, 4158, 333, 248, 561, 250, 345, 355, 530, 161, 99, 233, 422, 445, 715, 483, 404, 632, 570, 239, 451, 333, 410, 410, 366, 767, 358, 1137, 472, 1056, 293, 192, 422, 1460, 426, 7756, 202, 444, 542, 554, 191, 282, 652, 97, 1201, 593, 172, 284, 188, 196, 445, 211, 1078, 497, 2669, 212, 623, 1322, 228, 228, 355, 333, 1046, 3189, 544, 500, 83, 1595, 481, 130, 170, 693, 380, 554, 635, 539, 352, 259, 844, 1286, 783, 249, 254, 980, 144, 301, 166, 281, 4056, 358, 338, 457, 404, 277, 287, 263, 1663, 217, 281, 784, 139, 324, 416, 450, 54, 831, 1236, 296, 1466, 141, 203, 143, 456, 100, 327, 391, 2331, 444, 522, 776, 375, 381, 201, 230, 1472, 640, 832, 321, 660, 601, 1874, 3915, 196, 587, 1451, 691, 100, 527, 659, 323, 343, 650, 451, 354, 663, 255, 471, 295, 2663, 736, 179, 390, 860, 744, 246, 481, 811, 897, 367, 793, 1153, 384, 2107, 242, 268, 416, 204, 909, 281, 382, 469, 714, 559, 193, 1115, 1427, 963, 456, 255, 1596, 452, 952, 1237, 418, 153, 438, 164, 193, 1641, 2507, 1005, 360, 188, 1613, 227, 441, 504, 218, 472, 328, 962, 553, 560, 129, 4944, 277, 482, 132, 1323, 173, 137, 589, 524, 1253, 946, 250, 454, 187, 691, 2679, 207, 182, 807, 338, 2819, 661, 362, 222, 302, 2860, 389, 246, 118, 465, 129, 429, 212, 131, 1468, 1225, 826, 1288, 604, 1388, 155, 478, 709, 194, 197, 1291, 183, 669, 1328, 650, 243, 889, 229, 339, 228, 349, 236, 426, 970, 621, 220, 475, 1218, 130, 1224, 271, 436, 389, 308, 2429, 748, 685, 92, 444, 1623, 453, 279, 442, 156, 1112, 1063, 203, 315, 198, 663, 271, 583, 603, 128, 557, 309, 513, 505, 3179, 480, 339, 275, 118, 252, 443, 354, 113, 401, 197, 409, 150, 740, 1178, 533, 645, 984, 761, 290, 500, 236, 1117, 451, 604, 290, 554, 242, 785, 1070, 991, 841, 146, 578, 302, 228, 347, 318, 177, 150, 989, 483, 354, 171, 631, 171, 1173, 175, 2295, 476, 271, 245, 546, 806, 1890, 887, 218, 2366, 253, 447, 252, 301, 947, 152, 725, 820, 715, 401, 246, 249, 1529, 323, 431, 199, 1428, 258, 543, 243, 967, 651, 1075, 566, 770, 694, 448, 209, 393, 278, 309, 438, 339, 202, 239, 571, 296, 3669, 2663, 367, 466, 722, 214, 263, 389, 277, 600, 312, 1754, 462, 657, 253, 632, 546, 887, 506, 337, 351, 168, 362, 1033, 600, 298, 344, 195, 593, 290, 3411, 336, 104, 1332, 555, 156, 231, 1203, 402, 176, 1113, 999, 109, 618, 796, 383, 236, 416, 357, 1766, 1832, 161, 3705, 218, 138, 879, 1185, 1072, 360, 218, 360, 163, 451, 644, 238, 1895, 378, 1172, 441, 353, 1790, 821, 896, 547, 340, 262, 1034, 461, 590, 537, 970, 265, 714, 1430, 533, 1411, 686, 1366, 196, 661, 5783, 265, 560, 220, 709, 612, 327, 223, 389, 530, 1664, 2386, 341, 523, 199, 1124, 579, 432, 338, 149, 939, 240, 906, 272, 258, 520, 154, 356, 740, 338, 570, 169, 282, 104, 725, 1468, 778, 1122, 266, 256, 411, 127, 106, 270, 186, 609, 404, 494, 1349, 276, 485, 226, 194, 806, 306, 219, 636, 887, 539, 329, 405, 272, 544, 967, 908, 278, 573, 506, 379, 278, 1540, 83, 977, 295, 154, 544, 824, 218, 136, 528, 558, 286, 175, 236, 541, 370, 513, 125, 302, 425, 288, 668, 476, 2298, 194, 228, 284, 212, 355, 312, 537, 480, 236, 322, 291, 218, 393, 375, 335, 393, 373, 298, 168, 258, 237, 158, 1036, 552, 985, 830, 830, 218, 456, 538, 414, 350, 436, 1087, 547, 533, 274, 246, 886, 278, 893, 438, 497, 163, 624, 174, 669, 408, 455, 433, 352, 1495, 643, 235, 448, 123, 462, 407, 320, 1199, 239, 162, 432, 492, 352, 440, 269, 176, 391, 340, 336, 964, 248, 162, 279, 917, 394, 301, 147, 377, 145, 761, 122, 559, 2812, 482, 438, 197, 352, 553, 831, 641, 374, 421, 239, 557, 1221, 833, 1372, 184, 347, 528, 400, 1077, 303, 350, 819, 147, 2376, 586, 383, 152, 789, 450, 253, 250, 120, 291, 215, 449, 357, 187, 249, 407, 908, 142, 623, 163, 694, 284, 860, 271, 735, 523, 386, 1605, 772, 434, 83, 177, 398, 691, 752, 449, 947, 1058, 325, 266, 280, 282, 313, 463, 203, 1252, 705, 608, 156, 431, 615, 620, 164, 758, 1153, 112, 229, 397, 1564, 357, 295, 469, 491, 468, 354, 1063, 101, 1164, 832, 900, 145, 195, 3358, 162, 150, 285, 326, 1169, 118, 1675, 1814, 148, 1123, 1589, 449, 108, 1106, 209, 409, 251, 686, 870, 479, 223, 913, 412, 832, 324, 338, 648, 265, 478, 97, 774, 445, 497, 657, 244, 252, 238, 206, 470, 551, 363, 311, 192, 295, 473, 547, 199, 308, 1826, 476, 423, 1405, 600, 798, 1011, 194, 319, 355, 217, 1538, 286, 122, 192, 760, 179, 107, 501, 157, 388, 1620, 351, 3648, 716, 729, 311, 226, 3213, 181, 536, 101, 231, 1194, 162, 764, 306, 818, 405, 138, 798, 560, 134, 150, 453, 290, 933, 1169, 276, 415, 381, 1603, 588, 417, 327, 461, 1591, 175, 541, 155, 553, 695, 519, 249, 463, 223, 431, 129, 406, 348, 4264, 274, 340, 227, 54, 398, 209, 721, 298, 454, 836, 159, 404, 617, 398, 1475, 870, 317, 1756, 168, 863, 1009, 236, 506, 390, 585, 490, 452, 3209, 1084, 341, 339, 95, 709, 204, 1014, 332, 203, 168, 1162, 286, 245, 261, 584, 403, 179, 196, 294, 144, 218, 186, 268, 2033, 229, 1581, 252, 278, 444, 249, 407, 341, 1001, 238, 634, 193, 145, 430, 633, 220, 119, 192, 423, 262, 472, 569, 301, 346, 935, 219, 751, 215, 628, 398, 506, 230, 332, 728, 111, 298, 585, 88, 513, 105, 1497, 265, 264, 181, 1767, 456, 126, 315, 181, 196, 238, 74, 251, 376, 962, 519, 660, 896, 384, 135, 216, 705, 239, 296, 206, 186, 3316, 177, 623, 495, 394, 461, 269, 360, 261, 225, 1546, 272, 545, 351, 708, 320, 895, 145, 951, 986, 288, 1481, 1548, 484, 1246, 509, 330, 1629, 725, 165, 723, 2327, 263, 1099, 1203, 580, 176, 709, 228, 659, 239, 605, 298, 1433, 559, 6504, 254, 256, 220, 502, 833, 390, 678, 640, 486, 771, 4402, 291, 384, 522, 804, 776, 446, 212, 818, 897, 462, 681, 797, 532, 93, 171, 1140, 877, 2132, 151, 227, 373, 268, 328, 213, 362, 583, 199, 183, 307, 494, 517, 564, 406, 1083, 661, 2416, 782, 667, 341, 144, 1135, 1437, 1687, 259, 184, 497, 310, 483, 1069, 1654, 348, 868, 416, 3046, 509, 605, 342, 138, 645, 365, 788, 296, 1576, 532, 815, 1401, 411, 493, 138, 416, 127, 216, 795, 114, 96, 113, 311, 2103, 1300, 819, 861, 1132, 283, 296, 238, 320, 523, 1254, 326, 1316, 362, 570, 319, 1551, 273, 489, 1934, 341, 486, 255, 358, 184, 1820, 343, 653, 350, 216, 1041, 184, 476, 2986, 478, 132, 153, 5180, 155, 260, 834, 158, 140, 740, 224, 145, 249, 1990, 284, 1449, 347, 272, 226, 318, 1436, 115, 168, 660, 1182, 152, 845, 200, 351, 1489, 270, 492, 855, 282, 330, 395, 208, 199, 386, 452, 654, 311, 1109, 890, 225, 803, 160, 846, 659, 336, 1286, 104, 238, 940, 506, 819, 6604, 531, 490, 386, 317, 195, 347, 339, 2169, 173, 1055, 365, 604, 454, 624, 174, 156, 137, 148, 319, 467, 292, 223, 289, 460, 499, 499, 275, 663, 462, 510, 261, 302, 1242, 354, 374, 317, 336, 3213, 407, 166, 582, 1713, 1326, 157, 1584, 596, 1069, 1181, 801, 1564, 136, 237, 279, 203, 975, 2039, 317, 1681, 1079, 106, 138, 273, 516, 231, 203, 453, 1353, 482, 189, 3229, 461, 898, 196, 76, 431, 263, 2491, 734, 276, 358, 486, 921, 195, 779, 199, 283, 1651, 1168, 548, 1026, 427, 1095, 114, 331, 182, 72, 192, 454, 1004, 493, 1217, 1717, 204, 1042, 1405, 247, 795, 177, 219, 1181, 558, 222, 167, 201, 346, 166, 179, 199, 314, 1825, 361, 263, 232, 1354, 197, 395, 283, 130, 892, 126, 484, 4414, 349, 815, 2676, 1064, 213, 386, 148, 253, 433, 731, 342, 202, 974, 130, 537, 254, 461, 163, 238, 466, 762, 432, 429, 492, 407, 2964, 242, 622, 422, 1292, 1035, 188, 254, 3777, 950, 379, 207, 366, 347, 536, 648, 333, 1446, 485, 1434, 215, 750, 640, 1029, 520, 206, 691, 1015, 687, 1469, 352, 236, 486, 1186, 429, 379, 325, 449, 528, 357, 242, 1799, 282, 131, 556, 642, 530, 2029, 1137, 169, 587, 492, 397, 408, 1520, 813, 218, 124, 391, 215, 336, 263, 1242, 847, 514, 432, 230, 564, 620, 278, 221, 295, 387, 411, 403, 64, 156, 117, 1070, 495, 131, 526, 267, 263, 217, 422, 795, 582, 362, 280, 220, 365, 501, 403, 487, 1534, 630, 7358, 516, 578, 2197, 1339, 155, 533, 540, 279, 1118, 640, 482, 262, 1021, 111, 227, 408, 117, 174, 523, 1013, 928, 568, 362, 185, 358, 201, 130, 256, 221, 291, 286, 267, 181, 329, 930, 208, 489, 286, 311, 301, 87, 258, 194, 364, 293, 187, 264, 1446, 1445, 692, 1382, 662, 345, 358, 355, 516, 883, 260, 664, 869, 230, 566, 226, 3651, 348, 1644, 412, 387, 396, 549, 2737, 805, 607, 109, 292, 477, 281, 971, 247, 545, 179, 320, 252, 279, 4587, 474, 474, 313, 344, 295, 391, 588, 589, 801, 448, 593, 1313, 646, 197, 2460, 364, 283, 417, 357, 574, 312, 608, 1071, 408, 682, 431, 261, 698, 917, 342, 275, 481, 209, 1115, 1226, 652, 577, 348, 142, 161, 584, 607, 500, 1037, 143, 896, 285, 622, 257, 645, 1506, 141, 1460, 907, 394, 2198, 387, 317, 320, 144, 648, 179, 3139, 2381, 511, 696, 3389, 452, 277, 826, 692, 951, 128, 439, 201, 318, 897, 357, 221, 73, 704, 182, 742, 630, 486, 934, 158, 724, 604, 1497, 324, 411, 266, 500, 299, 3674, 138, 365, 1177, 1747, 630, 345, 712, 997, 281, 915, 561, 266, 456, 351, 2260, 448, 480, 135, 453, 159, 1619, 706, 655, 564, 185, 222, 187, 324, 83, 453, 955, 431, 4663, 565, 109, 278, 520, 171, 236, 342, 341, 473, 157, 591, 732, 404, 1644, 690, 832, 166, 814, 520, 903, 913, 374, 346, 466, 463, 273, 344, 441, 170, 240, 515, 356, 270, 222, 3574, 506, 160, 302, 2001, 1167, 169, 356, 2828, 423, 194, 196, 344, 250, 150, 762, 547, 355, 1345, 1310, 446, 629, 2712, 346, 4335, 233, 626, 137, 1614, 159, 1001, 242, 187, 308, 352, 315, 655, 1137, 400, 794, 900, 1031, 189, 288, 371, 3743, 209, 213, 201, 662, 342, 196, 804, 367, 267, 615, 306, 203, 620, 875, 427, 1147, 229, 468, 154, 376, 1070, 217, 830, 502, 232, 168, 416, 427, 264, 1080, 2426, 309, 372, 423, 865, 384, 402, 622, 1565, 843, 112, 1932, 239, 526, 206, 454, 3202, 458, 665, 318, 1255, 707, 352, 4163, 374, 209, 543, 420, 320, 1114, 242, 172, 550, 813, 660, 884, 104, 1155, 1063, 502, 1164, 219, 548, 436, 302, 517, 602, 618, 375, 564, 282, 454, 312, 306, 620, 713, 609, 1222, 688, 399, 393, 408, 218, 701, 969, 332, 1068, 735, 237, 390, 1010, 197, 512, 3024, 473, 773, 216, 344, 474, 214, 724, 434, 389, 923, 267, 1535, 526, 489, 259, 3662, 816, 463, 1527, 351, 548, 483, 257, 343, 583, 421, 212, 635, 190, 3299, 384, 95, 224, 4063, 411, 373, 394, 1909, 1634, 508, 858, 326, 112, 1001, 639, 854, 2634, 156, 337, 1157, 1499, 296, 232, 578, 198, 1051, 319, 1015, 231, 445, 2345, 704, 1185, 330, 1461, 531, 962, 92, 989, 754, 1646, 616, 3239, 717, 2245, 249, 193, 106, 161, 213, 2947, 398, 1276, 750, 742, 504, 861, 463, 281, 364, 742, 791, 368, 532, 472, 2041, 797, 285, 179, 1382, 331, 667, 472, 159, 1849, 523, 405, 470, 849, 782, 168, 262, 740, 310, 268, 727, 248, 732, 518, 339, 512, 193, 302, 300, 306, 868, 571, 345, 304, 944, 364, 751, 253, 309, 246, 1542, 468, 848, 287, 922, 477, 384, 583, 298, 640, 364, 433, 358, 598, 385, 1306, 385, 1009, 756, 321, 198, 161, 559, 485, 361, 558, 160, 664, 323, 297, 584, 783, 159, 954, 431, 167, 1456, 351, 341, 517, 253, 191, 814, 406, 811, 174, 913, 261, 179, 280, 817, 1521, 332, 1486, 273, 239, 98, 454, 446, 257, 420, 243, 683, 2432, 633, 849, 548, 453, 1563, 245, 158, 149, 1250, 192, 544, 347, 3468, 829, 313, 371, 348, 214, 1373, 670, 454, 259, 241, 176, 658, 565, 308, 655, 1149, 1717, 209, 736, 395, 393, 261, 339, 205, 171, 2912, 1316, 826, 455, 783, 849, 98, 586, 428, 1247, 719, 294, 381, 142, 875, 212, 136, 769, 70, 1620, 253, 498, 962, 493, 1394, 265, 1183, 940, 1271, 623, 680, 475, 244, 267, 398, 238, 676, 205, 646, 248, 530, 492, 1179, 250, 385, 763, 974, 93, 287, 187, 363, 417, 141, 315, 607, 535, 529, 2960, 725, 472, 228, 265, 750, 3891, 427, 1483, 787, 538, 146, 628, 159, 124, 96, 211, 200, 777, 221, 449, 377, 904, 191, 188, 169, 597, 1084, 471, 746, 494, 1673, 451, 1255, 307, 618, 381, 339, 519, 159, 336, 903, 1190, 266, 1295, 559, 399, 223, 196, 131, 321, 321, 126, 836, 471, 471, 209, 126, 600, 123, 846, 1320, 262, 953, 950, 563, 2483, 221, 648, 313, 191, 323, 403, 1672, 516, 394, 93, 1376, 1132, 110, 3291, 178, 551, 158, 359, 430, 347, 361, 560, 381, 1403, 493, 284, 412, 905, 354, 1962, 173, 510, 349, 527, 155, 1611, 650, 199, 180, 517, 742, 880, 230, 581, 1603, 1059, 582, 790, 516, 131, 242, 809, 213, 999, 260, 167, 771, 245, 323, 624, 133, 306, 895, 2601, 596, 179, 425, 1860, 604, 2001, 187, 1452, 528, 454, 366, 400, 526, 376, 2880, 363, 83, 297, 179, 125, 209, 553, 212, 140, 203, 719, 850, 140, 105, 2273, 2524, 173, 201, 1829, 745, 393, 220, 230, 686, 775, 618, 829, 223, 98, 579, 175, 1422, 529, 767, 496, 659, 152, 884, 295, 262, 155, 239, 165, 1200, 335, 521, 203, 625, 217, 745, 568, 300, 1402, 787, 124, 245, 822, 656, 391, 1281, 901, 942, 188, 127, 169, 384, 648, 210, 163, 492, 384, 437, 421, 313, 266, 712, 1898, 937, 869, 596, 202, 263, 367, 718, 174, 392, 300, 247, 466, 723, 289, 367, 851, 737, 106, 1276, 757, 141, 263, 370, 932, 551, 1460, 1094, 158, 233, 113, 355, 756, 535, 1468, 95, 358, 147, 365, 3658, 219, 123, 436, 177, 310, 397, 364, 584, 557, 263, 470, 499, 382, 282, 1560, 1482, 384, 315, 1926, 92, 456, 399, 603, 178, 468, 1820, 423, 393, 287, 453, 344, 188, 612, 299, 244, 222, 379, 1482, 953, 443, 1358, 624, 743, 2893, 1251, 217, 299, 552, 1823, 800, 831, 921, 435, 721, 910, 97, 629, 332, 951, 232, 958, 561, 360, 111, 968, 427, 512, 250, 134, 385, 540, 701, 1503, 184, 297, 156, 1388, 177, 377, 389, 375, 335, 181, 225, 2710, 228, 84, 293, 443, 587, 309, 965, 1949, 681, 392, 939, 302, 342, 1160, 417, 1018, 428, 322, 398, 621, 1822, 276, 545, 1020, 392, 308, 333, 410, 1112, 601, 350, 1196, 791, 133, 231, 817, 646, 175, 277, 153, 393, 248, 232, 264, 298, 1285, 2368, 161, 858, 321, 554, 641, 586, 781, 200, 2375, 160, 1391, 707, 165, 148, 399, 689, 763, 960, 447, 402, 1454, 625, 100, 331, 595, 154, 2856, 238, 340, 117, 253, 298, 451, 679, 241, 468, 1026, 259, 155, 428, 396, 297, 1239, 1093, 1198, 2978, 170, 370, 639, 281, 252, 305, 264, 399, 205, 452, 591, 398, 268, 662, 237, 2075, 674, 411, 556, 891, 321, 637, 199, 137, 2284, 449, 216, 225, 837, 706, 190, 1602, 2379, 201, 2188, 476, 1962, 3973, 518, 1012, 144, 537, 296, 2048, 164, 160, 346, 320, 316, 337, 83, 288, 283, 427, 1931, 416, 795, 243, 1143, 279, 652, 1460, 209, 647, 368, 828, 334, 804, 302, 401, 372, 620, 376, 346, 1326, 329, 1351, 649, 336, 524, 167, 355, 230, 820, 4451, 1031, 431, 271, 227, 296, 235, 389, 747, 2055, 166, 95, 375, 410, 88, 660, 205, 845, 1780, 116, 941, 302, 1186, 280, 1281, 271, 2697, 3145, 1141, 144, 695, 178, 521, 824, 198, 201, 877, 1823, 288, 196, 682, 579, 326, 814, 287, 289, 1435, 182, 841, 503, 361, 569, 291, 1361, 830, 1340, 481, 496, 314, 982, 1455, 978, 1310, 135, 3795, 1015, 592, 431, 1026, 431, 972, 565, 495, 159, 848, 1482, 363, 176, 532, 176, 409, 1327, 184, 222, 689, 4735, 558, 188, 614, 207, 128, 371, 1895, 323, 243, 1014, 2541, 843, 3320, 248, 224, 697, 540, 290, 615, 331, 336, 216, 475, 173, 532, 5877, 5393, 223, 385, 528, 1099, 385, 1784, 200, 295, 456, 717, 311, 345, 805, 319, 236, 334, 770, 102, 397, 548, 754, 264, 196, 421, 572, 505, 345, 1549, 269, 154, 422, 518, 391, 632, 542, 377, 320, 400, 1140, 130, 254, 453, 144, 461, 186, 860, 732, 401, 2503, 291, 201, 265, 1294, 500, 395, 463, 425, 641, 907, 520, 2084, 353, 1622, 1974, 1399, 460, 122, 479, 558, 846, 1907, 167, 180, 1315, 224, 576, 598, 230, 704, 842, 129, 477, 186, 2257, 1372, 216, 194, 351, 297, 78, 1888, 460, 189, 304, 202, 211, 691, 532, 603, 1381, 333, 240, 278, 638, 609, 126, 208, 431, 256, 274, 349, 450, 432, 297, 196, 785, 304, 802, 316, 190, 1700, 281, 164, 2393, 2410, 471, 171, 717, 173, 509, 198, 626, 384, 458, 1421, 246, 619, 3508, 1188, 292, 1225, 517, 232, 866, 240, 494, 103, 317, 1573, 282, 249, 275, 1670, 591, 298, 357, 246, 460, 261, 344, 118, 104, 142, 102, 724, 987, 854, 1038, 383, 313, 2977, 683, 293, 431, 245, 1659, 545, 207, 120, 335, 328, 562, 710, 232, 195, 186, 581, 910, 352, 619, 220, 829, 490, 526, 288, 591, 1337, 227, 471, 414, 270, 263, 199, 210, 218, 450, 238, 458, 3642, 128, 268, 493, 470, 291, 1511, 1266, 228, 446, 276, 648, 500, 331, 520, 1153, 512, 301, 460, 211, 842, 3642, 1644, 549, 1107, 364, 4375, 186, 645, 250, 191, 482, 148, 2031, 625, 658, 303, 3897, 239, 767, 598, 312, 465, 336, 388, 151, 1051, 119, 355, 348, 750, 384, 311, 327, 97, 1440, 453, 338, 1298, 272, 1022, 426, 235, 282, 411, 318, 185, 663, 1558, 664, 1668, 448, 833, 757, 684, 474, 3933, 206, 294, 911, 214, 936, 90, 795, 460, 474, 351, 391, 302, 268, 956, 151, 116, 89, 661, 322, 1099, 1269, 330, 407, 311, 695, 131, 1059, 218, 133, 2264, 638, 812, 209, 1018, 240, 459, 1222, 412, 428, 138, 440, 1135, 297, 412, 876, 2271, 1374, 365, 1866, 306, 2505, 235, 569, 511, 233, 329, 378, 248, 395, 396, 471, 200, 3758, 643, 178, 750, 704, 576, 858, 222, 411, 3214, 1177, 350, 400, 645, 724, 309, 1263, 323, 624, 142, 492, 303, 279, 489, 393, 375, 448, 1069, 92, 207, 155, 119, 1190, 420, 324, 2559, 809, 296, 1429, 942, 280, 110, 597, 493, 264, 396, 73, 201, 731, 208, 945, 125, 294, 523, 129, 477, 277, 389, 334, 885, 908, 1908, 1898, 270, 909, 131, 496, 532, 169, 608, 1066, 167, 242, 355, 1122, 411, 834, 257, 292, 658, 640, 423, 320, 594, 928, 1156, 338, 485, 729, 527, 1939, 508, 462, 488, 330, 810, 159, 1110, 308, 270, 259, 249, 353, 455, 2024, 1693, 477, 461, 182, 408, 542, 140, 120, 3047, 530, 288, 3465, 547, 1711, 203, 465, 773, 213, 668, 582, 1030, 843, 271, 2316, 670, 663, 349, 503, 2233, 471, 2025, 162, 359, 529, 1067, 205, 536, 610, 386, 291, 584, 516, 231, 1316, 802, 400, 181, 409, 560, 190, 117, 544, 392, 1343, 350, 236, 573, 839, 721, 294, 970, 1923, 461, 896, 346, 1263, 372, 173, 1277, 951, 175, 200, 614, 364, 143, 368, 580, 499, 160, 431, 119, 267, 100, 268, 1135, 970, 97, 629, 397, 329, 327, 182, 422, 284, 398, 1660, 316, 123, 895, 274, 498, 468, 574, 159, 181, 735, 424, 159, 1427, 496, 580, 1512, 503, 1838, 1440, 213, 817, 3605, 649, 458, 313, 478, 349, 131, 111, 755, 300, 693, 2706, 137, 226, 682, 232, 290, 363, 209, 583, 269, 559, 315, 351, 182, 499, 1377, 681, 353, 142, 956, 539, 541, 203, 118, 2954, 283, 1856, 105, 594, 1214, 431, 403, 107, 418, 356, 1058, 184, 166, 487, 1070, 154, 503, 112, 707, 3865, 240, 485, 1145, 796, 229, 447, 645, 174, 490, 3486, 260, 2036, 278, 194, 132, 394, 114, 221, 554, 156, 193, 1437, 158, 492, 853, 163, 830, 441, 1450, 333, 522, 268, 179, 290, 250, 286, 1333, 1150, 674, 2487, 383, 4334, 791, 566, 705, 455, 200, 207, 377, 275, 147, 422, 358, 4255, 770, 456, 184, 554, 365, 484, 171, 906, 1558, 178, 484, 108, 279, 344, 486, 459, 120, 489, 1305, 5224, 635, 672, 409, 925, 1185, 1108, 905, 298, 280, 271, 1335, 284, 641, 1084, 278, 112, 445, 522, 506, 514, 184, 214, 183, 1208, 137, 306, 5223, 173, 602, 231, 178, 127, 612, 111, 193, 297, 181, 266, 365, 359, 1607, 299, 290, 572, 770, 290, 655, 332, 114, 300, 1813, 163, 571, 447, 534, 188, 485, 543, 463, 145, 315, 261, 473, 152, 538, 302, 1676, 773, 114, 151, 256, 586, 46, 1655, 568, 1021, 1542, 302, 585, 2186, 597, 727, 430, 178, 313, 545, 457, 506, 360, 120, 406, 143, 353, 389, 241, 652, 236, 617, 467, 548, 1257, 564, 702, 289, 598, 941, 104, 137, 548, 288, 160, 696, 375, 243, 506, 310, 217, 591, 164, 318, 545, 119, 315, 514, 393, 199, 926, 728, 2228, 534, 829, 281, 565, 3195, 128, 1101, 180, 1889, 277, 302, 543, 679, 1930, 568, 237, 408, 447, 580, 990, 407, 353, 233, 529, 1544, 470, 259, 175, 1119, 474, 458, 309, 676, 494, 685, 163, 162, 1236, 268, 2533, 662, 426, 362, 573, 433, 787, 157, 1395, 395, 1622, 173, 483, 239, 301, 511, 496, 1026, 763, 214, 899, 1254, 285, 316, 340, 1436, 678, 865, 917, 191, 195, 328, 1835, 420, 573, 353, 378, 504, 335, 491, 274, 721, 1154, 129, 427, 281, 131, 186, 767, 294, 246, 197, 1161, 1755, 404, 1952, 289, 733, 212, 263, 292, 869, 455, 402, 489, 2962, 316, 434, 1768, 1831, 254, 149, 534, 2975, 160, 347, 185, 668, 1034, 225, 373, 534, 460, 457, 330, 758, 213, 369, 420, 931, 480, 1133, 729, 357, 303, 710, 998, 503, 1718, 447, 462, 550, 1814, 167, 670, 702, 1393, 317, 4149, 564, 698, 339, 421, 81, 207, 181, 988, 327, 252, 151, 464, 1663, 217, 241, 200, 262, 193, 158, 277, 469, 277, 252, 398, 395, 170, 359, 256, 279, 513, 445, 461, 316, 178, 156, 378, 570, 385, 1011, 337, 518, 264, 1952, 401, 575, 123, 245, 1766, 170, 149, 411, 251, 201, 547, 155, 341, 360, 572, 237, 394, 249, 396, 166, 726, 202, 211, 131, 284, 706, 473, 1135, 396, 254, 541, 200, 290, 261, 5505, 1242, 285, 1089, 291, 543, 1732, 410, 142, 582, 865, 465, 235, 385, 264, 403, 924, 357, 544, 828, 721, 340, 441, 361, 630, 246, 369, 411, 1084, 792, 140, 612, 369, 539, 1378, 211, 3908, 414, 273, 149, 247, 341, 424, 439, 417, 462, 96, 153, 414, 311, 742, 590, 146, 250, 116, 370, 837, 528, 1199, 659, 751, 665, 158, 1366, 221, 1808, 5191, 2039, 1310, 910, 337, 697, 786, 174, 153, 244, 249, 175, 337, 430, 879, 571, 126, 231, 963, 89, 221, 401, 380, 164, 300, 435, 169, 707, 160, 506, 308, 479, 1055, 225, 360, 160, 185, 564, 151, 573, 462, 683, 683, 833, 628, 384, 832, 2021, 409, 258, 522, 174, 429, 785, 394, 751, 624, 623, 497, 143, 325, 353, 255, 210, 1403, 1030, 377, 614, 1256, 374, 626, 772, 526, 259, 773, 1292, 318, 676, 194, 227, 238, 501, 596, 421, 139, 358, 157, 1943, 334, 271, 406, 503, 366, 2760, 675, 304, 346, 513, 609, 1816, 374, 639, 1794, 526, 326, 488, 1423, 333, 214, 265, 132, 198, 479, 361, 192, 1808, 1374, 89, 431, 749, 160, 2721, 1174, 1881, 603, 878, 648, 219, 266, 514, 627, 419, 470, 579, 919, 166, 216, 482, 1284, 515, 428, 875, 827, 339, 257, 1351, 666, 757, 396, 197, 380, 569, 399, 419, 329, 1986, 574, 362, 205, 3088, 858, 250, 1290, 645, 509, 541, 339, 707, 297, 452, 746, 628, 1688, 448, 202, 431, 857, 368, 1168, 1835, 186, 853, 1333, 151, 214, 453, 540, 174, 316, 868, 741, 809, 132, 352, 290, 658, 173, 1575, 223, 682, 922, 454, 210, 980, 336, 343, 174, 233, 210, 130, 1064, 489, 324, 400, 675, 239, 676, 386, 383, 244, 918, 455, 461, 200, 145, 228, 1254, 809, 866, 171, 875, 2302, 132, 171, 98, 824, 827, 289, 926, 236, 1112, 274, 543, 320, 3452, 148, 442, 372, 1446, 648, 402, 1689, 975, 292, 282, 422, 217, 609, 1602, 287, 131, 486, 588, 320, 1017, 649, 219, 706, 355, 321, 118, 935, 293, 419, 797, 440, 544, 495, 148, 327, 219, 362, 159, 722, 942, 2267, 408, 801, 179, 103, 614, 327, 236, 171, 267, 215, 1545, 567, 164, 663, 517, 547, 529, 265, 888, 175, 333, 631, 1549, 238, 427, 285, 664, 257, 2252, 1334, 814, 170, 192, 395, 319, 390, 119, 267, 242, 1070, 574, 463, 521, 375, 1122, 1373, 762, 3958, 1682, 231, 407, 184, 436, 196, 291, 230, 289, 412, 458, 205, 229, 211, 248, 136, 1865, 923, 729, 956, 682, 622, 320, 253, 189, 1489, 2443, 309, 690, 290, 577, 273, 281, 288, 1116, 405, 673, 1477, 1003, 169, 428, 429, 330, 759, 1456, 417, 945, 588, 149, 306, 172, 152, 244, 1069, 988, 265, 477, 609, 1056, 1230, 941, 1492, 361, 438, 414, 612, 590, 479, 183, 537, 201, 396, 194, 337, 534, 144, 209, 359, 1598, 3527, 905, 723, 587, 415, 680, 478, 1169, 307, 215, 811, 184, 186, 784, 187, 435, 99, 385, 413, 140, 324, 1708, 282, 306, 720, 336, 1381, 181, 1093, 537, 1721, 370, 1576, 292, 370, 426, 301, 270, 1160, 150, 206, 143, 778, 338, 192, 389, 597, 334, 151, 264, 723, 294, 297, 1143, 109, 367, 210, 1514, 695, 573, 221, 281, 549, 301, 332, 1327, 179, 1432, 508, 1024, 3003, 629, 137, 1290, 251, 1482, 422, 282, 701, 395, 506, 456, 601, 1734, 264, 154, 1562, 807, 522, 525, 985, 326, 125, 326, 744, 360, 814, 582, 203, 199, 715, 271, 834, 278, 1320, 1696, 704, 249, 819, 667, 561, 309, 248, 229, 265, 806, 464, 423, 347, 478, 497, 2064, 2163, 1036, 250, 747, 531, 883, 1517, 2071, 298, 193, 1192, 360, 253, 294, 234, 399, 700, 442, 275, 363, 548, 307, 240, 1097, 153, 333, 1767, 215, 153, 297, 416, 615, 505, 105, 156, 195, 1065, 383, 1663, 308, 358, 347, 675, 226, 910, 919, 547, 163, 140, 332, 528, 407, 498, 413, 385, 200, 393, 2929, 557, 1509, 228, 94, 1257, 404, 1137, 247, 189, 172, 298, 277, 471, 773, 299, 1877, 291, 720, 734, 148, 968, 278, 1014, 730, 1284, 223, 704, 184, 240, 300, 220, 403, 541, 159, 561, 618, 1091, 404, 703, 624, 2956, 932, 453, 312, 837, 669, 705, 213, 3728, 367, 144, 278, 228, 170, 1452, 458, 325, 951, 257, 262, 425, 126, 198, 364, 425, 937, 856, 149, 2255, 577, 736, 227, 3498, 574, 205, 316, 227, 227, 231, 84, 212, 213, 230, 2865, 561, 520, 2218, 500, 339, 395, 414, 470, 582, 110, 208, 131, 815, 227, 367, 1067, 1169, 563, 226, 328, 1334, 451, 1136, 220, 558, 355, 979, 785, 290, 591, 501, 649, 509, 261, 446, 1284, 683, 385, 308, 540, 3824, 243, 1238, 514, 475, 219, 477, 414, 509, 709, 743, 310, 280, 357, 1151, 324, 426, 248, 232, 1842, 764, 4257, 127, 233, 932, 347, 754, 786, 554, 122, 418, 439, 203, 273, 259, 358, 272, 551, 403, 744, 433, 3927, 1133, 238, 86, 198, 941, 1413, 299, 973, 261, 1224, 3892, 558, 315, 546, 788, 461, 459, 352, 437, 808, 821, 356, 600, 2425, 183, 1808, 170, 2716, 330, 272, 606, 223, 481, 5242, 139, 465, 318, 1128, 460, 958, 120, 569, 1473, 163, 224, 333, 122, 1053, 242, 115, 319, 229, 1778, 275, 476, 1278, 687, 477, 848, 581, 133, 281, 5926, 1231, 2628, 930, 831, 230, 163, 2243, 621, 154, 555, 177, 134, 200, 169, 220, 152, 755, 1631, 1029, 525, 511, 269, 720, 684, 772, 180, 735, 381, 301, 270, 836, 898, 325, 260, 1854, 254, 176, 200, 373, 735, 493, 1279, 959, 418, 4949, 375, 2349, 601, 286, 1408, 228, 195, 489, 292, 1817, 150, 886, 287, 387, 342, 223, 503, 292, 222, 229, 1076, 356, 183, 104, 654, 303, 459, 227, 1133, 214, 151, 972, 154, 454, 630, 274, 316, 2059, 394, 789, 561, 609, 324, 362, 876, 307, 236, 1416, 268, 836, 319, 284, 292, 347, 336, 530, 1242, 169, 891, 629, 865, 247, 719, 740, 323, 202, 1767, 732, 367, 414, 305, 296, 2782, 338, 131, 364, 307, 197, 618, 375, 160, 360, 318, 466, 419, 1000, 355, 232, 1653, 455, 354, 348, 158, 784, 197, 678, 900, 1257, 382, 224, 640, 401, 219, 287, 428, 215, 183, 401, 269, 899, 3581, 788, 538, 232, 254, 684, 314, 548, 712, 311, 341, 1021, 320, 598, 549, 950, 2214, 138, 2721, 1009, 1183, 213, 1158, 646, 169, 285, 224, 794, 1067, 984, 299, 165, 547, 365, 526, 785, 302, 761, 406, 310, 1863, 177, 363, 1018, 1466, 251, 2156, 700, 980, 474, 703, 547, 693, 92, 729, 1005, 474, 238, 632, 276, 314, 702, 240, 320, 185, 679, 203, 833, 1228, 1620, 1280, 611, 460, 423, 448, 373, 868, 527, 982, 266, 263, 222, 387, 555, 143, 1690, 1239, 212, 212, 511, 808, 630, 900, 984, 848, 401, 269, 528, 1683, 519, 1317, 319, 578, 176, 1063, 859, 756, 1051, 735, 1007, 485, 216, 273, 288, 249, 796, 174, 770, 590, 840, 718, 1288, 457, 137, 443, 542, 395, 232, 426, 455, 234, 241, 437, 139, 206, 946, 164, 224, 405, 1506, 509, 76, 1364, 626, 609, 336, 1926, 1166, 174, 354, 541, 374, 78, 320, 186, 402, 1398, 258, 841, 260, 1268, 208, 528, 250, 292, 994, 656, 838, 1461, 793, 150, 338, 89, 152, 1242, 152, 127, 994, 584, 400, 338, 359, 392, 865, 174, 417, 827, 556, 692, 204, 1137, 202, 427, 773, 481, 364, 511, 784, 399, 2011, 2224, 216, 3837, 453, 782, 273, 355, 1101, 516, 445, 498, 534, 195, 333, 1185, 284, 925, 1334, 750, 893, 623, 3813, 414, 1209, 229, 1150, 348, 337, 231, 782, 3221, 456, 850, 1087, 169, 506, 190, 376, 488, 366, 213, 214, 365, 985, 668, 228, 142, 605, 493, 489, 2362, 488, 2773, 307, 1093, 577, 188, 1231, 746, 1389, 137, 252, 312, 2733, 1143, 316, 2285, 382, 141, 249, 326, 273, 774, 218, 546, 164, 228, 554, 127, 344, 499, 281, 273, 541, 1251, 1952, 1320, 337, 585, 453, 218, 636, 757, 351, 854, 1682, 158, 1370, 4496, 752, 542, 662, 281, 417, 199, 295, 1345, 226, 369, 1159, 319, 199, 552, 1273, 508, 809, 445, 817, 187, 728, 278, 3891, 171, 280, 1792, 665, 916, 414, 770, 1447, 524, 171, 436, 1666, 574, 288, 496, 343, 1033, 138, 434, 722, 570, 312, 1263, 325, 1833, 429, 170, 304, 1583, 386, 473, 641, 1798, 1589, 561, 384, 610, 461, 736, 423, 692, 1278, 510, 430, 1302, 287, 583, 507, 307, 299, 569, 476, 259, 854, 818, 978, 379, 521, 958, 341, 200, 1012, 58, 578, 212, 1056, 367, 485, 387, 526, 2265, 115, 241, 927, 413, 142, 581, 119, 464, 594, 514, 323, 588, 352, 195, 356, 297, 523, 543, 1367, 77, 226, 74, 249, 196, 804, 603, 462, 824, 451, 115, 384, 742, 741, 329, 300, 633, 1079, 138, 242, 219, 155, 627, 943, 340, 435, 306, 391, 171, 182, 214, 179, 107, 886, 3729, 784, 396, 117, 1185, 209, 264, 754, 458, 368, 514, 119, 735, 334, 1894, 192, 487, 469, 324, 599, 1094, 319, 311, 669, 461, 650, 253, 526, 197, 1592, 495, 609, 295, 695, 628, 412, 201, 512, 188, 160, 378, 487, 247, 168, 344, 274, 489, 1086, 1111, 514, 370, 267, 3231, 364, 243, 582, 881, 850, 451, 1081, 485, 224, 568, 579, 711, 717, 225, 243, 746, 567, 633, 652, 272, 661, 348, 599, 282, 176, 649, 320, 1149, 617, 899, 514, 397, 191, 158, 250, 1730, 489, 883, 767, 4444, 555, 435, 242, 581, 667, 821, 334, 589, 776, 846, 701, 576, 215, 173, 577, 2755, 543, 157, 464, 368, 225, 158, 228, 361, 228, 918, 1005, 538, 332, 410, 504, 661, 159, 573, 417, 2991, 1178, 324, 365, 1028, 313, 406, 2077, 421, 1688, 284, 262, 264, 2254, 322, 229, 1401, 254, 780, 384, 96, 1198, 2510, 600, 131, 136, 751, 361, 214, 161, 1261, 663, 91, 274, 566, 245, 314, 176, 1104, 295, 302, 378, 608, 402, 271, 353, 734, 1137, 893, 198, 329, 255, 600, 401, 170, 380, 496, 316, 132, 323, 138, 840, 339, 583, 585, 776, 271, 457, 185, 287, 344, 334, 1560, 308, 192, 122, 139, 800, 623, 303, 177, 215, 366, 1900, 222, 821, 798, 285, 136, 339, 549, 1178, 180, 274, 286, 516, 606, 172, 354, 881, 1704, 244, 178, 1111, 325, 215, 203, 506, 781, 377, 192, 146, 406, 194, 1089, 841, 1493, 406, 2805, 217, 118, 702, 816, 361, 251, 1165, 180, 286, 536, 351, 1187, 249, 238, 1335, 1318, 143, 107, 177, 177, 178, 196, 364, 1021, 498, 778, 247, 825, 175, 402, 450, 397, 1913, 381, 474, 2030, 824, 763, 1255, 192, 369, 170, 145, 168, 304, 181, 192, 376, 209, 636, 446, 571, 1063, 303, 350, 510, 618, 2302, 532, 107, 266, 343, 4864, 393, 311, 193, 245, 313, 562, 922, 888, 511, 174, 2754, 367, 244, 226, 823, 260, 294, 480, 215, 5160, 141, 818, 688, 572, 650, 689, 1990, 228, 296, 246, 639, 385, 494, 675, 104, 773, 253, 399, 898, 190, 775, 438, 477, 234, 169, 1113, 230, 278, 570, 475, 315, 327, 809, 437, 272, 913, 1173, 125, 276, 456, 418, 613, 612, 1234, 80, 529, 301, 542, 542, 1826, 302, 492, 525, 927, 326, 279, 235, 1176, 386, 1920, 942, 884, 449, 1231, 537, 164, 445, 226, 545, 1667, 189, 1025, 567, 348, 166, 1415, 261, 974, 1086, 959, 1772, 149, 1745, 736, 691, 216, 663, 194, 677, 1920, 388, 580, 535, 4490, 159, 270, 187, 433, 995, 260, 541, 548, 618, 832, 631, 1524, 2426, 547, 683, 453, 1531, 469, 471, 308, 323, 879, 181, 415, 329, 445, 977, 924, 259, 493, 713, 712, 334, 5228, 154, 352, 277, 2441, 796, 213, 246, 776, 249, 304, 179, 977, 90, 386, 407, 470, 755, 300, 104, 677, 454, 484, 576, 408, 219, 192, 56, 2910, 168, 1852, 371, 283, 661, 1183, 1041, 358, 174, 193, 651, 434, 527, 1802, 207, 1181, 781, 425, 250, 266, 159, 3781, 682, 440, 401, 195, 109, 344, 246, 282, 3663, 217, 275, 501, 462, 244, 209, 321, 320, 194, 328, 1662, 195, 793, 290, 154, 247, 1393, 905, 725, 228, 413, 379, 425, 1040, 1162, 172, 330, 2058, 364, 310, 1962, 298, 1828, 608, 186, 444, 1006, 344, 165, 163, 260, 91, 375, 479, 250, 375, 3567, 557, 412, 267, 958, 442, 587, 157, 203, 239, 447, 600, 503, 83, 696, 729, 304, 1027, 472, 729, 400, 219, 589, 709, 194, 197, 227, 211, 345, 2734, 304, 3958, 246, 581, 245, 1326, 455, 2392, 154, 269, 283, 510, 326, 495, 554, 520, 390, 142, 187, 212, 170, 181, 517, 251, 223, 535, 351, 159, 1261, 1419, 249, 472, 351, 218, 194, 1572, 152, 396, 473, 448, 363, 176, 2915, 293, 1070, 1713, 683, 682, 201, 312, 190, 128, 528, 498, 388, 181, 180, 163, 922, 516, 459, 360, 384, 345, 221, 545, 83, 509, 873, 1085, 552, 402, 220, 680, 603, 430, 311, 131, 380, 265, 379, 431, 2577, 335, 544, 223, 335, 168, 475, 286, 396, 164, 1780, 213, 610, 3618, 1780, 233, 236, 912, 126, 721, 921, 1176, 499, 179, 411, 1843, 1035, 385, 444, 284, 268, 984, 1033, 163, 209, 2002, 441, 407, 335, 1106, 369, 814, 211, 644, 209, 226, 522, 454, 242, 515, 1206, 148, 626, 1001, 510, 495, 594, 141, 302, 268, 3090, 280, 691, 498, 163, 454, 162, 723, 84, 817, 168, 128, 297, 508, 795, 429, 599, 172, 318, 1175, 169, 725, 246, 410, 171, 179, 526, 2362, 1076, 269, 960, 248, 175, 224, 449, 127, 1502, 545, 233, 443, 524, 564, 360, 341, 263, 138, 261, 465, 499, 265, 150, 604, 302, 567, 175, 959, 373, 394, 615, 148, 565, 112, 460, 1040, 270, 329, 128, 358, 496, 769, 297, 805, 602, 170, 909, 211, 261, 743, 857, 588, 214, 529, 677, 2939, 538, 257, 163, 343, 289, 196, 380, 653, 812, 635, 1618, 429, 245, 119, 112, 973, 85, 965, 198, 1933, 265, 284, 396, 123, 122, 184, 140, 380, 619, 892, 318, 320, 282, 489, 552, 2188, 280, 176, 1196, 586, 285, 435, 1536, 267, 250, 182, 211, 406, 316, 131, 2683, 1446, 1561, 2920, 167, 1802, 989, 462, 508, 679, 601, 614, 369, 1030, 315, 330, 554, 1116, 339, 276, 283, 613, 795, 402, 958, 761, 546, 1287, 487, 610, 823, 786, 436, 1182, 472, 229, 518, 770, 1060, 302, 675, 128, 676, 394, 348, 1347, 772, 700, 771, 213, 361, 130, 183, 969, 369, 554, 805, 541, 1246, 488, 912, 267, 380, 1484, 222, 767, 199, 314, 549, 1376, 434, 289, 1481, 45, 798, 2548, 386, 670, 184, 309, 484, 378, 776, 279, 1252, 181, 848, 667, 293, 653, 533, 362, 76, 645, 154, 393, 494, 1309, 445, 517, 453, 478, 908, 1779, 175, 533, 410, 370, 534, 334, 362, 686, 642, 673, 821, 884, 118, 260, 452, 955, 1036, 272, 1324, 502, 185, 320, 151, 2125, 427, 3404, 306, 960, 286, 326, 394, 433, 1690, 595, 218, 736, 353, 280, 527, 293, 756, 2006, 627, 134, 280, 332, 386, 445, 423, 174, 454, 666, 153, 474, 148, 591, 243, 210, 989, 235, 373, 402, 275, 1260, 1097, 417, 279, 205, 147, 1628, 1735, 261, 183, 417, 100, 1353, 220, 698, 956, 2861, 600, 165, 734, 1341, 251, 184, 316, 171, 213, 877, 647, 3488, 1836, 237, 355, 382, 442, 373, 275, 467, 305, 386, 576, 1088, 299, 408, 500, 468, 234, 531, 263, 451, 3811, 490, 377, 213, 244, 502, 170, 386, 208, 511, 300, 238, 456, 395, 591, 104, 298, 524, 613, 627, 467, 1128, 294, 382, 639, 330, 483, 98, 176, 1110, 202, 2055, 448, 846, 833, 275, 379, 415, 875, 1717, 508, 202, 250, 793, 323, 544, 164, 113, 528, 436, 236, 709, 221, 499, 239, 1271, 1003, 227, 1020, 1903, 733, 555, 1618, 2114, 624, 348, 253, 181, 284, 306, 920, 111, 2383, 239, 223, 240, 916, 470, 259, 680, 200, 1076, 497, 1370, 563, 431, 271, 512, 449, 254, 830, 481, 193, 167, 1285, 897, 848, 663, 541, 800, 1327, 703, 1333, 138, 316, 244, 795, 2755, 336, 640, 395, 527, 635, 278, 515, 290, 545, 276, 190, 170, 893, 1132, 475, 623, 1639, 2581, 621, 1726, 1472, 1912, 436, 347, 476, 608, 235, 559, 1117, 159, 540, 255, 189, 317, 470, 328, 2047, 1116, 1008, 190, 458, 360, 304, 446, 260, 208, 191, 391, 312, 482, 160, 250, 453, 185, 339, 2023, 1639, 5345, 337, 316, 599, 800, 315, 659, 137, 822, 1893, 1212, 688, 262, 1127, 400, 1245, 216, 960, 205, 1067, 1321, 530, 828, 231, 73, 250, 1252, 122, 296, 305, 190, 306, 179, 143, 2078, 419, 538, 174, 1039, 330, 265, 939, 330, 389, 866, 207, 133, 118, 1090, 347, 322, 109, 376, 635, 483, 233, 1081, 1264, 873, 1007, 202, 163, 510, 1899, 1538, 711, 669, 1595, 686, 223, 606, 278, 295, 689, 822, 613, 249, 602, 484, 193, 161, 380, 194, 1119, 304, 498, 4715, 639, 762, 249, 189, 229, 251, 727, 352, 363, 469, 321, 5234, 713, 362, 1115, 212, 575, 149, 763, 696, 1588, 110, 133, 290, 1728, 986, 356, 245, 1834, 197, 195, 302, 471, 552, 189, 582, 974, 269, 1688, 1342, 1203, 820, 151, 986, 868, 431, 840, 622, 1530, 303, 336, 457, 492, 1244, 586, 211, 394, 290, 1087, 421, 1458, 3853, 143, 841, 459, 256, 1361, 1469, 462, 344, 635, 1049, 207, 314, 362, 105, 1537, 310, 974, 505, 189, 958, 3839, 159, 550, 404, 1232, 1027, 639, 268, 1396, 200, 214, 148, 173, 274, 201, 1478, 3933, 513, 191, 406, 374, 163, 622, 472, 419, 205, 679, 566, 693, 134, 371, 1572, 163, 328, 1120, 273, 329, 1240, 349, 350, 503, 3982, 478, 441, 523, 526, 359, 651, 1446, 128, 927, 802, 361, 369, 234, 405, 1442, 176, 557, 1181, 894, 5514, 591, 1236, 1456, 309, 221, 723, 910, 727, 426, 513, 556, 1322, 352, 499, 195, 118, 816, 153, 1030, 2455, 922, 148, 188, 414, 690, 703, 593, 884, 990, 671, 260, 741, 335, 1531, 231, 145, 576, 2088, 1492, 333, 1645, 204, 1203, 296, 376, 302, 1669, 940, 1250, 81, 128, 284, 770, 285, 305, 604, 2989, 215, 464, 445, 1199, 239, 2143, 1533, 347, 1707, 568, 153, 177, 383, 143, 204, 154, 1232, 883, 273, 243, 622, 350, 206, 262, 697, 238, 699, 268, 556, 419, 1002, 387, 365, 291, 761, 476, 943, 375, 438, 954, 294, 1267, 852, 266, 1469, 396, 420, 165, 804, 844, 1145, 600, 1659, 167, 1056, 136, 387, 213, 242, 2006, 558, 456, 465, 242, 411, 342, 1150, 168, 489, 3855, 639, 254, 413, 708, 416, 1870, 342, 293, 712, 441, 484, 129, 188, 103, 224, 3264, 476, 314, 597, 542, 160, 5972, 370, 150, 1882, 356, 300, 260, 1031, 197, 595, 251, 514, 621, 569, 149, 266, 928, 937, 1071, 557, 445, 723, 714, 280, 1064, 256, 297, 491, 197, 5097, 261, 205, 274, 406, 882, 507, 338, 447, 466, 276, 242, 240, 322, 1523, 183, 256, 491, 560, 960, 277, 540, 420, 513, 1130, 816, 199, 4332, 371, 451, 385, 210, 2503, 568, 357, 316, 232, 409, 317, 607, 232, 2447, 339, 123, 351, 442, 864, 143, 389, 1741, 219, 546, 307, 750, 1129, 245, 259, 107, 1154, 175, 378, 615, 757, 2120, 617, 319, 174, 655, 188, 499, 214, 556, 136, 123, 406, 582, 678, 471, 225, 1604, 471, 1076, 675, 667, 3339, 369, 372, 644, 295, 327, 209, 300, 148, 2382, 490, 491, 781, 389, 912, 393, 190, 287, 496, 442, 188, 664, 613, 811, 657, 818, 189, 232, 372, 340, 162, 167, 389, 584, 563, 144, 644, 390, 250, 1047, 3880, 716, 1550, 288, 237, 686, 209, 407, 569, 446, 432, 188, 327, 797, 876, 324, 280, 1281, 753, 353, 464, 319, 150, 563, 425, 612, 284, 244, 523, 1572, 358, 2242, 265, 358, 396, 248, 599, 996, 2114, 408, 779, 94, 389, 343, 727, 561, 165, 1147, 240, 674, 1746, 289, 798, 1097, 549, 600, 203, 814, 1507, 139, 144, 932, 745, 155, 152, 1828, 804, 4643, 412, 342, 154, 1956, 717, 229, 649, 180, 301, 220, 1175, 383, 1147, 863, 290, 297, 1577, 1682, 169, 191, 708, 343, 885, 1058, 205, 364, 343, 232, 231, 581, 539, 807, 287, 336, 216, 1177, 282, 640, 775, 641, 396, 314, 444, 220, 1725, 731, 400, 175, 912, 232, 1985, 166, 211, 403, 140, 261, 451, 752, 601, 278, 245, 387, 525, 578, 580, 225, 127, 389, 487, 642, 637, 151, 2220, 576, 422, 5286, 288, 124, 221, 224, 813, 526, 291, 165, 304, 285, 74, 349, 249, 737, 286, 291, 771, 96, 168, 259, 239, 214, 484, 456, 240, 526, 1303, 287, 296, 212, 576, 258, 681, 206, 411, 158, 170, 523, 277, 679, 458, 1581, 241, 413, 347, 1656, 439, 1172, 2250, 309, 268, 831, 178, 323, 463, 735, 157, 71, 102, 386, 264, 168, 520, 96, 138, 261, 491, 2193, 1103, 626, 314, 415, 294, 1784, 532, 203, 450, 300, 290, 237, 1301, 219, 483, 30, 506, 390, 2738, 500, 2967, 214, 391, 464, 313, 312, 267, 333, 227, 850, 568, 179, 514, 213, 4416, 367, 561, 243, 678, 146, 1423, 219, 1363, 451, 991, 730, 276, 271, 1718, 598, 644, 234, 429, 126, 280, 138, 190, 1554, 446, 562, 440, 186, 208, 616, 74, 574, 223, 409, 301, 188, 226, 258, 225, 426, 624, 356, 1686, 401, 1048, 258, 1069, 74, 1482, 327, 186, 466, 2734, 998, 391, 742, 1308, 280, 175, 1004, 130, 589, 1459, 535, 241, 236, 458, 774, 377, 407, 286, 448, 491, 620, 839, 1896, 473, 208, 200, 402, 208, 162, 1883, 1366, 504, 264, 3537, 1160, 374, 133, 318, 417, 724, 181, 376, 532, 730, 241, 299, 488, 174, 721, 216, 361, 609, 1009, 549, 2355, 347, 123, 6518, 630, 839, 619, 624, 737, 210, 363, 639, 480, 1262, 339, 161, 132, 801, 365, 392, 766, 299, 978, 380, 243, 582, 254, 582, 436, 212, 372, 233, 1052, 142, 260, 274, 863, 238, 135, 198, 139, 164, 338, 3221, 1324, 637, 576, 933, 179, 1044, 498, 398, 428, 2543, 675, 422, 145, 287, 1088, 628, 1714, 438, 206, 384, 323, 1021, 382, 969, 1726, 509, 1615, 1159, 749, 392, 2761, 162, 454, 255, 952, 157, 193, 905, 1036, 387, 470, 351, 470, 287, 514, 296, 363, 3730, 1313, 456, 320, 468, 1468, 276, 234, 324, 595, 586, 338, 154, 515, 332, 583, 412, 593, 296, 236, 976, 198, 300, 284, 127, 537, 498, 408, 843, 773, 678, 271, 624, 278, 3609, 372, 361, 928, 405, 741, 877, 1399, 270, 396, 322, 214, 257, 265, 232, 508, 240, 638, 405, 645, 562, 222, 255, 153, 269, 188, 286, 2114, 515, 752, 246, 1166, 1866, 237, 421, 235, 1459, 135, 826, 199, 488, 694, 134, 186, 429, 563, 657, 323, 137, 673, 329, 642, 993, 1697, 219, 964, 218, 273, 220, 223, 464, 261, 160, 1068, 523, 873, 567, 323, 169, 226, 1644, 589, 2395, 290, 648, 1318, 329, 3225, 545, 768, 931, 249, 236, 378, 1982, 806, 438, 397, 305, 157, 362, 686, 721, 644, 1361, 492, 410, 144, 404, 69, 396, 201, 537, 117, 1434, 823, 307, 337, 229, 599, 389, 1411, 393, 227, 298, 369, 597, 368, 559, 850, 903, 555, 154, 287, 321, 339, 403, 146, 787, 1189, 509, 575, 744, 810, 211, 679, 567, 654, 372, 2205, 912, 195, 1012, 87, 226, 360, 795, 435, 672, 498, 133, 502, 421, 124, 202, 140, 509, 228, 298, 229, 190, 125, 377, 5048, 328, 440, 471, 856, 273, 293, 1461, 238, 216, 226, 682, 513, 213, 676, 280, 356, 437, 838, 1278, 162, 310, 295, 354, 700, 1125, 516, 308, 159, 479, 391, 685, 412, 275, 177, 632, 376, 796, 815, 510, 759, 492, 105, 146, 551, 773, 219, 320, 231, 1144, 196, 1072, 330, 292, 486, 1889, 105, 427, 489, 598, 474, 174, 914, 408, 126, 821, 252, 351, 412, 331, 341, 128, 605, 357, 536, 288, 198, 240, 191, 909, 107, 331, 3189, 269, 1097, 354, 918, 805, 255, 148, 238, 437, 3930, 333, 555, 644, 179, 508, 476, 438, 416, 506, 895, 441, 711, 415, 337, 261, 291, 196, 706, 205, 380, 870, 334, 1280, 3358, 296, 631, 1186, 1109, 518, 725, 130, 1776, 350, 576, 529, 287, 798, 186, 523, 375, 460, 1986, 546, 179, 427, 675, 420, 292, 449, 157, 178, 125, 422, 500, 367, 213, 143, 427, 204, 525, 259, 691, 508, 644, 159, 2833, 201, 100, 229, 237, 1097, 694, 315, 804, 922, 213, 141, 782, 175, 186, 404, 863, 350, 503, 782, 856, 780, 100, 227, 2086, 296, 496, 342, 689, 274, 243, 245, 1666, 584, 546, 1384, 341, 266, 250, 282, 748, 2980, 323, 141, 333, 377, 626, 227, 111, 204, 700, 1539, 1454, 277, 627, 4219, 1319, 1091, 255, 231, 232, 120, 397, 448, 281, 260, 121, 346, 2345, 413, 1274, 722, 261, 676, 1374, 876, 2340, 174, 945, 685, 329, 795, 130, 250, 544, 405, 377, 205, 354, 739, 863, 422, 152, 225, 301, 150, 297, 759, 1146, 1403, 109, 110, 293, 301, 968, 1509, 175, 362, 533, 561, 306, 1673, 681, 326, 541, 292, 3838, 150, 204, 1254, 919, 951, 679, 3679, 280, 214, 288, 1100, 149, 138, 254, 244, 205, 231, 175, 110, 456, 820, 153, 252, 525, 1046, 443, 357, 543, 120, 306, 419, 893, 347, 836, 379, 561, 306, 226, 205, 1749, 1786, 318, 307, 710, 214, 426, 384, 371, 225, 2210, 578, 191, 1237, 1163, 950, 240, 372, 826, 111, 421, 189, 2322, 461, 517, 252, 821, 801, 723, 321, 736, 673, 230, 1329, 949, 468, 532, 480, 63, 303, 449, 903, 628, 599, 543, 942, 962, 242, 2882, 293, 343, 292, 857, 558, 1255, 304, 239, 1166, 608, 149, 959, 258, 383, 971, 171, 377, 192, 400, 287, 95, 2313, 549, 1385, 379, 3072, 455, 84, 842, 2741, 477, 1053, 355, 234, 2034, 210, 285, 477, 445, 697, 2430, 795, 401, 505, 225, 738, 1519, 141, 176, 903, 429, 360, 768, 713, 1662, 191, 928, 361, 1206, 994, 1956, 189, 449, 988, 840, 244, 179, 650, 212, 3011, 1964, 365, 319, 534, 1034, 305, 427, 501, 858, 320, 201, 573, 769, 749, 454, 575, 431, 335, 227, 516, 69, 363, 147, 232, 341, 775, 1445, 1193, 288, 1458, 295, 386, 285, 192, 565, 190, 242, 170, 350, 607, 328, 837, 661, 1641, 525, 145, 239, 177, 246, 219, 304, 307, 217, 220, 194, 1185, 471, 425, 959, 379, 1092, 395, 158, 1613, 1432, 599, 351, 339, 269, 2845, 165, 511, 526, 1062, 253, 490, 305, 436, 1147, 246, 328, 554, 565, 151, 475, 319, 539, 333, 222, 1474, 838, 933, 167, 160, 593, 668, 878, 2181, 1151, 561, 896, 243, 395, 219, 227, 316, 719, 863, 527, 444, 249, 767, 323, 2103, 143, 341, 356, 557, 2080, 631, 742, 98, 669, 1574, 837, 552, 131, 1119, 211, 518, 122, 4476, 777, 551, 606, 409, 612, 670, 797, 434, 256, 388, 742, 186, 935, 347, 5555, 846, 186, 756, 394, 936, 596, 310, 438, 1140, 144, 146, 131, 583, 355, 431, 1056, 896, 1123, 207, 702, 429, 241, 1009, 218, 154, 1217, 1783, 674, 248, 2003, 881, 265, 1085, 4461, 1990, 672, 1569, 690, 441, 149, 965, 105, 411, 1382, 378, 832, 175, 76, 343, 593, 846, 423, 641, 541, 220, 147, 2874, 302, 859, 607, 249, 352, 536, 163, 544, 131, 141, 649, 288, 1326, 716, 343, 275, 938, 421, 173, 586, 413, 2170, 713, 371, 556, 513, 707, 685, 296, 1742, 73, 584, 34, 567, 254, 224, 700, 321, 338, 304, 567, 324, 563, 640, 89, 274, 525, 547, 364, 438, 437, 232, 366, 620, 1839, 566, 4414, 1706, 356, 1082, 125, 1021, 667, 632, 2773, 554, 2015, 223, 314, 248, 998, 616, 386, 633, 357, 963, 1642, 462, 203, 1367, 780, 1876, 340, 229, 386, 2770, 214, 1250, 258, 233, 691, 617, 486, 487, 78, 460, 214, 350, 154, 162, 161, 1201, 446, 366, 910, 440, 878, 465, 507, 430, 1249, 101, 504, 1006, 1288, 956, 293, 293, 245, 518, 510, 638, 386, 397, 1705, 5883, 189, 2695, 776, 636, 111, 194, 287, 131, 293, 538, 326, 353, 1723, 247, 652, 478, 1081, 194, 2733, 185, 339, 262, 324, 512, 635, 4388, 369, 1169, 1224, 271, 2252, 441, 231, 992, 206, 240, 367, 2172, 187, 954, 2503, 461, 326, 594, 485, 422, 758, 758, 715, 334, 247, 637, 226, 266, 191, 194, 297, 125, 427, 1039, 705, 342, 125, 205, 617, 297, 154, 111, 289, 242, 123, 173, 645, 310, 182, 389, 457, 1446, 353, 215, 228, 505, 369, 429, 510, 719, 515, 760, 170, 392, 651, 293, 690, 928, 241, 398, 138, 971, 322, 337, 337, 354, 534, 2404, 1362, 480, 281, 237, 1485, 1284, 921, 776, 218, 422, 216, 1080, 291, 648, 1247, 167, 950, 330, 615, 879, 460, 665, 151, 759, 447, 281, 611, 132, 260, 298, 229, 646, 1359, 647, 1474, 3391, 877, 849, 307, 627, 236, 150, 959, 832, 1151, 369, 237, 726, 330, 1205, 625, 510, 688, 772, 601, 481, 466, 311, 374, 247, 354, 1031, 264, 1456, 223, 285, 538, 720, 1197, 406, 1934, 1103, 550, 765, 1588, 447, 4161, 586, 1720, 198, 1720, 783, 572, 551, 385, 403, 458, 146, 675, 894, 856, 611, 118, 1269, 167, 845, 144, 440, 5621, 726, 519, 749, 226, 292, 944, 366, 345, 530, 242, 307, 257, 285, 170, 883, 211, 745, 79, 248, 280, 232, 592, 93, 246, 1512, 336, 666, 387, 1691, 472, 243, 535, 168, 487, 808, 489, 411, 159, 1051, 300, 599, 117, 542, 2861, 282, 445, 3455, 526, 2268, 205, 294, 179, 427, 959, 153, 587, 184, 381, 184, 272, 598, 171, 200, 347, 1097, 820, 255, 374, 330, 428, 1518, 1732, 548, 131, 649, 1654, 1385, 363, 2055, 655, 287, 193, 127, 729, 312, 811, 223, 1702, 486, 200, 1670, 678, 267, 1034, 605, 1885, 6089, 505, 136, 205, 141, 209, 108, 274, 804, 145, 389, 306, 1572, 902, 229, 180, 1182, 263, 316, 179, 686, 370, 274, 225, 3437, 263, 2758, 1103, 688, 597, 2279, 1354, 931, 620, 428, 161, 341, 5701, 703, 768, 231, 269, 551, 382, 413, 338, 581, 278, 1219, 647, 662, 428, 255, 854, 1618, 247, 692, 612, 552, 654, 131, 771, 872, 455, 730, 264, 311, 548, 378, 1027, 194, 434, 2691, 405, 326, 374, 215, 458, 297, 547, 1027, 185, 127, 133, 474, 232, 852, 483, 1324, 174, 528, 865, 210, 2934, 362, 858, 443, 169, 1266, 414, 679, 585, 666, 556, 495, 368, 213, 418, 225, 124, 256, 2368, 1064, 675, 369, 620, 544, 532, 696, 545, 126, 1753, 724, 1806, 316, 756, 331, 234, 577, 302, 291, 699, 612, 217, 372, 851, 649, 1035, 736, 775, 1366, 1131, 993, 186, 512, 2125, 933, 152, 267, 362, 264, 816, 376, 455, 298, 3216, 373, 1174, 260, 735, 1478, 158, 797, 98, 781, 165, 203, 96, 380, 4172, 985, 417, 985, 1283, 636, 269, 168, 544, 222, 314, 2350, 249, 161, 169, 286, 345, 2230, 2978, 814, 351, 514, 246, 722, 158, 84, 167, 106, 706, 1121, 680, 366, 927, 1003, 335, 378, 432, 684, 211, 551, 379, 357, 417, 456, 4110, 209, 257, 1127, 381, 156, 317, 537, 509, 561, 275, 260, 328, 2829, 391, 669, 202, 793, 435, 355, 421, 202, 150, 365, 507, 290, 167, 255, 299, 279, 124, 220, 3266, 843, 239, 862, 583, 419, 4065, 320, 775, 352, 209, 1134, 128, 207, 255, 373, 250, 570, 219, 271, 1109, 414, 321, 258, 311, 181, 167, 128, 307, 676, 611, 396, 454, 151, 310, 477, 597, 135, 420, 377, 430, 698, 482, 883, 408, 946, 4474, 421, 238, 160, 472, 118, 302, 2418, 274, 336, 326, 357, 584, 415, 537, 255, 1744, 305, 884, 918, 882, 199, 1425, 377, 2151, 2902, 482, 630, 670, 1180, 393, 176, 288, 405, 859, 1936, 229, 342, 518, 181, 320, 300, 428, 474, 508, 506, 267, 374, 1800, 188, 393, 315, 245, 255, 163, 269, 1053, 2674, 702, 614, 698, 358, 728, 421, 3154, 224, 2750, 1007, 169, 172, 923, 319, 146, 180, 448, 957, 468, 367, 158, 101, 2161, 266, 193, 636, 468, 293, 418, 434, 367, 814, 609, 362, 253, 1166, 248, 174, 836, 963, 492, 364, 586, 296, 434, 991, 148, 386, 243, 529, 383, 251, 217, 163, 273, 377, 145, 1382, 983, 824, 273, 259, 946, 276, 1540, 415, 606, 1246, 218, 181, 1075, 226, 254, 621, 198, 625, 238, 853, 739, 497, 211, 678, 2901, 6591, 367, 495, 348, 525, 466, 358, 467, 393, 575, 404, 439, 266, 1064, 513, 822, 385, 454, 729, 430, 3226, 270, 258, 432, 294, 1009, 1463, 241, 1086, 297, 159, 233, 758, 1779, 722, 1490, 438, 577, 214, 108, 1618, 604, 475, 237, 3064, 1375, 286, 284, 234, 194, 703, 166, 246, 1004, 1041, 159, 331, 604, 202, 263, 286, 1010, 586, 490, 104, 354, 591, 466, 407, 961, 2042, 119, 397, 241, 250, 228, 1952, 2057, 407, 378, 311, 851, 260, 584, 292, 138, 813, 3703, 669, 191, 97, 1609, 439, 818, 921, 1475, 310, 233, 303, 453, 1797, 350, 514, 469, 1047, 443, 368, 511, 1255, 159, 723, 1657, 121, 260, 245, 279, 1940, 1684, 202, 583, 226, 218, 1126, 469, 294, 508, 1224, 287, 351, 149, 234, 420, 189, 191, 572, 730, 655, 524, 435, 718, 394, 1958, 1795, 367, 206, 430, 753, 200, 576, 538, 140, 940, 966, 934, 105, 141, 575, 240, 776, 499, 449, 951, 195, 501, 760, 400, 2147, 858, 679, 544, 320, 959, 655, 661, 204, 218, 749, 411, 1305, 834, 496, 254, 566, 376, 484, 558, 659, 498, 97, 405, 540, 297, 285, 628, 2354, 419, 213, 562, 140, 372, 174, 355, 249, 233, 332, 409, 172, 864, 728, 480, 162, 741, 1320, 2690, 155, 1404, 1062, 201, 405, 564, 1021, 332, 784, 260, 426, 179, 585, 348, 199, 318, 718, 1713, 246, 382, 461, 610, 1106, 245, 135, 689, 1096, 858, 1220, 1523, 810, 655, 673, 94, 93, 695, 1884, 381, 1638, 185, 875, 471, 574, 342, 733, 572, 430, 154, 253, 624, 519, 985, 456, 643, 248, 1146, 1743, 619, 236, 466, 758, 366, 470, 591, 250, 597, 364, 875, 349, 156, 847, 341, 589, 1086, 158, 185, 1837, 96, 821, 473, 278, 1302, 1069, 347, 452, 877, 172, 433, 1875, 729, 697, 253, 712, 484, 586, 291, 172, 768, 217, 977, 555, 177, 767, 366, 245, 989, 895, 295, 457, 2017, 227, 4329, 219, 445, 782, 273, 166, 840, 128, 1385, 300, 515, 350, 357, 730, 937, 334, 622, 158, 213, 158, 386, 742, 363, 299, 266, 2307, 136, 236, 164, 462, 282, 343, 750, 180, 690, 279, 370, 682, 345, 235, 692, 489, 684, 240, 136, 1248, 950, 248, 176, 237, 271, 131, 232, 277, 588, 1259, 382, 363, 312, 1019, 563, 230, 237, 241, 504, 252, 649, 676, 374, 1487, 534, 446, 2928, 793, 619, 248, 3597, 211, 720, 2806, 870, 269, 253, 408, 721, 637, 457, 588, 1155, 183, 519, 333, 286, 383, 1410, 617, 815, 593, 1332, 293, 384, 739, 831, 179, 736, 288, 373, 449, 729, 604, 779, 230, 628, 1146, 494, 905, 960, 757, 932, 182, 66, 5807, 199, 1607, 327, 430, 127, 248, 3852, 559, 637, 1123, 797, 310, 484, 547, 195, 2193, 703, 179, 1427, 516, 200, 857, 235, 1007, 789, 290, 548, 2538, 582, 342, 5336, 1883, 1162, 290, 798, 571, 171, 763, 548, 837, 347, 222, 1180, 1738, 381, 106, 479, 1841, 613, 897, 509, 154, 1452, 128, 183, 1483, 178, 262, 3299, 553, 856, 755, 576, 303, 5965, 318, 1115, 3991, 850, 272, 559, 470, 705, 209, 159, 893, 1194, 152, 634, 201, 426, 244, 491, 473, 363, 507, 549, 977, 1511, 598, 876, 1437, 230, 469, 148, 456, 498, 466, 236, 219, 714, 1061, 322, 461, 742, 315, 1221, 3564, 642, 677, 126, 368, 305, 162, 146, 121, 309, 271, 785, 1580, 771, 668, 70, 214, 589, 221, 489, 1127, 206, 2144, 209, 482, 210, 160, 692, 554, 343, 314, 736, 620, 2304, 1305, 232, 107, 391, 326, 196, 335, 120, 227, 932, 322, 213, 199, 266, 342, 183, 161, 199, 749, 515, 156, 1232, 260, 455, 2724, 546, 485, 205, 346, 803, 167, 210, 287, 1868, 870, 273, 1781, 888, 399, 359, 354, 541, 431, 374, 105, 151, 661, 161, 217, 815, 351, 1164, 299, 327, 1087, 389, 938, 499, 136, 226, 276, 267, 461, 367, 799, 266, 460, 134, 510, 457, 468, 124, 318, 395, 309, 101, 160, 361, 174, 1841, 270, 146, 753, 591, 209, 196, 304, 416, 267, 260, 557, 613, 357, 737, 321, 1174, 422, 163, 503, 224, 626, 276, 752, 854, 178, 129, 1357, 463, 457, 191, 262, 617, 442, 619, 196, 3801, 990, 788, 1309, 796, 651, 315, 5050, 1534, 606, 880, 239, 288, 260, 534, 113, 1513, 1059, 753, 447, 279, 242, 362, 607, 1028, 233, 567, 699, 587, 650, 480, 438, 994, 666, 197, 411, 432, 858, 319, 230, 350, 467, 413, 225, 793, 228, 347, 3074, 957, 363, 736, 347, 275, 439, 284, 1077, 846, 163, 1035, 157, 1945, 960, 405, 917, 628, 303, 156, 217, 697, 313, 818, 718, 216, 175, 204, 234, 592, 271, 663, 1476, 121, 682, 251, 1040, 74, 245, 113, 297, 888, 2418, 592, 319, 358, 398, 197, 234, 294, 399, 572, 480, 251, 171, 510, 414, 239, 424, 1406, 896, 581, 326, 6218, 4974, 4504, 427, 341, 1235, 557, 320, 564, 185, 401, 377, 1218, 313, 476, 157, 2588, 1117, 181, 489, 221, 1315, 170, 359, 172, 517, 382, 378, 628, 102, 269, 688, 2041, 184, 1574, 442, 587, 292, 984, 639, 262, 774, 475, 265, 250, 247, 381, 167, 510, 565, 331, 190, 615, 662, 132, 390, 213, 465, 342, 491, 279, 169, 306, 2142, 694, 388, 348, 290, 214, 502, 133, 601, 914, 181, 2315, 163, 330, 699, 1372, 196, 3681, 1156, 1173, 179, 859, 1006, 427, 1001, 593, 1546, 899, 708, 955, 2432, 794, 857, 1000, 347, 274, 215, 167, 1746, 476, 366, 302, 369, 325, 169, 3806, 507, 393, 137, 441, 874, 942, 85, 301, 522, 287, 395, 128, 807, 109, 1155, 251, 361, 410, 273, 981, 712, 374, 242, 635, 457, 331, 757, 595, 1632, 173, 617, 1003, 959, 109, 292, 187, 629, 786, 1228, 212, 251, 593, 601, 506, 210, 171, 635, 501, 605, 211, 501, 208, 528, 329, 171, 316, 472, 164, 547, 767, 960, 449, 498, 807, 176, 592, 1381, 134, 818, 2261, 3311, 288, 1084, 972, 1147, 221, 348, 155, 204, 355, 642, 876, 173, 96, 228, 1603, 2968, 670, 643, 110, 271, 185, 1036, 655, 394, 335, 196, 414, 1026, 161, 285, 98, 750, 1307, 289, 1731, 1111, 940, 479, 375, 400, 758, 436, 353, 903, 2054, 531, 420, 133, 655, 533, 262, 214, 312, 1109, 426, 989, 249, 227, 464, 1467, 3865, 412, 706, 419, 708, 903, 420, 658, 317, 388, 393, 326, 276, 611, 184, 762, 5106, 174, 1683, 235, 90, 3256, 217, 261, 117, 207, 351, 227, 157, 499, 263, 470, 239, 782, 1609, 115, 195, 832, 380, 564, 361, 906, 704, 463, 450, 150, 1321, 226, 515, 1321, 1154, 1599, 295, 485, 1546, 190, 839, 217, 458, 659, 290, 220, 764, 467, 518, 153, 333, 921, 218, 600, 168, 354, 239, 337, 2302, 129, 702, 1915, 437, 632, 328, 358, 217, 1228, 503, 317, 405, 293, 532, 554, 150, 1238, 266, 1078, 95, 1106, 203, 337, 1154, 1903, 788, 263, 134, 888, 529, 149, 165, 507, 657, 452, 603, 343, 205, 843, 2934, 1194, 592, 357, 119, 630, 376, 192, 193, 496, 166, 996, 1203, 411, 154, 196, 879, 406, 1145, 273, 688, 401, 246, 501, 442, 204, 432, 1245, 148, 660, 365, 236, 424, 897, 468, 2186, 501, 466, 202, 754, 472, 648, 640, 184, 4102, 494, 693, 559, 224, 204, 321, 551, 1058, 605, 385, 175, 423, 361, 312, 192, 301, 123, 899, 645, 271, 419, 240, 2226, 1241, 252, 1256, 604, 338, 505, 1087, 367, 453, 374, 406, 578, 739, 1064, 478, 1278, 442, 224, 186, 90, 174, 412, 321, 1629, 236, 1138, 416, 922, 973, 465, 218, 5465, 614, 200, 339, 105, 244, 228, 214, 139, 260, 1139, 1933, 432, 351, 380, 1727, 157, 327, 954, 1257, 159, 555, 1014, 145, 147, 355, 179, 2383, 318, 1260, 356, 302, 365, 604, 712, 701, 351, 613, 4349, 370, 345, 846, 551, 346, 121, 429, 1080, 114, 799, 2333, 375, 667, 1376, 248, 762, 979, 861, 299, 567, 638, 858, 1307, 217, 613, 2342, 585, 1432, 606, 378, 550, 114, 1036, 352, 744, 1566, 1143, 741, 182, 852, 367, 791, 322, 305, 246, 296, 411, 463, 597, 3602, 501, 161, 249, 1238, 240, 637, 1199, 551, 919, 1920, 262, 601, 548, 262, 217, 370, 132, 269, 207, 451, 152, 598, 1109, 932, 423, 175, 467, 248, 404, 3428, 182, 404, 323, 182, 404, 146, 958, 325, 264, 204, 480, 137, 2088, 937, 1025, 202, 273, 1524, 432, 831, 855, 208, 705, 281, 933, 151, 588, 502, 243, 156, 262, 600, 819, 290, 661, 1621, 322, 189, 334, 109, 479, 583, 341, 326, 231, 551, 402, 181, 158, 399, 378, 275, 152, 228, 576, 190, 148, 1646, 2779, 174, 532, 718, 926, 1145, 348, 147, 1172, 725, 2183, 179, 2804, 424, 749, 191, 353, 126, 589, 470, 528, 315, 126, 204, 351, 914, 666, 252, 525, 414, 475, 3293, 171, 863, 1984, 382, 516, 160, 907, 552, 196, 315, 269, 209, 1696, 163, 259, 232, 303, 179, 106, 146, 343, 458, 339, 1032, 356, 302, 458, 610, 4753, 874, 225, 596, 517, 136, 326, 656, 203, 451, 835, 1579, 645, 439, 853, 203, 371, 183, 278, 466, 1062, 563, 549, 359, 1258, 127, 303, 676, 705, 110, 370, 146, 135, 684, 945, 554, 846, 435, 349, 759, 192, 104, 448, 136, 698, 540, 109, 1171, 199, 391, 202, 1903, 1066, 940, 144, 1731, 265, 614, 1516, 298, 188, 761, 427, 615, 329, 3228, 1020, 747, 360, 182, 2328, 231, 660, 388, 864, 273, 519, 494, 1289, 392, 764, 246, 577, 1237, 136, 329, 450, 186, 400, 131, 1803, 957, 244, 384, 486, 1147, 240, 183, 155, 372, 4182, 160, 515, 340, 744, 1331, 640, 718, 473, 857, 454, 267, 216, 847, 330, 321, 277, 255, 581, 422, 220, 205, 893, 96, 354, 153, 185, 381, 1156, 782, 1041, 962, 893, 494, 357, 240, 125, 765, 157, 1452, 423, 402, 702, 152, 411, 471, 354, 252, 496, 268, 1010, 2593, 1054, 331, 941, 413, 582, 685, 112, 1258, 68, 224, 1984, 315, 1516, 424, 686, 162, 343, 332, 312, 1055, 329, 483, 200, 217, 1670, 470, 325, 256, 691, 457, 458, 2358, 540, 374, 360, 554, 586, 1522, 380, 1760, 237, 221, 236, 175, 260, 1621, 2038, 677, 990, 444, 114, 1191, 162, 182, 542, 339, 321, 1294, 227, 814, 647, 277, 489, 70, 731, 215, 659, 1263, 403, 329, 319, 389, 2802, 540, 2147, 1917, 375, 501, 352, 462, 1241, 263, 635, 2495, 1032, 175, 418, 1447, 265, 1861, 509, 1125, 505, 280, 625, 232, 2110, 213, 757, 534, 142, 694, 738, 230, 851, 256, 503, 196, 318, 707, 296, 437, 216, 527, 793, 959, 205, 363, 271, 720, 170, 117, 647, 634, 147, 239, 111, 778, 2218, 158, 1259, 572, 185, 401, 286, 422, 290, 293, 281, 298, 389, 511, 236, 388, 661, 221, 201, 524, 485, 355, 441, 333, 761, 160, 368, 1584, 815, 771, 701, 1197, 272, 4454, 544, 278, 1917, 524, 361, 238, 463, 2491, 303, 1533, 350, 834, 836, 415, 710, 3000, 3586, 417, 235, 130, 131, 217, 904, 210, 590, 129, 730, 432, 120, 276, 135, 653, 346, 428, 274, 435, 593, 617, 1310, 740, 251, 893, 231, 180, 353, 528, 329, 192, 486, 764, 417, 251, 904, 1211, 216, 544, 1798, 911, 814, 253, 325, 249, 1609, 424, 458, 484, 234, 193, 1259, 3554, 896, 161, 557, 190, 126, 829, 222, 1232, 220, 387, 590, 164, 366, 294, 287, 406, 391, 58, 327, 115, 447, 267, 365, 443, 428, 179, 472, 412, 679, 175, 157, 448, 203, 436, 171, 381, 254, 1063, 293, 286, 582, 691, 267, 469, 215, 340, 532, 1211, 558, 465, 124, 671, 1486, 133, 1298, 345, 463, 180, 828, 148, 145, 150, 248, 185, 211, 456, 333, 157, 222, 274, 3019, 1147, 308, 342, 371, 158, 276, 362, 362, 972, 458, 763, 269, 332, 828, 867, 972, 179, 297, 1008, 364, 393, 423, 262, 370, 400, 225, 559, 203, 902, 1068, 942, 514, 451, 493, 146, 437, 351, 341, 263, 230, 213, 399, 683, 316, 907, 256, 554, 400, 611, 246, 296, 188, 226, 775, 325, 982, 699, 628, 731, 1017, 473, 290, 198, 481, 745, 336, 548, 181, 531, 240, 3602, 169, 527, 306, 822, 138, 181, 1695, 517, 210, 2241, 124, 3625, 364, 404, 213, 148, 260, 202, 716, 213, 143, 1156, 320, 85, 443, 144, 377, 669, 1607, 421, 410, 497, 728, 644, 708, 1124, 1256, 184, 387, 242, 1342, 446, 184, 244, 351, 263, 631, 497, 184, 375, 171, 659, 131, 356, 521, 135, 419, 319, 602, 496, 377, 3044, 1541, 1136, 1972, 293, 309, 1069, 2402, 210, 140, 298, 907, 472, 163, 773, 280, 449, 580, 342, 1812, 532, 1454, 390, 4845, 948, 193, 679, 356, 200, 220, 891, 333, 694, 162, 591, 447, 588, 404, 242, 146, 180, 291, 193, 862, 2744, 142, 511, 65, 1593, 435, 816, 321, 194, 808, 284, 147, 1729, 104, 545, 255, 2631, 364, 292, 917, 1374, 171, 241, 1176, 933, 547, 620, 194, 162, 506, 228, 279, 3269, 195, 404, 215, 199, 495, 204, 341, 442, 796, 331, 215, 353, 185, 372, 392, 206, 1487, 767, 278, 118, 328, 306, 2117, 271, 826, 1358, 143, 361, 443, 961, 165, 319, 914, 304, 329, 538, 165, 448, 190, 322, 270, 163, 672, 1143, 361, 240, 209, 1923, 693, 749, 552, 367, 208, 450, 203, 218, 211, 570, 259, 1140, 574, 603, 646, 565, 237, 711, 331, 934, 653, 826, 2664, 731, 667, 118, 1928, 79, 469, 458, 147, 714, 344, 404, 377, 170, 799, 528, 231, 418, 606, 663, 1556, 852, 461, 198, 1364, 3888, 177, 549, 1102, 200, 383, 135, 205, 563, 238, 291, 250, 46, 219, 790, 408, 1340, 339, 235, 1508, 470, 1177, 791, 472, 2390, 403, 1233, 660, 519, 784, 365, 161, 213, 494, 117, 457, 592, 725, 285, 218, 867, 623, 391, 266, 415, 187, 940, 158, 267, 549, 546, 386, 2344, 133, 580, 531, 532, 718, 178, 330, 240, 301, 154, 396, 658, 285, 1014, 529, 230, 123, 155, 290, 231, 621, 168, 250, 1505, 1990, 112, 503, 2184, 189, 622, 1125, 418, 1119, 507, 293, 1000, 525, 491, 1227, 497, 358, 492, 235, 494, 397, 630, 1507, 1932, 1265, 200, 842, 830, 518, 108, 304, 247, 276, 149, 339, 211, 359, 323, 225, 289, 602, 151, 586, 427, 243, 190, 228, 230, 1863, 836, 341, 401, 251, 346, 236, 535, 1143, 446, 463, 424, 212, 809, 356, 274, 1002, 1710, 205, 371, 265, 726, 1257, 188, 365, 257, 317, 2756, 480, 351, 472, 720, 483, 166, 165, 156, 1248, 541, 82, 576, 1052, 915, 383, 78, 419, 1358, 130, 329, 340, 652, 1341, 474, 265, 184, 553, 485, 279, 486, 973, 1291, 442, 380, 207, 284, 335, 3296, 456, 396, 799, 142, 565, 406, 4557, 358, 284, 222, 586, 425, 2522, 566, 162, 240, 2168, 74, 5010, 946, 1489, 957, 372, 213, 122, 517, 2847, 475, 728, 217, 1280, 267, 388, 309, 734, 2810, 523, 154, 267, 406, 836, 2308, 383, 116, 215, 191, 227, 1299, 473, 155, 315, 378, 586, 289, 1075, 1181, 350, 212, 326, 173, 1318, 292, 649, 478, 380, 336, 759, 182, 525, 781, 178, 628, 709, 372, 580, 1041, 411, 302, 416, 417, 671, 2043, 296, 539, 1739, 108, 253, 874, 553, 1019, 444, 1565, 336, 1231, 305, 407, 250, 152, 440, 506, 610, 2292, 222, 2097, 574, 177, 289, 340, 249, 313, 300, 317, 253, 1027, 251, 250, 452, 1214, 314, 148, 601, 883, 975, 1597, 158, 1866, 180, 440, 663, 251, 670, 1507, 1356, 1364, 245, 4288, 654, 89, 699, 192, 1515, 622, 551, 826, 147, 718, 458, 605, 682, 961, 178, 212, 488, 296, 254, 1545, 417, 141, 307, 217, 235, 3794, 140, 150, 717, 257, 211, 388, 392, 508, 487, 477, 1320, 646, 450, 342, 511, 609, 292, 797, 148, 324, 204, 402, 184, 274, 178, 1240, 1424, 945, 462, 595, 1195, 409, 157, 298, 1865, 349, 170, 730, 480, 288, 563, 478, 322, 181, 355, 177, 232, 702, 382, 648, 512, 214, 2588, 265, 441, 1373, 753, 510, 303, 405, 317, 443, 896, 129, 158, 390, 376, 981, 280, 476, 186, 1748, 183, 5073, 166, 170, 772, 196, 1657, 361, 115, 698, 415, 159, 459, 907, 1405, 245, 622, 1289, 445, 1822, 277, 767, 468, 139, 198, 261, 253, 593, 346, 352, 406, 1184, 282, 833, 529, 239, 478, 407, 619, 582, 1539, 325, 813, 422, 275, 426, 206, 836, 227, 1011, 576, 921, 215, 148, 668, 388, 454, 530, 612, 2288, 971, 755, 823, 366, 1379, 118, 324, 236, 250, 805, 561, 346, 650, 246, 624, 1878, 423, 743, 404, 401, 290, 1333, 557, 344, 361, 436, 588, 294, 143, 237, 720, 644, 340, 729, 198, 1083, 314, 437, 144, 495, 115, 1049, 317, 278, 4050, 78, 322, 381, 414, 773, 1962, 2402, 313, 1380, 598, 300, 218, 1199, 178, 380, 233, 340, 829, 375, 267, 388, 462, 537, 882, 214, 3313, 306, 162, 1152, 473, 403, 474, 99, 184, 422, 4713, 755, 528, 195, 628, 230, 209, 132, 2990, 2286, 312, 601, 1168, 1136, 189, 693, 685, 307, 608, 368, 285, 2263, 209, 334, 347, 681, 306, 179, 279, 459, 3254, 650, 734, 169, 662, 608, 280, 297, 476, 282, 795, 940, 160, 215, 373, 202, 99, 287, 323, 375, 299, 135, 250, 199, 433, 848, 366, 335, 290, 257, 221, 1113, 500, 722, 174, 176, 1488, 426, 113, 352, 100, 3443, 662, 2017, 232, 542, 2401, 515, 357, 1504, 919, 497, 397, 1961, 1569, 268, 351, 240, 278, 462, 199, 235, 364, 576, 832, 200, 1106, 521, 138, 374, 364, 135, 1524, 853, 177, 283, 452, 772, 426, 314, 324, 364, 576, 2360, 845, 357, 364, 402, 254, 313, 2223, 632, 650, 214, 283, 1004, 276, 407, 362, 614, 170, 566, 192, 423, 256, 164, 387, 500, 1056, 346, 793, 166, 1002, 310, 152, 134, 296, 321, 340, 98, 517, 789, 1059, 219, 617, 475, 457, 794, 708, 1908, 382, 319, 964, 355, 542, 98, 892, 477, 281, 276, 351, 4484, 193, 872, 4026, 221, 589, 267, 240, 248, 516, 992, 835, 185, 147, 272, 1249, 4068, 381, 3090, 637, 188, 396, 234, 1294, 227, 330, 814, 687, 342, 244, 172, 306, 166, 810, 526, 345, 1327, 825, 220, 554, 287, 735, 370, 279, 846, 1794, 322, 275, 1063, 583, 2421, 180, 245, 391, 1345, 516, 564, 263, 2863, 612, 587, 1602, 212, 562, 163, 390, 433, 335, 333, 742, 951, 1645, 1504, 477, 205, 320, 1230, 760, 1751, 1471, 601, 842, 679, 453, 3046, 337, 117, 306, 1255, 443, 122, 578, 967, 910, 504, 365, 383, 252, 291, 1496, 230, 358, 575, 1383, 490, 914, 701, 251, 400, 704, 262, 251, 1151, 845, 273, 396, 815, 476, 225, 110, 208, 222, 426, 496, 2842, 207, 325, 201, 470, 181, 214, 580, 1562, 419, 549, 703, 885, 289, 144, 643, 1404, 379, 184, 375, 170, 278, 519, 179, 160, 172, 219, 399, 410, 521, 733, 211, 517, 140, 150, 593, 474, 383, 603, 224, 2257, 1998, 811, 247, 189, 534, 137, 308, 764, 302, 689, 350, 945, 190, 335, 230, 380, 263, 2278, 147, 219, 858, 384, 130, 2029, 797, 299, 312, 1076, 429, 1004, 367, 257, 513, 1004, 300, 261, 501, 470, 2001, 1049, 239, 291, 311, 283, 491, 313, 262, 496, 308, 453, 106, 212, 1058, 704, 173, 509, 582, 590, 832, 1604, 266, 165, 410, 214, 346, 212, 180, 166, 480, 455, 1126, 182, 116, 556, 1299, 1688, 275, 366, 133, 464, 302, 769, 1667, 1708, 481, 428, 759, 1735, 359, 172, 629, 193, 300, 233, 269, 157, 452, 1127, 360, 350, 1195, 245, 336, 494, 332, 704, 478, 297, 790, 1531, 124, 466, 152, 2222, 789, 330, 964, 503, 536, 362, 3149, 1178, 1582, 585, 482, 351, 540, 771, 596, 374, 340, 216, 308, 917, 251, 198, 495, 369, 274, 588, 929, 915, 762, 128, 3442, 464, 382, 875, 571, 1064, 518, 192, 374, 451, 552, 230, 76, 435, 384, 334, 457, 1460, 537, 665, 356, 400, 155, 439, 246, 216, 421, 337, 166, 295, 1058, 346, 597, 1841, 665, 352, 372, 468, 731, 329, 637, 188, 409, 520, 440, 428, 974, 289, 259, 497, 493, 1078, 1343, 417, 337, 219, 167, 477, 435, 381, 942, 238, 497, 1291, 484, 393, 1179, 1383, 181, 474, 567, 494, 341, 2123, 235, 283, 281, 534, 383, 352, 1466, 641, 1781, 1880, 673, 483, 973, 159, 1309, 335, 2160, 621, 443, 440, 295, 1793, 265, 269, 266, 335, 252, 1179, 304, 266, 233, 2762, 741, 136, 865, 178, 163, 459, 2321, 324, 546, 161, 600, 584, 410, 464, 3056, 366, 135, 366, 281, 242, 182, 169, 1971, 999, 334, 510, 1585, 151, 673, 722, 683, 1603, 733, 781, 266, 952, 806, 1303, 223, 134, 290, 352, 450, 182, 164, 1171, 221, 717, 117, 440, 2247, 348, 983, 2077, 394, 960, 282, 258, 1761, 1601, 351, 297, 445, 851, 267, 433, 732, 132, 990, 1179, 599, 529, 671, 230, 248, 296, 2264, 397, 6283, 2798, 447, 688, 215, 569, 337, 553, 281, 118, 328, 471, 358, 738, 187, 355, 1497, 490, 132, 180, 560, 436, 171, 799, 661, 704, 198, 479, 237, 456, 227, 324, 158, 365, 655, 166, 193, 341, 181, 901, 1570, 972, 855, 307, 110, 370, 407, 228, 1348, 642, 454, 327, 1149, 309, 210, 2445, 435, 452, 1171, 1093, 171, 257, 1282, 209, 849, 2190, 146, 1015, 472, 493, 191, 320, 346, 448, 448, 707, 556, 174, 2399, 421, 178, 1009, 325, 136, 341, 397, 996, 764, 443, 453, 1826, 435, 162, 261, 175, 379, 1637, 348, 566, 518, 541, 3160, 1076, 146, 1007, 202, 523, 1500, 573, 141, 633, 1121, 433, 1884, 271, 501, 1064, 186, 733, 421, 2280, 5956, 130, 238, 375, 498, 514, 1343, 1048, 458, 262, 1076, 2474, 543, 307, 165, 410, 346, 4121, 958, 1419, 690, 287, 105, 254, 1236, 416, 474, 268, 868, 500, 802, 879, 286, 137, 907, 401, 257, 439, 511, 653, 173, 173, 710, 178, 130, 2514, 413, 290, 675, 130, 2253, 722, 261, 296, 279, 1313, 418, 346, 317, 324, 2374, 278, 405, 534, 1244, 505, 545, 488, 295, 1392, 558, 457, 594, 272, 263, 361, 386, 661, 1615, 419, 503, 115, 285, 698, 727, 1312, 549, 291, 900, 348, 376, 199, 1079, 584, 294, 702, 375, 428, 764, 603, 4534, 248, 277, 568, 1217, 173, 351, 509, 1237, 458, 658, 202, 778, 692, 535, 454, 466, 875, 443, 336, 835, 653, 294, 3045, 205, 1022, 382, 272, 203, 1422, 252, 244, 2294, 101, 1958, 348, 351, 567, 2169, 2442, 209, 711, 1701, 261, 176, 396, 476, 3354, 245, 270, 1955, 993, 922, 263, 165, 118, 535, 326, 571, 211, 222, 1583, 314, 302, 327, 257, 1114, 1779, 381, 281, 236, 534, 647, 719, 272, 246, 805, 120, 489, 648, 1741, 189, 284, 903, 98, 253, 496, 227, 231, 257, 542, 1327, 339, 325, 547, 314, 2210, 1829, 1242, 373, 234, 224, 375, 566, 546, 385, 290, 247, 222, 407, 188, 4986, 306, 237, 292, 563, 649, 1456, 774, 1509, 3481, 518, 2163, 213, 292, 123, 872, 583, 188, 336, 670, 244, 231, 998, 302, 403, 1450, 433, 103, 142, 189, 301, 198, 2080, 4325, 461, 2872, 820, 316, 143, 232, 195, 672, 341, 912, 133, 1581, 418, 727, 376, 124, 165, 187, 201, 863, 944, 748, 877, 299, 169, 3123, 711, 232, 364, 450, 343, 188, 120, 381, 236, 2821, 420, 65, 201, 149, 539, 612, 189, 202, 609, 1176, 252, 210, 716, 277, 314, 1385, 731, 246, 370, 180, 341, 362, 427, 304, 277, 298, 278, 406, 277, 856, 1635, 572, 726, 243, 1137, 1205, 285, 436, 577, 293, 860, 144, 934, 2757, 523, 1856, 108, 376, 680, 786, 1052, 368, 1044, 300, 413, 784, 237, 622, 330, 871, 181, 307, 449, 952, 308, 1892, 381, 456, 405, 519, 553, 514, 598, 827, 201, 826, 525, 157, 932, 467, 276, 153, 265, 1362, 1045, 595, 651, 1202, 1014, 176, 155, 1277, 1361, 305, 3986, 356, 821, 363, 2928, 412, 286, 646, 602, 351, 163, 14196, 128, 346, 723, 264, 94, 434, 301, 1234, 991, 671, 192, 204, 203, 1172, 171, 242, 225, 805, 69, 429, 332, 463, 178, 174, 1000, 257, 508, 614, 441, 639, 186, 242, 1227, 126, 186, 159, 288, 733, 457, 2759, 4591, 511, 747, 88, 867, 270, 661, 431, 615, 754, 725, 307, 289, 285, 351, 1373, 568, 315, 281, 500, 235, 189, 3664, 343, 692, 1840, 854, 50, 64, 226, 212, 443, 948, 540, 275, 86, 831, 308, 371, 875, 482, 154, 1479, 125, 300, 145, 236, 1135, 345, 122, 167, 337, 769, 272, 1235, 177, 894, 347, 2630, 319, 340, 258, 277, 275, 337, 660, 771, 554, 404, 770, 324, 177, 333, 1087, 321, 746, 251, 527, 995, 201, 250, 338, 238, 824, 752, 192, 3320, 1121, 1308, 487, 3541, 298, 1164, 1182, 94, 386, 562, 600, 257, 550, 390, 446, 720, 994, 510, 361, 564, 732, 397, 804, 167, 697, 557, 501, 1816, 688, 745, 523, 4073, 275, 339, 941, 244, 259, 262, 501, 599, 540, 419, 220, 485, 682, 283, 626, 259, 369, 512, 250, 1983, 350, 159, 112, 237, 4004, 332, 433, 1246, 476, 328, 173, 305, 324, 224, 312, 235, 199, 238, 1327, 270, 810, 500, 281, 592, 6186, 496, 296, 357, 308, 559, 208, 291, 1545, 328, 568, 436, 777, 153, 394, 249, 634, 877, 152, 1443, 381, 488, 537, 238, 1158, 173, 476, 524, 1081, 4025, 449, 317, 1069, 837, 459, 292, 258, 564, 364, 653, 167, 157, 545, 222, 3823, 344, 338, 150, 1904, 439, 312, 194, 731, 625, 934, 151, 289, 252, 429, 179, 1013, 391, 492, 103, 434, 1023, 1528, 295, 414, 116, 267, 1585, 107, 3019, 739, 559, 1291, 1209, 392, 475, 243, 453, 462, 336, 548, 166, 236, 433, 399, 414, 139, 233, 580, 238, 663, 652, 546, 340, 175, 684, 108, 343, 630, 163, 533, 402, 325, 235, 426, 257, 1087, 563, 308, 1927, 1977, 336, 234, 264, 500, 978, 957, 280, 197, 400, 754, 474, 1887, 754, 182, 278, 3100, 201, 1010, 518, 417, 369, 243, 539, 150, 252, 155, 362, 1245, 240, 245, 139, 516, 140, 202, 301, 210, 271, 274, 613, 284, 397, 338, 548, 1287, 212, 270, 205, 1259, 1658, 3582, 573, 99, 1757, 1436, 3517, 1062, 841, 324, 3907, 257, 617, 523, 654, 1672, 556, 338, 477, 268, 1305, 872, 526, 372, 246, 191, 240, 953, 562, 483, 707, 613, 680, 372, 1836, 732, 371, 463, 286, 2512, 758, 142, 304, 650, 661, 266, 568, 328, 327, 585, 365, 401, 302, 727, 611, 1049, 83, 374, 2302, 1130, 198, 239, 307, 577, 356, 404, 1328, 531, 660, 300, 394, 872, 243, 442, 1086, 490, 287, 1162, 122, 177, 1097, 771, 117, 1567, 397, 213, 147, 524, 1124, 514, 980, 1609, 162, 462, 1925, 262, 128, 71, 242, 190, 5450, 499, 582, 447, 465, 470, 583, 379, 142, 698, 221, 522, 246, 442, 485, 978, 500, 478, 478, 332, 755, 904, 365, 179, 443, 446, 973, 1656, 486, 756, 502, 2012, 619, 253, 173, 330, 742, 258, 869, 183, 534, 351, 284, 439, 1110, 761, 427, 616, 295, 382, 864, 165, 475, 282, 1501, 314, 81, 270, 289, 616, 880, 534, 411, 283, 2820, 243, 369, 1074, 373, 316, 1229, 241, 408, 2365, 538, 366, 1893, 372, 570, 1323, 644, 377, 546, 461, 828, 231, 527, 620, 285, 523, 271, 167, 92, 249, 166, 681, 238, 154, 647, 189, 404, 485, 1770, 304, 1072, 91, 388, 380, 199, 511, 272, 1389, 678, 365, 503, 1443, 954, 427, 332, 707, 745, 263, 209, 3274, 424, 1693, 1172, 467, 1389, 426, 337, 431, 360, 1019, 169, 420, 592, 287, 184, 274, 515, 661, 487, 264, 203, 142, 1706, 614, 269, 312, 487, 487, 325, 758, 230, 513, 300, 941, 651, 519, 250, 187, 400, 195, 214, 1145, 2248, 274, 753, 469, 118, 501, 462, 1302, 217, 3458, 603, 612, 731, 419, 735, 1124, 194, 264, 851, 245, 125, 742, 181, 630, 645, 667, 1517, 171, 281, 371, 173, 616, 248, 651, 1625, 382, 903, 367, 331, 386, 447, 324, 297, 553, 1890, 858, 782, 382, 660, 319, 565, 1018, 151, 186, 1063, 336, 357, 323, 458, 327, 2867, 808, 307, 139, 649, 299, 244, 527, 202, 288, 228, 594, 216, 420, 108, 490, 286, 1343, 388, 458, 188, 139, 318, 342, 2656, 412, 1612, 286, 499, 202, 92, 406, 2256, 425, 863, 261, 232, 306, 353, 313, 226, 217, 378, 706, 655, 612, 544, 237, 888, 610, 532, 886, 266, 445, 289, 187, 205, 97, 899, 292, 206, 1343, 171, 116, 585, 2021, 295, 1025, 3728, 417, 829, 1303, 656, 443, 98, 362, 277, 901, 264, 286, 803, 193, 607, 98, 269, 492, 231, 381, 505, 118, 1416, 1065, 811, 912, 292, 975, 137, 3114, 296, 850, 58, 1098, 571, 891, 1153, 1056, 1254, 1164, 163, 268, 637, 490, 91, 287, 295, 361, 215, 821, 454, 396, 673, 352, 384, 187, 467, 1005, 347, 378, 850, 392, 211, 1109, 366, 728, 1373, 1986, 895, 307, 396, 137, 826, 588, 859, 151, 256, 228, 369, 620, 1158, 418, 339, 148, 275, 1515, 890, 571, 293, 383, 676, 505, 2105, 280, 763, 164, 142, 1011, 698, 329, 802, 527, 190, 416, 211, 374, 340, 115, 3446, 3505, 3825, 538, 335, 219, 293, 999, 1030, 1615, 422, 412, 185, 1157, 210, 273, 458, 1170, 198, 376, 155, 342, 2748, 210, 643, 372, 260, 453, 489, 115, 436, 229, 332, 137, 933, 478, 317, 506, 319, 208, 167, 661, 497, 323, 456, 373, 293, 157, 234, 990, 275, 1036, 209, 433, 145, 267, 198, 173, 435, 425, 135, 1106, 5716, 416, 641, 153, 515, 1171, 1042, 486, 190, 652, 2338, 584, 476, 318, 265, 164, 207, 709, 136, 885, 2946, 365, 570, 798, 690, 61, 477, 327, 583, 560, 78, 223, 1529, 452, 316, 656, 509, 476, 655, 440, 183, 221, 1272, 176, 233, 139, 608, 373, 383, 623, 834, 1451, 455, 970, 2116, 708, 411, 269, 274, 209, 260, 403, 578, 119, 1747, 108, 1366, 264, 257, 935, 1051, 359, 445, 468, 413, 886, 362, 1137, 234, 144, 300, 843, 1764, 373, 289, 509, 271, 385, 364, 1177, 1429, 479, 1298, 458, 879, 482, 396, 405, 703, 847, 211, 269, 996, 268, 289, 1571, 894, 121, 849, 208, 455, 321, 2722, 122, 391, 868, 358, 803, 106, 1485, 213, 426, 190, 179, 387, 832, 229, 445, 2100, 1308, 3889, 176, 753, 199, 392, 267, 430, 710, 742, 3706, 522, 333, 304, 737, 542, 574, 322, 451, 419, 371, 161, 807, 179, 327, 262, 574, 505, 615, 524, 1628, 850, 332, 477, 334, 414, 184, 178, 720, 1076, 299, 6478, 615, 318, 1542, 693, 1917, 1644, 366, 210, 260, 976, 290, 475, 179, 220, 784, 243, 591, 1025, 357, 548, 892, 420, 239, 849, 376, 390, 165, 228, 543, 332, 626, 153, 378, 641, 192, 236, 1085, 173, 537, 311, 281, 680, 461, 449, 599, 514, 598, 196, 182, 448, 730, 556, 188, 235, 114, 163, 532, 779, 846, 109, 700, 237, 165, 925, 477, 542, 419, 1639, 1066, 462, 347, 419, 522, 1733, 4772, 241, 274, 2709, 3257, 434, 2296, 4796, 214, 378, 327, 605, 358, 399, 820, 905, 446, 524, 1262, 586, 264, 1327, 229, 541, 62, 286, 1247, 1253, 706, 349, 137, 230, 309, 717, 412, 362, 450, 1410, 311, 797, 946, 658, 213, 1260, 1315, 253, 552, 320, 735, 623, 208, 103, 1698, 3776, 294, 322, 427, 2765, 5567, 313, 484, 409, 184, 463, 94, 646, 196, 1110, 577, 635, 461, 663, 1764, 139, 729, 453, 4575, 540, 276, 433, 593, 183, 538, 1116, 1068, 362, 213, 120, 228, 207, 136, 534, 303, 170, 106, 1073, 140, 273, 105, 833, 3500, 812, 471, 175, 391, 234, 538, 1753, 977, 437, 346, 743, 1176, 332, 725, 1237, 382, 193, 911, 437, 954, 272, 138, 287, 140, 836, 394, 146, 379, 404, 429, 304, 365, 457, 156, 205, 886, 302, 405, 498, 156, 904, 125, 1912, 206, 259, 290, 299, 130, 326, 4687, 203, 832, 474, 543, 354, 1317, 288, 121, 244, 1165, 379, 479, 163, 327, 741, 412, 242, 278, 143, 1203, 256, 795, 150, 154, 344, 311, 525, 196, 423, 248, 642, 750, 1143, 142, 1551, 444, 291, 1488, 501, 125, 656, 290, 1418, 268, 514, 289, 1915, 134, 202, 509, 2585, 520, 87, 1816, 341, 280, 1385, 692, 206, 519, 158, 1077, 222, 1775, 533, 494, 850, 162, 1802, 2233, 461, 152, 138, 227, 2608, 223, 551, 509, 490, 606, 278, 2299, 3549, 189, 147, 968, 294, 105, 4825, 289, 2093, 371, 327, 282, 1659, 839, 202, 326, 1241, 1083, 306, 835, 471, 216, 392, 673, 532, 545, 318, 558, 815, 181, 212, 882, 1165, 275, 195, 106, 464, 400, 327, 255, 316, 115, 157, 736, 426, 840, 583, 6704, 462, 279, 124, 527, 231, 2067, 767, 854, 879, 437, 1270, 373, 767, 866, 451, 218, 579, 480, 448, 252, 1460, 636, 235, 445, 591, 230, 268, 1059, 752, 251, 2328, 359, 753, 545, 757, 132, 464, 4853, 1897, 579, 410, 264, 272, 547, 859, 175, 308, 937, 458, 1211, 201, 195, 242, 503, 260, 391, 829, 347, 254, 1056, 1229, 166, 330, 375, 660, 616, 237, 1476, 489, 1397, 394, 1970, 264, 888, 510, 546, 431, 321, 290, 484, 1756, 332, 231, 262, 1894, 710, 434, 598, 276, 139, 390, 387, 211, 546, 386, 1448, 271, 200, 511, 566, 874, 468, 1287, 518, 283, 3796, 388, 1297, 2216, 237, 1114, 307, 121, 267, 339, 375, 1503, 438, 202, 436, 353, 800, 903, 425, 308, 636, 258, 628, 288, 341, 339, 133, 307, 277, 1845, 548, 736, 232, 199, 156, 488, 228, 1074, 170, 431, 316, 336, 490, 872, 115, 430, 502, 474, 244, 1899, 286, 164, 241, 359, 843, 230, 623, 148, 687, 590, 76, 101, 200, 264, 203, 163, 622, 246, 145, 1112, 849, 237, 290, 222, 191, 384, 765, 113, 505, 393, 220, 804, 216, 239, 1342, 328, 802, 403, 242, 505, 944, 1219, 781, 4767, 166, 401, 408, 4707, 325, 581, 752, 265, 474, 233, 502, 4152, 3771]\n"
          ],
          "name": "stdout"
        }
      ]
    },
    {
      "cell_type": "code",
      "metadata": {
        "id": "LqYDvYuri7Jd",
        "colab_type": "code",
        "colab": {}
      },
      "source": [
        "# We need to add special tokens at the beginning and end of each sentence for BERT to work properly\n",
        "sentences = [\"[CLS] \" + sentence + \" [SEP]\" for sentence in truncate_sentences]\n",
        "labels = df.tags.values"
      ],
      "execution_count": 0,
      "outputs": []
    },
    {
      "cell_type": "code",
      "metadata": {
        "id": "eUtFkeoPey5m",
        "colab_type": "code",
        "colab": {}
      },
      "source": [
        "ulabels = list(dict.fromkeys(labels))\n",
        "num_labels = len(ulabels)\n",
        "\n",
        "label_map = { label : ulabels.index(label) for label in ulabels }\n",
        "label_ids = [ label_map[label] for label in labels ]"
      ],
      "execution_count": 0,
      "outputs": []
    },
    {
      "cell_type": "code",
      "metadata": {
        "id": "xiaTxvjAflTn",
        "colab_type": "code",
        "outputId": "94aba854-9977-4ddf-f2c0-57d66ad8463e",
        "colab": {
          "base_uri": "https://localhost:8080/",
          "height": 91
        }
      },
      "source": [
        "print(f'We transformed the string labels in ids > {len(labels)} == {len(label_ids)}')\n",
        "print(f'Number of labels : {num_labels}')\n",
        "print(f'MAP: {label_map}')"
      ],
      "execution_count": 40,
      "outputs": [
        {
          "output_type": "stream",
          "text": [
            "We transformed the string labels in ids > 40000 == 40000\n",
            "Number of labels : 20\n",
            "MAP: {'c#': 0, 'asp.net': 1, 'objective-c': 2, '.net': 3, 'python': 4, 'angularjs': 5, 'iphone': 6, 'ruby-on-rails': 7, 'ios': 8, 'c': 9, 'sql': 10, 'java': 11, 'jquery': 12, 'css': 13, 'c++': 14, 'php': 15, 'android': 16, 'mysql': 17, 'javascript': 18, 'html': 19}\n"
          ],
          "name": "stdout"
        }
      ]
    },
    {
      "cell_type": "markdown",
      "metadata": {
        "colab_type": "text",
        "id": "ex5O1eV-Pfct"
      },
      "source": [
        "## Inputs"
      ]
    },
    {
      "cell_type": "markdown",
      "metadata": {
        "colab_type": "text",
        "id": "BTREubVNFiz4"
      },
      "source": [
        "Next, import the BERT tokenizer, used to convert our text into tokens that correspond to BERT's vocabulary."
      ]
    },
    {
      "cell_type": "code",
      "metadata": {
        "colab_type": "code",
        "id": "Z474sSC6oe7A",
        "outputId": "56ba96f2-b1dc-4200-9214-f345000e7fdc",
        "colab": {
          "base_uri": "https://localhost:8080/",
          "height": 73
        }
      },
      "source": [
        "tokenizer = BertTokenizer.from_pretrained('bert-base-uncased', do_lower_case=True)\n",
        "\n",
        "tokenized_texts = [tokenizer.tokenize(sent) for sent in sentences]\n",
        "print (\"Tokenize the first sentence:\")\n",
        "print (tokenized_texts[0])"
      ],
      "execution_count": 37,
      "outputs": [
        {
          "output_type": "stream",
          "text": [
            "Tokenize the first sentence:\n",
            "['[CLS]', 'causing', 'behavior', 'c', '#', 'date', '##time', 'type', 'test', 'public', 'void', 'sadness', 'var', 'date', '##time', 'date', '##time', '##ut', '##c', '##now', 'assert', '##tha', '##t', 'date', '##time', 'is', '##e', '##qual', '##to', 'date', '##time', '##par', '##se', 'date', '##time', '##tos', '##tri', '##ng', 'failed', 'expected', '2011', '##10', '##31', '06', '##12', '##44', '##00', '##0', '2011', '##10', '##31', '06', '##12', '##44', '##35', '##0', 'wish', 'know', 'happening', 'behind', 'scenes', 'to', '##st', '##ring', 'etc', 'cause', 'behavior', 'edit', 'seeing', 'jon', 'answer', 'test', 'public', 'void', 'news', '##ad', '##ness', 'var', 'date', '##time', 'date', '##time', '##ut', '##c', '##now', 'assert', '##tha', '##t', 'date', '##time', 'is', '##e', '##qual', '##to', 'date', '##time', '##par', '##se', 'date', '##time', '##tos', '##tri', '##ng', 'result', 'expected', '2011', '##10', '##31', '120', '##30', '##41', '##6', '##1', '2011', '##10', '##31', '06', '##33', '##0', '##41', '##6', '##1', 'result', 'capital', 'small', 'reading', 'doc', '##s', 'still', 'unclear', '[SEP]']\n"
          ],
          "name": "stdout"
        }
      ]
    },
    {
      "cell_type": "markdown",
      "metadata": {
        "colab_type": "text",
        "id": "87_kXUeT2-br"
      },
      "source": [
        "BERT requires specifically formatted inputs. For each tokenized input sentence, we need to create:\n",
        "\n",
        "- **input ids**: a sequence of integers identifying each input token to its index number in the BERT tokenizer vocabulary\n",
        "- **segment mask**: (optional) a sequence of 1s and 0s used to identify whether the input is one sentence or two sentences long. For one sentence inputs, this is simply a sequence of 0s. For two sentence inputs, there is a 0 for each token of the first sentence, followed by a 1 for each token of the second sentence\n",
        "- **attention mask**: (optional) a sequence of 1s and 0s, with 1s for all input tokens and 0s for all padding tokens (we'll detail this in the next paragraph)\n",
        "- **labels**: a single value of 1 or 0. In our task 1 means \"grammatical\" and 0 means \"ungrammatical\""
      ]
    },
    {
      "cell_type": "markdown",
      "metadata": {
        "colab_type": "text",
        "id": "xytsw1oIfnX0"
      },
      "source": [
        "Although we can have variable length input sentences, BERT does requires our input arrays to be the same size. We address this by first choosing a maximum sentence length, and then padding and truncating our inputs until every input sequence is of the same length. \n",
        "\n",
        "To \"pad\" our inputs in this context means that if a sentence is shorter than the maximum sentence length, we simply add 0s to the end of the sequence until it is the maximum sentence length. \n",
        "\n",
        "If a sentence is longer than the maximum sentence length, then we simply truncate the end of the sequence, discarding anything that does not fit into our maximum sentence length.\n",
        "\n",
        "We pad and truncate our sequences so that they all become of length MAX_LEN (\"post\" indicates that we want to pad and truncate at the end of the sequence, as opposed to the beginning) `pad_sequences` is a utility function that we're borrowing from Keras. It simply handles the truncating and padding of Python lists."
      ]
    },
    {
      "cell_type": "code",
      "metadata": {
        "id": "njJSdNorhMmk",
        "colab_type": "code",
        "colab": {}
      },
      "source": [
        "import warnings\n",
        "warnings.filterwarnings('ignore')"
      ],
      "execution_count": 0,
      "outputs": []
    },
    {
      "cell_type": "code",
      "metadata": {
        "colab_type": "code",
        "id": "mFhowDMohU4H",
        "colab": {}
      },
      "source": [
        "# Use the BERT tokenizer to convert the tokens to their index numbers in the BERT vocabulary\n",
        "input_ids = [tokenizer.convert_tokens_to_ids(x) for x in tokenized_texts]"
      ],
      "execution_count": 0,
      "outputs": []
    },
    {
      "cell_type": "code",
      "metadata": {
        "colab_type": "code",
        "id": "kDs-MYtYH8sL",
        "colab": {}
      },
      "source": [
        "# Pad our input tokens\n",
        "input_ids = pad_sequences(input_ids, maxlen=MAX_LEN, dtype=\"long\", truncating=\"post\", padding=\"post\")"
      ],
      "execution_count": 0,
      "outputs": []
    },
    {
      "cell_type": "code",
      "metadata": {
        "id": "dLjsLASbur0h",
        "colab_type": "code",
        "outputId": "3e2e5020-36db-4b65-cec3-1142991e3dd7",
        "colab": {
          "base_uri": "https://localhost:8080/"
        }
      },
      "source": [
        "\n",
        "# Create a mask of 1s for each token followed by 0s for padding\n",
        "for seq in input_ids[0:2]:\n",
        "  seq_mask = [float(i>0) for i in seq]\n",
        "  print(seq_mask)"
      ],
      "execution_count": 44,
      "outputs": [
        {
          "output_type": "stream",
          "text": [
            "[1.0, 1.0, 1.0, 1.0, 1.0, 1.0, 1.0, 1.0, 1.0, 1.0, 1.0, 1.0, 1.0, 1.0, 1.0, 1.0, 1.0, 1.0, 1.0, 1.0, 1.0, 1.0, 1.0, 1.0, 1.0, 1.0, 1.0, 1.0, 1.0, 1.0, 1.0, 1.0, 1.0, 1.0, 1.0, 1.0, 1.0, 1.0, 1.0, 1.0, 1.0, 1.0, 1.0, 1.0, 1.0, 1.0, 1.0, 1.0, 1.0, 1.0, 1.0, 1.0, 1.0, 1.0, 1.0, 1.0, 1.0, 1.0, 1.0, 1.0, 1.0, 1.0, 1.0, 1.0, 1.0, 1.0, 1.0, 1.0, 1.0, 1.0, 1.0, 1.0, 1.0, 1.0, 1.0, 1.0, 1.0, 1.0, 1.0, 1.0, 1.0, 1.0, 1.0, 1.0, 1.0, 1.0, 1.0, 1.0, 1.0, 1.0, 1.0, 1.0, 1.0, 1.0, 1.0, 1.0, 1.0, 1.0, 1.0, 1.0, 1.0, 1.0, 1.0, 1.0, 1.0, 1.0, 1.0, 1.0, 1.0, 1.0, 1.0, 1.0, 1.0, 1.0, 1.0, 1.0, 1.0, 1.0, 1.0, 1.0, 1.0, 1.0, 1.0, 1.0, 1.0, 1.0, 1.0, 1.0, 1.0, 1.0, 1.0, 0.0, 0.0, 0.0, 0.0, 0.0, 0.0, 0.0, 0.0, 0.0, 0.0, 0.0, 0.0, 0.0, 0.0, 0.0, 0.0, 0.0, 0.0, 0.0, 0.0, 0.0, 0.0, 0.0, 0.0, 0.0, 0.0, 0.0, 0.0, 0.0, 0.0, 0.0, 0.0, 0.0, 0.0, 0.0, 0.0, 0.0, 0.0, 0.0, 0.0, 0.0, 0.0, 0.0, 0.0, 0.0, 0.0, 0.0, 0.0, 0.0, 0.0, 0.0, 0.0, 0.0, 0.0, 0.0, 0.0, 0.0, 0.0, 0.0, 0.0, 0.0, 0.0, 0.0, 0.0, 0.0, 0.0, 0.0, 0.0, 0.0, 0.0, 0.0, 0.0, 0.0, 0.0, 0.0, 0.0, 0.0, 0.0, 0.0, 0.0, 0.0, 0.0, 0.0, 0.0, 0.0, 0.0, 0.0, 0.0, 0.0, 0.0, 0.0, 0.0, 0.0, 0.0, 0.0, 0.0, 0.0, 0.0, 0.0, 0.0, 0.0, 0.0, 0.0, 0.0, 0.0, 0.0, 0.0, 0.0, 0.0, 0.0, 0.0, 0.0, 0.0, 0.0, 0.0, 0.0, 0.0, 0.0, 0.0, 0.0, 0.0, 0.0, 0.0, 0.0, 0.0, 0.0, 0.0, 0.0, 0.0, 0.0, 0.0, 0.0, 0.0, 0.0, 0.0, 0.0, 0.0, 0.0, 0.0, 0.0, 0.0, 0.0, 0.0, 0.0, 0.0, 0.0, 0.0, 0.0, 0.0, 0.0, 0.0, 0.0, 0.0, 0.0, 0.0, 0.0, 0.0, 0.0, 0.0, 0.0, 0.0, 0.0, 0.0, 0.0, 0.0, 0.0, 0.0, 0.0, 0.0, 0.0, 0.0, 0.0, 0.0, 0.0, 0.0, 0.0, 0.0, 0.0, 0.0, 0.0, 0.0, 0.0, 0.0, 0.0, 0.0, 0.0, 0.0, 0.0, 0.0, 0.0, 0.0, 0.0, 0.0, 0.0, 0.0, 0.0, 0.0, 0.0, 0.0, 0.0, 0.0, 0.0, 0.0, 0.0, 0.0, 0.0, 0.0, 0.0, 0.0, 0.0, 0.0, 0.0, 0.0, 0.0, 0.0, 0.0, 0.0, 0.0, 0.0, 0.0, 0.0, 0.0, 0.0, 0.0, 0.0, 0.0, 0.0, 0.0, 0.0, 0.0, 0.0, 0.0, 0.0, 0.0, 0.0, 0.0, 0.0, 0.0, 0.0, 0.0, 0.0, 0.0, 0.0, 0.0, 0.0, 0.0, 0.0, 0.0, 0.0, 0.0, 0.0, 0.0, 0.0, 0.0, 0.0, 0.0, 0.0, 0.0, 0.0, 0.0, 0.0, 0.0, 0.0, 0.0, 0.0, 0.0, 0.0, 0.0, 0.0, 0.0, 0.0, 0.0, 0.0, 0.0, 0.0, 0.0, 0.0, 0.0, 0.0, 0.0, 0.0, 0.0, 0.0, 0.0, 0.0, 0.0, 0.0, 0.0, 0.0, 0.0, 0.0, 0.0, 0.0, 0.0, 0.0, 0.0, 0.0, 0.0, 0.0, 0.0, 0.0, 0.0, 0.0, 0.0, 0.0, 0.0, 0.0, 0.0, 0.0, 0.0, 0.0, 0.0, 0.0, 0.0, 0.0, 0.0, 0.0, 0.0, 0.0, 0.0, 0.0, 0.0, 0.0, 0.0, 0.0, 0.0, 0.0, 0.0, 0.0, 0.0, 0.0, 0.0, 0.0, 0.0, 0.0, 0.0, 0.0, 0.0, 0.0, 0.0, 0.0, 0.0, 0.0, 0.0, 0.0, 0.0, 0.0, 0.0, 0.0, 0.0, 0.0, 0.0, 0.0, 0.0, 0.0, 0.0, 0.0, 0.0, 0.0, 0.0, 0.0, 0.0, 0.0, 0.0, 0.0, 0.0, 0.0, 0.0, 0.0, 0.0, 0.0, 0.0, 0.0, 0.0, 0.0, 0.0, 0.0, 0.0, 0.0, 0.0, 0.0]\n",
            "[1.0, 1.0, 1.0, 1.0, 1.0, 1.0, 1.0, 1.0, 1.0, 1.0, 1.0, 1.0, 1.0, 1.0, 1.0, 1.0, 1.0, 1.0, 1.0, 1.0, 1.0, 1.0, 1.0, 1.0, 1.0, 1.0, 1.0, 1.0, 1.0, 1.0, 1.0, 1.0, 1.0, 1.0, 1.0, 1.0, 1.0, 1.0, 1.0, 1.0, 1.0, 1.0, 1.0, 1.0, 1.0, 1.0, 1.0, 1.0, 1.0, 1.0, 1.0, 1.0, 1.0, 1.0, 1.0, 1.0, 1.0, 1.0, 1.0, 1.0, 1.0, 1.0, 1.0, 1.0, 1.0, 1.0, 1.0, 1.0, 1.0, 1.0, 1.0, 1.0, 1.0, 1.0, 1.0, 1.0, 1.0, 1.0, 1.0, 1.0, 1.0, 1.0, 1.0, 1.0, 1.0, 1.0, 1.0, 1.0, 1.0, 1.0, 1.0, 1.0, 1.0, 0.0, 0.0, 0.0, 0.0, 0.0, 0.0, 0.0, 0.0, 0.0, 0.0, 0.0, 0.0, 0.0, 0.0, 0.0, 0.0, 0.0, 0.0, 0.0, 0.0, 0.0, 0.0, 0.0, 0.0, 0.0, 0.0, 0.0, 0.0, 0.0, 0.0, 0.0, 0.0, 0.0, 0.0, 0.0, 0.0, 0.0, 0.0, 0.0, 0.0, 0.0, 0.0, 0.0, 0.0, 0.0, 0.0, 0.0, 0.0, 0.0, 0.0, 0.0, 0.0, 0.0, 0.0, 0.0, 0.0, 0.0, 0.0, 0.0, 0.0, 0.0, 0.0, 0.0, 0.0, 0.0, 0.0, 0.0, 0.0, 0.0, 0.0, 0.0, 0.0, 0.0, 0.0, 0.0, 0.0, 0.0, 0.0, 0.0, 0.0, 0.0, 0.0, 0.0, 0.0, 0.0, 0.0, 0.0, 0.0, 0.0, 0.0, 0.0, 0.0, 0.0, 0.0, 0.0, 0.0, 0.0, 0.0, 0.0, 0.0, 0.0, 0.0, 0.0, 0.0, 0.0, 0.0, 0.0, 0.0, 0.0, 0.0, 0.0, 0.0, 0.0, 0.0, 0.0, 0.0, 0.0, 0.0, 0.0, 0.0, 0.0, 0.0, 0.0, 0.0, 0.0, 0.0, 0.0, 0.0, 0.0, 0.0, 0.0, 0.0, 0.0, 0.0, 0.0, 0.0, 0.0, 0.0, 0.0, 0.0, 0.0, 0.0, 0.0, 0.0, 0.0, 0.0, 0.0, 0.0, 0.0, 0.0, 0.0, 0.0, 0.0, 0.0, 0.0, 0.0, 0.0, 0.0, 0.0, 0.0, 0.0, 0.0, 0.0, 0.0, 0.0, 0.0, 0.0, 0.0, 0.0, 0.0, 0.0, 0.0, 0.0, 0.0, 0.0, 0.0, 0.0, 0.0, 0.0, 0.0, 0.0, 0.0, 0.0, 0.0, 0.0, 0.0, 0.0, 0.0, 0.0, 0.0, 0.0, 0.0, 0.0, 0.0, 0.0, 0.0, 0.0, 0.0, 0.0, 0.0, 0.0, 0.0, 0.0, 0.0, 0.0, 0.0, 0.0, 0.0, 0.0, 0.0, 0.0, 0.0, 0.0, 0.0, 0.0, 0.0, 0.0, 0.0, 0.0, 0.0, 0.0, 0.0, 0.0, 0.0, 0.0, 0.0, 0.0, 0.0, 0.0, 0.0, 0.0, 0.0, 0.0, 0.0, 0.0, 0.0, 0.0, 0.0, 0.0, 0.0, 0.0, 0.0, 0.0, 0.0, 0.0, 0.0, 0.0, 0.0, 0.0, 0.0, 0.0, 0.0, 0.0, 0.0, 0.0, 0.0, 0.0, 0.0, 0.0, 0.0, 0.0, 0.0, 0.0, 0.0, 0.0, 0.0, 0.0, 0.0, 0.0, 0.0, 0.0, 0.0, 0.0, 0.0, 0.0, 0.0, 0.0, 0.0, 0.0, 0.0, 0.0, 0.0, 0.0, 0.0, 0.0, 0.0, 0.0, 0.0, 0.0, 0.0, 0.0, 0.0, 0.0, 0.0, 0.0, 0.0, 0.0, 0.0, 0.0, 0.0, 0.0, 0.0, 0.0, 0.0, 0.0, 0.0, 0.0, 0.0, 0.0, 0.0, 0.0, 0.0, 0.0, 0.0, 0.0, 0.0, 0.0, 0.0, 0.0, 0.0, 0.0, 0.0, 0.0, 0.0, 0.0, 0.0, 0.0, 0.0, 0.0, 0.0, 0.0, 0.0, 0.0, 0.0, 0.0, 0.0, 0.0, 0.0, 0.0, 0.0, 0.0, 0.0, 0.0, 0.0, 0.0, 0.0, 0.0, 0.0, 0.0, 0.0, 0.0, 0.0, 0.0, 0.0, 0.0, 0.0, 0.0, 0.0, 0.0, 0.0, 0.0, 0.0, 0.0, 0.0, 0.0, 0.0, 0.0, 0.0, 0.0, 0.0, 0.0, 0.0, 0.0, 0.0, 0.0, 0.0, 0.0, 0.0, 0.0, 0.0, 0.0, 0.0, 0.0, 0.0, 0.0, 0.0, 0.0, 0.0, 0.0, 0.0, 0.0, 0.0, 0.0, 0.0, 0.0, 0.0, 0.0, 0.0, 0.0, 0.0, 0.0, 0.0, 0.0, 0.0, 0.0, 0.0, 0.0, 0.0, 0.0, 0.0, 0.0, 0.0, 0.0, 0.0, 0.0, 0.0, 0.0, 0.0, 0.0]\n"
          ],
          "name": "stdout"
        }
      ]
    },
    {
      "cell_type": "markdown",
      "metadata": {
        "colab_type": "text",
        "id": "KhGulL1pExCT"
      },
      "source": [
        "Create the attention masks "
      ]
    },
    {
      "cell_type": "code",
      "metadata": {
        "colab_type": "code",
        "id": "cDoC24LeEv3N",
        "colab": {}
      },
      "source": [
        "# Create attention masks\n",
        "attention_masks = []\n",
        "\n",
        "# Create a mask of 1s for each token followed by 0s for padding\n",
        "for seq in input_ids:\n",
        "  seq_mask = [float(i>0) for i in seq]\n",
        "  attention_masks.append(seq_mask)"
      ],
      "execution_count": 0,
      "outputs": []
    },
    {
      "cell_type": "code",
      "metadata": {
        "colab_type": "code",
        "id": "aFbE-UHvsb7-",
        "colab": {}
      },
      "source": [
        "# Use train_test_split to split our data into train and validation sets for training\n",
        "\n",
        "train_inputs, validation_inputs, train_labels, validation_labels = train_test_split(input_ids, label_ids, \n",
        "                                                            random_state=2018, test_size=0.1)\n",
        "train_masks, validation_masks, _, _ = train_test_split(attention_masks, input_ids,\n",
        "                                             random_state=2018, test_size=0.1)"
      ],
      "execution_count": 0,
      "outputs": []
    },
    {
      "cell_type": "code",
      "metadata": {
        "colab_type": "code",
        "id": "jw5K2A5Ko1RF",
        "colab": {}
      },
      "source": [
        "# Convert all of our data into torch tensors, the required datatype for our model\n",
        "\n",
        "train_inputs = torch.tensor(train_inputs)\n",
        "validation_inputs = torch.tensor(validation_inputs)\n",
        "train_labels = torch.tensor(train_labels)\n",
        "validation_labels = torch.tensor(validation_labels)\n",
        "train_masks = torch.tensor(train_masks)\n",
        "validation_masks = torch.tensor(validation_masks)"
      ],
      "execution_count": 0,
      "outputs": []
    },
    {
      "cell_type": "code",
      "metadata": {
        "colab_type": "code",
        "id": "GEgLpFVlo1Z-",
        "colab": {}
      },
      "source": [
        "# Select a batch size for training. For fine-tuning BERT on a specific task, the authors recommend a batch size of 16 or 32\n",
        "batch_size = 16\n",
        "\n",
        "# Create an iterator of our data with torch DataLoader. This helps save on memory during training because, unlike a for loop, \n",
        "# with an iterator the entire dataset does not need to be loaded into memory\n",
        "\n",
        "train_data = TensorDataset(train_inputs, train_masks, train_labels)\n",
        "train_sampler = RandomSampler(train_data)\n",
        "train_dataloader = DataLoader(train_data, sampler=train_sampler, batch_size=batch_size)\n",
        "\n",
        "validation_data = TensorDataset(validation_inputs, validation_masks, validation_labels)\n",
        "validation_sampler = SequentialSampler(validation_data)\n",
        "validation_dataloader = DataLoader(validation_data, sampler=validation_sampler, batch_size=batch_size)\n"
      ],
      "execution_count": 0,
      "outputs": []
    },
    {
      "cell_type": "markdown",
      "metadata": {
        "colab_type": "text",
        "id": "pNl8khAhPYju"
      },
      "source": [
        "## Train Model"
      ]
    },
    {
      "cell_type": "markdown",
      "metadata": {
        "colab_type": "text",
        "id": "fwQ7JcuJQZ0o"
      },
      "source": [
        "Now that our input data is properly formatted, it's time to fine tune the BERT model. \n",
        "\n",
        "For this task, we first want to modify the pre-trained BERT model to give outputs for classification, and then we want to continue training the model on our dataset until that the entire model, end-to-end, is well-suited for our task. Thankfully, the huggingface pytorch implementation includes a set of interfaces designed for a variety of NLP tasks. Though these interfaces are all built on top of a trained BERT model, each has different top layers and output types designed to accomodate their specific NLP task.  \n",
        "\n",
        "We'll load [BertForSequenceClassification](https://github.com/huggingface/pytorch-pretrained-BERT/blob/master/pytorch_pretrained_bert/modeling.py#L1129). This is the normal BERT model with an added single linear layer on top for classification that we will use as a sentence classifier. As we feed input data, the entire pre-trained BERT model and the additional untrained classification layer is trained on our specific task. \n",
        "\n",
        "### Structure of Fine-Tuning Model\n",
        "\n",
        "As we've showed beforehand, the first token of every sequence is the special classification token ([CLS]). Unlike the hidden state vector corresponding to a normal word token, the hidden state corresponding to this special token is designated by the authors of BERT as an aggregate representation of the whole sentence used for classification tasks. As such, when we feed in an input sentence to our model during training, the output is the length 768 hidden state vector corresponding to this token. The additional layer that we've added on top consists of untrained linear neurons of size [hidden_state, number_of_labels], so [768,2], meaning that the output of BERT plus our classification layer is a vector of two numbers representing the \"score\" for \"grammatical/non-grammatical\" that are then fed into cross-entropy loss.\n",
        "\n",
        "\n",
        "\n",
        "### The Fine-Tuning Process\n",
        "\n",
        "Because the pre-trained BERT layers already encode a lot of information about the language, training the classifier is relatively inexpensive. Rather than training every layer in a large model from scratch, it's as if we have already trained the bottom layers 95% of where they need to be, and only really need to train the top layer, with a bit of tweaking going on in the lower levels to accomodate our task.\n",
        "\n",
        "Sometimes practicioners will opt to \"freeze\" certain layers when fine-tuning, or to apply different learning rates, apply diminishing learning rates, etc. all in an effort to preserve the good quality weights in the network and speed up training (often considerably). In fact, recent research on BERT specifically has demonstrated that freezing the majority of the weights results in only minimal accuracy declines, but there are exceptions and broader rules of transfer learning that should also be considered. For example, if your task and fine-tuning dataset is very different from the dataset used to train the transfer learning model, freezing the weights may not be a good idea. We'll cover the broader scope of transfer learning in NLP in a future post.  \n",
        "\n"
      ]
    },
    {
      "cell_type": "markdown",
      "metadata": {
        "colab_type": "text",
        "id": "WnQW9E-bBCRt"
      },
      "source": [
        "OK, let's load BERT! There are a few different pre-trained BERT models available. \"bert-base-uncased\" means the version that has only lowercase letters (\"uncased\") and is the smaller version of the two (\"base\" vs \"large\")."
      ]
    },
    {
      "cell_type": "code",
      "metadata": {
        "colab_type": "code",
        "id": "gFsCTp_mporB",
        "outputId": "26ec724f-db54-464a-ad52-301b8fbd847e",
        "colab": {
          "base_uri": "https://localhost:8080/",
          "height": 1000
        }
      },
      "source": [
        "# Load BertForSequenceClassification, the pretrained BERT model with a single linear classification layer on top. \n",
        "\n",
        "model = BertForSequenceClassification.from_pretrained(\"bert-base-uncased\", num_labels=num_labels)\n",
        "model.cuda()"
      ],
      "execution_count": 0,
      "outputs": [
        {
          "output_type": "execute_result",
          "data": {
            "text/plain": [
              "BertForSequenceClassification(\n",
              "  (bert): BertModel(\n",
              "    (embeddings): BertEmbeddings(\n",
              "      (word_embeddings): Embedding(30522, 768, padding_idx=0)\n",
              "      (position_embeddings): Embedding(512, 768)\n",
              "      (token_type_embeddings): Embedding(2, 768)\n",
              "      (LayerNorm): BertLayerNorm()\n",
              "      (dropout): Dropout(p=0.1, inplace=False)\n",
              "    )\n",
              "    (encoder): BertEncoder(\n",
              "      (layer): ModuleList(\n",
              "        (0): BertLayer(\n",
              "          (attention): BertAttention(\n",
              "            (self): BertSelfAttention(\n",
              "              (query): Linear(in_features=768, out_features=768, bias=True)\n",
              "              (key): Linear(in_features=768, out_features=768, bias=True)\n",
              "              (value): Linear(in_features=768, out_features=768, bias=True)\n",
              "              (dropout): Dropout(p=0.1, inplace=False)\n",
              "            )\n",
              "            (output): BertSelfOutput(\n",
              "              (dense): Linear(in_features=768, out_features=768, bias=True)\n",
              "              (LayerNorm): BertLayerNorm()\n",
              "              (dropout): Dropout(p=0.1, inplace=False)\n",
              "            )\n",
              "          )\n",
              "          (intermediate): BertIntermediate(\n",
              "            (dense): Linear(in_features=768, out_features=3072, bias=True)\n",
              "          )\n",
              "          (output): BertOutput(\n",
              "            (dense): Linear(in_features=3072, out_features=768, bias=True)\n",
              "            (LayerNorm): BertLayerNorm()\n",
              "            (dropout): Dropout(p=0.1, inplace=False)\n",
              "          )\n",
              "        )\n",
              "        (1): BertLayer(\n",
              "          (attention): BertAttention(\n",
              "            (self): BertSelfAttention(\n",
              "              (query): Linear(in_features=768, out_features=768, bias=True)\n",
              "              (key): Linear(in_features=768, out_features=768, bias=True)\n",
              "              (value): Linear(in_features=768, out_features=768, bias=True)\n",
              "              (dropout): Dropout(p=0.1, inplace=False)\n",
              "            )\n",
              "            (output): BertSelfOutput(\n",
              "              (dense): Linear(in_features=768, out_features=768, bias=True)\n",
              "              (LayerNorm): BertLayerNorm()\n",
              "              (dropout): Dropout(p=0.1, inplace=False)\n",
              "            )\n",
              "          )\n",
              "          (intermediate): BertIntermediate(\n",
              "            (dense): Linear(in_features=768, out_features=3072, bias=True)\n",
              "          )\n",
              "          (output): BertOutput(\n",
              "            (dense): Linear(in_features=3072, out_features=768, bias=True)\n",
              "            (LayerNorm): BertLayerNorm()\n",
              "            (dropout): Dropout(p=0.1, inplace=False)\n",
              "          )\n",
              "        )\n",
              "        (2): BertLayer(\n",
              "          (attention): BertAttention(\n",
              "            (self): BertSelfAttention(\n",
              "              (query): Linear(in_features=768, out_features=768, bias=True)\n",
              "              (key): Linear(in_features=768, out_features=768, bias=True)\n",
              "              (value): Linear(in_features=768, out_features=768, bias=True)\n",
              "              (dropout): Dropout(p=0.1, inplace=False)\n",
              "            )\n",
              "            (output): BertSelfOutput(\n",
              "              (dense): Linear(in_features=768, out_features=768, bias=True)\n",
              "              (LayerNorm): BertLayerNorm()\n",
              "              (dropout): Dropout(p=0.1, inplace=False)\n",
              "            )\n",
              "          )\n",
              "          (intermediate): BertIntermediate(\n",
              "            (dense): Linear(in_features=768, out_features=3072, bias=True)\n",
              "          )\n",
              "          (output): BertOutput(\n",
              "            (dense): Linear(in_features=3072, out_features=768, bias=True)\n",
              "            (LayerNorm): BertLayerNorm()\n",
              "            (dropout): Dropout(p=0.1, inplace=False)\n",
              "          )\n",
              "        )\n",
              "        (3): BertLayer(\n",
              "          (attention): BertAttention(\n",
              "            (self): BertSelfAttention(\n",
              "              (query): Linear(in_features=768, out_features=768, bias=True)\n",
              "              (key): Linear(in_features=768, out_features=768, bias=True)\n",
              "              (value): Linear(in_features=768, out_features=768, bias=True)\n",
              "              (dropout): Dropout(p=0.1, inplace=False)\n",
              "            )\n",
              "            (output): BertSelfOutput(\n",
              "              (dense): Linear(in_features=768, out_features=768, bias=True)\n",
              "              (LayerNorm): BertLayerNorm()\n",
              "              (dropout): Dropout(p=0.1, inplace=False)\n",
              "            )\n",
              "          )\n",
              "          (intermediate): BertIntermediate(\n",
              "            (dense): Linear(in_features=768, out_features=3072, bias=True)\n",
              "          )\n",
              "          (output): BertOutput(\n",
              "            (dense): Linear(in_features=3072, out_features=768, bias=True)\n",
              "            (LayerNorm): BertLayerNorm()\n",
              "            (dropout): Dropout(p=0.1, inplace=False)\n",
              "          )\n",
              "        )\n",
              "        (4): BertLayer(\n",
              "          (attention): BertAttention(\n",
              "            (self): BertSelfAttention(\n",
              "              (query): Linear(in_features=768, out_features=768, bias=True)\n",
              "              (key): Linear(in_features=768, out_features=768, bias=True)\n",
              "              (value): Linear(in_features=768, out_features=768, bias=True)\n",
              "              (dropout): Dropout(p=0.1, inplace=False)\n",
              "            )\n",
              "            (output): BertSelfOutput(\n",
              "              (dense): Linear(in_features=768, out_features=768, bias=True)\n",
              "              (LayerNorm): BertLayerNorm()\n",
              "              (dropout): Dropout(p=0.1, inplace=False)\n",
              "            )\n",
              "          )\n",
              "          (intermediate): BertIntermediate(\n",
              "            (dense): Linear(in_features=768, out_features=3072, bias=True)\n",
              "          )\n",
              "          (output): BertOutput(\n",
              "            (dense): Linear(in_features=3072, out_features=768, bias=True)\n",
              "            (LayerNorm): BertLayerNorm()\n",
              "            (dropout): Dropout(p=0.1, inplace=False)\n",
              "          )\n",
              "        )\n",
              "        (5): BertLayer(\n",
              "          (attention): BertAttention(\n",
              "            (self): BertSelfAttention(\n",
              "              (query): Linear(in_features=768, out_features=768, bias=True)\n",
              "              (key): Linear(in_features=768, out_features=768, bias=True)\n",
              "              (value): Linear(in_features=768, out_features=768, bias=True)\n",
              "              (dropout): Dropout(p=0.1, inplace=False)\n",
              "            )\n",
              "            (output): BertSelfOutput(\n",
              "              (dense): Linear(in_features=768, out_features=768, bias=True)\n",
              "              (LayerNorm): BertLayerNorm()\n",
              "              (dropout): Dropout(p=0.1, inplace=False)\n",
              "            )\n",
              "          )\n",
              "          (intermediate): BertIntermediate(\n",
              "            (dense): Linear(in_features=768, out_features=3072, bias=True)\n",
              "          )\n",
              "          (output): BertOutput(\n",
              "            (dense): Linear(in_features=3072, out_features=768, bias=True)\n",
              "            (LayerNorm): BertLayerNorm()\n",
              "            (dropout): Dropout(p=0.1, inplace=False)\n",
              "          )\n",
              "        )\n",
              "        (6): BertLayer(\n",
              "          (attention): BertAttention(\n",
              "            (self): BertSelfAttention(\n",
              "              (query): Linear(in_features=768, out_features=768, bias=True)\n",
              "              (key): Linear(in_features=768, out_features=768, bias=True)\n",
              "              (value): Linear(in_features=768, out_features=768, bias=True)\n",
              "              (dropout): Dropout(p=0.1, inplace=False)\n",
              "            )\n",
              "            (output): BertSelfOutput(\n",
              "              (dense): Linear(in_features=768, out_features=768, bias=True)\n",
              "              (LayerNorm): BertLayerNorm()\n",
              "              (dropout): Dropout(p=0.1, inplace=False)\n",
              "            )\n",
              "          )\n",
              "          (intermediate): BertIntermediate(\n",
              "            (dense): Linear(in_features=768, out_features=3072, bias=True)\n",
              "          )\n",
              "          (output): BertOutput(\n",
              "            (dense): Linear(in_features=3072, out_features=768, bias=True)\n",
              "            (LayerNorm): BertLayerNorm()\n",
              "            (dropout): Dropout(p=0.1, inplace=False)\n",
              "          )\n",
              "        )\n",
              "        (7): BertLayer(\n",
              "          (attention): BertAttention(\n",
              "            (self): BertSelfAttention(\n",
              "              (query): Linear(in_features=768, out_features=768, bias=True)\n",
              "              (key): Linear(in_features=768, out_features=768, bias=True)\n",
              "              (value): Linear(in_features=768, out_features=768, bias=True)\n",
              "              (dropout): Dropout(p=0.1, inplace=False)\n",
              "            )\n",
              "            (output): BertSelfOutput(\n",
              "              (dense): Linear(in_features=768, out_features=768, bias=True)\n",
              "              (LayerNorm): BertLayerNorm()\n",
              "              (dropout): Dropout(p=0.1, inplace=False)\n",
              "            )\n",
              "          )\n",
              "          (intermediate): BertIntermediate(\n",
              "            (dense): Linear(in_features=768, out_features=3072, bias=True)\n",
              "          )\n",
              "          (output): BertOutput(\n",
              "            (dense): Linear(in_features=3072, out_features=768, bias=True)\n",
              "            (LayerNorm): BertLayerNorm()\n",
              "            (dropout): Dropout(p=0.1, inplace=False)\n",
              "          )\n",
              "        )\n",
              "        (8): BertLayer(\n",
              "          (attention): BertAttention(\n",
              "            (self): BertSelfAttention(\n",
              "              (query): Linear(in_features=768, out_features=768, bias=True)\n",
              "              (key): Linear(in_features=768, out_features=768, bias=True)\n",
              "              (value): Linear(in_features=768, out_features=768, bias=True)\n",
              "              (dropout): Dropout(p=0.1, inplace=False)\n",
              "            )\n",
              "            (output): BertSelfOutput(\n",
              "              (dense): Linear(in_features=768, out_features=768, bias=True)\n",
              "              (LayerNorm): BertLayerNorm()\n",
              "              (dropout): Dropout(p=0.1, inplace=False)\n",
              "            )\n",
              "          )\n",
              "          (intermediate): BertIntermediate(\n",
              "            (dense): Linear(in_features=768, out_features=3072, bias=True)\n",
              "          )\n",
              "          (output): BertOutput(\n",
              "            (dense): Linear(in_features=3072, out_features=768, bias=True)\n",
              "            (LayerNorm): BertLayerNorm()\n",
              "            (dropout): Dropout(p=0.1, inplace=False)\n",
              "          )\n",
              "        )\n",
              "        (9): BertLayer(\n",
              "          (attention): BertAttention(\n",
              "            (self): BertSelfAttention(\n",
              "              (query): Linear(in_features=768, out_features=768, bias=True)\n",
              "              (key): Linear(in_features=768, out_features=768, bias=True)\n",
              "              (value): Linear(in_features=768, out_features=768, bias=True)\n",
              "              (dropout): Dropout(p=0.1, inplace=False)\n",
              "            )\n",
              "            (output): BertSelfOutput(\n",
              "              (dense): Linear(in_features=768, out_features=768, bias=True)\n",
              "              (LayerNorm): BertLayerNorm()\n",
              "              (dropout): Dropout(p=0.1, inplace=False)\n",
              "            )\n",
              "          )\n",
              "          (intermediate): BertIntermediate(\n",
              "            (dense): Linear(in_features=768, out_features=3072, bias=True)\n",
              "          )\n",
              "          (output): BertOutput(\n",
              "            (dense): Linear(in_features=3072, out_features=768, bias=True)\n",
              "            (LayerNorm): BertLayerNorm()\n",
              "            (dropout): Dropout(p=0.1, inplace=False)\n",
              "          )\n",
              "        )\n",
              "        (10): BertLayer(\n",
              "          (attention): BertAttention(\n",
              "            (self): BertSelfAttention(\n",
              "              (query): Linear(in_features=768, out_features=768, bias=True)\n",
              "              (key): Linear(in_features=768, out_features=768, bias=True)\n",
              "              (value): Linear(in_features=768, out_features=768, bias=True)\n",
              "              (dropout): Dropout(p=0.1, inplace=False)\n",
              "            )\n",
              "            (output): BertSelfOutput(\n",
              "              (dense): Linear(in_features=768, out_features=768, bias=True)\n",
              "              (LayerNorm): BertLayerNorm()\n",
              "              (dropout): Dropout(p=0.1, inplace=False)\n",
              "            )\n",
              "          )\n",
              "          (intermediate): BertIntermediate(\n",
              "            (dense): Linear(in_features=768, out_features=3072, bias=True)\n",
              "          )\n",
              "          (output): BertOutput(\n",
              "            (dense): Linear(in_features=3072, out_features=768, bias=True)\n",
              "            (LayerNorm): BertLayerNorm()\n",
              "            (dropout): Dropout(p=0.1, inplace=False)\n",
              "          )\n",
              "        )\n",
              "        (11): BertLayer(\n",
              "          (attention): BertAttention(\n",
              "            (self): BertSelfAttention(\n",
              "              (query): Linear(in_features=768, out_features=768, bias=True)\n",
              "              (key): Linear(in_features=768, out_features=768, bias=True)\n",
              "              (value): Linear(in_features=768, out_features=768, bias=True)\n",
              "              (dropout): Dropout(p=0.1, inplace=False)\n",
              "            )\n",
              "            (output): BertSelfOutput(\n",
              "              (dense): Linear(in_features=768, out_features=768, bias=True)\n",
              "              (LayerNorm): BertLayerNorm()\n",
              "              (dropout): Dropout(p=0.1, inplace=False)\n",
              "            )\n",
              "          )\n",
              "          (intermediate): BertIntermediate(\n",
              "            (dense): Linear(in_features=768, out_features=3072, bias=True)\n",
              "          )\n",
              "          (output): BertOutput(\n",
              "            (dense): Linear(in_features=3072, out_features=768, bias=True)\n",
              "            (LayerNorm): BertLayerNorm()\n",
              "            (dropout): Dropout(p=0.1, inplace=False)\n",
              "          )\n",
              "        )\n",
              "      )\n",
              "    )\n",
              "    (pooler): BertPooler(\n",
              "      (dense): Linear(in_features=768, out_features=768, bias=True)\n",
              "      (activation): Tanh()\n",
              "    )\n",
              "  )\n",
              "  (dropout): Dropout(p=0.1, inplace=False)\n",
              "  (classifier): Linear(in_features=768, out_features=20, bias=True)\n",
              ")"
            ]
          },
          "metadata": {
            "tags": []
          },
          "execution_count": 24
        }
      ]
    },
    {
      "cell_type": "markdown",
      "metadata": {
        "colab_type": "text",
        "id": "8o-VEBobKwHk"
      },
      "source": [
        "Now that we have our model loaded we need to grab the training hyperparameters from within the stored model.\n",
        "\n",
        "For the purposes of fine-tuning, the authors recommend the following hyperparameter ranges:\n",
        "- Batch size: 16, 32\n",
        "- Learning rate (Adam): 5e-5, 3e-5, 2e-5\n",
        "- Number of epochs: 2, 3, 4"
      ]
    },
    {
      "cell_type": "code",
      "metadata": {
        "colab_type": "code",
        "id": "QxSMw0FrptiL",
        "colab": {}
      },
      "source": [
        "\n",
        "param_optimizer = list(model.named_parameters())\n",
        "no_decay = ['bias', 'gamma', 'beta']\n",
        "optimizer_grouped_parameters = [\n",
        "    {'params': [p for n, p in param_optimizer if not any(nd in n for nd in no_decay)],\n",
        "     'weight_decay_rate': 0.01},\n",
        "    {'params': [p for n, p in param_optimizer if any(nd in n for nd in no_decay)],\n",
        "     'weight_decay_rate': 0.0}\n",
        "]\n",
        "\n"
      ],
      "execution_count": 0,
      "outputs": []
    },
    {
      "cell_type": "code",
      "metadata": {
        "colab_type": "code",
        "id": "GLs72DuMODJO",
        "outputId": "19e9a8b7-e2d8-4a03-bfe4-66ae4b9d04df",
        "colab": {
          "base_uri": "https://localhost:8080/",
          "height": 35
        }
      },
      "source": [
        "# This variable contains all of the hyperparemeter information our training loop needs\n",
        "optimizer = BertAdam(optimizer_grouped_parameters,\n",
        "                     lr=2e-5,\n",
        "                     warmup=.1)"
      ],
      "execution_count": 0,
      "outputs": [
        {
          "output_type": "stream",
          "text": [
            "t_total value of -1 results in schedule not being applied\n"
          ],
          "name": "stderr"
        }
      ]
    },
    {
      "cell_type": "markdown",
      "metadata": {
        "colab_type": "text",
        "id": "_QXZhFb4LnV5"
      },
      "source": [
        "Below is our training loop. There's a lot going on, but fundamentally for each pass in our loop we have a trianing phase and a validation phase. At each pass we need to:\n",
        "\n",
        "Training loop:\n",
        "- Tell the model to compute gradients by setting the model in train mode\n",
        "- Unpack our data inputs and labels\n",
        "- Load data onto the GPU for acceleration\n",
        "- Clear out the gradients calculated in the previous pass. In pytorch the gradients accumulate by default (useful for things like RNNs) unless you explicitly clear them out\n",
        "- Forward pass (feed input data through the network)\n",
        "- Backward pass (backpropagation)\n",
        "- Tell the network to update parameters with optimizer.step()\n",
        "- Track variables for monitoring progress\n",
        "\n",
        "Evalution loop:\n",
        "- Tell the model not to compute gradients by setting th emodel in evaluation mode\n",
        "- Unpack our data inputs and labels\n",
        "- Load data onto the GPU for acceleration\n",
        "- Forward pass (feed input data through the network)\n",
        "- Compute loss on our validation data and track variables for monitoring progress\n",
        "\n",
        "So please read carefully through the comments to get an understanding of what's happening. If you're unfamiliar with pytorch a quick look at some of their [beginner tutorials](https://pytorch.org/tutorials/beginner/blitz/cifar10_tutorial.html#sphx-glr-beginner-blitz-cifar10-tutorial-py) will help show you that training loops really involve only a few simple steps; the rest is usually just decoration and logging.  "
      ]
    },
    {
      "cell_type": "code",
      "metadata": {
        "colab_type": "code",
        "id": "9cQNvaZ9bnyy",
        "colab": {}
      },
      "source": [
        "# Function to calculate the accuracy of our predictions vs labels\n",
        "def flat_accuracy(preds, labels):\n",
        "    pred_flat = np.argmax(preds, axis=1).flatten()\n",
        "    labels_flat = labels.flatten()\n",
        "    return np.sum(pred_flat == labels_flat) / len(labels_flat)"
      ],
      "execution_count": 0,
      "outputs": []
    },
    {
      "cell_type": "code",
      "metadata": {
        "colab_type": "code",
        "id": "6J-FYdx6nFE_",
        "outputId": "fd4e8110-54ed-45fc-d9e0-bea71e71b51f",
        "colab": {
          "base_uri": "https://localhost:8080/"
        }
      },
      "source": [
        "# Store our loss and accuracy for plotting\n",
        "train_loss_set = []\n",
        "\n",
        "# Number of training epochs (authors recommend between 2 and 4)\n",
        "epochs = 4\n",
        "\n",
        "# trange is a tqdm wrapper around the normal python range\n",
        "for _ in trange(epochs, desc=\"Epoch\"):\n",
        "  \n",
        "  \n",
        "  # Training\n",
        "  \n",
        "  # Set our model to training mode (as opposed to evaluation mode)\n",
        "  model.train()\n",
        "  \n",
        "  # Tracking variables\n",
        "  tr_loss = 0\n",
        "  nb_tr_examples, nb_tr_steps = 0, 0\n",
        "  \n",
        "  # Train the data for one epoch\n",
        "  for step, batch in enumerate(train_dataloader):\n",
        "    # Add batch to GPU\n",
        "    batch = tuple(t.to(device) for t in batch)\n",
        "    # Unpack the inputs from our dataloader\n",
        "    b_input_ids, b_input_mask, b_labels = batch\n",
        "    # Clear out the gradients (by default they accumulate)\n",
        "    optimizer.zero_grad()\n",
        "    # Forward pass\n",
        "    loss = model(b_input_ids, token_type_ids=None, attention_mask=b_input_mask, labels=b_labels)\n",
        "    train_loss_set.append(loss.item())    \n",
        "    # Backward pass\n",
        "    loss.backward()\n",
        "    # Update parameters and take a step using the computed gradient\n",
        "    optimizer.step()\n",
        "    \n",
        "    \n",
        "    # Update tracking variables\n",
        "    tr_loss += loss.item()\n",
        "    nb_tr_examples += b_input_ids.size(0)\n",
        "    nb_tr_steps += 1\n",
        "\n",
        "  print(\"Train loss: {}\".format(tr_loss/nb_tr_steps))\n",
        "    \n",
        "    \n",
        "  # Validation\n",
        "\n",
        "  # Put model in evaluation mode to evaluate loss on the validation set\n",
        "  model.eval()\n",
        "\n",
        "  # Tracking variables \n",
        "  eval_loss, eval_accuracy = 0, 0\n",
        "  nb_eval_steps, nb_eval_examples = 0, 0\n",
        "\n",
        "  # Evaluate data for one epoch\n",
        "  for batch in validation_dataloader:\n",
        "    # Add batch to GPU\n",
        "    batch = tuple(t.to(device) for t in batch)\n",
        "    # Unpack the inputs from our dataloader\n",
        "    b_input_ids, b_input_mask, b_labels = batch\n",
        "    # Telling the model not to compute or store gradients, saving memory and speeding up validation\n",
        "    with torch.no_grad():\n",
        "      # Forward pass, calculate logit predictions\n",
        "      logits = model(b_input_ids, token_type_ids=None, attention_mask=b_input_mask)\n",
        "    \n",
        "    # Move logits and labels to CPU\n",
        "    logits = logits.detach().cpu().numpy()\n",
        "    label_ids = b_labels.to('cpu').numpy()\n",
        "\n",
        "    tmp_eval_accuracy = flat_accuracy(logits, label_ids)\n",
        "    \n",
        "    eval_accuracy += tmp_eval_accuracy\n",
        "    nb_eval_steps += 1\n",
        "\n",
        "  print(\"Validation Accuracy: {}\".format(eval_accuracy/nb_eval_steps))"
      ],
      "execution_count": 0,
      "outputs": [
        {
          "output_type": "stream",
          "text": [
            "\rEpoch:   0%|          | 0/4 [00:00<?, ?it/s]\n"
          ],
          "name": "stderr"
        },
        {
          "output_type": "error",
          "ename": "RuntimeError",
          "evalue": "ignored",
          "traceback": [
            "\u001b[0;31m---------------------------------------------------------------------------\u001b[0m",
            "\u001b[0;31mRuntimeError\u001b[0m                              Traceback (most recent call last)",
            "\u001b[0;32m<ipython-input-28-bb919f11c4e4>\u001b[0m in \u001b[0;36m<module>\u001b[0;34m()\u001b[0m\n\u001b[1;32m     26\u001b[0m     \u001b[0moptimizer\u001b[0m\u001b[0;34m.\u001b[0m\u001b[0mzero_grad\u001b[0m\u001b[0;34m(\u001b[0m\u001b[0;34m)\u001b[0m\u001b[0;34m\u001b[0m\u001b[0;34m\u001b[0m\u001b[0m\n\u001b[1;32m     27\u001b[0m     \u001b[0;31m# Forward pass\u001b[0m\u001b[0;34m\u001b[0m\u001b[0;34m\u001b[0m\u001b[0;34m\u001b[0m\u001b[0m\n\u001b[0;32m---> 28\u001b[0;31m     \u001b[0mloss\u001b[0m \u001b[0;34m=\u001b[0m \u001b[0mmodel\u001b[0m\u001b[0;34m(\u001b[0m\u001b[0mb_input_ids\u001b[0m\u001b[0;34m,\u001b[0m \u001b[0mtoken_type_ids\u001b[0m\u001b[0;34m=\u001b[0m\u001b[0;32mNone\u001b[0m\u001b[0;34m,\u001b[0m \u001b[0mattention_mask\u001b[0m\u001b[0;34m=\u001b[0m\u001b[0mb_input_mask\u001b[0m\u001b[0;34m,\u001b[0m \u001b[0mlabels\u001b[0m\u001b[0;34m=\u001b[0m\u001b[0mb_labels\u001b[0m\u001b[0;34m)\u001b[0m\u001b[0;34m\u001b[0m\u001b[0;34m\u001b[0m\u001b[0m\n\u001b[0m\u001b[1;32m     29\u001b[0m     \u001b[0mtrain_loss_set\u001b[0m\u001b[0;34m.\u001b[0m\u001b[0mappend\u001b[0m\u001b[0;34m(\u001b[0m\u001b[0mloss\u001b[0m\u001b[0;34m.\u001b[0m\u001b[0mitem\u001b[0m\u001b[0;34m(\u001b[0m\u001b[0;34m)\u001b[0m\u001b[0;34m)\u001b[0m\u001b[0;34m\u001b[0m\u001b[0;34m\u001b[0m\u001b[0m\n\u001b[1;32m     30\u001b[0m     \u001b[0;31m# Backward pass\u001b[0m\u001b[0;34m\u001b[0m\u001b[0;34m\u001b[0m\u001b[0;34m\u001b[0m\u001b[0m\n",
            "\u001b[0;32m/usr/local/lib/python3.6/dist-packages/torch/nn/modules/module.py\u001b[0m in \u001b[0;36m__call__\u001b[0;34m(self, *input, **kwargs)\u001b[0m\n\u001b[1;32m    539\u001b[0m             \u001b[0mresult\u001b[0m \u001b[0;34m=\u001b[0m \u001b[0mself\u001b[0m\u001b[0;34m.\u001b[0m\u001b[0m_slow_forward\u001b[0m\u001b[0;34m(\u001b[0m\u001b[0;34m*\u001b[0m\u001b[0minput\u001b[0m\u001b[0;34m,\u001b[0m \u001b[0;34m**\u001b[0m\u001b[0mkwargs\u001b[0m\u001b[0;34m)\u001b[0m\u001b[0;34m\u001b[0m\u001b[0;34m\u001b[0m\u001b[0m\n\u001b[1;32m    540\u001b[0m         \u001b[0;32melse\u001b[0m\u001b[0;34m:\u001b[0m\u001b[0;34m\u001b[0m\u001b[0;34m\u001b[0m\u001b[0m\n\u001b[0;32m--> 541\u001b[0;31m             \u001b[0mresult\u001b[0m \u001b[0;34m=\u001b[0m \u001b[0mself\u001b[0m\u001b[0;34m.\u001b[0m\u001b[0mforward\u001b[0m\u001b[0;34m(\u001b[0m\u001b[0;34m*\u001b[0m\u001b[0minput\u001b[0m\u001b[0;34m,\u001b[0m \u001b[0;34m**\u001b[0m\u001b[0mkwargs\u001b[0m\u001b[0;34m)\u001b[0m\u001b[0;34m\u001b[0m\u001b[0;34m\u001b[0m\u001b[0m\n\u001b[0m\u001b[1;32m    542\u001b[0m         \u001b[0;32mfor\u001b[0m \u001b[0mhook\u001b[0m \u001b[0;32min\u001b[0m \u001b[0mself\u001b[0m\u001b[0;34m.\u001b[0m\u001b[0m_forward_hooks\u001b[0m\u001b[0;34m.\u001b[0m\u001b[0mvalues\u001b[0m\u001b[0;34m(\u001b[0m\u001b[0;34m)\u001b[0m\u001b[0;34m:\u001b[0m\u001b[0;34m\u001b[0m\u001b[0;34m\u001b[0m\u001b[0m\n\u001b[1;32m    543\u001b[0m             \u001b[0mhook_result\u001b[0m \u001b[0;34m=\u001b[0m \u001b[0mhook\u001b[0m\u001b[0;34m(\u001b[0m\u001b[0mself\u001b[0m\u001b[0;34m,\u001b[0m \u001b[0minput\u001b[0m\u001b[0;34m,\u001b[0m \u001b[0mresult\u001b[0m\u001b[0;34m)\u001b[0m\u001b[0;34m\u001b[0m\u001b[0;34m\u001b[0m\u001b[0m\n",
            "\u001b[0;32m/usr/local/lib/python3.6/dist-packages/pytorch_pretrained_bert/modeling.py\u001b[0m in \u001b[0;36mforward\u001b[0;34m(self, input_ids, token_type_ids, attention_mask, labels)\u001b[0m\n\u001b[1;32m    987\u001b[0m \u001b[0;34m\u001b[0m\u001b[0m\n\u001b[1;32m    988\u001b[0m     \u001b[0;32mdef\u001b[0m \u001b[0mforward\u001b[0m\u001b[0;34m(\u001b[0m\u001b[0mself\u001b[0m\u001b[0;34m,\u001b[0m \u001b[0minput_ids\u001b[0m\u001b[0;34m,\u001b[0m \u001b[0mtoken_type_ids\u001b[0m\u001b[0;34m=\u001b[0m\u001b[0;32mNone\u001b[0m\u001b[0;34m,\u001b[0m \u001b[0mattention_mask\u001b[0m\u001b[0;34m=\u001b[0m\u001b[0;32mNone\u001b[0m\u001b[0;34m,\u001b[0m \u001b[0mlabels\u001b[0m\u001b[0;34m=\u001b[0m\u001b[0;32mNone\u001b[0m\u001b[0;34m)\u001b[0m\u001b[0;34m:\u001b[0m\u001b[0;34m\u001b[0m\u001b[0;34m\u001b[0m\u001b[0m\n\u001b[0;32m--> 989\u001b[0;31m         \u001b[0m_\u001b[0m\u001b[0;34m,\u001b[0m \u001b[0mpooled_output\u001b[0m \u001b[0;34m=\u001b[0m \u001b[0mself\u001b[0m\u001b[0;34m.\u001b[0m\u001b[0mbert\u001b[0m\u001b[0;34m(\u001b[0m\u001b[0minput_ids\u001b[0m\u001b[0;34m,\u001b[0m \u001b[0mtoken_type_ids\u001b[0m\u001b[0;34m,\u001b[0m \u001b[0mattention_mask\u001b[0m\u001b[0;34m,\u001b[0m \u001b[0moutput_all_encoded_layers\u001b[0m\u001b[0;34m=\u001b[0m\u001b[0;32mFalse\u001b[0m\u001b[0;34m)\u001b[0m\u001b[0;34m\u001b[0m\u001b[0;34m\u001b[0m\u001b[0m\n\u001b[0m\u001b[1;32m    990\u001b[0m         \u001b[0mpooled_output\u001b[0m \u001b[0;34m=\u001b[0m \u001b[0mself\u001b[0m\u001b[0;34m.\u001b[0m\u001b[0mdropout\u001b[0m\u001b[0;34m(\u001b[0m\u001b[0mpooled_output\u001b[0m\u001b[0;34m)\u001b[0m\u001b[0;34m\u001b[0m\u001b[0;34m\u001b[0m\u001b[0m\n\u001b[1;32m    991\u001b[0m         \u001b[0mlogits\u001b[0m \u001b[0;34m=\u001b[0m \u001b[0mself\u001b[0m\u001b[0;34m.\u001b[0m\u001b[0mclassifier\u001b[0m\u001b[0;34m(\u001b[0m\u001b[0mpooled_output\u001b[0m\u001b[0;34m)\u001b[0m\u001b[0;34m\u001b[0m\u001b[0;34m\u001b[0m\u001b[0m\n",
            "\u001b[0;32m/usr/local/lib/python3.6/dist-packages/torch/nn/modules/module.py\u001b[0m in \u001b[0;36m__call__\u001b[0;34m(self, *input, **kwargs)\u001b[0m\n\u001b[1;32m    539\u001b[0m             \u001b[0mresult\u001b[0m \u001b[0;34m=\u001b[0m \u001b[0mself\u001b[0m\u001b[0;34m.\u001b[0m\u001b[0m_slow_forward\u001b[0m\u001b[0;34m(\u001b[0m\u001b[0;34m*\u001b[0m\u001b[0minput\u001b[0m\u001b[0;34m,\u001b[0m \u001b[0;34m**\u001b[0m\u001b[0mkwargs\u001b[0m\u001b[0;34m)\u001b[0m\u001b[0;34m\u001b[0m\u001b[0;34m\u001b[0m\u001b[0m\n\u001b[1;32m    540\u001b[0m         \u001b[0;32melse\u001b[0m\u001b[0;34m:\u001b[0m\u001b[0;34m\u001b[0m\u001b[0;34m\u001b[0m\u001b[0m\n\u001b[0;32m--> 541\u001b[0;31m             \u001b[0mresult\u001b[0m \u001b[0;34m=\u001b[0m \u001b[0mself\u001b[0m\u001b[0;34m.\u001b[0m\u001b[0mforward\u001b[0m\u001b[0;34m(\u001b[0m\u001b[0;34m*\u001b[0m\u001b[0minput\u001b[0m\u001b[0;34m,\u001b[0m \u001b[0;34m**\u001b[0m\u001b[0mkwargs\u001b[0m\u001b[0;34m)\u001b[0m\u001b[0;34m\u001b[0m\u001b[0;34m\u001b[0m\u001b[0m\n\u001b[0m\u001b[1;32m    542\u001b[0m         \u001b[0;32mfor\u001b[0m \u001b[0mhook\u001b[0m \u001b[0;32min\u001b[0m \u001b[0mself\u001b[0m\u001b[0;34m.\u001b[0m\u001b[0m_forward_hooks\u001b[0m\u001b[0;34m.\u001b[0m\u001b[0mvalues\u001b[0m\u001b[0;34m(\u001b[0m\u001b[0;34m)\u001b[0m\u001b[0;34m:\u001b[0m\u001b[0;34m\u001b[0m\u001b[0;34m\u001b[0m\u001b[0m\n\u001b[1;32m    543\u001b[0m             \u001b[0mhook_result\u001b[0m \u001b[0;34m=\u001b[0m \u001b[0mhook\u001b[0m\u001b[0;34m(\u001b[0m\u001b[0mself\u001b[0m\u001b[0;34m,\u001b[0m \u001b[0minput\u001b[0m\u001b[0;34m,\u001b[0m \u001b[0mresult\u001b[0m\u001b[0;34m)\u001b[0m\u001b[0;34m\u001b[0m\u001b[0;34m\u001b[0m\u001b[0m\n",
            "\u001b[0;32m/usr/local/lib/python3.6/dist-packages/pytorch_pretrained_bert/modeling.py\u001b[0m in \u001b[0;36mforward\u001b[0;34m(self, input_ids, token_type_ids, attention_mask, output_all_encoded_layers)\u001b[0m\n\u001b[1;32m    731\u001b[0m         encoded_layers = self.encoder(embedding_output,\n\u001b[1;32m    732\u001b[0m                                       \u001b[0mextended_attention_mask\u001b[0m\u001b[0;34m,\u001b[0m\u001b[0;34m\u001b[0m\u001b[0;34m\u001b[0m\u001b[0m\n\u001b[0;32m--> 733\u001b[0;31m                                       output_all_encoded_layers=output_all_encoded_layers)\n\u001b[0m\u001b[1;32m    734\u001b[0m         \u001b[0msequence_output\u001b[0m \u001b[0;34m=\u001b[0m \u001b[0mencoded_layers\u001b[0m\u001b[0;34m[\u001b[0m\u001b[0;34m-\u001b[0m\u001b[0;36m1\u001b[0m\u001b[0;34m]\u001b[0m\u001b[0;34m\u001b[0m\u001b[0;34m\u001b[0m\u001b[0m\n\u001b[1;32m    735\u001b[0m         \u001b[0mpooled_output\u001b[0m \u001b[0;34m=\u001b[0m \u001b[0mself\u001b[0m\u001b[0;34m.\u001b[0m\u001b[0mpooler\u001b[0m\u001b[0;34m(\u001b[0m\u001b[0msequence_output\u001b[0m\u001b[0;34m)\u001b[0m\u001b[0;34m\u001b[0m\u001b[0;34m\u001b[0m\u001b[0m\n",
            "\u001b[0;32m/usr/local/lib/python3.6/dist-packages/torch/nn/modules/module.py\u001b[0m in \u001b[0;36m__call__\u001b[0;34m(self, *input, **kwargs)\u001b[0m\n\u001b[1;32m    539\u001b[0m             \u001b[0mresult\u001b[0m \u001b[0;34m=\u001b[0m \u001b[0mself\u001b[0m\u001b[0;34m.\u001b[0m\u001b[0m_slow_forward\u001b[0m\u001b[0;34m(\u001b[0m\u001b[0;34m*\u001b[0m\u001b[0minput\u001b[0m\u001b[0;34m,\u001b[0m \u001b[0;34m**\u001b[0m\u001b[0mkwargs\u001b[0m\u001b[0;34m)\u001b[0m\u001b[0;34m\u001b[0m\u001b[0;34m\u001b[0m\u001b[0m\n\u001b[1;32m    540\u001b[0m         \u001b[0;32melse\u001b[0m\u001b[0;34m:\u001b[0m\u001b[0;34m\u001b[0m\u001b[0;34m\u001b[0m\u001b[0m\n\u001b[0;32m--> 541\u001b[0;31m             \u001b[0mresult\u001b[0m \u001b[0;34m=\u001b[0m \u001b[0mself\u001b[0m\u001b[0;34m.\u001b[0m\u001b[0mforward\u001b[0m\u001b[0;34m(\u001b[0m\u001b[0;34m*\u001b[0m\u001b[0minput\u001b[0m\u001b[0;34m,\u001b[0m \u001b[0;34m**\u001b[0m\u001b[0mkwargs\u001b[0m\u001b[0;34m)\u001b[0m\u001b[0;34m\u001b[0m\u001b[0;34m\u001b[0m\u001b[0m\n\u001b[0m\u001b[1;32m    542\u001b[0m         \u001b[0;32mfor\u001b[0m \u001b[0mhook\u001b[0m \u001b[0;32min\u001b[0m \u001b[0mself\u001b[0m\u001b[0;34m.\u001b[0m\u001b[0m_forward_hooks\u001b[0m\u001b[0;34m.\u001b[0m\u001b[0mvalues\u001b[0m\u001b[0;34m(\u001b[0m\u001b[0;34m)\u001b[0m\u001b[0;34m:\u001b[0m\u001b[0;34m\u001b[0m\u001b[0;34m\u001b[0m\u001b[0m\n\u001b[1;32m    543\u001b[0m             \u001b[0mhook_result\u001b[0m \u001b[0;34m=\u001b[0m \u001b[0mhook\u001b[0m\u001b[0;34m(\u001b[0m\u001b[0mself\u001b[0m\u001b[0;34m,\u001b[0m \u001b[0minput\u001b[0m\u001b[0;34m,\u001b[0m \u001b[0mresult\u001b[0m\u001b[0;34m)\u001b[0m\u001b[0;34m\u001b[0m\u001b[0;34m\u001b[0m\u001b[0m\n",
            "\u001b[0;32m/usr/local/lib/python3.6/dist-packages/pytorch_pretrained_bert/modeling.py\u001b[0m in \u001b[0;36mforward\u001b[0;34m(self, hidden_states, attention_mask, output_all_encoded_layers)\u001b[0m\n\u001b[1;32m    404\u001b[0m         \u001b[0mall_encoder_layers\u001b[0m \u001b[0;34m=\u001b[0m \u001b[0;34m[\u001b[0m\u001b[0;34m]\u001b[0m\u001b[0;34m\u001b[0m\u001b[0;34m\u001b[0m\u001b[0m\n\u001b[1;32m    405\u001b[0m         \u001b[0;32mfor\u001b[0m \u001b[0mlayer_module\u001b[0m \u001b[0;32min\u001b[0m \u001b[0mself\u001b[0m\u001b[0;34m.\u001b[0m\u001b[0mlayer\u001b[0m\u001b[0;34m:\u001b[0m\u001b[0;34m\u001b[0m\u001b[0;34m\u001b[0m\u001b[0m\n\u001b[0;32m--> 406\u001b[0;31m             \u001b[0mhidden_states\u001b[0m \u001b[0;34m=\u001b[0m \u001b[0mlayer_module\u001b[0m\u001b[0;34m(\u001b[0m\u001b[0mhidden_states\u001b[0m\u001b[0;34m,\u001b[0m \u001b[0mattention_mask\u001b[0m\u001b[0;34m)\u001b[0m\u001b[0;34m\u001b[0m\u001b[0;34m\u001b[0m\u001b[0m\n\u001b[0m\u001b[1;32m    407\u001b[0m             \u001b[0;32mif\u001b[0m \u001b[0moutput_all_encoded_layers\u001b[0m\u001b[0;34m:\u001b[0m\u001b[0;34m\u001b[0m\u001b[0;34m\u001b[0m\u001b[0m\n\u001b[1;32m    408\u001b[0m                 \u001b[0mall_encoder_layers\u001b[0m\u001b[0;34m.\u001b[0m\u001b[0mappend\u001b[0m\u001b[0;34m(\u001b[0m\u001b[0mhidden_states\u001b[0m\u001b[0;34m)\u001b[0m\u001b[0;34m\u001b[0m\u001b[0;34m\u001b[0m\u001b[0m\n",
            "\u001b[0;32m/usr/local/lib/python3.6/dist-packages/torch/nn/modules/module.py\u001b[0m in \u001b[0;36m__call__\u001b[0;34m(self, *input, **kwargs)\u001b[0m\n\u001b[1;32m    539\u001b[0m             \u001b[0mresult\u001b[0m \u001b[0;34m=\u001b[0m \u001b[0mself\u001b[0m\u001b[0;34m.\u001b[0m\u001b[0m_slow_forward\u001b[0m\u001b[0;34m(\u001b[0m\u001b[0;34m*\u001b[0m\u001b[0minput\u001b[0m\u001b[0;34m,\u001b[0m \u001b[0;34m**\u001b[0m\u001b[0mkwargs\u001b[0m\u001b[0;34m)\u001b[0m\u001b[0;34m\u001b[0m\u001b[0;34m\u001b[0m\u001b[0m\n\u001b[1;32m    540\u001b[0m         \u001b[0;32melse\u001b[0m\u001b[0;34m:\u001b[0m\u001b[0;34m\u001b[0m\u001b[0;34m\u001b[0m\u001b[0m\n\u001b[0;32m--> 541\u001b[0;31m             \u001b[0mresult\u001b[0m \u001b[0;34m=\u001b[0m \u001b[0mself\u001b[0m\u001b[0;34m.\u001b[0m\u001b[0mforward\u001b[0m\u001b[0;34m(\u001b[0m\u001b[0;34m*\u001b[0m\u001b[0minput\u001b[0m\u001b[0;34m,\u001b[0m \u001b[0;34m**\u001b[0m\u001b[0mkwargs\u001b[0m\u001b[0;34m)\u001b[0m\u001b[0;34m\u001b[0m\u001b[0;34m\u001b[0m\u001b[0m\n\u001b[0m\u001b[1;32m    542\u001b[0m         \u001b[0;32mfor\u001b[0m \u001b[0mhook\u001b[0m \u001b[0;32min\u001b[0m \u001b[0mself\u001b[0m\u001b[0;34m.\u001b[0m\u001b[0m_forward_hooks\u001b[0m\u001b[0;34m.\u001b[0m\u001b[0mvalues\u001b[0m\u001b[0;34m(\u001b[0m\u001b[0;34m)\u001b[0m\u001b[0;34m:\u001b[0m\u001b[0;34m\u001b[0m\u001b[0;34m\u001b[0m\u001b[0m\n\u001b[1;32m    543\u001b[0m             \u001b[0mhook_result\u001b[0m \u001b[0;34m=\u001b[0m \u001b[0mhook\u001b[0m\u001b[0;34m(\u001b[0m\u001b[0mself\u001b[0m\u001b[0;34m,\u001b[0m \u001b[0minput\u001b[0m\u001b[0;34m,\u001b[0m \u001b[0mresult\u001b[0m\u001b[0;34m)\u001b[0m\u001b[0;34m\u001b[0m\u001b[0;34m\u001b[0m\u001b[0m\n",
            "\u001b[0;32m/usr/local/lib/python3.6/dist-packages/pytorch_pretrained_bert/modeling.py\u001b[0m in \u001b[0;36mforward\u001b[0;34m(self, hidden_states, attention_mask)\u001b[0m\n\u001b[1;32m    390\u001b[0m     \u001b[0;32mdef\u001b[0m \u001b[0mforward\u001b[0m\u001b[0;34m(\u001b[0m\u001b[0mself\u001b[0m\u001b[0;34m,\u001b[0m \u001b[0mhidden_states\u001b[0m\u001b[0;34m,\u001b[0m \u001b[0mattention_mask\u001b[0m\u001b[0;34m)\u001b[0m\u001b[0;34m:\u001b[0m\u001b[0;34m\u001b[0m\u001b[0;34m\u001b[0m\u001b[0m\n\u001b[1;32m    391\u001b[0m         \u001b[0mattention_output\u001b[0m \u001b[0;34m=\u001b[0m \u001b[0mself\u001b[0m\u001b[0;34m.\u001b[0m\u001b[0mattention\u001b[0m\u001b[0;34m(\u001b[0m\u001b[0mhidden_states\u001b[0m\u001b[0;34m,\u001b[0m \u001b[0mattention_mask\u001b[0m\u001b[0;34m)\u001b[0m\u001b[0;34m\u001b[0m\u001b[0;34m\u001b[0m\u001b[0m\n\u001b[0;32m--> 392\u001b[0;31m         \u001b[0mintermediate_output\u001b[0m \u001b[0;34m=\u001b[0m \u001b[0mself\u001b[0m\u001b[0;34m.\u001b[0m\u001b[0mintermediate\u001b[0m\u001b[0;34m(\u001b[0m\u001b[0mattention_output\u001b[0m\u001b[0;34m)\u001b[0m\u001b[0;34m\u001b[0m\u001b[0;34m\u001b[0m\u001b[0m\n\u001b[0m\u001b[1;32m    393\u001b[0m         \u001b[0mlayer_output\u001b[0m \u001b[0;34m=\u001b[0m \u001b[0mself\u001b[0m\u001b[0;34m.\u001b[0m\u001b[0moutput\u001b[0m\u001b[0;34m(\u001b[0m\u001b[0mintermediate_output\u001b[0m\u001b[0;34m,\u001b[0m \u001b[0mattention_output\u001b[0m\u001b[0;34m)\u001b[0m\u001b[0;34m\u001b[0m\u001b[0;34m\u001b[0m\u001b[0m\n\u001b[1;32m    394\u001b[0m         \u001b[0;32mreturn\u001b[0m \u001b[0mlayer_output\u001b[0m\u001b[0;34m\u001b[0m\u001b[0;34m\u001b[0m\u001b[0m\n",
            "\u001b[0;32m/usr/local/lib/python3.6/dist-packages/torch/nn/modules/module.py\u001b[0m in \u001b[0;36m__call__\u001b[0;34m(self, *input, **kwargs)\u001b[0m\n\u001b[1;32m    539\u001b[0m             \u001b[0mresult\u001b[0m \u001b[0;34m=\u001b[0m \u001b[0mself\u001b[0m\u001b[0;34m.\u001b[0m\u001b[0m_slow_forward\u001b[0m\u001b[0;34m(\u001b[0m\u001b[0;34m*\u001b[0m\u001b[0minput\u001b[0m\u001b[0;34m,\u001b[0m \u001b[0;34m**\u001b[0m\u001b[0mkwargs\u001b[0m\u001b[0;34m)\u001b[0m\u001b[0;34m\u001b[0m\u001b[0;34m\u001b[0m\u001b[0m\n\u001b[1;32m    540\u001b[0m         \u001b[0;32melse\u001b[0m\u001b[0;34m:\u001b[0m\u001b[0;34m\u001b[0m\u001b[0;34m\u001b[0m\u001b[0m\n\u001b[0;32m--> 541\u001b[0;31m             \u001b[0mresult\u001b[0m \u001b[0;34m=\u001b[0m \u001b[0mself\u001b[0m\u001b[0;34m.\u001b[0m\u001b[0mforward\u001b[0m\u001b[0;34m(\u001b[0m\u001b[0;34m*\u001b[0m\u001b[0minput\u001b[0m\u001b[0;34m,\u001b[0m \u001b[0;34m**\u001b[0m\u001b[0mkwargs\u001b[0m\u001b[0;34m)\u001b[0m\u001b[0;34m\u001b[0m\u001b[0;34m\u001b[0m\u001b[0m\n\u001b[0m\u001b[1;32m    542\u001b[0m         \u001b[0;32mfor\u001b[0m \u001b[0mhook\u001b[0m \u001b[0;32min\u001b[0m \u001b[0mself\u001b[0m\u001b[0;34m.\u001b[0m\u001b[0m_forward_hooks\u001b[0m\u001b[0;34m.\u001b[0m\u001b[0mvalues\u001b[0m\u001b[0;34m(\u001b[0m\u001b[0;34m)\u001b[0m\u001b[0;34m:\u001b[0m\u001b[0;34m\u001b[0m\u001b[0;34m\u001b[0m\u001b[0m\n\u001b[1;32m    543\u001b[0m             \u001b[0mhook_result\u001b[0m \u001b[0;34m=\u001b[0m \u001b[0mhook\u001b[0m\u001b[0;34m(\u001b[0m\u001b[0mself\u001b[0m\u001b[0;34m,\u001b[0m \u001b[0minput\u001b[0m\u001b[0;34m,\u001b[0m \u001b[0mresult\u001b[0m\u001b[0;34m)\u001b[0m\u001b[0;34m\u001b[0m\u001b[0;34m\u001b[0m\u001b[0m\n",
            "\u001b[0;32m/usr/local/lib/python3.6/dist-packages/pytorch_pretrained_bert/modeling.py\u001b[0m in \u001b[0;36mforward\u001b[0;34m(self, hidden_states)\u001b[0m\n\u001b[1;32m    363\u001b[0m     \u001b[0;32mdef\u001b[0m \u001b[0mforward\u001b[0m\u001b[0;34m(\u001b[0m\u001b[0mself\u001b[0m\u001b[0;34m,\u001b[0m \u001b[0mhidden_states\u001b[0m\u001b[0;34m)\u001b[0m\u001b[0;34m:\u001b[0m\u001b[0;34m\u001b[0m\u001b[0;34m\u001b[0m\u001b[0m\n\u001b[1;32m    364\u001b[0m         \u001b[0mhidden_states\u001b[0m \u001b[0;34m=\u001b[0m \u001b[0mself\u001b[0m\u001b[0;34m.\u001b[0m\u001b[0mdense\u001b[0m\u001b[0;34m(\u001b[0m\u001b[0mhidden_states\u001b[0m\u001b[0;34m)\u001b[0m\u001b[0;34m\u001b[0m\u001b[0;34m\u001b[0m\u001b[0m\n\u001b[0;32m--> 365\u001b[0;31m         \u001b[0mhidden_states\u001b[0m \u001b[0;34m=\u001b[0m \u001b[0mself\u001b[0m\u001b[0;34m.\u001b[0m\u001b[0mintermediate_act_fn\u001b[0m\u001b[0;34m(\u001b[0m\u001b[0mhidden_states\u001b[0m\u001b[0;34m)\u001b[0m\u001b[0;34m\u001b[0m\u001b[0;34m\u001b[0m\u001b[0m\n\u001b[0m\u001b[1;32m    366\u001b[0m         \u001b[0;32mreturn\u001b[0m \u001b[0mhidden_states\u001b[0m\u001b[0;34m\u001b[0m\u001b[0;34m\u001b[0m\u001b[0m\n\u001b[1;32m    367\u001b[0m \u001b[0;34m\u001b[0m\u001b[0m\n",
            "\u001b[0;32m/usr/local/lib/python3.6/dist-packages/pytorch_pretrained_bert/modeling.py\u001b[0m in \u001b[0;36mgelu\u001b[0;34m(x)\u001b[0m\n\u001b[1;32m    122\u001b[0m         \u001b[0mAlso\u001b[0m \u001b[0msee\u001b[0m \u001b[0mhttps\u001b[0m\u001b[0;34m:\u001b[0m\u001b[0;34m//\u001b[0m\u001b[0marxiv\u001b[0m\u001b[0;34m.\u001b[0m\u001b[0morg\u001b[0m\u001b[0;34m/\u001b[0m\u001b[0mabs\u001b[0m\u001b[0;34m/\u001b[0m\u001b[0;36m1606.08415\u001b[0m\u001b[0;34m\u001b[0m\u001b[0;34m\u001b[0m\u001b[0m\n\u001b[1;32m    123\u001b[0m     \"\"\"\n\u001b[0;32m--> 124\u001b[0;31m     \u001b[0;32mreturn\u001b[0m \u001b[0mx\u001b[0m \u001b[0;34m*\u001b[0m \u001b[0;36m0.5\u001b[0m \u001b[0;34m*\u001b[0m \u001b[0;34m(\u001b[0m\u001b[0;36m1.0\u001b[0m \u001b[0;34m+\u001b[0m \u001b[0mtorch\u001b[0m\u001b[0;34m.\u001b[0m\u001b[0merf\u001b[0m\u001b[0;34m(\u001b[0m\u001b[0mx\u001b[0m \u001b[0;34m/\u001b[0m \u001b[0mmath\u001b[0m\u001b[0;34m.\u001b[0m\u001b[0msqrt\u001b[0m\u001b[0;34m(\u001b[0m\u001b[0;36m2.0\u001b[0m\u001b[0;34m)\u001b[0m\u001b[0;34m)\u001b[0m\u001b[0;34m)\u001b[0m\u001b[0;34m\u001b[0m\u001b[0;34m\u001b[0m\u001b[0m\n\u001b[0m\u001b[1;32m    125\u001b[0m \u001b[0;34m\u001b[0m\u001b[0m\n\u001b[1;32m    126\u001b[0m \u001b[0;34m\u001b[0m\u001b[0m\n",
            "\u001b[0;31mRuntimeError\u001b[0m: CUDA out of memory. Tried to allocate 96.00 MiB (GPU 0; 7.43 GiB total capacity; 6.80 GiB already allocated; 52.94 MiB free; 64.71 MiB cached)"
          ]
        }
      ]
    },
    {
      "cell_type": "markdown",
      "metadata": {
        "colab_type": "text",
        "id": "iyRa-5CcHv_g"
      },
      "source": [
        "## Training Evaluation"
      ]
    },
    {
      "cell_type": "markdown",
      "metadata": {
        "colab_type": "text",
        "id": "1-G03mmwH3aI"
      },
      "source": [
        "Let's take a look at our training loss over all batches:"
      ]
    },
    {
      "cell_type": "code",
      "metadata": {
        "colab_type": "code",
        "id": "68xreA9JAmG5",
        "colab": {}
      },
      "source": [
        "plt.figure(figsize=(15,8))\n",
        "plt.title(\"Training loss\")\n",
        "plt.xlabel(\"Batch\")\n",
        "plt.ylabel(\"Loss\")\n",
        "plt.plot(train_loss_set)\n",
        "plt.show()"
      ],
      "execution_count": 0,
      "outputs": []
    },
    {
      "cell_type": "markdown",
      "metadata": {
        "colab_type": "text",
        "id": "mkyubuJSOzg3"
      },
      "source": [
        "##Predict and Evaluate on Holdout Set"
      ]
    },
    {
      "cell_type": "markdown",
      "metadata": {
        "colab_type": "text",
        "id": "DosV94BYIYxg"
      },
      "source": [
        "Now we'll load the holdout dataset and prepare inputs just as we did with the training set. Then we'll evaluate predictions using [Matthew's correlation coefficient](https://scikit-learn.org/stable/modules/generated/sklearn.metrics.matthews_corrcoef.html) because this is the metric used by the wider NLP community to evaluate performance on CoLA. With this metric, +1 is the best score, and -1 is the worst score. This way, we can see how well we perform against the state of the art models for this specific task."
      ]
    },
    {
      "cell_type": "code",
      "metadata": {
        "colab_type": "code",
        "id": "NyBuXVGoOLQf",
        "colab": {}
      },
      "source": [
        "# Upload the test file from your local drive\n",
        "from google.colab import files\n",
        "uploaded = files.upload()\n"
      ],
      "execution_count": 0,
      "outputs": []
    },
    {
      "cell_type": "code",
      "metadata": {
        "colab_type": "code",
        "id": "mAN0LZBOOPVh",
        "colab": {}
      },
      "source": [
        "df = pd.read_csv(\"out_of_domain_dev.tsv\", delimiter='\\t', header=None, names=['sentence_source', 'label', 'label_notes', 'sentence'])\n",
        "\n",
        "# Create sentence and label lists\n",
        "sentences = df.sentence.values\n",
        "\n",
        "# We need to add special tokens at the beginning and end of each sentence for BERT to work properly\n",
        "sentences = [\"[CLS] \" + sentence + \" [SEP]\" for sentence in sentences]\n",
        "labels = df.label.values\n",
        "\n",
        "tokenized_texts = [tokenizer.tokenize(sent) for sent in sentences]\n",
        "\n",
        "\n",
        "MAX_LEN = 128\n",
        "\n",
        "# Use the BERT tokenizer to convert the tokens to their index numbers in the BERT vocabulary\n",
        "input_ids = [tokenizer.convert_tokens_to_ids(x) for x in tokenized_texts]\n",
        "# Pad our input tokens\n",
        "input_ids = pad_sequences(input_ids, maxlen=MAX_LEN, dtype=\"long\", truncating=\"post\", padding=\"post\")\n",
        "# Create attention masks\n",
        "attention_masks = []\n",
        "\n",
        "# Create a mask of 1s for each token followed by 0s for padding\n",
        "for seq in input_ids:\n",
        "  seq_mask = [float(i>0) for i in seq]\n",
        "  attention_masks.append(seq_mask) \n",
        "\n",
        "prediction_inputs = torch.tensor(input_ids)\n",
        "prediction_masks = torch.tensor(attention_masks)\n",
        "prediction_labels = torch.tensor(labels)\n",
        "  \n",
        "batch_size = 32  \n",
        "\n",
        "\n",
        "prediction_data = TensorDataset(prediction_inputs, prediction_masks, prediction_labels)\n",
        "prediction_sampler = SequentialSampler(prediction_data)\n",
        "prediction_dataloader = DataLoader(prediction_data, sampler=prediction_sampler, batch_size=batch_size)"
      ],
      "execution_count": 0,
      "outputs": []
    },
    {
      "cell_type": "code",
      "metadata": {
        "colab_type": "code",
        "id": "Hba10sXR7Xi6",
        "colab": {}
      },
      "source": [
        "# Prediction on test set\n",
        "\n",
        "# Put model in evaluation mode\n",
        "model.eval()\n",
        "\n",
        "# Tracking variables \n",
        "predictions , true_labels = [], []\n",
        "\n",
        "# Predict \n",
        "for batch in prediction_dataloader:\n",
        "  # Add batch to GPU\n",
        "  batch = tuple(t.to(device) for t in batch)\n",
        "  # Unpack the inputs from our dataloader\n",
        "  b_input_ids, b_input_mask, b_labels = batch\n",
        "  # Telling the model not to compute or store gradients, saving memory and speeding up prediction\n",
        "  with torch.no_grad():\n",
        "    # Forward pass, calculate logit predictions\n",
        "    logits = model(b_input_ids, token_type_ids=None, attention_mask=b_input_mask)\n",
        "\n",
        "  # Move logits and labels to CPU\n",
        "  logits = logits.detach().cpu().numpy()\n",
        "  label_ids = b_labels.to('cpu').numpy()\n",
        "  \n",
        "  # Store predictions and true labels\n",
        "  predictions.append(logits)\n",
        "  true_labels.append(label_ids)"
      ],
      "execution_count": 0,
      "outputs": []
    },
    {
      "cell_type": "code",
      "metadata": {
        "colab_type": "code",
        "id": "cRaZQ4XC7kLs",
        "colab": {}
      },
      "source": [
        "# Import and evaluate each test batch using Matthew's correlation coefficient\n",
        "from sklearn.metrics import matthews_corrcoef\n",
        "matthews_set = []\n",
        "\n",
        "for i in range(len(true_labels)):\n",
        "  matthews = matthews_corrcoef(true_labels[i],\n",
        "                 np.argmax(predictions[i], axis=1).flatten())\n",
        "  matthews_set.append(matthews)"
      ],
      "execution_count": 0,
      "outputs": []
    },
    {
      "cell_type": "markdown",
      "metadata": {
        "colab_type": "text",
        "id": "IUM0UA1qJaVB"
      },
      "source": [
        "The final score will be based on the entire test set, but let's take a look at the scores on the individual batches to get a sense of the variability in the metric between batches.\n"
      ]
    },
    {
      "cell_type": "code",
      "metadata": {
        "colab_type": "code",
        "id": "xytAr_C48wnu",
        "colab": {}
      },
      "source": [
        "matthews_set"
      ],
      "execution_count": 0,
      "outputs": []
    },
    {
      "cell_type": "code",
      "metadata": {
        "colab_type": "code",
        "id": "oCYZa1lQ8Jn8",
        "colab": {}
      },
      "source": [
        "# Flatten the predictions and true values for aggregate Matthew's evaluation on the whole dataset\n",
        "flat_predictions = [item for sublist in predictions for item in sublist]\n",
        "flat_predictions = np.argmax(flat_predictions, axis=1).flatten()\n",
        "flat_true_labels = [item for sublist in true_labels for item in sublist]\n"
      ],
      "execution_count": 0,
      "outputs": []
    },
    {
      "cell_type": "code",
      "metadata": {
        "colab_type": "code",
        "id": "p-4EBZ8D8VsZ",
        "colab": {}
      },
      "source": [
        "matthews_corrcoef(flat_true_labels, flat_predictions)"
      ],
      "execution_count": 0,
      "outputs": []
    },
    {
      "cell_type": "markdown",
      "metadata": {
        "colab_type": "text",
        "id": "jXx0jPc4HUfZ"
      },
      "source": [
        "Cool! In about half an hour and without doing any hyperparameter tuning (adjusting the learning rate, epochs, batch size, ADAM properties, etc.) we are able to get a good score. I should also mention we didn't train on the entire training dataset, but set aside a portion of it as our validation set for legibililty of code.\n",
        "\n",
        "If you look at the leaderboard [here](https://gluebenchmark.com/leaderboard/submission/zlssuBTm5XRs0aSKbFYGVIVdvbj1/-LhijX9VVmvJcvzKymxy), you'll see that our score (54) using the small version of BERT actually slightly outperforms the BERT authors' CoLA score (52) with the same model. If you wanted to tune the hyperparameters, use the entire train set, or use the larger BERT model instead you're likely able to push that score up higher into the mid- 60s, which looks like the state of the art as of July 2019!\n"
      ]
    },
    {
      "cell_type": "markdown",
      "metadata": {
        "colab_type": "text",
        "id": "GfjYoa6WmkN6"
      },
      "source": [
        "## Conclusion"
      ]
    },
    {
      "cell_type": "markdown",
      "metadata": {
        "colab_type": "text",
        "id": "xlQG7qgkmf4n"
      },
      "source": [
        "This post demonstrate that with a pre-trained BERT model you can quickly and effectively create a high quality model with minimal effort and training time using the pytorch interface, regardless of the specific NLP task you are interested in."
      ]
    }
  ]
}