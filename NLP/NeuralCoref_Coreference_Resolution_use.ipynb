{
  "nbformat": 4,
  "nbformat_minor": 0,
  "metadata": {
    "colab": {
      "name": "NeuralCoref - Coreference Resolution use.ipynb",
      "provenance": [],
      "include_colab_link": true
    },
    "kernelspec": {
      "name": "python3",
      "display_name": "Python 3"
    }
  },
  "cells": [
    {
      "cell_type": "markdown",
      "metadata": {
        "id": "view-in-github",
        "colab_type": "text"
      },
      "source": [
        "<a href=\"https://colab.research.google.com/github/victor-roris/mediumseries/blob/master/NLP/NeuralCoref_Coreference_Resolution_use.ipynb\" target=\"_parent\"><img src=\"https://colab.research.google.com/assets/colab-badge.svg\" alt=\"Open In Colab\"/></a>"
      ]
    },
    {
      "cell_type": "markdown",
      "metadata": {
        "id": "UO6XjNVZkInD",
        "colab_type": "text"
      },
      "source": [
        "# NeuralCoref 4.0: Coreference Resolution in spaCy with Neural Networks.\n",
        "\n",
        "The process of linking together mentions that relates to real world entities is called **coreference resolution**.\n",
        "\n",
        "NeuralCoref is a pipeline extension for spaCy 2.1+ which annotates and resolves coreference clusters using a neural network. NeuralCoref is production-ready, integrated in spaCy's NLP pipeline and extensible to new training datasets. \n",
        "\n",
        "NeuralCoref is written in Python/Cython and comes with a pre-trained statistical model for **English only**.\n",
        "\n",
        "For a brief introduction to coreference resolution and NeuralCoref: https://medium.com/huggingface/state-of-the-art-neural-coreference-resolution-for-chatbots-3302365dcf30\n",
        "\n",
        "**NOTE**: In this moment, MeuralCoref only works with spaCy 2.1.0"
      ]
    },
    {
      "cell_type": "markdown",
      "metadata": {
        "id": "TGtETZGWxCNG",
        "colab_type": "text"
      },
      "source": [
        "## Installation"
      ]
    },
    {
      "cell_type": "code",
      "metadata": {
        "id": "Cd3e56HojXhg",
        "colab_type": "code",
        "colab": {
          "base_uri": "https://localhost:8080/",
          "height": 467
        },
        "outputId": "a75ac07b-7b59-45a5-ecb4-702148c2596e"
      },
      "source": [
        "! pip install neuralcoref"
      ],
      "execution_count": 1,
      "outputs": [
        {
          "output_type": "stream",
          "text": [
            "Requirement already satisfied: neuralcoref in /usr/local/lib/python3.6/dist-packages (4.0)\n",
            "Requirement already satisfied: numpy>=1.15.0 in /usr/local/lib/python3.6/dist-packages (from neuralcoref) (1.17.4)\n",
            "Requirement already satisfied: boto3 in /usr/local/lib/python3.6/dist-packages (from neuralcoref) (1.10.18)\n",
            "Requirement already satisfied: requests<3.0.0,>=2.13.0 in /usr/local/lib/python3.6/dist-packages (from neuralcoref) (2.21.0)\n",
            "Requirement already satisfied: spacy>=2.1.0 in /usr/local/lib/python3.6/dist-packages (from neuralcoref) (2.1.0)\n",
            "Requirement already satisfied: s3transfer<0.3.0,>=0.2.0 in /usr/local/lib/python3.6/dist-packages (from boto3->neuralcoref) (0.2.1)\n",
            "Requirement already satisfied: botocore<1.14.0,>=1.13.18 in /usr/local/lib/python3.6/dist-packages (from boto3->neuralcoref) (1.13.18)\n",
            "Requirement already satisfied: jmespath<1.0.0,>=0.7.1 in /usr/local/lib/python3.6/dist-packages (from boto3->neuralcoref) (0.9.4)\n",
            "Requirement already satisfied: urllib3<1.25,>=1.21.1 in /usr/local/lib/python3.6/dist-packages (from requests<3.0.0,>=2.13.0->neuralcoref) (1.24.3)\n",
            "Requirement already satisfied: chardet<3.1.0,>=3.0.2 in /usr/local/lib/python3.6/dist-packages (from requests<3.0.0,>=2.13.0->neuralcoref) (3.0.4)\n",
            "Requirement already satisfied: certifi>=2017.4.17 in /usr/local/lib/python3.6/dist-packages (from requests<3.0.0,>=2.13.0->neuralcoref) (2019.9.11)\n",
            "Requirement already satisfied: idna<2.9,>=2.5 in /usr/local/lib/python3.6/dist-packages (from requests<3.0.0,>=2.13.0->neuralcoref) (2.8)\n",
            "Requirement already satisfied: blis<0.3.0,>=0.2.2 in /usr/local/lib/python3.6/dist-packages (from spacy>=2.1.0->neuralcoref) (0.2.4)\n",
            "Requirement already satisfied: cymem<2.1.0,>=2.0.2 in /usr/local/lib/python3.6/dist-packages (from spacy>=2.1.0->neuralcoref) (2.0.3)\n",
            "Requirement already satisfied: preshed<2.1.0,>=2.0.1 in /usr/local/lib/python3.6/dist-packages (from spacy>=2.1.0->neuralcoref) (2.0.1)\n",
            "Requirement already satisfied: jsonschema<3.0.0,>=2.6.0 in /usr/local/lib/python3.6/dist-packages (from spacy>=2.1.0->neuralcoref) (2.6.0)\n",
            "Requirement already satisfied: thinc<7.1.0,>=7.0.2 in /usr/local/lib/python3.6/dist-packages (from spacy>=2.1.0->neuralcoref) (7.0.8)\n",
            "Requirement already satisfied: srsly<1.1.0,>=0.0.5 in /usr/local/lib/python3.6/dist-packages (from spacy>=2.1.0->neuralcoref) (0.2.0)\n",
            "Requirement already satisfied: wasabi<1.1.0,>=0.0.12 in /usr/local/lib/python3.6/dist-packages (from spacy>=2.1.0->neuralcoref) (0.4.0)\n",
            "Requirement already satisfied: plac<1.0.0,>=0.9.6 in /usr/local/lib/python3.6/dist-packages (from spacy>=2.1.0->neuralcoref) (0.9.6)\n",
            "Requirement already satisfied: murmurhash<1.1.0,>=0.28.0 in /usr/local/lib/python3.6/dist-packages (from spacy>=2.1.0->neuralcoref) (1.0.2)\n",
            "Requirement already satisfied: docutils<0.16,>=0.10 in /usr/local/lib/python3.6/dist-packages (from botocore<1.14.0,>=1.13.18->boto3->neuralcoref) (0.15.2)\n",
            "Requirement already satisfied: python-dateutil<2.8.1,>=2.1; python_version >= \"2.7\" in /usr/local/lib/python3.6/dist-packages (from botocore<1.14.0,>=1.13.18->boto3->neuralcoref) (2.6.1)\n",
            "Requirement already satisfied: tqdm<5.0.0,>=4.10.0 in /usr/local/lib/python3.6/dist-packages (from thinc<7.1.0,>=7.0.2->spacy>=2.1.0->neuralcoref) (4.28.1)\n",
            "Requirement already satisfied: six>=1.5 in /usr/local/lib/python3.6/dist-packages (from python-dateutil<2.8.1,>=2.1; python_version >= \"2.7\"->botocore<1.14.0,>=1.13.18->boto3->neuralcoref) (1.12.0)\n"
          ],
          "name": "stdout"
        }
      ]
    },
    {
      "cell_type": "markdown",
      "metadata": {
        "id": "lnQ58shHru2_",
        "colab_type": "text"
      },
      "source": [
        "If you have an error mentioning `spacy.strings.StringStore size changed, may indicate binary incompatibility` when loading NeuralCoref with `import neuralcoref`, it means you'll have to install NeuralCoref from the distribution's sources"
      ]
    },
    {
      "cell_type": "code",
      "metadata": {
        "id": "IL9MsSE_rwgK",
        "colab_type": "code",
        "colab": {}
      },
      "source": [
        "# !pip uninstall neuralcoref\n",
        "# !pip install neuralcoref --no-binary neuralcoref"
      ],
      "execution_count": 0,
      "outputs": []
    },
    {
      "cell_type": "markdown",
      "metadata": {
        "id": "uVITFGwswgXd",
        "colab_type": "text"
      },
      "source": [
        "The `neuralcoref` package has a known incompatibility with new versions of spaCy. A solution is install a specific version of spaCy (2.1.0): https://github.com/huggingface/neuralcoref/issues/158\n",
        " "
      ]
    },
    {
      "cell_type": "code",
      "metadata": {
        "id": "Va8SypZFr8Xv",
        "colab_type": "code",
        "colab": {
          "base_uri": "https://localhost:8080/",
          "height": 485
        },
        "outputId": "c3701563-771a-499b-d301-9815c28ae2e9"
      },
      "source": [
        "! pip install 'spacy==2.1.0'\n",
        "! pip install 'cython>=0.25'\n",
        "! pip install 'pytest'"
      ],
      "execution_count": 3,
      "outputs": [
        {
          "output_type": "stream",
          "text": [
            "Requirement already satisfied: spacy==2.1.0 in /usr/local/lib/python3.6/dist-packages (2.1.0)\n",
            "Requirement already satisfied: numpy>=1.15.0 in /usr/local/lib/python3.6/dist-packages (from spacy==2.1.0) (1.17.4)\n",
            "Requirement already satisfied: srsly<1.1.0,>=0.0.5 in /usr/local/lib/python3.6/dist-packages (from spacy==2.1.0) (0.2.0)\n",
            "Requirement already satisfied: preshed<2.1.0,>=2.0.1 in /usr/local/lib/python3.6/dist-packages (from spacy==2.1.0) (2.0.1)\n",
            "Requirement already satisfied: wasabi<1.1.0,>=0.0.12 in /usr/local/lib/python3.6/dist-packages (from spacy==2.1.0) (0.4.0)\n",
            "Requirement already satisfied: blis<0.3.0,>=0.2.2 in /usr/local/lib/python3.6/dist-packages (from spacy==2.1.0) (0.2.4)\n",
            "Requirement already satisfied: requests<3.0.0,>=2.13.0 in /usr/local/lib/python3.6/dist-packages (from spacy==2.1.0) (2.21.0)\n",
            "Requirement already satisfied: thinc<7.1.0,>=7.0.2 in /usr/local/lib/python3.6/dist-packages (from spacy==2.1.0) (7.0.8)\n",
            "Requirement already satisfied: jsonschema<3.0.0,>=2.6.0 in /usr/local/lib/python3.6/dist-packages (from spacy==2.1.0) (2.6.0)\n",
            "Requirement already satisfied: plac<1.0.0,>=0.9.6 in /usr/local/lib/python3.6/dist-packages (from spacy==2.1.0) (0.9.6)\n",
            "Requirement already satisfied: murmurhash<1.1.0,>=0.28.0 in /usr/local/lib/python3.6/dist-packages (from spacy==2.1.0) (1.0.2)\n",
            "Requirement already satisfied: cymem<2.1.0,>=2.0.2 in /usr/local/lib/python3.6/dist-packages (from spacy==2.1.0) (2.0.3)\n",
            "Requirement already satisfied: idna<2.9,>=2.5 in /usr/local/lib/python3.6/dist-packages (from requests<3.0.0,>=2.13.0->spacy==2.1.0) (2.8)\n",
            "Requirement already satisfied: chardet<3.1.0,>=3.0.2 in /usr/local/lib/python3.6/dist-packages (from requests<3.0.0,>=2.13.0->spacy==2.1.0) (3.0.4)\n",
            "Requirement already satisfied: certifi>=2017.4.17 in /usr/local/lib/python3.6/dist-packages (from requests<3.0.0,>=2.13.0->spacy==2.1.0) (2019.9.11)\n",
            "Requirement already satisfied: urllib3<1.25,>=1.21.1 in /usr/local/lib/python3.6/dist-packages (from requests<3.0.0,>=2.13.0->spacy==2.1.0) (1.24.3)\n",
            "Requirement already satisfied: tqdm<5.0.0,>=4.10.0 in /usr/local/lib/python3.6/dist-packages (from thinc<7.1.0,>=7.0.2->spacy==2.1.0) (4.28.1)\n",
            "Requirement already satisfied: cython>=0.25 in /usr/local/lib/python3.6/dist-packages (0.29.14)\n",
            "Requirement already satisfied: pytest in /usr/local/lib/python3.6/dist-packages (3.6.4)\n",
            "Requirement already satisfied: py>=1.5.0 in /usr/local/lib/python3.6/dist-packages (from pytest) (1.8.0)\n",
            "Requirement already satisfied: six>=1.10.0 in /usr/local/lib/python3.6/dist-packages (from pytest) (1.12.0)\n",
            "Requirement already satisfied: attrs>=17.4.0 in /usr/local/lib/python3.6/dist-packages (from pytest) (19.3.0)\n",
            "Requirement already satisfied: setuptools in /usr/local/lib/python3.6/dist-packages (from pytest) (41.6.0)\n",
            "Requirement already satisfied: more-itertools>=4.0.0 in /usr/local/lib/python3.6/dist-packages (from pytest) (7.2.0)\n",
            "Requirement already satisfied: pluggy<0.8,>=0.5 in /usr/local/lib/python3.6/dist-packages (from pytest) (0.7.1)\n",
            "Requirement already satisfied: atomicwrites>=1.0 in /usr/local/lib/python3.6/dist-packages (from pytest) (1.3.0)\n"
          ],
          "name": "stdout"
        }
      ]
    },
    {
      "cell_type": "code",
      "metadata": {
        "id": "rrF4Af7Ot8sv",
        "colab_type": "code",
        "colab": {
          "base_uri": "https://localhost:8080/",
          "height": 163
        },
        "outputId": "aae16f58-5cf6-4996-ceee-edf5a6eba0e8"
      },
      "source": [
        "! python -m spacy download en"
      ],
      "execution_count": 4,
      "outputs": [
        {
          "output_type": "stream",
          "text": [
            "Requirement already satisfied: en_core_web_sm==2.1.0 from https://github.com/explosion/spacy-models/releases/download/en_core_web_sm-2.1.0/en_core_web_sm-2.1.0.tar.gz#egg=en_core_web_sm==2.1.0 in /usr/local/lib/python3.6/dist-packages (2.1.0)\n",
            "\u001b[38;5;2m✔ Download and installation successful\u001b[0m\n",
            "You can now load the model via spacy.load('en_core_web_sm')\n",
            "\u001b[38;5;2m✔ Linking successful\u001b[0m\n",
            "/usr/local/lib/python3.6/dist-packages/en_core_web_sm -->\n",
            "/usr/local/lib/python3.6/dist-packages/spacy/data/en\n",
            "You can now load the model via spacy.load('en')\n"
          ],
          "name": "stdout"
        }
      ]
    },
    {
      "cell_type": "markdown",
      "metadata": {
        "id": "fVRL5VM_w-uC",
        "colab_type": "text"
      },
      "source": [
        "## Using NeuralCoref"
      ]
    },
    {
      "cell_type": "markdown",
      "metadata": {
        "id": "SyqMcgITsYEu",
        "colab_type": "text"
      },
      "source": [
        "Load spacy Model "
      ]
    },
    {
      "cell_type": "code",
      "metadata": {
        "id": "QcCA9oEwrisy",
        "colab_type": "code",
        "colab": {}
      },
      "source": [
        "# Load your usual SpaCy model (one of SpaCy English models)\n",
        "import spacy\n",
        "nlp = spacy.load('en')"
      ],
      "execution_count": 0,
      "outputs": []
    },
    {
      "cell_type": "markdown",
      "metadata": {
        "id": "FtbhKABkz9Of",
        "colab_type": "text"
      },
      "source": [
        "Add neuralcoref component to the pipeline"
      ]
    },
    {
      "cell_type": "code",
      "metadata": {
        "id": "eYALGv6dsbSy",
        "colab_type": "code",
        "colab": {
          "base_uri": "https://localhost:8080/",
          "height": 53
        },
        "outputId": "10e33572-afb0-4665-aca1-85b053694950"
      },
      "source": [
        "# Add neural coref to SpaCy's pipe\n",
        "import neuralcoref\n",
        "\n",
        "print(f'Original components in pipeline : {nlp.pipe_names}')\n",
        "\n",
        "# Mode 1: use the package instruction\n",
        "if 'neuralcoref' not in nlp.pipe_names:\n",
        "  neuralcoref.add_to_pipe(nlp)\n",
        "\n",
        "  # Mode 2: manual adding\n",
        "if 'neuralcoref' not in nlp.pipe_names:\n",
        "  coref = neuralcoref.NeuralCoref(nlp.vocab)\n",
        "  nlp.add_pipe(coref, name='neuralcoref')\n",
        "\n",
        "print(f'New pipeline : {nlp.pipe_names}')"
      ],
      "execution_count": 5,
      "outputs": [
        {
          "output_type": "stream",
          "text": [
            "Original components in pipeline : ['tagger', 'parser', 'ner', 'neuralcoref']\n",
            "New pipeline : ['tagger', 'parser', 'ner', 'neuralcoref']\n"
          ],
          "name": "stdout"
        }
      ]
    },
    {
      "cell_type": "code",
      "metadata": {
        "id": "f4pXaSqzsp61",
        "colab_type": "code",
        "colab": {}
      },
      "source": [
        "# You're done. You can now use NeuralCoref as you usually manipulate a SpaCy document annotations.\n",
        "doc = nlp(u'My sister has a dog. She loves him.')"
      ],
      "execution_count": 0,
      "outputs": []
    },
    {
      "cell_type": "markdown",
      "metadata": {
        "id": "8nww2qOM39O_",
        "colab_type": "text"
      },
      "source": [
        " * **DOC attributes**"
      ]
    },
    {
      "cell_type": "markdown",
      "metadata": {
        "id": "ku4M_5ST3Q-t",
        "colab_type": "text"
      },
      "source": [
        "Has any coreference has been resolved in the Doc"
      ]
    },
    {
      "cell_type": "code",
      "metadata": {
        "id": "-TatfM8TsuV3",
        "colab_type": "code",
        "colab": {
          "base_uri": "https://localhost:8080/",
          "height": 35
        },
        "outputId": "c55eead9-4f56-4f0c-9a22-612089dd88f9"
      },
      "source": [
        "doc._.has_coref"
      ],
      "execution_count": 8,
      "outputs": [
        {
          "output_type": "execute_result",
          "data": {
            "text/plain": [
              "True"
            ]
          },
          "metadata": {
            "tags": []
          },
          "execution_count": 8
        }
      ]
    },
    {
      "cell_type": "markdown",
      "metadata": {
        "id": "E2_IgJ4V3Tja",
        "colab_type": "text"
      },
      "source": [
        "All the clusters of corefering mentions in the doc"
      ]
    },
    {
      "cell_type": "code",
      "metadata": {
        "id": "SUmRjR6g2tBf",
        "colab_type": "code",
        "colab": {
          "base_uri": "https://localhost:8080/",
          "height": 35
        },
        "outputId": "bb87f3ed-a3fa-41cb-e806-665e4716fec1"
      },
      "source": [
        "doc._.coref_clusters"
      ],
      "execution_count": 9,
      "outputs": [
        {
          "output_type": "execute_result",
          "data": {
            "text/plain": [
              "[My sister: [My sister, She], a dog: [a dog, him]]"
            ]
          },
          "metadata": {
            "tags": []
          },
          "execution_count": 9
        }
      ]
    },
    {
      "cell_type": "markdown",
      "metadata": {
        "id": "SR-fP3Dn3V9D",
        "colab_type": "text"
      },
      "source": [
        "Unicode representation of the doc where each corefering mention is replaced by the main mention in the associated cluster."
      ]
    },
    {
      "cell_type": "code",
      "metadata": {
        "id": "EEJgRv0KtZpV",
        "colab_type": "code",
        "colab": {
          "base_uri": "https://localhost:8080/",
          "height": 35
        },
        "outputId": "3bf1ed33-edbe-46d2-ff1a-c8247e25d1b3"
      },
      "source": [
        "doc._.coref_resolved"
      ],
      "execution_count": 10,
      "outputs": [
        {
          "output_type": "execute_result",
          "data": {
            "text/plain": [
              "'My sister has a dog. My sister loves a dog.'"
            ]
          },
          "metadata": {
            "tags": []
          },
          "execution_count": 10
        }
      ]
    },
    {
      "cell_type": "markdown",
      "metadata": {
        "id": "792Vthyf3YsW",
        "colab_type": "text"
      },
      "source": [
        "Scores of the coreference resolution between mentions."
      ]
    },
    {
      "cell_type": "code",
      "metadata": {
        "id": "yWX60wxutaG6",
        "colab_type": "code",
        "colab": {
          "base_uri": "https://localhost:8080/",
          "height": 179
        },
        "outputId": "b0c43ef4-a805-4d8a-fd56-ea28d7f7e099"
      },
      "source": [
        "doc._.coref_scores"
      ],
      "execution_count": 11,
      "outputs": [
        {
          "output_type": "execute_result",
          "data": {
            "text/plain": [
              "{My sister: {My sister: 1.3110305070877075},\n",
              " a dog: {My sister: -1.6715972423553467, a dog: 1.804752230644226},\n",
              " She: {My sister: 8.058426856994629,\n",
              "  a dog: -1.0625176429748535,\n",
              "  She: -0.10834205150604248},\n",
              " him: {My sister: 3.1147186756134033,\n",
              "  a dog: 4.356405258178711,\n",
              "  She: -3.1379528045654297,\n",
              "  him: -1.870743989944458}}"
            ]
          },
          "metadata": {
            "tags": []
          },
          "execution_count": 11
        }
      ]
    },
    {
      "cell_type": "markdown",
      "metadata": {
        "id": "sVVBd3lX3bp-",
        "colab_type": "text"
      },
      "source": [
        "* **SPAN attribute**"
      ]
    },
    {
      "cell_type": "code",
      "metadata": {
        "id": "Lhjp1Uv_3zqh",
        "colab_type": "code",
        "colab": {
          "base_uri": "https://localhost:8080/",
          "height": 35
        },
        "outputId": "6b314624-04a7-4648-ceee-f998f3bde401"
      },
      "source": [
        "span = doc[0:2]\n",
        "print(span)"
      ],
      "execution_count": 26,
      "outputs": [
        {
          "output_type": "stream",
          "text": [
            "My sister\n"
          ],
          "name": "stdout"
        }
      ]
    },
    {
      "cell_type": "markdown",
      "metadata": {
        "id": "4BLYq4zy32f-",
        "colab_type": "text"
      },
      "source": [
        "\n",
        "Whether the span has at least one corefering mention\n",
        "\n"
      ]
    },
    {
      "cell_type": "code",
      "metadata": {
        "id": "vJiX54VjteP3",
        "colab_type": "code",
        "colab": {
          "base_uri": "https://localhost:8080/",
          "height": 35
        },
        "outputId": "0038e0d4-2306-4306-da04-8fbb203fa307"
      },
      "source": [
        "span._.is_coref"
      ],
      "execution_count": 27,
      "outputs": [
        {
          "output_type": "execute_result",
          "data": {
            "text/plain": [
              "True"
            ]
          },
          "metadata": {
            "tags": []
          },
          "execution_count": 27
        }
      ]
    },
    {
      "cell_type": "markdown",
      "metadata": {
        "id": "uJpRgd2z4Ihr",
        "colab_type": "text"
      },
      "source": [
        "Cluster of mentions that corefer with the span"
      ]
    },
    {
      "cell_type": "code",
      "metadata": {
        "id": "J1OUkXjp3fGG",
        "colab_type": "code",
        "colab": {
          "base_uri": "https://localhost:8080/",
          "height": 35
        },
        "outputId": "bc26ad6a-073f-4a2f-90b4-d57c23b12a86"
      },
      "source": [
        "span._.coref_cluster"
      ],
      "execution_count": 28,
      "outputs": [
        {
          "output_type": "execute_result",
          "data": {
            "text/plain": [
              "My sister: [My sister, She]"
            ]
          },
          "metadata": {
            "tags": []
          },
          "execution_count": 28
        }
      ]
    },
    {
      "cell_type": "markdown",
      "metadata": {
        "id": "HgzADRo04M-G",
        "colab_type": "text"
      },
      "source": [
        "Scores of the coreference resolution of & span with other mentions (if applicable)."
      ]
    },
    {
      "cell_type": "code",
      "metadata": {
        "id": "BrZnFVtH4KdI",
        "colab_type": "code",
        "colab": {
          "base_uri": "https://localhost:8080/",
          "height": 35
        },
        "outputId": "cae9189e-2552-49d7-dd5d-ba7d65c357be"
      },
      "source": [
        "span._.coref_scores"
      ],
      "execution_count": 29,
      "outputs": [
        {
          "output_type": "execute_result",
          "data": {
            "text/plain": [
              "{My sister: 1.3110305070877075}"
            ]
          },
          "metadata": {
            "tags": []
          },
          "execution_count": 29
        }
      ]
    },
    {
      "cell_type": "markdown",
      "metadata": {
        "id": "3QRm5RxQ4f4x",
        "colab_type": "text"
      },
      "source": [
        "* **TOKEN attribute**"
      ]
    },
    {
      "cell_type": "code",
      "metadata": {
        "id": "Ph8KL2y-4PiQ",
        "colab_type": "code",
        "colab": {
          "base_uri": "https://localhost:8080/",
          "height": 35
        },
        "outputId": "8d0242f4-3271-46a5-8d53-c13b1aeefff4"
      },
      "source": [
        "token = doc[6]\n",
        "print(token)"
      ],
      "execution_count": 31,
      "outputs": [
        {
          "output_type": "stream",
          "text": [
            "She\n"
          ],
          "name": "stdout"
        }
      ]
    },
    {
      "cell_type": "markdown",
      "metadata": {
        "id": "5HmKdKS14pDX",
        "colab_type": "text"
      },
      "source": [
        "Whether the token is inside at least one corefering mention"
      ]
    },
    {
      "cell_type": "code",
      "metadata": {
        "id": "e4Dq1Cle4lO9",
        "colab_type": "code",
        "colab": {
          "base_uri": "https://localhost:8080/",
          "height": 35
        },
        "outputId": "c86950e0-65fa-41f4-dbdf-93afff6b05d6"
      },
      "source": [
        "token._.in_coref"
      ],
      "execution_count": 32,
      "outputs": [
        {
          "output_type": "execute_result",
          "data": {
            "text/plain": [
              "True"
            ]
          },
          "metadata": {
            "tags": []
          },
          "execution_count": 32
        }
      ]
    },
    {
      "cell_type": "markdown",
      "metadata": {
        "id": "EHQOiqry4rUE",
        "colab_type": "text"
      },
      "source": [
        "All the clusters of corefering mentions that contains the token"
      ]
    },
    {
      "cell_type": "code",
      "metadata": {
        "id": "OI4OQ2Ud4qcC",
        "colab_type": "code",
        "colab": {
          "base_uri": "https://localhost:8080/",
          "height": 35
        },
        "outputId": "31062c5f-4fc1-4d9e-cdb9-2376c89f09ca"
      },
      "source": [
        "token._.coref_clusters"
      ],
      "execution_count": 33,
      "outputs": [
        {
          "output_type": "execute_result",
          "data": {
            "text/plain": [
              "[My sister: [My sister, She]]"
            ]
          },
          "metadata": {
            "tags": []
          },
          "execution_count": 33
        }
      ]
    },
    {
      "cell_type": "markdown",
      "metadata": {
        "id": "ZXnIyehR43hO",
        "colab_type": "text"
      },
      "source": [
        "## Navigating the coreference cluster chains"
      ]
    },
    {
      "cell_type": "code",
      "metadata": {
        "id": "j-c8q0it4uhE",
        "colab_type": "code",
        "colab": {
          "base_uri": "https://localhost:8080/",
          "height": 107
        },
        "outputId": "0b7c7259-d7fc-4f66-eb72-ddf4453ca088"
      },
      "source": [
        "import spacy\n",
        "import neuralcoref\n",
        "nlp = spacy.load('en')\n",
        "neuralcoref.add_to_pipe(nlp)\n",
        "\n",
        "doc = nlp(u'My sister has a dog. She loves him')\n",
        "\n"
      ],
      "execution_count": 35,
      "outputs": [
        {
          "output_type": "stream",
          "text": [
            "[My sister: [My sister, She], a dog: [a dog, him]]\n",
            "[a dog, him]\n",
            "him\n",
            "a dog\n"
          ],
          "name": "stdout"
        },
        {
          "output_type": "execute_result",
          "data": {
            "text/plain": [
              "a dog: [a dog, him]"
            ]
          },
          "metadata": {
            "tags": []
          },
          "execution_count": 35
        }
      ]
    },
    {
      "cell_type": "code",
      "metadata": {
        "id": "3kR8DyBx5JH-",
        "colab_type": "code",
        "colab": {
          "base_uri": "https://localhost:8080/",
          "height": 125
        },
        "outputId": "b0d80b02-f41e-476a-8d7b-fd540f061336"
      },
      "source": [
        "print(f'Coref clusters = {doc._.coref_clusters}')\n",
        "print(f'Coref cluster in the 2nd position = {doc._.coref_clusters[1]}')\n",
        "print(f'Mentions of the 2nd cluster = {doc._.coref_clusters[1].mentions}')\n",
        "print(f'Last mention of the 2nd cluster = {doc._.coref_clusters[1].mentions[-1]}')\n",
        "print(f'Span of the most representative mention related with the last mention of the 2nd cluster = {doc._.coref_clusters[1].mentions[-1]._.coref_cluster.main}')"
      ],
      "execution_count": 43,
      "outputs": [
        {
          "output_type": "stream",
          "text": [
            "Coref clusters = [My sister: [My sister, She], a dog: [a dog, him]]\n",
            "Coref cluster in the 2nd position = a dog: [a dog, him]\n",
            "Mentions of the 2nd cluster = [a dog, him]\n",
            "Last mention of the 2nd cluster = him\n",
            "Span of the most representative mention related with the last mention of the 2nd cluster = a dog\n",
            "\n"
          ],
          "name": "stdout"
        }
      ]
    },
    {
      "cell_type": "code",
      "metadata": {
        "id": "aL7aNd3s5Tvg",
        "colab_type": "code",
        "colab": {
          "base_uri": "https://localhost:8080/",
          "height": 71
        },
        "outputId": "4c833668-bc95-4576-ad7e-4a56d87c83d6"
      },
      "source": [
        "token = doc[-1]\n",
        "print(token)\n",
        "print(token._.in_coref)\n",
        "print(token._.coref_clusters)"
      ],
      "execution_count": 46,
      "outputs": [
        {
          "output_type": "stream",
          "text": [
            "him\n",
            "True\n",
            "[a dog: [a dog, him]]\n"
          ],
          "name": "stdout"
        }
      ]
    },
    {
      "cell_type": "code",
      "metadata": {
        "id": "1dL3I6LR6OOS",
        "colab_type": "code",
        "colab": {
          "base_uri": "https://localhost:8080/",
          "height": 89
        },
        "outputId": "c14d804c-90fd-43c4-aeaf-501e1300f6b8"
      },
      "source": [
        "span = doc[-1:]\n",
        "print(span)\n",
        "print(span._.is_coref)\n",
        "print(span._.coref_cluster.main)\n",
        "print(span._.coref_cluster.main._.coref_cluster)"
      ],
      "execution_count": 47,
      "outputs": [
        {
          "output_type": "stream",
          "text": [
            "him\n",
            "True\n",
            "a dog\n",
            "a dog: [a dog, him]\n"
          ],
          "name": "stdout"
        }
      ]
    },
    {
      "cell_type": "markdown",
      "metadata": {
        "id": "6shgYY-17Jlr",
        "colab_type": "text"
      },
      "source": [
        "## Configuration"
      ]
    },
    {
      "cell_type": "markdown",
      "metadata": {
        "id": "unoEg_bv7u8O",
        "colab_type": "text"
      },
      "source": [
        "### How to change a parameter\n",
        "\n",
        "Ex. `greedyness` = A number between 0 and 1 determining how greedy the model is about making coreference decisions (more greedy means more coreference links). The default value is 0.5."
      ]
    },
    {
      "cell_type": "code",
      "metadata": {
        "id": "K6c9EuJP6QBP",
        "colab_type": "code",
        "colab": {}
      },
      "source": [
        "import spacy\n",
        "import neuralcoref\n",
        "\n",
        "# Let's load a SpaCy model\n",
        "nlp = spacy.load('en')\n",
        "\n",
        "# First way we can control a parameter\n",
        "neuralcoref.add_to_pipe(nlp, greedyness=0.75)\n",
        "\n",
        "# Another way we can control a parameter\n",
        "nlp.remove_pipe(\"neuralcoref\")  # This remove the current neuralcoref instance from SpaCy pipe\n",
        "coref = neuralcoref.NeuralCoref(nlp.vocab, greedyness=0.75)\n",
        "nlp.add_pipe(coref, name='neuralcoref')"
      ],
      "execution_count": 0,
      "outputs": []
    },
    {
      "cell_type": "markdown",
      "metadata": {
        "id": "6K2UTDkO7qSk",
        "colab_type": "text"
      },
      "source": [
        "### Using the conversion dictionary parameter to help resolve rare words\n",
        "\n",
        "`conv_dict` = A conversion dictionary that you can use to replace the embeddings of rare words (keys) by an average of the embeddings of a list of common words (values). Ex: `conv_dict={\"Angela\": [\"woman\", \"girl\"]}` will help resolving coreferences for `Angela` by using the embeddings for the more common `woman` and `girl` instead of the embedding of `Angela`. This currently only works for single words (not for words groups)."
      ]
    },
    {
      "cell_type": "code",
      "metadata": {
        "id": "ObMoE-kB7Iys",
        "colab_type": "code",
        "colab": {}
      },
      "source": [
        "import spacy\n",
        "import neuralcoref\n",
        "\n",
        "nlp = spacy.load('en')\n",
        "\n",
        "# Let's try before using the conversion dictionary:\n",
        "neuralcoref.add_to_pipe(nlp)\n",
        "doc = nlp(u'Deepika has a dog. She loves him. The movie star has always been fond of animals')\n",
        "\n"
      ],
      "execution_count": 0,
      "outputs": []
    },
    {
      "cell_type": "code",
      "metadata": {
        "id": "IOhnVavF8TAG",
        "colab_type": "code",
        "colab": {
          "base_uri": "https://localhost:8080/",
          "height": 53
        },
        "outputId": "0b7ebf88-c7f7-44e8-d28f-0cc5deeb10ad"
      },
      "source": [
        "print(doc._.coref_clusters)\n",
        "print(doc._.coref_resolved)\n",
        "# >>> [Deepika: [Deepika, She, him, The movie star]]\n",
        "# >>> 'Deepika has a dog. Deepika loves Deepika. Deepika has always been fond of animals'\n",
        "# >>> Not very good..."
      ],
      "execution_count": 2,
      "outputs": [
        {
          "output_type": "stream",
          "text": [
            "[Deepika: [Deepika, She, him, The movie star]]\n",
            "Deepika has a dog. Deepika loves Deepika. Deepika has always been fond of animals\n"
          ],
          "name": "stdout"
        }
      ]
    },
    {
      "cell_type": "code",
      "metadata": {
        "id": "5vsJ6BsI8aUV",
        "colab_type": "code",
        "colab": {}
      },
      "source": [
        "# Here are three ways we can add the conversion dictionary\n",
        "nlp.remove_pipe(\"neuralcoref\")\n",
        "neuralcoref.add_to_pipe(nlp, conv_dict={'Deepika': ['woman', 'actress']})\n",
        "\n",
        "# or\n",
        "nlp.remove_pipe(\"neuralcoref\")\n",
        "coref = neuralcoref.NeuralCoref(nlp.vocab, conv_dict={'Deepika': ['woman', 'actress']})\n",
        "nlp.add_pipe(coref, name='neuralcoref')\n",
        "\n",
        "# or after NeuralCoref is already in SpaCy's pipe, by modifying NeuralCoref in the pipeline\n",
        "nlp.get_pipe('neuralcoref').set_conv_dict({'Deepika': ['woman', 'actress']})"
      ],
      "execution_count": 0,
      "outputs": []
    },
    {
      "cell_type": "code",
      "metadata": {
        "id": "vWWRMaAr8s8S",
        "colab_type": "code",
        "colab": {
          "base_uri": "https://localhost:8080/",
          "height": 53
        },
        "outputId": "872c85a3-66db-4ec0-cb3b-0961b6c8e33a"
      },
      "source": [
        "# Let's try agin with the conversion dictionary:\n",
        "doc = nlp(u'Deepika has a dog. She loves him. The movie star has always been fond of animals')\n",
        "print(doc._.coref_clusters)\n",
        "print(doc._.coref_resolved)\n",
        "# >>> [Deepika: [Deepika, She, The movie star], a dog: [a dog, him]]\n",
        "# >>> 'Deepika has a dog. Deepika loves a dog. Deepika has always been fond of animals'\n",
        "# >>> A lot better!"
      ],
      "execution_count": 4,
      "outputs": [
        {
          "output_type": "stream",
          "text": [
            "[Deepika: [Deepika, She, The movie star], a dog: [a dog, him]]\n",
            "Deepika has a dog. Deepika loves a dog. Deepika has always been fond of animals\n"
          ],
          "name": "stdout"
        }
      ]
    },
    {
      "cell_type": "markdown",
      "metadata": {
        "id": "ltheZ8Dz-h3h",
        "colab_type": "text"
      },
      "source": [
        "## Personal example\n",
        "\n",
        "Thanks Naty for the example, you are a love (and a liar)!"
      ]
    },
    {
      "cell_type": "code",
      "metadata": {
        "id": "-RYPthZw9XBU",
        "colab_type": "code",
        "colab": {}
      },
      "source": [
        "import spacy\n",
        "import neuralcoref\n",
        "\n",
        "nlp = spacy.load('en')\n",
        "\n",
        "# Let's try before using the conversion dictionary:\n",
        "neuralcoref.add_to_pipe(nlp)\n",
        "doc = nlp(u'Victor is a handsome boy. He always wears casual clothes and they look great on him.' )\n"
      ],
      "execution_count": 0,
      "outputs": []
    },
    {
      "cell_type": "code",
      "metadata": {
        "id": "P3oIlEHu9_md",
        "colab_type": "code",
        "colab": {
          "base_uri": "https://localhost:8080/",
          "height": 53
        },
        "outputId": "560f5fc2-3215-45bd-f8a1-b808d2bd93a0"
      },
      "source": [
        "print(doc._.coref_clusters)\n",
        "print(doc._.coref_resolved)"
      ],
      "execution_count": 8,
      "outputs": [
        {
          "output_type": "stream",
          "text": [
            "[Victor: [Victor, He, him], casual clothes: [casual clothes, they]]\n",
            "Victor is handsome boy. Victor always wears casual clothes and casual clothes look great on Victor.\n"
          ],
          "name": "stdout"
        }
      ]
    },
    {
      "cell_type": "code",
      "metadata": {
        "id": "EMvWMCDu-CCr",
        "colab_type": "code",
        "colab": {}
      },
      "source": [
        ""
      ],
      "execution_count": 0,
      "outputs": []
    }
  ]
}