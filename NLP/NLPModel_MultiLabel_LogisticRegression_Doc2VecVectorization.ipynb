{
  "nbformat": 4,
  "nbformat_minor": 0,
  "metadata": {
    "colab": {
      "name": "NLPModel_MultiLabel_LogisticRegression_Doc2VecVectorization.ipynb",
      "provenance": [],
      "include_colab_link": true
    },
    "kernelspec": {
      "name": "python3",
      "display_name": "Python 3"
    }
  },
  "cells": [
    {
      "cell_type": "markdown",
      "metadata": {
        "id": "view-in-github",
        "colab_type": "text"
      },
      "source": [
        "<a href=\"https://colab.research.google.com/github/victor-roris/mediumseries/blob/master/NLP/NLPModel_MultiLabel_LogisticRegression_Doc2VecVectorization.ipynb\" target=\"_parent\"><img src=\"https://colab.research.google.com/assets/colab-badge.svg\" alt=\"Open In Colab\"/></a>"
      ]
    },
    {
      "cell_type": "markdown",
      "metadata": {
        "id": "GiNu4vdeja-F",
        "colab_type": "text"
      },
      "source": [
        "# NLP Model with Doc2vec and Logistic Regression\n",
        "\n",
        "In this notebook, we are going to use a Logistic Regression Model to predict categories of text. Logistic regression is a simple and easy to understand classification algorithm, and Logistic regression can be easily generalized to multiple classes. To vectorize the text we are going to use the Doc2Vec. Doc2Vec is an NLP tool for representing documents as a vector and is a generalizing of the word2vec method. \n",
        "\n",
        "Doc2Vect: \n",
        "- https://cs.stanford.edu/~quocle/paragraph_vector.pdf\n",
        "- https://radimrehurek.com/gensim/models/doc2vec.html\n",
        "- https://medium.com/wisio/a-gentle-introduction-to-doc2vec-db3e8c0cce5e\n",
        "\n",
        "\n",
        "Notebook adapted from: \n",
        "- https://towardsdatascience.com/multi-class-text-classification-model-comparison-and-selection-5eb066197568\n",
        "- https://towardsdatascience.com/multi-class-text-classification-with-doc2vec-logistic-regression-9da9947b43f4\n",
        "\n"
      ]
    },
    {
      "cell_type": "code",
      "metadata": {
        "id": "BQ3smAWeT2qA",
        "colab_type": "code",
        "colab": {}
      },
      "source": [
        "import logging\n",
        "import pandas as pd\n",
        "import numpy as np\n",
        "from numpy import random\n",
        "import gensim\n",
        "import nltk\n",
        "from sklearn.model_selection import train_test_split\n",
        "from sklearn.feature_extraction.text import CountVectorizer, TfidfVectorizer\n",
        "from sklearn.metrics import accuracy_score, confusion_matrix\n",
        "import matplotlib.pyplot as plt\n",
        "from nltk.corpus import stopwords\n",
        "import re\n",
        "from bs4 import BeautifulSoup\n",
        "%matplotlib inline"
      ],
      "execution_count": 0,
      "outputs": []
    },
    {
      "cell_type": "code",
      "metadata": {
        "id": "f4TsDxwH6PdT",
        "colab_type": "code",
        "colab": {}
      },
      "source": [
        "import warnings\n",
        "warnings.filterwarnings('ignore')"
      ],
      "execution_count": 0,
      "outputs": []
    },
    {
      "cell_type": "markdown",
      "metadata": {
        "id": "o5MyShKjZfxw",
        "colab_type": "text"
      },
      "source": [
        "## Data"
      ]
    },
    {
      "cell_type": "markdown",
      "metadata": {
        "id": "njxPblU9UH3f",
        "colab_type": "text"
      },
      "source": [
        "### Fetch data\n",
        "\n",
        "We are using a relatively large data set of Stack Overflow questions and tags."
      ]
    },
    {
      "cell_type": "code",
      "metadata": {
        "id": "zxhJ4yEKUF0j",
        "colab_type": "code",
        "outputId": "385a6a3e-7894-4712-fde8-018df4260423",
        "colab": {
          "base_uri": "https://localhost:8080/",
          "height": 359
        }
      },
      "source": [
        "df = pd.read_csv('https://storage.googleapis.com/tensorflow-workshop-examples/stack-overflow-data.csv')\n",
        "df = df[pd.notnull(df['tags'])]\n",
        "categories = df[\"tags\"].unique()\n",
        "\n",
        "print(f'Number of examples : {len(df)}')\n",
        "print(f'Number of words in the data: {df[\"post\"].apply(lambda x: len(x.split(\" \"))).sum()}')\n",
        "print(f'Number of categorie : {len(categories)}')\n",
        "print()\n",
        "print(df.head(10))\n",
        "print()\n",
        "print(f'Categories: {categories}')\n"
      ],
      "execution_count": 3,
      "outputs": [
        {
          "output_type": "stream",
          "text": [
            "Number of examples : 40000\n",
            "Number of words in the data: 10286120\n",
            "Number of categorie : 20\n",
            "\n",
            "                                                post           tags\n",
            "0  what is causing this behavior  in our c# datet...             c#\n",
            "1  have dynamic html load as if it was in an ifra...        asp.net\n",
            "2  how to convert a float value in to min:sec  i ...    objective-c\n",
            "3  .net framework 4 redistributable  just wonderi...           .net\n",
            "4  trying to calculate and print the mean and its...         python\n",
            "5  how to give alias name for my website  i have ...        asp.net\n",
            "6  window.open() returns null in angularjs  it wo...      angularjs\n",
            "7  identifying server timeout quickly in iphone  ...         iphone\n",
            "8  unknown method key  error in rails 2.3.8 unit ...  ruby-on-rails\n",
            "9  from the include  how to show and hide the con...      angularjs\n",
            "\n",
            "Categories: ['c#' 'asp.net' 'objective-c' '.net' 'python' 'angularjs' 'iphone'\n",
            " 'ruby-on-rails' 'ios' 'c' 'sql' 'java' 'jquery' 'css' 'c++' 'php'\n",
            " 'android' 'mysql' 'javascript' 'html']\n"
          ],
          "name": "stdout"
        }
      ]
    },
    {
      "cell_type": "markdown",
      "metadata": {
        "id": "BnYUb5ipUXol",
        "colab_type": "text"
      },
      "source": [
        "Visualize data"
      ]
    },
    {
      "cell_type": "code",
      "metadata": {
        "id": "e2JE3hdsUOdt",
        "colab_type": "code",
        "outputId": "fb42ac3e-19ed-4547-d5b2-85a436e80b35",
        "colab": {
          "base_uri": "https://localhost:8080/",
          "height": 319
        }
      },
      "source": [
        "plt.figure(figsize=(10,4))\n",
        "df.tags.value_counts().plot(kind='bar');"
      ],
      "execution_count": 4,
      "outputs": [
        {
          "output_type": "display_data",
          "data": {
            "image/png": "[encoded data removed]",
            "text/plain": [
              "<Figure size 720x288 with 1 Axes>"
            ]
          },
          "metadata": {
            "tags": []
          }
        }
      ]
    },
    {
      "cell_type": "markdown",
      "metadata": {
        "id": "PlD5wfiTXKYn",
        "colab_type": "text"
      },
      "source": [
        "The classes are very well balanced."
      ]
    },
    {
      "cell_type": "markdown",
      "metadata": {
        "id": "vuoO7-dMXgbx",
        "colab_type": "text"
      },
      "source": [
        "### Text pre-processing\n",
        "\n",
        "Our text cleaning step includes HTML decoding, remove stop words, change text to lower case, remove punctuation, remove bad characters, and so on."
      ]
    },
    {
      "cell_type": "code",
      "metadata": {
        "id": "2Ah_0UP4YJ_q",
        "colab_type": "code",
        "outputId": "b579516b-d996-4906-8c4e-9d34c902b70d",
        "colab": {
          "base_uri": "https://localhost:8080/",
          "height": 71
        }
      },
      "source": [
        " nltk.download('stopwords')"
      ],
      "execution_count": 5,
      "outputs": [
        {
          "output_type": "stream",
          "text": [
            "[nltk_data] Downloading package stopwords to /root/nltk_data...\n",
            "[nltk_data]   Unzipping corpora/stopwords.zip.\n"
          ],
          "name": "stdout"
        },
        {
          "output_type": "execute_result",
          "data": {
            "text/plain": [
              "True"
            ]
          },
          "metadata": {
            "tags": []
          },
          "execution_count": 5
        }
      ]
    },
    {
      "cell_type": "code",
      "metadata": {
        "id": "XfukbGVgVFri",
        "colab_type": "code",
        "outputId": "37c378d1-cab8-4d75-c930-83bea89849a2",
        "colab": {
          "base_uri": "https://localhost:8080/",
          "height": 73
        }
      },
      "source": [
        "REPLACE_BY_SPACE_RE = re.compile('[/(){}\\[\\]\\|@,;]')\n",
        "BAD_SYMBOLS_RE = re.compile('[^0-9a-z #+_]')\n",
        "STOPWORDS = set(stopwords.words('english'))\n",
        "\n",
        "def clean_text(text):\n",
        "    \"\"\"\n",
        "        text: a string\n",
        "        \n",
        "        return: modified initial string\n",
        "    \"\"\"\n",
        "    text = BeautifulSoup(text, \"lxml\").text # HTML decoding\n",
        "    text = text.lower() # lowercase text\n",
        "    text = REPLACE_BY_SPACE_RE.sub(' ', text) # replace REPLACE_BY_SPACE_RE symbols by space in text\n",
        "    text = BAD_SYMBOLS_RE.sub('', text) # delete symbols which are in BAD_SYMBOLS_RE from text\n",
        "    text = ' '.join(word for word in text.split() if word not in STOPWORDS) # delete stopwors from text\n",
        "    return text\n",
        "    \n",
        "\n",
        "print(f'Example text previous cleaning : {df[\"post\"].values[10]}')\n",
        "\n",
        "df['post'] = df['post'].apply(clean_text)\n",
        "\n",
        "print(f'Example text previous cleaning : {df[\"post\"].values[10]}')"
      ],
      "execution_count": 6,
      "outputs": [
        {
          "output_type": "stream",
          "text": [
            "Example text previous cleaning : when we need interface c# <blockquote>    <strong>possible duplicate:</strong><br>   <a href= https://stackoverflow.com/questions/240152/why-would-i-want-to-use-interfaces >why would i want to use interfaces </a>   <a href= https://stackoverflow.com/questions/9451868/why-i-need-interface >why i need interface </a>    </blockquote>     i want to know where and when to use it     for example    <pre><code>interface idemo {  // function prototype  public void show(); }  // first class using the interface class myclass1 : idemo {  public void show()  {   // function body comes here   response.write( i m in myclass );  }  }  // second class using the interface class myclass2 : idemo {  public void show()   {   // function body comes here   response.write( i m in myclass2 );   response.write( so  what  );  } </code></pre>   these two classes has the same function name with different body. this can be even achieved without interface. then why we need an interface where and when to use it\n",
            "Example text previous cleaning : need interface c# possible duplicate would want use interfaces need interface want know use example interface idemo function prototype public void show first class using interface class myclass1 idemo public void show function body comes responsewrite myclass second class using interface class myclass2 idemo public void show function body comes responsewrite myclass2 responsewrite two classes function name different body even achieved without interface need interface use\n"
          ],
          "name": "stdout"
        }
      ]
    },
    {
      "cell_type": "code",
      "metadata": {
        "id": "ecM21JV9XQX6",
        "colab_type": "code",
        "outputId": "5a53d7bb-4e84-43bd-e5c6-79917c4fb983",
        "colab": {
          "base_uri": "https://localhost:8080/",
          "height": 35
        }
      },
      "source": [
        "print(f'Number of words in the cleaning data: {df[\"post\"].apply(lambda x: len(x.split(\" \"))).sum()}')"
      ],
      "execution_count": 7,
      "outputs": [
        {
          "output_type": "stream",
          "text": [
            "Number of words in the cleaning data: 3424297\n"
          ],
          "name": "stdout"
        }
      ]
    },
    {
      "cell_type": "markdown",
      "metadata": {
        "id": "MCojigo3ZjuY",
        "colab_type": "text"
      },
      "source": [
        "## Model training\n",
        "\n",
        "First we load a word2vec model. It has been pre-trained by Google on a 100 billion word Google News corpus."
      ]
    },
    {
      "cell_type": "markdown",
      "metadata": {
        "id": "lnp8Me23-RGB",
        "colab_type": "text"
      },
      "source": [
        "### Doc2Vec"
      ]
    },
    {
      "cell_type": "markdown",
      "metadata": {
        "id": "LYzjhRBsALde",
        "colab_type": "text"
      },
      "source": [
        "* **Prepare data**\n",
        "\n",
        "We split the data to train and evaluation examples"
      ]
    },
    {
      "cell_type": "code",
      "metadata": {
        "id": "iriAnKvcAvUa",
        "colab_type": "code",
        "outputId": "cdca5e94-3989-49a3-f854-60c75a15807d",
        "colab": {
          "base_uri": "https://localhost:8080/",
          "height": 53
        }
      },
      "source": [
        "X_train, X_test, y_train, y_test = train_test_split(df.post, df.tags, random_state=0, test_size=0.3)\n",
        "\n",
        "print(f'Number of training examples: {len(X_train)}')\n",
        "print(f'Number of evaluation examples: {len(X_test)}')"
      ],
      "execution_count": 13,
      "outputs": [
        {
          "output_type": "stream",
          "text": [
            "Number of training examples: 28000\n",
            "Number of evaluation examples: 12000\n"
          ],
          "name": "stdout"
        }
      ]
    },
    {
      "cell_type": "markdown",
      "metadata": {
        "id": "hzmgqIze5_tX",
        "colab_type": "text"
      },
      "source": [
        "* **Doc2Vect text adaption**\n",
        "\n",
        "First, we label the sentences. Gensim’s Doc2Vec implementation requires each document/paragraph to have a label associated with it. and we do this by using the TaggedDocument method. The format will be “TRAIN_i” or “TEST_i” where “i” is a dummy index of the post."
      ]
    },
    {
      "cell_type": "code",
      "metadata": {
        "id": "eziHfd0L5jL7",
        "colab_type": "code",
        "colab": {}
      },
      "source": [
        "from gensim.models import Doc2Vec\n",
        "from sklearn import utils\n",
        "import gensim\n",
        "from gensim.models.doc2vec import TaggedDocument\n",
        "import re\n",
        "\n",
        "def label_sentences(corpus, label_type):\n",
        "    \"\"\"\n",
        "    Gensim's Doc2Vec implementation requires each document/paragraph to have a label associated with it.\n",
        "    We do this by using the TaggedDocument method. The format will be \"TRAIN_i\" or \"TEST_i\" where \"i\" is\n",
        "    a dummy index of the post.\n",
        "    \"\"\"\n",
        "    labeled = []\n",
        "    for i, v in enumerate(corpus):\n",
        "        label = label_type + '_' + str(i)\n",
        "        labeled.append(TaggedDocument(v.split(), [label]))\n",
        "    return labeled\n",
        "\n",
        "X_train = label_sentences(X_train, 'Train')\n",
        "X_test = label_sentences(X_test, 'Test')\n",
        "all_data = X_train + X_test"
      ],
      "execution_count": 0,
      "outputs": []
    },
    {
      "cell_type": "markdown",
      "metadata": {
        "id": "gt7KDPtG69LZ",
        "colab_type": "text"
      },
      "source": [
        "According to Gensim doc2vec tutorial, its doc2vec class was trained on the entire data, and we will do the same. Let’s have a look what the tagged document looks like:"
      ]
    },
    {
      "cell_type": "code",
      "metadata": {
        "id": "v-wqyuK16big",
        "colab_type": "code",
        "colab": {
          "base_uri": "https://localhost:8080/",
          "height": 73
        },
        "outputId": "9e46602c-81d9-4ae8-91dd-178a510f417a"
      },
      "source": [
        "all_data[:2]"
      ],
      "execution_count": 16,
      "outputs": [
        {
          "output_type": "execute_result",
          "data": {
            "text/plain": [
              "[TaggedDocument(words=['fulltext', 'search', 'php', 'pdo', 'returning', 'result', 'searched', 'lot', 'matter', 'find', 'wrong', 'setup', 'trying', 'fulltext', 'search', 'using', 'pdo', 'php', 'get', 'results', 'error', 'messages', 'table', 'contains', 'customer', 'details', 'id', 'int', '11', 'auto_increment', 'name', 'varchar', '150', 'lastname', 'varchar', '150', 'company', 'varchar', '250', 'adress', 'varchar', '150', 'postcode', 'int', '5', 'city', 'varchar', '150', 'email', 'varchar', '250', 'phone', 'varchar', '20', 'orgnr', 'varchar', '15', 'timestamp', 'timestamp', 'current_timestamp', 'run', 'sqlquery', 'alter', 'table', 'system_customer', 'add', 'fulltext', 'name', 'lastname', 'except', 'columns', 'id', 'postcode', 'timestamp', 'signs', 'trouble', 'far', 'idea', 'problem', 'lies', 'db', 'configuration', 'php', 'code', 'goes', 'php', 'sth', 'dbhprepare', 'select', 'name', 'lastname', 'company', 'adress', 'city', 'phone', 'email', 'orgnr', 'db_pre', 'customer', 'match', 'name', 'lastname', 'company', 'adress', 'city', 'phone', 'email', 'orgnr', 'search', 'boolean', 'mode', 'bind', 'placeholders', 'sthbindparam', 'search', 'data', 'sthexecute', 'rows', 'sthfetchall', 'testing', 'print_r', 'dbherrorinfo', 'empty', 'rows', 'echo', 'else', 'echo', 'foreach', 'rows', 'row', 'echo', 'tr', 'datahref', 'new_orderphp', 'cid', 'row', 'id', 'echo', 'td', 'row', 'name', 'td', 'echo', 'td', 'row', 'lastname', 'td', 'echo', 'td', 'row', 'company', 'td', 'echo', 'td', 'row', 'phone', 'td', 'echo', 'td', 'row', 'email', 'td', 'echo', 'td', 'date', 'ymd', 'strtotime', 'row', 'timestamp', 'td', 'echo', 'tr', 'echo', 'tried', 'change', 'parameter', 'searchquery', 'string', 'like', 'testcompany', 'somename', 'boolean', 'mode', 'also', 'read', 'word', 'found', '50', 'rows', 'counts', 'common', 'word', 'pretty', 'sure', 'case', 'uses', 'specific', 'words', 'table', 'uses', 'myisam', 'engine', 'get', 'results', 'error', 'messages', 'please', 'help', 'point', 'wrong', 'thank'], tags=['Train_0']),\n",
              " TaggedDocument(words=['select', 'everything', '1', 'table', 'x', 'rows', 'another', 'im', 'making', 'join', 'query', 'like', 'select', 'clothes', 'c', 'join', 'style', 'cstyleid', 'ssylelid', 'clothesid', '19', 'dont', 'want', 'select', 'everything', 'style', 'want', 'select', 'everything', 'clothes', '20', 'rows', 'select', '1', 'row', '10', 'style', 'easyest', 'way', 'without', 'select', 'every', 'row', 'clothes', '20', 'things', 'select', 'like', 'select', 'cid', 'cdescription', 'cname', 'csize', 'cbrand', 'sname', 'clothes', 'c', 'join', 'style', 'cstyleid', 'stsylelid', 'clothesid', '19', 'would', 'fastest', 'way', 'possibillity'], tags=['Train_1'])]"
            ]
          },
          "metadata": {
            "tags": []
          },
          "execution_count": 16
        }
      ]
    },
    {
      "cell_type": "markdown",
      "metadata": {
        "id": "hEn2edyv7lIg",
        "colab_type": "text"
      },
      "source": [
        "* **Doc2Vec training**"
      ]
    },
    {
      "cell_type": "markdown",
      "metadata": {
        "id": "efxFYHew7KnA",
        "colab_type": "text"
      },
      "source": [
        "We initialize the model with the following parameters:\n",
        " * `dm=0` , distributed bag of words (DBOW) is used.\n",
        " * `vector_size=300` , 300 vector dimensional feature vectors.\n",
        " * `negative=5` , specifies how many “noise words” should be drawn.\n",
        " * `min_count=1` , ignores all words with total frequency lower than this.\n",
        " * `alpha=0.065` , the initial learning rate."
      ]
    },
    {
      "cell_type": "code",
      "metadata": {
        "id": "imbhmLYv6bfP",
        "colab_type": "code",
        "colab": {
          "base_uri": "https://localhost:8080/",
          "height": 35
        },
        "outputId": "3cae2cf1-9329-4eb1-e02a-286aca3815eb"
      },
      "source": [
        "from tqdm import tqdm\n",
        "\n",
        "model_dbow = Doc2Vec(dm=0, vector_size=300, negative=5, min_count=1, alpha=0.065, min_alpha=0.065)\n",
        "model_dbow.build_vocab([x for x in tqdm(all_data)])"
      ],
      "execution_count": 17,
      "outputs": [
        {
          "output_type": "stream",
          "text": [
            "100%|██████████| 40000/40000 [00:00<00:00, 1604599.98it/s]\n"
          ],
          "name": "stderr"
        }
      ]
    },
    {
      "cell_type": "markdown",
      "metadata": {
        "id": "yUlYT--s7xlb",
        "colab_type": "text"
      },
      "source": [
        "We train for 30 epochs and the "
      ]
    },
    {
      "cell_type": "code",
      "metadata": {
        "id": "2MVEGW4b74Ws",
        "colab_type": "code",
        "colab": {
          "base_uri": "https://localhost:8080/",
          "height": 557
        },
        "outputId": "64df021d-53cc-4773-f292-d6be55ed2c1f"
      },
      "source": [
        "for epoch in range(30):\n",
        "    model_dbow.train(utils.shuffle([x for x in tqdm(all_data)]), total_examples=len(all_data), epochs=1)\n",
        "    model_dbow.alpha -= 0.002\n",
        "    model_dbow.min_alpha = model_dbow.alpha"
      ],
      "execution_count": 18,
      "outputs": [
        {
          "output_type": "stream",
          "text": [
            "100%|██████████| 40000/40000 [00:00<00:00, 1890497.04it/s]\n",
            "100%|██████████| 40000/40000 [00:00<00:00, 2241385.13it/s]\n",
            "100%|██████████| 40000/40000 [00:00<00:00, 2233240.07it/s]\n",
            "100%|██████████| 40000/40000 [00:00<00:00, 2872761.77it/s]\n",
            "100%|██████████| 40000/40000 [00:00<00:00, 2397669.96it/s]\n",
            "100%|██████████| 40000/40000 [00:00<00:00, 2793409.26it/s]\n",
            "100%|██████████| 40000/40000 [00:00<00:00, 2581507.31it/s]\n",
            "100%|██████████| 40000/40000 [00:00<00:00, 2191123.82it/s]\n",
            "100%|██████████| 40000/40000 [00:00<00:00, 2587319.72it/s]\n",
            "100%|██████████| 40000/40000 [00:00<00:00, 2364753.41it/s]\n",
            "100%|██████████| 40000/40000 [00:00<00:00, 2319665.96it/s]\n",
            "100%|██████████| 40000/40000 [00:00<00:00, 2750318.19it/s]\n",
            "100%|██████████| 40000/40000 [00:00<00:00, 1745408.54it/s]\n",
            "100%|██████████| 40000/40000 [00:00<00:00, 2259253.43it/s]\n",
            "100%|██████████| 40000/40000 [00:00<00:00, 2369127.88it/s]\n",
            "100%|██████████| 40000/40000 [00:00<00:00, 2908973.89it/s]\n",
            "100%|██████████| 40000/40000 [00:00<00:00, 2685686.66it/s]\n",
            "100%|██████████| 40000/40000 [00:00<00:00, 2639794.82it/s]\n",
            "100%|██████████| 40000/40000 [00:00<00:00, 2577818.48it/s]\n",
            "100%|██████████| 40000/40000 [00:00<00:00, 2249077.16it/s]\n",
            "100%|██████████| 40000/40000 [00:00<00:00, 2217507.20it/s]\n",
            "100%|██████████| 40000/40000 [00:00<00:00, 2389100.02it/s]\n",
            "100%|██████████| 40000/40000 [00:00<00:00, 2616493.19it/s]\n",
            "100%|██████████| 40000/40000 [00:00<00:00, 2045902.15it/s]\n",
            "100%|██████████| 40000/40000 [00:00<00:00, 1997168.74it/s]\n",
            "100%|██████████| 40000/40000 [00:00<00:00, 2016686.22it/s]\n",
            "100%|██████████| 40000/40000 [00:00<00:00, 2222530.50it/s]\n",
            "100%|██████████| 40000/40000 [00:00<00:00, 2269890.68it/s]\n",
            "100%|██████████| 40000/40000 [00:00<00:00, 1824383.81it/s]\n",
            "100%|██████████| 40000/40000 [00:00<00:00, 2306717.26it/s]\n"
          ],
          "name": "stderr"
        }
      ]
    },
    {
      "cell_type": "markdown",
      "metadata": {
        "id": "Fb1mrLtqDIJP",
        "colab_type": "text"
      },
      "source": [
        "* **Word embeddings using Doc2Vec**\n",
        "\n",
        "We get vectors from trained doc2vec model."
      ]
    },
    {
      "cell_type": "code",
      "metadata": {
        "id": "GnhPpUXX-a7_",
        "colab_type": "code",
        "colab": {}
      },
      "source": [
        "def get_vectors(model, corpus_size, vectors_size, vectors_type):\n",
        "    \"\"\"\n",
        "    Get vectors from trained doc2vec model\n",
        "    :param doc2vec_model: Trained Doc2Vec model\n",
        "    :param corpus_size: Size of the data\n",
        "    :param vectors_size: Size of the embedding vectors\n",
        "    :param vectors_type: Training or Testing vectors\n",
        "    :return: list of vectors\n",
        "    \"\"\"\n",
        "    vectors = np.zeros((corpus_size, vectors_size))\n",
        "    for i in range(0, corpus_size):\n",
        "        prefix = vectors_type + '_' + str(i)\n",
        "        vectors[i] = model.docvecs[prefix]\n",
        "    return vectors\n",
        "    \n",
        "train_vectors_dbow = get_vectors(model_dbow, len(X_train), 300, 'Train')\n",
        "test_vectors_dbow = get_vectors(model_dbow, len(X_test), 300, 'Test')"
      ],
      "execution_count": 0,
      "outputs": []
    },
    {
      "cell_type": "markdown",
      "metadata": {
        "id": "PiPpqB48JgSp",
        "colab_type": "text"
      },
      "source": [
        "### Logistic Regression Model"
      ]
    },
    {
      "cell_type": "code",
      "metadata": {
        "id": "s1RdGznrD0WM",
        "colab_type": "code",
        "colab": {}
      },
      "source": [
        "from sklearn.linear_model import LogisticRegression\n",
        "\n",
        "logreg = LogisticRegression(n_jobs=1, C=1e5)"
      ],
      "execution_count": 0,
      "outputs": []
    },
    {
      "cell_type": "markdown",
      "metadata": {
        "id": "aUVEDGuqk2vH",
        "colab_type": "text"
      },
      "source": [
        "We train the vectorizers and model"
      ]
    },
    {
      "cell_type": "code",
      "metadata": {
        "id": "T2VledCAZzQa",
        "colab_type": "code",
        "outputId": "50c6500e-ae96-448c-da62-67f0c42c7350",
        "colab": {
          "base_uri": "https://localhost:8080/",
          "height": 53
        }
      },
      "source": [
        "%%time\n",
        "logreg = logreg.fit(train_vectors_dbow, y_train)"
      ],
      "execution_count": 21,
      "outputs": [
        {
          "output_type": "stream",
          "text": [
            "CPU times: user 1min 29s, sys: 35.1 ms, total: 1min 29s\n",
            "Wall time: 1min 29s\n"
          ],
          "name": "stdout"
        }
      ]
    },
    {
      "cell_type": "markdown",
      "metadata": {
        "id": "2c0-o_U0k8Ox",
        "colab_type": "text"
      },
      "source": [
        "## Model evaluation"
      ]
    },
    {
      "cell_type": "code",
      "metadata": {
        "id": "Pc6wcIBZZuMm",
        "colab_type": "code",
        "outputId": "e131b680-9d33-423c-8ba6-4318b65e12aa",
        "colab": {
          "base_uri": "https://localhost:8080/",
          "height": 557
        }
      },
      "source": [
        "%%time\n",
        "from sklearn.metrics import classification_report\n",
        "y_pred = logreg.predict(test_vectors_dbow)\n",
        "\n",
        "print('accuracy %s' % accuracy_score(y_pred, y_test))\n",
        "print(classification_report(y_test, y_pred,target_names=categories))"
      ],
      "execution_count": 23,
      "outputs": [
        {
          "output_type": "stream",
          "text": [
            "accuracy 0.8080833333333334\n",
            "               precision    recall  f1-score   support\n",
            "\n",
            "           c#       0.72      0.68      0.70       589\n",
            "      asp.net       0.90      0.91      0.90       661\n",
            "  objective-c       0.93      0.95      0.94       606\n",
            "         .net       0.80      0.78      0.79       613\n",
            "       python       0.84      0.89      0.87       601\n",
            "    angularjs       0.71      0.71      0.71       585\n",
            "       iphone       0.87      0.81      0.84       621\n",
            "ruby-on-rails       0.81      0.85      0.83       587\n",
            "          ios       0.68      0.66      0.67       560\n",
            "            c       0.67      0.68      0.67       611\n",
            "          sql       0.66      0.67      0.66       593\n",
            "         java       0.81      0.86      0.83       581\n",
            "       jquery       0.81      0.77      0.79       608\n",
            "          css       0.85      0.85      0.85       593\n",
            "          c++       0.85      0.82      0.83       592\n",
            "          php       0.72      0.65      0.68       597\n",
            "      android       0.85      0.86      0.85       604\n",
            "        mysql       0.91      0.94      0.93       610\n",
            "   javascript       0.93      0.96      0.95       595\n",
            "         html       0.81      0.85      0.83       593\n",
            "\n",
            "     accuracy                           0.81     12000\n",
            "    macro avg       0.81      0.81      0.81     12000\n",
            " weighted avg       0.81      0.81      0.81     12000\n",
            "\n",
            "CPU times: user 504 ms, sys: 108 ms, total: 612 ms\n",
            "Wall time: 481 ms\n"
          ],
          "name": "stdout"
        }
      ]
    },
    {
      "cell_type": "code",
      "metadata": {
        "id": "vWyyo9Od9HYH",
        "colab_type": "code",
        "colab": {}
      },
      "source": [
        ""
      ],
      "execution_count": 0,
      "outputs": []
    }
  ]
}