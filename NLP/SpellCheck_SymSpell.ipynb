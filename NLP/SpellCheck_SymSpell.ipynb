{
  "nbformat": 4,
  "nbformat_minor": 0,
  "metadata": {
    "colab": {
      "name": "SpellCheck-SymSpell",
      "provenance": [],
      "include_colab_link": true
    },
    "kernelspec": {
      "name": "python3",
      "display_name": "Python 3"
    }
  },
  "cells": [
    {
      "cell_type": "markdown",
      "metadata": {
        "id": "view-in-github",
        "colab_type": "text"
      },
      "source": [
        "<a href=\"https://colab.research.google.com/github/victor-roris/mediumseries/blob/master/NLP/SpellCheck_SymSpell.ipynb\" target=\"_parent\"><img src=\"https://colab.research.google.com/assets/colab-badge.svg\" alt=\"Open In Colab\"/></a>"
      ]
    },
    {
      "cell_type": "markdown",
      "metadata": {
        "id": "zJ45hdeXmKpk",
        "colab_type": "text"
      },
      "source": [
        "# SymSpell\n",
        "\n",
        "SymSpell is one of the most fastest spell check tools. Exist different language implementations of this tool.\n",
        "\n",
        "General GitHub: https://github.com/wolfgarbe/SymSpell\n",
        "\n",
        "Python Package: SumSpellPy \n",
        "- GITHUB: https://github.com/mammothb/symspellpy\n",
        "- DOCUMENTATION: https://symspellpy.readthedocs.io/en/latest/examples/index.html"
      ]
    },
    {
      "cell_type": "markdown",
      "metadata": {
        "id": "4taa1LdCmxrz",
        "colab_type": "text"
      },
      "source": [
        "## Installation"
      ]
    },
    {
      "cell_type": "code",
      "metadata": {
        "id": "ZvlLz4PuiaAC",
        "colab_type": "code",
        "colab": {}
      },
      "source": [
        "! pip install symspellpy\n",
        "! pip install bs4"
      ],
      "execution_count": 0,
      "outputs": []
    },
    {
      "cell_type": "code",
      "metadata": {
        "id": "hqXt7WIsioD7",
        "colab_type": "code",
        "colab": {}
      },
      "source": [
        "!python -m spacy download en_core_web_md"
      ],
      "execution_count": 0,
      "outputs": []
    },
    {
      "cell_type": "markdown",
      "metadata": {
        "id": "nHpyovF5m0_8",
        "colab_type": "text"
      },
      "source": [
        "## Example of usage"
      ]
    },
    {
      "cell_type": "markdown",
      "metadata": {
        "id": "Z99wlOlboFjp",
        "colab_type": "text"
      },
      "source": [
        "* Lookup misspellings\n",
        "\n",
        "Automatic spelling corrections for only a word"
      ]
    },
    {
      "cell_type": "code",
      "metadata": {
        "id": "RpPlpuohoEDe",
        "colab_type": "code",
        "colab": {
          "base_uri": "https://localhost:8080/",
          "height": 35
        },
        "outputId": "238605ea-38da-4bab-d5ce-904761de5ade"
      },
      "source": [
        "import pkg_resources\n",
        "from symspellpy import SymSpell, Verbosity\n",
        "\n",
        "sym_spell = SymSpell(max_dictionary_edit_distance=2, prefix_length=7)\n",
        "dictionary_path = pkg_resources.resource_filename(\"symspellpy\", \"frequency_dictionary_en_82_765.txt\")\n",
        "\n",
        "# term_index is the column of the term and count_index is the column of the term frequency\n",
        "sym_spell.load_dictionary(dictionary_path, term_index=0, count_index=1)\n",
        "\n",
        "# lookup suggestions for single-word input strings\n",
        "input_term = \"memebers\"  # misspelling of \"members\"\n",
        "\n",
        "# max edit distance per lookup\n",
        "# (max_edit_distance_lookup <= max_dictionary_edit_distance)\n",
        "suggestions = sym_spell.lookup(input_term, Verbosity.CLOSEST, max_edit_distance=2)\n",
        "\n",
        "# display suggestion term, term frequency, and edit distance\n",
        "for suggestion in suggestions:\n",
        "    print(suggestion)"
      ],
      "execution_count": 7,
      "outputs": [
        {
          "output_type": "stream",
          "text": [
            "members, 1, 226656153\n"
          ],
          "name": "stdout"
        }
      ]
    },
    {
      "cell_type": "markdown",
      "metadata": {
        "id": "IYf0ucD3oRSG",
        "colab_type": "text"
      },
      "source": [
        "* Lookup compound\n",
        "\n",
        "Automatic spelling corrections for a sentence (multi-words)"
      ]
    },
    {
      "cell_type": "code",
      "metadata": {
        "id": "keGSdFTznFT5",
        "colab_type": "code",
        "colab": {
          "base_uri": "https://localhost:8080/",
          "height": 35
        },
        "outputId": "ee6c0cef-a206-48d9-c94b-813344667624"
      },
      "source": [
        "import pkg_resources\n",
        "from symspellpy import SymSpell, Verbosity\n",
        "\n",
        "sym_spell = SymSpell(max_dictionary_edit_distance=2, prefix_length=7)\n",
        "dictionary_path = pkg_resources.resource_filename(\"symspellpy\", \"frequency_dictionary_en_82_765.txt\")\n",
        "bigram_path = pkg_resources.resource_filename(\"symspellpy\", \"frequency_bigramdictionary_en_243_342.txt\")\n",
        "\n",
        "# term_index is the column of the term and count_index is the column of the term frequency\n",
        "sym_spell.load_dictionary(dictionary_path, term_index=0, count_index=1)\n",
        "sym_spell.load_bigram_dictionary(bigram_path, term_index=0, count_index=2)\n",
        "\n",
        "# lookup suggestions for multi-word input strings (supports compound splitting & merging)\n",
        "input_term = (\"whereis th elove hehad dated forImuch of thepast who \"\n",
        "              \"couqdn'tread in sixtgrade and ins pired him\")\n",
        "\n",
        "# max edit distance per lookup (per single word, not per whole input string)\n",
        "suggestions = sym_spell.lookup_compound(input_term, max_edit_distance=2)\n",
        "\n",
        "# display suggestion term, edit distance, and term frequency\n",
        "for suggestion in suggestions:\n",
        "    print(suggestion)"
      ],
      "execution_count": 8,
      "outputs": [
        {
          "output_type": "stream",
          "text": [
            "where is the love he had dated for much of the past who couldn't read in six grade and inspired him, 9, 0\n"
          ],
          "name": "stdout"
        }
      ]
    },
    {
      "cell_type": "markdown",
      "metadata": {
        "id": "ddeGZqxPotGp",
        "colab_type": "text"
      },
      "source": [
        "* Word segmentation\n",
        "\n",
        "Divides a string into words by inserting missing spaces"
      ]
    },
    {
      "cell_type": "code",
      "metadata": {
        "id": "ti7IlXX7lpI2",
        "colab_type": "code",
        "colab": {
          "base_uri": "https://localhost:8080/",
          "height": 35
        },
        "outputId": "e7898bce-b5a7-4006-8b1f-f359e0aef29e"
      },
      "source": [
        "import pkg_resources\n",
        "from symspellpy.symspellpy import SymSpell\n",
        "\n",
        "# Set max_dictionary_edit_distance to avoid spelling correction\n",
        "sym_spell = SymSpell(max_dictionary_edit_distance=0, prefix_length=7)\n",
        "dictionary_path = pkg_resources.resource_filename(\"symspellpy\", \"frequency_dictionary_en_82_765.txt\")\n",
        "\n",
        "# term_index is the column of the term and count_index is the column of the term frequency\n",
        "sym_spell.load_dictionary(dictionary_path, term_index=0, count_index=1)\n",
        "\n",
        "# a sentence without any spaces\n",
        "input_term = \"thequickbrownfoxjumpsoverthelazydog\"\n",
        "\n",
        "result = sym_spell.word_segmentation(input_term)\n",
        "\n",
        "print(\"{}, {}, {}\".format(result.corrected_string, \n",
        "                          result.distance_sum,\n",
        "                          result.log_prob_sum))"
      ],
      "execution_count": 5,
      "outputs": [
        {
          "output_type": "stream",
          "text": [
            "the quick brown fox jumps over the lazy dog, 8, -34.491167981910635\n"
          ],
          "name": "stdout"
        }
      ]
    },
    {
      "cell_type": "markdown",
      "metadata": {
        "id": "ftRqdjK2m4yB",
        "colab_type": "text"
      },
      "source": [
        "## Real example of usage\n",
        "\n",
        "This code was used to a NLP real project."
      ]
    },
    {
      "cell_type": "code",
      "metadata": {
        "id": "r4hyaLlUhKpp",
        "colab_type": "code",
        "colab": {}
      },
      "source": [
        "import spacy\n",
        "import re\n",
        "from symspellpy.symspellpy import SymSpell, Verbosity  # import the module\n",
        "import os\n",
        "from bs4 import BeautifulSoup\n",
        "import pkg_resources"
      ],
      "execution_count": 0,
      "outputs": []
    },
    {
      "cell_type": "markdown",
      "metadata": {
        "id": "RkfaFfWAprbI",
        "colab_type": "text"
      },
      "source": [
        "Load the english model"
      ]
    },
    {
      "cell_type": "code",
      "metadata": {
        "id": "Qb5eXRzPiiuN",
        "colab_type": "code",
        "colab": {}
      },
      "source": [
        "nlp = spacy.load('en_core_web_md')"
      ],
      "execution_count": 0,
      "outputs": []
    },
    {
      "cell_type": "markdown",
      "metadata": {
        "id": "SdgCzgO4pqI8",
        "colab_type": "text"
      },
      "source": [
        "Get all the vocubulary of the spaCy model to use as dictionary"
      ]
    },
    {
      "cell_type": "code",
      "metadata": {
        "id": "KyF_jOKOilzm",
        "colab_type": "code",
        "colab": {
          "base_uri": "https://localhost:8080/",
          "height": 35
        },
        "outputId": "977cf679-737e-4dfd-80af-6d3a399ae22a"
      },
      "source": [
        "spelldict = set(nlp.vocab.strings)\n",
        "print(f'Number of vocabulary entries : {len(spelldict)}')"
      ],
      "execution_count": 14,
      "outputs": [
        {
          "output_type": "stream",
          "text": [
            "Number of vocabulary entries : 1476045\n"
          ],
          "name": "stdout"
        }
      ]
    },
    {
      "cell_type": "markdown",
      "metadata": {
        "id": "qzKItvDzpvMI",
        "colab_type": "text"
      },
      "source": [
        "Define the SymSpell object"
      ]
    },
    {
      "cell_type": "code",
      "metadata": {
        "id": "GPBnOeNTjw4m",
        "colab_type": "code",
        "colab": {}
      },
      "source": [
        "# maximum edit distance per dictionary precalculation\n",
        "max_edit_distance_dictionary = 2\n",
        "prefix_length = 7\n",
        "\n",
        "# create object\n",
        "spell = SymSpell(max_edit_distance_dictionary, prefix_length)"
      ],
      "execution_count": 0,
      "outputs": []
    },
    {
      "cell_type": "markdown",
      "metadata": {
        "id": "86zu6xEeqZFL",
        "colab_type": "text"
      },
      "source": [
        "Load your own dictionary. You can create a dictionary for the field of usage (e.x., legal, news, etc.) with the specific acceptable terms of this field."
      ]
    },
    {
      "cell_type": "code",
      "metadata": {
        "id": "e5agaFRJkIAy",
        "colab_type": "code",
        "colab": {
          "base_uri": "https://localhost:8080/",
          "height": 35
        },
        "outputId": "397127a8-daf5-4ea5-ad89-0a0a46b19818"
      },
      "source": [
        "# lookup suggestions for single-word input strings\n",
        "# load dictionary\n",
        "dictionary_path = \"./resoruces/frequency_dict_en.txt\"\n",
        "term_index = 0  # column of the term in the dictionary text file\n",
        "count_index = 1  # column of the term frequency in the dictionary text file\n",
        "if not spell.load_dictionary(dictionary_path, term_index, count_index):\n",
        "    print(\"Dictionary file not found\")\n",
        "\n",
        "    #Load a default dict\n",
        "    dictionary_path = pkg_resources.resource_filename(\"symspellpy\", \"frequency_dictionary_en_82_765.txt\")\n",
        "    spell.load_dictionary(dictionary_path, term_index, count_index)"
      ],
      "execution_count": 48,
      "outputs": [
        {
          "output_type": "stream",
          "text": [
            "Dictionary file not found\n"
          ],
          "name": "stdout"
        }
      ]
    },
    {
      "cell_type": "markdown",
      "metadata": {
        "id": "HDmbZlz8q-q2",
        "colab_type": "text"
      },
      "source": [
        "Normalize text "
      ]
    },
    {
      "cell_type": "code",
      "metadata": {
        "id": "OuJtvUS2iTTU",
        "colab_type": "code",
        "colab": {}
      },
      "source": [
        "def normalize_text(text):\n",
        "    \"\"\"Normalize text\"\"\"\n",
        "\n",
        "\n",
        "    global nlp    \n",
        "    global spelldict \n",
        "    global spell\n",
        "\n",
        "    # Clean HTML tags\n",
        "    text = BeautifulSoup(text).get_text()\n",
        "\n",
        "    # Patterns to avoid remove or considered as different values of general terms (ex., emails, urls, etc.)\n",
        "    text = re.sub(r'http\\\\S+', 'url', text, flags=re.MULTILINE) # Replace urls by 'url' term\n",
        "    text = re.sub(r'www\\\\S+', 'url', text, flags=re.MULTILINE)  # Replace urls by 'url' term\n",
        "    # text = re.sub(r\"[a-z0-9\\\\.\\\\-+_]+@[a-z0-9\\\\.\\\\-+_]+\\\\.[a-z]+\", 'email', text, flags=re.MULTILINE)  # Replace emails by 'email' term\n",
        "    text = re.sub('([.,!?()\"/])', r' \\\\1 ', text)  # Replace punctuation\n",
        "    text = re.sub('\\\\s{2,}', ' ', text)        \n",
        "\n",
        "    # Process the text\n",
        "    doc = nlp(text)\n",
        "    out_text = []\n",
        "    for token in doc:\n",
        "\n",
        "         #Does the token consist of alphabetic characters? \n",
        "        if token.is_alpha:\n",
        "            #Token is not in the spacy dictionary\n",
        "            if str(token) not in spelldict:\n",
        "              \n",
        "                #Look for a SymSpell correction of the word\n",
        "                max_edit_distance_lookup = 2\n",
        "                suggestion_verbosity = Verbosity.CLOSEST  # TOP, CLOSEST, ALL\n",
        "                suggestions = spell.lookup(str(token), suggestion_verbosity, max_edit_distance_lookup)\n",
        "                if len(suggestions) > 0:\n",
        "                    # Get the suggestion\n",
        "                    out_text.append(suggestions[0].term)\n",
        "            else:\n",
        "                # Get directly the valid token\n",
        "                out_text.append(str(token).lower())\n",
        "        \n",
        "        #Does the token resemble an email address?\n",
        "        if token.like_email:\n",
        "            out_text.append('email')\n",
        "        #Does the token resemble an url address?\n",
        "        if token.like_url:\n",
        "            out_text.append('url')\n",
        "\n",
        "    raw = ' '.join(out_text)\n",
        "\n",
        "    return raw"
      ],
      "execution_count": 0,
      "outputs": []
    },
    {
      "cell_type": "code",
      "metadata": {
        "id": "1ZSmQruttAYr",
        "colab_type": "code",
        "colab": {
          "base_uri": "https://localhost:8080/",
          "height": 35
        },
        "outputId": "fec4aeaf-482d-4552-d402-c8f2a736a1cf"
      },
      "source": [
        "normalize_text(\"Mi email address is test@gmail.com. You can't contact with me!! ;-P \")"
      ],
      "execution_count": 53,
      "outputs": [
        {
          "output_type": "execute_result",
          "data": {
            "text/plain": [
              "'mi email address is email you ca contact with me'"
            ]
          },
          "metadata": {
            "tags": []
          },
          "execution_count": 53
        }
      ]
    },
    {
      "cell_type": "code",
      "metadata": {
        "id": "nxcaliZktI4a",
        "colab_type": "code",
        "colab": {}
      },
      "source": [
        ""
      ],
      "execution_count": 0,
      "outputs": []
    }
  ]
}