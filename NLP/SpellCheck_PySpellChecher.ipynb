{
  "nbformat": 4,
  "nbformat_minor": 0,
  "metadata": {
    "colab": {
      "name": "SpellCheck-PySpellChecher.ipynb",
      "provenance": [],
      "collapsed_sections": [],
      "include_colab_link": true
    },
    "kernelspec": {
      "name": "python3",
      "display_name": "Python 3"
    }
  },
  "cells": [
    {
      "cell_type": "markdown",
      "metadata": {
        "id": "view-in-github",
        "colab_type": "text"
      },
      "source": [
        "<a href=\"https://colab.research.google.com/github/victor-roris/mediumseries/blob/master/NLP/SpellCheck_PySpellChecher.ipynb\" target=\"_parent\"><img src=\"https://colab.research.google.com/assets/colab-badge.svg\" alt=\"Open In Colab\"/></a>"
      ]
    },
    {
      "cell_type": "markdown",
      "metadata": {
        "id": "82rhNfU1_hxP",
        "colab_type": "text"
      },
      "source": [
        "# PySpellChecher\n",
        "\n",
        "Pure Python Spell Checking based on Peter Norvig's blog post on setting up a simple spell checking algorithm.\n",
        "\n",
        "It uses a Levenshtein Distance algorithm to find permutations within an edit distance of 2 from the original word. It then compares all permutations (insertions, deletions, replacements, and transpositions) to known words in a word frequency list. Those words that are found more often in the frequency list are more likely the correct results.\n",
        "\n",
        "pyspellchecker supports multiple languages including English, Spanish, German, French, and Portuguese. Dictionaries were generated using the WordFrequency project on GitHub.\n",
        "\n",
        "\n",
        "GitHub: https://github.com/barrust/pyspellchecker\n"
      ]
    },
    {
      "cell_type": "markdown",
      "metadata": {
        "id": "idVvSsZlCMCL",
        "colab_type": "text"
      },
      "source": [
        "## Installation"
      ]
    },
    {
      "cell_type": "code",
      "metadata": {
        "id": "ssYu86L-8h5J",
        "colab_type": "code",
        "outputId": "3e03b3de-90be-4536-8d15-c04ddb85dc7d",
        "colab": {
          "base_uri": "https://localhost:8080/",
          "height": 107
        }
      },
      "source": [
        "! pip install pyspellchecker"
      ],
      "execution_count": 0,
      "outputs": [
        {
          "output_type": "stream",
          "text": [
            "Collecting pyspellchecker\n",
            "\u001b[?25l  Downloading https://files.pythonhosted.org/packages/93/24/9a570f49dfefc16e9ce1f483bb2d5bff701b95094e051db502e3c11f5092/pyspellchecker-0.5.3-py2.py3-none-any.whl (1.9MB)\n",
            "\u001b[K     |████████████████████████████████| 1.9MB 9.2MB/s \n",
            "\u001b[?25hInstalling collected packages: pyspellchecker\n",
            "Successfully installed pyspellchecker-0.5.3\n"
          ],
          "name": "stdout"
        }
      ]
    },
    {
      "cell_type": "markdown",
      "metadata": {
        "id": "LA5z-tJXCOLp",
        "colab_type": "text"
      },
      "source": [
        "## Basic usage"
      ]
    },
    {
      "cell_type": "markdown",
      "metadata": {
        "id": "A74zQlcFbBIP",
        "colab_type": "text"
      },
      "source": [
        "SpellChecker comes with a default word frequency list (dictionary)"
      ]
    },
    {
      "cell_type": "code",
      "metadata": {
        "id": "HEN4fcYn-4kF",
        "colab_type": "code",
        "colab": {}
      },
      "source": [
        "from spellchecker import SpellChecker\n",
        "spell = SpellChecker() "
      ],
      "execution_count": 0,
      "outputs": []
    },
    {
      "cell_type": "markdown",
      "metadata": {
        "id": "f4Ic1HGSbNCU",
        "colab_type": "text"
      },
      "source": [
        "Find the words are not in the dictionary"
      ]
    },
    {
      "cell_type": "code",
      "metadata": {
        "id": "21bcvFOq-9zD",
        "colab_type": "code",
        "colab": {}
      },
      "source": [
        "# find those words that may be misspelled\n",
        "misspelled = spell.unknown(['something', 'is', 'hapenning', 'here'])"
      ],
      "execution_count": 0,
      "outputs": []
    },
    {
      "cell_type": "code",
      "metadata": {
        "id": "zd2242hZ_B7T",
        "colab_type": "code",
        "outputId": "46b984d1-7418-4b93-84fb-c696b46f753c",
        "colab": {
          "base_uri": "https://localhost:8080/",
          "height": 71
        }
      },
      "source": [
        "for word in misspelled:\n",
        "\n",
        "    # Word misspelled\n",
        "    print(f'Word misspelled: {word}')\n",
        "\n",
        "    # Get the one `most likely` answer\n",
        "    print(f'Correct word: {spell.correction(word)}')\n",
        "\n",
        "    # Get a list of `likely` options\n",
        "    print(f'List of possible corrections: {spell.candidates(word)}')"
      ],
      "execution_count": 3,
      "outputs": [
        {
          "output_type": "stream",
          "text": [
            "Word misspelled: hapenning\n",
            "Correct word: happening\n",
            "List of possible corrections: {'happening', 'henning', 'penning'}\n"
          ],
          "name": "stdout"
        }
      ]
    },
    {
      "cell_type": "markdown",
      "metadata": {
        "id": "7D085gFTbhLM",
        "colab_type": "text"
      },
      "source": [
        "##Load custom dictionaries"
      ]
    },
    {
      "cell_type": "markdown",
      "metadata": {
        "id": "abAlzI4TeP1M",
        "colab_type": "text"
      },
      "source": [
        "* Loads dictionary from the constructor"
      ]
    },
    {
      "cell_type": "code",
      "metadata": {
        "id": "ps5Ex7M5_Djd",
        "colab_type": "code",
        "colab": {}
      },
      "source": [
        "from spellchecker import SpellChecker\n",
        "\n",
        "# Loads default word frequency list\n",
        "spell = SpellChecker()  \n",
        "\n",
        "## Loads only the local dictionary (no default)\n",
        "# spell = SpellChecker(local_dictionary='./my_dictionary.json')"
      ],
      "execution_count": 0,
      "outputs": []
    },
    {
      "cell_type": "markdown",
      "metadata": {
        "id": "8HByHen_ejSU",
        "colab_type": "text"
      },
      "source": [
        "* Loads dictionary from the object methods "
      ]
    },
    {
      "cell_type": "code",
      "metadata": {
        "id": "8HBkZ9h_eNm2",
        "colab_type": "code",
        "colab": {}
      },
      "source": [
        "## From a file with free text\n",
        "# spell.word_frequency.load_text_file('./my_free_text_doc.txt')\n",
        "\n",
        "## From a dictionary\n",
        "# spell.word_frequency.load_dictionary('./my_dictionary.txt')\n",
        "\n",
        "## From a free text\n",
        "spell.word_frequency.load_text(\"A blue whale went for a swim in the sea. Along it's path it ran into a storm. To avoid the storm it dove deep under the waves.\")"
      ],
      "execution_count": 0,
      "outputs": []
    },
    {
      "cell_type": "markdown",
      "metadata": {
        "id": "8WiWyDames0Z",
        "colab_type": "text"
      },
      "source": [
        "* Loads specific words directly"
      ]
    },
    {
      "cell_type": "code",
      "metadata": {
        "id": "sQZMme4KcCIM",
        "colab_type": "code",
        "colab": {
          "base_uri": "https://localhost:8080/",
          "height": 53
        },
        "outputId": "8bc36616-4aab-4a89-bcdf-ff754913aa61"
      },
      "source": [
        "print(spell.known(['microsoft', 'google']))\n",
        "\n",
        "# if I just want to make sure some words are not flagged as misspelled\n",
        "spell.word_frequency.load_words(['microsoft', 'apple', 'google'])\n",
        "\n",
        "print(spell.known(['microsoft', 'google']))  # will return both now!"
      ],
      "execution_count": 6,
      "outputs": [
        {
          "output_type": "stream",
          "text": [
            "{'microsoft'}\n",
            "{'google', 'microsoft'}\n"
          ],
          "name": "stdout"
        }
      ]
    },
    {
      "cell_type": "markdown",
      "metadata": {
        "id": "dYJM7vBqfeWS",
        "colab_type": "text"
      },
      "source": [
        "## Change the spell distance"
      ]
    },
    {
      "cell_type": "code",
      "metadata": {
        "id": "0TDm61RjfL-G",
        "colab_type": "code",
        "colab": {}
      },
      "source": [
        "from spellchecker import SpellChecker\n",
        "\n",
        "spell = SpellChecker(distance=1)  # set at initialization\n",
        "\n",
        "# do some work on longer words\n",
        "\n",
        "spell.distance = 2  # set the distance parameter back to the default"
      ],
      "execution_count": 0,
      "outputs": []
    },
    {
      "cell_type": "markdown",
      "metadata": {
        "id": "AkISw-GrfrDU",
        "colab_type": "text"
      },
      "source": [
        "## Methods"
      ]
    },
    {
      "cell_type": "code",
      "metadata": {
        "id": "_z5e7BGNf0Lr",
        "colab_type": "code",
        "colab": {}
      },
      "source": [
        "from spellchecker import SpellChecker\n",
        "\n",
        "# Loads default word frequency list\n",
        "spell = SpellChecker()  "
      ],
      "execution_count": 0,
      "outputs": []
    },
    {
      "cell_type": "markdown",
      "metadata": {
        "id": "moeQtH2Kfvyo",
        "colab_type": "text"
      },
      "source": [
        "`correction(word)`: Returns the most probable result for the misspelled word"
      ]
    },
    {
      "cell_type": "code",
      "metadata": {
        "id": "uYwM7KELfqPJ",
        "colab_type": "code",
        "colab": {
          "base_uri": "https://localhost:8080/",
          "height": 35
        },
        "outputId": "46cfa135-95b8-44d2-b53a-d020ae6ea3a5"
      },
      "source": [
        "spell.correction('Helloo')"
      ],
      "execution_count": 9,
      "outputs": [
        {
          "output_type": "execute_result",
          "data": {
            "text/plain": [
              "'hello'"
            ]
          },
          "metadata": {
            "tags": []
          },
          "execution_count": 9
        }
      ]
    },
    {
      "cell_type": "markdown",
      "metadata": {
        "id": "lQi1taz4gXLQ",
        "colab_type": "text"
      },
      "source": [
        "`candidates(word)`: Returns a set of possible candidates for the misspelled word"
      ]
    },
    {
      "cell_type": "code",
      "metadata": {
        "id": "brsP2OIfgSrP",
        "colab_type": "code",
        "colab": {
          "base_uri": "https://localhost:8080/",
          "height": 305
        },
        "outputId": "f0dcfcc4-e020-4f88-d033-8a4fec8ac707"
      },
      "source": [
        "spell.candidates('Helo')"
      ],
      "execution_count": 10,
      "outputs": [
        {
          "output_type": "execute_result",
          "data": {
            "text/plain": [
              "{'delo',\n",
              " 'halo',\n",
              " 'heclo',\n",
              " 'hel',\n",
              " 'hela',\n",
              " 'held',\n",
              " 'heli',\n",
              " 'hell',\n",
              " 'hello',\n",
              " 'helm',\n",
              " 'helot',\n",
              " 'help',\n",
              " 'hely',\n",
              " 'hero',\n",
              " 'melo',\n",
              " 'selo'}"
            ]
          },
          "metadata": {
            "tags": []
          },
          "execution_count": 10
        }
      ]
    },
    {
      "cell_type": "markdown",
      "metadata": {
        "id": "TjyD2xLSgtsU",
        "colab_type": "text"
      },
      "source": [
        "`known([words])`: Returns those words that are in the word frequency list"
      ]
    },
    {
      "cell_type": "code",
      "metadata": {
        "id": "XYmaes4EgbaJ",
        "colab_type": "code",
        "colab": {
          "base_uri": "https://localhost:8080/",
          "height": 35
        },
        "outputId": "5679952b-9815-4b4c-a1f2-d083500e6699"
      },
      "source": [
        "spell.known(['Blue', 'Red', 'Whithe', 'Blak', 'Yellow', 'Gren']) #blue, red, yellow"
      ],
      "execution_count": 11,
      "outputs": [
        {
          "output_type": "execute_result",
          "data": {
            "text/plain": [
              "{'blue', 'red', 'yellow'}"
            ]
          },
          "metadata": {
            "tags": []
          },
          "execution_count": 11
        }
      ]
    },
    {
      "cell_type": "markdown",
      "metadata": {
        "id": "28-fNgHihEmo",
        "colab_type": "text"
      },
      "source": [
        "`unknown([words])`: Returns those words that are not in the frequency list"
      ]
    },
    {
      "cell_type": "code",
      "metadata": {
        "id": "_UwixT0Eg9nH",
        "colab_type": "code",
        "colab": {
          "base_uri": "https://localhost:8080/",
          "height": 35
        },
        "outputId": "baaa3bbc-dac2-4726-96ea-d5679270261c"
      },
      "source": [
        "spell.unknown(['Blue', 'Red', 'Whithe', 'Blak', 'Yellow', 'Gren']) #whithe, blak, gren"
      ],
      "execution_count": 12,
      "outputs": [
        {
          "output_type": "execute_result",
          "data": {
            "text/plain": [
              "{'blak', 'gren', 'whithe'}"
            ]
          },
          "metadata": {
            "tags": []
          },
          "execution_count": 12
        }
      ]
    },
    {
      "cell_type": "markdown",
      "metadata": {
        "id": "RnvJMXcPhNDY",
        "colab_type": "text"
      },
      "source": [
        "`word_probability(word)`: The frequency of the given word out of all words in the frequency list"
      ]
    },
    {
      "cell_type": "code",
      "metadata": {
        "id": "EqcRi6OThMBx",
        "colab_type": "code",
        "colab": {
          "base_uri": "https://localhost:8080/",
          "height": 35
        },
        "outputId": "9b3ae097-6917-45a6-ba73-dbd2a74dc2ca"
      },
      "source": [
        "spell.word_probability('car')"
      ],
      "execution_count": 13,
      "outputs": [
        {
          "output_type": "execute_result",
          "data": {
            "text/plain": [
              "0.00028855784147263907"
            ]
          },
          "metadata": {
            "tags": []
          },
          "execution_count": 13
        }
      ]
    },
    {
      "cell_type": "markdown",
      "metadata": {
        "id": "Td0W8gz4hpgj",
        "colab_type": "text"
      },
      "source": [
        "`edit_distance_1(word)`: Returns a set of all strings at a Levenshtein Distance of one based on the alphabet of the selected language"
      ]
    },
    {
      "cell_type": "code",
      "metadata": {
        "id": "K1vd2U86hV1E",
        "colab_type": "code",
        "colab": {
          "base_uri": "https://localhost:8080/",
          "height": 197
        },
        "outputId": "fd8d3678-4fbd-4ef8-f8e2-f57999502e48"
      },
      "source": [
        "list( spell.edit_distance_1(\"distance\") )[0:10]"
      ],
      "execution_count": 14,
      "outputs": [
        {
          "output_type": "execute_result",
          "data": {
            "text/plain": [
              "['odistance',\n",
              " 'disthance',\n",
              " 'd3istance',\n",
              " '8istance',\n",
              " 'disttnce',\n",
              " 'distance ',\n",
              " 'di6stance',\n",
              " 'distance5',\n",
              " 'iistance',\n",
              " 'distmnce']"
            ]
          },
          "metadata": {
            "tags": []
          },
          "execution_count": 14
        }
      ]
    },
    {
      "cell_type": "markdown",
      "metadata": {
        "id": "pgQUYnYliL8G",
        "colab_type": "text"
      },
      "source": [
        "`edit_distance_2(word)`: Returns a set of all strings at a Levenshtein Distance of two based on the alphabet of the selected language"
      ]
    },
    {
      "cell_type": "code",
      "metadata": {
        "id": "3X0Rn32Hhx-h",
        "colab_type": "code",
        "colab": {
          "base_uri": "https://localhost:8080/",
          "height": 197
        },
        "outputId": "8be6a58d-0e31-473a-ce5d-fe14bddad4f5"
      },
      "source": [
        "list( spell.edit_distance_2(\"documentation\") )[0:10]"
      ],
      "execution_count": 15,
      "outputs": [
        {
          "output_type": "execute_result",
          "data": {
            "text/plain": [
              "['do9cumentation',\n",
              " 'do9cumenta+ion',\n",
              " 'odo9cumentation',\n",
              " 'xo9cumentation',\n",
              " 'do9cumezntation',\n",
              " 'do9jcumentation',\n",
              " 'do9cumen!tation',\n",
              " 'dobcumentation',\n",
              " 'do9cumentationj',\n",
              " 'do9cumen4ation']"
            ]
          },
          "metadata": {
            "tags": []
          },
          "execution_count": 15
        }
      ]
    },
    {
      "cell_type": "code",
      "metadata": {
        "id": "nkSi_l4ViQqm",
        "colab_type": "code",
        "colab": {}
      },
      "source": [
        ""
      ],
      "execution_count": 0,
      "outputs": []
    }
  ]
}