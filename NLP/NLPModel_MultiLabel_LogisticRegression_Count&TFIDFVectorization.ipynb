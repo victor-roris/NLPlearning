{
  "nbformat": 4,
  "nbformat_minor": 0,
  "metadata": {
    "colab": {
      "name": "NLPModel_MultiLabel_LogisticRegression_Count&TFIDFVectorization.ipynb",
      "provenance": [],
      "include_colab_link": true
    },
    "kernelspec": {
      "name": "python3",
      "display_name": "Python 3"
    }
  },
  "cells": [
    {
      "cell_type": "markdown",
      "metadata": {
        "id": "view-in-github",
        "colab_type": "text"
      },
      "source": [
        "<a href=\"https://colab.research.google.com/github/victor-roris/mediumseries/blob/master/NLP/NLPModel_MultiLabel_LogisticRegression_Count%26TFIDFVectorization.ipynb\" target=\"_parent\"><img src=\"https://colab.research.google.com/assets/colab-badge.svg\" alt=\"Open In Colab\"/></a>"
      ]
    },
    {
      "cell_type": "markdown",
      "metadata": {
        "id": "GiNu4vdeja-F",
        "colab_type": "text"
      },
      "source": [
        "# NLP Model with Logistic Regression \n",
        "\n",
        "In this notebook, we are going to use a Logistic Regression Model to predict categories of text. Logistic regression is a simple and easy to understand classification algorithm, and Logistic regression can be easily generalized to multiple classes. To vectorize the text we are going to use the combination of CountVector (multi-hot array) and TFIDF approach.\n",
        "\n",
        "Logistic Regression: https://scikit-learn.org/stable/modules/generated/sklearn.linear_model.LogisticRegression.html\n",
        "\n",
        "Sklearn CountVectorizer: https://scikit-learn.org/stable/modules/generated/sklearn.feature_extraction.text.CountVectorizer.html\n",
        "\n",
        "Sklearn TFIDF: https://scikit-learn.org/stable/modules/generated/sklearn.feature_extraction.text.TfidfVectorizer.html\n",
        "\n",
        "Notebook adapted from: https://towardsdatascience.com/multi-class-text-classification-model-comparison-and-selection-5eb066197568\n",
        "\n"
      ]
    },
    {
      "cell_type": "code",
      "metadata": {
        "id": "BQ3smAWeT2qA",
        "colab_type": "code",
        "colab": {}
      },
      "source": [
        "import logging\n",
        "import pandas as pd\n",
        "import numpy as np\n",
        "from numpy import random\n",
        "import gensim\n",
        "import nltk\n",
        "from sklearn.model_selection import train_test_split\n",
        "from sklearn.feature_extraction.text import CountVectorizer, TfidfVectorizer\n",
        "from sklearn.metrics import accuracy_score, confusion_matrix\n",
        "import matplotlib.pyplot as plt\n",
        "from nltk.corpus import stopwords\n",
        "import re\n",
        "from bs4 import BeautifulSoup\n",
        "%matplotlib inline"
      ],
      "execution_count": 0,
      "outputs": []
    },
    {
      "cell_type": "code",
      "metadata": {
        "id": "f4TsDxwH6PdT",
        "colab_type": "code",
        "colab": {}
      },
      "source": [
        "import warnings\n",
        "warnings.filterwarnings('ignore')"
      ],
      "execution_count": 0,
      "outputs": []
    },
    {
      "cell_type": "markdown",
      "metadata": {
        "id": "o5MyShKjZfxw",
        "colab_type": "text"
      },
      "source": [
        "## Data"
      ]
    },
    {
      "cell_type": "markdown",
      "metadata": {
        "id": "njxPblU9UH3f",
        "colab_type": "text"
      },
      "source": [
        "### Fetch data\n",
        "\n",
        "We are using a relatively large data set of Stack Overflow questions and tags."
      ]
    },
    {
      "cell_type": "code",
      "metadata": {
        "id": "zxhJ4yEKUF0j",
        "colab_type": "code",
        "outputId": "d4e383b0-c58d-4ab1-c11b-289c5dde1025",
        "colab": {
          "base_uri": "https://localhost:8080/",
          "height": 359
        }
      },
      "source": [
        "df = pd.read_csv('https://storage.googleapis.com/tensorflow-workshop-examples/stack-overflow-data.csv')\n",
        "df = df[pd.notnull(df['tags'])]\n",
        "categories = df[\"tags\"].unique()\n",
        "\n",
        "print(f'Number of examples : {len(df)}')\n",
        "print(f'Number of words in the data: {df[\"post\"].apply(lambda x: len(x.split(\" \"))).sum()}')\n",
        "print(f'Number of categorie : {len(categories)}')\n",
        "print()\n",
        "print(df.head(10))\n",
        "print()\n",
        "print(f'Categories: {categories}')\n"
      ],
      "execution_count": 2,
      "outputs": [
        {
          "output_type": "stream",
          "text": [
            "Number of examples : 40000\n",
            "Number of words in the data: 10286120\n",
            "Number of categorie : 20\n",
            "\n",
            "                                                post           tags\n",
            "0  what is causing this behavior  in our c# datet...             c#\n",
            "1  have dynamic html load as if it was in an ifra...        asp.net\n",
            "2  how to convert a float value in to min:sec  i ...    objective-c\n",
            "3  .net framework 4 redistributable  just wonderi...           .net\n",
            "4  trying to calculate and print the mean and its...         python\n",
            "5  how to give alias name for my website  i have ...        asp.net\n",
            "6  window.open() returns null in angularjs  it wo...      angularjs\n",
            "7  identifying server timeout quickly in iphone  ...         iphone\n",
            "8  unknown method key  error in rails 2.3.8 unit ...  ruby-on-rails\n",
            "9  from the include  how to show and hide the con...      angularjs\n",
            "\n",
            "Categories: ['c#' 'asp.net' 'objective-c' '.net' 'python' 'angularjs' 'iphone'\n",
            " 'ruby-on-rails' 'ios' 'c' 'sql' 'java' 'jquery' 'css' 'c++' 'php'\n",
            " 'android' 'mysql' 'javascript' 'html']\n"
          ],
          "name": "stdout"
        }
      ]
    },
    {
      "cell_type": "markdown",
      "metadata": {
        "id": "BnYUb5ipUXol",
        "colab_type": "text"
      },
      "source": [
        "Visualize data"
      ]
    },
    {
      "cell_type": "code",
      "metadata": {
        "id": "e2JE3hdsUOdt",
        "colab_type": "code",
        "outputId": "dbc807cf-b947-42c8-81b4-f61ed4dc65dc",
        "colab": {
          "base_uri": "https://localhost:8080/",
          "height": 319
        }
      },
      "source": [
        "plt.figure(figsize=(10,4))\n",
        "df.tags.value_counts().plot(kind='bar');"
      ],
      "execution_count": 3,
      "outputs": [
        {
          "output_type": "display_data",
          "data": {
            "image/png": "[encoded data removed]",
            "text/plain": [
              "<Figure size 720x288 with 1 Axes>"
            ]
          },
          "metadata": {
            "tags": []
          }
        }
      ]
    },
    {
      "cell_type": "markdown",
      "metadata": {
        "id": "PlD5wfiTXKYn",
        "colab_type": "text"
      },
      "source": [
        "The classes are very well balanced."
      ]
    },
    {
      "cell_type": "markdown",
      "metadata": {
        "id": "vuoO7-dMXgbx",
        "colab_type": "text"
      },
      "source": [
        "### Text pre-processing\n",
        "\n",
        "Our text cleaning step includes HTML decoding, remove stop words, change text to lower case, remove punctuation, remove bad characters, and so on."
      ]
    },
    {
      "cell_type": "code",
      "metadata": {
        "id": "2Ah_0UP4YJ_q",
        "colab_type": "code",
        "outputId": "1efd5351-5b03-4459-a3c6-9b1cebd59637",
        "colab": {
          "base_uri": "https://localhost:8080/",
          "height": 71
        }
      },
      "source": [
        " nltk.download('stopwords')"
      ],
      "execution_count": 4,
      "outputs": [
        {
          "output_type": "stream",
          "text": [
            "[nltk_data] Downloading package stopwords to /root/nltk_data...\n",
            "[nltk_data]   Unzipping corpora/stopwords.zip.\n"
          ],
          "name": "stdout"
        },
        {
          "output_type": "execute_result",
          "data": {
            "text/plain": [
              "True"
            ]
          },
          "metadata": {
            "tags": []
          },
          "execution_count": 4
        }
      ]
    },
    {
      "cell_type": "code",
      "metadata": {
        "id": "XfukbGVgVFri",
        "colab_type": "code",
        "outputId": "c63e2c3d-f412-4a79-d919-d8fbb5877190",
        "colab": {
          "base_uri": "https://localhost:8080/",
          "height": 73
        }
      },
      "source": [
        "REPLACE_BY_SPACE_RE = re.compile('[/(){}\\[\\]\\|@,;]')\n",
        "BAD_SYMBOLS_RE = re.compile('[^0-9a-z #+_]')\n",
        "STOPWORDS = set(stopwords.words('english'))\n",
        "\n",
        "def clean_text(text):\n",
        "    \"\"\"\n",
        "        text: a string\n",
        "        \n",
        "        return: modified initial string\n",
        "    \"\"\"\n",
        "    text = BeautifulSoup(text, \"lxml\").text # HTML decoding\n",
        "    text = text.lower() # lowercase text\n",
        "    text = REPLACE_BY_SPACE_RE.sub(' ', text) # replace REPLACE_BY_SPACE_RE symbols by space in text\n",
        "    text = BAD_SYMBOLS_RE.sub('', text) # delete symbols which are in BAD_SYMBOLS_RE from text\n",
        "    text = ' '.join(word for word in text.split() if word not in STOPWORDS) # delete stopwors from text\n",
        "    return text\n",
        "    \n",
        "\n",
        "print(f'Example text previous cleaning : {df[\"post\"].values[10]}')\n",
        "\n",
        "df['post'] = df['post'].apply(clean_text)\n",
        "\n",
        "print(f'Example text previous cleaning : {df[\"post\"].values[10]}')"
      ],
      "execution_count": 5,
      "outputs": [
        {
          "output_type": "stream",
          "text": [
            "Example text previous cleaning : when we need interface c# <blockquote>    <strong>possible duplicate:</strong><br>   <a href= https://stackoverflow.com/questions/240152/why-would-i-want-to-use-interfaces >why would i want to use interfaces </a>   <a href= https://stackoverflow.com/questions/9451868/why-i-need-interface >why i need interface </a>    </blockquote>     i want to know where and when to use it     for example    <pre><code>interface idemo {  // function prototype  public void show(); }  // first class using the interface class myclass1 : idemo {  public void show()  {   // function body comes here   response.write( i m in myclass );  }  }  // second class using the interface class myclass2 : idemo {  public void show()   {   // function body comes here   response.write( i m in myclass2 );   response.write( so  what  );  } </code></pre>   these two classes has the same function name with different body. this can be even achieved without interface. then why we need an interface where and when to use it\n",
            "Example text previous cleaning : need interface c# possible duplicate would want use interfaces need interface want know use example interface idemo function prototype public void show first class using interface class myclass1 idemo public void show function body comes responsewrite myclass second class using interface class myclass2 idemo public void show function body comes responsewrite myclass2 responsewrite two classes function name different body even achieved without interface need interface use\n"
          ],
          "name": "stdout"
        }
      ]
    },
    {
      "cell_type": "code",
      "metadata": {
        "id": "ecM21JV9XQX6",
        "colab_type": "code",
        "outputId": "d5466956-da77-430d-afa1-575fe5028be2",
        "colab": {
          "base_uri": "https://localhost:8080/",
          "height": 35
        }
      },
      "source": [
        "print(f'Number of words in the cleaning data: {df[\"post\"].apply(lambda x: len(x.split(\" \"))).sum()}')"
      ],
      "execution_count": 6,
      "outputs": [
        {
          "output_type": "stream",
          "text": [
            "Number of words in the cleaning data: 3424297\n"
          ],
          "name": "stdout"
        }
      ]
    },
    {
      "cell_type": "markdown",
      "metadata": {
        "id": "k2mgT7Y9ZZUI",
        "colab_type": "text"
      },
      "source": [
        "### Prepare data"
      ]
    },
    {
      "cell_type": "code",
      "metadata": {
        "id": "6s6PyQv8ZRFo",
        "colab_type": "code",
        "colab": {}
      },
      "source": [
        "X = df.post\n",
        "y = df.tags\n",
        "X_train, X_test, y_train, y_test = train_test_split(X, y, test_size=0.3, random_state = 42)"
      ],
      "execution_count": 0,
      "outputs": []
    },
    {
      "cell_type": "markdown",
      "metadata": {
        "id": "MCojigo3ZjuY",
        "colab_type": "text"
      },
      "source": [
        "## Model training\n",
        "\n",
        "To train the model we will convert our text documents to a matrix of token counts (CountVectorizer), then transform the count matrix to a normalized tf-idf representation (tf-idf transformer). "
      ]
    },
    {
      "cell_type": "code",
      "metadata": {
        "id": "2yqBmbiBZiv3",
        "colab_type": "code",
        "colab": {}
      },
      "source": [
        "from sklearn.linear_model import LogisticRegression\n",
        "from sklearn.pipeline import Pipeline\n",
        "from sklearn.feature_extraction.text import TfidfTransformer\n",
        "\n",
        "logreg = Pipeline([('vect', CountVectorizer()),\n",
        "                ('tfidf', TfidfTransformer()),\n",
        "                ('clf', LogisticRegression(n_jobs=1, C=1e5)),\n",
        "               ])"
      ],
      "execution_count": 0,
      "outputs": []
    },
    {
      "cell_type": "markdown",
      "metadata": {
        "id": "aUVEDGuqk2vH",
        "colab_type": "text"
      },
      "source": [
        "We train the vectorizers and model"
      ]
    },
    {
      "cell_type": "code",
      "metadata": {
        "id": "T2VledCAZzQa",
        "colab_type": "code",
        "outputId": "00ba897b-9a0f-43e1-be16-1171b3c07465",
        "colab": {
          "base_uri": "https://localhost:8080/",
          "height": 521
        }
      },
      "source": [
        "%%time\n",
        "logreg.fit(X_train, y_train)"
      ],
      "execution_count": 10,
      "outputs": [
        {
          "output_type": "stream",
          "text": [
            "/usr/local/lib/python3.6/dist-packages/sklearn/linear_model/logistic.py:432: FutureWarning: Default solver will be changed to 'lbfgs' in 0.22. Specify a solver to silence this warning.\n",
            "  FutureWarning)\n",
            "/usr/local/lib/python3.6/dist-packages/sklearn/linear_model/logistic.py:469: FutureWarning: Default multi_class will be changed to 'auto' in 0.22. Specify the multi_class option to silence this warning.\n",
            "  \"this warning.\", FutureWarning)\n"
          ],
          "name": "stderr"
        },
        {
          "output_type": "stream",
          "text": [
            "CPU times: user 1min 1s, sys: 40.3 s, total: 1min 41s\n",
            "Wall time: 52.4 s\n"
          ],
          "name": "stdout"
        },
        {
          "output_type": "execute_result",
          "data": {
            "text/plain": [
              "Pipeline(memory=None,\n",
              "         steps=[('vect',\n",
              "                 CountVectorizer(analyzer='word', binary=False,\n",
              "                                 decode_error='strict',\n",
              "                                 dtype=<class 'numpy.int64'>, encoding='utf-8',\n",
              "                                 input='content', lowercase=True, max_df=1.0,\n",
              "                                 max_features=None, min_df=1,\n",
              "                                 ngram_range=(1, 1), preprocessor=None,\n",
              "                                 stop_words=None, strip_accents=None,\n",
              "                                 token_pattern='(?u)\\\\b\\\\w\\\\w+\\\\b',\n",
              "                                 tokenizer=None, vocabulary=None)),\n",
              "                ('tfidf',\n",
              "                 TfidfTransformer(norm='l2', smooth_idf=True,\n",
              "                                  sublinear_tf=False, use_idf=True)),\n",
              "                ('clf',\n",
              "                 LogisticRegression(C=100000.0, class_weight=None, dual=False,\n",
              "                                    fit_intercept=True, intercept_scaling=1,\n",
              "                                    l1_ratio=None, max_iter=100,\n",
              "                                    multi_class='warn', n_jobs=1, penalty='l2',\n",
              "                                    random_state=None, solver='warn',\n",
              "                                    tol=0.0001, verbose=0, warm_start=False))],\n",
              "         verbose=False)"
            ]
          },
          "metadata": {
            "tags": []
          },
          "execution_count": 10
        }
      ]
    },
    {
      "cell_type": "markdown",
      "metadata": {
        "id": "2c0-o_U0k8Ox",
        "colab_type": "text"
      },
      "source": [
        "## Model evaluation"
      ]
    },
    {
      "cell_type": "code",
      "metadata": {
        "id": "Pc6wcIBZZuMm",
        "colab_type": "code",
        "outputId": "93a4c3a6-8705-4b6d-a44d-2a7cbd9b0763",
        "colab": {
          "base_uri": "https://localhost:8080/",
          "height": 557
        }
      },
      "source": [
        "%%time\n",
        "from sklearn.metrics import classification_report\n",
        "y_pred = logreg.predict(X_test)\n",
        "\n",
        "print('accuracy %s' % accuracy_score(y_pred, y_test))\n",
        "print(classification_report(y_test, y_pred,target_names=categories))"
      ],
      "execution_count": 11,
      "outputs": [
        {
          "output_type": "stream",
          "text": [
            "accuracy 0.78175\n",
            "               precision    recall  f1-score   support\n",
            "\n",
            "           c#       0.70      0.62      0.66       613\n",
            "      asp.net       0.91      0.91      0.91       620\n",
            "  objective-c       0.97      0.94      0.95       587\n",
            "         .net       0.77      0.77      0.77       586\n",
            "       python       0.77      0.81      0.79       599\n",
            "    angularjs       0.59      0.58      0.59       589\n",
            "       iphone       0.78      0.75      0.76       594\n",
            "ruby-on-rails       0.82      0.85      0.83       610\n",
            "          ios       0.69      0.71      0.70       617\n",
            "            c       0.61      0.59      0.60       587\n",
            "          sql       0.64      0.63      0.63       611\n",
            "         java       0.82      0.83      0.83       594\n",
            "       jquery       0.78      0.78      0.78       619\n",
            "          css       0.84      0.85      0.84       574\n",
            "          c++       0.80      0.83      0.82       584\n",
            "          php       0.65      0.64      0.65       578\n",
            "      android       0.82      0.85      0.83       591\n",
            "        mysql       0.91      0.91      0.91       608\n",
            "   javascript       0.96      0.94      0.95       638\n",
            "         html       0.78      0.83      0.80       601\n",
            "\n",
            "     accuracy                           0.78     12000\n",
            "    macro avg       0.78      0.78      0.78     12000\n",
            " weighted avg       0.78      0.78      0.78     12000\n",
            "\n",
            "CPU times: user 1.14 s, sys: 27 ms, total: 1.17 s\n",
            "Wall time: 1.15 s\n"
          ],
          "name": "stdout"
        }
      ]
    },
    {
      "cell_type": "code",
      "metadata": {
        "id": "aFQ7LTUM4-Su",
        "colab_type": "code",
        "colab": {}
      },
      "source": [
        ""
      ],
      "execution_count": 0,
      "outputs": []
    }
  ]
}