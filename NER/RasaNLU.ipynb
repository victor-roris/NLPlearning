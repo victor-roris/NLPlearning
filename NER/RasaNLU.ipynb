{
  "nbformat": 4,
  "nbformat_minor": 0,
  "metadata": {
    "colab": {
      "name": "RasaNLU.ipynb",
      "provenance": [],
      "include_colab_link": true
    },
    "kernelspec": {
      "name": "python3",
      "display_name": "Python 3"
    }
  },
  "cells": [
    {
      "cell_type": "markdown",
      "metadata": {
        "id": "view-in-github",
        "colab_type": "text"
      },
      "source": [
        "<a href=\"https://colab.research.google.com/github/victor-roris/mediumseries/blob/master/NLP/RasaNLU.ipynb\" target=\"_parent\"><img src=\"https://colab.research.google.com/assets/colab-badge.svg\" alt=\"Open In Colab\"/></a>"
      ]
    },
    {
      "cell_type": "markdown",
      "metadata": {
        "id": "CJ8PSKvr6HkK",
        "colab_type": "text"
      },
      "source": [
        "# RASA NLU\n",
        "\n",
        "Rasa NLU is an open-source natural language processing tool for intent classification, response retrieval and entity extraction.\n",
        "\n",
        "In this notebook we extract the code of the Rasa scripts to have control about the package actions about Natural Language Understanding.\n",
        "\n",
        "https://rasa.com/docs/rasa/nlu/about/\n",
        "\n",
        "Github: https://github.com/RasaHQ/rasa\n"
      ]
    },
    {
      "cell_type": "markdown",
      "metadata": {
        "id": "t--nsqEqo1yl",
        "colab_type": "text"
      },
      "source": [
        "## Installation"
      ]
    },
    {
      "cell_type": "markdown",
      "metadata": {
        "id": "-va2wnBMAFCa",
        "colab_type": "text"
      },
      "source": [
        "Rasa NLU is an continuously evolving project. This means the code of this notebook can be deprecated in future version. For this reason, we freeze the version of the `rasa_nlu` package. "
      ]
    },
    {
      "cell_type": "code",
      "metadata": {
        "id": "CVTvc-S3l4_W",
        "colab_type": "code",
        "colab": {}
      },
      "source": [
        "! pip install rasa_nlu=='0.15.1'"
      ],
      "execution_count": 0,
      "outputs": []
    },
    {
      "cell_type": "markdown",
      "metadata": {
        "id": "t60ilF-pA1H7",
        "colab_type": "text"
      },
      "source": [
        "Some `pipelines` can need some packages.\n",
        "\n",
        "To know the exact packages you can need: https://github.com/RasaHQ/rasa/blob/master/requirements.txt"
      ]
    },
    {
      "cell_type": "code",
      "metadata": {
        "id": "J8pgXQN6yDhO",
        "colab_type": "code",
        "colab": {}
      },
      "source": [
        "! pip install \"sklearn-crfsuite==0.3.6\""
      ],
      "execution_count": 0,
      "outputs": []
    },
    {
      "cell_type": "markdown",
      "metadata": {
        "id": "lwoOdb9-o4zE",
        "colab_type": "text"
      },
      "source": [
        "## Paths definition"
      ]
    },
    {
      "cell_type": "markdown",
      "metadata": {
        "id": "7OZULsNZBPbr",
        "colab_type": "text"
      },
      "source": [
        "`rasa_nlu` works using files and folders as input and output. \n",
        "\n",
        "For this reason, for this demostration, in the notebook we are going to define some folderpaths and filepaths. "
      ]
    },
    {
      "cell_type": "code",
      "metadata": {
        "id": "InnWMeICskYg",
        "colab_type": "code",
        "colab": {}
      },
      "source": [
        "rasa_folder = \"./rasa\"\n",
        "rasa_data_folder = \"./rasa/data\"\n",
        "training_data_filepath = rasa_data_folder + \"/training.json\" #training.md\n",
        "evaluation_data_filepath = None \n",
        "pipeline_data_filepath = rasa_data_folder + \"/config.json\" \n",
        "models_folder  = rasa_folder + \"/model\" \n",
        "model_name = \"rasa_demo\""
      ],
      "execution_count": 0,
      "outputs": []
    },
    {
      "cell_type": "code",
      "metadata": {
        "id": "BMo-YuG55BPW",
        "colab_type": "code",
        "colab": {
          "base_uri": "https://localhost:8080/",
          "height": 53
        },
        "outputId": "c3a68f43-af01-4abe-adb9-ff1de5582384"
      },
      "source": [
        "print('Content of the rasa folder (it should not exist): ')\n",
        "!ls $rasa_folder"
      ],
      "execution_count": 2,
      "outputs": [
        {
          "output_type": "stream",
          "text": [
            "Content of the rasa folder (it should not exist): \n",
            "data\n"
          ],
          "name": "stdout"
        }
      ]
    },
    {
      "cell_type": "markdown",
      "metadata": {
        "id": "XAEHu20IBqqA",
        "colab_type": "text"
      },
      "source": [
        "To create files from strings."
      ]
    },
    {
      "cell_type": "code",
      "metadata": {
        "id": "maw_8Ujkr8WS",
        "colab_type": "code",
        "colab": {}
      },
      "source": [
        "import os\n",
        "def write_file(path, content):\n",
        "  os.makedirs(os.path.dirname(path), exist_ok=True)\n",
        "  f = open(path, \"w\")\n",
        "  f.write(content)\n",
        "  f.close()"
      ],
      "execution_count": 0,
      "outputs": []
    },
    {
      "cell_type": "markdown",
      "metadata": {
        "id": "I14xkUP5BvS_",
        "colab_type": "text"
      },
      "source": [
        "* **Training Data**\n",
        "\n",
        "To train the nlu model we have to provide training data. This data can be in format *markdown* or *json*. To know the structure of the file you can visit the web: https://rasa.com/docs/rasa/nlu/training-data-format/\n",
        "\n",
        "\n",
        "To this example, we take a training file found in the web. This training data allows to identify the intents: greet (ex., \"hi\"), affirm (ex., \"yes\"), ask_name, ask_weather, restaurant_search (ex., \"show me chinese restaurants\"), ...   \n",
        "\n",
        "In the intent `restaurant_search`, the model identify as entity the type of cuisine and location."
      ]
    },
    {
      "cell_type": "code",
      "metadata": {
        "id": "hNadhZc3qEOy",
        "colab_type": "code",
        "colab": {
          "base_uri": "https://localhost:8080/",
          "height": 53
        },
        "outputId": "35ff2bec-ead2-4f93-a3b1-6433f7d68582"
      },
      "source": [
        "import requests\n",
        "linkjson = \"https://raw.githubusercontent.com/RasaHQ/rasa/master/data/examples/rasa/demo-rasa.json\"\n",
        "linkmd = \"https://raw.githubusercontent.com/RasaHQ/rasa/master/data/examples/rasa/demo-rasa.md\"\n",
        "training_content = requests.get(linkjson)\n",
        "\n",
        "write_file(training_data_filepath, training_content.text)\n",
        "\n",
        "print('Content of the rasa data folder: ')\n",
        "!ls $rasa_data_folder"
      ],
      "execution_count": 4,
      "outputs": [
        {
          "output_type": "stream",
          "text": [
            "Content of the rasa data folder: \n",
            "config.json  training.json\n"
          ],
          "name": "stdout"
        }
      ]
    },
    {
      "cell_type": "markdown",
      "metadata": {
        "id": "2mvnC_YqDZMr",
        "colab_type": "text"
      },
      "source": [
        "* **Pipeline**\n",
        "\n",
        "`rasa_nlu` makes that the user selects the pipeline of components to execute to identify intents and entities.\n",
        "\n",
        "Currently, exist a list of preconfigure pipelines. But you can create your custom pipeline. \n",
        "\n",
        "To configure this pipeline you should create a file following a specific structure. This structure is explained in the web: https://rasa.com/docs/rasa/nlu/training-data-format/\n",
        "\n",
        "Some of this pipelines supports other languages than the English language. To know more visit: https://rasa.com/docs/rasa/nlu/language-support/\n",
        "\n",
        "Furthermore, at same as spaCy you can create your own components and you can integrate it in your pipeline: https://blog.rasa.com/enhancing-rasa-nlu-with-custom-components/\n",
        "\n",
        "In this example, we define a list of possible pipeline configurations."
      ]
    },
    {
      "cell_type": "code",
      "metadata": {
        "id": "sHR9Htc1tFuK",
        "colab_type": "code",
        "colab": {}
      },
      "source": [
        "## PRECONFIGURE PIPELINES\n",
        "\n",
        "rasa_pretraemb_config_content = \"\"\"\n",
        "language: \"en\"\n",
        "pipeline: \"pretrained_embeddings_spacy\"\n",
        "\"\"\"\n",
        "\n",
        "rasa_superemb_config_content = \"\"\"\n",
        "language: \"en\"\n",
        "pipeline: \"supervised_embeddings\"\n",
        "\"\"\"\n",
        "\n",
        "rasa_spaskl_config_content = \"\"\"\n",
        "language: \"en\"\n",
        "pipeline: \"spacy_sklearn\"\n",
        "\"\"\"\n",
        "\n",
        "## CUSOM PIPELINES\n",
        "rasa_manual_config_content = \"\"\"\n",
        "language: \"en\"\n",
        "pipeline:\n",
        "- name: \"SpacyNLP\"\n",
        "- name: \"SpacyTokenizer\"\n",
        "- name: \"SpacyFeaturizer\"\n",
        "- name: \"RegexFeaturizer\"\n",
        "- name: \"CRFEntityExtractor\"\n",
        "- name: \"EntitySynonymMapper\"\n",
        "- name: \"SklearnIntentClassifier\"\n",
        "\"\"\""
      ],
      "execution_count": 0,
      "outputs": []
    },
    {
      "cell_type": "markdown",
      "metadata": {
        "id": "0oVTh4O3EUS8",
        "colab_type": "text"
      },
      "source": [
        "We select and use one of this configurations"
      ]
    },
    {
      "cell_type": "code",
      "metadata": {
        "id": "DY7TGlQwuq6N",
        "colab_type": "code",
        "colab": {
          "base_uri": "https://localhost:8080/",
          "height": 53
        },
        "outputId": "c1513e9c-8922-4420-d4e8-7ea3b4528c91"
      },
      "source": [
        "write_file(pipeline_data_filepath, rasa_spaskl_config_content)\n",
        "\n",
        "print('Content of the rasa data folder: ')\n",
        "!ls $rasa_data_folder"
      ],
      "execution_count": 6,
      "outputs": [
        {
          "output_type": "stream",
          "text": [
            "Content of the rasa data folder: \n",
            "config.json  training.json\n"
          ],
          "name": "stdout"
        }
      ]
    },
    {
      "cell_type": "markdown",
      "metadata": {
        "id": "hEHl1r9EEbNC",
        "colab_type": "text"
      },
      "source": [
        "Now, we have the files with the training data and the pipeline configuration. The next step is training the NLU model."
      ]
    },
    {
      "cell_type": "markdown",
      "metadata": {
        "id": "2ST7fIqtpAmW",
        "colab_type": "text"
      },
      "source": [
        "## RASA_NLU training"
      ]
    },
    {
      "cell_type": "markdown",
      "metadata": {
        "id": "l__rTM22Eoei",
        "colab_type": "text"
      },
      "source": [
        "Training the NLU model allows us to have a model capable to identify from a text a list of intents and related entities.\n",
        "\n"
      ]
    },
    {
      "cell_type": "code",
      "metadata": {
        "id": "rfU9RaUOl62N",
        "colab_type": "code",
        "colab": {}
      },
      "source": [
        "from rasa_nlu.training_data import load_data\n",
        "from rasa_nlu import config\n",
        "from rasa_nlu.model import Trainer\n",
        "from rasa_nlu.test import run_evaluation"
      ],
      "execution_count": 0,
      "outputs": []
    },
    {
      "cell_type": "markdown",
      "metadata": {
        "id": "BxkSoZVAFjnI",
        "colab_type": "text"
      },
      "source": [
        "We load the training data from the previously created file"
      ]
    },
    {
      "cell_type": "code",
      "metadata": {
        "id": "jSOYIx92mKTw",
        "colab_type": "code",
        "colab": {}
      },
      "source": [
        "training_data = load_data(training_data_filepath)"
      ],
      "execution_count": 0,
      "outputs": []
    },
    {
      "cell_type": "markdown",
      "metadata": {
        "id": "uA4XP0l2GRK-",
        "colab_type": "text"
      },
      "source": [
        "We define the trainer with the previously created pipeline file as configuration. "
      ]
    },
    {
      "cell_type": "code",
      "metadata": {
        "id": "1q5YAS1mmia0",
        "colab_type": "code",
        "colab": {
          "base_uri": "https://localhost:8080/",
          "height": 64
        },
        "outputId": "b8b67820-3356-4e45-83b5-a111853516f3"
      },
      "source": [
        "#Define the trainer with the pipeline\n",
        "trainer = Trainer(config.load(pipeline_data_filepath))"
      ],
      "execution_count": 9,
      "outputs": [
        {
          "output_type": "display_data",
          "data": {
            "text/html": [
              "<p style=\"color: red;\">\n",
              "The default version of TensorFlow in Colab will soon switch to TensorFlow 2.x.<br>\n",
              "We recommend you <a href=\"https://www.tensorflow.org/guide/migrate\" target=\"_blank\">upgrade</a> now \n",
              "or ensure your notebook will continue to use TensorFlow 1.x via the <code>%tensorflow_version 1.x</code> magic:\n",
              "<a href=\"https://colab.research.google.com/notebooks/tensorflow_version.ipynb\" target=\"_blank\">more info</a>.</p>\n"
            ],
            "text/plain": [
              "<IPython.core.display.HTML object>"
            ]
          },
          "metadata": {
            "tags": []
          }
        }
      ]
    },
    {
      "cell_type": "markdown",
      "metadata": {
        "id": "556UUv-wGbgt",
        "colab_type": "text"
      },
      "source": [
        "Now, we run the training process with the training data"
      ]
    },
    {
      "cell_type": "code",
      "metadata": {
        "id": "iWYW7chioIHk",
        "colab_type": "code",
        "colab": {
          "base_uri": "https://localhost:8080/",
          "height": 521
        },
        "outputId": "7a59ecf4-1fce-4896-dadc-a3d51fd9a197"
      },
      "source": [
        "#Train the model\n",
        "interpreter = trainer.train(training_data)"
      ],
      "execution_count": 10,
      "outputs": [
        {
          "output_type": "stream",
          "text": [
            "Fitting 2 folds for each of 6 candidates, totalling 12 fits\n"
          ],
          "name": "stdout"
        },
        {
          "output_type": "stream",
          "text": [
            "[Parallel(n_jobs=1)]: Using backend SequentialBackend with 1 concurrent workers.\n",
            "/usr/local/lib/python3.6/dist-packages/sklearn/metrics/classification.py:1143: UndefinedMetricWarning: F-score is ill-defined and being set to 0.0 in labels with no predicted samples.\n",
            "  'precision', 'predicted', average, warn_for)\n",
            "/usr/local/lib/python3.6/dist-packages/sklearn/metrics/classification.py:1143: UndefinedMetricWarning: F-score is ill-defined and being set to 0.0 in labels with no predicted samples.\n",
            "  'precision', 'predicted', average, warn_for)\n",
            "/usr/local/lib/python3.6/dist-packages/sklearn/metrics/classification.py:1143: UndefinedMetricWarning: F-score is ill-defined and being set to 0.0 in labels with no predicted samples.\n",
            "  'precision', 'predicted', average, warn_for)\n",
            "/usr/local/lib/python3.6/dist-packages/sklearn/metrics/classification.py:1143: UndefinedMetricWarning: F-score is ill-defined and being set to 0.0 in labels with no predicted samples.\n",
            "  'precision', 'predicted', average, warn_for)\n",
            "/usr/local/lib/python3.6/dist-packages/sklearn/metrics/classification.py:1143: UndefinedMetricWarning: F-score is ill-defined and being set to 0.0 in labels with no predicted samples.\n",
            "  'precision', 'predicted', average, warn_for)\n",
            "/usr/local/lib/python3.6/dist-packages/sklearn/metrics/classification.py:1143: UndefinedMetricWarning: F-score is ill-defined and being set to 0.0 in labels with no predicted samples.\n",
            "  'precision', 'predicted', average, warn_for)\n",
            "/usr/local/lib/python3.6/dist-packages/sklearn/metrics/classification.py:1143: UndefinedMetricWarning: F-score is ill-defined and being set to 0.0 in labels with no predicted samples.\n",
            "  'precision', 'predicted', average, warn_for)\n",
            "/usr/local/lib/python3.6/dist-packages/sklearn/metrics/classification.py:1143: UndefinedMetricWarning: F-score is ill-defined and being set to 0.0 in labels with no predicted samples.\n",
            "  'precision', 'predicted', average, warn_for)\n",
            "/usr/local/lib/python3.6/dist-packages/sklearn/metrics/classification.py:1143: UndefinedMetricWarning: F-score is ill-defined and being set to 0.0 in labels with no predicted samples.\n",
            "  'precision', 'predicted', average, warn_for)\n",
            "/usr/local/lib/python3.6/dist-packages/sklearn/metrics/classification.py:1143: UndefinedMetricWarning: F-score is ill-defined and being set to 0.0 in labels with no predicted samples.\n",
            "  'precision', 'predicted', average, warn_for)\n",
            "/usr/local/lib/python3.6/dist-packages/sklearn/metrics/classification.py:1143: UndefinedMetricWarning: F-score is ill-defined and being set to 0.0 in labels with no predicted samples.\n",
            "  'precision', 'predicted', average, warn_for)\n",
            "/usr/local/lib/python3.6/dist-packages/sklearn/metrics/classification.py:1143: UndefinedMetricWarning: F-score is ill-defined and being set to 0.0 in labels with no predicted samples.\n",
            "  'precision', 'predicted', average, warn_for)\n",
            "[Parallel(n_jobs=1)]: Done  12 out of  12 | elapsed:    0.1s finished\n"
          ],
          "name": "stderr"
        },
        {
          "output_type": "execute_result",
          "data": {
            "text/plain": [
              "<rasa_nlu.model.Interpreter at 0x7f369169dfd0>"
            ]
          },
          "metadata": {
            "tags": []
          },
          "execution_count": 10
        }
      ]
    },
    {
      "cell_type": "markdown",
      "metadata": {
        "id": "R2j41QHOGiew",
        "colab_type": "text"
      },
      "source": [
        "The next step is stored the trained NLU model"
      ]
    },
    {
      "cell_type": "code",
      "metadata": {
        "id": "AOJl1Y_boryN",
        "colab_type": "code",
        "colab": {}
      },
      "source": [
        "#Store the trained model\n",
        "model_directory = trainer.persist(models_folder, project_name=model_name)"
      ],
      "execution_count": 0,
      "outputs": []
    },
    {
      "cell_type": "code",
      "metadata": {
        "id": "pziGsi4Fz1m_",
        "colab_type": "code",
        "colab": {
          "base_uri": "https://localhost:8080/",
          "height": 89
        },
        "outputId": "053868f2-ed7f-4ab8-cef6-a1ff51ccad80"
      },
      "source": [
        "print('Content of the rasa model folder: ')\n",
        "!ls $model_directory"
      ],
      "execution_count": 12,
      "outputs": [
        {
          "output_type": "stream",
          "text": [
            "Content of the rasa model folder: \n",
            "component_3_RegexFeaturizer.pkl       component_6_SklearnIntentClassifier.pkl\n",
            "component_4_CRFEntityExtractor.pkl    metadata.json\n",
            "component_5_EntitySynonymMapper.json  training_data.json\n"
          ],
          "name": "stdout"
        }
      ]
    },
    {
      "cell_type": "markdown",
      "metadata": {
        "id": "hBunpoBdGqyY",
        "colab_type": "text"
      },
      "source": [
        "Finally, if we have evaluation labelled examples (exactly the same structure of the training examples), we can run an evaluation."
      ]
    },
    {
      "cell_type": "code",
      "metadata": {
        "id": "4i7-hTZqovTM",
        "colab_type": "code",
        "colab": {}
      },
      "source": [
        "#Run evaluation of the trained model\n",
        "if evaluation_data_filepath != None:\n",
        "  run_evaluation(data_path, model_directory)"
      ],
      "execution_count": 0,
      "outputs": []
    },
    {
      "cell_type": "markdown",
      "metadata": {
        "id": "ty3vFJncpGpo",
        "colab_type": "text"
      },
      "source": [
        "## RASA_NLU Interpretation\n",
        "\n",
        "We use the trained model for intent classification and entity extraction. The interpreter result follow a specific structure. You can find some output example in the web: https://rasa.com/docs/rasa/nlu/about/\n"
      ]
    },
    {
      "cell_type": "code",
      "metadata": {
        "id": "93p9J_EKpd2g",
        "colab_type": "code",
        "colab": {}
      },
      "source": [
        "import pprint\n",
        "from rasa_nlu.model import Interpreter"
      ],
      "execution_count": 0,
      "outputs": []
    },
    {
      "cell_type": "markdown",
      "metadata": {
        "id": "-G40RED_mq9I",
        "colab_type": "text"
      },
      "source": [
        "We can load the trained model in a new interpreter"
      ]
    },
    {
      "cell_type": "code",
      "metadata": {
        "id": "gmQ0-fbEpP4b",
        "colab_type": "code",
        "colab": {}
      },
      "source": [
        "# Define the Interpreter (with the appropriate model)\n",
        "interpreter = Interpreter.load(model_directory)"
      ],
      "execution_count": 0,
      "outputs": []
    },
    {
      "cell_type": "markdown",
      "metadata": {
        "id": "dUJAl2JYmxJo",
        "colab_type": "text"
      },
      "source": [
        "* **Example 1**"
      ]
    },
    {
      "cell_type": "code",
      "metadata": {
        "id": "0m5BDekppJ3i",
        "colab_type": "code",
        "colab": {}
      },
      "source": [
        "text = \"Hello\""
      ],
      "execution_count": 0,
      "outputs": []
    },
    {
      "cell_type": "code",
      "metadata": {
        "id": "OQB8l7VvpXdk",
        "colab_type": "code",
        "colab": {}
      },
      "source": [
        "# Get the interpretation of the text using the Interpreter\n",
        "interpretation = interpreter.parse(text)"
      ],
      "execution_count": 0,
      "outputs": []
    },
    {
      "cell_type": "code",
      "metadata": {
        "id": "taJvJjv8paTO",
        "colab_type": "code",
        "colab": {
          "base_uri": "https://localhost:8080/",
          "height": 233
        },
        "outputId": "658a06f3-86ca-43a4-b3ce-f9f068adbaf0"
      },
      "source": [
        "# Print by console the interpretation\n",
        "pprint.pprint(interpretation)"
      ],
      "execution_count": 18,
      "outputs": [
        {
          "output_type": "stream",
          "text": [
            "{'entities': [],\n",
            " 'intent': {'confidence': 0.5658857462138052, 'name': 'greet'},\n",
            " 'intent_ranking': [{'confidence': 0.5658857462138052, 'name': 'greet'},\n",
            "                    {'confidence': 0.24832025137140976, 'name': 'goodbye'},\n",
            "                    {'confidence': 0.1362036966385877, 'name': 'affirm'},\n",
            "                    {'confidence': 0.019737694697191617,\n",
            "                     'name': 'chitchat/ask_name'},\n",
            "                    {'confidence': 0.016811858550056086,\n",
            "                     'name': 'chitchat/ask_weather'},\n",
            "                    {'confidence': 0.01304075252894959,\n",
            "                     'name': 'restaurant_search'}],\n",
            " 'text': 'Hello'}\n"
          ],
          "name": "stdout"
        }
      ]
    },
    {
      "cell_type": "markdown",
      "metadata": {
        "id": "s09RbA5Gm1kj",
        "colab_type": "text"
      },
      "source": [
        "* **Example 2**"
      ]
    },
    {
      "cell_type": "code",
      "metadata": {
        "id": "PCTLxJTkm4Hh",
        "colab_type": "code",
        "colab": {}
      },
      "source": [
        "text = \"show me chinese resturants in the west\""
      ],
      "execution_count": 0,
      "outputs": []
    },
    {
      "cell_type": "code",
      "metadata": {
        "id": "gneC0N7em4LF",
        "colab_type": "code",
        "colab": {}
      },
      "source": [
        "# Get the interpretation of the text using the Interpreter\n",
        "interpretation = interpreter.parse(text)"
      ],
      "execution_count": 0,
      "outputs": []
    },
    {
      "cell_type": "code",
      "metadata": {
        "id": "9-iz7-tnnJn1",
        "colab_type": "code",
        "colab": {
          "base_uri": "https://localhost:8080/",
          "height": 449
        },
        "outputId": "f75ce829-adbb-4dd1-b677-58ce0ed773df"
      },
      "source": [
        "# Print by console the interpretation\n",
        "pprint.pprint(interpretation)"
      ],
      "execution_count": 33,
      "outputs": [
        {
          "output_type": "stream",
          "text": [
            "{'entities': [{'confidence': 0.5155491861262322,\n",
            "               'end': 15,\n",
            "               'entity': 'cuisine',\n",
            "               'extractor': 'CRFEntityExtractor',\n",
            "               'processors': ['EntitySynonymMapper'],\n",
            "               'start': 8,\n",
            "               'value': 'chinese'},\n",
            "              {'confidence': 0.808502143057703,\n",
            "               'end': 38,\n",
            "               'entity': 'location',\n",
            "               'extractor': 'CRFEntityExtractor',\n",
            "               'start': 34,\n",
            "               'value': 'west'}],\n",
            " 'intent': {'confidence': 0.7371095381829954, 'name': 'restaurant_search'},\n",
            " 'intent_ranking': [{'confidence': 0.7371095381829954,\n",
            "                     'name': 'restaurant_search'},\n",
            "                    {'confidence': 0.08972339958627339, 'name': 'affirm'},\n",
            "                    {'confidence': 0.05145488831184812,\n",
            "                     'name': 'chitchat/ask_name'},\n",
            "                    {'confidence': 0.04780190574297566, 'name': 'goodbye'},\n",
            "                    {'confidence': 0.045195788574323166,\n",
            "                     'name': 'chitchat/ask_weather'},\n",
            "                    {'confidence': 0.028714479601584318, 'name': 'greet'}],\n",
            " 'text': 'show me chinese resturants in the west'}\n"
          ],
          "name": "stdout"
        }
      ]
    },
    {
      "cell_type": "markdown",
      "metadata": {
        "id": "yeNHcBShnY_Z",
        "colab_type": "text"
      },
      "source": [
        "To finish with the example, we remove the files created."
      ]
    },
    {
      "cell_type": "code",
      "metadata": {
        "id": "D4mNS_7czBzI",
        "colab_type": "code",
        "colab": {
          "base_uri": "https://localhost:8080/",
          "height": 71
        },
        "outputId": "6bc5f699-91aa-4397-d7ab-725d10860a5e"
      },
      "source": [
        "print(\"Remove the rasa folder\")\n",
        "!rm -rf $rasa_folder\n",
        "\n",
        "print('Exist rasa folder now? ')\n",
        "!ls $rasa_folder"
      ],
      "execution_count": 34,
      "outputs": [
        {
          "output_type": "stream",
          "text": [
            "Remove the rasa folder\n",
            "Exist rasa folder now? \n",
            "ls: cannot access './rasa': No such file or directory\n"
          ],
          "name": "stdout"
        }
      ]
    }
  ]
}