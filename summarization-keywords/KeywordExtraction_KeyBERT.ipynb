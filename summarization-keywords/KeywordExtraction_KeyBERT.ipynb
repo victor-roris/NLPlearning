{
  "nbformat": 4,
  "nbformat_minor": 0,
  "metadata": {
    "colab": {
      "name": "KeywordExtraction-KeyBERT.ipynb",
      "provenance": [],
      "collapsed_sections": [],
      "authorship_tag": "ABX9TyOlO0GchgaZ6bZGtH1C9sPg",
      "include_colab_link": true
    },
    "kernelspec": {
      "name": "python3",
      "display_name": "Python 3"
    },
    "language_info": {
      "name": "python"
    }
  },
  "cells": [
    {
      "cell_type": "markdown",
      "metadata": {
        "id": "view-in-github",
        "colab_type": "text"
      },
      "source": [
        "<a href=\"https://colab.research.google.com/github/victor-roris/NLPlearning/blob/master/summarization-keywords/KeywordExtraction_KeyBERT.ipynb\" target=\"_parent\"><img src=\"https://colab.research.google.com/assets/colab-badge.svg\" alt=\"Open In Colab\"/></a>"
      ]
    },
    {
      "cell_type": "markdown",
      "metadata": {
        "id": "bVOZL1OoqoKj"
      },
      "source": [
        "# KeyBERT\n",
        "\n",
        "KeyBERT is a minimal and easy-to-use keyword extraction technique that \n",
        "uses BERT-embeddings and simple cosine similarity to find the sub-phrases in a document that are the most similar to the document itself.\n",
        "\n",
        "\n",
        "Github: https://github.com/MaartenGr/KeyBERT\n",
        "\n",
        "Tutorial: https://towardsdatascience.com/keyword-extraction-with-bert-724efca412ea"
      ]
    },
    {
      "cell_type": "markdown",
      "metadata": {
        "id": "NJE1xkesqUMO"
      },
      "source": [
        "## Install"
      ]
    },
    {
      "cell_type": "code",
      "metadata": {
        "id": "YWxb1Z04aMvm"
      },
      "source": [
        "!pip install sentence-transformers"
      ],
      "execution_count": null,
      "outputs": []
    },
    {
      "cell_type": "markdown",
      "metadata": {
        "id": "zt0Y9U6BSOH8"
      },
      "source": [
        "## Document of study\n",
        "\n",
        "We are going to apply keyword Extraction algorithms in a specific text. The idea is use always the same content to study the different results. At same time, it is important know the document to evaluate if the results are valid or not. \n",
        "\n",
        "To reach this goal, we are going to use an scientific article text. Furthermore, we remove the abstract and the keywords of the content.\n",
        "\n",
        "The authors labelled the document with the abstract and keywords:\n",
        "\n",
        "* **Abstract**: The provision of comprehensive support for traceability and control is a raising demand in some environments such as the eHealth domain where processes can be of critical importance. This paper provides a detailed and thoughtful description of a holistic platform for the characterization and control of processes in the frame of the HACCP context. Traceability features are fully integrated in the model along with support for services concerned with information for the platform users. These features are provided using already tested technologies (RESTful models, QR Codes) and low cost devices (regular smartphones).\n",
        "\n",
        "* **Keywords**: traceability, eHealth, software platform, mobile environments\n"
      ]
    },
    {
      "cell_type": "markdown",
      "metadata": {
        "id": "zuF9hHkNOHdJ"
      },
      "source": [
        "Download the text file"
      ]
    },
    {
      "cell_type": "code",
      "metadata": {
        "id": "jOzgy9l-INWF"
      },
      "source": [
        "!wget -O article.txt https://www.dropbox.com/s/1mz0ociy6ipz67q/victor_roris-worldcist2016.txt?dl=1 "
      ],
      "execution_count": null,
      "outputs": []
    },
    {
      "cell_type": "markdown",
      "metadata": {
        "id": "9Hf8Qp46Ujs_"
      },
      "source": [
        "Read the content"
      ]
    },
    {
      "cell_type": "code",
      "metadata": {
        "id": "ObFdiNydJMJ1"
      },
      "source": [
        "# Open a file: file\n",
        "content = \"\"\n",
        "with open('article.txt',mode='r') as file:\n",
        "  content = file.read()"
      ],
      "execution_count": 1,
      "outputs": []
    },
    {
      "cell_type": "code",
      "metadata": {
        "colab": {
          "base_uri": "https://localhost:8080/"
        },
        "id": "1KPCRrisJPog",
        "outputId": "50b65995-f57e-4423-9ad9-95153dab9d72"
      },
      "source": [
        "print(f\"Number of words : {len(content.split())}\")\n",
        "print(\"First lines:\")\n",
        "for line in content.split(\"\\n\")[0:3]:\n",
        "  print(line)"
      ],
      "execution_count": 9,
      "outputs": [
        {
          "output_type": "stream",
          "text": [
            "Number of words : 3830\n",
            "First lines:\n",
            "﻿________________\n",
            "A telematic based approach towards the normalization of clinical praxis\n",
            "Víctor M. Alonso Rorís1, Juan M. Santos Gago1, Luis Álvarez Sabucedo1, \n"
          ],
          "name": "stdout"
        }
      ]
    },
    {
      "cell_type": "markdown",
      "metadata": {
        "id": "fAYO4Ru9a2Wl"
      },
      "source": [
        "## Minimal method of Keyword Extraction with Bert\n",
        "\n",
        "In this section we described the algorithm that the KeyBert use to identify and extract the keywords."
      ]
    },
    {
      "cell_type": "markdown",
      "metadata": {
        "id": "QPXv9GVCakNf"
      },
      "source": [
        "### Candidate Keywords/Keyphrases\n",
        "\n",
        "We start by creating a list of candidate keywords or keyphrases from a document. Although many focus on noun phrases, we are going to keep it simple by using Scikit-Learns CountVectorizer. This allows us to specify the length of the keywords and make them into keyphrases. It also is a nice method for quickly removing stop words."
      ]
    },
    {
      "cell_type": "code",
      "metadata": {
        "id": "NbHZ1mxaaN2E"
      },
      "source": [
        "from sklearn.feature_extraction.text import CountVectorizer\n",
        "\n",
        "n_gram_range = (3, 3)\n",
        "stop_words = \"english\"\n",
        "\n",
        "# Extract candidate words/phrases\n",
        "count = CountVectorizer(ngram_range=n_gram_range, stop_words=stop_words).fit([content])\n",
        "candidates = count.get_feature_names()"
      ],
      "execution_count": 10,
      "outputs": []
    },
    {
      "cell_type": "code",
      "metadata": {
        "colab": {
          "base_uri": "https://localhost:8080/",
          "height": 399
        },
        "id": "_pIYFYKgvvH8",
        "outputId": "3951531f-603b-43cb-e4db-2b614db0afa7"
      },
      "source": [
        "print(f\"Number of keyword candidates : {len(candidates)}\")\n",
        "\n",
        "print(\"Some of them are :\")\n",
        "display(candidates[100:120])\n",
        "print(\"...\")"
      ],
      "execution_count": 17,
      "outputs": [
        {
          "output_type": "stream",
          "text": [
            "Number of keyword candidates : 2119\n",
            "Some of them are :\n"
          ],
          "name": "stdout"
        },
        {
          "output_type": "display_data",
          "data": {
            "text/plain": [
              "['ability track history',\n",
              " 'able access server',\n",
              " 'able navigate different',\n",
              " 'absence presence particular',\n",
              " 'abstract characterization application',\n",
              " 'acceptance environments health',\n",
              " 'access basic features',\n",
              " 'access current mobile',\n",
              " 'access relevant information',\n",
              " 'access server functions',\n",
              " 'access statistics plots',\n",
              " 'access web pages',\n",
              " 'accessed list filtered',\n",
              " 'accessed proper authorization',\n",
              " 'accessible operations referenced',\n",
              " 'according different criteria',\n",
              " 'according physical biological',\n",
              " 'according specific needs',\n",
              " 'according usage model',\n",
              " 'account user moment']"
            ]
          },
          "metadata": {
            "tags": []
          }
        },
        {
          "output_type": "stream",
          "text": [
            "...\n"
          ],
          "name": "stdout"
        }
      ]
    },
    {
      "cell_type": "markdown",
      "metadata": {
        "id": "pnjbgFrCa_jW"
      },
      "source": [
        "### Embeddings\n",
        "\n",
        "Next, we convert both the document as well as the candidate keywords/keyphrases to numerical data. We use BERT for this purpose as it has shown great results for both similarity- and paraphrasing tasks."
      ]
    },
    {
      "cell_type": "code",
      "metadata": {
        "id": "CDZKT16fakyl"
      },
      "source": [
        "from sentence_transformers import SentenceTransformer\n",
        "\n",
        "model = SentenceTransformer('distilbert-base-nli-mean-tokens')\n",
        "doc_embedding = model.encode([content])\n",
        "candidate_embeddings = model.encode(candidates)"
      ],
      "execution_count": 11,
      "outputs": []
    },
    {
      "cell_type": "code",
      "metadata": {
        "colab": {
          "base_uri": "https://localhost:8080/"
        },
        "id": "YWIu_he7wT3W",
        "outputId": "cef7ebd9-cdd3-466d-8edb-c1dba2fe3779"
      },
      "source": [
        "doc_embedding.shape"
      ],
      "execution_count": 19,
      "outputs": [
        {
          "output_type": "execute_result",
          "data": {
            "text/plain": [
              "(1, 768)"
            ]
          },
          "metadata": {
            "tags": []
          },
          "execution_count": 19
        }
      ]
    },
    {
      "cell_type": "code",
      "metadata": {
        "colab": {
          "base_uri": "https://localhost:8080/"
        },
        "id": "KssI6BkivF3L",
        "outputId": "5ceacc07-1162-43cd-deda-4b5f14288f41"
      },
      "source": [
        "candidate_embeddings.shape"
      ],
      "execution_count": 21,
      "outputs": [
        {
          "output_type": "execute_result",
          "data": {
            "text/plain": [
              "(2119, 768)"
            ]
          },
          "metadata": {
            "tags": []
          },
          "execution_count": 21
        }
      ]
    },
    {
      "cell_type": "markdown",
      "metadata": {
        "id": "VbIUwj4kbQKm"
      },
      "source": [
        "### Cosine Similarity\n",
        "\n",
        "In the final step, we want to find the candidates that are most similar to the document. "
      ]
    },
    {
      "cell_type": "code",
      "metadata": {
        "id": "cS4bluo8bGjX"
      },
      "source": [
        "from sklearn.metrics.pairwise import cosine_similarity\n",
        "\n",
        "top_n = 20\n",
        "distances = cosine_similarity(doc_embedding, candidate_embeddings)\n",
        "keywords = [candidates[index] for index in distances.argsort()[0][-top_n:]]"
      ],
      "execution_count": 12,
      "outputs": []
    },
    {
      "cell_type": "code",
      "metadata": {
        "colab": {
          "base_uri": "https://localhost:8080/"
        },
        "id": "uD9I_BVnbSeq",
        "outputId": "17c1199f-e8d4-42b1-f2b6-602fe03a06ed"
      },
      "source": [
        "keywords"
      ],
      "execution_count": 13,
      "outputs": [
        {
          "output_type": "execute_result",
          "data": {
            "text/plain": [
              "['________________ telematic based',\n",
              " 'journal medical internet',\n",
              " 'medicine technology 41',\n",
              " 'domain clinical practice',\n",
              " 'principles applications springer',\n",
              " 'clinical praxis víctor',\n",
              " 'applications springer science',\n",
              " 'telematics solutions designed',\n",
              " 'nutrición clínica el',\n",
              " 'health history science',\n",
              " 'video tutorials manuals',\n",
              " 'hoc telematics solutions',\n",
              " 'university vigo 36310',\n",
              " 'medical informatics association',\n",
              " 'unidad nutrición clínica',\n",
              " 'telematic engineering department',\n",
              " 'sanz valero2 telematic',\n",
              " 'clinical medicine bmj',\n",
              " 'medical internet research',\n",
              " 'valero2 telematic engineering']"
            ]
          },
          "metadata": {
            "tags": []
          },
          "execution_count": 13
        }
      ]
    },
    {
      "cell_type": "markdown",
      "metadata": {
        "id": "OR6pttURq8l3"
      },
      "source": [
        "## KeyBERT library\n",
        "\n"
      ]
    },
    {
      "cell_type": "code",
      "metadata": {
        "id": "RCNrKsCmbhTE"
      },
      "source": [
        "! pip install keybert[all]"
      ],
      "execution_count": null,
      "outputs": []
    },
    {
      "cell_type": "markdown",
      "metadata": {
        "id": "RXqfeYmLswXU"
      },
      "source": [
        "Minimal example"
      ]
    },
    {
      "cell_type": "code",
      "metadata": {
        "id": "taM5_MPwq-Fx"
      },
      "source": [
        "from keybert import KeyBERT\n",
        "kw_model = KeyBERT('distilbert-base-nli-mean-tokens')\n",
        "keywords = kw_model.extract_keywords(content)"
      ],
      "execution_count": 2,
      "outputs": []
    },
    {
      "cell_type": "code",
      "metadata": {
        "colab": {
          "base_uri": "https://localhost:8080/"
        },
        "id": "xksKJGkhsCf5",
        "outputId": "4f079387-3bb6-4a5e-a2e6-4bc225b90c3f"
      },
      "source": [
        "keywords"
      ],
      "execution_count": 5,
      "outputs": [
        {
          "output_type": "execute_result",
          "data": {
            "text/plain": [
              "[('telematics', 0.4772),\n",
              " ('clínica', 0.4731),\n",
              " ('medicine', 0.4718),\n",
              " ('dbpedia', 0.4575),\n",
              " ('hospitalaria', 0.4334)]"
            ]
          },
          "metadata": {
            "tags": []
          },
          "execution_count": 5
        }
      ]
    },
    {
      "cell_type": "markdown",
      "metadata": {
        "id": "h1idtmYGrJvQ"
      },
      "source": [
        "You can set keyphrase_ngram_range to set the length of the resulting keywords/keyphrases:"
      ]
    },
    {
      "cell_type": "code",
      "metadata": {
        "colab": {
          "base_uri": "https://localhost:8080/"
        },
        "id": "lRqVP0VJrKMC",
        "outputId": "5a99c2a7-1c21-4666-86fe-9f373e9731f4"
      },
      "source": [
        "kw_model.extract_keywords(content, keyphrase_ngram_range=(3, 3), stop_words=None)"
      ],
      "execution_count": 4,
      "outputs": [
        {
          "output_type": "execute_result",
          "data": {
            "text/plain": [
              "[('valero2 telematic engineering', 0.6617),\n",
              " ('medical internet research', 0.6385),\n",
              " ('clinical medicine bmj', 0.63),\n",
              " ('sanz valero2 telematic', 0.6164),\n",
              " ('telematic engineering department', 0.613)]"
            ]
          },
          "metadata": {
            "tags": []
          },
          "execution_count": 4
        }
      ]
    },
    {
      "cell_type": "markdown",
      "metadata": {
        "id": "GgJO_h-bs5HY"
      },
      "source": [
        "Max Sum Similarity"
      ]
    },
    {
      "cell_type": "code",
      "metadata": {
        "colab": {
          "base_uri": "https://localhost:8080/"
        },
        "id": "29Jh1ftFrcg5",
        "outputId": "f207d84d-9462-479d-d960-cbf182f36296"
      },
      "source": [
        "kw_model.extract_keywords(content, keyphrase_ngram_range=(3, 3), stop_words='english', \n",
        "                              use_maxsum=True, nr_candidates=20, top_n=5)"
      ],
      "execution_count": 6,
      "outputs": [
        {
          "output_type": "execute_result",
          "data": {
            "text/plain": [
              "[('________________ telematic based', 0.5062),\n",
              " ('medicine technology 41', 0.4976),\n",
              " ('health history science', 0.4705),\n",
              " ('video tutorials manuals', 0.3966),\n",
              " ('university vigo 36310', 0.3924)]"
            ]
          },
          "metadata": {
            "tags": []
          },
          "execution_count": 6
        }
      ]
    },
    {
      "cell_type": "markdown",
      "metadata": {
        "id": "BdZpNN_ltCFf"
      },
      "source": [
        " Maximal Marginal Relevance with high diversity"
      ]
    },
    {
      "cell_type": "code",
      "metadata": {
        "colab": {
          "base_uri": "https://localhost:8080/"
        },
        "id": "K6r_Zb5lsJVJ",
        "outputId": "b6e2c82a-b4bb-42bc-a744-adcbb9caf5ad"
      },
      "source": [
        "kw_model.extract_keywords(content, keyphrase_ngram_range=(3, 3), stop_words='english', \n",
        "                              use_mmr=True, diversity=0.7)"
      ],
      "execution_count": 7,
      "outputs": [
        {
          "output_type": "execute_result",
          "data": {
            "text/plain": [
              "[('valero2 telematic engineering', 0.6617),\n",
              " ('science nutrition annals', 0.4805),\n",
              " ('user weekly monthly', 0.2615),\n",
              " ('managers perform better', 0.1867),\n",
              " ('thesis university california', 0.4465)]"
            ]
          },
          "metadata": {
            "tags": []
          },
          "execution_count": 7
        }
      ]
    },
    {
      "cell_type": "markdown",
      "metadata": {
        "id": "l7N4Ya-6tLxI"
      },
      "source": [
        "Maximal Marginal Relevance with low diversity"
      ]
    },
    {
      "cell_type": "code",
      "metadata": {
        "colab": {
          "base_uri": "https://localhost:8080/"
        },
        "id": "qiiHDVBYsQ66",
        "outputId": "a8ae8529-ee81-4e3e-a8a8-6f7504771ceb"
      },
      "source": [
        "kw_model.extract_keywords(content, keyphrase_ngram_range=(3, 3), stop_words='english', \n",
        "                              use_mmr=True, diversity=0.2)"
      ],
      "execution_count": 8,
      "outputs": [
        {
          "output_type": "execute_result",
          "data": {
            "text/plain": [
              "[('valero2 telematic engineering', 0.6617),\n",
              " ('medical internet research', 0.6385),\n",
              " ('university vigo 36310', 0.6084),\n",
              " ('clinical medicine bmj', 0.63),\n",
              " ('video tutorials manuals', 0.5976)]"
            ]
          },
          "metadata": {
            "tags": []
          },
          "execution_count": 8
        }
      ]
    },
    {
      "cell_type": "code",
      "metadata": {
        "id": "iBApwh7lsUYj"
      },
      "source": [
        ""
      ],
      "execution_count": null,
      "outputs": []
    }
  ]
}