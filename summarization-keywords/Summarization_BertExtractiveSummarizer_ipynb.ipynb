{
  "nbformat": 4,
  "nbformat_minor": 0,
  "metadata": {
    "colab": {
      "name": "Summarization-BertExtractiveSummarizer.ipynb.ipynb",
      "provenance": [],
      "authorship_tag": "ABX9TyNL5Ck5ZzE0rqd4zKvHvVEh",
      "include_colab_link": true
    },
    "kernelspec": {
      "name": "python3",
      "display_name": "Python 3"
    },
    "language_info": {
      "name": "python"
    }
  },
  "cells": [
    {
      "cell_type": "markdown",
      "metadata": {
        "id": "view-in-github",
        "colab_type": "text"
      },
      "source": [
        "<a href=\"https://colab.research.google.com/github/victor-roris/NLPlearning/blob/master/summarization-keywords/Summarization_BertExtractiveSummarizer_ipynb.ipynb\" target=\"_parent\"><img src=\"https://colab.research.google.com/assets/colab-badge.svg\" alt=\"Open In Colab\"/></a>"
      ]
    },
    {
      "cell_type": "markdown",
      "metadata": {
        "id": "srbS2qjYyjyD"
      },
      "source": [
        "# Bert Extractive Summarizer\n",
        "\n",
        "This works by first embedding the sentences, then running a clustering algorithm, finding the sentences that are closest to the cluster's centroids. \n",
        "\n",
        "GitHub: https://github.com/dmmiller612/bert-extractive-summarizer\n",
        "\n",
        "Paper: https://arxiv.org/abs/1906.04165 "
      ]
    },
    {
      "cell_type": "code",
      "metadata": {
        "id": "VIpkApKPoNkB"
      },
      "source": [
        "!pip install bert-extractive-summarizer==0.4.2"
      ],
      "execution_count": null,
      "outputs": []
    },
    {
      "cell_type": "code",
      "metadata": {
        "id": "NHw9ZYDloaI7"
      },
      "source": [
        "!pip install spacy\n",
        "!pip install transformers==2.2.2\n",
        "!pip install neuralcoref\n",
        "\n",
        "!python -m spacy download en_core_web_md"
      ],
      "execution_count": null,
      "outputs": []
    },
    {
      "cell_type": "code",
      "metadata": {
        "id": "FhWZxZRipE41"
      },
      "source": [
        "!pip install sentencepiece"
      ],
      "execution_count": null,
      "outputs": []
    },
    {
      "cell_type": "markdown",
      "metadata": {
        "id": "zt0Y9U6BSOH8"
      },
      "source": [
        "## Document of study\n",
        "\n",
        "We are going to apply keyword Extraction algorithms in a specific text. The idea is use always the same content to study the different results. At same time, it is important know the document to evaluate if the results are valid or not. \n",
        "\n",
        "To reach this goal, we are going to use an scientific article text. Furthermore, we removed the abstract and the keywords of the content.\n",
        "\n",
        "The authors labelled the document with the abstract and keywords:\n",
        "\n",
        "* **Abstract**: The provision of comprehensive support for traceability and control is a raising demand in some environments such as the eHealth domain where processes can be of critical importance. This paper provides a detailed and thoughtful description of a holistic platform for the characterization and control of processes in the frame of the HACCP context. Traceability features are fully integrated in the model along with support for services concerned with information for the platform users. These features are provided using already tested technologies (RESTful models, QR Codes) and low cost devices (regular smartphones).\n",
        "\n",
        "* **Keywords**: traceability, eHealth, software platform, mobile environments\n"
      ]
    },
    {
      "cell_type": "markdown",
      "metadata": {
        "id": "zuF9hHkNOHdJ"
      },
      "source": [
        "Download the text file"
      ]
    },
    {
      "cell_type": "code",
      "metadata": {
        "id": "jOzgy9l-INWF"
      },
      "source": [
        "!wget -O article.txt https://www.dropbox.com/s/1mz0ociy6ipz67q/victor_roris-worldcist2016.txt?dl=1 "
      ],
      "execution_count": null,
      "outputs": []
    },
    {
      "cell_type": "markdown",
      "metadata": {
        "id": "9Hf8Qp46Ujs_"
      },
      "source": [
        "Read the content"
      ]
    },
    {
      "cell_type": "code",
      "metadata": {
        "id": "ObFdiNydJMJ1"
      },
      "source": [
        "# Open a file: file\n",
        "content = \"\"\n",
        "with open('article.txt',mode='r') as file:\n",
        "  content = file.read()"
      ],
      "execution_count": 4,
      "outputs": []
    },
    {
      "cell_type": "code",
      "metadata": {
        "colab": {
          "base_uri": "https://localhost:8080/"
        },
        "id": "1KPCRrisJPog",
        "outputId": "0f667405-b743-43fc-a8a5-314c05c65686"
      },
      "source": [
        "print(f\"Number of words : {len(content.split())}\")\n",
        "print(\"First lines:\")\n",
        "for line in content.split(\"\\n\")[0:3]:\n",
        "  print(line)"
      ],
      "execution_count": 5,
      "outputs": [
        {
          "output_type": "stream",
          "text": [
            "Number of words : 3830\n",
            "First lines:\n",
            "﻿________________\n",
            "A telematic based approach towards the normalization of clinical praxis\n",
            "Víctor M. Alonso Rorís1, Juan M. Santos Gago1, Luis Álvarez Sabucedo1, \n"
          ],
          "name": "stdout"
        }
      ]
    },
    {
      "cell_type": "markdown",
      "metadata": {
        "id": "d_8O2a1V3bs8"
      },
      "source": [
        "## Apply \n",
        "\n",
        "```\n",
        "model = Summarizer(\n",
        "    model: This gets used by the hugging face bert library to load the model, you can supply a custom trained model here\n",
        "    custom_model: If you have a pre-trained model, you can add the model class here.\n",
        "    custom_tokenizer:  If you have a custom tokenizer, you can add the tokenizer here.\n",
        "    hidden: Needs to be negative, but allows you to pick which layer you want the embeddings to come from.\n",
        "    reduce_option: It can be 'mean', 'median', or 'max'. This reduces the embedding layer for pooling.\n",
        "    sentence_handler: The handler to process sentences. If want to use coreference, instantiate and pass CoreferenceHandler instance\n",
        ")\n",
        "\n",
        "model(\n",
        "    body: str # The string body that you want to summarize\n",
        "    ratio: float # The ratio of sentences that you want for the final summary\n",
        "    min_length: int # Parameter to specify to remove sentences that are less than 40 characters\n",
        "    max_length: int # Parameter to specify to remove sentences greater than the max length,\n",
        "    num_sentences: Number of sentences to use. Overrides ratio if supplied.\n",
        ")\n",
        "```"
      ]
    },
    {
      "cell_type": "markdown",
      "metadata": {
        "id": "YlQj3MNyzwwR"
      },
      "source": [
        "* Simple summarization"
      ]
    },
    {
      "cell_type": "code",
      "metadata": {
        "colab": {
          "base_uri": "https://localhost:8080/",
          "height": 400
        },
        "id": "MKG4lFGlgTX2",
        "outputId": "edc16ec7-b479-4e1b-9040-69186cf5b9ec"
      },
      "source": [
        "from summarizer import Summarizer\n",
        "\n",
        "model = Summarizer()\n",
        "model(content)"
      ],
      "execution_count": 4,
      "outputs": [
        {
          "output_type": "stream",
          "text": [
            "100%|██████████| 434/434 [00:00<00:00, 85461.41B/s]\n",
            "100%|██████████| 1344997306/1344997306 [01:44<00:00, 12851549.38B/s]\n",
            "100%|██████████| 231508/231508 [00:00<00:00, 321135.85B/s]\n"
          ],
          "name": "stderr"
        },
        {
          "output_type": "execute_result",
          "data": {
            "application/vnd.google.colaboratory.intrinsic+json": {
              "type": "string"
            },
            "text/plain": [
              "\"\\ufeff________________\\nA telematic based approach towards the normalization of clinical praxis\\nVíctor M. Alonso Rorís1, Juan M. Santos Gago1, Luis Álvarez Sabucedo1, \\nMateo Ramos Merino1, Javier Sanz Valero2\\n\\n\\n1 Telematic Engineering Department, University of Vigo, 36310 Vigo, Spain \\n{valonso, jsgago, lsabucedo, mateo.ramos}@gist.uvigo.es\\n2 Public Health & History of Science, University Miguel Hernandez, 03550 Alicante, Spain\\njsanz@umh.es\\n\\n1   Introduction\\nThe healthcare environment is an area in which the quality and safety of clinical procedures and practices is particularly relevant. For example, in case a patient requires to be provided with intravenous nutrition, it is especially critical to ensure the quality of the nutrient mixture supplied and the attention given [2]. The core of this system is the identification of moments or places where monitoring specific variables within procedures in order to control potential hazards. However, it is becoming more common its use in the pharmaceutical and healthcare environment [5], 6]. These records enable the application traceability mechanisms. The objective was to create a tool to carry out the implementation of controls (in systems such as HACCP) and to record the values obtained efficiently and in a cost-effective manner. Furthermore, it should allow to check and automatically analysis the recorded information in real time. Finally, in Section 5, a set of conclusions is laid. These monitoring moments or places are known as Control Points (CPs) [12]. In our system, CPs are intended to record the monitored variables and elements under control into traceable records, hereinafter, traces. Actually, this identification is usually done using labels on the entity itself or, in the case of logical entities, labeling a related area (e.g., the table where it is performed the control). These operations can be of two types, control or information. Specifically, a control operation defines variables that the user (automated agent or human) must monitor. * Security constraints: the system must ensure that this information will not be accessed without proper authorization. * Robustness: the platform must ensure its proper working and the traces collection even in adverse contexts (i.e., little or no connectivity). The client software will be able to access the server functions via secure connections (i.e., HTTPS protocol). Agents are provided with a graphic layer for user interaction. The server parses the query and gathers (and returns) the available operations. These operations are shown to the user in a list. Depending on the user's choice, the client agent requires the system description of the operation. These technologies allow the development of high-level functionality. Based on this, managers can perform better analysis and, thus, optimize effort and resources. In this case, the use of semantic technologies facilitates the implementation of  enriching  techniques for population of data using external information shared publicly on the Web (e.g., adding information about a drug component using data extracted from Wikipedia/DBPedia). Interested readers can check the performance of these techniques in previous works of authors [19]. SOPs often introduced flow diagrams in order to facilitate the understanding of certain parts of the procedures. Therefore, the HACCP system advocates only for implementing CP that are critical, also referred to as CCP (Critical Control Points). Using the proposed setup, it turns out feasible and convenient to implement the proposed technological system. In this case, the pharmacist will use the application to read the label on the bag of the PN. In addition, each requested field in the form has a description to guide the user. Using this tool, a paginated list of traces can be accessed. Screenshots of the Web client for: a) trace location on a map; b) graph for the average generation of traces per week. The system allows a simple and quick evaluation and analysis of trace generated during its application. In addition to this, the system also provides a flexible mean to access relevant information according to the specific needs of each user. Vincent, C., Taylor-Adams, S., Stanhope, N.: Framework for analysing risk and safety in clinical medicine. Journal of Parenteral and Enteral Nutrition 36(2 suppl), 20S–22S (2012)\\n3. BMJ: British Medical Journal 318(7182), 527 (1999)\\n4. American Journal of Infection Control 33(5), e39 (2005)\\n6. Sanz-Valero, J., Alvarez-Sabucedo, L., Wanden-Berghe, C., Alonso-Rorís, V. M., Santos-Gago, J. M.: SUN-PP236: Deployment of a Tag-Based System to Ensure Traceability Management of Parenteral Nutrient Mixtures. Durán, P.A., Jiménez, R.M.R., Compes, C.C., Álvarez, M.C., Lesmes, I.B., a e de Lorenzo Pinto, A., Bravo, S.B., Soriano, L.F., Peris, P.G., Sáez, M.S.: Nutrición a o parenteral domiciliaria: satisfacción de los pacientes y sus cuidadores con la unidad o de nutrición clínica y el servicio de farmacia. Fielding, R.T.: Architectural styles and the design of network-based software architectures. Ph.D. thesis, University of California, Irvine (2000)\\n17. Alonso-Rorís, V. M., Santos Gago, J. M., Pérez Rodríguez, R., Rivas Costa, C., Gómez Carballa, M. A., & Anido Rifón, L.: Information extraction in semantic, highly-structured, and semi-structured web sources.\""
            ]
          },
          "metadata": {
            "tags": []
          },
          "execution_count": 4
        }
      ]
    },
    {
      "cell_type": "markdown",
      "metadata": {
        "id": "akWJcPi3z1QW"
      },
      "source": [
        "* Specified ratio of sentences"
      ]
    },
    {
      "cell_type": "code",
      "metadata": {
        "colab": {
          "base_uri": "https://localhost:8080/",
          "height": 200
        },
        "id": "oP_yIoJPn5yH",
        "outputId": "fad9f73d-8d68-4993-e692-e229a8f895e3"
      },
      "source": [
        "from summarizer import Summarizer\n",
        "\n",
        "model = Summarizer()\n",
        "result = model(content, ratio=0.1)  # Specified with ratio\n",
        "result"
      ],
      "execution_count": 8,
      "outputs": [
        {
          "output_type": "execute_result",
          "data": {
            "application/vnd.google.colaboratory.intrinsic+json": {
              "type": "string"
            },
            "text/plain": [
              "'\\ufeff________________\\nA telematic based approach towards the normalization of clinical praxis\\nVíctor M. Alonso Rorís1, Juan M. Santos Gago1, Luis Álvarez Sabucedo1, \\nMateo Ramos Merino1, Javier Sanz Valero2\\n\\n\\n1 Telematic Engineering Department, University of Vigo, 36310 Vigo, Spain \\n{valonso, jsgago, lsabucedo, mateo.ramos}@gist.uvigo.es\\n2 Public Health & History of Science, University Miguel Hernandez, 03550 Alicante, Spain\\njsanz@umh.es\\n\\n1   Introduction\\nThe healthcare environment is an area in which the quality and safety of clinical procedures and practices is particularly relevant. However, it is becoming more common its use in the pharmaceutical and healthcare environment [5], 6]. Furthermore, it should allow to check and automatically analysis the recorded information in real time. In our system, CPs are intended to record the monitored variables and elements under control into traceable records, hereinafter, traces. Actually, this identification is usually done using labels on the entity itself or, in the case of logical entities, labeling a related area (e.g., the table where it is performed the control). * Robustness: the platform must ensure its proper working and the traces collection even in adverse contexts (i.e., little or no connectivity). The Web client allows access to the basic features of control through a common Web browser. Regarding the control process procedures, the general scheme of interaction between the client and the server follows the steps shown on Fig. As far as possible, during the modeling phase, widely recognized semantic vocabularies (e.g., FOAF or Dublin Core) were used. Client-server interaction for the invocation of a control operation. Given the scenario above presented, the CP1 will be described in the frame of the application. Once the appropriate values are introduced, the user submits the form for validation and registration. Screenshots of the Web client for: a) trace location on a map; b) graph for the average generation of traces per week. Nevertheless, the selected scenario and the advantages of the platform identified can be easily applied to any other health care environment. The proposed platform is based on control systems widely tested and broadly adopted in the community. In addition to this, the system also provides a flexible mean to access relevant information according to the specific needs of each user. Vincent, C., Taylor-Adams, S., Stanhope, N.: Framework for analysing risk and safety in clinical medicine. Journal of Parenteral and Enteral Nutrition 36(2 suppl), 20S–22S (2012)\\n3. BMJ: British Medical Journal 318(7182), 527 (1999)\\n4. Official Journal of the European Union L 331, 1998 (1998)\\n9. Sajdak, R., Trembath, L., Thomas, K.S.: The importance of Standard Operating Procedures in clinical trials.'"
            ]
          },
          "metadata": {
            "tags": []
          },
          "execution_count": 8
        }
      ]
    },
    {
      "cell_type": "markdown",
      "metadata": {
        "id": "D9o0jFJs0qmM"
      },
      "source": [
        "* Specified maximun "
      ]
    },
    {
      "cell_type": "code",
      "metadata": {
        "colab": {
          "base_uri": "https://localhost:8080/",
          "height": 34
        },
        "id": "9KXAMYYLt5Fs",
        "outputId": "4a8a85f1-cc6a-4eb6-b009-2a95cfcda6ee"
      },
      "source": [
        "from summarizer import Summarizer\n",
        "\n",
        "model = Summarizer()\n",
        "result = model(content, max_length=50) \n",
        "result"
      ],
      "execution_count": 12,
      "outputs": [
        {
          "output_type": "execute_result",
          "data": {
            "application/vnd.google.colaboratory.intrinsic+json": {
              "type": "string"
            },
            "text/plain": [
              "'Control operations can carry out a particular CP. In this model, concepts (e.g., users, CP, etc.),'"
            ]
          },
          "metadata": {
            "tags": []
          },
          "execution_count": 12
        }
      ]
    },
    {
      "cell_type": "markdown",
      "metadata": {
        "id": "OZRbQuHG1VOU"
      },
      "source": [
        "* CoReference"
      ]
    },
    {
      "cell_type": "code",
      "metadata": {
        "colab": {
          "base_uri": "https://localhost:8080/"
        },
        "id": "cTZ9YPaot_sD",
        "outputId": "aa9b820c-c989-4148-be1a-95f0b08b127f"
      },
      "source": [
        "from summarizer import Summarizer\n",
        "from summarizer.coreference_handler import CoreferenceHandler\n",
        "\n",
        "handler = CoreferenceHandler(greedyness=.4)\n",
        "# How coreference works:\n",
        "# >>>handler.process('''My sister has a dog. She loves him.''', min_length=2)\n",
        "# ['My sister has a dog.', 'My sister loves a dog.']\n",
        "\n",
        "model = Summarizer(sentence_handler=handler)\n",
        "model(content)"
      ],
      "execution_count": null,
      "outputs": [
        {
          "output_type": "stream",
          "text": [
            "/usr/lib/python3.7/importlib/_bootstrap.py:219: RuntimeWarning: spacy.morphology.Morphology size changed, may indicate binary incompatibility. Expected 104 from C header, got 112 from PyObject\n",
            "  return f(*args, **kwds)\n",
            "/usr/lib/python3.7/importlib/_bootstrap.py:219: RuntimeWarning: spacy.vocab.Vocab size changed, may indicate binary incompatibility. Expected 96 from C header, got 104 from PyObject\n",
            "  return f(*args, **kwds)\n",
            "/usr/lib/python3.7/importlib/_bootstrap.py:219: RuntimeWarning: spacy.tokens.span.Span size changed, may indicate binary incompatibility. Expected 72 from C header, got 80 from PyObject\n",
            "  return f(*args, **kwds)\n"
          ],
          "name": "stderr"
        }
      ]
    },
    {
      "cell_type": "markdown",
      "metadata": {
        "id": "DEITcEPi1h1e"
      },
      "source": [
        "* Custom model"
      ]
    },
    {
      "cell_type": "code",
      "metadata": {
        "colab": {
          "base_uri": "https://localhost:8080/",
          "height": 84
        },
        "id": "z6UnlUTJvlpo",
        "outputId": "3008f7b8-d6e3-4ce0-cbde-a5af8146df05"
      },
      "source": [
        "from transformers import *\n",
        "\n",
        "# Load model, model config and tokenizer via Transformers\n",
        "custom_config = AutoConfig.from_pretrained('gpt2')\n",
        "custom_config.output_hidden_states=True\n",
        "custom_tokenizer = AutoTokenizer.from_pretrained('gpt2')\n",
        "custom_model = AutoModel.from_pretrained('gpt2', config=custom_config)\n",
        "\n",
        "from summarizer import Summarizer\n",
        "\n",
        "model = Summarizer(custom_model=custom_model, custom_tokenizer=custom_tokenizer)\n",
        "model(content, max_length=100)"
      ],
      "execution_count": 6,
      "outputs": [
        {
          "output_type": "execute_result",
          "data": {
            "application/vnd.google.colaboratory.intrinsic+json": {
              "type": "string"
            },
            "text/plain": [
              "'The arise of situations and risks not properly tackled may put at stake the life of patients [1]. These records enable the application traceability mechanisms. This URI will be generated by the system and will uniquely identify one single entity. Control operations can carry out a particular CP. These operations are represented as resources in the REST server interface. In this model, concepts (e.g., users, CP, etc.), Regretfully, the implementation of a CP is often a costly procedure. Given the scenario above presented, the CP1 will be described in the frame of the application. Additionally, the log of traces also provides detailed information on any procedure. Therefore, it is possible to take full advantage of process mining tools as ProM[1]. The CPs application allows to minimize deviations in the standard processes. This feature may strengthen the knowledge of professionals involved. Journal of Parenteral and Enteral Nutrition 36(2 suppl), 20S–22S (2012)\\n3. Springer Science & Business Media (2012)\\n5. American Journal of Infection Control 33(5), e39 (2005)\\n6. Quality Management and Quality Assurance-Vocabulary (1995)\\n8. Boullata, J.I.: Overview of the parenteral nutrition use process. ________________\\n[1] http://www.processmining.org/prom/start'"
            ]
          },
          "metadata": {
            "tags": []
          },
          "execution_count": 6
        }
      ]
    },
    {
      "cell_type": "code",
      "metadata": {
        "id": "Wcj56CKGyOvw"
      },
      "source": [
        ""
      ],
      "execution_count": null,
      "outputs": []
    }
  ]
}