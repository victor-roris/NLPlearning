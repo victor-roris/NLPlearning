{
  "nbformat": 4,
  "nbformat_minor": 0,
  "metadata": {
    "colab": {
      "name": "Summarization-PyTextRank.ipynb",
      "provenance": [],
      "collapsed_sections": [],
      "authorship_tag": "ABX9TyMnM6Yb3/xcuxgF5ZVqtcsi",
      "include_colab_link": true
    },
    "kernelspec": {
      "name": "python3",
      "display_name": "Python 3"
    },
    "language_info": {
      "name": "python"
    }
  },
  "cells": [
    {
      "cell_type": "markdown",
      "metadata": {
        "id": "view-in-github",
        "colab_type": "text"
      },
      "source": [
        "<a href=\"https://colab.research.google.com/github/victor-roris/NLPlearning/blob/master/summarization-keywords/Summarization_PyTextRank.ipynb\" target=\"_parent\"><img src=\"https://colab.research.google.com/assets/colab-badge.svg\" alt=\"Open In Colab\"/></a>"
      ]
    },
    {
      "cell_type": "markdown",
      "metadata": {
        "id": "srbS2qjYyjyD"
      },
      "source": [
        "# PyTextRank\n",
        "\n",
        "PyTextRank is a Python implementation of TextRank as a spaCy pipeline extension, for graph-based natural language work -- and related knowledge graph practices. This includes the textgraphs algorithms:\n",
        "\n",
        " - TextRank by [mihalcea04textrank]\n",
        " - PositionRank by [florescuc17]\n",
        " - Biased TextRank by [kazemi-etal-2020-biased]\n",
        "\n",
        "\n",
        " \n",
        "\n",
        " GitHub: https://github.com/DerwenAI/pytextrank\n",
        "\n",
        " Documentation: https://derwen.ai/docs/ptr/ \n",
        "\n",
        " Spacy: https://spacy.io/universe/project/spacy-pytextrank"
      ]
    },
    {
      "cell_type": "markdown",
      "metadata": {
        "id": "3eTdHnLYTFgA"
      },
      "source": [
        "## Install"
      ]
    },
    {
      "cell_type": "code",
      "metadata": {
        "id": "VIpkApKPoNkB"
      },
      "source": [
        "! pip install pytextrank\n",
        "! pip install 'graphviz>=0.13'\n",
        "! pip install 'networkx >= 2.0'\n",
        "! pip install 'spacy >= 2.0'"
      ],
      "execution_count": null,
      "outputs": []
    },
    {
      "cell_type": "code",
      "metadata": {
        "id": "N_D2TLh5I1vQ"
      },
      "source": [
        "!python -m spacy download en_core_web_md"
      ],
      "execution_count": null,
      "outputs": []
    },
    {
      "cell_type": "markdown",
      "metadata": {
        "id": "zt0Y9U6BSOH8"
      },
      "source": [
        "## Document of study\n",
        "\n",
        "We are going to apply keyword Extraction algorithms in a specific text. The idea is use always the same content to study the different results. At same time, it is important know the document to evaluate if the results are valid or not. \n",
        "\n",
        "To reach this goal, we are going to use an scientific article text. Furthermore, we removed the abstract and the keywords of the content.\n",
        "\n",
        "The authors labelled the document with the abstract and keywords:\n",
        "\n",
        "* **Abstract**: The provision of comprehensive support for traceability and control is a raising demand in some environments such as the eHealth domain where processes can be of critical importance. This paper provides a detailed and thoughtful description of a holistic platform for the characterization and control of processes in the frame of the HACCP context. Traceability features are fully integrated in the model along with support for services concerned with information for the platform users. These features are provided using already tested technologies (RESTful models, QR Codes) and low cost devices (regular smartphones).\n",
        "\n",
        "* **Keywords**: traceability, eHealth, software platform, mobile environments\n"
      ]
    },
    {
      "cell_type": "markdown",
      "metadata": {
        "id": "zuF9hHkNOHdJ"
      },
      "source": [
        "Download the text file"
      ]
    },
    {
      "cell_type": "code",
      "metadata": {
        "id": "jOzgy9l-INWF"
      },
      "source": [
        "!wget -O article.txt https://www.dropbox.com/s/1mz0ociy6ipz67q/victor_roris-worldcist2016.txt?dl=1 "
      ],
      "execution_count": null,
      "outputs": []
    },
    {
      "cell_type": "markdown",
      "metadata": {
        "id": "9Hf8Qp46Ujs_"
      },
      "source": [
        "Read the content"
      ]
    },
    {
      "cell_type": "code",
      "metadata": {
        "id": "ObFdiNydJMJ1"
      },
      "source": [
        "# Open a file: file\n",
        "content = \"\"\n",
        "with open('article.txt',mode='r') as file:\n",
        "  content = file.read()"
      ],
      "execution_count": 1,
      "outputs": []
    },
    {
      "cell_type": "code",
      "metadata": {
        "colab": {
          "base_uri": "https://localhost:8080/"
        },
        "id": "1KPCRrisJPog",
        "outputId": "5995d741-e021-40cb-8790-7eb368994665"
      },
      "source": [
        "print(f\"Number of words : {len(content.split())}\")\n",
        "print(\"First lines:\")\n",
        "for line in content.split(\"\\n\")[0:3]:\n",
        "  print(line)"
      ],
      "execution_count": 2,
      "outputs": [
        {
          "output_type": "stream",
          "text": [
            "Number of words : 3830\n",
            "First lines:\n",
            "﻿________________\n",
            "A telematic based approach towards the normalization of clinical praxis\n",
            "Víctor M. Alonso Rorís1, Juan M. Santos Gago1, Luis Álvarez Sabucedo1, \n"
          ],
          "name": "stdout"
        }
      ]
    },
    {
      "cell_type": "markdown",
      "metadata": {
        "id": "M8U-dmqlIS9v"
      },
      "source": [
        "## Applying PyTextRank"
      ]
    },
    {
      "cell_type": "markdown",
      "metadata": {
        "id": "ot1RcReVOabp"
      },
      "source": [
        "* Spacy direct integration"
      ]
    },
    {
      "cell_type": "code",
      "metadata": {
        "colab": {
          "base_uri": "https://localhost:8080/"
        },
        "id": "mlBVwLaUKMfj",
        "outputId": "3bb4f726-f9a9-4d8e-fb6d-e90851e4f859"
      },
      "source": [
        "import spacy\n",
        "import pytextrank\n",
        "\n",
        "nlp = spacy.load('en_core_web_md')\n",
        "\n",
        "nlp.add_pipe(\"textrank\")\n",
        "doc = nlp(content)\n",
        "\n",
        "tr = doc._.textrank\n",
        "\n",
        "for sent in tr.summary(limit_phrases=15, limit_sentences=5):\n",
        "  print(sent)"
      ],
      "execution_count": 24,
      "outputs": [
        {
          "output_type": "stream",
          "text": [
            "These operations can be of two types, control or information.\n",
            "Conversely, information operations are intended to retrieve relevant resources for the human user associated with the entity (e.g., video tutorials, manuals, brochures, etc.), a paramount feature nowadays [15].\n",
            "The proposed platform is based on control systems widely tested and broadly adopted in the community.\n",
            "Nevertheless, it is common that health practitioners initially record data on paper and then they transfer it to information technology based systems [9].\n",
            "The proper implementation of the proposed system should allow to meet different objectives: monitoring adherence to procedures, risk control, traceability of entities and even behavioral analysis for continuous optimization and decision making procedures.\n"
          ],
          "name": "stdout"
        }
      ]
    },
    {
      "cell_type": "markdown",
      "metadata": {
        "id": "ISPm6fMARKr8"
      },
      "source": [
        "* Adding stopwords"
      ]
    },
    {
      "cell_type": "code",
      "metadata": {
        "colab": {
          "base_uri": "https://localhost:8080/"
        },
        "id": "IswMiZ_AP5lT",
        "outputId": "3d769ad4-488c-4d5b-b956-af7adf4c7698"
      },
      "source": [
        "nlp = spacy.load(\"en_core_web_sm\")\n",
        "nlp.add_pipe(\"textrank\", config={ \"stopwords\": { \"word\": [\"NOUN\"] } })\n",
        "\n",
        "doc = nlp(content)\n",
        "\n",
        "tr = doc._.textrank\n",
        "\n",
        "for sent in tr.summary(limit_phrases=15, limit_sentences=5):\n",
        "  print(sent)"
      ],
      "execution_count": 50,
      "outputs": [
        {
          "output_type": "stream",
          "text": [
            "These operations can be of two types, control or information.\n",
            "Conversely, information operations are intended to retrieve relevant resources for the human user associated with the entity (e.g., video tutorials, manuals, brochures, etc.), a paramount feature nowadays\n",
            "The proposed platform is based on control systems widely tested and broadly adopted in the community.\n",
            "and then they transfer it to information technology based systems [9].\n",
            "\n",
            "described and tested as a use case in the context of PN mixtures.\n"
          ],
          "name": "stdout"
        }
      ]
    },
    {
      "cell_type": "markdown",
      "metadata": {
        "id": "4cNT2YRHQ7v3"
      },
      "source": [
        "* Position Rank\n",
        "\n",
        "The PositionRank enhanced algorithm is simple to use in the spaCy pipeline and it supports all of the other features described above:"
      ]
    },
    {
      "cell_type": "code",
      "metadata": {
        "colab": {
          "base_uri": "https://localhost:8080/"
        },
        "id": "JxWRDDwfQy38",
        "outputId": "7326d8a3-1820-40bf-fe6a-3425b86494de"
      },
      "source": [
        "nlp = spacy.load(\"en_core_web_sm\")\n",
        "nlp.add_pipe(\"positionrank\")\n",
        "\n",
        "doc = nlp(content)\n",
        "\n",
        "tr = doc._.textrank\n",
        "\n",
        "for sent in tr.summary(limit_phrases=15, limit_sentences=5):\n",
        "  print(sent)"
      ],
      "execution_count": 51,
      "outputs": [
        {
          "output_type": "stream",
          "text": [
            "A telematic based approach towards the normalization of clinical praxis\n",
            "Víctor M. Alonso Rorís1, Juan M. Santos Gago1, Luis Álvarez Sabucedo1, \n",
            "Mateo Ramos Merino1, Javier Sanz Valero2\n",
            "Alonso-Rorís, V. M., Santos Gago, J. M., Pérez Rodríguez, R., Rivas Costa, C., Gómez Carballa, M. A., & Anido Rifón, L.: Information extraction in semantic, highly-structured, and semi-structured web sources.\n",
            "Sanz-Valero, J., Alvarez-Sabucedo, L., Wanden-Berghe, C., Alonso-Rorís, V. M., Santos-Gago, J. M.: SUN-PP236:\n",
            "These operations can be of two types, control or information.\n",
            "and then they transfer it to information technology based systems [9].\n"
          ],
          "name": "stdout"
        }
      ]
    },
    {
      "cell_type": "markdown",
      "metadata": {
        "id": "6QXOcttzOcdL"
      },
      "source": [
        "* Summarization explanation\n",
        "\n",
        "https://github.com/DerwenAI/pytextrank/blob/main/examples/explain_summ.ipynb"
      ]
    },
    {
      "cell_type": "code",
      "metadata": {
        "colab": {
          "base_uri": "https://localhost:8080/"
        },
        "id": "iJYzcvwyKiHW",
        "outputId": "8a8b29bf-c526-4b45-d8c3-0afcc95809cc"
      },
      "source": [
        "import spacy\n",
        "import pytextrank\n",
        "\n",
        "# load a spaCy model, depending on language, scale, etc.\n",
        "nlp = spacy.load(\"en_core_web_md\")\n",
        "\n",
        "# add PyTextRank to the spaCy pipeline\n",
        "nlp.add_pipe(\"textrank\")\n",
        "doc = nlp(content)\n",
        "\n",
        "# examine the top-ranked phrases in the document\n",
        "for phrase in doc._.phrases[:10]:\n",
        "    print(phrase.text)\n",
        "    print(phrase.rank, phrase.count)\n",
        "    print(phrase.chunks)"
      ],
      "execution_count": 41,
      "outputs": [
        {
          "output_type": "stream",
          "text": [
            "Control operations\n",
            "0.0692218951939302 1\n",
            "[Control operations]\n",
            "information operations\n",
            "0.06713421040434547 1\n",
            "[information operations]\n",
            "control systems\n",
            "0.0666589433849378 1\n",
            "[control systems]\n",
            "information technology based systems\n",
            "0.06378624740036501 1\n",
            "[information technology based systems]\n",
            "risk control\n",
            "0.0568668007951074 1\n",
            "[risk control]\n",
            "clinical procedures\n",
            "0.05678111224612967 1\n",
            "[clinical procedures]\n",
            "PN mixtures\n",
            "0.05672523544618933 1\n",
            "[PN mixtures]\n",
            "quality control\n",
            "0.05602853508691536 1\n",
            "[quality control]\n",
            "parenteral nutrition systems\n",
            "0.05576636898434965 1\n",
            "[parenteral nutrition systems]\n",
            "retrieved operations\n",
            "0.05565472628605673 1\n",
            "[retrieved operations]\n"
          ],
          "name": "stdout"
        }
      ]
    },
    {
      "cell_type": "code",
      "metadata": {
        "colab": {
          "base_uri": "https://localhost:8080/"
        },
        "id": "Hm9gFj4nLyX4",
        "outputId": "d05789e0-720b-42c3-cb64-09ac299d7705"
      },
      "source": [
        "sent_bounds = [ [s.start, s.end, set([])] for s in doc.sents ]\n",
        "sent_bounds[:10]"
      ],
      "execution_count": 42,
      "outputs": [
        {
          "output_type": "execute_result",
          "data": {
            "text/plain": [
              "[[0, 18, set()],\n",
              " [18, 51, set()],\n",
              " [51, 88, set()],\n",
              " [88, 92, set()],\n",
              " [92, 98, set()],\n",
              " [98, 119, set()],\n",
              " [119, 140, set()],\n",
              " [140, 176, set()],\n",
              " [176, 208, set()],\n",
              " [208, 227, set()]]"
            ]
          },
          "metadata": {
            "tags": []
          },
          "execution_count": 42
        }
      ]
    },
    {
      "cell_type": "code",
      "metadata": {
        "id": "BOPy7BAOL2MN"
      },
      "source": [
        "from icecream import ic\n",
        "limit_phrases = 20\n",
        "\n",
        "phrase_id = 0\n",
        "unit_vector = []\n",
        "\n",
        "for p in doc._.phrases:\n",
        "    # ic(phrase_id, p.text, p.rank)\n",
        "\n",
        "    unit_vector.append(p.rank)\n",
        "\n",
        "    for chunk in p.chunks:\n",
        "        # ic(chunk.start, chunk.end)\n",
        "\n",
        "        for sent_start, sent_end, sent_vector in sent_bounds:\n",
        "            if chunk.start >= sent_start and chunk.end <= sent_end:\n",
        "                # ic(sent_start, chunk.start, chunk.end, sent_end)\n",
        "                sent_vector.add(phrase_id)\n",
        "                break\n",
        "\n",
        "    phrase_id += 1\n",
        "\n",
        "    if phrase_id == limit_phrases:\n",
        "        break"
      ],
      "execution_count": 52,
      "outputs": []
    },
    {
      "cell_type": "code",
      "metadata": {
        "colab": {
          "base_uri": "https://localhost:8080/"
        },
        "id": "TFUwH7hHMFjv",
        "outputId": "0c88dc4e-a8c0-4ca2-838f-53a13fef7210"
      },
      "source": [
        "sum_ranks = sum(unit_vector)\n",
        "\n",
        "unit_vector = [ rank/sum_ranks for rank in unit_vector ]\n",
        "unit_vector"
      ],
      "execution_count": 53,
      "outputs": [
        {
          "output_type": "execute_result",
          "data": {
            "text/plain": [
              "[0.05920502879104255,\n",
              " 0.057683882543991476,\n",
              " 0.05748537258313386,\n",
              " 0.05709711234886287,\n",
              " 0.056834103217638994,\n",
              " 0.05469871302611156,\n",
              " 0.054325899299362976,\n",
              " 0.05423774442452605,\n",
              " 0.051859279701128934,\n",
              " 0.05149099560511139,\n",
              " 0.050921248436766195,\n",
              " 0.04866858649573457,\n",
              " 0.04757708489163605,\n",
              " 0.04494377818406676,\n",
              " 0.042761898406489016,\n",
              " 0.042761898406489016,\n",
              " 0.0427323129846172,\n",
              " 0.04205451910884827,\n",
              " 0.04139611711965353,\n",
              " 0.04126442442478851]"
            ]
          },
          "metadata": {
            "tags": []
          },
          "execution_count": 53
        }
      ]
    },
    {
      "cell_type": "code",
      "metadata": {
        "id": "v7F94J4zMLBW"
      },
      "source": [
        "from math import sqrt\n",
        "\n",
        "sent_rank = {}\n",
        "sent_id = 0\n",
        "\n",
        "for sent_start, sent_end, sent_vector in sent_bounds:\n",
        "    # ic(sent_vector)\n",
        "    sum_sq = 0.0\n",
        "    # ic\n",
        "    for phrase_id in range(len(unit_vector)):\n",
        "        # ic(phrase_id, unit_vector[phrase_id])\n",
        "\n",
        "        if phrase_id not in sent_vector:\n",
        "            sum_sq += unit_vector[phrase_id]**2.0\n",
        "\n",
        "    sent_rank[sent_id] = sqrt(sum_sq)\n",
        "    sent_id += 1"
      ],
      "execution_count": 54,
      "outputs": []
    },
    {
      "cell_type": "code",
      "metadata": {
        "id": "LxVBwU4NMQWt"
      },
      "source": [
        "from operator import itemgetter\n",
        "\n",
        "sorted(sent_rank.items(), key=itemgetter(1)) \n",
        "\n",
        "pass"
      ],
      "execution_count": 55,
      "outputs": []
    },
    {
      "cell_type": "code",
      "metadata": {
        "colab": {
          "base_uri": "https://localhost:8080/"
        },
        "id": "Z6Qw6--ILOMI",
        "outputId": "27861fb6-a208-4e7c-b64a-85829300a6f8"
      },
      "source": [
        "limit_sentences = 5\n",
        "\n",
        "sent_text = {}\n",
        "sent_id = 0\n",
        "\n",
        "for sent in doc.sents:\n",
        "    sent_text[sent_id] = sent.text\n",
        "    sent_id += 1\n",
        "\n",
        "num_sent = 0\n",
        "\n",
        "for sent_id, rank in sorted(sent_rank.items(), key=itemgetter(1)):\n",
        "    ic(sent_id, sent_text[sent_id])\n",
        "    num_sent += 1\n",
        "\n",
        "    if num_sent == limit_sentences:\n",
        "        break"
      ],
      "execution_count": 56,
      "outputs": [
        {
          "output_type": "stream",
          "text": [
            "ic| sent_id: 1\n",
            "    sent_text[sent_id]: ('A telematic based approach towards the normalization of clinical praxis\n",
            "                        '\n",
            "                         'Víctor M. Alonso Rorís1, Juan M. Santos Gago1, Luis Álvarez Sabucedo1, \n",
            "                        '\n",
            "                         'Mateo Ramos Merino1, Javier Sanz Valero2')\n",
            "ic| sent_id: 268\n",
            "    sent_text[sent_id]: 'In Annals of Nutrition and Metabolism 63, 366-367 (2013).'\n",
            "ic| sent_id: 24\n",
            "    sent_text[sent_id]: ('In addition, these information systems are often ad-hoc telematics '\n",
            "                         'solutions, designed to cover only specific tasks (e.g., prescription and '\n",
            "                         'adherence to treatment).')\n",
            "ic| sent_id: 69\n",
            "    sent_text[sent_id]: ('Specifically, a control operation defines variables that the user (automated '\n",
            "                         'agent or human) must monitor.')\n",
            "ic| sent_id: 214\n",
            "    sent_text[sent_id]: '\n",
            "                         '\n"
          ],
          "name": "stderr"
        }
      ]
    },
    {
      "cell_type": "code",
      "metadata": {
        "id": "ixhAyk4PK335"
      },
      "source": [
        ""
      ],
      "execution_count": null,
      "outputs": []
    }
  ]
}