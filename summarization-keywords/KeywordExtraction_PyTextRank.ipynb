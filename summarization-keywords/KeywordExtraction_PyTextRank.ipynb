{
  "nbformat": 4,
  "nbformat_minor": 0,
  "metadata": {
    "colab": {
      "name": "KeywordExtraction-PyTextRank.ipynb",
      "provenance": [],
      "authorship_tag": "ABX9TyNsw4aVSM0+C1B3KqwyunMV",
      "include_colab_link": true
    },
    "kernelspec": {
      "name": "python3",
      "display_name": "Python 3"
    },
    "language_info": {
      "name": "python"
    }
  },
  "cells": [
    {
      "cell_type": "markdown",
      "metadata": {
        "id": "view-in-github",
        "colab_type": "text"
      },
      "source": [
        "<a href=\"https://colab.research.google.com/github/victor-roris/NLPlearning/blob/master/summarization-keywords/KeywordExtraction_PyTextRank.ipynb\" target=\"_parent\"><img src=\"https://colab.research.google.com/assets/colab-badge.svg\" alt=\"Open In Colab\"/></a>"
      ]
    },
    {
      "cell_type": "markdown",
      "metadata": {
        "id": "ne5qZEXCY5YI"
      },
      "source": [
        "# Keyword Extraction: PyTextRank\n",
        "\n",
        "PyTextRank is a Python implementation of TextRank as a spaCy pipeline extension, for graph-based natural language work -- and related knowledge graph practices.\n",
        "\n",
        "https://github.com/DerwenAI/pytextrank"
      ]
    },
    {
      "cell_type": "markdown",
      "metadata": {
        "id": "eekdMyR-W0Rs"
      },
      "source": [
        "## Install"
      ]
    },
    {
      "cell_type": "code",
      "metadata": {
        "id": "e4GCNtcfWzjQ"
      },
      "source": [
        "!python3 -m pip install pytextrank\n",
        "!python3 -m spacy download en_core_web_sm"
      ],
      "execution_count": null,
      "outputs": []
    },
    {
      "cell_type": "markdown",
      "metadata": {
        "id": "zt0Y9U6BSOH8"
      },
      "source": [
        "## Document of study\n",
        "\n",
        "We are going to apply keyword Extraction algorithms in a specific text. The idea is use always the same content to study the different results. At same time, it is important know the document to evaluate if the results are valid or not. \n",
        "\n",
        "To reach this goal, we are going to use an scientific article text. Furthermore, we remove the abstract and the keywords of the content.\n",
        "\n",
        "The authors labelled the document with the keywords:\n",
        "\n",
        " ```traceability, eHealth, software platform, mobile environments```\n"
      ]
    },
    {
      "cell_type": "markdown",
      "metadata": {
        "id": "zuF9hHkNOHdJ"
      },
      "source": [
        "Download the text file"
      ]
    },
    {
      "cell_type": "code",
      "metadata": {
        "colab": {
          "base_uri": "https://localhost:8080/"
        },
        "id": "jOzgy9l-INWF",
        "outputId": "61449705-07bc-4d1a-a85e-043c0af151ac"
      },
      "source": [
        "!wget -O article.txt https://www.dropbox.com/s/1mz0ociy6ipz67q/victor_roris-worldcist2016.txt?dl=1 "
      ],
      "execution_count": 1,
      "outputs": [
        {
          "output_type": "stream",
          "text": [
            "--2021-05-18 16:42:35--  https://www.dropbox.com/s/1mz0ociy6ipz67q/victor_roris-worldcist2016.txt?dl=1\n",
            "Resolving www.dropbox.com (www.dropbox.com)... 162.125.5.18, 2620:100:601d:18::a27d:512\n",
            "Connecting to www.dropbox.com (www.dropbox.com)|162.125.5.18|:443... connected.\n",
            "HTTP request sent, awaiting response... 301 Moved Permanently\n",
            "Location: /s/dl/1mz0ociy6ipz67q/victor_roris-worldcist2016.txt [following]\n",
            "--2021-05-18 16:42:35--  https://www.dropbox.com/s/dl/1mz0ociy6ipz67q/victor_roris-worldcist2016.txt\n",
            "Reusing existing connection to www.dropbox.com:443.\n",
            "HTTP request sent, awaiting response... 302 Found\n",
            "Location: https://ucdbdd153ed6af8968a991d8c1b2.dl.dropboxusercontent.com/cd/0/get/BOslMCIn177vOlgpJRMfGrzJDlGT-0xBw2QqSplMuHD1YVnIrLQqyAWBYxlctmRRc0tOFp9yegleA3dAXToxuvoC7Hei50gYLvSWDC7es6d5SEjHEowzy8jDzl2tjLKS_mlHjfdJY56BQ6aRwjhs5njC/file?dl=1# [following]\n",
            "--2021-05-18 16:42:36--  https://ucdbdd153ed6af8968a991d8c1b2.dl.dropboxusercontent.com/cd/0/get/BOslMCIn177vOlgpJRMfGrzJDlGT-0xBw2QqSplMuHD1YVnIrLQqyAWBYxlctmRRc0tOFp9yegleA3dAXToxuvoC7Hei50gYLvSWDC7es6d5SEjHEowzy8jDzl2tjLKS_mlHjfdJY56BQ6aRwjhs5njC/file?dl=1\n",
            "Resolving ucdbdd153ed6af8968a991d8c1b2.dl.dropboxusercontent.com (ucdbdd153ed6af8968a991d8c1b2.dl.dropboxusercontent.com)... 162.125.5.15, 2620:100:601d:15::a27d:50f\n",
            "Connecting to ucdbdd153ed6af8968a991d8c1b2.dl.dropboxusercontent.com (ucdbdd153ed6af8968a991d8c1b2.dl.dropboxusercontent.com)|162.125.5.15|:443... connected.\n",
            "HTTP request sent, awaiting response... 200 OK\n",
            "Length: 25142 (25K) [application/binary]\n",
            "Saving to: ‘article.txt’\n",
            "\n",
            "article.txt         100%[===================>]  24.55K  --.-KB/s    in 0.01s   \n",
            "\n",
            "2021-05-18 16:42:36 (1.68 MB/s) - ‘article.txt’ saved [25142/25142]\n",
            "\n"
          ],
          "name": "stdout"
        }
      ]
    },
    {
      "cell_type": "markdown",
      "metadata": {
        "id": "9Hf8Qp46Ujs_"
      },
      "source": [
        "Read the content"
      ]
    },
    {
      "cell_type": "code",
      "metadata": {
        "id": "ObFdiNydJMJ1"
      },
      "source": [
        "# Open a file: file\n",
        "content = \"\"\n",
        "with open('article.txt',mode='r') as file:\n",
        "  content = file.read()"
      ],
      "execution_count": 2,
      "outputs": []
    },
    {
      "cell_type": "code",
      "metadata": {
        "colab": {
          "base_uri": "https://localhost:8080/"
        },
        "id": "1KPCRrisJPog",
        "outputId": "353d7baf-45ba-48cf-8749-95a063f6b71e"
      },
      "source": [
        "print(f\"Number of words : {len(content.split())}\")\n",
        "print(\"First lines:\")\n",
        "for line in content.split(\"\\n\")[0:3]:\n",
        "  print(line)"
      ],
      "execution_count": 3,
      "outputs": [
        {
          "output_type": "stream",
          "text": [
            "Number of words : 3830\n",
            "First lines:\n",
            "﻿________________\n",
            "A telematic based approach towards the normalization of clinical praxis\n",
            "Víctor M. Alonso Rorís1, Juan M. Santos Gago1, Luis Álvarez Sabucedo1, \n"
          ],
          "name": "stdout"
        }
      ]
    },
    {
      "cell_type": "markdown",
      "metadata": {
        "id": "mED0J8V_YzRF"
      },
      "source": [
        "## Apply PyTextRank"
      ]
    },
    {
      "cell_type": "code",
      "metadata": {
        "colab": {
          "base_uri": "https://localhost:8080/"
        },
        "id": "pKK8WexSW3ip",
        "outputId": "6ef31944-412f-4d05-e044-5713a98a8324"
      },
      "source": [
        "import spacy\n",
        "import pytextrank\n",
        "\n",
        "# load a spaCy model, depending on language, scale, etc.\n",
        "nlp = spacy.load(\"en_core_web_sm\")\n",
        "\n",
        "# add PyTextRank to the spaCy pipeline\n",
        "nlp.add_pipe(\"textrank\")\n",
        "doc = nlp(content)\n",
        "\n",
        "# examine the top-ranked phrases in the document\n",
        "for phrase in doc._.phrases[:30]:\n",
        "    print(f\"{phrase.rank} [{phrase.count}] - {phrase.text} \")\n",
        "    # print(phrase.text)\n",
        "    # print(phrase.rank, phrase.count)\n",
        "    # print(phrase.chunks)"
      ],
      "execution_count": 11,
      "outputs": [
        {
          "output_type": "stream",
          "text": [
            "0.06908662283267589 [1] - Control operations \n",
            "0.06711582979014034 [1] - information operations \n",
            "0.0662125006066488 [1] - control systems \n",
            "0.06271602051563677 [1] - information technology based systems \n",
            "0.056733401344694415 [1] - PN mixtures \n",
            "0.05586271213252548 [1] - retrieved operations \n",
            "0.05553864907672241 [1] - quality control \n",
            "0.055208689127812974 [1] - parenteral nutrition systems \n",
            "0.055124648946672634 [1] - clinical procedures \n",
            "0.054613942966723894 [1] - available operations \n",
            "0.05407890518475183 [1] - operation \n",
            "0.05380411646683115 [1] - user interaction \n",
            "0.05288721780509846 [1] - user interfaces \n",
            "0.05257426747557876 [1] - custom operations \n",
            "0.051867361767645975 [3] - human users \n",
            "0.050522848925386894 [1] - Users \n",
            "0.050522848925386894 [1] - user \n",
            "0.050522848925386894 [3] - users \n",
            "0.049870366861619976 [1] - systems \n",
            "0.0494474837605119 [5] - control \n",
            "0.0494474837605119 [2] - controls \n",
            "0.04912018329333925 [3] - PN \n",
            "0.04846429843913181 [4] - procedures \n",
            "0.0481378517150492 [1] - discarded PN \n",
            "0.04806830324548428 [1] - relevant information \n",
            "0.04774410521751993 [1] - trace \n",
            "0.04774410521751993 [9] - traces \n",
            "0.047050382433755755 [1] - historical traces \n",
            "0.04693870263096662 [1] - health care processes \n",
            "0.04646596386408706 [1] - detailed information \n"
          ],
          "name": "stdout"
        }
      ]
    },
    {
      "cell_type": "code",
      "metadata": {
        "id": "krCuRE9rXYr5"
      },
      "source": [
        ""
      ],
      "execution_count": null,
      "outputs": []
    }
  ]
}